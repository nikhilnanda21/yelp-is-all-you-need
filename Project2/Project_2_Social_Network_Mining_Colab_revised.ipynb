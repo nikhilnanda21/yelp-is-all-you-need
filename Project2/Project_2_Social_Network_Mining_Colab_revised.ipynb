{
  "nbformat": 4,
  "nbformat_minor": 0,
  "metadata": {
    "kernelspec": {
      "name": "python3",
      "display_name": "Python 3"
    },
    "colab": {
      "name": "Project_2_Social_Network_Mining_Colab_revised.ipynb",
      "provenance": [],
      "collapsed_sections": [],
      "toc_visible": true
    },
    "language_info": {
      "name": "python"
    }
  },
  "cells": [
    {
      "cell_type": "markdown",
      "metadata": {
        "id": "8K5HhpISytlA"
      },
      "source": [
        "# Goal: 93.10%"
      ]
    },
    {
      "cell_type": "markdown",
      "metadata": {
        "id": "S_vawuMiESXm"
      },
      "source": [
        "# Data Loader"
      ]
    },
    {
      "cell_type": "code",
      "metadata": {
        "id": "QFyk3g1R1Llm"
      },
      "source": [
        "!wget -q https://hkustconnect-my.sharepoint.com/:u:/g/personal/nnanda_connect_ust_hk/EQodPFqgjvtLp-ux1_vmqf4Bz5Q1pn3Gk1VT0CNpzN1EwA?download=1 -O \"Project 2 - data.zip\"\n",
        "!unzip -q \"Project 2 - data.zip\""
      ],
      "execution_count": 1,
      "outputs": []
    },
    {
      "cell_type": "markdown",
      "metadata": {
        "id": "fzKZjVWoEVf0"
      },
      "source": [
        "# Import Required Libraries"
      ]
    },
    {
      "cell_type": "code",
      "metadata": {
        "colab": {
          "base_uri": "https://localhost:8080/"
        },
        "id": "_ORLY5vT55sa",
        "outputId": "ff23a6fd-716b-40c8-828b-5680a3689f61"
      },
      "source": [
        "!pip install --upgrade gensim"
      ],
      "execution_count": 2,
      "outputs": [
        {
          "output_type": "stream",
          "text": [
            "Collecting gensim\n",
            "\u001b[?25l  Downloading https://files.pythonhosted.org/packages/44/52/f1417772965652d4ca6f901515debcd9d6c5430969e8c02ee7737e6de61c/gensim-4.0.1-cp37-cp37m-manylinux1_x86_64.whl (23.9MB)\n",
            "\u001b[K     |████████████████████████████████| 23.9MB 1.7MB/s \n",
            "\u001b[?25hRequirement already satisfied, skipping upgrade: numpy>=1.11.3 in /usr/local/lib/python3.7/dist-packages (from gensim) (1.19.5)\n",
            "Requirement already satisfied, skipping upgrade: scipy>=0.18.1 in /usr/local/lib/python3.7/dist-packages (from gensim) (1.4.1)\n",
            "Requirement already satisfied, skipping upgrade: smart-open>=1.8.1 in /usr/local/lib/python3.7/dist-packages (from gensim) (5.0.0)\n",
            "Installing collected packages: gensim\n",
            "  Found existing installation: gensim 3.6.0\n",
            "    Uninstalling gensim-3.6.0:\n",
            "      Successfully uninstalled gensim-3.6.0\n",
            "Successfully installed gensim-4.0.1\n"
          ],
          "name": "stdout"
        }
      ]
    },
    {
      "cell_type": "code",
      "metadata": {
        "colab": {
          "base_uri": "https://localhost:8080/"
        },
        "id": "odYmJidmyn47",
        "outputId": "eb3ada36-e536-4ecc-b032-81203e5cea2e"
      },
      "source": [
        "import networkx as nx\n",
        "import numpy as np\n",
        "import os\n",
        "import time\n",
        "import pandas as pd\n",
        "import matplotlib.pyplot as plt\n",
        "from itertools import chain\n",
        "from collections import defaultdict\n",
        "from gensim.models import Word2Vec\n",
        "from sklearn.model_selection import KFold\n",
        "from sklearn.metrics import roc_auc_score"
      ],
      "execution_count": 3,
      "outputs": [
        {
          "output_type": "stream",
          "text": [
            "/usr/local/lib/python3.7/dist-packages/gensim/similarities/__init__.py:15: UserWarning: The gensim.similarities.levenshtein submodule is disabled, because the optional Levenshtein package <https://pypi.org/project/python-Levenshtein/> is unavailable. Install Levenhstein (e.g. `pip install python-Levenshtein`) to suppress this warning.\n",
            "  warnings.warn(msg)\n"
          ],
          "name": "stderr"
        }
      ]
    },
    {
      "cell_type": "markdown",
      "metadata": {
        "id": "m1CBfN5Ryn5D"
      },
      "source": [
        "# Pipeline"
      ]
    },
    {
      "cell_type": "markdown",
      "metadata": {
        "id": "6thRW2g6yn5E"
      },
      "source": [
        "### Data Loader"
      ]
    },
    {
      "cell_type": "markdown",
      "metadata": {
        "id": "q3x5R9GXyn5E"
      },
      "source": [
        "We need to load networks into memory. Usually networks are organized as pairs of nodes. And sometimes different edges have different weights. Hence, we use networkx.DiGraph to store such structure information and attributes."
      ]
    },
    {
      "cell_type": "code",
      "metadata": {
        "id": "R8hQhza4yn5E"
      },
      "source": [
        "def load_data(file_name):\n",
        "    \"\"\"\n",
        "    read edges from an edge file\n",
        "    \"\"\"\n",
        "    edges = list()\n",
        "    df = pd.read_csv(file_name)\n",
        "    for idx, row in df.iterrows():\n",
        "        user_id, friends = row[\"user_id\"], eval(row[\"friends\"])\n",
        "        for friend in friends:\n",
        "            # add each friend relation as an edge\n",
        "            edges.append((user_id, friend))\n",
        "    edges = sorted(edges)\n",
        "    \n",
        "    return edges\n",
        "\n",
        "def load_test_data(file_name):\n",
        "    \"\"\"\n",
        "    read edges from an edge file\n",
        "    \"\"\"\n",
        "    edges = list()\n",
        "    scores = list()\n",
        "    df = pd.read_csv(file_name)\n",
        "    for idx, row in df.iterrows():\n",
        "        edges.append((row[\"src\"], row[\"dst\"]))\n",
        "    edges = sorted(edges)\n",
        "    \n",
        "    return edges\n",
        "\n",
        "def generate_false_edges(true_edges, num_false_edges=5):\n",
        "    \"\"\"\n",
        "    generate false edges given true edges\n",
        "    \"\"\"\n",
        "    nodes = list(set(chain.from_iterable(true_edges)))\n",
        "    N = len(nodes)\n",
        "    true_edges = set(true_edges)\n",
        "    print(N, len(true_edges))\n",
        "    false_edges = set()\n",
        "    \n",
        "    while len(false_edges) < num_false_edges:\n",
        "        # randomly sample two different nodes and check whether the pair exisit or not\n",
        "        src, dst = nodes[int(np.random.rand() * N)], nodes[int(np.random.rand() * N)]\n",
        "        if src != dst and (src, dst) not in true_edges and (src, dst) not in false_edges:\n",
        "            false_edges.add((src, dst))\n",
        "    false_edges = sorted(false_edges)\n",
        "    \n",
        "    return false_edges\n",
        "\n",
        "def construct_graph_from_edges(edges):\n",
        "    \"\"\"\n",
        "    generate a directed graph object given true edges\n",
        "    DiGraph documentation: https://networkx.github.io/documentation/stable/reference/classes/digraph.html\n",
        "    \"\"\"\n",
        "    # convert a list of edges {(u, v)} to a list of edges with weights {(u, v, w)}\n",
        "    edge_weight = defaultdict(float)\n",
        "    for e in edges:\n",
        "        edge_weight[e] += 1.0\n",
        "    weighed_edge_list = list()\n",
        "    for e in sorted(edge_weight.keys()):\n",
        "        weighed_edge_list.append((e[0], e[1], edge_weight[e]))\n",
        "        \n",
        "    graph = nx.DiGraph()\n",
        "    graph.add_weighted_edges_from(weighed_edge_list)\n",
        "    \n",
        "    print(\"number of nodes:\", graph.number_of_nodes())\n",
        "    print(\"number of edges:\", graph.number_of_edges())\n",
        "    \n",
        "    return graph"
      ],
      "execution_count": 4,
      "outputs": []
    },
    {
      "cell_type": "markdown",
      "metadata": {
        "id": "dlAp0RjOyn5F"
      },
      "source": [
        "### Random Walk Generator"
      ]
    },
    {
      "cell_type": "markdown",
      "metadata": {
        "id": "RGZjlmpsyn5G"
      },
      "source": [
        "Random walk generators or random walkers yield random walks that contain both local and higher-order neighborhood information. However, naive non-uniform sampling is very slow, which requires O(n) time complexity. Here alias sampling can reduce the time complexity to O(1) with O(n) space. If you are interested, please see the following blog."
      ]
    },
    {
      "cell_type": "code",
      "metadata": {
        "id": "TRddMHxYyn5G"
      },
      "source": [
        "def alias_setup(probs):\n",
        "    \"\"\"\n",
        "    compute utility lists for non-uniform sampling from discrete distributions.\n",
        "    details: https://lips.cs.princeton.edu/the-alias-method-efficient-sampling-with-many-discrete-outcomes/\n",
        "    \"\"\"\n",
        "    K = len(probs)\n",
        "    q = np.zeros(K)\n",
        "    J = np.zeros(K, dtype=np.int)\n",
        "\n",
        "    smaller = list()\n",
        "    larger = list()\n",
        "    for kk, prob in enumerate(probs):\n",
        "        q[kk] = K * prob\n",
        "        if q[kk] < 1.0:\n",
        "            smaller.append(kk)\n",
        "        else:\n",
        "            larger.append(kk)\n",
        "\n",
        "    while len(smaller) > 0 and len(larger) > 0:\n",
        "        small = smaller.pop()\n",
        "        large = larger.pop()\n",
        "\n",
        "        J[small] = large\n",
        "        q[large] = q[large] + q[small] - 1.0\n",
        "        if q[large] < 1.0:\n",
        "            smaller.append(large)\n",
        "        else:\n",
        "            larger.append(large)\n",
        "\n",
        "    return J, q\n",
        "\n",
        "def get_alias_node(graph, node):\n",
        "    \"\"\"\n",
        "    get the alias node setup lists for a given node.\n",
        "    \"\"\"\n",
        "    # get the unnormalized probabilities with the first-order information\n",
        "    unnormalized_probs = list()\n",
        "    for nbr in graph.neighbors(node):\n",
        "        unnormalized_probs.append(graph[node][nbr][\"weight\"])\n",
        "    unnormalized_probs = np.array(unnormalized_probs)\n",
        "    if len(unnormalized_probs) > 0:\n",
        "        normalized_probs = unnormalized_probs / unnormalized_probs.sum()\n",
        "    else:\n",
        "        normalized_probs = unnormalized_probs\n",
        "        \n",
        "    return alias_setup(normalized_probs)\n",
        "    \n",
        "def get_alias_edge(graph, src, dst, p=1, q=1):\n",
        "    \"\"\"\n",
        "    get the alias edge setup lists for a given edge.\n",
        "    \"\"\"\n",
        "    # get the unnormalized probabilities with the second-order information\n",
        "    unnormalized_probs = list()\n",
        "    for dst_nbr in graph.neighbors(dst):\n",
        "        if dst_nbr == src: # distance is 0\n",
        "            unnormalized_probs.append(graph[dst][dst_nbr][\"weight\"]/p)\n",
        "        elif graph.has_edge(dst_nbr, src): # distance is 1\n",
        "            unnormalized_probs.append(graph[dst][dst_nbr][\"weight\"])\n",
        "        else: # distance is 2\n",
        "            unnormalized_probs.append(graph[dst][dst_nbr][\"weight\"]/q)\n",
        "    unnormalized_probs = np.array(unnormalized_probs)\n",
        "    if len(unnormalized_probs) > 0:\n",
        "        normalized_probs = unnormalized_probs / unnormalized_probs.sum()\n",
        "    else:\n",
        "        normalized_probs = unnormalized_probs\n",
        "\n",
        "    return alias_setup(normalized_probs)\n",
        "\n",
        "def preprocess_transition_probs(graph, p=1, q=1):\n",
        "    \"\"\"\n",
        "    preprocess transition probabilities for guiding the random walks.\n",
        "    \"\"\"\n",
        "    alias_nodes = dict()\n",
        "    for node in graph.nodes():\n",
        "        alias_nodes[node] = get_alias_node(graph, node)\n",
        "\n",
        "    alias_edges = dict()\n",
        "    for edge in graph.edges():\n",
        "        alias_edges[edge] = get_alias_edge(graph, edge[0], edge[1], p=p, q=q)\n",
        "\n",
        "    return alias_nodes, alias_edges"
      ],
      "execution_count": 5,
      "outputs": []
    },
    {
      "cell_type": "markdown",
      "metadata": {
        "id": "YI4BF4Wbyn5H"
      },
      "source": [
        "The difference between DeepWalk and node2vec is how to generate random walks. The former only consider the first-order information while the latter also involves the second-order information."
      ]
    },
    {
      "cell_type": "code",
      "metadata": {
        "id": "WF_oXP1Qyn5I"
      },
      "source": [
        "def alias_draw(J, q):\n",
        "    \"\"\"\n",
        "    draw sample from a non-uniform discrete distribution using alias sampling.\n",
        "    \"\"\"\n",
        "    K = len(J)\n",
        "\n",
        "    kk = int(np.floor(np.random.rand() * K))\n",
        "    if np.random.rand() < q[kk]:\n",
        "        return kk\n",
        "    else:\n",
        "        return J[kk]\n",
        "\n",
        "\n",
        "# helper function to generate the long random walk as desired\n",
        "def fallback(walk, fetch_last_num=1):\n",
        "    if len(walk) > fetch_last_num:\n",
        "        walk.pop()\n",
        "        fetched = []\n",
        "        for i in range(fetch_last_num):\n",
        "            fetched.append(walk[-1-i])\n",
        "        return walk, fetched\n",
        "    else:\n",
        "        return [], [None for _ in range(fetch_last_num)]\n",
        "\n",
        "def generate_first_order_random_walk(graph, alias_nodes, \n",
        "                                     walk_length=10, start_node=None, verbose=False, max_trails=10):\n",
        "    \"\"\"\n",
        "    simulate a random walk starting from start node and considering the first order information.\n",
        "    max_trials: set the max trials to be one for standard random walk. Larger max_trails will make the generated biased.\n",
        "    \"\"\"\n",
        "    if start_node == None:\n",
        "        start_node = np.random.choice(graph.nodes())\n",
        "    walk = [start_node]\n",
        "    cur = start_node\n",
        "    num_tried = 0\n",
        "    \n",
        "    ########## begin ##########\n",
        "    while len(walk) < walk_length:\n",
        "        cur_nbrs = list(graph.neighbors(cur))\n",
        "        if len(cur_nbrs) > 0: # if we can sample next nodes\n",
        "            # sample the next node based on alias_nodes\n",
        "            cur = cur_nbrs[alias_draw(*alias_nodes[cur])]\n",
        "            walk.append(cur)\n",
        "        else: # if we can't do that\n",
        "            num_tried += 1\n",
        "            if num_tried >= max_trails:\n",
        "                break\n",
        "\n",
        "            walk, fetched = fallback(walk, fetch_last_num=1)\n",
        "            cur = fetched[0]\n",
        "            if len(walk) == 0: # if falls back to the empty walk\n",
        "                start_node = np.random.choice(graph.nodes())\n",
        "                walk = [start_node]\n",
        "                cur = start_node\n",
        "    ########## end ##########\n",
        "\n",
        "    if verbose: \n",
        "        print(f'walk of lenght {len(walk)} generated with {num_tried} trails')\n",
        "    return walk\n",
        "    \n",
        "def generate_second_order_random_walk(graph, alias_nodes, alias_edges, \n",
        "                                      walk_length=10, start_node=None, verbose=False, max_trails=10):\n",
        "    \"\"\"\n",
        "    simulate a random walk starting from start node and considering the second order information.\n",
        "    \"\"\"\n",
        "    if start_node == None:\n",
        "        start_node = np.random.choice(graph.nodes())\n",
        "    walk = [start_node]\n",
        "    \n",
        "    prev = None\n",
        "    cur = start_node\n",
        "    num_tried = 0\n",
        "\n",
        "    ########## begin ##########\n",
        "    while len(walk) < walk_length:\n",
        "        cur_nbrs = list(graph.neighbors(cur))\n",
        "        if len(cur_nbrs) > 0:\n",
        "            if prev is None:\n",
        "                # sample the next node based on alias_nodes\n",
        "                prev, cur = cur, cur_nbrs[alias_draw(*alias_nodes[cur])]\n",
        "            else:\n",
        "                # sample the next node based on alias_edges\n",
        "                prev, cur = cur, cur_nbrs[alias_draw(*alias_edges[(prev, cur)])]\n",
        "            walk.append(cur)\n",
        "        else:\n",
        "            num_tried += 1\n",
        "            if num_tried >= max_trails:\n",
        "                break\n",
        "            walk, (cur, prev) = fallback(walk, fetch_last_num=2)\n",
        "            if len(walk) == 0:\n",
        "                start_node = np.random.choice(graph.nodes())\n",
        "                walk = [start_node]\n",
        "                cur = start_node\n",
        "                prev = None\n",
        "    ########## end ##########\n",
        "    if verbose: \n",
        "        print(f'walk of lenght {len(walk)} generated with {num_tried} trails')\n",
        "    return walk"
      ],
      "execution_count": 6,
      "outputs": []
    },
    {
      "cell_type": "markdown",
      "metadata": {
        "id": "yiII-wJQyn5J"
      },
      "source": [
        "### Network Embedding Algorithms"
      ]
    },
    {
      "cell_type": "code",
      "metadata": {
        "id": "lWOFzEawyn5J"
      },
      "source": [
        "def build_deepwalk(graph, alias_nodes, node_dim=10, num_walks=10, walk_length=10):\n",
        "    \"\"\"\n",
        "    build a deepwalk model\n",
        "    \"\"\"\n",
        "    print(\"building a DeepWalk model...\", end=\"\\t\")\n",
        "    st = time.time()\n",
        "    np.random.seed(0)\n",
        "    nodes = list(graph.nodes())\n",
        "    walks = list()\n",
        "    # generate random walks\n",
        "    for walk_iter in range(num_walks):\n",
        "        np.random.shuffle(nodes)\n",
        "        for node in nodes:\n",
        "            walks.append(generate_first_order_random_walk(\n",
        "                graph, alias_nodes, walk_length=walk_length, start_node=node))\n",
        "        \n",
        "    walk_lens = [len(w) for w in walks]\n",
        "    if len(walk_lens) > 0:\n",
        "        avg_walk_len = sum(walk_lens) / len(walk_lens)\n",
        "    else:\n",
        "        avg_walk_len = 0.0\n",
        "    print(\"number of walks: %d\\taverage walk length: %.4f\" % (len(walks), avg_walk_len), end=\"\\t\")\n",
        "    \n",
        "    # train a skip-gram model for these walks\n",
        "    model = Word2Vec(walks, vector_size=node_dim, window=3, min_count=0, sg=1, workers=os.cpu_count(), epochs=10)\n",
        "    # model = Word2Vec(walks, size=node_dim, window=3, min_count=0, sg=1, workers=os.cpu_count(), epochs=10)\n",
        "    print(\"training time: %.4f\" % (time.time()-st))\n",
        "    \n",
        "    return model\n",
        "\n",
        "def build_node2vec(graph, alias_nodes, alias_edges, node_dim=10, num_walks=10, walk_length=10):\n",
        "    \"\"\"\n",
        "    build a node2vec model\n",
        "    \"\"\"\n",
        "    print(\"building a node2vec model...\", end=\"\\t\")\n",
        "    st = time.time()\n",
        "    np.random.seed(0)\n",
        "    nodes = list(graph.nodes())\n",
        "    walks = list()\n",
        "    # generate random walks\n",
        "    for walk_iter in range(num_walks):\n",
        "        np.random.shuffle(nodes)\n",
        "        for node in nodes:\n",
        "            walks.append(generate_second_order_random_walk(\n",
        "                graph, alias_nodes, alias_edges, walk_length=walk_length, start_node=node))\n",
        "            \n",
        "    walk_lens = [len(w) for w in walks]\n",
        "    if len(walk_lens) > 0:\n",
        "        avg_walk_len = sum(walk_lens) / len(walk_lens)\n",
        "    else:\n",
        "        avg_walk_len = 0.0    \n",
        "    print(\"number of walks: %d\\taverage walk length: %.4f\" % (len(walks), avg_walk_len), end=\"\\t\")\n",
        "    \n",
        "    # train a skip-gram model for these walks\n",
        "    model = Word2Vec(walks, vector_size=node_dim, window=3, min_count=0, sg=1, workers=os.cpu_count(), epochs=10)\n",
        "    print(\"training time: %.4f\" % (time.time()-st))\n",
        "    \n",
        "    return model"
      ],
      "execution_count": 7,
      "outputs": []
    },
    {
      "cell_type": "markdown",
      "metadata": {
        "id": "Y9hF1jDkyn5K"
      },
      "source": [
        "### Scorer"
      ]
    },
    {
      "cell_type": "code",
      "metadata": {
        "id": "SNn-On78yn5K"
      },
      "source": [
        "def get_cosine_sim(model, u, v):\n",
        "    \"\"\"\n",
        "    get the cosine similarity between two nodes\n",
        "    \"\"\"\n",
        "    try:\n",
        "        u = model.wv[u]\n",
        "        v = model.wv[v]\n",
        "        return np.dot(u, v) / (np.linalg.norm(u) * np.linalg.norm(v))\n",
        "    except:\n",
        "        return 0.5\n",
        "\n",
        "def get_auc_score(model, true_edges, false_edges):\n",
        "    \"\"\"\n",
        "    get the auc score\n",
        "    \"\"\"\n",
        "    y_true = [1] * len(true_edges) + [0] * len(false_edges)\n",
        "    \n",
        "    y_score = list()\n",
        "    for e in true_edges:\n",
        "        y_score.append(get_cosine_sim(model, e[0], e[1]))\n",
        "    for e in false_edges:\n",
        "        y_score.append(get_cosine_sim(model, e[0], e[1]))\n",
        "    \n",
        "    return roc_auc_score(y_true, y_score)\n",
        "\n",
        "def write_pred(file_name, edges, scores):\n",
        "    df = pd.DataFrame()\n",
        "    df[\"src\"] = [e[0] for e in edges]\n",
        "    df[\"dst\"] = [e[1] for e in edges]\n",
        "    df[\"score\"] = scores\n",
        "    df.to_csv(file_name, index=False)\n",
        "    \n",
        "    \n",
        "\n",
        "\n",
        "\n",
        "def write_valid_ans(file_name, edges, scores):\n",
        "    df = pd.DataFrame()\n",
        "    df[\"src\"] = [e[0] for e in edges]\n",
        "    df[\"dst\"] = [e[1] for e in edges]\n",
        "    df[\"score\"] = scores\n",
        "    df.to_csv(file_name, index=False)"
      ],
      "execution_count": 8,
      "outputs": []
    },
    {
      "cell_type": "markdown",
      "metadata": {
        "id": "J1ajwklFyn5L"
      },
      "source": [
        "### Try them over a Real-life Network"
      ]
    },
    {
      "cell_type": "markdown",
      "metadata": {
        "id": "bfOGGjngyn5L"
      },
      "source": [
        "Firstly, we need to load edges into memory and use the networkx.DiGraph structure to store the graph."
      ]
    },
    {
      "cell_type": "code",
      "metadata": {
        "colab": {
          "base_uri": "https://localhost:8080/"
        },
        "id": "dINvOau3yn5L",
        "outputId": "606036bb-a68a-4235-f2a1-b4a6a0b20840"
      },
      "source": [
        "train_file = \"data/train.csv\"\n",
        "valid_file = \"data/valid.csv\"\n",
        "test_file = \"data/test.csv\"\n",
        "\n",
        "np.random.seed(0)\n",
        "train_edges = load_data(train_file)\n",
        "graph = construct_graph_from_edges(train_edges)\n",
        "valid_edges = load_data(valid_file)\n",
        "false_edges = generate_false_edges(train_edges+valid_edges, 40000-len(valid_edges))\n",
        "test_edges = load_test_data(test_file)"
      ],
      "execution_count": 9,
      "outputs": [
        {
          "output_type": "stream",
          "text": [
            "number of nodes: 8328\n",
            "number of edges: 100000\n",
            "8474 119268\n"
          ],
          "name": "stdout"
        }
      ]
    },
    {
      "cell_type": "markdown",
      "metadata": {
        "id": "Pi-M57s5yn5M"
      },
      "source": [
        "After that, we can use preprocess transition probabilities with the help of alias sampling."
      ]
    },
    {
      "cell_type": "code",
      "metadata": {
        "id": "hewTqqxRyn5N"
      },
      "source": [
        "alias_nodes, alias_edges = preprocess_transition_probs(graph, p=1, q=1)"
      ],
      "execution_count": 10,
      "outputs": []
    },
    {
      "cell_type": "markdown",
      "metadata": {
        "id": "__pa9Mpzyn5N"
      },
      "source": [
        "We can use random walk generators to generate random walks."
      ]
    },
    {
      "cell_type": "markdown",
      "metadata": {
        "id": "C8aiERSsyn5N"
      },
      "source": [
        "Let's try to generate a first-order random walk and a second-order random walk."
      ]
    },
    {
      "cell_type": "code",
      "metadata": {
        "colab": {
          "base_uri": "https://localhost:8080/"
        },
        "id": "lP_P_v6pyn5N",
        "outputId": "1e9e9224-d818-4e66-d7c2-9aa6bc368225"
      },
      "source": [
        "generate_first_order_random_walk(graph, alias_nodes=alias_nodes,\n",
        "                                 start_node=\"N6ZTMIue-2b30CJv2tyPGg\", walk_length=10)"
      ],
      "execution_count": 11,
      "outputs": [
        {
          "output_type": "execute_result",
          "data": {
            "text/plain": [
              "['N6ZTMIue-2b30CJv2tyPGg',\n",
              " '67HwuY1mtttvvnqn9tHU0Q',\n",
              " 'u1dJcoE5DrpDa-g1E4wzKg',\n",
              " 'shVyD312LNnLUvQEPdzo7g',\n",
              " 'gonn6o6qK5G9sFcpmpLkyQ',\n",
              " 'mvK1pv-x0Z5rP4Hz9cWBWw',\n",
              " '1lh8p7T6j6GRJiQ00CzXEA',\n",
              " '41HLwXnR0Lm3NUp01cIOQg',\n",
              " 'S10Q9h_W-MKyog8IdcCNCQ',\n",
              " 'IhjiCSCiaefHE-4FAvSOkA']"
            ]
          },
          "metadata": {
            "tags": []
          },
          "execution_count": 11
        }
      ]
    },
    {
      "cell_type": "code",
      "metadata": {
        "colab": {
          "base_uri": "https://localhost:8080/"
        },
        "id": "N4ZJEqSdyn5O",
        "outputId": "86eba4ee-c067-4f43-d565-af299630e6d0"
      },
      "source": [
        "generate_second_order_random_walk(graph, alias_nodes=alias_nodes, alias_edges=alias_edges,\n",
        "                                  start_node=\"N6ZTMIue-2b30CJv2tyPGg\", walk_length=10)"
      ],
      "execution_count": 12,
      "outputs": [
        {
          "output_type": "execute_result",
          "data": {
            "text/plain": [
              "['N6ZTMIue-2b30CJv2tyPGg',\n",
              " '67HwuY1mtttvvnqn9tHU0Q',\n",
              " 'MQwSyZ2MZ6N7rtAmphZCow',\n",
              " 'pazeYPyJ2ycDiNDcmamntQ',\n",
              " 'KxGeqg5ccByhaZfQRI4Nnw',\n",
              " 'RuD6Y8RGEPv9irKivHVlWw',\n",
              " 'KxGeqg5ccByhaZfQRI4Nnw',\n",
              " '2nE0zU6y_F7gkwHi3yL6cQ',\n",
              " 'cEzz_mGm2WHeYqTe9LK2zA',\n",
              " '2nE0zU6y_F7gkwHi3yL6cQ']"
            ]
          },
          "metadata": {
            "tags": []
          },
          "execution_count": 12
        }
      ]
    },
    {
      "cell_type": "markdown",
      "metadata": {
        "id": "ObZCLoBsyn5O"
      },
      "source": [
        "And we can build a DeepWalk model and a node2vec model. Here we set p=q=0.5 so that the walker will not go very far away from the start node."
      ]
    },
    {
      "cell_type": "code",
      "metadata": {
        "colab": {
          "base_uri": "https://localhost:8080/"
        },
        "id": "RkG3PlKRyn5O",
        "outputId": "846d89ce-29d0-4301-d5c6-169af222b0fe"
      },
      "source": [
        "model = build_deepwalk(graph, alias_nodes, node_dim=10, num_walks=10, walk_length=10)"
      ],
      "execution_count": 13,
      "outputs": [
        {
          "output_type": "stream",
          "text": [
            "building a DeepWalk model...\tnumber of walks: 83280\taverage walk length: 9.8980\ttraining time: 35.3132\n"
          ],
          "name": "stdout"
        }
      ]
    },
    {
      "cell_type": "code",
      "metadata": {
        "colab": {
          "base_uri": "https://localhost:8080/"
        },
        "id": "ZQMm5dfZyn5P",
        "outputId": "cfe8917d-f3a1-4273-9c9f-e313a123d39f"
      },
      "source": [
        "model = build_node2vec(graph, alias_nodes, alias_edges, node_dim=10, num_walks=10, walk_length=10)"
      ],
      "execution_count": 14,
      "outputs": [
        {
          "output_type": "stream",
          "text": [
            "building a node2vec model...\tnumber of walks: 83280\taverage walk length: 9.9910\ttraining time: 38.5417\n"
          ],
          "name": "stdout"
        }
      ]
    },
    {
      "cell_type": "markdown",
      "metadata": {
        "id": "zUES24QXyn5P"
      },
      "source": [
        "Let's see the node embeddings of three nodes, and cosine similarities of two edges."
      ]
    },
    {
      "cell_type": "code",
      "metadata": {
        "colab": {
          "base_uri": "https://localhost:8080/"
        },
        "id": "DyuxfP6oyn5P",
        "outputId": "3c863f12-d321-4649-b1f9-4f50e3cc2f0b"
      },
      "source": [
        "print(\"node embedding (\\\"N6ZTMIue-2b30CJv2tyPGg\\\"):\",\n",
        "      model.wv[\"N6ZTMIue-2b30CJv2tyPGg\"])\n",
        "print(\"node embedding (\\\"N7E-CfqdME28dakWdEKNvw\\\"):\",\n",
        "      model.wv[\"N7E-CfqdME28dakWdEKNvw\"])\n",
        "print(\"node embedding (\\\"MmlJSLDg-IFaeXb5wdJbgg\\\"):\",\n",
        "      model.wv.vectors[model.wv.index_to_key.index(\"MmlJSLDg-IFaeXb5wdJbgg\")])\n",
        "print(\"true edge (\\\"N6ZTMIue-2b30CJv2tyPGg\\\", \\\"N7E-CfqdME28dakWdEKNvw\\\"):\",\n",
        "      get_cosine_sim(model, \"N6ZTMIue-2b30CJv2tyPGg\", \"N7E-CfqdME28dakWdEKNvw\"))\n",
        "print(\"false edge (\\\"N6ZTMIue-2b30CJv2tyPGg\\\", \\\"MmlJSLDg-IFaeXb5wdJbgg\\\"):\",\n",
        "      get_cosine_sim(model, \"N6ZTMIue-2b30CJv2tyPGg\", \"MmlJSLDg-IFaeXb5wdJbgg\"))"
      ],
      "execution_count": 15,
      "outputs": [
        {
          "output_type": "stream",
          "text": [
            "node embedding (\"N6ZTMIue-2b30CJv2tyPGg\"): [ 0.20282923 -0.8144305   1.517522    1.2404547  -1.2573353   0.333726\n",
            "  0.94668734  1.2760329  -0.65008503 -0.4098145 ]\n",
            "node embedding (\"N7E-CfqdME28dakWdEKNvw\"): [ 0.66183263 -0.45764342  1.2251005   0.67993134 -0.83446836  0.23184554\n",
            "  1.6499697   0.9273601   0.1084039  -0.9685482 ]\n",
            "node embedding (\"MmlJSLDg-IFaeXb5wdJbgg\"): [ 0.4523798   0.16420472 -1.3703644   0.363507    1.2135583   1.2731168\n",
            "  2.418917    1.2594885  -0.81715846 -2.310471  ]\n",
            "true edge (\"N6ZTMIue-2b30CJv2tyPGg\", \"N7E-CfqdME28dakWdEKNvw\"): 0.86216533\n",
            "false edge (\"N6ZTMIue-2b30CJv2tyPGg\", \"MmlJSLDg-IFaeXb5wdJbgg\"): 0.19645241\n"
          ],
          "name": "stdout"
        }
      ]
    },
    {
      "cell_type": "markdown",
      "metadata": {
        "id": "i7a9Hzfyyn5P"
      },
      "source": [
        "# Link Prediction"
      ]
    },
    {
      "cell_type": "markdown",
      "metadata": {
        "id": "nqokUkm_yn5Q"
      },
      "source": [
        "We can train the model with different parameters and test the model on the validation set. Please show your parameter search process and analysis in your code, and visualization tools (Heatmap, etc.) are recommended to make your analysis clear."
      ]
    },
    {
      "cell_type": "code",
      "metadata": {
        "colab": {
          "base_uri": "https://localhost:8080/"
        },
        "id": "W8XegoMwyn5Q",
        "outputId": "ccad629e-86df-4d4e-d59f-a5830c956e43"
      },
      "source": [
        "np.random.seed(0)\n",
        "\n",
        "node_dim = 10\n",
        "num_walks = 10\n",
        "walk_length = 10\n",
        "\n",
        "deepwalk_auc_scores = dict()\n",
        "\n",
        "print(\"node dim: %d,\\tnum_walks: %d,\\twalk_length: %d\" % (node_dim, num_walks, walk_length), end=\"\\t\")\n",
        "model = build_deepwalk(graph, alias_nodes, \n",
        "                       node_dim=node_dim, num_walks=num_walks, walk_length=walk_length)\n",
        "deepwalk_auc_scores[(node_dim, num_walks, walk_length)] = get_auc_score(model, valid_edges, false_edges)\n",
        "print(\"auc: %.4f\" % (deepwalk_auc_scores[(node_dim, num_walks, walk_length)]))"
      ],
      "execution_count": 16,
      "outputs": [
        {
          "output_type": "stream",
          "text": [
            "node dim: 10,\tnum_walks: 10,\twalk_length: 10\tbuilding a DeepWalk model...\tnumber of walks: 83280\taverage walk length: 9.8980\ttraining time: 35.6040\n",
            "auc: 0.9264\n"
          ],
          "name": "stdout"
        }
      ]
    },
    {
      "cell_type": "code",
      "metadata": {
        "colab": {
          "base_uri": "https://localhost:8080/"
        },
        "id": "A-FeXV-eyn5Q",
        "outputId": "8b215db7-3ba0-4efc-a123-d32076a5b14a"
      },
      "source": [
        "np.random.seed(0)\n",
        "\n",
        "node_dim = 10\n",
        "num_walks = 10\n",
        "walk_length = 10\n",
        "p = 0.5\n",
        "q = 0.5\n",
        "\n",
        "node2vec_auc_scores = dict()\n",
        "print(\"node dim: %d,\\tnum_walks: %d,\\twalk_length: %d,\\tp: %.2f,\\tq: %.2f\" % (\n",
        "    node_dim, num_walks, walk_length, p, q), end=\"\\t\")\n",
        "alias_nodes, alias_edges = preprocess_transition_probs(graph, p=p, q=q)\n",
        "model = build_node2vec(graph, alias_nodes, alias_edges, \n",
        "                       node_dim=node_dim, num_walks=num_walks, walk_length=walk_length)\n",
        "node2vec_auc_scores[(node_dim, num_walks, walk_length, p, q)] = get_auc_score(model, valid_edges, false_edges)\n",
        "print(\"auc: %.4f\" % (node2vec_auc_scores[(node_dim, num_walks, walk_length, p, q)]))"
      ],
      "execution_count": 17,
      "outputs": [
        {
          "output_type": "stream",
          "text": [
            "node dim: 10,\tnum_walks: 10,\twalk_length: 10,\tp: 0.50,\tq: 0.50\tbuilding a node2vec model...\tnumber of walks: 83280\taverage walk length: 9.9918\ttraining time: 38.8428\n",
            "auc: 0.9257\n"
          ],
          "name": "stdout"
        }
      ]
    },
    {
      "cell_type": "markdown",
      "metadata": {
        "id": "eun7ZHphCyzW"
      },
      "source": [
        "# Deep Walk Hyperparameter Optimization"
      ]
    },
    {
      "cell_type": "code",
      "metadata": {
        "id": "AlDzHhv_gT_r"
      },
      "source": [
        "alias_nodes, alias_edges = preprocess_transition_probs(graph, p=1, q=1)"
      ],
      "execution_count": 18,
      "outputs": []
    },
    {
      "cell_type": "code",
      "metadata": {
        "id": "eV8bPVpb-OiD"
      },
      "source": [
        "deepwalk_auc_scores = dict()"
      ],
      "execution_count": 19,
      "outputs": []
    },
    {
      "cell_type": "markdown",
      "metadata": {
        "id": "iW_Eg7JcWW6-"
      },
      "source": [
        "## num_walks, walk_length"
      ]
    },
    {
      "cell_type": "code",
      "metadata": {
        "id": "rZc2e8ERDHLx"
      },
      "source": [
        "np.random.seed(0)\n",
        "\n",
        "node_dim = 10\n",
        "num_walks = 10\n",
        "walk_length = 10"
      ],
      "execution_count": 20,
      "outputs": []
    },
    {
      "cell_type": "code",
      "metadata": {
        "colab": {
          "base_uri": "https://localhost:8080/"
        },
        "id": "j_A_7X8MWV4l",
        "outputId": "8b88a083-29ea-4662-9069-c7255d9af2ef"
      },
      "source": [
        "walk_length_list = [10, 20, 40]\n",
        "num_walks_list = [5, 10, 20, 40]\n",
        "\n",
        "for walk_length_i in walk_length_list:\n",
        "    for num_walks_i in num_walks_list:\n",
        "        print(\"node dim: %d,\\tnum_walks: %d,\\twalk_length: %d\" % (node_dim, num_walks_i, walk_length_i), end=\"\\t\")\n",
        "        model = build_deepwalk(graph, alias_nodes, \n",
        "                              node_dim=node_dim, num_walks=num_walks_i, walk_length=walk_length_i)\n",
        "        deepwalk_auc_scores[(node_dim, num_walks_i, walk_length_i)] = get_auc_score(model, valid_edges, false_edges)\n",
        "        print(\"auc: %.4f\" % (deepwalk_auc_scores[(node_dim, num_walks_i, walk_length_i)]))"
      ],
      "execution_count": 21,
      "outputs": [
        {
          "output_type": "stream",
          "text": [
            "node dim: 10,\tnum_walks: 5,\twalk_length: 10\tbuilding a DeepWalk model...\tnumber of walks: 41640\taverage walk length: 9.8976\ttraining time: 18.0980\n",
            "auc: 0.9123\n",
            "node dim: 10,\tnum_walks: 10,\twalk_length: 10\tbuilding a DeepWalk model...\tnumber of walks: 83280\taverage walk length: 9.8980\ttraining time: 35.3022\n",
            "auc: 0.9264\n",
            "node dim: 10,\tnum_walks: 20,\twalk_length: 10\tbuilding a DeepWalk model...\tnumber of walks: 166560\taverage walk length: 9.8981\ttraining time: 69.8165\n",
            "auc: 0.9310\n",
            "node dim: 10,\tnum_walks: 40,\twalk_length: 10\tbuilding a DeepWalk model...\tnumber of walks: 333120\taverage walk length: 9.8984\ttraining time: 139.5360\n",
            "auc: 0.9306\n",
            "node dim: 10,\tnum_walks: 5,\twalk_length: 20\tbuilding a DeepWalk model...\tnumber of walks: 41640\taverage walk length: 19.7535\ttraining time: 31.8725\n",
            "auc: 0.9263\n",
            "node dim: 10,\tnum_walks: 10,\twalk_length: 20\tbuilding a DeepWalk model...\tnumber of walks: 83280\taverage walk length: 19.7559\ttraining time: 63.6157\n",
            "auc: 0.9318\n",
            "node dim: 10,\tnum_walks: 20,\twalk_length: 20\tbuilding a DeepWalk model...\tnumber of walks: 166560\taverage walk length: 19.7587\ttraining time: 126.7187\n",
            "auc: 0.9306\n",
            "node dim: 10,\tnum_walks: 40,\twalk_length: 20\tbuilding a DeepWalk model...\tnumber of walks: 333120\taverage walk length: 19.7608\ttraining time: 252.3196\n",
            "auc: 0.9288\n",
            "node dim: 10,\tnum_walks: 5,\twalk_length: 40\tbuilding a DeepWalk model...\tnumber of walks: 41640\taverage walk length: 39.4357\ttraining time: 59.8476\n",
            "auc: 0.9292\n",
            "node dim: 10,\tnum_walks: 10,\twalk_length: 40\tbuilding a DeepWalk model...\tnumber of walks: 83280\taverage walk length: 39.4396\ttraining time: 120.1767\n",
            "auc: 0.9289\n",
            "node dim: 10,\tnum_walks: 20,\twalk_length: 40\tbuilding a DeepWalk model...\tnumber of walks: 166560\taverage walk length: 39.4343\ttraining time: 238.8430\n",
            "auc: 0.9268\n",
            "node dim: 10,\tnum_walks: 40,\twalk_length: 40\tbuilding a DeepWalk model...\tnumber of walks: 333120\taverage walk length: 39.4376\ttraining time: 477.6956\n",
            "auc: 0.9251\n"
          ],
          "name": "stdout"
        }
      ]
    },
    {
      "cell_type": "code",
      "metadata": {
        "colab": {
          "base_uri": "https://localhost:8080/"
        },
        "id": "8WdISpzlcQ91",
        "outputId": "1a03b498-f0a0-4136-c8a6-61eb546ffbf2"
      },
      "source": [
        "deepwalk_auc_scores"
      ],
      "execution_count": 22,
      "outputs": [
        {
          "output_type": "execute_result",
          "data": {
            "text/plain": [
              "{(10, 5, 10): 0.912343030730245,\n",
              " (10, 5, 20): 0.9263370690842625,\n",
              " (10, 5, 40): 0.9291619719611603,\n",
              " (10, 10, 10): 0.9263746456703542,\n",
              " (10, 10, 20): 0.9318295566008402,\n",
              " (10, 10, 40): 0.9289223797630354,\n",
              " (10, 20, 10): 0.9310452760099319,\n",
              " (10, 20, 20): 0.9306172000765347,\n",
              " (10, 20, 40): 0.9267787958037068,\n",
              " (10, 40, 10): 0.9305541443596184,\n",
              " (10, 40, 20): 0.9288091343139617,\n",
              " (10, 40, 40): 0.9251025829159709}"
            ]
          },
          "metadata": {
            "tags": []
          },
          "execution_count": 22
        }
      ]
    },
    {
      "cell_type": "code",
      "metadata": {
        "colab": {
          "base_uri": "https://localhost:8080/",
          "height": 297
        },
        "id": "hxb29KeYWWDM",
        "outputId": "abccb36a-38af-4372-fe60-e528951bacf6"
      },
      "source": [
        "# plt.figure(figsize=(6, 4))\n",
        "a = np.array([[deepwalk_auc_scores[(node_dim, num_walks, walk_length)] for walk_length in [10, 20, 40]] for num_walks in [5, 10, 20, 40]])\n",
        "plt.imshow(a, cmap=\"hot\", interpolation=\"nearest\")\n",
        "plt.colorbar()\n",
        "plt.xticks(ticks=[0,1,2], labels=[10, 20, 40])\n",
        "plt.xlabel(\"walk_length\")\n",
        "plt.yticks(ticks=[0,1,2,3], labels=[5, 10, 20, 40])\n",
        "plt.ylabel(\"num_walks\")"
      ],
      "execution_count": 23,
      "outputs": [
        {
          "output_type": "execute_result",
          "data": {
            "text/plain": [
              "Text(0, 0.5, 'num_walks')"
            ]
          },
          "metadata": {
            "tags": []
          },
          "execution_count": 23
        },
        {
          "output_type": "display_data",
          "data": {
            "image/png": "[encoded data removed]",
            "text/plain": [
              "<Figure size 432x288 with 2 Axes>"
            ]
          },
          "metadata": {
            "tags": [],
            "needs_background": "light"
          }
        }
      ]
    },
    {
      "cell_type": "markdown",
      "metadata": {
        "id": "bCpzqgiYat7b"
      },
      "source": [
        "## node_dim"
      ]
    },
    {
      "cell_type": "code",
      "metadata": {
        "id": "oY7YtXulWWKn"
      },
      "source": [
        "np.random.seed(0)\n",
        "\n",
        "node_dim = 10\n",
        "num_walks = 10\n",
        "walk_length = 10"
      ],
      "execution_count": 24,
      "outputs": []
    },
    {
      "cell_type": "code",
      "metadata": {
        "colab": {
          "base_uri": "https://localhost:8080/"
        },
        "id": "88teqHqhayob",
        "outputId": "deef5c51-584b-44ca-f5f7-4097d2384985"
      },
      "source": [
        "node_dim_list = [5, 10, 20, 30, 40]\n",
        "\n",
        "for node_dim_i in node_dim_list:\n",
        "    print(\"node dim: %d,\\tnum_walks: %d,\\twalk_length: %d\" % (node_dim_i, num_walks, walk_length), end=\"\\t\")\n",
        "    model = build_deepwalk(graph, alias_nodes, \n",
        "                          node_dim=node_dim_i, num_walks=num_walks, walk_length=walk_length)\n",
        "    deepwalk_auc_scores[(node_dim_i, num_walks, walk_length)] = get_auc_score(model, valid_edges, false_edges)\n",
        "    print(\"auc: %.4f\" % (deepwalk_auc_scores[(node_dim_i, num_walks, walk_length)]))"
      ],
      "execution_count": 25,
      "outputs": [
        {
          "output_type": "stream",
          "text": [
            "node dim: 5,\tnum_walks: 10,\twalk_length: 10\tbuilding a DeepWalk model...\tnumber of walks: 83280\taverage walk length: 9.8980\ttraining time: 33.1128\n",
            "auc: 0.9072\n",
            "node dim: 10,\tnum_walks: 10,\twalk_length: 10\tbuilding a DeepWalk model...\tnumber of walks: 83280\taverage walk length: 9.8980\ttraining time: 35.3649\n",
            "auc: 0.9267\n",
            "node dim: 20,\tnum_walks: 10,\twalk_length: 10\tbuilding a DeepWalk model...\tnumber of walks: 83280\taverage walk length: 9.8980\ttraining time: 40.2627\n",
            "auc: 0.9077\n",
            "node dim: 30,\tnum_walks: 10,\twalk_length: 10\tbuilding a DeepWalk model...\tnumber of walks: 83280\taverage walk length: 9.8980\ttraining time: 45.3460\n",
            "auc: 0.8827\n",
            "node dim: 40,\tnum_walks: 10,\twalk_length: 10\tbuilding a DeepWalk model...\tnumber of walks: 83280\taverage walk length: 9.8980\ttraining time: 37.6552\n",
            "auc: 0.8537\n"
          ],
          "name": "stdout"
        }
      ]
    },
    {
      "cell_type": "code",
      "metadata": {
        "colab": {
          "base_uri": "https://localhost:8080/"
        },
        "id": "I7Sw_SLK-Sjq",
        "outputId": "6ae62ec4-07b2-489f-aff9-56b8ad13a53b"
      },
      "source": [
        "deepwalk_auc_scores"
      ],
      "execution_count": 26,
      "outputs": [
        {
          "output_type": "execute_result",
          "data": {
            "text/plain": [
              "{(5, 10, 10): 0.9072011215844296,\n",
              " (10, 5, 10): 0.912343030730245,\n",
              " (10, 5, 20): 0.9263370690842625,\n",
              " (10, 5, 40): 0.9291619719611603,\n",
              " (10, 10, 10): 0.9267341810395533,\n",
              " (10, 10, 20): 0.9318295566008402,\n",
              " (10, 10, 40): 0.9289223797630354,\n",
              " (10, 20, 10): 0.9310452760099319,\n",
              " (10, 20, 20): 0.9306172000765347,\n",
              " (10, 20, 40): 0.9267787958037068,\n",
              " (10, 40, 10): 0.9305541443596184,\n",
              " (10, 40, 20): 0.9288091343139617,\n",
              " (10, 40, 40): 0.9251025829159709,\n",
              " (20, 10, 10): 0.9077197588301387,\n",
              " (30, 10, 10): 0.8826750098862433,\n",
              " (40, 10, 10): 0.8536935211932497}"
            ]
          },
          "metadata": {
            "tags": []
          },
          "execution_count": 26
        }
      ]
    },
    {
      "cell_type": "code",
      "metadata": {
        "colab": {
          "base_uri": "https://localhost:8080/",
          "height": 265
        },
        "id": "kfp5S-4caywn",
        "outputId": "04e53add-d521-4b29-aaf7-9e65fbc5bb34"
      },
      "source": [
        "a = np.array([[deepwalk_auc_scores[(node_dim, num_walks, walk_length)] for node_dim in [5, 10, 20, 30, 40]]])\n",
        "plt.imshow(a, cmap=\"hot\", interpolation=\"nearest\")\n",
        "plt.colorbar()\n",
        "plt.xticks(ticks=[0,1,2, 3, 4], labels=[5, 10, 20, 30, 40])\n",
        "plt.xlabel(\"node_dim\")\n",
        "plt.yticks(ticks=[0], labels=[0])\n",
        "plt.ylabel(\" \")"
      ],
      "execution_count": 27,
      "outputs": [
        {
          "output_type": "execute_result",
          "data": {
            "text/plain": [
              "Text(0, 0.5, ' ')"
            ]
          },
          "metadata": {
            "tags": []
          },
          "execution_count": 27
        },
        {
          "output_type": "display_data",
          "data": {
            "image/png": "[encoded data removed]",
            "text/plain": [
              "<Figure size 432x288 with 2 Axes>"
            ]
          },
          "metadata": {
            "tags": [],
            "needs_background": "light"
          }
        }
      ]
    },
    {
      "cell_type": "code",
      "metadata": {
        "colab": {
          "base_uri": "https://localhost:8080/"
        },
        "id": "YnCD3bEiGZpV",
        "outputId": "951537c6-5c41-4379-c8a4-42ca862257e1"
      },
      "source": [
        "# Save\n",
        "np.save(\"deepwalk_auc_scores.npy\", deepwalk_auc_scores) \n",
        "\n",
        "# Load\n",
        "deepwalk = np.load(\"deepwalk_auc_scores.npy\",allow_pickle='TRUE').item()\n",
        "\n",
        "deepwalk"
      ],
      "execution_count": 28,
      "outputs": [
        {
          "output_type": "execute_result",
          "data": {
            "text/plain": [
              "{(5, 10, 10): 0.9072011215844296,\n",
              " (10, 5, 10): 0.912343030730245,\n",
              " (10, 5, 20): 0.9263370690842625,\n",
              " (10, 5, 40): 0.9291619719611603,\n",
              " (10, 10, 10): 0.9267341810395533,\n",
              " (10, 10, 20): 0.9318295566008402,\n",
              " (10, 10, 40): 0.9289223797630354,\n",
              " (10, 20, 10): 0.9310452760099319,\n",
              " (10, 20, 20): 0.9306172000765347,\n",
              " (10, 20, 40): 0.9267787958037068,\n",
              " (10, 40, 10): 0.9305541443596184,\n",
              " (10, 40, 20): 0.9288091343139617,\n",
              " (10, 40, 40): 0.9251025829159709,\n",
              " (20, 10, 10): 0.9077197588301387,\n",
              " (30, 10, 10): 0.8826750098862433,\n",
              " (40, 10, 10): 0.8536935211932497}"
            ]
          },
          "metadata": {
            "tags": []
          },
          "execution_count": 28
        }
      ]
    },
    {
      "cell_type": "code",
      "metadata": {
        "colab": {
          "base_uri": "https://localhost:8080/",
          "height": 17
        },
        "id": "iErd50OpBrhH",
        "outputId": "82674a0e-0a30-4821-c593-4e68331b5cf5"
      },
      "source": [
        "from google.colab import files\n",
        "files.download(\"deepwalk_auc_scores.npy\") "
      ],
      "execution_count": 29,
      "outputs": [
        {
          "output_type": "display_data",
          "data": {
            "application/javascript": [
              "\n",
              "    async function download(id, filename, size) {\n",
              "      if (!google.colab.kernel.accessAllowed) {\n",
              "        return;\n",
              "      }\n",
              "      const div = document.createElement('div');\n",
              "      const label = document.createElement('label');\n",
              "      label.textContent = `Downloading \"${filename}\": `;\n",
              "      div.appendChild(label);\n",
              "      const progress = document.createElement('progress');\n",
              "      progress.max = size;\n",
              "      div.appendChild(progress);\n",
              "      document.body.appendChild(div);\n",
              "\n",
              "      const buffers = [];\n",
              "      let downloaded = 0;\n",
              "\n",
              "      const channel = await google.colab.kernel.comms.open(id);\n",
              "      // Send a message to notify the kernel that we're ready.\n",
              "      channel.send({})\n",
              "\n",
              "      for await (const message of channel.messages) {\n",
              "        // Send a message to notify the kernel that we're ready.\n",
              "        channel.send({})\n",
              "        if (message.buffers) {\n",
              "          for (const buffer of message.buffers) {\n",
              "            buffers.push(buffer);\n",
              "            downloaded += buffer.byteLength;\n",
              "            progress.value = downloaded;\n",
              "          }\n",
              "        }\n",
              "      }\n",
              "      const blob = new Blob(buffers, {type: 'application/binary'});\n",
              "      const a = document.createElement('a');\n",
              "      a.href = window.URL.createObjectURL(blob);\n",
              "      a.download = filename;\n",
              "      div.appendChild(a);\n",
              "      a.click();\n",
              "      div.remove();\n",
              "    }\n",
              "  "
            ],
            "text/plain": [
              "<IPython.core.display.Javascript object>"
            ]
          },
          "metadata": {
            "tags": []
          }
        },
        {
          "output_type": "display_data",
          "data": {
            "application/javascript": [
              "download(\"download_c3bfdcbd-035d-48ae-b072-47b96c2c37fc\", \"deepwalk_auc_scores.npy\", 855)"
            ],
            "text/plain": [
              "<IPython.core.display.Javascript object>"
            ]
          },
          "metadata": {
            "tags": []
          }
        }
      ]
    },
    {
      "cell_type": "markdown",
      "metadata": {
        "id": "XAj9avcfD4MA"
      },
      "source": [
        "## Combine best of the hyperparameters"
      ]
    },
    {
      "cell_type": "code",
      "metadata": {
        "id": "dDVCAr5uD3jO"
      },
      "source": [
        "np.random.seed(0)\n",
        "\n",
        "node_dim_list = [10]\n",
        "num_walks_list = [10, 20]\n",
        "walk_length_list = [10, 20]\n",
        "\n",
        "deepwalk_auc_scores_best = dict()"
      ],
      "execution_count": 30,
      "outputs": []
    },
    {
      "cell_type": "code",
      "metadata": {
        "colab": {
          "base_uri": "https://localhost:8080/"
        },
        "id": "5RMSaEv2EgK6",
        "outputId": "77cb419b-c0cf-40e7-dc4f-099da238f0a1"
      },
      "source": [
        "for node_dim_i in node_dim_list:\n",
        "    for num_walks_i in num_walks_list:\n",
        "        for walk_length_i in walk_length_list:\n",
        "            print(\"node dim: %d,\\tnum_walks: %d,\\twalk_length: %d\" % (node_dim_i, num_walks_i, walk_length_i), end=\"\\t\")\n",
        "            model = build_deepwalk(graph, alias_nodes, \n",
        "                                  node_dim=node_dim_i, num_walks=num_walks_i, walk_length=walk_length_i)\n",
        "            deepwalk_auc_scores_best[(node_dim_i, num_walks_i, walk_length_i)] = get_auc_score(model, valid_edges, false_edges)\n",
        "            print(\"auc: %.4f\" % (deepwalk_auc_scores_best[(node_dim_i, num_walks_i, walk_length_i)]))"
      ],
      "execution_count": 31,
      "outputs": [
        {
          "output_type": "stream",
          "text": [
            "node dim: 10,\tnum_walks: 10,\twalk_length: 10\tbuilding a DeepWalk model...\tnumber of walks: 83280\taverage walk length: 9.8980\ttraining time: 35.4813\n",
            "auc: 0.9264\n",
            "node dim: 10,\tnum_walks: 10,\twalk_length: 20\tbuilding a DeepWalk model...\tnumber of walks: 83280\taverage walk length: 19.7559\ttraining time: 63.8108\n",
            "auc: 0.9317\n",
            "node dim: 10,\tnum_walks: 20,\twalk_length: 10\tbuilding a DeepWalk model...\tnumber of walks: 166560\taverage walk length: 9.8981\ttraining time: 69.8957\n",
            "auc: 0.9312\n",
            "node dim: 10,\tnum_walks: 20,\twalk_length: 20\tbuilding a DeepWalk model...\tnumber of walks: 166560\taverage walk length: 19.7587\ttraining time: 127.2675\n",
            "auc: 0.9308\n"
          ],
          "name": "stdout"
        }
      ]
    },
    {
      "cell_type": "code",
      "metadata": {
        "colab": {
          "base_uri": "https://localhost:8080/"
        },
        "id": "JUSiVYphEgTX",
        "outputId": "17f5c383-b341-41f4-e91b-a7fea7d6084f"
      },
      "source": [
        "deepwalk_auc_scores_best"
      ],
      "execution_count": 32,
      "outputs": [
        {
          "output_type": "execute_result",
          "data": {
            "text/plain": [
              "{(10, 10, 10): 0.9263741925633902,\n",
              " (10, 10, 20): 0.9317242755705832,\n",
              " (10, 20, 10): 0.9311504468926395,\n",
              " (10, 20, 20): 0.930836085787077}"
            ]
          },
          "metadata": {
            "tags": []
          },
          "execution_count": 32
        }
      ]
    },
    {
      "cell_type": "code",
      "metadata": {
        "colab": {
          "base_uri": "https://localhost:8080/"
        },
        "id": "V_zRoqsvFT3B",
        "outputId": "e60ed567-6be7-43fc-adec-97b75ca12676"
      },
      "source": [
        "# Save\n",
        "np.save(\"deepwalk_auc_scores_best.npy\", deepwalk_auc_scores_best) \n",
        "\n",
        "# Load\n",
        "deepwalk_best = np.load(\"deepwalk_auc_scores_best.npy\",allow_pickle='TRUE').item()\n",
        "\n",
        "deepwalk_best"
      ],
      "execution_count": 33,
      "outputs": [
        {
          "output_type": "execute_result",
          "data": {
            "text/plain": [
              "{(10, 10, 10): 0.9263741925633902,\n",
              " (10, 10, 20): 0.9317242755705832,\n",
              " (10, 20, 10): 0.9311504468926395,\n",
              " (10, 20, 20): 0.930836085787077}"
            ]
          },
          "metadata": {
            "tags": []
          },
          "execution_count": 33
        }
      ]
    },
    {
      "cell_type": "code",
      "metadata": {
        "colab": {
          "base_uri": "https://localhost:8080/",
          "height": 17
        },
        "id": "VYrhZBYEFT-3",
        "outputId": "84596aa4-07cf-4c96-aa81-8f7a919c6e0d"
      },
      "source": [
        "files.download(\"deepwalk_auc_scores_best.npy\")"
      ],
      "execution_count": 34,
      "outputs": [
        {
          "output_type": "display_data",
          "data": {
            "application/javascript": [
              "\n",
              "    async function download(id, filename, size) {\n",
              "      if (!google.colab.kernel.accessAllowed) {\n",
              "        return;\n",
              "      }\n",
              "      const div = document.createElement('div');\n",
              "      const label = document.createElement('label');\n",
              "      label.textContent = `Downloading \"${filename}\": `;\n",
              "      div.appendChild(label);\n",
              "      const progress = document.createElement('progress');\n",
              "      progress.max = size;\n",
              "      div.appendChild(progress);\n",
              "      document.body.appendChild(div);\n",
              "\n",
              "      const buffers = [];\n",
              "      let downloaded = 0;\n",
              "\n",
              "      const channel = await google.colab.kernel.comms.open(id);\n",
              "      // Send a message to notify the kernel that we're ready.\n",
              "      channel.send({})\n",
              "\n",
              "      for await (const message of channel.messages) {\n",
              "        // Send a message to notify the kernel that we're ready.\n",
              "        channel.send({})\n",
              "        if (message.buffers) {\n",
              "          for (const buffer of message.buffers) {\n",
              "            buffers.push(buffer);\n",
              "            downloaded += buffer.byteLength;\n",
              "            progress.value = downloaded;\n",
              "          }\n",
              "        }\n",
              "      }\n",
              "      const blob = new Blob(buffers, {type: 'application/binary'});\n",
              "      const a = document.createElement('a');\n",
              "      a.href = window.URL.createObjectURL(blob);\n",
              "      a.download = filename;\n",
              "      div.appendChild(a);\n",
              "      a.click();\n",
              "      div.remove();\n",
              "    }\n",
              "  "
            ],
            "text/plain": [
              "<IPython.core.display.Javascript object>"
            ]
          },
          "metadata": {
            "tags": []
          }
        },
        {
          "output_type": "display_data",
          "data": {
            "application/javascript": [
              "download(\"download_e4f75a2f-1f6d-4ee7-9271-c282c2169ad1\", \"deepwalk_auc_scores_best.npy\", 483)"
            ],
            "text/plain": [
              "<IPython.core.display.Javascript object>"
            ]
          },
          "metadata": {
            "tags": []
          }
        }
      ]
    },
    {
      "cell_type": "markdown",
      "metadata": {
        "id": "TvDGljF-CmSW"
      },
      "source": [
        "# Node2Vec Hyperparameter Optimization"
      ]
    },
    {
      "cell_type": "code",
      "metadata": {
        "id": "WpZN_pGO-V9G"
      },
      "source": [
        "node2vec_auc_scores = dict()"
      ],
      "execution_count": 35,
      "outputs": []
    },
    {
      "cell_type": "markdown",
      "metadata": {
        "id": "sFNZh580HmPT"
      },
      "source": [
        "## p, q"
      ]
    },
    {
      "cell_type": "code",
      "metadata": {
        "id": "f1Iqux8ZDITW"
      },
      "source": [
        "np.random.seed(0)\n",
        "\n",
        "node_dim = 10\n",
        "num_walks = 10\n",
        "walk_length = 10\n",
        "p = 0.5\n",
        "q = 0.5"
      ],
      "execution_count": 36,
      "outputs": []
    },
    {
      "cell_type": "code",
      "metadata": {
        "colab": {
          "base_uri": "https://localhost:8080/"
        },
        "id": "5YTJFjsHDO3n",
        "outputId": "5809e892-8e2b-4369-96f2-aa6326f11d14"
      },
      "source": [
        "p_list = [0.1, 0.15, 0.2, 0.25, 0.3, 0.35, 0.4, 0.45, 0.5]\n",
        "q_list = [0.2, 0.4, 0.6, 0.8, 1.0, 1.2, 1.4, 1.6, 1.8]\n",
        "\n",
        "for pi in p_list:\n",
        "    for qi in q_list:\n",
        "        print(\"node dim: %d,\\tnum_walks: %d,\\twalk_length: %d,\\tp: %.2f,\\tq: %.2f\" % (\n",
        "            node_dim, num_walks, walk_length, pi, qi), end=\"\\t\")\n",
        "        alias_nodes, alias_edges = preprocess_transition_probs(graph, p=pi, q=qi)\n",
        "        model = build_node2vec(graph, alias_nodes, alias_edges, \n",
        "                              node_dim=node_dim, num_walks=num_walks, walk_length=walk_length)\n",
        "        node2vec_auc_scores[(node_dim, num_walks, walk_length, pi, qi)] = get_auc_score(model, valid_edges, false_edges)\n",
        "        print(\"auc: %.4f\" % (node2vec_auc_scores[(node_dim, num_walks, walk_length, pi, qi)]))"
      ],
      "execution_count": 37,
      "outputs": [
        {
          "output_type": "stream",
          "text": [
            "node dim: 10,\tnum_walks: 10,\twalk_length: 10,\tp: 0.10,\tq: 0.20\tbuilding a node2vec model...\tnumber of walks: 83280\taverage walk length: 9.9915\ttraining time: 38.6296\n",
            "auc: 0.9283\n",
            "node dim: 10,\tnum_walks: 10,\twalk_length: 10,\tp: 0.10,\tq: 0.40\tbuilding a node2vec model...\tnumber of walks: 83280\taverage walk length: 9.9919\ttraining time: 38.5048\n",
            "auc: 0.9278\n",
            "node dim: 10,\tnum_walks: 10,\twalk_length: 10,\tp: 0.10,\tq: 0.60\tbuilding a node2vec model...\tnumber of walks: 83280\taverage walk length: 9.9919\ttraining time: 38.3793\n",
            "auc: 0.9271\n",
            "node dim: 10,\tnum_walks: 10,\twalk_length: 10,\tp: 0.10,\tq: 0.80\tbuilding a node2vec model...\tnumber of walks: 83280\taverage walk length: 9.9927\ttraining time: 38.3001\n",
            "auc: 0.9276\n",
            "node dim: 10,\tnum_walks: 10,\twalk_length: 10,\tp: 0.10,\tq: 1.00\tbuilding a node2vec model...\tnumber of walks: 83280\taverage walk length: 9.9933\ttraining time: 37.9648\n",
            "auc: 0.9286\n",
            "node dim: 10,\tnum_walks: 10,\twalk_length: 10,\tp: 0.10,\tq: 1.20\tbuilding a node2vec model...\tnumber of walks: 83280\taverage walk length: 9.9934\ttraining time: 38.1756\n",
            "auc: 0.9285\n",
            "node dim: 10,\tnum_walks: 10,\twalk_length: 10,\tp: 0.10,\tq: 1.40\tbuilding a node2vec model...\tnumber of walks: 83280\taverage walk length: 9.9935\ttraining time: 38.3087\n",
            "auc: 0.9262\n",
            "node dim: 10,\tnum_walks: 10,\twalk_length: 10,\tp: 0.10,\tq: 1.60\tbuilding a node2vec model...\tnumber of walks: 83280\taverage walk length: 9.9932\ttraining time: 37.8558\n",
            "auc: 0.9279\n",
            "node dim: 10,\tnum_walks: 10,\twalk_length: 10,\tp: 0.10,\tq: 1.80\tbuilding a node2vec model...\tnumber of walks: 83280\taverage walk length: 9.9930\ttraining time: 37.8807\n",
            "auc: 0.9273\n",
            "node dim: 10,\tnum_walks: 10,\twalk_length: 10,\tp: 0.15,\tq: 0.20\tbuilding a node2vec model...\tnumber of walks: 83280\taverage walk length: 9.9904\ttraining time: 38.5841\n",
            "auc: 0.9262\n",
            "node dim: 10,\tnum_walks: 10,\twalk_length: 10,\tp: 0.15,\tq: 0.40\tbuilding a node2vec model...\tnumber of walks: 83280\taverage walk length: 9.9916\ttraining time: 38.4439\n",
            "auc: 0.9263\n",
            "node dim: 10,\tnum_walks: 10,\twalk_length: 10,\tp: 0.15,\tq: 0.60\tbuilding a node2vec model...\tnumber of walks: 83280\taverage walk length: 9.9914\ttraining time: 38.8157\n",
            "auc: 0.9260\n",
            "node dim: 10,\tnum_walks: 10,\twalk_length: 10,\tp: 0.15,\tq: 0.80\tbuilding a node2vec model...\tnumber of walks: 83280\taverage walk length: 9.9921\ttraining time: 38.6357\n",
            "auc: 0.9288\n",
            "node dim: 10,\tnum_walks: 10,\twalk_length: 10,\tp: 0.15,\tq: 1.00\tbuilding a node2vec model...\tnumber of walks: 83280\taverage walk length: 9.9927\ttraining time: 38.5176\n",
            "auc: 0.9272\n",
            "node dim: 10,\tnum_walks: 10,\twalk_length: 10,\tp: 0.15,\tq: 1.20\tbuilding a node2vec model...\tnumber of walks: 83280\taverage walk length: 9.9930\ttraining time: 38.2752\n",
            "auc: 0.9283\n",
            "node dim: 10,\tnum_walks: 10,\twalk_length: 10,\tp: 0.15,\tq: 1.40\tbuilding a node2vec model...\tnumber of walks: 83280\taverage walk length: 9.9918\ttraining time: 38.5498\n",
            "auc: 0.9283\n",
            "node dim: 10,\tnum_walks: 10,\twalk_length: 10,\tp: 0.15,\tq: 1.60\tbuilding a node2vec model...\tnumber of walks: 83280\taverage walk length: 9.9921\ttraining time: 38.3623\n",
            "auc: 0.9283\n",
            "node dim: 10,\tnum_walks: 10,\twalk_length: 10,\tp: 0.15,\tq: 1.80\tbuilding a node2vec model...\tnumber of walks: 83280\taverage walk length: 9.9925\ttraining time: 38.7664\n",
            "auc: 0.9283\n",
            "node dim: 10,\tnum_walks: 10,\twalk_length: 10,\tp: 0.20,\tq: 0.20\tbuilding a node2vec model...\tnumber of walks: 83280\taverage walk length: 9.9912\ttraining time: 39.1702\n",
            "auc: 0.9257\n",
            "node dim: 10,\tnum_walks: 10,\twalk_length: 10,\tp: 0.20,\tq: 0.40\tbuilding a node2vec model...\tnumber of walks: 83280\taverage walk length: 9.9920\ttraining time: 39.0103\n",
            "auc: 0.9271\n",
            "node dim: 10,\tnum_walks: 10,\twalk_length: 10,\tp: 0.20,\tq: 0.60\tbuilding a node2vec model...\tnumber of walks: 83280\taverage walk length: 9.9919\ttraining time: 38.9154\n",
            "auc: 0.9280\n",
            "node dim: 10,\tnum_walks: 10,\twalk_length: 10,\tp: 0.20,\tq: 0.80\tbuilding a node2vec model...\tnumber of walks: 83280\taverage walk length: 9.9921\ttraining time: 38.7002\n",
            "auc: 0.9272\n",
            "node dim: 10,\tnum_walks: 10,\twalk_length: 10,\tp: 0.20,\tq: 1.00\tbuilding a node2vec model...\tnumber of walks: 83280\taverage walk length: 9.9923\ttraining time: 38.7854\n",
            "auc: 0.9277\n",
            "node dim: 10,\tnum_walks: 10,\twalk_length: 10,\tp: 0.20,\tq: 1.20\tbuilding a node2vec model...\tnumber of walks: 83280\taverage walk length: 9.9923\ttraining time: 38.7070\n",
            "auc: 0.9281\n",
            "node dim: 10,\tnum_walks: 10,\twalk_length: 10,\tp: 0.20,\tq: 1.40\tbuilding a node2vec model...\tnumber of walks: 83280\taverage walk length: 9.9927\ttraining time: 38.5017\n",
            "auc: 0.9280\n",
            "node dim: 10,\tnum_walks: 10,\twalk_length: 10,\tp: 0.20,\tq: 1.60\tbuilding a node2vec model...\tnumber of walks: 83280\taverage walk length: 9.9918\ttraining time: 38.7444\n",
            "auc: 0.9285\n",
            "node dim: 10,\tnum_walks: 10,\twalk_length: 10,\tp: 0.20,\tq: 1.80\tbuilding a node2vec model...\tnumber of walks: 83280\taverage walk length: 9.9924\ttraining time: 38.5605\n",
            "auc: 0.9274\n",
            "node dim: 10,\tnum_walks: 10,\twalk_length: 10,\tp: 0.25,\tq: 0.20\tbuilding a node2vec model...\tnumber of walks: 83280\taverage walk length: 9.9896\ttraining time: 38.8849\n",
            "auc: 0.9255\n",
            "node dim: 10,\tnum_walks: 10,\twalk_length: 10,\tp: 0.25,\tq: 0.40\tbuilding a node2vec model...\tnumber of walks: 83280\taverage walk length: 9.9919\ttraining time: 38.7309\n",
            "auc: 0.9273\n",
            "node dim: 10,\tnum_walks: 10,\twalk_length: 10,\tp: 0.25,\tq: 0.60\tbuilding a node2vec model...\tnumber of walks: 83280\taverage walk length: 9.9910\ttraining time: 39.0732\n",
            "auc: 0.9266\n",
            "node dim: 10,\tnum_walks: 10,\twalk_length: 10,\tp: 0.25,\tq: 0.80\tbuilding a node2vec model...\tnumber of walks: 83280\taverage walk length: 9.9911\ttraining time: 38.4706\n",
            "auc: 0.9283\n",
            "node dim: 10,\tnum_walks: 10,\twalk_length: 10,\tp: 0.25,\tq: 1.00\tbuilding a node2vec model...\tnumber of walks: 83280\taverage walk length: 9.9921\ttraining time: 38.3699\n",
            "auc: 0.9284\n",
            "node dim: 10,\tnum_walks: 10,\twalk_length: 10,\tp: 0.25,\tq: 1.20\tbuilding a node2vec model...\tnumber of walks: 83280\taverage walk length: 9.9926\ttraining time: 38.3831\n",
            "auc: 0.9272\n",
            "node dim: 10,\tnum_walks: 10,\twalk_length: 10,\tp: 0.25,\tq: 1.40\tbuilding a node2vec model...\tnumber of walks: 83280\taverage walk length: 9.9925\ttraining time: 38.4033\n",
            "auc: 0.9283\n",
            "node dim: 10,\tnum_walks: 10,\twalk_length: 10,\tp: 0.25,\tq: 1.60\tbuilding a node2vec model...\tnumber of walks: 83280\taverage walk length: 9.9933\ttraining time: 38.4513\n",
            "auc: 0.9288\n",
            "node dim: 10,\tnum_walks: 10,\twalk_length: 10,\tp: 0.25,\tq: 1.80\tbuilding a node2vec model...\tnumber of walks: 83280\taverage walk length: 9.9921\ttraining time: 38.4091\n",
            "auc: 0.9293\n",
            "node dim: 10,\tnum_walks: 10,\twalk_length: 10,\tp: 0.30,\tq: 0.20\tbuilding a node2vec model...\tnumber of walks: 83280\taverage walk length: 9.9895\ttraining time: 38.9897\n",
            "auc: 0.9255\n",
            "node dim: 10,\tnum_walks: 10,\twalk_length: 10,\tp: 0.30,\tq: 0.40\tbuilding a node2vec model...\tnumber of walks: 83280\taverage walk length: 9.9918\ttraining time: 39.1409\n",
            "auc: 0.9280\n",
            "node dim: 10,\tnum_walks: 10,\twalk_length: 10,\tp: 0.30,\tq: 0.60\tbuilding a node2vec model...\tnumber of walks: 83280\taverage walk length: 9.9919\ttraining time: 38.6802\n",
            "auc: 0.9246\n",
            "node dim: 10,\tnum_walks: 10,\twalk_length: 10,\tp: 0.30,\tq: 0.80\tbuilding a node2vec model...\tnumber of walks: 83280\taverage walk length: 9.9928\ttraining time: 38.7459\n",
            "auc: 0.9278\n",
            "node dim: 10,\tnum_walks: 10,\twalk_length: 10,\tp: 0.30,\tq: 1.00\tbuilding a node2vec model...\tnumber of walks: 83280\taverage walk length: 9.9914\ttraining time: 38.3818\n",
            "auc: 0.9290\n",
            "node dim: 10,\tnum_walks: 10,\twalk_length: 10,\tp: 0.30,\tq: 1.20\tbuilding a node2vec model...\tnumber of walks: 83280\taverage walk length: 9.9910\ttraining time: 38.6945\n",
            "auc: 0.9275\n",
            "node dim: 10,\tnum_walks: 10,\twalk_length: 10,\tp: 0.30,\tq: 1.40\tbuilding a node2vec model...\tnumber of walks: 83280\taverage walk length: 9.9917\ttraining time: 38.5430\n",
            "auc: 0.9274\n",
            "node dim: 10,\tnum_walks: 10,\twalk_length: 10,\tp: 0.30,\tq: 1.60\tbuilding a node2vec model...\tnumber of walks: 83280\taverage walk length: 9.9925\ttraining time: 38.3401\n",
            "auc: 0.9279\n",
            "node dim: 10,\tnum_walks: 10,\twalk_length: 10,\tp: 0.30,\tq: 1.80\tbuilding a node2vec model...\tnumber of walks: 83280\taverage walk length: 9.9929\ttraining time: 38.3967\n",
            "auc: 0.9270\n",
            "node dim: 10,\tnum_walks: 10,\twalk_length: 10,\tp: 0.35,\tq: 0.20\tbuilding a node2vec model...\tnumber of walks: 83280\taverage walk length: 9.9897\ttraining time: 39.0187\n",
            "auc: 0.9266\n",
            "node dim: 10,\tnum_walks: 10,\twalk_length: 10,\tp: 0.35,\tq: 0.40\tbuilding a node2vec model...\tnumber of walks: 83280\taverage walk length: 9.9911\ttraining time: 38.7399\n",
            "auc: 0.9256\n",
            "node dim: 10,\tnum_walks: 10,\twalk_length: 10,\tp: 0.35,\tq: 0.60\tbuilding a node2vec model...\tnumber of walks: 83280\taverage walk length: 9.9915\ttraining time: 38.9736\n",
            "auc: 0.9263\n",
            "node dim: 10,\tnum_walks: 10,\twalk_length: 10,\tp: 0.35,\tq: 0.80\tbuilding a node2vec model...\tnumber of walks: 83280\taverage walk length: 9.9917\ttraining time: 38.8390\n",
            "auc: 0.9284\n",
            "node dim: 10,\tnum_walks: 10,\twalk_length: 10,\tp: 0.35,\tq: 1.00\tbuilding a node2vec model...\tnumber of walks: 83280\taverage walk length: 9.9917\ttraining time: 38.6800\n",
            "auc: 0.9289\n",
            "node dim: 10,\tnum_walks: 10,\twalk_length: 10,\tp: 0.35,\tq: 1.20\tbuilding a node2vec model...\tnumber of walks: 83280\taverage walk length: 9.9918\ttraining time: 38.8134\n",
            "auc: 0.9284\n",
            "node dim: 10,\tnum_walks: 10,\twalk_length: 10,\tp: 0.35,\tq: 1.40\tbuilding a node2vec model...\tnumber of walks: 83280\taverage walk length: 9.9918\ttraining time: 38.4473\n",
            "auc: 0.9273\n",
            "node dim: 10,\tnum_walks: 10,\twalk_length: 10,\tp: 0.35,\tq: 1.60\tbuilding a node2vec model...\tnumber of walks: 83280\taverage walk length: 9.9930\ttraining time: 38.0739\n",
            "auc: 0.9282\n",
            "node dim: 10,\tnum_walks: 10,\twalk_length: 10,\tp: 0.35,\tq: 1.80\tbuilding a node2vec model...\tnumber of walks: 83280\taverage walk length: 9.9917\ttraining time: 38.0948\n",
            "auc: 0.9279\n",
            "node dim: 10,\tnum_walks: 10,\twalk_length: 10,\tp: 0.40,\tq: 0.20\tbuilding a node2vec model...\tnumber of walks: 83280\taverage walk length: 9.9897\ttraining time: 38.8121\n",
            "auc: 0.9253\n",
            "node dim: 10,\tnum_walks: 10,\twalk_length: 10,\tp: 0.40,\tq: 0.40\tbuilding a node2vec model...\tnumber of walks: 83280\taverage walk length: 9.9911\ttraining time: 38.5382\n",
            "auc: 0.9258\n",
            "node dim: 10,\tnum_walks: 10,\twalk_length: 10,\tp: 0.40,\tq: 0.60\tbuilding a node2vec model...\tnumber of walks: 83280\taverage walk length: 9.9923\ttraining time: 38.8417\n",
            "auc: 0.9274\n",
            "node dim: 10,\tnum_walks: 10,\twalk_length: 10,\tp: 0.40,\tq: 0.80\tbuilding a node2vec model...\tnumber of walks: 83280\taverage walk length: 9.9927\ttraining time: 38.4669\n",
            "auc: 0.9288\n",
            "node dim: 10,\tnum_walks: 10,\twalk_length: 10,\tp: 0.40,\tq: 1.00\tbuilding a node2vec model...\tnumber of walks: 83280\taverage walk length: 9.9917\ttraining time: 38.4399\n",
            "auc: 0.9278\n",
            "node dim: 10,\tnum_walks: 10,\twalk_length: 10,\tp: 0.40,\tq: 1.20\tbuilding a node2vec model...\tnumber of walks: 83280\taverage walk length: 9.9912\ttraining time: 38.3360\n",
            "auc: 0.9275\n",
            "node dim: 10,\tnum_walks: 10,\twalk_length: 10,\tp: 0.40,\tq: 1.40\tbuilding a node2vec model...\tnumber of walks: 83280\taverage walk length: 9.9911\ttraining time: 38.6832\n",
            "auc: 0.9287\n",
            "node dim: 10,\tnum_walks: 10,\twalk_length: 10,\tp: 0.40,\tq: 1.60\tbuilding a node2vec model...\tnumber of walks: 83280\taverage walk length: 9.9914\ttraining time: 38.3777\n",
            "auc: 0.9287\n",
            "node dim: 10,\tnum_walks: 10,\twalk_length: 10,\tp: 0.40,\tq: 1.80\tbuilding a node2vec model...\tnumber of walks: 83280\taverage walk length: 9.9917\ttraining time: 38.3000\n",
            "auc: 0.9295\n",
            "node dim: 10,\tnum_walks: 10,\twalk_length: 10,\tp: 0.45,\tq: 0.20\tbuilding a node2vec model...\tnumber of walks: 83280\taverage walk length: 9.9893\ttraining time: 38.6987\n",
            "auc: 0.9252\n",
            "node dim: 10,\tnum_walks: 10,\twalk_length: 10,\tp: 0.45,\tq: 0.40\tbuilding a node2vec model...\tnumber of walks: 83280\taverage walk length: 9.9898\ttraining time: 38.6584\n",
            "auc: 0.9261\n",
            "node dim: 10,\tnum_walks: 10,\twalk_length: 10,\tp: 0.45,\tq: 0.60\tbuilding a node2vec model...\tnumber of walks: 83280\taverage walk length: 9.9920\ttraining time: 38.7133\n",
            "auc: 0.9243\n",
            "node dim: 10,\tnum_walks: 10,\twalk_length: 10,\tp: 0.45,\tq: 0.80\tbuilding a node2vec model...\tnumber of walks: 83280\taverage walk length: 9.9920\ttraining time: 38.1762\n",
            "auc: 0.9276\n",
            "node dim: 10,\tnum_walks: 10,\twalk_length: 10,\tp: 0.45,\tq: 1.00\tbuilding a node2vec model...\tnumber of walks: 83280\taverage walk length: 9.9913\ttraining time: 38.6598\n",
            "auc: 0.9265\n",
            "node dim: 10,\tnum_walks: 10,\twalk_length: 10,\tp: 0.45,\tq: 1.20\tbuilding a node2vec model...\tnumber of walks: 83280\taverage walk length: 9.9923\ttraining time: 38.5938\n",
            "auc: 0.9267\n",
            "node dim: 10,\tnum_walks: 10,\twalk_length: 10,\tp: 0.45,\tq: 1.40\tbuilding a node2vec model...\tnumber of walks: 83280\taverage walk length: 9.9919\ttraining time: 38.4400\n",
            "auc: 0.9281\n",
            "node dim: 10,\tnum_walks: 10,\twalk_length: 10,\tp: 0.45,\tq: 1.60\tbuilding a node2vec model...\tnumber of walks: 83280\taverage walk length: 9.9916\ttraining time: 38.6050\n",
            "auc: 0.9285\n",
            "node dim: 10,\tnum_walks: 10,\twalk_length: 10,\tp: 0.45,\tq: 1.80\tbuilding a node2vec model...\tnumber of walks: 83280\taverage walk length: 9.9922\ttraining time: 38.3238\n",
            "auc: 0.9284\n",
            "node dim: 10,\tnum_walks: 10,\twalk_length: 10,\tp: 0.50,\tq: 0.20\tbuilding a node2vec model...\tnumber of walks: 83280\taverage walk length: 9.9888\ttraining time: 38.6343\n",
            "auc: 0.9262\n",
            "node dim: 10,\tnum_walks: 10,\twalk_length: 10,\tp: 0.50,\tq: 0.40\tbuilding a node2vec model...\tnumber of walks: 83280\taverage walk length: 9.9913\ttraining time: 38.8609\n",
            "auc: 0.9256\n",
            "node dim: 10,\tnum_walks: 10,\twalk_length: 10,\tp: 0.50,\tq: 0.60\tbuilding a node2vec model...\tnumber of walks: 83280\taverage walk length: 9.9905\ttraining time: 38.9055\n",
            "auc: 0.9260\n",
            "node dim: 10,\tnum_walks: 10,\twalk_length: 10,\tp: 0.50,\tq: 0.80\tbuilding a node2vec model...\tnumber of walks: 83280\taverage walk length: 9.9906\ttraining time: 38.4534\n",
            "auc: 0.9277\n",
            "node dim: 10,\tnum_walks: 10,\twalk_length: 10,\tp: 0.50,\tq: 1.00\tbuilding a node2vec model...\tnumber of walks: 83280\taverage walk length: 9.9915\ttraining time: 38.4920\n",
            "auc: 0.9276\n",
            "node dim: 10,\tnum_walks: 10,\twalk_length: 10,\tp: 0.50,\tq: 1.20\tbuilding a node2vec model...\tnumber of walks: 83280\taverage walk length: 9.9916\ttraining time: 38.3637\n",
            "auc: 0.9283\n",
            "node dim: 10,\tnum_walks: 10,\twalk_length: 10,\tp: 0.50,\tq: 1.40\tbuilding a node2vec model...\tnumber of walks: 83280\taverage walk length: 9.9920\ttraining time: 38.2355\n",
            "auc: 0.9277\n",
            "node dim: 10,\tnum_walks: 10,\twalk_length: 10,\tp: 0.50,\tq: 1.60\tbuilding a node2vec model...\tnumber of walks: 83280\taverage walk length: 9.9923\ttraining time: 38.3478\n",
            "auc: 0.9287\n",
            "node dim: 10,\tnum_walks: 10,\twalk_length: 10,\tp: 0.50,\tq: 1.80\tbuilding a node2vec model...\tnumber of walks: 83280\taverage walk length: 9.9915\ttraining time: 38.1684\n",
            "auc: 0.9285\n"
          ],
          "name": "stdout"
        }
      ]
    },
    {
      "cell_type": "code",
      "metadata": {
        "colab": {
          "base_uri": "https://localhost:8080/"
        },
        "id": "hpp5RkmXGdaR",
        "outputId": "c4d78cef-14b1-44b9-819d-db98fe2895ed"
      },
      "source": [
        "node2vec_auc_scores"
      ],
      "execution_count": 38,
      "outputs": [
        {
          "output_type": "execute_result",
          "data": {
            "text/plain": [
              "{(10, 10, 10, 0.1, 0.2): 0.9283128532657207,\n",
              " (10, 10, 10, 0.1, 0.4): 0.9277977394899111,\n",
              " (10, 10, 10, 0.1, 0.6): 0.9270820645503892,\n",
              " (10, 10, 10, 0.1, 0.8): 0.9275579232416575,\n",
              " (10, 10, 10, 0.1, 1.0): 0.9286193651067223,\n",
              " (10, 10, 10, 0.1, 1.2): 0.9284984468795019,\n",
              " (10, 10, 10, 0.1, 1.4): 0.9262283985135128,\n",
              " (10, 10, 10, 0.1, 1.6): 0.927913348104587,\n",
              " (10, 10, 10, 0.1, 1.8): 0.9272819285301819,\n",
              " (10, 10, 10, 0.15, 0.2): 0.926222212727281,\n",
              " (10, 10, 10, 0.15, 0.4): 0.9262952943745324,\n",
              " (10, 10, 10, 0.15, 0.6): 0.9259913659942313,\n",
              " (10, 10, 10, 0.15, 0.8): 0.9288199400388786,\n",
              " (10, 10, 10, 0.15, 1.0): 0.927232506075839,\n",
              " (10, 10, 10, 0.15, 1.2): 0.9283229505416276,\n",
              " (10, 10, 10, 0.15, 1.4): 0.928276684815912,\n",
              " (10, 10, 10, 0.15, 1.6): 0.9282793721657784,\n",
              " (10, 10, 10, 0.15, 1.8): 0.9282524949120845,\n",
              " (10, 10, 10, 0.2, 0.2): 0.9257090077584328,\n",
              " (10, 10, 10, 0.2, 0.4): 0.9271376364923397,\n",
              " (10, 10, 10, 0.2, 0.6): 0.9280009241679785,\n",
              " (10, 10, 10, 0.2, 0.8): 0.9272483523028108,\n",
              " (10, 10, 10, 0.2, 1.0): 0.9276680958244425,\n",
              " (10, 10, 10, 0.2, 1.2): 0.9281397851806366,\n",
              " (10, 10, 10, 0.2, 1.4): 0.928022458013857,\n",
              " (10, 10, 10, 0.2, 1.6): 0.9284839386949182,\n",
              " (10, 10, 10, 0.2, 1.8): 0.927350251302635,\n",
              " (10, 10, 10, 0.25, 0.2): 0.9255182422165436,\n",
              " (10, 10, 10, 0.25, 0.4): 0.9273497055715954,\n",
              " (10, 10, 10, 0.25, 0.6): 0.926572590829772,\n",
              " (10, 10, 10, 0.25, 0.8): 0.9282574778370113,\n",
              " (10, 10, 10, 0.25, 1.0): 0.928424445249879,\n",
              " (10, 10, 10, 0.25, 1.2): 0.9272314797009482,\n",
              " (10, 10, 10, 0.25, 1.4): 0.9283036121366739,\n",
              " (10, 10, 10, 0.25, 1.6): 0.9288013188446717,\n",
              " (10, 10, 10, 0.25, 1.8): 0.9293177493843654,\n",
              " (10, 10, 10, 0.3, 0.2): 0.9255036001025534,\n",
              " (10, 10, 10, 0.3, 0.4): 0.9280311283783305,\n",
              " (10, 10, 10, 0.3, 0.6): 0.9246401271787636,\n",
              " (10, 10, 10, 0.3, 0.8): 0.9278250272935613,\n",
              " (10, 10, 10, 0.3, 1.0): 0.9289998823323771,\n",
              " (10, 10, 10, 0.3, 1.2): 0.9274561919665105,\n",
              " (10, 10, 10, 0.3, 1.4): 0.9274159981244476,\n",
              " (10, 10, 10, 0.3, 1.6): 0.9278798569912312,\n",
              " (10, 10, 10, 0.3, 1.8): 0.9270354909122063,\n",
              " (10, 10, 10, 0.35, 0.2): 0.9266039616028046,\n",
              " (10, 10, 10, 0.35, 0.4): 0.9256442409994733,\n",
              " (10, 10, 10, 0.35, 0.6): 0.9262779160952846,\n",
              " (10, 10, 10, 0.35, 0.8): 0.9284484023418411,\n",
              " (10, 10, 10, 0.35, 1.0): 0.9288854202535548,\n",
              " (10, 10, 10, 0.35, 1.2): 0.9284315785553696,\n",
              " (10, 10, 10, 0.35, 1.4): 0.9273174561215222,\n",
              " (10, 10, 10, 0.35, 1.6): 0.928245232683894,\n",
              " (10, 10, 10, 0.35, 1.8): 0.9279102126544634,\n",
              " (10, 10, 10, 0.4, 0.2): 0.9253111973675456,\n",
              " (10, 10, 10, 0.4, 0.4): 0.9257935134588888,\n",
              " (10, 10, 10, 0.4, 0.6): 0.9273531889878406,\n",
              " (10, 10, 10, 0.4, 0.8): 0.928804125103824,\n",
              " (10, 10, 10, 0.4, 1.0): 0.9278093287644396,\n",
              " (10, 10, 10, 0.4, 1.2): 0.9275138266716563,\n",
              " (10, 10, 10, 0.4, 1.4): 0.928671473659255,\n",
              " (10, 10, 10, 0.4, 1.6): 0.928748575692054,\n",
              " (10, 10, 10, 0.4, 1.8): 0.9295058062978844,\n",
              " (10, 10, 10, 0.45, 0.2): 0.9252348050354333,\n",
              " (10, 10, 10, 0.45, 0.4): 0.9261177853405308,\n",
              " (10, 10, 10, 0.45, 0.6): 0.9242801587294276,\n",
              " (10, 10, 10, 0.45, 0.8): 0.927610275871146,\n",
              " (10, 10, 10, 0.45, 1.0): 0.9264686215566926,\n",
              " (10, 10, 10, 0.45, 1.2): 0.926666497873892,\n",
              " (10, 10, 10, 0.45, 1.4): 0.9281159807932313,\n",
              " (10, 10, 10, 0.45, 1.6): 0.9284691789233185,\n",
              " (10, 10, 10, 0.45, 1.8): 0.9283638603427609,\n",
              " (10, 10, 10, 0.5, 0.2): 0.9261891309122048,\n",
              " (10, 10, 10, 0.5, 0.4): 0.9256144848893785,\n",
              " (10, 10, 10, 0.5, 0.6): 0.9260274768669119,\n",
              " (10, 10, 10, 0.5, 0.8): 0.9277190578411216,\n",
              " (10, 10, 10, 0.5, 1.0): 0.9276383810196788,\n",
              " (10, 10, 10, 0.5, 1.2): 0.9282617072525673,\n",
              " (10, 10, 10, 0.5, 1.4): 0.92769838514881,\n",
              " (10, 10, 10, 0.5, 1.6): 0.9287155489507525,\n",
              " (10, 10, 10, 0.5, 1.8): 0.9285445774241343}"
            ]
          },
          "metadata": {
            "tags": []
          },
          "execution_count": 38
        }
      ]
    },
    {
      "cell_type": "code",
      "metadata": {
        "colab": {
          "base_uri": "https://localhost:8080/",
          "height": 296
        },
        "id": "KV6jn38kGkKw",
        "outputId": "f2128606-c2ec-49b0-b32a-c4767429dd48"
      },
      "source": [
        "# a = np.array([[node2vec_auc_scores[(node_dim, num_walks, walk_length, pi, pi)] for pi in [0.2, 0.4, 0.6, 0.8, 1.0, 1.2, 1.4, 1.6, 1.8]]])\n",
        "a = np.array([[node2vec_auc_scores[(node_dim, num_walks, walk_length, pi, qi)] for pi in [0.1, 0.15, 0.2, 0.25, 0.3, 0.35, 0.4, 0.45, 0.5]] for qi in [0.2, 0.4, 0.6, 0.8, 1.0, 1.2, 1.4, 1.6, 1.8]])\n",
        "plt.imshow(a, cmap=\"hot\", interpolation=\"nearest\")\n",
        "plt.colorbar()\n",
        "plt.xticks(ticks=[0, 1, 2, 3, 4, 5, 6, 7, 8], labels=[0.1, 0.15, 0.2, 0.25, 0.3, 0.35, 0.4, 0.45, 0.5])\n",
        "plt.xlabel(\"p\")\n",
        "plt.yticks(ticks=[0, 1, 2, 3, 4, 5, 6, 7, 8], labels=[0.2, 0.4, 0.6, 0.8, 1.0, 1.2, 1.4, 1.6, 1.8])\n",
        "plt.ylabel(\"q\")"
      ],
      "execution_count": 39,
      "outputs": [
        {
          "output_type": "execute_result",
          "data": {
            "text/plain": [
              "Text(0, 0.5, 'q')"
            ]
          },
          "metadata": {
            "tags": []
          },
          "execution_count": 39
        },
        {
          "output_type": "display_data",
          "data": {
            "image/png": "[encoded data removed]",
            "text/plain": [
              "<Figure size 432x288 with 2 Axes>"
            ]
          },
          "metadata": {
            "tags": [],
            "needs_background": "light"
          }
        }
      ]
    },
    {
      "cell_type": "markdown",
      "metadata": {
        "id": "piQBiR87TILT"
      },
      "source": [
        "## num_walks, walk_length"
      ]
    },
    {
      "cell_type": "code",
      "metadata": {
        "id": "TN9ditUqIlVY"
      },
      "source": [
        "np.random.seed(0)\n",
        "\n",
        "node_dim = 10\n",
        "num_walks = 10\n",
        "walk_length = 10\n",
        "p = 0.5\n",
        "q = 0.5"
      ],
      "execution_count": 40,
      "outputs": []
    },
    {
      "cell_type": "code",
      "metadata": {
        "colab": {
          "base_uri": "https://localhost:8080/"
        },
        "id": "XbfiXmVKHrXH",
        "outputId": "733271d2-1d6d-4c84-dbb2-5ead0ad6a7b6"
      },
      "source": [
        "walk_length_list = [10, 20, 40]\n",
        "num_walks_list = [5, 10, 20, 40]\n",
        "\n",
        "for walk_length_i in walk_length_list:\n",
        "    for num_walks_i in num_walks_list:\n",
        "        print(\"node dim: %d,\\tnum_walks: %d,\\twalk_length: %d,\\tp: %.2f,\\tq: %.2f\" % (\n",
        "            node_dim, num_walks_i, walk_length_i, p, q), end=\"\\t\")\n",
        "        alias_nodes, alias_edges = preprocess_transition_probs(graph, p=p, q=q)\n",
        "        model = build_node2vec(graph, alias_nodes, alias_edges, \n",
        "                              node_dim=node_dim, num_walks=num_walks_i, walk_length=walk_length_i)\n",
        "        node2vec_auc_scores[(node_dim, num_walks_i, walk_length_i, p, q)] = get_auc_score(model, valid_edges, false_edges)\n",
        "        print(\"auc: %.4f\" % (node2vec_auc_scores[(node_dim, num_walks_i, walk_length_i, p, q)]))"
      ],
      "execution_count": 41,
      "outputs": [
        {
          "output_type": "stream",
          "text": [
            "node dim: 10,\tnum_walks: 5,\twalk_length: 10,\tp: 0.50,\tq: 0.50\tbuilding a node2vec model...\tnumber of walks: 41640\taverage walk length: 9.9919\ttraining time: 19.7350\n",
            "auc: 0.9149\n",
            "node dim: 10,\tnum_walks: 10,\twalk_length: 10,\tp: 0.50,\tq: 0.50\tbuilding a node2vec model...\tnumber of walks: 83280\taverage walk length: 9.9918\ttraining time: 38.9393\n",
            "auc: 0.9259\n",
            "node dim: 10,\tnum_walks: 20,\twalk_length: 10,\tp: 0.50,\tq: 0.50\tbuilding a node2vec model...\tnumber of walks: 166560\taverage walk length: 9.9915\ttraining time: 77.2605\n",
            "auc: 0.9280\n",
            "node dim: 10,\tnum_walks: 40,\twalk_length: 10,\tp: 0.50,\tq: 0.50\tbuilding a node2vec model...\tnumber of walks: 333120\taverage walk length: 9.9912\ttraining time: 153.8914\n",
            "auc: 0.9279\n",
            "node dim: 10,\tnum_walks: 5,\twalk_length: 20,\tp: 0.50,\tq: 0.50\tbuilding a node2vec model...\tnumber of walks: 41640\taverage walk length: 19.9671\ttraining time: 34.8222\n",
            "auc: 0.9259\n",
            "node dim: 10,\tnum_walks: 10,\twalk_length: 20,\tp: 0.50,\tq: 0.50\tbuilding a node2vec model...\tnumber of walks: 83280\taverage walk length: 19.9665\ttraining time: 69.0673\n",
            "auc: 0.9306\n",
            "node dim: 10,\tnum_walks: 20,\twalk_length: 20,\tp: 0.50,\tq: 0.50\tbuilding a node2vec model...\tnumber of walks: 166560\taverage walk length: 19.9677\ttraining time: 137.7387\n",
            "auc: 0.9296\n",
            "node dim: 10,\tnum_walks: 40,\twalk_length: 20,\tp: 0.50,\tq: 0.50\tbuilding a node2vec model...\tnumber of walks: 333120\taverage walk length: 19.9678\ttraining time: 272.7769\n",
            "auc: 0.9271\n",
            "node dim: 10,\tnum_walks: 5,\twalk_length: 40,\tp: 0.50,\tq: 0.50\tbuilding a node2vec model...\tnumber of walks: 41640\taverage walk length: 39.8780\ttraining time: 65.3077\n",
            "auc: 0.9295\n",
            "node dim: 10,\tnum_walks: 10,\twalk_length: 40,\tp: 0.50,\tq: 0.50\tbuilding a node2vec model...\tnumber of walks: 83280\taverage walk length: 39.8755\ttraining time: 128.6934\n",
            "auc: 0.9290\n",
            "node dim: 10,\tnum_walks: 20,\twalk_length: 40,\tp: 0.50,\tq: 0.50\tbuilding a node2vec model...\tnumber of walks: 166560\taverage walk length: 39.8758\ttraining time: 254.9106\n",
            "auc: 0.9254\n",
            "node dim: 10,\tnum_walks: 40,\twalk_length: 40,\tp: 0.50,\tq: 0.50\tbuilding a node2vec model...\tnumber of walks: 333120\taverage walk length: 39.8776\ttraining time: 507.5588\n",
            "auc: 0.9230\n"
          ],
          "name": "stdout"
        }
      ]
    },
    {
      "cell_type": "code",
      "metadata": {
        "colab": {
          "base_uri": "https://localhost:8080/"
        },
        "id": "9txyzH8j-ZMS",
        "outputId": "39283deb-bd3f-4e31-832e-b94ab5878e11"
      },
      "source": [
        "node2vec_auc_scores"
      ],
      "execution_count": 42,
      "outputs": [
        {
          "output_type": "execute_result",
          "data": {
            "text/plain": [
              "{(10, 5, 10, 0.5, 0.5): 0.9148696790773048,\n",
              " (10, 5, 20, 0.5, 0.5): 0.9259271086676868,\n",
              " (10, 5, 40, 0.5, 0.5): 0.9294610500942643,\n",
              " (10, 10, 10, 0.1, 0.2): 0.9283128532657207,\n",
              " (10, 10, 10, 0.1, 0.4): 0.9277977394899111,\n",
              " (10, 10, 10, 0.1, 0.6): 0.9270820645503892,\n",
              " (10, 10, 10, 0.1, 0.8): 0.9275579232416575,\n",
              " (10, 10, 10, 0.1, 1.0): 0.9286193651067223,\n",
              " (10, 10, 10, 0.1, 1.2): 0.9284984468795019,\n",
              " (10, 10, 10, 0.1, 1.4): 0.9262283985135128,\n",
              " (10, 10, 10, 0.1, 1.6): 0.927913348104587,\n",
              " (10, 10, 10, 0.1, 1.8): 0.9272819285301819,\n",
              " (10, 10, 10, 0.15, 0.2): 0.926222212727281,\n",
              " (10, 10, 10, 0.15, 0.4): 0.9262952943745324,\n",
              " (10, 10, 10, 0.15, 0.6): 0.9259913659942313,\n",
              " (10, 10, 10, 0.15, 0.8): 0.9288199400388786,\n",
              " (10, 10, 10, 0.15, 1.0): 0.927232506075839,\n",
              " (10, 10, 10, 0.15, 1.2): 0.9283229505416276,\n",
              " (10, 10, 10, 0.15, 1.4): 0.928276684815912,\n",
              " (10, 10, 10, 0.15, 1.6): 0.9282793721657784,\n",
              " (10, 10, 10, 0.15, 1.8): 0.9282524949120845,\n",
              " (10, 10, 10, 0.2, 0.2): 0.9257090077584328,\n",
              " (10, 10, 10, 0.2, 0.4): 0.9271376364923397,\n",
              " (10, 10, 10, 0.2, 0.6): 0.9280009241679785,\n",
              " (10, 10, 10, 0.2, 0.8): 0.9272483523028108,\n",
              " (10, 10, 10, 0.2, 1.0): 0.9276680958244425,\n",
              " (10, 10, 10, 0.2, 1.2): 0.9281397851806366,\n",
              " (10, 10, 10, 0.2, 1.4): 0.928022458013857,\n",
              " (10, 10, 10, 0.2, 1.6): 0.9284839386949182,\n",
              " (10, 10, 10, 0.2, 1.8): 0.927350251302635,\n",
              " (10, 10, 10, 0.25, 0.2): 0.9255182422165436,\n",
              " (10, 10, 10, 0.25, 0.4): 0.9273497055715954,\n",
              " (10, 10, 10, 0.25, 0.6): 0.926572590829772,\n",
              " (10, 10, 10, 0.25, 0.8): 0.9282574778370113,\n",
              " (10, 10, 10, 0.25, 1.0): 0.928424445249879,\n",
              " (10, 10, 10, 0.25, 1.2): 0.9272314797009482,\n",
              " (10, 10, 10, 0.25, 1.4): 0.9283036121366739,\n",
              " (10, 10, 10, 0.25, 1.6): 0.9288013188446717,\n",
              " (10, 10, 10, 0.25, 1.8): 0.9293177493843654,\n",
              " (10, 10, 10, 0.3, 0.2): 0.9255036001025534,\n",
              " (10, 10, 10, 0.3, 0.4): 0.9280311283783305,\n",
              " (10, 10, 10, 0.3, 0.6): 0.9246401271787636,\n",
              " (10, 10, 10, 0.3, 0.8): 0.9278250272935613,\n",
              " (10, 10, 10, 0.3, 1.0): 0.9289998823323771,\n",
              " (10, 10, 10, 0.3, 1.2): 0.9274561919665105,\n",
              " (10, 10, 10, 0.3, 1.4): 0.9274159981244476,\n",
              " (10, 10, 10, 0.3, 1.6): 0.9278798569912312,\n",
              " (10, 10, 10, 0.3, 1.8): 0.9270354909122063,\n",
              " (10, 10, 10, 0.35, 0.2): 0.9266039616028046,\n",
              " (10, 10, 10, 0.35, 0.4): 0.9256442409994733,\n",
              " (10, 10, 10, 0.35, 0.6): 0.9262779160952846,\n",
              " (10, 10, 10, 0.35, 0.8): 0.9284484023418411,\n",
              " (10, 10, 10, 0.35, 1.0): 0.9288854202535548,\n",
              " (10, 10, 10, 0.35, 1.2): 0.9284315785553696,\n",
              " (10, 10, 10, 0.35, 1.4): 0.9273174561215222,\n",
              " (10, 10, 10, 0.35, 1.6): 0.928245232683894,\n",
              " (10, 10, 10, 0.35, 1.8): 0.9279102126544634,\n",
              " (10, 10, 10, 0.4, 0.2): 0.9253111973675456,\n",
              " (10, 10, 10, 0.4, 0.4): 0.9257935134588888,\n",
              " (10, 10, 10, 0.4, 0.6): 0.9273531889878406,\n",
              " (10, 10, 10, 0.4, 0.8): 0.928804125103824,\n",
              " (10, 10, 10, 0.4, 1.0): 0.9278093287644396,\n",
              " (10, 10, 10, 0.4, 1.2): 0.9275138266716563,\n",
              " (10, 10, 10, 0.4, 1.4): 0.928671473659255,\n",
              " (10, 10, 10, 0.4, 1.6): 0.928748575692054,\n",
              " (10, 10, 10, 0.4, 1.8): 0.9295058062978844,\n",
              " (10, 10, 10, 0.45, 0.2): 0.9252348050354333,\n",
              " (10, 10, 10, 0.45, 0.4): 0.9261177853405308,\n",
              " (10, 10, 10, 0.45, 0.6): 0.9242801587294276,\n",
              " (10, 10, 10, 0.45, 0.8): 0.927610275871146,\n",
              " (10, 10, 10, 0.45, 1.0): 0.9264686215566926,\n",
              " (10, 10, 10, 0.45, 1.2): 0.926666497873892,\n",
              " (10, 10, 10, 0.45, 1.4): 0.9281159807932313,\n",
              " (10, 10, 10, 0.45, 1.6): 0.9284691789233185,\n",
              " (10, 10, 10, 0.45, 1.8): 0.9283638603427609,\n",
              " (10, 10, 10, 0.5, 0.2): 0.9261891309122048,\n",
              " (10, 10, 10, 0.5, 0.4): 0.9256144848893785,\n",
              " (10, 10, 10, 0.5, 0.5): 0.9259162466173186,\n",
              " (10, 10, 10, 0.5, 0.6): 0.9260274768669119,\n",
              " (10, 10, 10, 0.5, 0.8): 0.9277190578411216,\n",
              " (10, 10, 10, 0.5, 1.0): 0.9276383810196788,\n",
              " (10, 10, 10, 0.5, 1.2): 0.9282617072525673,\n",
              " (10, 10, 10, 0.5, 1.4): 0.92769838514881,\n",
              " (10, 10, 10, 0.5, 1.6): 0.9287155489507525,\n",
              " (10, 10, 10, 0.5, 1.8): 0.9285445774241343,\n",
              " (10, 10, 20, 0.5, 0.5): 0.9305588056036345,\n",
              " (10, 10, 40, 0.5, 0.5): 0.9289993040577436,\n",
              " (10, 20, 10, 0.5, 0.5): 0.9279785366785931,\n",
              " (10, 20, 20, 0.5, 0.5): 0.9295581927226435,\n",
              " (10, 20, 40, 0.5, 0.5): 0.9254059129948113,\n",
              " (10, 40, 10, 0.5, 0.5): 0.9279450217833802,\n",
              " (10, 40, 20, 0.5, 0.5): 0.9270796162707717,\n",
              " (10, 40, 40, 0.5, 0.5): 0.9229817081269385}"
            ]
          },
          "metadata": {
            "tags": []
          },
          "execution_count": 42
        }
      ]
    },
    {
      "cell_type": "code",
      "metadata": {
        "colab": {
          "base_uri": "https://localhost:8080/",
          "height": 297
        },
        "id": "2CowrCoWMx-2",
        "outputId": "d73d1200-baf1-4c85-fbfa-73e2ba59c39d"
      },
      "source": [
        "plt.figure(figsize=(6, 4))\n",
        "a = np.array([[node2vec_auc_scores[(node_dim, num_walks, walk_length, p, q)] for walk_length in [10, 20, 40]] for num_walks in [5, 10, 20, 40]])\n",
        "plt.imshow(a, cmap=\"hot\", interpolation=\"nearest\")\n",
        "plt.colorbar()\n",
        "plt.xticks(ticks=[0,1,2], labels=[10, 20, 40])\n",
        "plt.xlabel(\"walk_length\")\n",
        "plt.yticks(ticks=[0,1,2,3], labels=[5, 10, 20, 40])\n",
        "plt.ylabel(\"num_walks\")"
      ],
      "execution_count": 43,
      "outputs": [
        {
          "output_type": "execute_result",
          "data": {
            "text/plain": [
              "Text(0, 0.5, 'num_walks')"
            ]
          },
          "metadata": {
            "tags": []
          },
          "execution_count": 43
        },
        {
          "output_type": "display_data",
          "data": {
            "image/png": "[encoded data removed]",
            "text/plain": [
              "<Figure size 432x288 with 2 Axes>"
            ]
          },
          "metadata": {
            "tags": [],
            "needs_background": "light"
          }
        }
      ]
    },
    {
      "cell_type": "markdown",
      "metadata": {
        "id": "EL2sLZS1TOvn"
      },
      "source": [
        "## node_dim"
      ]
    },
    {
      "cell_type": "code",
      "metadata": {
        "id": "o7IXJ-WbTU2w"
      },
      "source": [
        "np.random.seed(0)\n",
        "\n",
        "node_dim = 10\n",
        "num_walks = 10\n",
        "walk_length = 10\n",
        "p = 0.5\n",
        "q = 0.5"
      ],
      "execution_count": 44,
      "outputs": []
    },
    {
      "cell_type": "code",
      "metadata": {
        "colab": {
          "base_uri": "https://localhost:8080/"
        },
        "id": "1KjjNb06TU8r",
        "outputId": "d3a05701-2988-4930-ca15-54d4a0e8f561"
      },
      "source": [
        "node_dim_list = [5, 10, 20, 30, 40]\n",
        "\n",
        "for node_dim_i in node_dim_list:\n",
        "    print(\"node dim: %d,\\tnum_walks: %d,\\twalk_length: %d,\\tp: %.2f,\\tq: %.2f\" % (\n",
        "        node_dim_i, num_walks, walk_length, p, q), end=\"\\t\")\n",
        "    alias_nodes, alias_edges = preprocess_transition_probs(graph, p=p, q=q)\n",
        "    model = build_node2vec(graph, alias_nodes, alias_edges, \n",
        "                          node_dim=node_dim_i, num_walks=num_walks, walk_length=walk_length)\n",
        "    node2vec_auc_scores[(node_dim_i, num_walks, walk_length, p, q)] = get_auc_score(model, valid_edges, false_edges)\n",
        "    print(\"auc: %.4f\" % (node2vec_auc_scores[(node_dim_i, num_walks, walk_length, p, q)]))"
      ],
      "execution_count": 45,
      "outputs": [
        {
          "output_type": "stream",
          "text": [
            "node dim: 5,\tnum_walks: 10,\twalk_length: 10,\tp: 0.50,\tq: 0.50\tbuilding a node2vec model...\tnumber of walks: 83280\taverage walk length: 9.9918\ttraining time: 36.8965\n",
            "auc: 0.9146\n",
            "node dim: 10,\tnum_walks: 10,\twalk_length: 10,\tp: 0.50,\tq: 0.50\tbuilding a node2vec model...\tnumber of walks: 83280\taverage walk length: 9.9918\ttraining time: 39.0596\n",
            "auc: 0.9257\n",
            "node dim: 20,\tnum_walks: 10,\twalk_length: 10,\tp: 0.50,\tq: 0.50\tbuilding a node2vec model...\tnumber of walks: 83280\taverage walk length: 9.9918\ttraining time: 44.0819\n",
            "auc: 0.9074\n",
            "node dim: 30,\tnum_walks: 10,\twalk_length: 10,\tp: 0.50,\tq: 0.50\tbuilding a node2vec model...\tnumber of walks: 83280\taverage walk length: 9.9918\ttraining time: 49.0307\n",
            "auc: 0.8831\n",
            "node dim: 40,\tnum_walks: 10,\twalk_length: 10,\tp: 0.50,\tq: 0.50\tbuilding a node2vec model...\tnumber of walks: 83280\taverage walk length: 9.9918\ttraining time: 41.9930\n",
            "auc: 0.8549\n"
          ],
          "name": "stdout"
        }
      ]
    },
    {
      "cell_type": "code",
      "metadata": {
        "colab": {
          "base_uri": "https://localhost:8080/"
        },
        "id": "8zvSXMbX-dY6",
        "outputId": "45219c4e-62ca-4d26-e52f-5e50aa75bcdb"
      },
      "source": [
        "node2vec_auc_scores"
      ],
      "execution_count": 46,
      "outputs": [
        {
          "output_type": "execute_result",
          "data": {
            "text/plain": [
              "{(5, 10, 10, 0.5, 0.5): 0.9146188355573592,\n",
              " (10, 5, 10, 0.5, 0.5): 0.9148696790773048,\n",
              " (10, 5, 20, 0.5, 0.5): 0.9259271086676868,\n",
              " (10, 5, 40, 0.5, 0.5): 0.9294610500942643,\n",
              " (10, 10, 10, 0.1, 0.2): 0.9283128532657207,\n",
              " (10, 10, 10, 0.1, 0.4): 0.9277977394899111,\n",
              " (10, 10, 10, 0.1, 0.6): 0.9270820645503892,\n",
              " (10, 10, 10, 0.1, 0.8): 0.9275579232416575,\n",
              " (10, 10, 10, 0.1, 1.0): 0.9286193651067223,\n",
              " (10, 10, 10, 0.1, 1.2): 0.9284984468795019,\n",
              " (10, 10, 10, 0.1, 1.4): 0.9262283985135128,\n",
              " (10, 10, 10, 0.1, 1.6): 0.927913348104587,\n",
              " (10, 10, 10, 0.1, 1.8): 0.9272819285301819,\n",
              " (10, 10, 10, 0.15, 0.2): 0.926222212727281,\n",
              " (10, 10, 10, 0.15, 0.4): 0.9262952943745324,\n",
              " (10, 10, 10, 0.15, 0.6): 0.9259913659942313,\n",
              " (10, 10, 10, 0.15, 0.8): 0.9288199400388786,\n",
              " (10, 10, 10, 0.15, 1.0): 0.927232506075839,\n",
              " (10, 10, 10, 0.15, 1.2): 0.9283229505416276,\n",
              " (10, 10, 10, 0.15, 1.4): 0.928276684815912,\n",
              " (10, 10, 10, 0.15, 1.6): 0.9282793721657784,\n",
              " (10, 10, 10, 0.15, 1.8): 0.9282524949120845,\n",
              " (10, 10, 10, 0.2, 0.2): 0.9257090077584328,\n",
              " (10, 10, 10, 0.2, 0.4): 0.9271376364923397,\n",
              " (10, 10, 10, 0.2, 0.6): 0.9280009241679785,\n",
              " (10, 10, 10, 0.2, 0.8): 0.9272483523028108,\n",
              " (10, 10, 10, 0.2, 1.0): 0.9276680958244425,\n",
              " (10, 10, 10, 0.2, 1.2): 0.9281397851806366,\n",
              " (10, 10, 10, 0.2, 1.4): 0.928022458013857,\n",
              " (10, 10, 10, 0.2, 1.6): 0.9284839386949182,\n",
              " (10, 10, 10, 0.2, 1.8): 0.927350251302635,\n",
              " (10, 10, 10, 0.25, 0.2): 0.9255182422165436,\n",
              " (10, 10, 10, 0.25, 0.4): 0.9273497055715954,\n",
              " (10, 10, 10, 0.25, 0.6): 0.926572590829772,\n",
              " (10, 10, 10, 0.25, 0.8): 0.9282574778370113,\n",
              " (10, 10, 10, 0.25, 1.0): 0.928424445249879,\n",
              " (10, 10, 10, 0.25, 1.2): 0.9272314797009482,\n",
              " (10, 10, 10, 0.25, 1.4): 0.9283036121366739,\n",
              " (10, 10, 10, 0.25, 1.6): 0.9288013188446717,\n",
              " (10, 10, 10, 0.25, 1.8): 0.9293177493843654,\n",
              " (10, 10, 10, 0.3, 0.2): 0.9255036001025534,\n",
              " (10, 10, 10, 0.3, 0.4): 0.9280311283783305,\n",
              " (10, 10, 10, 0.3, 0.6): 0.9246401271787636,\n",
              " (10, 10, 10, 0.3, 0.8): 0.9278250272935613,\n",
              " (10, 10, 10, 0.3, 1.0): 0.9289998823323771,\n",
              " (10, 10, 10, 0.3, 1.2): 0.9274561919665105,\n",
              " (10, 10, 10, 0.3, 1.4): 0.9274159981244476,\n",
              " (10, 10, 10, 0.3, 1.6): 0.9278798569912312,\n",
              " (10, 10, 10, 0.3, 1.8): 0.9270354909122063,\n",
              " (10, 10, 10, 0.35, 0.2): 0.9266039616028046,\n",
              " (10, 10, 10, 0.35, 0.4): 0.9256442409994733,\n",
              " (10, 10, 10, 0.35, 0.6): 0.9262779160952846,\n",
              " (10, 10, 10, 0.35, 0.8): 0.9284484023418411,\n",
              " (10, 10, 10, 0.35, 1.0): 0.9288854202535548,\n",
              " (10, 10, 10, 0.35, 1.2): 0.9284315785553696,\n",
              " (10, 10, 10, 0.35, 1.4): 0.9273174561215222,\n",
              " (10, 10, 10, 0.35, 1.6): 0.928245232683894,\n",
              " (10, 10, 10, 0.35, 1.8): 0.9279102126544634,\n",
              " (10, 10, 10, 0.4, 0.2): 0.9253111973675456,\n",
              " (10, 10, 10, 0.4, 0.4): 0.9257935134588888,\n",
              " (10, 10, 10, 0.4, 0.6): 0.9273531889878406,\n",
              " (10, 10, 10, 0.4, 0.8): 0.928804125103824,\n",
              " (10, 10, 10, 0.4, 1.0): 0.9278093287644396,\n",
              " (10, 10, 10, 0.4, 1.2): 0.9275138266716563,\n",
              " (10, 10, 10, 0.4, 1.4): 0.928671473659255,\n",
              " (10, 10, 10, 0.4, 1.6): 0.928748575692054,\n",
              " (10, 10, 10, 0.4, 1.8): 0.9295058062978844,\n",
              " (10, 10, 10, 0.45, 0.2): 0.9252348050354333,\n",
              " (10, 10, 10, 0.45, 0.4): 0.9261177853405308,\n",
              " (10, 10, 10, 0.45, 0.6): 0.9242801587294276,\n",
              " (10, 10, 10, 0.45, 0.8): 0.927610275871146,\n",
              " (10, 10, 10, 0.45, 1.0): 0.9264686215566926,\n",
              " (10, 10, 10, 0.45, 1.2): 0.926666497873892,\n",
              " (10, 10, 10, 0.45, 1.4): 0.9281159807932313,\n",
              " (10, 10, 10, 0.45, 1.6): 0.9284691789233185,\n",
              " (10, 10, 10, 0.45, 1.8): 0.9283638603427609,\n",
              " (10, 10, 10, 0.5, 0.2): 0.9261891309122048,\n",
              " (10, 10, 10, 0.5, 0.4): 0.9256144848893785,\n",
              " (10, 10, 10, 0.5, 0.5): 0.9257470875185563,\n",
              " (10, 10, 10, 0.5, 0.6): 0.9260274768669119,\n",
              " (10, 10, 10, 0.5, 0.8): 0.9277190578411216,\n",
              " (10, 10, 10, 0.5, 1.0): 0.9276383810196788,\n",
              " (10, 10, 10, 0.5, 1.2): 0.9282617072525673,\n",
              " (10, 10, 10, 0.5, 1.4): 0.92769838514881,\n",
              " (10, 10, 10, 0.5, 1.6): 0.9287155489507525,\n",
              " (10, 10, 10, 0.5, 1.8): 0.9285445774241343,\n",
              " (10, 10, 20, 0.5, 0.5): 0.9305588056036345,\n",
              " (10, 10, 40, 0.5, 0.5): 0.9289993040577436,\n",
              " (10, 20, 10, 0.5, 0.5): 0.9279785366785931,\n",
              " (10, 20, 20, 0.5, 0.5): 0.9295581927226435,\n",
              " (10, 20, 40, 0.5, 0.5): 0.9254059129948113,\n",
              " (10, 40, 10, 0.5, 0.5): 0.9279450217833802,\n",
              " (10, 40, 20, 0.5, 0.5): 0.9270796162707717,\n",
              " (10, 40, 40, 0.5, 0.5): 0.9229817081269385,\n",
              " (20, 10, 10, 0.5, 0.5): 0.9074047643761678,\n",
              " (30, 10, 10, 0.5, 0.5): 0.8831001669095854,\n",
              " (40, 10, 10, 0.5, 0.5): 0.8549441226990027}"
            ]
          },
          "metadata": {
            "tags": []
          },
          "execution_count": 46
        }
      ]
    },
    {
      "cell_type": "code",
      "metadata": {
        "colab": {
          "base_uri": "https://localhost:8080/",
          "height": 265
        },
        "id": "f-cq4OtkUuOq",
        "outputId": "f6a6c1ee-7cfe-4f62-868b-71ce2735eaa9"
      },
      "source": [
        "a = np.array([[node2vec_auc_scores[(node_dim, num_walks, walk_length, p, q)] for node_dim in [5, 10, 20, 30, 40]]])\n",
        "plt.imshow(a, cmap=\"hot\", interpolation=\"nearest\")\n",
        "plt.colorbar()\n",
        "plt.xticks(ticks=[0,1,2, 3, 4], labels=[5, 10, 20, 30, 40])\n",
        "plt.xlabel(\"node_dim\")\n",
        "plt.yticks(ticks=[0], labels=[0])\n",
        "plt.ylabel(\" \")"
      ],
      "execution_count": 47,
      "outputs": [
        {
          "output_type": "execute_result",
          "data": {
            "text/plain": [
              "Text(0, 0.5, ' ')"
            ]
          },
          "metadata": {
            "tags": []
          },
          "execution_count": 47
        },
        {
          "output_type": "display_data",
          "data": {
            "image/png": "[encoded data removed]",
            "text/plain": [
              "<Figure size 432x288 with 2 Axes>"
            ]
          },
          "metadata": {
            "tags": [],
            "needs_background": "light"
          }
        }
      ]
    },
    {
      "cell_type": "code",
      "metadata": {
        "colab": {
          "base_uri": "https://localhost:8080/"
        },
        "id": "7aql_f6AFG0i",
        "outputId": "be2cf6df-5298-44d7-e630-5eee3be84540"
      },
      "source": [
        "# Save\n",
        "np.save(\"node2vec_auc_scores.npy\", node2vec_auc_scores) \n",
        "\n",
        "# Load\n",
        "node2vec = np.load(\"node2vec_auc_scores.npy\",allow_pickle='TRUE').item()\n",
        "\n",
        "node2vec"
      ],
      "execution_count": 48,
      "outputs": [
        {
          "output_type": "execute_result",
          "data": {
            "text/plain": [
              "{(5, 10, 10, 0.5, 0.5): 0.9146188355573592,\n",
              " (10, 5, 10, 0.5, 0.5): 0.9148696790773048,\n",
              " (10, 5, 20, 0.5, 0.5): 0.9259271086676868,\n",
              " (10, 5, 40, 0.5, 0.5): 0.9294610500942643,\n",
              " (10, 10, 10, 0.1, 0.2): 0.9283128532657207,\n",
              " (10, 10, 10, 0.1, 0.4): 0.9277977394899111,\n",
              " (10, 10, 10, 0.1, 0.6): 0.9270820645503892,\n",
              " (10, 10, 10, 0.1, 0.8): 0.9275579232416575,\n",
              " (10, 10, 10, 0.1, 1.0): 0.9286193651067223,\n",
              " (10, 10, 10, 0.1, 1.2): 0.9284984468795019,\n",
              " (10, 10, 10, 0.1, 1.4): 0.9262283985135128,\n",
              " (10, 10, 10, 0.1, 1.6): 0.927913348104587,\n",
              " (10, 10, 10, 0.1, 1.8): 0.9272819285301819,\n",
              " (10, 10, 10, 0.15, 0.2): 0.926222212727281,\n",
              " (10, 10, 10, 0.15, 0.4): 0.9262952943745324,\n",
              " (10, 10, 10, 0.15, 0.6): 0.9259913659942313,\n",
              " (10, 10, 10, 0.15, 0.8): 0.9288199400388786,\n",
              " (10, 10, 10, 0.15, 1.0): 0.927232506075839,\n",
              " (10, 10, 10, 0.15, 1.2): 0.9283229505416276,\n",
              " (10, 10, 10, 0.15, 1.4): 0.928276684815912,\n",
              " (10, 10, 10, 0.15, 1.6): 0.9282793721657784,\n",
              " (10, 10, 10, 0.15, 1.8): 0.9282524949120845,\n",
              " (10, 10, 10, 0.2, 0.2): 0.9257090077584328,\n",
              " (10, 10, 10, 0.2, 0.4): 0.9271376364923397,\n",
              " (10, 10, 10, 0.2, 0.6): 0.9280009241679785,\n",
              " (10, 10, 10, 0.2, 0.8): 0.9272483523028108,\n",
              " (10, 10, 10, 0.2, 1.0): 0.9276680958244425,\n",
              " (10, 10, 10, 0.2, 1.2): 0.9281397851806366,\n",
              " (10, 10, 10, 0.2, 1.4): 0.928022458013857,\n",
              " (10, 10, 10, 0.2, 1.6): 0.9284839386949182,\n",
              " (10, 10, 10, 0.2, 1.8): 0.927350251302635,\n",
              " (10, 10, 10, 0.25, 0.2): 0.9255182422165436,\n",
              " (10, 10, 10, 0.25, 0.4): 0.9273497055715954,\n",
              " (10, 10, 10, 0.25, 0.6): 0.926572590829772,\n",
              " (10, 10, 10, 0.25, 0.8): 0.9282574778370113,\n",
              " (10, 10, 10, 0.25, 1.0): 0.928424445249879,\n",
              " (10, 10, 10, 0.25, 1.2): 0.9272314797009482,\n",
              " (10, 10, 10, 0.25, 1.4): 0.9283036121366739,\n",
              " (10, 10, 10, 0.25, 1.6): 0.9288013188446717,\n",
              " (10, 10, 10, 0.25, 1.8): 0.9293177493843654,\n",
              " (10, 10, 10, 0.3, 0.2): 0.9255036001025534,\n",
              " (10, 10, 10, 0.3, 0.4): 0.9280311283783305,\n",
              " (10, 10, 10, 0.3, 0.6): 0.9246401271787636,\n",
              " (10, 10, 10, 0.3, 0.8): 0.9278250272935613,\n",
              " (10, 10, 10, 0.3, 1.0): 0.9289998823323771,\n",
              " (10, 10, 10, 0.3, 1.2): 0.9274561919665105,\n",
              " (10, 10, 10, 0.3, 1.4): 0.9274159981244476,\n",
              " (10, 10, 10, 0.3, 1.6): 0.9278798569912312,\n",
              " (10, 10, 10, 0.3, 1.8): 0.9270354909122063,\n",
              " (10, 10, 10, 0.35, 0.2): 0.9266039616028046,\n",
              " (10, 10, 10, 0.35, 0.4): 0.9256442409994733,\n",
              " (10, 10, 10, 0.35, 0.6): 0.9262779160952846,\n",
              " (10, 10, 10, 0.35, 0.8): 0.9284484023418411,\n",
              " (10, 10, 10, 0.35, 1.0): 0.9288854202535548,\n",
              " (10, 10, 10, 0.35, 1.2): 0.9284315785553696,\n",
              " (10, 10, 10, 0.35, 1.4): 0.9273174561215222,\n",
              " (10, 10, 10, 0.35, 1.6): 0.928245232683894,\n",
              " (10, 10, 10, 0.35, 1.8): 0.9279102126544634,\n",
              " (10, 10, 10, 0.4, 0.2): 0.9253111973675456,\n",
              " (10, 10, 10, 0.4, 0.4): 0.9257935134588888,\n",
              " (10, 10, 10, 0.4, 0.6): 0.9273531889878406,\n",
              " (10, 10, 10, 0.4, 0.8): 0.928804125103824,\n",
              " (10, 10, 10, 0.4, 1.0): 0.9278093287644396,\n",
              " (10, 10, 10, 0.4, 1.2): 0.9275138266716563,\n",
              " (10, 10, 10, 0.4, 1.4): 0.928671473659255,\n",
              " (10, 10, 10, 0.4, 1.6): 0.928748575692054,\n",
              " (10, 10, 10, 0.4, 1.8): 0.9295058062978844,\n",
              " (10, 10, 10, 0.45, 0.2): 0.9252348050354333,\n",
              " (10, 10, 10, 0.45, 0.4): 0.9261177853405308,\n",
              " (10, 10, 10, 0.45, 0.6): 0.9242801587294276,\n",
              " (10, 10, 10, 0.45, 0.8): 0.927610275871146,\n",
              " (10, 10, 10, 0.45, 1.0): 0.9264686215566926,\n",
              " (10, 10, 10, 0.45, 1.2): 0.926666497873892,\n",
              " (10, 10, 10, 0.45, 1.4): 0.9281159807932313,\n",
              " (10, 10, 10, 0.45, 1.6): 0.9284691789233185,\n",
              " (10, 10, 10, 0.45, 1.8): 0.9283638603427609,\n",
              " (10, 10, 10, 0.5, 0.2): 0.9261891309122048,\n",
              " (10, 10, 10, 0.5, 0.4): 0.9256144848893785,\n",
              " (10, 10, 10, 0.5, 0.5): 0.9257470875185563,\n",
              " (10, 10, 10, 0.5, 0.6): 0.9260274768669119,\n",
              " (10, 10, 10, 0.5, 0.8): 0.9277190578411216,\n",
              " (10, 10, 10, 0.5, 1.0): 0.9276383810196788,\n",
              " (10, 10, 10, 0.5, 1.2): 0.9282617072525673,\n",
              " (10, 10, 10, 0.5, 1.4): 0.92769838514881,\n",
              " (10, 10, 10, 0.5, 1.6): 0.9287155489507525,\n",
              " (10, 10, 10, 0.5, 1.8): 0.9285445774241343,\n",
              " (10, 10, 20, 0.5, 0.5): 0.9305588056036345,\n",
              " (10, 10, 40, 0.5, 0.5): 0.9289993040577436,\n",
              " (10, 20, 10, 0.5, 0.5): 0.9279785366785931,\n",
              " (10, 20, 20, 0.5, 0.5): 0.9295581927226435,\n",
              " (10, 20, 40, 0.5, 0.5): 0.9254059129948113,\n",
              " (10, 40, 10, 0.5, 0.5): 0.9279450217833802,\n",
              " (10, 40, 20, 0.5, 0.5): 0.9270796162707717,\n",
              " (10, 40, 40, 0.5, 0.5): 0.9229817081269385,\n",
              " (20, 10, 10, 0.5, 0.5): 0.9074047643761678,\n",
              " (30, 10, 10, 0.5, 0.5): 0.8831001669095854,\n",
              " (40, 10, 10, 0.5, 0.5): 0.8549441226990027}"
            ]
          },
          "metadata": {
            "tags": []
          },
          "execution_count": 48
        }
      ]
    },
    {
      "cell_type": "code",
      "metadata": {
        "colab": {
          "base_uri": "https://localhost:8080/",
          "height": 17
        },
        "id": "ZogOgTh7FakX",
        "outputId": "d84257d2-f966-4c33-af62-0e2d39035016"
      },
      "source": [
        "files.download(\"node2vec_auc_scores.npy\")"
      ],
      "execution_count": 49,
      "outputs": [
        {
          "output_type": "display_data",
          "data": {
            "application/javascript": [
              "\n",
              "    async function download(id, filename, size) {\n",
              "      if (!google.colab.kernel.accessAllowed) {\n",
              "        return;\n",
              "      }\n",
              "      const div = document.createElement('div');\n",
              "      const label = document.createElement('label');\n",
              "      label.textContent = `Downloading \"${filename}\": `;\n",
              "      div.appendChild(label);\n",
              "      const progress = document.createElement('progress');\n",
              "      progress.max = size;\n",
              "      div.appendChild(progress);\n",
              "      document.body.appendChild(div);\n",
              "\n",
              "      const buffers = [];\n",
              "      let downloaded = 0;\n",
              "\n",
              "      const channel = await google.colab.kernel.comms.open(id);\n",
              "      // Send a message to notify the kernel that we're ready.\n",
              "      channel.send({})\n",
              "\n",
              "      for await (const message of channel.messages) {\n",
              "        // Send a message to notify the kernel that we're ready.\n",
              "        channel.send({})\n",
              "        if (message.buffers) {\n",
              "          for (const buffer of message.buffers) {\n",
              "            buffers.push(buffer);\n",
              "            downloaded += buffer.byteLength;\n",
              "            progress.value = downloaded;\n",
              "          }\n",
              "        }\n",
              "      }\n",
              "      const blob = new Blob(buffers, {type: 'application/binary'});\n",
              "      const a = document.createElement('a');\n",
              "      a.href = window.URL.createObjectURL(blob);\n",
              "      a.download = filename;\n",
              "      div.appendChild(a);\n",
              "      a.click();\n",
              "      div.remove();\n",
              "    }\n",
              "  "
            ],
            "text/plain": [
              "<IPython.core.display.Javascript object>"
            ]
          },
          "metadata": {
            "tags": []
          }
        },
        {
          "output_type": "display_data",
          "data": {
            "application/javascript": [
              "download(\"download_3e893afe-0671-4e6e-9b9d-021f49a742d4\", \"node2vec_auc_scores.npy\", 5668)"
            ],
            "text/plain": [
              "<IPython.core.display.Javascript object>"
            ]
          },
          "metadata": {
            "tags": []
          }
        }
      ]
    },
    {
      "cell_type": "markdown",
      "metadata": {
        "id": "vFa91vwUyB-b"
      },
      "source": [
        "## Combine best of the hyperparameters"
      ]
    },
    {
      "cell_type": "code",
      "metadata": {
        "id": "n2F03RRJyF29"
      },
      "source": [
        "np.random.seed(0)\n",
        "\n",
        "node_dim_list = [10]\n",
        "num_walks_list = [10]\n",
        "walk_length_list = [20]\n",
        "p_list = [0.25, 0.3, 0.4, 0.5]\n",
        "q_list = [1.6, 1.8, 2.0]\n",
        "\n",
        "node2vec_auc_scores_best = dict()"
      ],
      "execution_count": 50,
      "outputs": []
    },
    {
      "cell_type": "code",
      "metadata": {
        "colab": {
          "base_uri": "https://localhost:8080/"
        },
        "id": "VGWZePhlzNtZ",
        "outputId": "3f5d71ca-0d19-4a5a-b934-eff173566e5d"
      },
      "source": [
        "for node_dim_i in node_dim_list:\n",
        "    for num_walks_i in num_walks_list:\n",
        "        for walk_length_i in walk_length_list:\n",
        "            for pi in p_list:\n",
        "                for qi in q_list:\n",
        "                    print(\"node dim: %d,\\tnum_walks: %d,\\twalk_length: %d,\\tp: %.2f,\\tq: %.2f\" % (\n",
        "                        node_dim_i, num_walks_i, walk_length_i, pi, qi), end=\"\\t\")\n",
        "                    alias_nodes, alias_edges = preprocess_transition_probs(graph, p=pi, q=qi)\n",
        "                    model = build_node2vec(graph, alias_nodes, alias_edges, \n",
        "                                          node_dim=node_dim_i, num_walks=num_walks_i, walk_length=walk_length_i)\n",
        "                    node2vec_auc_scores_best[(node_dim_i, num_walks_i, walk_length_i, pi, qi)] = get_auc_score(model, valid_edges, false_edges)\n",
        "                    print(\"auc: %.4f\" % (node2vec_auc_scores_best[(node_dim_i, num_walks_i, walk_length_i, pi, qi)]))"
      ],
      "execution_count": 51,
      "outputs": [
        {
          "output_type": "stream",
          "text": [
            "node dim: 10,\tnum_walks: 10,\twalk_length: 20,\tp: 0.25,\tq: 1.60\tbuilding a node2vec model...\tnumber of walks: 83280\taverage walk length: 19.9787\ttraining time: 68.0811\n",
            "auc: 0.9303\n",
            "node dim: 10,\tnum_walks: 10,\twalk_length: 20,\tp: 0.25,\tq: 1.80\tbuilding a node2vec model...\tnumber of walks: 83280\taverage walk length: 19.9782\ttraining time: 67.7081\n",
            "auc: 0.9305\n",
            "node dim: 10,\tnum_walks: 10,\twalk_length: 20,\tp: 0.25,\tq: 2.00\tbuilding a node2vec model...\tnumber of walks: 83280\taverage walk length: 19.9778\ttraining time: 67.8224\n",
            "auc: 0.9301\n",
            "node dim: 10,\tnum_walks: 10,\twalk_length: 20,\tp: 0.30,\tq: 1.60\tbuilding a node2vec model...\tnumber of walks: 83280\taverage walk length: 19.9790\ttraining time: 68.6168\n",
            "auc: 0.9306\n",
            "node dim: 10,\tnum_walks: 10,\twalk_length: 20,\tp: 0.30,\tq: 1.80\tbuilding a node2vec model...\tnumber of walks: 83280\taverage walk length: 19.9756\ttraining time: 67.8381\n",
            "auc: 0.9312\n",
            "node dim: 10,\tnum_walks: 10,\twalk_length: 20,\tp: 0.30,\tq: 2.00\tbuilding a node2vec model...\tnumber of walks: 83280\taverage walk length: 19.9756\ttraining time: 68.0190\n",
            "auc: 0.9297\n",
            "node dim: 10,\tnum_walks: 10,\twalk_length: 20,\tp: 0.40,\tq: 1.60\tbuilding a node2vec model...\tnumber of walks: 83280\taverage walk length: 19.9745\ttraining time: 68.9002\n",
            "auc: 0.9311\n",
            "node dim: 10,\tnum_walks: 10,\twalk_length: 20,\tp: 0.40,\tq: 1.80\tbuilding a node2vec model...\tnumber of walks: 83280\taverage walk length: 19.9755\ttraining time: 68.4625\n",
            "auc: 0.9306\n",
            "node dim: 10,\tnum_walks: 10,\twalk_length: 20,\tp: 0.40,\tq: 2.00\tbuilding a node2vec model...\tnumber of walks: 83280\taverage walk length: 19.9763\ttraining time: 68.9260\n",
            "auc: 0.9316\n",
            "node dim: 10,\tnum_walks: 10,\twalk_length: 20,\tp: 0.50,\tq: 1.60\tbuilding a node2vec model...\tnumber of walks: 83280\taverage walk length: 19.9771\ttraining time: 68.6517\n",
            "auc: 0.9307\n",
            "node dim: 10,\tnum_walks: 10,\twalk_length: 20,\tp: 0.50,\tq: 1.80\tbuilding a node2vec model...\tnumber of walks: 83280\taverage walk length: 19.9768\ttraining time: 68.6652\n",
            "auc: 0.9308\n",
            "node dim: 10,\tnum_walks: 10,\twalk_length: 20,\tp: 0.50,\tq: 2.00\tbuilding a node2vec model...\tnumber of walks: 83280\taverage walk length: 19.9770\ttraining time: 68.7426\n",
            "auc: 0.9312\n"
          ],
          "name": "stdout"
        }
      ]
    },
    {
      "cell_type": "code",
      "metadata": {
        "colab": {
          "base_uri": "https://localhost:8080/"
        },
        "id": "7x_OXeXhzN4A",
        "outputId": "eeede683-1d02-4335-ef3f-d5458cb9032a"
      },
      "source": [
        "node2vec_auc_scores_best"
      ],
      "execution_count": 52,
      "outputs": [
        {
          "output_type": "execute_result",
          "data": {
            "text/plain": [
              "{(10, 10, 20, 0.25, 1.6): 0.9302630556788651,\n",
              " (10, 10, 20, 0.25, 1.8): 0.930465904907578,\n",
              " (10, 10, 20, 0.25, 2.0): 0.9300904744960159,\n",
              " (10, 10, 20, 0.3, 1.6): 0.9306367963268877,\n",
              " (10, 10, 20, 0.3, 1.8): 0.9311533545376044,\n",
              " (10, 10, 20, 0.3, 2.0): 0.9296651635164401,\n",
              " (10, 10, 20, 0.4, 1.6): 0.9311260667339541,\n",
              " (10, 10, 20, 0.4, 1.8): 0.9306280045497748,\n",
              " (10, 10, 20, 0.4, 2.0): 0.9316301156877707,\n",
              " (10, 10, 20, 0.5, 1.6): 0.9306646548951113,\n",
              " (10, 10, 20, 0.5, 1.8): 0.9307751454037773,\n",
              " (10, 10, 20, 0.5, 2.0): 0.9312482403929007}"
            ]
          },
          "metadata": {
            "tags": []
          },
          "execution_count": 52
        }
      ]
    },
    {
      "cell_type": "code",
      "metadata": {
        "colab": {
          "base_uri": "https://localhost:8080/"
        },
        "id": "P04goyAMEK_C",
        "outputId": "69f7f532-c82f-484a-8c57-478562c18f8d"
      },
      "source": [
        "# Save\n",
        "np.save(\"node2vec_auc_scores_best.npy\", node2vec_auc_scores_best) \n",
        "\n",
        "# Load\n",
        "node2vec_best = np.load(\"node2vec_auc_scores_best.npy\",allow_pickle='TRUE').item()\n",
        "\n",
        "node2vec_best"
      ],
      "execution_count": 53,
      "outputs": [
        {
          "output_type": "execute_result",
          "data": {
            "text/plain": [
              "{(10, 10, 20, 0.25, 1.6): 0.9302630556788651,\n",
              " (10, 10, 20, 0.25, 1.8): 0.930465904907578,\n",
              " (10, 10, 20, 0.25, 2.0): 0.9300904744960159,\n",
              " (10, 10, 20, 0.3, 1.6): 0.9306367963268877,\n",
              " (10, 10, 20, 0.3, 1.8): 0.9311533545376044,\n",
              " (10, 10, 20, 0.3, 2.0): 0.9296651635164401,\n",
              " (10, 10, 20, 0.4, 1.6): 0.9311260667339541,\n",
              " (10, 10, 20, 0.4, 1.8): 0.9306280045497748,\n",
              " (10, 10, 20, 0.4, 2.0): 0.9316301156877707,\n",
              " (10, 10, 20, 0.5, 1.6): 0.9306646548951113,\n",
              " (10, 10, 20, 0.5, 1.8): 0.9307751454037773,\n",
              " (10, 10, 20, 0.5, 2.0): 0.9312482403929007}"
            ]
          },
          "metadata": {
            "tags": []
          },
          "execution_count": 53
        }
      ]
    },
    {
      "cell_type": "code",
      "metadata": {
        "colab": {
          "base_uri": "https://localhost:8080/",
          "height": 17
        },
        "id": "N1M9G4ALEaY1",
        "outputId": "63bc91c7-6e76-4deb-b663-b77dc11fefd0"
      },
      "source": [
        "files.download(\"node2vec_auc_scores_best.npy\")"
      ],
      "execution_count": 54,
      "outputs": [
        {
          "output_type": "display_data",
          "data": {
            "application/javascript": [
              "\n",
              "    async function download(id, filename, size) {\n",
              "      if (!google.colab.kernel.accessAllowed) {\n",
              "        return;\n",
              "      }\n",
              "      const div = document.createElement('div');\n",
              "      const label = document.createElement('label');\n",
              "      label.textContent = `Downloading \"${filename}\": `;\n",
              "      div.appendChild(label);\n",
              "      const progress = document.createElement('progress');\n",
              "      progress.max = size;\n",
              "      div.appendChild(progress);\n",
              "      document.body.appendChild(div);\n",
              "\n",
              "      const buffers = [];\n",
              "      let downloaded = 0;\n",
              "\n",
              "      const channel = await google.colab.kernel.comms.open(id);\n",
              "      // Send a message to notify the kernel that we're ready.\n",
              "      channel.send({})\n",
              "\n",
              "      for await (const message of channel.messages) {\n",
              "        // Send a message to notify the kernel that we're ready.\n",
              "        channel.send({})\n",
              "        if (message.buffers) {\n",
              "          for (const buffer of message.buffers) {\n",
              "            buffers.push(buffer);\n",
              "            downloaded += buffer.byteLength;\n",
              "            progress.value = downloaded;\n",
              "          }\n",
              "        }\n",
              "      }\n",
              "      const blob = new Blob(buffers, {type: 'application/binary'});\n",
              "      const a = document.createElement('a');\n",
              "      a.href = window.URL.createObjectURL(blob);\n",
              "      a.download = filename;\n",
              "      div.appendChild(a);\n",
              "      a.click();\n",
              "      div.remove();\n",
              "    }\n",
              "  "
            ],
            "text/plain": [
              "<IPython.core.display.Javascript object>"
            ]
          },
          "metadata": {
            "tags": []
          }
        },
        {
          "output_type": "display_data",
          "data": {
            "application/javascript": [
              "download(\"download_bcdf9be0-ef45-47c6-b551-747f24e6e685\", \"node2vec_auc_scores_best.npy\", 959)"
            ],
            "text/plain": [
              "<IPython.core.display.Javascript object>"
            ]
          },
          "metadata": {
            "tags": []
          }
        }
      ]
    },
    {
      "cell_type": "markdown",
      "metadata": {
        "id": "IQ1JSRXt_asH"
      },
      "source": [
        "# Test set Predictions"
      ]
    },
    {
      "cell_type": "markdown",
      "metadata": {
        "id": "95dBP17Fyn5R"
      },
      "source": [
        "You can build model with the best parameters you find and save the prediction here."
      ]
    },
    {
      "cell_type": "code",
      "metadata": {
        "colab": {
          "base_uri": "https://localhost:8080/"
        },
        "id": "p2IceaQwJiT2",
        "outputId": "3172db5f-90dc-499b-d0a0-f6f33e6dfbcc"
      },
      "source": [
        "alias_nodes, alias_edges = preprocess_transition_probs(graph, p=0.4, q=2.0)\n",
        "model = build_node2vec(graph, alias_nodes, alias_edges, \n",
        "                       node_dim=10, num_walks=10, walk_length=20)\n",
        "node2vec_auc_scores_test = get_auc_score(model, valid_edges, false_edges)\n",
        "print(\"auc: %.4f\" % (node2vec_auc_scores_test))"
      ],
      "execution_count": 55,
      "outputs": [
        {
          "output_type": "stream",
          "text": [
            "building a node2vec model...\tnumber of walks: 83280\taverage walk length: 19.9763\ttraining time: 69.4355\n",
            "auc: 0.9318\n"
          ],
          "name": "stdout"
        }
      ]
    },
    {
      "cell_type": "code",
      "metadata": {
        "id": "7OgsJNsZyn5R"
      },
      "source": [
        "scores = [get_cosine_sim(model, src, dst) for src, dst in test_edges]\n",
        "write_pred(\"data/pred.csv\", test_edges, scores)"
      ],
      "execution_count": 56,
      "outputs": []
    },
    {
      "cell_type": "code",
      "metadata": {
        "colab": {
          "base_uri": "https://localhost:8080/",
          "height": 17
        },
        "id": "41HaNut2-r-s",
        "outputId": "690c3842-f4b2-4d2c-e9d0-f89d733c0302"
      },
      "source": [
        "from google.colab import files\n",
        "files.download(\"data/pred.csv\")"
      ],
      "execution_count": 57,
      "outputs": [
        {
          "output_type": "display_data",
          "data": {
            "application/javascript": [
              "\n",
              "    async function download(id, filename, size) {\n",
              "      if (!google.colab.kernel.accessAllowed) {\n",
              "        return;\n",
              "      }\n",
              "      const div = document.createElement('div');\n",
              "      const label = document.createElement('label');\n",
              "      label.textContent = `Downloading \"${filename}\": `;\n",
              "      div.appendChild(label);\n",
              "      const progress = document.createElement('progress');\n",
              "      progress.max = size;\n",
              "      div.appendChild(progress);\n",
              "      document.body.appendChild(div);\n",
              "\n",
              "      const buffers = [];\n",
              "      let downloaded = 0;\n",
              "\n",
              "      const channel = await google.colab.kernel.comms.open(id);\n",
              "      // Send a message to notify the kernel that we're ready.\n",
              "      channel.send({})\n",
              "\n",
              "      for await (const message of channel.messages) {\n",
              "        // Send a message to notify the kernel that we're ready.\n",
              "        channel.send({})\n",
              "        if (message.buffers) {\n",
              "          for (const buffer of message.buffers) {\n",
              "            buffers.push(buffer);\n",
              "            downloaded += buffer.byteLength;\n",
              "            progress.value = downloaded;\n",
              "          }\n",
              "        }\n",
              "      }\n",
              "      const blob = new Blob(buffers, {type: 'application/binary'});\n",
              "      const a = document.createElement('a');\n",
              "      a.href = window.URL.createObjectURL(blob);\n",
              "      a.download = filename;\n",
              "      div.appendChild(a);\n",
              "      a.click();\n",
              "      div.remove();\n",
              "    }\n",
              "  "
            ],
            "text/plain": [
              "<IPython.core.display.Javascript object>"
            ]
          },
          "metadata": {
            "tags": []
          }
        },
        {
          "output_type": "display_data",
          "data": {
            "application/javascript": [
              "download(\"download_77b304ca-c065-4a52-8335-085cd3bdc49d\", \"pred.csv\", 2552564)"
            ],
            "text/plain": [
              "<IPython.core.display.Javascript object>"
            ]
          },
          "metadata": {
            "tags": []
          }
        }
      ]
    },
    {
      "cell_type": "markdown",
      "metadata": {
        "id": "3mhoxLqS_fhN"
      },
      "source": [
        "# Diagrams for report"
      ]
    },
    {
      "cell_type": "markdown",
      "metadata": {
        "id": "h4v_XJFEBlhN"
      },
      "source": [
        "## Deep Walk"
      ]
    },
    {
      "cell_type": "code",
      "metadata": {
        "id": "gR6mL5P6_hW1"
      },
      "source": [
        "!wget -q https://hkustconnect-my.sharepoint.com/:u:/g/personal/nnanda_connect_ust_hk/EZd8kmHheQ1CkmGNUMaY8nwBFY68Ihel5b9y0ld55DVfdA?download=1 -O deepwalk_auc_scores.npy"
      ],
      "execution_count": 58,
      "outputs": []
    },
    {
      "cell_type": "code",
      "metadata": {
        "id": "zoMWsj07BwpC"
      },
      "source": [
        "deepwalk = np.load(\"deepwalk_auc_scores.npy\",allow_pickle='TRUE').item()"
      ],
      "execution_count": 59,
      "outputs": []
    },
    {
      "cell_type": "markdown",
      "metadata": {
        "id": "LazEvJeTCDjk"
      },
      "source": [
        "### num_walks, walk_length"
      ]
    },
    {
      "cell_type": "code",
      "metadata": {
        "colab": {
          "base_uri": "https://localhost:8080/",
          "height": 297
        },
        "id": "9qryHtIYCDCO",
        "outputId": "ae2aafdb-bd70-4c13-ff87-8ef228d3c76f"
      },
      "source": [
        "a = np.array([[deepwalk[(10, num_walks, walk_length)] for walk_length in [10, 20, 40]] for num_walks in [5, 10, 20, 40]])\n",
        "plt.imshow(a, cmap=\"hot\", interpolation=\"nearest\")\n",
        "plt.colorbar()\n",
        "plt.xticks(ticks=[0,1,2], labels=[10, 20, 40])\n",
        "plt.xlabel(\"walk_length\")\n",
        "plt.yticks(ticks=[0,1,2,3], labels=[5, 10, 20, 40])\n",
        "plt.ylabel(\"num_walks\")"
      ],
      "execution_count": 60,
      "outputs": [
        {
          "output_type": "execute_result",
          "data": {
            "text/plain": [
              "Text(0, 0.5, 'num_walks')"
            ]
          },
          "metadata": {
            "tags": []
          },
          "execution_count": 60
        },
        {
          "output_type": "display_data",
          "data": {
            "image/png": "[encoded data removed]",
            "text/plain": [
              "<Figure size 432x288 with 2 Axes>"
            ]
          },
          "metadata": {
            "tags": [],
            "needs_background": "light"
          }
        }
      ]
    },
    {
      "cell_type": "markdown",
      "metadata": {
        "id": "2mN4FTczCOcs"
      },
      "source": [
        "### node_dim"
      ]
    },
    {
      "cell_type": "code",
      "metadata": {
        "colab": {
          "base_uri": "https://localhost:8080/",
          "height": 265
        },
        "id": "0SwpoWuzB7pe",
        "outputId": "734d6f72-dd3a-47bb-a303-ad45ab13a288"
      },
      "source": [
        "a = np.array([[deepwalk[(node_dim, 10, 10)] for node_dim in [5, 10, 20, 30, 40]]])\n",
        "plt.imshow(a, cmap=\"hot\", interpolation=\"nearest\")\n",
        "plt.colorbar()\n",
        "plt.xticks(ticks=[0,1,2, 3, 4], labels=[5, 10, 20, 30, 40])\n",
        "plt.xlabel(\"node_dim\")\n",
        "plt.yticks(ticks=[0], labels=[0])\n",
        "plt.ylabel(\" \")"
      ],
      "execution_count": 61,
      "outputs": [
        {
          "output_type": "execute_result",
          "data": {
            "text/plain": [
              "Text(0, 0.5, ' ')"
            ]
          },
          "metadata": {
            "tags": []
          },
          "execution_count": 61
        },
        {
          "output_type": "display_data",
          "data": {
            "image/png": "[encoded data removed]",
            "text/plain": [
              "<Figure size 432x288 with 2 Axes>"
            ]
          },
          "metadata": {
            "tags": [],
            "needs_background": "light"
          }
        }
      ]
    },
    {
      "cell_type": "markdown",
      "metadata": {
        "id": "9h95Eh48CbEV"
      },
      "source": [
        "## node2vec"
      ]
    },
    {
      "cell_type": "code",
      "metadata": {
        "id": "GroAe3iOCVyd"
      },
      "source": [
        "!wget -q https://hkustconnect-my.sharepoint.com/:u:/g/personal/nnanda_connect_ust_hk/EeJKmmJCBFdOgNWSgqH9-igBKavx27DoF6e6XZX6eCd-zQ?download=1 -O node2vec_auc_scores.npy"
      ],
      "execution_count": 62,
      "outputs": []
    },
    {
      "cell_type": "code",
      "metadata": {
        "id": "R3e2bESpCnoD"
      },
      "source": [
        "node2vec = np.load(\"node2vec_auc_scores.npy\",allow_pickle='TRUE').item()"
      ],
      "execution_count": 63,
      "outputs": []
    },
    {
      "cell_type": "markdown",
      "metadata": {
        "id": "sUawFGJxCvzI"
      },
      "source": [
        "### p, q"
      ]
    },
    {
      "cell_type": "code",
      "metadata": {
        "colab": {
          "base_uri": "https://localhost:8080/",
          "height": 296
        },
        "id": "AP6m6WrlCu9I",
        "outputId": "07d85b43-66df-45c2-fad0-39d95e682715"
      },
      "source": [
        "a = np.array([[node2vec[(10, 10, 10, pi, qi)] for pi in [0.1, 0.15, 0.2, 0.25, 0.3, 0.35, 0.4, 0.45, 0.5]] for qi in [0.2, 0.4, 0.6, 0.8, 1.0, 1.2, 1.4, 1.6, 1.8]])\n",
        "plt.imshow(a, cmap=\"hot\", interpolation=\"nearest\")\n",
        "plt.colorbar()\n",
        "plt.xticks(ticks=[0, 1, 2, 3, 4, 5, 6, 7, 8], labels=[0.1, 0.15, 0.2, 0.25, 0.3, 0.35, 0.4, 0.45, 0.5])\n",
        "plt.xlabel(\"p\")\n",
        "plt.yticks(ticks=[0, 1, 2, 3, 4, 5, 6, 7, 8], labels=[0.2, 0.4, 0.6, 0.8, 1.0, 1.2, 1.4, 1.6, 1.8])\n",
        "plt.ylabel(\"q\")"
      ],
      "execution_count": 64,
      "outputs": [
        {
          "output_type": "execute_result",
          "data": {
            "text/plain": [
              "Text(0, 0.5, 'q')"
            ]
          },
          "metadata": {
            "tags": []
          },
          "execution_count": 64
        },
        {
          "output_type": "display_data",
          "data": {
            "image/png": "[encoded data removed]",
            "text/plain": [
              "<Figure size 432x288 with 2 Axes>"
            ]
          },
          "metadata": {
            "tags": [],
            "needs_background": "light"
          }
        }
      ]
    },
    {
      "cell_type": "markdown",
      "metadata": {
        "id": "lcCrwY0kC83j"
      },
      "source": [
        "### num_walks, walk_length"
      ]
    },
    {
      "cell_type": "code",
      "metadata": {
        "colab": {
          "base_uri": "https://localhost:8080/",
          "height": 297
        },
        "id": "FmjH4P9SC6Bz",
        "outputId": "840bc690-2ceb-438e-948f-8a5708ab8d0a"
      },
      "source": [
        "plt.figure(figsize=(6, 4))\n",
        "a = np.array([[node2vec[(10, num_walks, walk_length, 0.5, 0.5)] for walk_length in [10, 20, 40]] for num_walks in [5, 10, 20, 40]])\n",
        "plt.imshow(a, cmap=\"hot\", interpolation=\"nearest\")\n",
        "plt.colorbar()\n",
        "plt.xticks(ticks=[0,1,2], labels=[10, 20, 40])\n",
        "plt.xlabel(\"walk_length\")\n",
        "plt.yticks(ticks=[0,1,2,3], labels=[5, 10, 20, 40])\n",
        "plt.ylabel(\"num_walks\")"
      ],
      "execution_count": 65,
      "outputs": [
        {
          "output_type": "execute_result",
          "data": {
            "text/plain": [
              "Text(0, 0.5, 'num_walks')"
            ]
          },
          "metadata": {
            "tags": []
          },
          "execution_count": 65
        },
        {
          "output_type": "display_data",
          "data": {
            "image/png": "[encoded data removed]",
            "text/plain": [
              "<Figure size 432x288 with 2 Axes>"
            ]
          },
          "metadata": {
            "tags": [],
            "needs_background": "light"
          }
        }
      ]
    },
    {
      "cell_type": "markdown",
      "metadata": {
        "id": "rEl3ITiyD_eo"
      },
      "source": [
        "### node_dim"
      ]
    },
    {
      "cell_type": "code",
      "metadata": {
        "colab": {
          "base_uri": "https://localhost:8080/",
          "height": 265
        },
        "id": "lhVwxrUmD-Xx",
        "outputId": "1373ab6d-04b5-40fd-ff5c-2c03c4990155"
      },
      "source": [
        "a = np.array([[node2vec[(node_dim, 10, 10, 0.5, 0.5)] for node_dim in [5, 10, 20, 30, 40]]])\n",
        "plt.imshow(a, cmap=\"hot\", interpolation=\"nearest\")\n",
        "plt.colorbar()\n",
        "plt.xticks(ticks=[0,1,2, 3, 4], labels=[5, 10, 20, 30, 40])\n",
        "plt.xlabel(\"node_dim\")\n",
        "plt.yticks(ticks=[0], labels=[0])\n",
        "plt.ylabel(\" \")"
      ],
      "execution_count": 66,
      "outputs": [
        {
          "output_type": "execute_result",
          "data": {
            "text/plain": [
              "Text(0, 0.5, ' ')"
            ]
          },
          "metadata": {
            "tags": []
          },
          "execution_count": 66
        },
        {
          "output_type": "display_data",
          "data": {
            "image/png": "[encoded data removed]",
            "text/plain": [
              "<Figure size 432x288 with 2 Axes>"
            ]
          },
          "metadata": {
            "tags": [],
            "needs_background": "light"
          }
        }
      ]
    },
    {
      "cell_type": "code",
      "metadata": {
        "id": "1yf-Y4-FImoA"
      },
      "source": [
        ""
      ],
      "execution_count": null,
      "outputs": []
    }
  ]
}