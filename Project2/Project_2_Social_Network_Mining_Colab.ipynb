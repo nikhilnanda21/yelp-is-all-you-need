{
  "nbformat": 4,
  "nbformat_minor": 0,
  "metadata": {
    "kernelspec": {
      "name": "python3",
      "display_name": "Python 3"
    },
    "colab": {
      "name": "Project 2 Social Network Mining Colab.ipynb",
      "provenance": [],
      "collapsed_sections": [],
      "toc_visible": true
    },
    "language_info": {
      "name": "python"
    }
  },
  "cells": [
    {
      "cell_type": "markdown",
      "metadata": {
        "id": "8K5HhpISytlA"
      },
      "source": [
        "# Goal: 93.10%"
      ]
    },
    {
      "cell_type": "code",
      "metadata": {
        "id": "QFyk3g1R1Llm"
      },
      "source": [
        "!wget -q https://hkustconnect-my.sharepoint.com/:u:/g/personal/nnanda_connect_ust_hk/EQodPFqgjvtLp-ux1_vmqf4Bz5Q1pn3Gk1VT0CNpzN1EwA?download=1 -O \"Project 2 - data.zip\"\n",
        "!unzip -q \"Project 2 - data.zip\""
      ],
      "execution_count": 1,
      "outputs": []
    },
    {
      "cell_type": "code",
      "metadata": {
        "colab": {
          "base_uri": "https://localhost:8080/"
        },
        "id": "_ORLY5vT55sa",
        "outputId": "5dbb86d5-ad4b-4d19-bc22-786ca4684ebb"
      },
      "source": [
        "!pip install --upgrade gensim"
      ],
      "execution_count": 2,
      "outputs": [
        {
          "output_type": "stream",
          "text": [
            "Collecting gensim\n",
            "\u001b[?25l  Downloading https://files.pythonhosted.org/packages/44/52/f1417772965652d4ca6f901515debcd9d6c5430969e8c02ee7737e6de61c/gensim-4.0.1-cp37-cp37m-manylinux1_x86_64.whl (23.9MB)\n",
            "\u001b[K     |████████████████████████████████| 23.9MB 128kB/s \n",
            "\u001b[?25hRequirement already satisfied, skipping upgrade: numpy>=1.11.3 in /usr/local/lib/python3.7/dist-packages (from gensim) (1.19.5)\n",
            "Requirement already satisfied, skipping upgrade: smart-open>=1.8.1 in /usr/local/lib/python3.7/dist-packages (from gensim) (5.0.0)\n",
            "Requirement already satisfied, skipping upgrade: scipy>=0.18.1 in /usr/local/lib/python3.7/dist-packages (from gensim) (1.4.1)\n",
            "Installing collected packages: gensim\n",
            "  Found existing installation: gensim 3.6.0\n",
            "    Uninstalling gensim-3.6.0:\n",
            "      Successfully uninstalled gensim-3.6.0\n",
            "Successfully installed gensim-4.0.1\n"
          ],
          "name": "stdout"
        }
      ]
    },
    {
      "cell_type": "code",
      "metadata": {
        "colab": {
          "base_uri": "https://localhost:8080/"
        },
        "id": "odYmJidmyn47",
        "outputId": "9ba31ab0-64cf-4072-ef5a-899f2191737d"
      },
      "source": [
        "import networkx as nx\n",
        "import numpy as np\n",
        "import os\n",
        "import time\n",
        "import pandas as pd\n",
        "import matplotlib.pyplot as plt\n",
        "from itertools import chain\n",
        "from collections import defaultdict\n",
        "from gensim.models import Word2Vec\n",
        "from sklearn.model_selection import KFold\n",
        "from sklearn.metrics import roc_auc_score"
      ],
      "execution_count": 3,
      "outputs": [
        {
          "output_type": "stream",
          "text": [
            "/usr/local/lib/python3.7/dist-packages/gensim/similarities/__init__.py:15: UserWarning: The gensim.similarities.levenshtein submodule is disabled, because the optional Levenshtein package <https://pypi.org/project/python-Levenshtein/> is unavailable. Install Levenhstein (e.g. `pip install python-Levenshtein`) to suppress this warning.\n",
            "  warnings.warn(msg)\n"
          ],
          "name": "stderr"
        }
      ]
    },
    {
      "cell_type": "markdown",
      "metadata": {
        "id": "m1CBfN5Ryn5D"
      },
      "source": [
        "# Pipeline"
      ]
    },
    {
      "cell_type": "markdown",
      "metadata": {
        "id": "6thRW2g6yn5E"
      },
      "source": [
        "### Data Loader"
      ]
    },
    {
      "cell_type": "markdown",
      "metadata": {
        "id": "q3x5R9GXyn5E"
      },
      "source": [
        "We need to load networks into memory. Usually networks are organized as pairs of nodes. And sometimes different edges have different weights. Hence, we use networkx.DiGraph to store such structure information and attributes."
      ]
    },
    {
      "cell_type": "code",
      "metadata": {
        "id": "R8hQhza4yn5E"
      },
      "source": [
        "def load_data(file_name):\n",
        "    \"\"\"\n",
        "    read edges from an edge file\n",
        "    \"\"\"\n",
        "    edges = list()\n",
        "    df = pd.read_csv(file_name)\n",
        "    for idx, row in df.iterrows():\n",
        "        user_id, friends = row[\"user_id\"], eval(row[\"friends\"])\n",
        "        for friend in friends:\n",
        "            # add each friend relation as an edge\n",
        "            edges.append((user_id, friend))\n",
        "    edges = sorted(edges)\n",
        "    \n",
        "    return edges\n",
        "\n",
        "def load_test_data(file_name):\n",
        "    \"\"\"\n",
        "    read edges from an edge file\n",
        "    \"\"\"\n",
        "    edges = list()\n",
        "    scores = list()\n",
        "    df = pd.read_csv(file_name)\n",
        "    for idx, row in df.iterrows():\n",
        "        edges.append((row[\"src\"], row[\"dst\"]))\n",
        "    edges = sorted(edges)\n",
        "    \n",
        "    return edges\n",
        "\n",
        "def generate_false_edges(true_edges, num_false_edges=5):\n",
        "    \"\"\"\n",
        "    generate false edges given true edges\n",
        "    \"\"\"\n",
        "    nodes = list(set(chain.from_iterable(true_edges)))\n",
        "    N = len(nodes)\n",
        "    true_edges = set(true_edges)\n",
        "    print(N, len(true_edges))\n",
        "    false_edges = set()\n",
        "    \n",
        "    while len(false_edges) < num_false_edges:\n",
        "        # randomly sample two different nodes and check whether the pair exisit or not\n",
        "        src, dst = nodes[int(np.random.rand() * N)], nodes[int(np.random.rand() * N)]\n",
        "        if src != dst and (src, dst) not in true_edges and (src, dst) not in false_edges:\n",
        "            false_edges.add((src, dst))\n",
        "    false_edges = sorted(false_edges)\n",
        "    \n",
        "    return false_edges\n",
        "\n",
        "def construct_graph_from_edges(edges):\n",
        "    \"\"\"\n",
        "    generate a directed graph object given true edges\n",
        "    DiGraph documentation: https://networkx.github.io/documentation/stable/reference/classes/digraph.html\n",
        "    \"\"\"\n",
        "    # convert a list of edges {(u, v)} to a list of edges with weights {(u, v, w)}\n",
        "    edge_weight = defaultdict(float)\n",
        "    for e in edges:\n",
        "        edge_weight[e] += 1.0\n",
        "    weighed_edge_list = list()\n",
        "    for e in sorted(edge_weight.keys()):\n",
        "        weighed_edge_list.append((e[0], e[1], edge_weight[e]))\n",
        "        \n",
        "    graph = nx.DiGraph()\n",
        "    graph.add_weighted_edges_from(weighed_edge_list)\n",
        "    \n",
        "    print(\"number of nodes:\", graph.number_of_nodes())\n",
        "    print(\"number of edges:\", graph.number_of_edges())\n",
        "    \n",
        "    return graph"
      ],
      "execution_count": 4,
      "outputs": []
    },
    {
      "cell_type": "markdown",
      "metadata": {
        "id": "dlAp0RjOyn5F"
      },
      "source": [
        "### Random Walk Generator"
      ]
    },
    {
      "cell_type": "markdown",
      "metadata": {
        "id": "RGZjlmpsyn5G"
      },
      "source": [
        "Random walk generators or random walkers yield random walks that contain both local and higher-order neighborhood information. However, naive non-uniform sampling is very slow, which requires O(n) time complexity. Here alias sampling can reduce the time complexity to O(1) with O(n) space. If you are interested, please see the following blog."
      ]
    },
    {
      "cell_type": "code",
      "metadata": {
        "id": "TRddMHxYyn5G"
      },
      "source": [
        "def alias_setup(probs):\n",
        "    \"\"\"\n",
        "    compute utility lists for non-uniform sampling from discrete distributions.\n",
        "    details: https://lips.cs.princeton.edu/the-alias-method-efficient-sampling-with-many-discrete-outcomes/\n",
        "    \"\"\"\n",
        "    K = len(probs)\n",
        "    q = np.zeros(K)\n",
        "    J = np.zeros(K, dtype=np.int)\n",
        "\n",
        "    smaller = list()\n",
        "    larger = list()\n",
        "    for kk, prob in enumerate(probs):\n",
        "        q[kk] = K * prob\n",
        "        if q[kk] < 1.0:\n",
        "            smaller.append(kk)\n",
        "        else:\n",
        "            larger.append(kk)\n",
        "\n",
        "    while len(smaller) > 0 and len(larger) > 0:\n",
        "        small = smaller.pop()\n",
        "        large = larger.pop()\n",
        "\n",
        "        J[small] = large\n",
        "        q[large] = q[large] + q[small] - 1.0\n",
        "        if q[large] < 1.0:\n",
        "            smaller.append(large)\n",
        "        else:\n",
        "            larger.append(large)\n",
        "\n",
        "    return J, q\n",
        "\n",
        "def get_alias_node(graph, node):\n",
        "    \"\"\"\n",
        "    get the alias node setup lists for a given node.\n",
        "    \"\"\"\n",
        "    # get the unnormalized probabilities with the first-order information\n",
        "    unnormalized_probs = list()\n",
        "    for nbr in graph.neighbors(node):\n",
        "        unnormalized_probs.append(graph[node][nbr][\"weight\"])\n",
        "    unnormalized_probs = np.array(unnormalized_probs)\n",
        "    if len(unnormalized_probs) > 0:\n",
        "        normalized_probs = unnormalized_probs / unnormalized_probs.sum()\n",
        "    else:\n",
        "        normalized_probs = unnormalized_probs\n",
        "        \n",
        "    return alias_setup(normalized_probs)\n",
        "    \n",
        "def get_alias_edge(graph, src, dst, p=1, q=1):\n",
        "    \"\"\"\n",
        "    get the alias edge setup lists for a given edge.\n",
        "    \"\"\"\n",
        "    # get the unnormalized probabilities with the second-order information\n",
        "    unnormalized_probs = list()\n",
        "    for dst_nbr in graph.neighbors(dst):\n",
        "        if dst_nbr == src: # distance is 0\n",
        "            unnormalized_probs.append(graph[dst][dst_nbr][\"weight\"]/p)\n",
        "        elif graph.has_edge(dst_nbr, src): # distance is 1\n",
        "            unnormalized_probs.append(graph[dst][dst_nbr][\"weight\"])\n",
        "        else: # distance is 2\n",
        "            unnormalized_probs.append(graph[dst][dst_nbr][\"weight\"]/q)\n",
        "    unnormalized_probs = np.array(unnormalized_probs)\n",
        "    if len(unnormalized_probs) > 0:\n",
        "        normalized_probs = unnormalized_probs / unnormalized_probs.sum()\n",
        "    else:\n",
        "        normalized_probs = unnormalized_probs\n",
        "\n",
        "    return alias_setup(normalized_probs)\n",
        "\n",
        "def preprocess_transition_probs(graph, p=1, q=1):\n",
        "    \"\"\"\n",
        "    preprocess transition probabilities for guiding the random walks.\n",
        "    \"\"\"\n",
        "    alias_nodes = dict()\n",
        "    for node in graph.nodes():\n",
        "        alias_nodes[node] = get_alias_node(graph, node)\n",
        "\n",
        "    alias_edges = dict()\n",
        "    for edge in graph.edges():\n",
        "        alias_edges[edge] = get_alias_edge(graph, edge[0], edge[1], p=p, q=q)\n",
        "\n",
        "    return alias_nodes, alias_edges"
      ],
      "execution_count": 5,
      "outputs": []
    },
    {
      "cell_type": "markdown",
      "metadata": {
        "id": "YI4BF4Wbyn5H"
      },
      "source": [
        "The difference between DeepWalk and node2vec is how to generate random walks. The former only consider the first-order information while the latter also involves the second-order information."
      ]
    },
    {
      "cell_type": "code",
      "metadata": {
        "id": "WF_oXP1Qyn5I"
      },
      "source": [
        "def alias_draw(J, q):\n",
        "    \"\"\"\n",
        "    draw sample from a non-uniform discrete distribution using alias sampling.\n",
        "    \"\"\"\n",
        "    K = len(J)\n",
        "\n",
        "    kk = int(np.floor(np.random.rand() * K))\n",
        "    if np.random.rand() < q[kk]:\n",
        "        return kk\n",
        "    else:\n",
        "        return J[kk]\n",
        "\n",
        "\n",
        "# helper function to generate the long random walk as desired\n",
        "def fallback(walk, fetch_last_num=1):\n",
        "    if len(walk) > fetch_last_num:\n",
        "        walk.pop()\n",
        "        fetched = []\n",
        "        for i in range(fetch_last_num):\n",
        "            fetched.append(walk[-1-i])\n",
        "        return walk, fetched\n",
        "    else:\n",
        "        return [], [None for _ in range(fetch_last_num)]\n",
        "\n",
        "def generate_first_order_random_walk(graph, alias_nodes, \n",
        "                                     walk_length=10, start_node=None, verbose=False, max_trails=10):\n",
        "    \"\"\"\n",
        "    simulate a random walk starting from start node and considering the first order information.\n",
        "    max_trials: set the max trials to be one for standard random walk. Larger max_trails will make the generated biased.\n",
        "    \"\"\"\n",
        "    if start_node == None:\n",
        "        start_node = np.random.choice(graph.nodes())\n",
        "    walk = [start_node]\n",
        "    cur = start_node\n",
        "    num_tried = 0\n",
        "    \n",
        "    ########## begin ##########\n",
        "    while len(walk) < walk_length:\n",
        "        cur_nbrs = list(graph.neighbors(cur))\n",
        "        if len(cur_nbrs) > 0: # if we can sample next nodes\n",
        "            # sample the next node based on alias_nodes\n",
        "            cur = cur_nbrs[alias_draw(*alias_nodes[cur])]\n",
        "            walk.append(cur)\n",
        "        else: # if we can't do that\n",
        "            num_tried += 1\n",
        "            if num_tried >= max_trails:\n",
        "                break\n",
        "\n",
        "            walk, fetched = fallback(walk, fetch_last_num=1)\n",
        "            cur = fetched[0]\n",
        "            if len(walk) == 0: # if falls back to the empty walk\n",
        "                start_node = np.random.choice(graph.nodes())\n",
        "                walk = [start_node]\n",
        "                cur = start_node\n",
        "    ########## end ##########\n",
        "\n",
        "    if verbose: \n",
        "        print(f'walk of lenght {len(walk)} generated with {num_tried} trails')\n",
        "    return walk\n",
        "    \n",
        "def generate_second_order_random_walk(graph, alias_nodes, alias_edges, \n",
        "                                      walk_length=10, start_node=None, verbose=False, max_trails=10):\n",
        "    \"\"\"\n",
        "    simulate a random walk starting from start node and considering the second order information.\n",
        "    \"\"\"\n",
        "    if start_node == None:\n",
        "        start_node = np.random.choice(graph.nodes())\n",
        "    walk = [start_node]\n",
        "    \n",
        "    prev = None\n",
        "    cur = start_node\n",
        "    num_tried = 0\n",
        "\n",
        "    ########## begin ##########\n",
        "    while len(walk) < walk_length:\n",
        "        cur_nbrs = list(graph.neighbors(cur))\n",
        "        if len(cur_nbrs) > 0:\n",
        "            if prev is None:\n",
        "                # sample the next node based on alias_nodes\n",
        "                prev, cur = cur, cur_nbrs[alias_draw(*alias_nodes[cur])]\n",
        "            else:\n",
        "                # sample the next node based on alias_edges\n",
        "                prev, cur = cur, cur_nbrs[alias_draw(*alias_edges[(prev, cur)])]\n",
        "            walk.append(cur)\n",
        "        else:\n",
        "            num_tried += 1\n",
        "            if num_tried >= max_trails:\n",
        "                break\n",
        "            walk, (cur, prev) = fallback(walk, fetch_last_num=2)\n",
        "            if len(walk) == 0:\n",
        "                start_node = np.random.choice(graph.nodes())\n",
        "                walk = [start_node]\n",
        "                cur = start_node\n",
        "                prev = None\n",
        "    ########## end ##########\n",
        "    if verbose: \n",
        "        print(f'walk of lenght {len(walk)} generated with {num_tried} trails')\n",
        "    return walk"
      ],
      "execution_count": 6,
      "outputs": []
    },
    {
      "cell_type": "markdown",
      "metadata": {
        "id": "yiII-wJQyn5J"
      },
      "source": [
        "### Network Embedding Algorithms"
      ]
    },
    {
      "cell_type": "code",
      "metadata": {
        "id": "lWOFzEawyn5J"
      },
      "source": [
        "def build_deepwalk(graph, alias_nodes, node_dim=10, num_walks=10, walk_length=10):\n",
        "    \"\"\"\n",
        "    build a deepwalk model\n",
        "    \"\"\"\n",
        "    print(\"building a DeepWalk model...\", end=\"\\t\")\n",
        "    st = time.time()\n",
        "    np.random.seed(0)\n",
        "    nodes = list(graph.nodes())\n",
        "    walks = list()\n",
        "    # generate random walks\n",
        "    for walk_iter in range(num_walks):\n",
        "        np.random.shuffle(nodes)\n",
        "        for node in nodes:\n",
        "            walks.append(generate_first_order_random_walk(\n",
        "                graph, alias_nodes, walk_length=walk_length, start_node=node))\n",
        "        \n",
        "    walk_lens = [len(w) for w in walks]\n",
        "    if len(walk_lens) > 0:\n",
        "        avg_walk_len = sum(walk_lens) / len(walk_lens)\n",
        "    else:\n",
        "        avg_walk_len = 0.0\n",
        "    print(\"number of walks: %d\\taverage walk length: %.4f\" % (len(walks), avg_walk_len), end=\"\\t\")\n",
        "    \n",
        "    # train a skip-gram model for these walks\n",
        "    model = Word2Vec(walks, vector_size=node_dim, window=3, min_count=0, sg=1, workers=os.cpu_count(), epochs=10)\n",
        "    # model = Word2Vec(walks, size=node_dim, window=3, min_count=0, sg=1, workers=os.cpu_count(), epochs=10)\n",
        "    print(\"training time: %.4f\" % (time.time()-st))\n",
        "    \n",
        "    return model\n",
        "\n",
        "def build_node2vec(graph, alias_nodes, alias_edges, node_dim=10, num_walks=10, walk_length=10):\n",
        "    \"\"\"\n",
        "    build a node2vec model\n",
        "    \"\"\"\n",
        "    print(\"building a node2vec model...\", end=\"\\t\")\n",
        "    st = time.time()\n",
        "    np.random.seed(0)\n",
        "    nodes = list(graph.nodes())\n",
        "    walks = list()\n",
        "    # generate random walks\n",
        "    for walk_iter in range(num_walks):\n",
        "        np.random.shuffle(nodes)\n",
        "        for node in nodes:\n",
        "            walks.append(generate_second_order_random_walk(\n",
        "                graph, alias_nodes, alias_edges, walk_length=walk_length, start_node=node))\n",
        "            \n",
        "    walk_lens = [len(w) for w in walks]\n",
        "    if len(walk_lens) > 0:\n",
        "        avg_walk_len = sum(walk_lens) / len(walk_lens)\n",
        "    else:\n",
        "        avg_walk_len = 0.0    \n",
        "    print(\"number of walks: %d\\taverage walk length: %.4f\" % (len(walks), avg_walk_len), end=\"\\t\")\n",
        "    \n",
        "    # train a skip-gram model for these walks\n",
        "    model = Word2Vec(walks, vector_size=node_dim, window=3, min_count=0, sg=1, workers=os.cpu_count(), epochs=10)\n",
        "    print(\"training time: %.4f\" % (time.time()-st))\n",
        "    \n",
        "    return model"
      ],
      "execution_count": 7,
      "outputs": []
    },
    {
      "cell_type": "markdown",
      "metadata": {
        "id": "Y9hF1jDkyn5K"
      },
      "source": [
        "### Scorer"
      ]
    },
    {
      "cell_type": "code",
      "metadata": {
        "id": "SNn-On78yn5K"
      },
      "source": [
        "def get_cosine_sim(model, u, v):\n",
        "    \"\"\"\n",
        "    get the cosine similarity between two nodes\n",
        "    \"\"\"\n",
        "    try:\n",
        "        u = model.wv[u]\n",
        "        v = model.wv[v]\n",
        "        return np.dot(u, v) / (np.linalg.norm(u) * np.linalg.norm(v))\n",
        "    except:\n",
        "        return 0.5\n",
        "\n",
        "def get_auc_score(model, true_edges, false_edges):\n",
        "    \"\"\"\n",
        "    get the auc score\n",
        "    \"\"\"\n",
        "    y_true = [1] * len(true_edges) + [0] * len(false_edges)\n",
        "    \n",
        "    y_score = list()\n",
        "    for e in true_edges:\n",
        "        y_score.append(get_cosine_sim(model, e[0], e[1]))\n",
        "    for e in false_edges:\n",
        "        y_score.append(get_cosine_sim(model, e[0], e[1]))\n",
        "    \n",
        "    return roc_auc_score(y_true, y_score)\n",
        "\n",
        "def write_pred(file_name, edges, scores):\n",
        "    df = pd.DataFrame()\n",
        "    df[\"src\"] = [e[0] for e in edges]\n",
        "    df[\"dst\"] = [e[1] for e in edges]\n",
        "    df[\"score\"] = scores\n",
        "    df.to_csv(file_name, index=False)\n",
        "    \n",
        "    \n",
        "\n",
        "\n",
        "\n",
        "def write_valid_ans(file_name, edges, scores):\n",
        "    df = pd.DataFrame()\n",
        "    df[\"src\"] = [e[0] for e in edges]\n",
        "    df[\"dst\"] = [e[1] for e in edges]\n",
        "    df[\"score\"] = scores\n",
        "    df.to_csv(file_name, index=False)"
      ],
      "execution_count": 8,
      "outputs": []
    },
    {
      "cell_type": "markdown",
      "metadata": {
        "id": "J1ajwklFyn5L"
      },
      "source": [
        "### Try them over a Real-life Network"
      ]
    },
    {
      "cell_type": "markdown",
      "metadata": {
        "id": "bfOGGjngyn5L"
      },
      "source": [
        "Firstly, we need to load edges into memory and use the networkx.DiGraph structure to store the graph."
      ]
    },
    {
      "cell_type": "code",
      "metadata": {
        "colab": {
          "base_uri": "https://localhost:8080/"
        },
        "id": "dINvOau3yn5L",
        "outputId": "a677e891-2a53-4be1-eff8-b3067befe65b"
      },
      "source": [
        "train_file = \"data/train.csv\"\n",
        "valid_file = \"data/valid.csv\"\n",
        "test_file = \"data/test.csv\"\n",
        "\n",
        "np.random.seed(0)\n",
        "train_edges = load_data(train_file)\n",
        "graph = construct_graph_from_edges(train_edges)\n",
        "valid_edges = load_data(valid_file)\n",
        "false_edges = generate_false_edges(train_edges+valid_edges, 40000-len(valid_edges))\n",
        "test_edges = load_test_data(test_file)"
      ],
      "execution_count": 9,
      "outputs": [
        {
          "output_type": "stream",
          "text": [
            "number of nodes: 8328\n",
            "number of edges: 100000\n",
            "8474 119268\n"
          ],
          "name": "stdout"
        }
      ]
    },
    {
      "cell_type": "markdown",
      "metadata": {
        "id": "Pi-M57s5yn5M"
      },
      "source": [
        "After that, we can use preprocess transition probabilities with the help of alias sampling."
      ]
    },
    {
      "cell_type": "code",
      "metadata": {
        "id": "hewTqqxRyn5N"
      },
      "source": [
        "alias_nodes, alias_edges = preprocess_transition_probs(graph, p=1, q=1)"
      ],
      "execution_count": 10,
      "outputs": []
    },
    {
      "cell_type": "markdown",
      "metadata": {
        "id": "__pa9Mpzyn5N"
      },
      "source": [
        "We can use random walk generators to generate random walks."
      ]
    },
    {
      "cell_type": "markdown",
      "metadata": {
        "id": "C8aiERSsyn5N"
      },
      "source": [
        "Let's try to generate a first-order random walk and a second-order random walk."
      ]
    },
    {
      "cell_type": "code",
      "metadata": {
        "colab": {
          "base_uri": "https://localhost:8080/"
        },
        "id": "lP_P_v6pyn5N",
        "outputId": "fac97eca-7227-46b6-b536-558fbac1f1b9"
      },
      "source": [
        "generate_first_order_random_walk(graph, alias_nodes=alias_nodes,\n",
        "                                 start_node=\"N6ZTMIue-2b30CJv2tyPGg\", walk_length=10)"
      ],
      "execution_count": 11,
      "outputs": [
        {
          "output_type": "execute_result",
          "data": {
            "text/plain": [
              "['N6ZTMIue-2b30CJv2tyPGg',\n",
              " 'rEVrHXlCNGQNOfWDKxOnTQ',\n",
              " 'N6ZTMIue-2b30CJv2tyPGg',\n",
              " 'u0aFzHN2GzAq2czVKcDmqg',\n",
              " 'N6ZTMIue-2b30CJv2tyPGg',\n",
              " 'cvAPwZRWaDxSUudy8CR3Rw',\n",
              " '9E35LB29RXJixo0563Iwew',\n",
              " 'V74paj6Zok4DvGnciFEZMg',\n",
              " 'hiEQhuyMOSKCvVqmHrpvhg',\n",
              " 'V74paj6Zok4DvGnciFEZMg']"
            ]
          },
          "metadata": {
            "tags": []
          },
          "execution_count": 11
        }
      ]
    },
    {
      "cell_type": "code",
      "metadata": {
        "colab": {
          "base_uri": "https://localhost:8080/"
        },
        "id": "N4ZJEqSdyn5O",
        "outputId": "641e4ec3-5509-411c-f601-f3346153ecb2"
      },
      "source": [
        "generate_second_order_random_walk(graph, alias_nodes=alias_nodes, alias_edges=alias_edges,\n",
        "                                  start_node=\"N6ZTMIue-2b30CJv2tyPGg\", walk_length=10)"
      ],
      "execution_count": 12,
      "outputs": [
        {
          "output_type": "execute_result",
          "data": {
            "text/plain": [
              "['N6ZTMIue-2b30CJv2tyPGg',\n",
              " 'rEVrHXlCNGQNOfWDKxOnTQ',\n",
              " 'mTRDblbRHCLKv1ZDxo9zcw',\n",
              " 'KxGeqg5ccByhaZfQRI4Nnw',\n",
              " 's79vzEzqavL_29pmraXZBA',\n",
              " '-d78vV86WnU2uWac1fEntA',\n",
              " '7C4B2Skmh4X9f8xJDo9O4w',\n",
              " 'MQwSyZ2MZ6N7rtAmphZCow',\n",
              " 'MPGqUhAsmVEHq9k9X6VZKw',\n",
              " 'DXh8yxwZCg5Ckj5kmDvKXw']"
            ]
          },
          "metadata": {
            "tags": []
          },
          "execution_count": 12
        }
      ]
    },
    {
      "cell_type": "markdown",
      "metadata": {
        "id": "ObZCLoBsyn5O"
      },
      "source": [
        "And we can build a DeepWalk model and a node2vec model. Here we set p=q=0.5 so that the walker will not go very far away from the start node."
      ]
    },
    {
      "cell_type": "code",
      "metadata": {
        "colab": {
          "base_uri": "https://localhost:8080/"
        },
        "id": "RkG3PlKRyn5O",
        "outputId": "d65da69e-8fd5-4dc7-dc69-93399f42cae6"
      },
      "source": [
        "model = build_deepwalk(graph, alias_nodes, node_dim=10, num_walks=10, walk_length=10)"
      ],
      "execution_count": 13,
      "outputs": [
        {
          "output_type": "stream",
          "text": [
            "building a DeepWalk model...\tnumber of walks: 83280\taverage walk length: 9.8980\ttraining time: 29.6275\n"
          ],
          "name": "stdout"
        }
      ]
    },
    {
      "cell_type": "code",
      "metadata": {
        "colab": {
          "base_uri": "https://localhost:8080/"
        },
        "id": "ZQMm5dfZyn5P",
        "outputId": "ad530573-8ac0-4cc0-8cfa-f0f2c14b6a40"
      },
      "source": [
        "model = build_node2vec(graph, alias_nodes, alias_edges, node_dim=10, num_walks=10, walk_length=10)"
      ],
      "execution_count": 14,
      "outputs": [
        {
          "output_type": "stream",
          "text": [
            "building a node2vec model...\tnumber of walks: 83280\taverage walk length: 9.9910\ttraining time: 32.3465\n"
          ],
          "name": "stdout"
        }
      ]
    },
    {
      "cell_type": "markdown",
      "metadata": {
        "id": "zUES24QXyn5P"
      },
      "source": [
        "Let's see the node embeddings of three nodes, and cosine similarities of two edges."
      ]
    },
    {
      "cell_type": "code",
      "metadata": {
        "colab": {
          "base_uri": "https://localhost:8080/"
        },
        "id": "DyuxfP6oyn5P",
        "outputId": "7756563c-9614-4f23-f5d3-913f62baf7eb"
      },
      "source": [
        "print(\"node embedding (\\\"N6ZTMIue-2b30CJv2tyPGg\\\"):\",\n",
        "      model.wv[\"N6ZTMIue-2b30CJv2tyPGg\"])\n",
        "print(\"node embedding (\\\"N7E-CfqdME28dakWdEKNvw\\\"):\",\n",
        "      model.wv[\"N7E-CfqdME28dakWdEKNvw\"])\n",
        "print(\"node embedding (\\\"MmlJSLDg-IFaeXb5wdJbgg\\\"):\",\n",
        "      model.wv.vectors[model.wv.index_to_key.index(\"MmlJSLDg-IFaeXb5wdJbgg\")])\n",
        "print(\"true edge (\\\"N6ZTMIue-2b30CJv2tyPGg\\\", \\\"N7E-CfqdME28dakWdEKNvw\\\"):\",\n",
        "      get_cosine_sim(model, \"N6ZTMIue-2b30CJv2tyPGg\", \"N7E-CfqdME28dakWdEKNvw\"))\n",
        "print(\"false edge (\\\"N6ZTMIue-2b30CJv2tyPGg\\\", \\\"MmlJSLDg-IFaeXb5wdJbgg\\\"):\",\n",
        "      get_cosine_sim(model, \"N6ZTMIue-2b30CJv2tyPGg\", \"MmlJSLDg-IFaeXb5wdJbgg\"))"
      ],
      "execution_count": 15,
      "outputs": [
        {
          "output_type": "stream",
          "text": [
            "node embedding (\"N6ZTMIue-2b30CJv2tyPGg\"): [ 0.11196358 -0.8177345   1.5127106   1.1980542  -1.2538775   0.32229194\n",
            "  0.9725047   1.2944263  -0.6359866  -0.4116282 ]\n",
            "node embedding (\"N7E-CfqdME28dakWdEKNvw\"): [ 0.67480683 -0.46806693  1.2138338   0.67284125 -0.8479994   0.17263702\n",
            "  1.6701664   0.90647745  0.09616276 -0.94704735]\n",
            "node embedding (\"MmlJSLDg-IFaeXb5wdJbgg\"): [ 0.4183885   0.13997929 -1.3920959   0.28452313  1.200367    1.305434\n",
            "  2.4075956   1.2818934  -0.8343017  -2.3281662 ]\n",
            "true edge (\"N6ZTMIue-2b30CJv2tyPGg\", \"N7E-CfqdME28dakWdEKNvw\"): 0.8599178\n",
            "false edge (\"N6ZTMIue-2b30CJv2tyPGg\", \"MmlJSLDg-IFaeXb5wdJbgg\"): 0.1942241\n"
          ],
          "name": "stdout"
        }
      ]
    },
    {
      "cell_type": "markdown",
      "metadata": {
        "id": "i7a9Hzfyyn5P"
      },
      "source": [
        "# Link Prediction"
      ]
    },
    {
      "cell_type": "markdown",
      "metadata": {
        "id": "nqokUkm_yn5Q"
      },
      "source": [
        "We can train the model with different parameters and test the model on the validation set. Please show your parameter search process and analysis in your code, and visualization tools (Heatmap, etc.) are recommended to make your analysis clear."
      ]
    },
    {
      "cell_type": "code",
      "metadata": {
        "colab": {
          "base_uri": "https://localhost:8080/"
        },
        "id": "W8XegoMwyn5Q",
        "outputId": "d461f3a1-3f1a-492f-94c7-afd95f191196"
      },
      "source": [
        "np.random.seed(0)\n",
        "\n",
        "node_dim = 10\n",
        "num_walks = 10\n",
        "walk_length = 10\n",
        "\n",
        "deepwalk_auc_scores = dict()\n",
        "\n",
        "print(\"node dim: %d,\\tnum_walks: %d,\\twalk_length: %d\" % (node_dim, num_walks, walk_length), end=\"\\t\")\n",
        "model = build_deepwalk(graph, alias_nodes, \n",
        "                       node_dim=node_dim, num_walks=num_walks, walk_length=walk_length)\n",
        "deepwalk_auc_scores[(node_dim, num_walks, walk_length)] = get_auc_score(model, valid_edges, false_edges)\n",
        "print(\"auc: %.4f\" % (deepwalk_auc_scores[(node_dim, num_walks, walk_length)]))"
      ],
      "execution_count": 16,
      "outputs": [
        {
          "output_type": "stream",
          "text": [
            "node dim: 10,\tnum_walks: 10,\twalk_length: 10\tbuilding a DeepWalk model...\tnumber of walks: 83280\taverage walk length: 9.8980\ttraining time: 29.5680\n",
            "auc: 0.9275\n"
          ],
          "name": "stdout"
        }
      ]
    },
    {
      "cell_type": "code",
      "metadata": {
        "colab": {
          "base_uri": "https://localhost:8080/"
        },
        "id": "A-FeXV-eyn5Q",
        "outputId": "f3176d16-ddac-481f-afb8-60a444d00aec"
      },
      "source": [
        "np.random.seed(0)\n",
        "\n",
        "node_dim = 10\n",
        "num_walks = 10\n",
        "walk_length = 10\n",
        "p = 0.5\n",
        "q = 0.5\n",
        "\n",
        "node2vec_auc_scores = dict()\n",
        "print(\"node dim: %d,\\tnum_walks: %d,\\twalk_length: %d,\\tp: %.2f,\\tq: %.2f\" % (\n",
        "    node_dim, num_walks, walk_length, p, q), end=\"\\t\")\n",
        "alias_nodes, alias_edges = preprocess_transition_probs(graph, p=p, q=q)\n",
        "model = build_node2vec(graph, alias_nodes, alias_edges, \n",
        "                       node_dim=node_dim, num_walks=num_walks, walk_length=walk_length)\n",
        "node2vec_auc_scores[(node_dim, num_walks, walk_length, p, q)] = get_auc_score(model, valid_edges, false_edges)\n",
        "print(\"auc: %.4f\" % (node2vec_auc_scores[(node_dim, num_walks, walk_length, p, q)]))"
      ],
      "execution_count": 17,
      "outputs": [
        {
          "output_type": "stream",
          "text": [
            "node dim: 10,\tnum_walks: 10,\twalk_length: 10,\tp: 0.50,\tq: 0.50\tbuilding a node2vec model...\tnumber of walks: 83280\taverage walk length: 9.9918\ttraining time: 32.5094\n",
            "auc: 0.9271\n"
          ],
          "name": "stdout"
        }
      ]
    },
    {
      "cell_type": "markdown",
      "metadata": {
        "id": "eun7ZHphCyzW"
      },
      "source": [
        "# Deep Walk Hyperparameter Optimization"
      ]
    },
    {
      "cell_type": "markdown",
      "metadata": {
        "id": "iW_Eg7JcWW6-"
      },
      "source": [
        "## num_walks, walk_length"
      ]
    },
    {
      "cell_type": "code",
      "metadata": {
        "id": "rZc2e8ERDHLx"
      },
      "source": [
        "np.random.seed(0)\n",
        "\n",
        "node_dim = 10\n",
        "num_walks = 10\n",
        "walk_length = 10\n",
        "\n",
        "deepwalk_auc_scores = dict()"
      ],
      "execution_count": 38,
      "outputs": []
    },
    {
      "cell_type": "code",
      "metadata": {
        "colab": {
          "base_uri": "https://localhost:8080/"
        },
        "id": "j_A_7X8MWV4l",
        "outputId": "7553f0b3-e6b9-4941-a550-9a1562a6ac3d"
      },
      "source": [
        "walk_length_list = [10, 20, 40]\n",
        "num_walks_list = [5, 10, 20, 40]\n",
        "\n",
        "for walk_length_i in walk_length_list:\n",
        "    for num_walks_i in num_walks_list:\n",
        "        print(\"node dim: %d,\\tnum_walks: %d,\\twalk_length: %d\" % (node_dim, num_walks_i, walk_length_i), end=\"\\t\")\n",
        "        model = build_deepwalk(graph, alias_nodes, \n",
        "                              node_dim=node_dim, num_walks=num_walks_i, walk_length=walk_length_i)\n",
        "        deepwalk_auc_scores[(node_dim, num_walks_i, walk_length_i)] = get_auc_score(model, valid_edges, false_edges)\n",
        "        print(\"auc: %.4f\" % (deepwalk_auc_scores[(node_dim, num_walks_i, walk_length_i)]))"
      ],
      "execution_count": 39,
      "outputs": [
        {
          "output_type": "stream",
          "text": [
            "node dim: 10,\tnum_walks: 5,\twalk_length: 10\tbuilding a DeepWalk model...\tnumber of walks: 41640\taverage walk length: 9.8976\ttraining time: 15.1966\n",
            "auc: 0.9116\n",
            "node dim: 10,\tnum_walks: 10,\twalk_length: 10\tbuilding a DeepWalk model...\tnumber of walks: 83280\taverage walk length: 9.8980\ttraining time: 29.4260\n",
            "auc: 0.9275\n",
            "node dim: 10,\tnum_walks: 20,\twalk_length: 10\tbuilding a DeepWalk model...\tnumber of walks: 166560\taverage walk length: 9.8981\ttraining time: 58.5204\n",
            "auc: 0.9329\n",
            "node dim: 10,\tnum_walks: 40,\twalk_length: 10\tbuilding a DeepWalk model...\tnumber of walks: 333120\taverage walk length: 9.8984\ttraining time: 115.9550\n",
            "auc: 0.9319\n",
            "node dim: 10,\tnum_walks: 5,\twalk_length: 20\tbuilding a DeepWalk model...\tnumber of walks: 41640\taverage walk length: 19.7535\ttraining time: 26.7268\n",
            "auc: 0.9269\n",
            "node dim: 10,\tnum_walks: 10,\twalk_length: 20\tbuilding a DeepWalk model...\tnumber of walks: 83280\taverage walk length: 19.7559\ttraining time: 52.4619\n",
            "auc: 0.9323\n",
            "node dim: 10,\tnum_walks: 20,\twalk_length: 20\tbuilding a DeepWalk model...\tnumber of walks: 166560\taverage walk length: 19.7587\ttraining time: 105.1708\n",
            "auc: 0.9319\n",
            "node dim: 10,\tnum_walks: 40,\twalk_length: 20\tbuilding a DeepWalk model...\tnumber of walks: 333120\taverage walk length: 19.7608\ttraining time: 208.5867\n",
            "auc: 0.9300\n",
            "node dim: 10,\tnum_walks: 5,\twalk_length: 40\tbuilding a DeepWalk model...\tnumber of walks: 41640\taverage walk length: 39.4357\ttraining time: 49.6266\n",
            "auc: 0.9298\n",
            "node dim: 10,\tnum_walks: 10,\twalk_length: 40\tbuilding a DeepWalk model...\tnumber of walks: 83280\taverage walk length: 39.4396\ttraining time: 98.4996\n",
            "auc: 0.9304\n",
            "node dim: 10,\tnum_walks: 20,\twalk_length: 40\tbuilding a DeepWalk model...\tnumber of walks: 166560\taverage walk length: 39.4343\ttraining time: 197.2191\n",
            "auc: 0.9284\n",
            "node dim: 10,\tnum_walks: 40,\twalk_length: 40\tbuilding a DeepWalk model...\tnumber of walks: 333120\taverage walk length: 39.4376\ttraining time: 392.9945\n",
            "auc: 0.9265\n"
          ],
          "name": "stdout"
        }
      ]
    },
    {
      "cell_type": "code",
      "metadata": {
        "colab": {
          "base_uri": "https://localhost:8080/"
        },
        "id": "8WdISpzlcQ91",
        "outputId": "9bd21222-6e2d-4850-9f0f-51363146cfbd"
      },
      "source": [
        "deepwalk_auc_scores"
      ],
      "execution_count": 41,
      "outputs": [
        {
          "output_type": "execute_result",
          "data": {
            "text/plain": [
              "{(10, 5, 10): 0.9116397186014497,\n",
              " (10, 5, 20): 0.9269012398248198,\n",
              " (10, 5, 40): 0.9298399376368609,\n",
              " (10, 10, 10): 0.9275003085633391,\n",
              " (10, 10, 20): 0.9322516532746605,\n",
              " (10, 10, 40): 0.9303785553976686,\n",
              " (10, 20, 10): 0.932889894487059,\n",
              " (10, 20, 20): 0.9319410709810434,\n",
              " (10, 20, 40): 0.9284349280422082,\n",
              " (10, 40, 10): 0.9319140072275216,\n",
              " (10, 40, 20): 0.930017394100441,\n",
              " (10, 40, 40): 0.9264914108342972}"
            ]
          },
          "metadata": {
            "tags": []
          },
          "execution_count": 41
        }
      ]
    },
    {
      "cell_type": "code",
      "metadata": {
        "colab": {
          "base_uri": "https://localhost:8080/",
          "height": 297
        },
        "id": "hxb29KeYWWDM",
        "outputId": "97d70212-9b1a-4133-91e5-5f35cb04e1c7"
      },
      "source": [
        "# plt.figure(figsize=(6, 4))\n",
        "a = np.array([[deepwalk_auc_scores[(node_dim, num_walks, walk_length)] for walk_length in [10, 20, 40]] for num_walks in [5, 10, 20, 40]])\n",
        "plt.imshow(a, cmap=\"hot\", interpolation=\"nearest\")\n",
        "plt.colorbar()\n",
        "plt.xticks(ticks=[0,1,2], labels=[10, 20, 40])\n",
        "plt.xlabel(\"walk_length\")\n",
        "plt.yticks(ticks=[0,1,2,3], labels=[5, 10, 20, 40])\n",
        "plt.ylabel(\"num_walks\")"
      ],
      "execution_count": 42,
      "outputs": [
        {
          "output_type": "execute_result",
          "data": {
            "text/plain": [
              "Text(0, 0.5, 'num_walks')"
            ]
          },
          "metadata": {
            "tags": []
          },
          "execution_count": 42
        },
        {
          "output_type": "display_data",
          "data": {
            "image/png": "[encoded data removed]",
            "text/plain": [
              "<Figure size 432x288 with 2 Axes>"
            ]
          },
          "metadata": {
            "tags": [],
            "needs_background": "light"
          }
        }
      ]
    },
    {
      "cell_type": "markdown",
      "metadata": {
        "id": "bCpzqgiYat7b"
      },
      "source": [
        "## node_dim"
      ]
    },
    {
      "cell_type": "code",
      "metadata": {
        "id": "oY7YtXulWWKn"
      },
      "source": [
        "np.random.seed(0)\n",
        "\n",
        "node_dim = 10\n",
        "num_walks = 10\n",
        "walk_length = 10\n",
        "\n",
        "deepwalk_auc_scores = dict()"
      ],
      "execution_count": 43,
      "outputs": []
    },
    {
      "cell_type": "code",
      "metadata": {
        "colab": {
          "base_uri": "https://localhost:8080/"
        },
        "id": "88teqHqhayob",
        "outputId": "cd44fb76-fc5d-427b-afad-83c8e462195d"
      },
      "source": [
        "node_dim_list = [5, 10, 20, 30, 40]\n",
        "\n",
        "for node_dim_i in node_dim_list:\n",
        "    print(\"node dim: %d,\\tnum_walks: %d,\\twalk_length: %d\" % (node_dim_i, num_walks, walk_length), end=\"\\t\")\n",
        "    model = build_deepwalk(graph, alias_nodes, \n",
        "                          node_dim=node_dim_i, num_walks=num_walks, walk_length=walk_length)\n",
        "    deepwalk_auc_scores[(node_dim_i, num_walks, walk_length)] = get_auc_score(model, valid_edges, false_edges)\n",
        "    print(\"auc: %.4f\" % (deepwalk_auc_scores[(node_dim_i, num_walks, walk_length)]))"
      ],
      "execution_count": 44,
      "outputs": [
        {
          "output_type": "stream",
          "text": [
            "node dim: 5,\tnum_walks: 10,\twalk_length: 10\tbuilding a DeepWalk model...\tnumber of walks: 83280\taverage walk length: 9.8980\ttraining time: 27.7665\n",
            "auc: 0.9077\n",
            "node dim: 10,\tnum_walks: 10,\twalk_length: 10\tbuilding a DeepWalk model...\tnumber of walks: 83280\taverage walk length: 9.8980\ttraining time: 29.6108\n",
            "auc: 0.9275\n",
            "node dim: 20,\tnum_walks: 10,\twalk_length: 10\tbuilding a DeepWalk model...\tnumber of walks: 83280\taverage walk length: 9.8980\ttraining time: 33.7185\n",
            "auc: 0.9094\n",
            "node dim: 30,\tnum_walks: 10,\twalk_length: 10\tbuilding a DeepWalk model...\tnumber of walks: 83280\taverage walk length: 9.8980\ttraining time: 38.2472\n",
            "auc: 0.8834\n",
            "node dim: 40,\tnum_walks: 10,\twalk_length: 10\tbuilding a DeepWalk model...\tnumber of walks: 83280\taverage walk length: 9.8980\ttraining time: 31.3954\n",
            "auc: 0.8541\n"
          ],
          "name": "stdout"
        }
      ]
    },
    {
      "cell_type": "code",
      "metadata": {
        "colab": {
          "base_uri": "https://localhost:8080/",
          "height": 265
        },
        "id": "kfp5S-4caywn",
        "outputId": "2356dcde-01fe-4bf0-b230-494c777818f2"
      },
      "source": [
        "a = np.array([[deepwalk_auc_scores[(node_dim, num_walks, walk_length)] for node_dim in [5, 10, 20, 30, 40]]])\n",
        "plt.imshow(a, cmap=\"hot\", interpolation=\"nearest\")\n",
        "plt.colorbar()\n",
        "plt.xticks(ticks=[0,1,2, 3, 4], labels=[5, 10, 20, 30, 40])\n",
        "plt.xlabel(\"node_dim\")\n",
        "plt.yticks(ticks=[0], labels=[0])\n",
        "plt.ylabel(\" \")"
      ],
      "execution_count": 45,
      "outputs": [
        {
          "output_type": "execute_result",
          "data": {
            "text/plain": [
              "Text(0, 0.5, ' ')"
            ]
          },
          "metadata": {
            "tags": []
          },
          "execution_count": 45
        },
        {
          "output_type": "display_data",
          "data": {
            "image/png": "[encoded data removed]",
            "text/plain": [
              "<Figure size 432x288 with 2 Axes>"
            ]
          },
          "metadata": {
            "tags": [],
            "needs_background": "light"
          }
        }
      ]
    },
    {
      "cell_type": "markdown",
      "metadata": {
        "id": "TvDGljF-CmSW"
      },
      "source": [
        "# Node2Vec Hyperparameter Optimization"
      ]
    },
    {
      "cell_type": "markdown",
      "metadata": {
        "id": "sFNZh580HmPT"
      },
      "source": [
        "## p, q"
      ]
    },
    {
      "cell_type": "code",
      "metadata": {
        "id": "f1Iqux8ZDITW"
      },
      "source": [
        "np.random.seed(0)\n",
        "\n",
        "node_dim = 10\n",
        "num_walks = 10\n",
        "walk_length = 10\n",
        "p = 0.5\n",
        "q = 0.5\n",
        "\n",
        "node2vec_auc_scores = dict()"
      ],
      "execution_count": 22,
      "outputs": []
    },
    {
      "cell_type": "code",
      "metadata": {
        "colab": {
          "base_uri": "https://localhost:8080/"
        },
        "id": "5YTJFjsHDO3n",
        "outputId": "c2c147d4-de94-4512-c512-ddae1c859207"
      },
      "source": [
        "p_list = [0.2, 0.3, 0.4, 0.5, 0.6, 0.7, 0.8, 0.9]\n",
        "\n",
        "for pi in p_list:\n",
        "    qi = 1 - pi\n",
        "    print(\"node dim: %d,\\tnum_walks: %d,\\twalk_length: %d,\\tp: %.2f,\\tq: %.2f\" % (\n",
        "        node_dim, num_walks, walk_length, pi, qi), end=\"\\t\")\n",
        "    alias_nodes, alias_edges = preprocess_transition_probs(graph, p=pi, q=qi)\n",
        "    model = build_node2vec(graph, alias_nodes, alias_edges, \n",
        "                          node_dim=node_dim, num_walks=num_walks, walk_length=walk_length)\n",
        "    node2vec_auc_scores[(node_dim, num_walks, walk_length, pi, qi)] = get_auc_score(model, valid_edges, false_edges)\n",
        "    print(\"auc: %.4f\" % (node2vec_auc_scores[(node_dim, num_walks, walk_length, pi, qi)]))"
      ],
      "execution_count": 23,
      "outputs": [
        {
          "output_type": "stream",
          "text": [
            "node dim: 10,\tnum_walks: 10,\twalk_length: 10,\tp: 0.20,\tq: 0.80\tbuilding a node2vec model...\tnumber of walks: 83280\taverage walk length: 9.9921\ttraining time: 32.2831\n",
            "auc: 0.9273\n",
            "node dim: 10,\tnum_walks: 10,\twalk_length: 10,\tp: 0.30,\tq: 0.70\tbuilding a node2vec model...\tnumber of walks: 83280\taverage walk length: 9.9915\ttraining time: 32.2409\n",
            "auc: 0.9289\n",
            "node dim: 10,\tnum_walks: 10,\twalk_length: 10,\tp: 0.40,\tq: 0.60\tbuilding a node2vec model...\tnumber of walks: 83280\taverage walk length: 9.9923\ttraining time: 32.0455\n",
            "auc: 0.9278\n",
            "node dim: 10,\tnum_walks: 10,\twalk_length: 10,\tp: 0.50,\tq: 0.50\tbuilding a node2vec model...\tnumber of walks: 83280\taverage walk length: 9.9918\ttraining time: 32.3878\n",
            "auc: 0.9270\n",
            "node dim: 10,\tnum_walks: 10,\twalk_length: 10,\tp: 0.60,\tq: 0.40\tbuilding a node2vec model...\tnumber of walks: 83280\taverage walk length: 9.9911\ttraining time: 32.6981\n",
            "auc: 0.9271\n",
            "node dim: 10,\tnum_walks: 10,\twalk_length: 10,\tp: 0.70,\tq: 0.30\tbuilding a node2vec model...\tnumber of walks: 83280\taverage walk length: 9.9884\ttraining time: 32.4504\n",
            "auc: 0.9254\n",
            "node dim: 10,\tnum_walks: 10,\twalk_length: 10,\tp: 0.80,\tq: 0.20\tbuilding a node2vec model...\tnumber of walks: 83280\taverage walk length: 9.9863\ttraining time: 32.5860\n",
            "auc: 0.9260\n",
            "node dim: 10,\tnum_walks: 10,\twalk_length: 10,\tp: 0.90,\tq: 0.10\tbuilding a node2vec model...\tnumber of walks: 83280\taverage walk length: 9.9799\ttraining time: 32.5708\n",
            "auc: 0.9255\n"
          ],
          "name": "stdout"
        }
      ]
    },
    {
      "cell_type": "code",
      "metadata": {
        "colab": {
          "base_uri": "https://localhost:8080/"
        },
        "id": "hpp5RkmXGdaR",
        "outputId": "36f5658b-d7f2-4cdb-84dc-3591c7c841e6"
      },
      "source": [
        "node2vec_auc_scores"
      ],
      "execution_count": 24,
      "outputs": [
        {
          "output_type": "execute_result",
          "data": {
            "text/plain": [
              "{(10, 10, 10, 0.2, 0.8): 0.9273059156623846,\n",
              " (10, 10, 10, 0.3, 0.7): 0.928910744176469,\n",
              " (10, 10, 10, 0.4, 0.6): 0.9278094188851618,\n",
              " (10, 10, 10, 0.5, 0.5): 0.9269972196455485,\n",
              " (10, 10, 10, 0.6, 0.4): 0.927142848474102,\n",
              " (10, 10, 10, 0.7, 0.30000000000000004): 0.9254302305696619,\n",
              " (10, 10, 10, 0.8, 0.19999999999999996): 0.9260495501854464,\n",
              " (10, 10, 10, 0.9, 0.09999999999999998): 0.9254678697395884}"
            ]
          },
          "metadata": {
            "tags": []
          },
          "execution_count": 24
        }
      ]
    },
    {
      "cell_type": "code",
      "metadata": {
        "colab": {
          "base_uri": "https://localhost:8080/",
          "height": 267
        },
        "id": "KV6jn38kGkKw",
        "outputId": "a92ec1fc-0909-43b9-83b4-3377d77c775c"
      },
      "source": [
        "a = np.array([[node2vec_auc_scores[(node_dim, num_walks, walk_length, pi, 1-pi)] for pi in [0.2, 0.3, 0.4, 0.5, 0.6, 0.7, 0.8, 0.9]]])\n",
        "plt.imshow(a, cmap=\"hot\", interpolation=\"nearest\")\n",
        "plt.colorbar()\n",
        "plt.xticks(ticks=[0,1,2, 3, 4, 5, 6, 7], labels=[0.2, 0.3, 0.4, 0.5, 0.6, 0.7, 0.8, 0.9])\n",
        "plt.xlabel(\"p\")\n",
        "plt.yticks(ticks=[0], labels=[0])\n",
        "plt.ylabel(\"q = 1 - p\")"
      ],
      "execution_count": 29,
      "outputs": [
        {
          "output_type": "execute_result",
          "data": {
            "text/plain": [
              "Text(0, 0.5, 'q = 1 - p')"
            ]
          },
          "metadata": {
            "tags": []
          },
          "execution_count": 29
        },
        {
          "output_type": "display_data",
          "data": {
            "image/png": "[encoded data removed]",
            "text/plain": [
              "<Figure size 432x288 with 2 Axes>"
            ]
          },
          "metadata": {
            "tags": [],
            "needs_background": "light"
          }
        }
      ]
    },
    {
      "cell_type": "markdown",
      "metadata": {
        "id": "piQBiR87TILT"
      },
      "source": [
        "## num_walks, walk_length"
      ]
    },
    {
      "cell_type": "code",
      "metadata": {
        "id": "TN9ditUqIlVY"
      },
      "source": [
        "np.random.seed(0)\n",
        "\n",
        "node_dim = 10\n",
        "num_walks = 10\n",
        "walk_length = 10\n",
        "p = 0.5\n",
        "q = 0.5\n",
        "\n",
        "node2vec_auc_scores = dict()"
      ],
      "execution_count": 32,
      "outputs": []
    },
    {
      "cell_type": "code",
      "metadata": {
        "colab": {
          "base_uri": "https://localhost:8080/"
        },
        "id": "XbfiXmVKHrXH",
        "outputId": "51c863bf-e694-4e1d-f5d8-beb983be6376"
      },
      "source": [
        "walk_length_list = [10, 20, 40]\n",
        "num_walks_list = [5, 10, 20, 40]\n",
        "\n",
        "for walk_length_i in walk_length_list:\n",
        "    for num_walks_i in num_walks_list:\n",
        "        print(\"node dim: %d,\\tnum_walks: %d,\\twalk_length: %d,\\tp: %.2f,\\tq: %.2f\" % (\n",
        "            node_dim, num_walks_i, walk_length_i, p, q), end=\"\\t\")\n",
        "        alias_nodes, alias_edges = preprocess_transition_probs(graph, p=p, q=q)\n",
        "        model = build_node2vec(graph, alias_nodes, alias_edges, \n",
        "                              node_dim=node_dim, num_walks=num_walks_i, walk_length=walk_length_i)\n",
        "        node2vec_auc_scores[(node_dim, num_walks_i, walk_length_i, p, q)] = get_auc_score(model, valid_edges, false_edges)\n",
        "        print(\"auc: %.4f\" % (node2vec_auc_scores[(node_dim, num_walks_i, walk_length_i, p, q)]))"
      ],
      "execution_count": 33,
      "outputs": [
        {
          "output_type": "stream",
          "text": [
            "node dim: 10,\tnum_walks: 5,\twalk_length: 10,\tp: 0.50,\tq: 0.50\tbuilding a node2vec model...\tnumber of walks: 41640\taverage walk length: 9.9919\ttraining time: 16.4740\n",
            "auc: 0.9144\n",
            "node dim: 10,\tnum_walks: 10,\twalk_length: 10,\tp: 0.50,\tq: 0.50\tbuilding a node2vec model...\tnumber of walks: 83280\taverage walk length: 9.9918\ttraining time: 32.1429\n",
            "auc: 0.9271\n",
            "node dim: 10,\tnum_walks: 20,\twalk_length: 10,\tp: 0.50,\tq: 0.50\tbuilding a node2vec model...\tnumber of walks: 166560\taverage walk length: 9.9915\ttraining time: 63.9802\n",
            "auc: 0.9299\n",
            "node dim: 10,\tnum_walks: 40,\twalk_length: 10,\tp: 0.50,\tq: 0.50\tbuilding a node2vec model...\tnumber of walks: 333120\taverage walk length: 9.9912\ttraining time: 127.8222\n",
            "auc: 0.9294\n",
            "node dim: 10,\tnum_walks: 5,\twalk_length: 20,\tp: 0.50,\tq: 0.50\tbuilding a node2vec model...\tnumber of walks: 41640\taverage walk length: 19.9671\ttraining time: 29.0397\n",
            "auc: 0.9266\n",
            "node dim: 10,\tnum_walks: 10,\twalk_length: 20,\tp: 0.50,\tq: 0.50\tbuilding a node2vec model...\tnumber of walks: 83280\taverage walk length: 19.9665\ttraining time: 56.6179\n",
            "auc: 0.9314\n",
            "node dim: 10,\tnum_walks: 20,\twalk_length: 20,\tp: 0.50,\tq: 0.50\tbuilding a node2vec model...\tnumber of walks: 166560\taverage walk length: 19.9677\ttraining time: 112.5793\n",
            "auc: 0.9298\n",
            "node dim: 10,\tnum_walks: 40,\twalk_length: 20,\tp: 0.50,\tq: 0.50\tbuilding a node2vec model...\tnumber of walks: 333120\taverage walk length: 19.9678\ttraining time: 223.5134\n",
            "auc: 0.9284\n",
            "node dim: 10,\tnum_walks: 5,\twalk_length: 40,\tp: 0.50,\tq: 0.50\tbuilding a node2vec model...\tnumber of walks: 41640\taverage walk length: 39.8780\ttraining time: 52.9422\n",
            "auc: 0.9300\n",
            "node dim: 10,\tnum_walks: 10,\twalk_length: 40,\tp: 0.50,\tq: 0.50\tbuilding a node2vec model...\tnumber of walks: 83280\taverage walk length: 39.8755\ttraining time: 105.0367\n",
            "auc: 0.9295\n",
            "node dim: 10,\tnum_walks: 20,\twalk_length: 40,\tp: 0.50,\tq: 0.50\tbuilding a node2vec model...\tnumber of walks: 166560\taverage walk length: 39.8758\ttraining time: 209.7804\n",
            "auc: 0.9270\n",
            "node dim: 10,\tnum_walks: 40,\twalk_length: 40,\tp: 0.50,\tq: 0.50\tbuilding a node2vec model...\tnumber of walks: 333120\taverage walk length: 39.8776\ttraining time: 416.1958\n",
            "auc: 0.9240\n"
          ],
          "name": "stdout"
        }
      ]
    },
    {
      "cell_type": "code",
      "metadata": {
        "colab": {
          "base_uri": "https://localhost:8080/",
          "height": 297
        },
        "id": "2CowrCoWMx-2",
        "outputId": "4d23d04f-9bad-4e5d-d116-f6af67d93402"
      },
      "source": [
        "plt.figure(figsize=(6, 4))\n",
        "a = np.array([[node2vec_auc_scores[(node_dim, num_walks, walk_length, p, q)] for walk_length in [10, 20, 40]] for num_walks in [5, 10, 20, 40]])\n",
        "plt.imshow(a, cmap=\"hot\", interpolation=\"nearest\")\n",
        "plt.colorbar()\n",
        "plt.xticks(ticks=[0,1,2], labels=[10, 20, 40])\n",
        "plt.xlabel(\"walk_length\")\n",
        "plt.yticks(ticks=[0,1,2,3], labels=[5, 10, 20, 40])\n",
        "plt.ylabel(\"num_walks\")"
      ],
      "execution_count": 34,
      "outputs": [
        {
          "output_type": "execute_result",
          "data": {
            "text/plain": [
              "Text(0, 0.5, 'num_walks')"
            ]
          },
          "metadata": {
            "tags": []
          },
          "execution_count": 34
        },
        {
          "output_type": "display_data",
          "data": {
            "image/png": "[encoded data removed]",
            "text/plain": [
              "<Figure size 432x288 with 2 Axes>"
            ]
          },
          "metadata": {
            "tags": [],
            "needs_background": "light"
          }
        }
      ]
    },
    {
      "cell_type": "markdown",
      "metadata": {
        "id": "EL2sLZS1TOvn"
      },
      "source": [
        "## node_dim"
      ]
    },
    {
      "cell_type": "code",
      "metadata": {
        "id": "o7IXJ-WbTU2w"
      },
      "source": [
        "np.random.seed(0)\n",
        "\n",
        "node_dim = 10\n",
        "num_walks = 10\n",
        "walk_length = 10\n",
        "p = 0.5\n",
        "q = 0.5\n",
        "\n",
        "node2vec_auc_scores = dict()"
      ],
      "execution_count": 35,
      "outputs": []
    },
    {
      "cell_type": "code",
      "metadata": {
        "colab": {
          "base_uri": "https://localhost:8080/"
        },
        "id": "1KjjNb06TU8r",
        "outputId": "ffbb81a4-39ff-4edc-be3a-2f65fbef867f"
      },
      "source": [
        "node_dim_list = [5, 10, 20, 30, 40]\n",
        "\n",
        "for node_dim_i in node_dim_list:\n",
        "    print(\"node dim: %d,\\tnum_walks: %d,\\twalk_length: %d,\\tp: %.2f,\\tq: %.2f\" % (\n",
        "        node_dim_i, num_walks, walk_length, p, q), end=\"\\t\")\n",
        "    alias_nodes, alias_edges = preprocess_transition_probs(graph, p=p, q=q)\n",
        "    model = build_node2vec(graph, alias_nodes, alias_edges, \n",
        "                          node_dim=node_dim_i, num_walks=num_walks, walk_length=walk_length)\n",
        "    node2vec_auc_scores[(node_dim_i, num_walks, walk_length, p, q)] = get_auc_score(model, valid_edges, false_edges)\n",
        "    print(\"auc: %.4f\" % (node2vec_auc_scores[(node_dim_i, num_walks, walk_length, p, q)]))"
      ],
      "execution_count": 36,
      "outputs": [
        {
          "output_type": "stream",
          "text": [
            "node dim: 5,\tnum_walks: 10,\twalk_length: 10,\tp: 0.50,\tq: 0.50\tbuilding a node2vec model...\tnumber of walks: 83280\taverage walk length: 9.9918\ttraining time: 30.4595\n",
            "auc: 0.9161\n",
            "node dim: 10,\tnum_walks: 10,\twalk_length: 10,\tp: 0.50,\tq: 0.50\tbuilding a node2vec model...\tnumber of walks: 83280\taverage walk length: 9.9918\ttraining time: 32.6510\n",
            "auc: 0.9271\n",
            "node dim: 20,\tnum_walks: 10,\twalk_length: 10,\tp: 0.50,\tq: 0.50\tbuilding a node2vec model...\tnumber of walks: 83280\taverage walk length: 9.9918\ttraining time: 36.8276\n",
            "auc: 0.9077\n",
            "node dim: 30,\tnum_walks: 10,\twalk_length: 10,\tp: 0.50,\tq: 0.50\tbuilding a node2vec model...\tnumber of walks: 83280\taverage walk length: 9.9918\ttraining time: 42.0022\n",
            "auc: 0.8826\n",
            "node dim: 40,\tnum_walks: 10,\twalk_length: 10,\tp: 0.50,\tq: 0.50\tbuilding a node2vec model...\tnumber of walks: 83280\taverage walk length: 9.9918\ttraining time: 34.7551\n",
            "auc: 0.8547\n"
          ],
          "name": "stdout"
        }
      ]
    },
    {
      "cell_type": "code",
      "metadata": {
        "colab": {
          "base_uri": "https://localhost:8080/",
          "height": 265
        },
        "id": "f-cq4OtkUuOq",
        "outputId": "451a0d07-afc9-490d-be62-bcf4206b2d21"
      },
      "source": [
        "a = np.array([[node2vec_auc_scores[(node_dim, num_walks, walk_length, p, q)] for node_dim in [5, 10, 20, 30, 40]]])\n",
        "plt.imshow(a, cmap=\"hot\", interpolation=\"nearest\")\n",
        "plt.colorbar()\n",
        "plt.xticks(ticks=[0,1,2, 3, 4], labels=[5, 10, 20, 30, 40])\n",
        "plt.xlabel(\"node_dim\")\n",
        "plt.yticks(ticks=[0], labels=[0])\n",
        "plt.ylabel(\" \")"
      ],
      "execution_count": 37,
      "outputs": [
        {
          "output_type": "execute_result",
          "data": {
            "text/plain": [
              "Text(0, 0.5, ' ')"
            ]
          },
          "metadata": {
            "tags": []
          },
          "execution_count": 37
        },
        {
          "output_type": "display_data",
          "data": {
            "image/png": "[encoded data removed]",
            "text/plain": [
              "<Figure size 432x288 with 2 Axes>"
            ]
          },
          "metadata": {
            "tags": [],
            "needs_background": "light"
          }
        }
      ]
    },
    {
      "cell_type": "markdown",
      "metadata": {
        "id": "9v24G7Kyyn5R"
      },
      "source": [
        "Example of using Heatmap to viualize the result."
      ]
    },
    {
      "cell_type": "code",
      "metadata": {
        "colab": {
          "base_uri": "https://localhost:8080/"
        },
        "id": "Fh8CwIE0-l_l",
        "outputId": "d3a993c6-645c-44fc-a40a-459bbb3600ee"
      },
      "source": [
        "deepwalk_auc_scores"
      ],
      "execution_count": 20,
      "outputs": [
        {
          "output_type": "execute_result",
          "data": {
            "text/plain": [
              "{(10, 10, 10): 0.9274812167386944}"
            ]
          },
          "metadata": {
            "tags": []
          },
          "execution_count": 20
        }
      ]
    },
    {
      "cell_type": "code",
      "metadata": {
        "colab": {
          "base_uri": "https://localhost:8080/",
          "height": 569
        },
        "id": "y3T4DqUNyn5R",
        "outputId": "300619de-a710-4810-df11-eb393b4d5af3"
      },
      "source": [
        "plt.figure(figsize=(6, 4))\n",
        "node_dim = 20\n",
        "# you should have an auc score dictionary here.\n",
        "a = np.array([[deepwalk_auc_scores[(node_dim, num_walks, walk_length)] for walk_length in [10, 20, 40]] for num_walks in [5, 10, 20, 40]])\n",
        "plt.imshow(a, cmap=\"hot\", interpolation=\"nearest\")\n",
        "plt.colorbar()\n",
        "plt.xticks(ticks=[0,1,2], labels=[10, 20, 40])\n",
        "plt.xlabel(\"walk_length\")\n",
        "plt.yticks(ticks=[0,1,2,3], labels=[5, 10, 20, 40])\n",
        "plt.ylabel(\"num_walks\")"
      ],
      "execution_count": 18,
      "outputs": [
        {
          "output_type": "error",
          "ename": "KeyError",
          "evalue": "ignored",
          "traceback": [
            "\u001b[0;31m---------------------------------------------------------------------------\u001b[0m",
            "\u001b[0;31mKeyError\u001b[0m                                  Traceback (most recent call last)",
            "\u001b[0;32m<ipython-input-18-1345a951e65a>\u001b[0m in \u001b[0;36m<module>\u001b[0;34m()\u001b[0m\n\u001b[1;32m      2\u001b[0m \u001b[0mnode_dim\u001b[0m \u001b[0;34m=\u001b[0m \u001b[0;36m20\u001b[0m\u001b[0;34m\u001b[0m\u001b[0;34m\u001b[0m\u001b[0m\n\u001b[1;32m      3\u001b[0m \u001b[0;31m# you should have an auc score dictionary here.\u001b[0m\u001b[0;34m\u001b[0m\u001b[0;34m\u001b[0m\u001b[0;34m\u001b[0m\u001b[0m\n\u001b[0;32m----> 4\u001b[0;31m \u001b[0ma\u001b[0m \u001b[0;34m=\u001b[0m \u001b[0mnp\u001b[0m\u001b[0;34m.\u001b[0m\u001b[0marray\u001b[0m\u001b[0;34m(\u001b[0m\u001b[0;34m[\u001b[0m\u001b[0;34m[\u001b[0m\u001b[0mdeepwalk_auc_scores\u001b[0m\u001b[0;34m[\u001b[0m\u001b[0;34m(\u001b[0m\u001b[0mnode_dim\u001b[0m\u001b[0;34m,\u001b[0m \u001b[0mnum_walks\u001b[0m\u001b[0;34m,\u001b[0m \u001b[0mwalk_length\u001b[0m\u001b[0;34m)\u001b[0m\u001b[0;34m]\u001b[0m \u001b[0;32mfor\u001b[0m \u001b[0mwalk_length\u001b[0m \u001b[0;32min\u001b[0m \u001b[0;34m[\u001b[0m\u001b[0;36m10\u001b[0m\u001b[0;34m,\u001b[0m \u001b[0;36m20\u001b[0m\u001b[0;34m,\u001b[0m \u001b[0;36m40\u001b[0m\u001b[0;34m]\u001b[0m\u001b[0;34m]\u001b[0m \u001b[0;32mfor\u001b[0m \u001b[0mnum_walks\u001b[0m \u001b[0;32min\u001b[0m \u001b[0;34m[\u001b[0m\u001b[0;36m5\u001b[0m\u001b[0;34m,\u001b[0m \u001b[0;36m10\u001b[0m\u001b[0;34m,\u001b[0m \u001b[0;36m20\u001b[0m\u001b[0;34m,\u001b[0m \u001b[0;36m40\u001b[0m\u001b[0;34m]\u001b[0m\u001b[0;34m]\u001b[0m\u001b[0;34m)\u001b[0m\u001b[0;34m\u001b[0m\u001b[0;34m\u001b[0m\u001b[0m\n\u001b[0m\u001b[1;32m      5\u001b[0m \u001b[0mplt\u001b[0m\u001b[0;34m.\u001b[0m\u001b[0mimshow\u001b[0m\u001b[0;34m(\u001b[0m\u001b[0ma\u001b[0m\u001b[0;34m,\u001b[0m \u001b[0mcmap\u001b[0m\u001b[0;34m=\u001b[0m\u001b[0;34m\"hot\"\u001b[0m\u001b[0;34m,\u001b[0m \u001b[0minterpolation\u001b[0m\u001b[0;34m=\u001b[0m\u001b[0;34m\"nearest\"\u001b[0m\u001b[0;34m)\u001b[0m\u001b[0;34m\u001b[0m\u001b[0;34m\u001b[0m\u001b[0m\n\u001b[1;32m      6\u001b[0m \u001b[0mplt\u001b[0m\u001b[0;34m.\u001b[0m\u001b[0mcolorbar\u001b[0m\u001b[0;34m(\u001b[0m\u001b[0;34m)\u001b[0m\u001b[0;34m\u001b[0m\u001b[0;34m\u001b[0m\u001b[0m\n",
            "\u001b[0;32m<ipython-input-18-1345a951e65a>\u001b[0m in \u001b[0;36m<listcomp>\u001b[0;34m(.0)\u001b[0m\n\u001b[1;32m      2\u001b[0m \u001b[0mnode_dim\u001b[0m \u001b[0;34m=\u001b[0m \u001b[0;36m20\u001b[0m\u001b[0;34m\u001b[0m\u001b[0;34m\u001b[0m\u001b[0m\n\u001b[1;32m      3\u001b[0m \u001b[0;31m# you should have an auc score dictionary here.\u001b[0m\u001b[0;34m\u001b[0m\u001b[0;34m\u001b[0m\u001b[0;34m\u001b[0m\u001b[0m\n\u001b[0;32m----> 4\u001b[0;31m \u001b[0ma\u001b[0m \u001b[0;34m=\u001b[0m \u001b[0mnp\u001b[0m\u001b[0;34m.\u001b[0m\u001b[0marray\u001b[0m\u001b[0;34m(\u001b[0m\u001b[0;34m[\u001b[0m\u001b[0;34m[\u001b[0m\u001b[0mdeepwalk_auc_scores\u001b[0m\u001b[0;34m[\u001b[0m\u001b[0;34m(\u001b[0m\u001b[0mnode_dim\u001b[0m\u001b[0;34m,\u001b[0m \u001b[0mnum_walks\u001b[0m\u001b[0;34m,\u001b[0m \u001b[0mwalk_length\u001b[0m\u001b[0;34m)\u001b[0m\u001b[0;34m]\u001b[0m \u001b[0;32mfor\u001b[0m \u001b[0mwalk_length\u001b[0m \u001b[0;32min\u001b[0m \u001b[0;34m[\u001b[0m\u001b[0;36m10\u001b[0m\u001b[0;34m,\u001b[0m \u001b[0;36m20\u001b[0m\u001b[0;34m,\u001b[0m \u001b[0;36m40\u001b[0m\u001b[0;34m]\u001b[0m\u001b[0;34m]\u001b[0m \u001b[0;32mfor\u001b[0m \u001b[0mnum_walks\u001b[0m \u001b[0;32min\u001b[0m \u001b[0;34m[\u001b[0m\u001b[0;36m5\u001b[0m\u001b[0;34m,\u001b[0m \u001b[0;36m10\u001b[0m\u001b[0;34m,\u001b[0m \u001b[0;36m20\u001b[0m\u001b[0;34m,\u001b[0m \u001b[0;36m40\u001b[0m\u001b[0;34m]\u001b[0m\u001b[0;34m]\u001b[0m\u001b[0;34m)\u001b[0m\u001b[0;34m\u001b[0m\u001b[0;34m\u001b[0m\u001b[0m\n\u001b[0m\u001b[1;32m      5\u001b[0m \u001b[0mplt\u001b[0m\u001b[0;34m.\u001b[0m\u001b[0mimshow\u001b[0m\u001b[0;34m(\u001b[0m\u001b[0ma\u001b[0m\u001b[0;34m,\u001b[0m \u001b[0mcmap\u001b[0m\u001b[0;34m=\u001b[0m\u001b[0;34m\"hot\"\u001b[0m\u001b[0;34m,\u001b[0m \u001b[0minterpolation\u001b[0m\u001b[0;34m=\u001b[0m\u001b[0;34m\"nearest\"\u001b[0m\u001b[0;34m)\u001b[0m\u001b[0;34m\u001b[0m\u001b[0;34m\u001b[0m\u001b[0m\n\u001b[1;32m      6\u001b[0m \u001b[0mplt\u001b[0m\u001b[0;34m.\u001b[0m\u001b[0mcolorbar\u001b[0m\u001b[0;34m(\u001b[0m\u001b[0;34m)\u001b[0m\u001b[0;34m\u001b[0m\u001b[0;34m\u001b[0m\u001b[0m\n",
            "\u001b[0;32m<ipython-input-18-1345a951e65a>\u001b[0m in \u001b[0;36m<listcomp>\u001b[0;34m(.0)\u001b[0m\n\u001b[1;32m      2\u001b[0m \u001b[0mnode_dim\u001b[0m \u001b[0;34m=\u001b[0m \u001b[0;36m20\u001b[0m\u001b[0;34m\u001b[0m\u001b[0;34m\u001b[0m\u001b[0m\n\u001b[1;32m      3\u001b[0m \u001b[0;31m# you should have an auc score dictionary here.\u001b[0m\u001b[0;34m\u001b[0m\u001b[0;34m\u001b[0m\u001b[0;34m\u001b[0m\u001b[0m\n\u001b[0;32m----> 4\u001b[0;31m \u001b[0ma\u001b[0m \u001b[0;34m=\u001b[0m \u001b[0mnp\u001b[0m\u001b[0;34m.\u001b[0m\u001b[0marray\u001b[0m\u001b[0;34m(\u001b[0m\u001b[0;34m[\u001b[0m\u001b[0;34m[\u001b[0m\u001b[0mdeepwalk_auc_scores\u001b[0m\u001b[0;34m[\u001b[0m\u001b[0;34m(\u001b[0m\u001b[0mnode_dim\u001b[0m\u001b[0;34m,\u001b[0m \u001b[0mnum_walks\u001b[0m\u001b[0;34m,\u001b[0m \u001b[0mwalk_length\u001b[0m\u001b[0;34m)\u001b[0m\u001b[0;34m]\u001b[0m \u001b[0;32mfor\u001b[0m \u001b[0mwalk_length\u001b[0m \u001b[0;32min\u001b[0m \u001b[0;34m[\u001b[0m\u001b[0;36m10\u001b[0m\u001b[0;34m,\u001b[0m \u001b[0;36m20\u001b[0m\u001b[0;34m,\u001b[0m \u001b[0;36m40\u001b[0m\u001b[0;34m]\u001b[0m\u001b[0;34m]\u001b[0m \u001b[0;32mfor\u001b[0m \u001b[0mnum_walks\u001b[0m \u001b[0;32min\u001b[0m \u001b[0;34m[\u001b[0m\u001b[0;36m5\u001b[0m\u001b[0;34m,\u001b[0m \u001b[0;36m10\u001b[0m\u001b[0;34m,\u001b[0m \u001b[0;36m20\u001b[0m\u001b[0;34m,\u001b[0m \u001b[0;36m40\u001b[0m\u001b[0;34m]\u001b[0m\u001b[0;34m]\u001b[0m\u001b[0;34m)\u001b[0m\u001b[0;34m\u001b[0m\u001b[0;34m\u001b[0m\u001b[0m\n\u001b[0m\u001b[1;32m      5\u001b[0m \u001b[0mplt\u001b[0m\u001b[0;34m.\u001b[0m\u001b[0mimshow\u001b[0m\u001b[0;34m(\u001b[0m\u001b[0ma\u001b[0m\u001b[0;34m,\u001b[0m \u001b[0mcmap\u001b[0m\u001b[0;34m=\u001b[0m\u001b[0;34m\"hot\"\u001b[0m\u001b[0;34m,\u001b[0m \u001b[0minterpolation\u001b[0m\u001b[0;34m=\u001b[0m\u001b[0;34m\"nearest\"\u001b[0m\u001b[0;34m)\u001b[0m\u001b[0;34m\u001b[0m\u001b[0;34m\u001b[0m\u001b[0m\n\u001b[1;32m      6\u001b[0m \u001b[0mplt\u001b[0m\u001b[0;34m.\u001b[0m\u001b[0mcolorbar\u001b[0m\u001b[0;34m(\u001b[0m\u001b[0;34m)\u001b[0m\u001b[0;34m\u001b[0m\u001b[0;34m\u001b[0m\u001b[0m\n",
            "\u001b[0;31mKeyError\u001b[0m: (20, 5, 10)"
          ]
        },
        {
          "output_type": "display_data",
          "data": {
            "text/plain": [
              "<Figure size 432x288 with 0 Axes>"
            ]
          },
          "metadata": {
            "tags": []
          }
        }
      ]
    },
    {
      "cell_type": "markdown",
      "metadata": {
        "id": "95dBP17Fyn5R"
      },
      "source": [
        "You can build model with the best parameters you find and save the prediction here."
      ]
    },
    {
      "cell_type": "code",
      "metadata": {
        "id": "7OgsJNsZyn5R",
        "outputId": "fcade963-fc4a-45f1-be08-b4b827d4b1ab"
      },
      "source": [
        "model = build_deepwalk(graph, alias_nodes, node_dim=10, num_walks=10, walk_length=10)\n",
        "scores = [get_cosine_sim(model, src, dst) for src, dst in test_edges]\n",
        "write_pred(\"data/pred.csv\", test_edges, scores)"
      ],
      "execution_count": null,
      "outputs": [
        {
          "output_type": "stream",
          "text": [
            "building a DeepWalk model...\tnumber of walks: 83280\taverage walk length: 9.8980\ttrainig time: 37.0635\n"
          ],
          "name": "stdout"
        }
      ]
    },
    {
      "cell_type": "markdown",
      "metadata": {
        "id": "GLyJrxcKyn5R"
      },
      "source": [
        "With the help of p and q, the node2vec model can fit training data better. And you can have a try if you set p=q=1, the two models will return the same results."
      ]
    }
  ]
}