{
  "nbformat": 4,
  "nbformat_minor": 0,
  "metadata": {
    "kernelspec": {
      "name": "python3",
      "display_name": "Python 3"
    },
    "colab": {
      "name": "Project 2 Social Network Mining Colab.ipynb",
      "provenance": [],
      "collapsed_sections": [],
      "toc_visible": true
    },
    "language_info": {
      "name": "python"
    }
  },
  "cells": [
    {
      "cell_type": "markdown",
      "metadata": {
        "id": "8K5HhpISytlA"
      },
      "source": [
        "# Goal: 93.10%"
      ]
    },
    {
      "cell_type": "markdown",
      "metadata": {
        "id": "S_vawuMiESXm"
      },
      "source": [
        "# Data Loader"
      ]
    },
    {
      "cell_type": "code",
      "metadata": {
        "id": "QFyk3g1R1Llm"
      },
      "source": [
        "!wget -q https://hkustconnect-my.sharepoint.com/:u:/g/personal/nnanda_connect_ust_hk/EQodPFqgjvtLp-ux1_vmqf4Bz5Q1pn3Gk1VT0CNpzN1EwA?download=1 -O \"Project 2 - data.zip\"\n",
        "!unzip -q \"Project 2 - data.zip\""
      ],
      "execution_count": 1,
      "outputs": []
    },
    {
      "cell_type": "markdown",
      "metadata": {
        "id": "fzKZjVWoEVf0"
      },
      "source": [
        "# Import Required Libraries"
      ]
    },
    {
      "cell_type": "code",
      "metadata": {
        "colab": {
          "base_uri": "https://localhost:8080/"
        },
        "id": "_ORLY5vT55sa",
        "outputId": "1ad22431-dc89-4813-b34a-b2557dac5f88"
      },
      "source": [
        "!pip install --upgrade gensim"
      ],
      "execution_count": 2,
      "outputs": [
        {
          "output_type": "stream",
          "text": [
            "Collecting gensim\n",
            "\u001b[?25l  Downloading https://files.pythonhosted.org/packages/44/52/f1417772965652d4ca6f901515debcd9d6c5430969e8c02ee7737e6de61c/gensim-4.0.1-cp37-cp37m-manylinux1_x86_64.whl (23.9MB)\n",
            "\u001b[K     |████████████████████████████████| 23.9MB 47.5MB/s \n",
            "\u001b[?25hRequirement already satisfied, skipping upgrade: scipy>=0.18.1 in /usr/local/lib/python3.7/dist-packages (from gensim) (1.4.1)\n",
            "Requirement already satisfied, skipping upgrade: numpy>=1.11.3 in /usr/local/lib/python3.7/dist-packages (from gensim) (1.19.5)\n",
            "Requirement already satisfied, skipping upgrade: smart-open>=1.8.1 in /usr/local/lib/python3.7/dist-packages (from gensim) (5.0.0)\n",
            "Installing collected packages: gensim\n",
            "  Found existing installation: gensim 3.6.0\n",
            "    Uninstalling gensim-3.6.0:\n",
            "      Successfully uninstalled gensim-3.6.0\n",
            "Successfully installed gensim-4.0.1\n"
          ],
          "name": "stdout"
        }
      ]
    },
    {
      "cell_type": "code",
      "metadata": {
        "colab": {
          "base_uri": "https://localhost:8080/"
        },
        "id": "odYmJidmyn47",
        "outputId": "3fd16e3a-1d00-4e3e-ee4e-2dd2dda1aeb8"
      },
      "source": [
        "import networkx as nx\n",
        "import numpy as np\n",
        "import os\n",
        "import time\n",
        "import pandas as pd\n",
        "import matplotlib.pyplot as plt\n",
        "from itertools import chain\n",
        "from collections import defaultdict\n",
        "from gensim.models import Word2Vec\n",
        "from sklearn.model_selection import KFold\n",
        "from sklearn.metrics import roc_auc_score"
      ],
      "execution_count": 3,
      "outputs": [
        {
          "output_type": "stream",
          "text": [
            "/usr/local/lib/python3.7/dist-packages/gensim/similarities/__init__.py:15: UserWarning: The gensim.similarities.levenshtein submodule is disabled, because the optional Levenshtein package <https://pypi.org/project/python-Levenshtein/> is unavailable. Install Levenhstein (e.g. `pip install python-Levenshtein`) to suppress this warning.\n",
            "  warnings.warn(msg)\n"
          ],
          "name": "stderr"
        }
      ]
    },
    {
      "cell_type": "markdown",
      "metadata": {
        "id": "m1CBfN5Ryn5D"
      },
      "source": [
        "# Pipeline"
      ]
    },
    {
      "cell_type": "markdown",
      "metadata": {
        "id": "6thRW2g6yn5E"
      },
      "source": [
        "### Data Loader"
      ]
    },
    {
      "cell_type": "markdown",
      "metadata": {
        "id": "q3x5R9GXyn5E"
      },
      "source": [
        "We need to load networks into memory. Usually networks are organized as pairs of nodes. And sometimes different edges have different weights. Hence, we use networkx.DiGraph to store such structure information and attributes."
      ]
    },
    {
      "cell_type": "code",
      "metadata": {
        "id": "R8hQhza4yn5E"
      },
      "source": [
        "def load_data(file_name):\n",
        "    \"\"\"\n",
        "    read edges from an edge file\n",
        "    \"\"\"\n",
        "    edges = list()\n",
        "    df = pd.read_csv(file_name)\n",
        "    for idx, row in df.iterrows():\n",
        "        user_id, friends = row[\"user_id\"], eval(row[\"friends\"])\n",
        "        for friend in friends:\n",
        "            # add each friend relation as an edge\n",
        "            edges.append((user_id, friend))\n",
        "    edges = sorted(edges)\n",
        "    \n",
        "    return edges\n",
        "\n",
        "def load_test_data(file_name):\n",
        "    \"\"\"\n",
        "    read edges from an edge file\n",
        "    \"\"\"\n",
        "    edges = list()\n",
        "    scores = list()\n",
        "    df = pd.read_csv(file_name)\n",
        "    for idx, row in df.iterrows():\n",
        "        edges.append((row[\"src\"], row[\"dst\"]))\n",
        "    edges = sorted(edges)\n",
        "    \n",
        "    return edges\n",
        "\n",
        "def generate_false_edges(true_edges, num_false_edges=5):\n",
        "    \"\"\"\n",
        "    generate false edges given true edges\n",
        "    \"\"\"\n",
        "    nodes = list(set(chain.from_iterable(true_edges)))\n",
        "    N = len(nodes)\n",
        "    true_edges = set(true_edges)\n",
        "    print(N, len(true_edges))\n",
        "    false_edges = set()\n",
        "    \n",
        "    while len(false_edges) < num_false_edges:\n",
        "        # randomly sample two different nodes and check whether the pair exisit or not\n",
        "        src, dst = nodes[int(np.random.rand() * N)], nodes[int(np.random.rand() * N)]\n",
        "        if src != dst and (src, dst) not in true_edges and (src, dst) not in false_edges:\n",
        "            false_edges.add((src, dst))\n",
        "    false_edges = sorted(false_edges)\n",
        "    \n",
        "    return false_edges\n",
        "\n",
        "def construct_graph_from_edges(edges):\n",
        "    \"\"\"\n",
        "    generate a directed graph object given true edges\n",
        "    DiGraph documentation: https://networkx.github.io/documentation/stable/reference/classes/digraph.html\n",
        "    \"\"\"\n",
        "    # convert a list of edges {(u, v)} to a list of edges with weights {(u, v, w)}\n",
        "    edge_weight = defaultdict(float)\n",
        "    for e in edges:\n",
        "        edge_weight[e] += 1.0\n",
        "    weighed_edge_list = list()\n",
        "    for e in sorted(edge_weight.keys()):\n",
        "        weighed_edge_list.append((e[0], e[1], edge_weight[e]))\n",
        "        \n",
        "    graph = nx.DiGraph()\n",
        "    graph.add_weighted_edges_from(weighed_edge_list)\n",
        "    \n",
        "    print(\"number of nodes:\", graph.number_of_nodes())\n",
        "    print(\"number of edges:\", graph.number_of_edges())\n",
        "    \n",
        "    return graph"
      ],
      "execution_count": 4,
      "outputs": []
    },
    {
      "cell_type": "markdown",
      "metadata": {
        "id": "dlAp0RjOyn5F"
      },
      "source": [
        "### Random Walk Generator"
      ]
    },
    {
      "cell_type": "markdown",
      "metadata": {
        "id": "RGZjlmpsyn5G"
      },
      "source": [
        "Random walk generators or random walkers yield random walks that contain both local and higher-order neighborhood information. However, naive non-uniform sampling is very slow, which requires O(n) time complexity. Here alias sampling can reduce the time complexity to O(1) with O(n) space. If you are interested, please see the following blog."
      ]
    },
    {
      "cell_type": "code",
      "metadata": {
        "id": "TRddMHxYyn5G"
      },
      "source": [
        "def alias_setup(probs):\n",
        "    \"\"\"\n",
        "    compute utility lists for non-uniform sampling from discrete distributions.\n",
        "    details: https://lips.cs.princeton.edu/the-alias-method-efficient-sampling-with-many-discrete-outcomes/\n",
        "    \"\"\"\n",
        "    K = len(probs)\n",
        "    q = np.zeros(K)\n",
        "    J = np.zeros(K, dtype=np.int)\n",
        "\n",
        "    smaller = list()\n",
        "    larger = list()\n",
        "    for kk, prob in enumerate(probs):\n",
        "        q[kk] = K * prob\n",
        "        if q[kk] < 1.0:\n",
        "            smaller.append(kk)\n",
        "        else:\n",
        "            larger.append(kk)\n",
        "\n",
        "    while len(smaller) > 0 and len(larger) > 0:\n",
        "        small = smaller.pop()\n",
        "        large = larger.pop()\n",
        "\n",
        "        J[small] = large\n",
        "        q[large] = q[large] + q[small] - 1.0\n",
        "        if q[large] < 1.0:\n",
        "            smaller.append(large)\n",
        "        else:\n",
        "            larger.append(large)\n",
        "\n",
        "    return J, q\n",
        "\n",
        "def get_alias_node(graph, node):\n",
        "    \"\"\"\n",
        "    get the alias node setup lists for a given node.\n",
        "    \"\"\"\n",
        "    # get the unnormalized probabilities with the first-order information\n",
        "    unnormalized_probs = list()\n",
        "    for nbr in graph.neighbors(node):\n",
        "        unnormalized_probs.append(graph[node][nbr][\"weight\"])\n",
        "    unnormalized_probs = np.array(unnormalized_probs)\n",
        "    if len(unnormalized_probs) > 0:\n",
        "        normalized_probs = unnormalized_probs / unnormalized_probs.sum()\n",
        "    else:\n",
        "        normalized_probs = unnormalized_probs\n",
        "        \n",
        "    return alias_setup(normalized_probs)\n",
        "    \n",
        "def get_alias_edge(graph, src, dst, p=1, q=1):\n",
        "    \"\"\"\n",
        "    get the alias edge setup lists for a given edge.\n",
        "    \"\"\"\n",
        "    # get the unnormalized probabilities with the second-order information\n",
        "    unnormalized_probs = list()\n",
        "    for dst_nbr in graph.neighbors(dst):\n",
        "        if dst_nbr == src: # distance is 0\n",
        "            unnormalized_probs.append(graph[dst][dst_nbr][\"weight\"]/p)\n",
        "        elif graph.has_edge(dst_nbr, src): # distance is 1\n",
        "            unnormalized_probs.append(graph[dst][dst_nbr][\"weight\"])\n",
        "        else: # distance is 2\n",
        "            unnormalized_probs.append(graph[dst][dst_nbr][\"weight\"]/q)\n",
        "    unnormalized_probs = np.array(unnormalized_probs)\n",
        "    if len(unnormalized_probs) > 0:\n",
        "        normalized_probs = unnormalized_probs / unnormalized_probs.sum()\n",
        "    else:\n",
        "        normalized_probs = unnormalized_probs\n",
        "\n",
        "    return alias_setup(normalized_probs)\n",
        "\n",
        "def preprocess_transition_probs(graph, p=1, q=1):\n",
        "    \"\"\"\n",
        "    preprocess transition probabilities for guiding the random walks.\n",
        "    \"\"\"\n",
        "    alias_nodes = dict()\n",
        "    for node in graph.nodes():\n",
        "        alias_nodes[node] = get_alias_node(graph, node)\n",
        "\n",
        "    alias_edges = dict()\n",
        "    for edge in graph.edges():\n",
        "        alias_edges[edge] = get_alias_edge(graph, edge[0], edge[1], p=p, q=q)\n",
        "\n",
        "    return alias_nodes, alias_edges"
      ],
      "execution_count": 5,
      "outputs": []
    },
    {
      "cell_type": "markdown",
      "metadata": {
        "id": "YI4BF4Wbyn5H"
      },
      "source": [
        "The difference between DeepWalk and node2vec is how to generate random walks. The former only consider the first-order information while the latter also involves the second-order information."
      ]
    },
    {
      "cell_type": "code",
      "metadata": {
        "id": "WF_oXP1Qyn5I"
      },
      "source": [
        "def alias_draw(J, q):\n",
        "    \"\"\"\n",
        "    draw sample from a non-uniform discrete distribution using alias sampling.\n",
        "    \"\"\"\n",
        "    K = len(J)\n",
        "\n",
        "    kk = int(np.floor(np.random.rand() * K))\n",
        "    if np.random.rand() < q[kk]:\n",
        "        return kk\n",
        "    else:\n",
        "        return J[kk]\n",
        "\n",
        "\n",
        "# helper function to generate the long random walk as desired\n",
        "def fallback(walk, fetch_last_num=1):\n",
        "    if len(walk) > fetch_last_num:\n",
        "        walk.pop()\n",
        "        fetched = []\n",
        "        for i in range(fetch_last_num):\n",
        "            fetched.append(walk[-1-i])\n",
        "        return walk, fetched\n",
        "    else:\n",
        "        return [], [None for _ in range(fetch_last_num)]\n",
        "\n",
        "def generate_first_order_random_walk(graph, alias_nodes, \n",
        "                                     walk_length=10, start_node=None, verbose=False, max_trails=10):\n",
        "    \"\"\"\n",
        "    simulate a random walk starting from start node and considering the first order information.\n",
        "    max_trials: set the max trials to be one for standard random walk. Larger max_trails will make the generated biased.\n",
        "    \"\"\"\n",
        "    if start_node == None:\n",
        "        start_node = np.random.choice(graph.nodes())\n",
        "    walk = [start_node]\n",
        "    cur = start_node\n",
        "    num_tried = 0\n",
        "    \n",
        "    ########## begin ##########\n",
        "    while len(walk) < walk_length:\n",
        "        cur_nbrs = list(graph.neighbors(cur))\n",
        "        if len(cur_nbrs) > 0: # if we can sample next nodes\n",
        "            # sample the next node based on alias_nodes\n",
        "            cur = cur_nbrs[alias_draw(*alias_nodes[cur])]\n",
        "            walk.append(cur)\n",
        "        else: # if we can't do that\n",
        "            num_tried += 1\n",
        "            if num_tried >= max_trails:\n",
        "                break\n",
        "\n",
        "            walk, fetched = fallback(walk, fetch_last_num=1)\n",
        "            cur = fetched[0]\n",
        "            if len(walk) == 0: # if falls back to the empty walk\n",
        "                start_node = np.random.choice(graph.nodes())\n",
        "                walk = [start_node]\n",
        "                cur = start_node\n",
        "    ########## end ##########\n",
        "\n",
        "    if verbose: \n",
        "        print(f'walk of lenght {len(walk)} generated with {num_tried} trails')\n",
        "    return walk\n",
        "    \n",
        "def generate_second_order_random_walk(graph, alias_nodes, alias_edges, \n",
        "                                      walk_length=10, start_node=None, verbose=False, max_trails=10):\n",
        "    \"\"\"\n",
        "    simulate a random walk starting from start node and considering the second order information.\n",
        "    \"\"\"\n",
        "    if start_node == None:\n",
        "        start_node = np.random.choice(graph.nodes())\n",
        "    walk = [start_node]\n",
        "    \n",
        "    prev = None\n",
        "    cur = start_node\n",
        "    num_tried = 0\n",
        "\n",
        "    ########## begin ##########\n",
        "    while len(walk) < walk_length:\n",
        "        cur_nbrs = list(graph.neighbors(cur))\n",
        "        if len(cur_nbrs) > 0:\n",
        "            if prev is None:\n",
        "                # sample the next node based on alias_nodes\n",
        "                prev, cur = cur, cur_nbrs[alias_draw(*alias_nodes[cur])]\n",
        "            else:\n",
        "                # sample the next node based on alias_edges\n",
        "                prev, cur = cur, cur_nbrs[alias_draw(*alias_edges[(prev, cur)])]\n",
        "            walk.append(cur)\n",
        "        else:\n",
        "            num_tried += 1\n",
        "            if num_tried >= max_trails:\n",
        "                break\n",
        "            walk, (cur, prev) = fallback(walk, fetch_last_num=2)\n",
        "            if len(walk) == 0:\n",
        "                start_node = np.random.choice(graph.nodes())\n",
        "                walk = [start_node]\n",
        "                cur = start_node\n",
        "                prev = None\n",
        "    ########## end ##########\n",
        "    if verbose: \n",
        "        print(f'walk of lenght {len(walk)} generated with {num_tried} trails')\n",
        "    return walk"
      ],
      "execution_count": 6,
      "outputs": []
    },
    {
      "cell_type": "markdown",
      "metadata": {
        "id": "yiII-wJQyn5J"
      },
      "source": [
        "### Network Embedding Algorithms"
      ]
    },
    {
      "cell_type": "code",
      "metadata": {
        "id": "lWOFzEawyn5J"
      },
      "source": [
        "def build_deepwalk(graph, alias_nodes, node_dim=10, num_walks=10, walk_length=10):\n",
        "    \"\"\"\n",
        "    build a deepwalk model\n",
        "    \"\"\"\n",
        "    print(\"building a DeepWalk model...\", end=\"\\t\")\n",
        "    st = time.time()\n",
        "    np.random.seed(0)\n",
        "    nodes = list(graph.nodes())\n",
        "    walks = list()\n",
        "    # generate random walks\n",
        "    for walk_iter in range(num_walks):\n",
        "        np.random.shuffle(nodes)\n",
        "        for node in nodes:\n",
        "            walks.append(generate_first_order_random_walk(\n",
        "                graph, alias_nodes, walk_length=walk_length, start_node=node))\n",
        "        \n",
        "    walk_lens = [len(w) for w in walks]\n",
        "    if len(walk_lens) > 0:\n",
        "        avg_walk_len = sum(walk_lens) / len(walk_lens)\n",
        "    else:\n",
        "        avg_walk_len = 0.0\n",
        "    print(\"number of walks: %d\\taverage walk length: %.4f\" % (len(walks), avg_walk_len), end=\"\\t\")\n",
        "    \n",
        "    # train a skip-gram model for these walks\n",
        "    model = Word2Vec(walks, vector_size=node_dim, window=3, min_count=0, sg=1, workers=os.cpu_count(), epochs=10)\n",
        "    # model = Word2Vec(walks, size=node_dim, window=3, min_count=0, sg=1, workers=os.cpu_count(), epochs=10)\n",
        "    print(\"training time: %.4f\" % (time.time()-st))\n",
        "    \n",
        "    return model\n",
        "\n",
        "def build_node2vec(graph, alias_nodes, alias_edges, node_dim=10, num_walks=10, walk_length=10):\n",
        "    \"\"\"\n",
        "    build a node2vec model\n",
        "    \"\"\"\n",
        "    print(\"building a node2vec model...\", end=\"\\t\")\n",
        "    st = time.time()\n",
        "    np.random.seed(0)\n",
        "    nodes = list(graph.nodes())\n",
        "    walks = list()\n",
        "    # generate random walks\n",
        "    for walk_iter in range(num_walks):\n",
        "        np.random.shuffle(nodes)\n",
        "        for node in nodes:\n",
        "            walks.append(generate_second_order_random_walk(\n",
        "                graph, alias_nodes, alias_edges, walk_length=walk_length, start_node=node))\n",
        "            \n",
        "    walk_lens = [len(w) for w in walks]\n",
        "    if len(walk_lens) > 0:\n",
        "        avg_walk_len = sum(walk_lens) / len(walk_lens)\n",
        "    else:\n",
        "        avg_walk_len = 0.0    \n",
        "    print(\"number of walks: %d\\taverage walk length: %.4f\" % (len(walks), avg_walk_len), end=\"\\t\")\n",
        "    \n",
        "    # train a skip-gram model for these walks\n",
        "    model = Word2Vec(walks, vector_size=node_dim, window=3, min_count=0, sg=1, workers=os.cpu_count(), epochs=10)\n",
        "    print(\"training time: %.4f\" % (time.time()-st))\n",
        "    \n",
        "    return model"
      ],
      "execution_count": 7,
      "outputs": []
    },
    {
      "cell_type": "markdown",
      "metadata": {
        "id": "Y9hF1jDkyn5K"
      },
      "source": [
        "### Scorer"
      ]
    },
    {
      "cell_type": "code",
      "metadata": {
        "id": "SNn-On78yn5K"
      },
      "source": [
        "def get_cosine_sim(model, u, v):\n",
        "    \"\"\"\n",
        "    get the cosine similarity between two nodes\n",
        "    \"\"\"\n",
        "    try:\n",
        "        u = model.wv[u]\n",
        "        v = model.wv[v]\n",
        "        return np.dot(u, v) / (np.linalg.norm(u) * np.linalg.norm(v))\n",
        "    except:\n",
        "        return 0.5\n",
        "\n",
        "def get_auc_score(model, true_edges, false_edges):\n",
        "    \"\"\"\n",
        "    get the auc score\n",
        "    \"\"\"\n",
        "    y_true = [1] * len(true_edges) + [0] * len(false_edges)\n",
        "    \n",
        "    y_score = list()\n",
        "    for e in true_edges:\n",
        "        y_score.append(get_cosine_sim(model, e[0], e[1]))\n",
        "    for e in false_edges:\n",
        "        y_score.append(get_cosine_sim(model, e[0], e[1]))\n",
        "    \n",
        "    return roc_auc_score(y_true, y_score)\n",
        "\n",
        "def write_pred(file_name, edges, scores):\n",
        "    df = pd.DataFrame()\n",
        "    df[\"src\"] = [e[0] for e in edges]\n",
        "    df[\"dst\"] = [e[1] for e in edges]\n",
        "    df[\"score\"] = scores\n",
        "    df.to_csv(file_name, index=False)\n",
        "    \n",
        "    \n",
        "\n",
        "\n",
        "\n",
        "def write_valid_ans(file_name, edges, scores):\n",
        "    df = pd.DataFrame()\n",
        "    df[\"src\"] = [e[0] for e in edges]\n",
        "    df[\"dst\"] = [e[1] for e in edges]\n",
        "    df[\"score\"] = scores\n",
        "    df.to_csv(file_name, index=False)"
      ],
      "execution_count": 8,
      "outputs": []
    },
    {
      "cell_type": "markdown",
      "metadata": {
        "id": "J1ajwklFyn5L"
      },
      "source": [
        "### Try them over a Real-life Network"
      ]
    },
    {
      "cell_type": "markdown",
      "metadata": {
        "id": "bfOGGjngyn5L"
      },
      "source": [
        "Firstly, we need to load edges into memory and use the networkx.DiGraph structure to store the graph."
      ]
    },
    {
      "cell_type": "code",
      "metadata": {
        "colab": {
          "base_uri": "https://localhost:8080/"
        },
        "id": "dINvOau3yn5L",
        "outputId": "698da489-3961-4b33-85ef-82e9ad8122f6"
      },
      "source": [
        "train_file = \"data/train.csv\"\n",
        "valid_file = \"data/valid.csv\"\n",
        "test_file = \"data/test.csv\"\n",
        "\n",
        "np.random.seed(0)\n",
        "train_edges = load_data(train_file)\n",
        "graph = construct_graph_from_edges(train_edges)\n",
        "valid_edges = load_data(valid_file)\n",
        "false_edges = generate_false_edges(train_edges+valid_edges, 40000-len(valid_edges))\n",
        "test_edges = load_test_data(test_file)"
      ],
      "execution_count": 9,
      "outputs": [
        {
          "output_type": "stream",
          "text": [
            "number of nodes: 8328\n",
            "number of edges: 100000\n",
            "8474 119268\n"
          ],
          "name": "stdout"
        }
      ]
    },
    {
      "cell_type": "markdown",
      "metadata": {
        "id": "Pi-M57s5yn5M"
      },
      "source": [
        "After that, we can use preprocess transition probabilities with the help of alias sampling."
      ]
    },
    {
      "cell_type": "code",
      "metadata": {
        "id": "hewTqqxRyn5N"
      },
      "source": [
        "alias_nodes, alias_edges = preprocess_transition_probs(graph, p=1, q=1)"
      ],
      "execution_count": 10,
      "outputs": []
    },
    {
      "cell_type": "markdown",
      "metadata": {
        "id": "__pa9Mpzyn5N"
      },
      "source": [
        "We can use random walk generators to generate random walks."
      ]
    },
    {
      "cell_type": "markdown",
      "metadata": {
        "id": "C8aiERSsyn5N"
      },
      "source": [
        "Let's try to generate a first-order random walk and a second-order random walk."
      ]
    },
    {
      "cell_type": "code",
      "metadata": {
        "colab": {
          "base_uri": "https://localhost:8080/"
        },
        "id": "lP_P_v6pyn5N",
        "outputId": "047207ac-344a-4826-b0fc-d8dd6ec7fe72"
      },
      "source": [
        "generate_first_order_random_walk(graph, alias_nodes=alias_nodes,\n",
        "                                 start_node=\"N6ZTMIue-2b30CJv2tyPGg\", walk_length=10)"
      ],
      "execution_count": 11,
      "outputs": [
        {
          "output_type": "execute_result",
          "data": {
            "text/plain": [
              "['N6ZTMIue-2b30CJv2tyPGg',\n",
              " 'r9tjKaqLvLKF7PvDnUsFnA',\n",
              " 'BpJygDyhzDf7Pw1Is_5zSA',\n",
              " 'r9tjKaqLvLKF7PvDnUsFnA',\n",
              " 'tzwN9iF_8ZI6oliBcjeQ_w',\n",
              " 'MMf0LhEk5tGa1LvN7zcDnA',\n",
              " 'pazeYPyJ2ycDiNDcmamntQ',\n",
              " '7fHmEe2V87xvN6MAEhFHJA',\n",
              " '4ba1IRpCkNOV1y0u2w0khg',\n",
              " 'SCKAqGeP3H9PFLnfnnVYfQ']"
            ]
          },
          "metadata": {
            "tags": []
          },
          "execution_count": 11
        }
      ]
    },
    {
      "cell_type": "code",
      "metadata": {
        "colab": {
          "base_uri": "https://localhost:8080/"
        },
        "id": "N4ZJEqSdyn5O",
        "outputId": "1aba4a6f-8a8e-4c6b-f252-3d872d17c217"
      },
      "source": [
        "generate_second_order_random_walk(graph, alias_nodes=alias_nodes, alias_edges=alias_edges,\n",
        "                                  start_node=\"N6ZTMIue-2b30CJv2tyPGg\", walk_length=10)"
      ],
      "execution_count": 12,
      "outputs": [
        {
          "output_type": "execute_result",
          "data": {
            "text/plain": [
              "['N6ZTMIue-2b30CJv2tyPGg',\n",
              " 'PcvbBOCOcs6_suRDH7TSTg',\n",
              " '6Nk8WX1STMTEuKjmRlrh6A',\n",
              " 'Lfv4hefW1VbvaC2gatTFWA',\n",
              " 'reEOGQvjBwEX9wWGgWBZbA',\n",
              " 'IxaOO7KTUw23b_TWNLu9Sw',\n",
              " 'UJJYM5ZFG0imgJU9wQUuEw',\n",
              " 'V7B4KTBitlBs9YH_B00-9Q',\n",
              " '1dWLN4Mr4hKhu8MQUCKqXQ',\n",
              " 'kl_yCsj4ESbUphmpCfVvRA']"
            ]
          },
          "metadata": {
            "tags": []
          },
          "execution_count": 12
        }
      ]
    },
    {
      "cell_type": "markdown",
      "metadata": {
        "id": "ObZCLoBsyn5O"
      },
      "source": [
        "And we can build a DeepWalk model and a node2vec model. Here we set p=q=0.5 so that the walker will not go very far away from the start node."
      ]
    },
    {
      "cell_type": "code",
      "metadata": {
        "colab": {
          "base_uri": "https://localhost:8080/"
        },
        "id": "RkG3PlKRyn5O",
        "outputId": "f39dfaf0-c72d-4f5a-fa7c-a70a7d250ee9"
      },
      "source": [
        "model = build_deepwalk(graph, alias_nodes, node_dim=10, num_walks=10, walk_length=10)"
      ],
      "execution_count": 13,
      "outputs": [
        {
          "output_type": "stream",
          "text": [
            "building a DeepWalk model...\tnumber of walks: 83280\taverage walk length: 9.8980\ttraining time: 36.5486\n"
          ],
          "name": "stdout"
        }
      ]
    },
    {
      "cell_type": "code",
      "metadata": {
        "colab": {
          "base_uri": "https://localhost:8080/"
        },
        "id": "ZQMm5dfZyn5P",
        "outputId": "0c320092-d670-47c4-9abd-1cfa91835dfc"
      },
      "source": [
        "model = build_node2vec(graph, alias_nodes, alias_edges, node_dim=10, num_walks=10, walk_length=10)"
      ],
      "execution_count": 14,
      "outputs": [
        {
          "output_type": "stream",
          "text": [
            "building a node2vec model...\tnumber of walks: 83280\taverage walk length: 9.9910\ttraining time: 39.5043\n"
          ],
          "name": "stdout"
        }
      ]
    },
    {
      "cell_type": "markdown",
      "metadata": {
        "id": "zUES24QXyn5P"
      },
      "source": [
        "Let's see the node embeddings of three nodes, and cosine similarities of two edges."
      ]
    },
    {
      "cell_type": "code",
      "metadata": {
        "colab": {
          "base_uri": "https://localhost:8080/"
        },
        "id": "DyuxfP6oyn5P",
        "outputId": "350d0480-4dff-44ad-88b5-0aa0badda18a"
      },
      "source": [
        "print(\"node embedding (\\\"N6ZTMIue-2b30CJv2tyPGg\\\"):\",\n",
        "      model.wv[\"N6ZTMIue-2b30CJv2tyPGg\"])\n",
        "print(\"node embedding (\\\"N7E-CfqdME28dakWdEKNvw\\\"):\",\n",
        "      model.wv[\"N7E-CfqdME28dakWdEKNvw\"])\n",
        "print(\"node embedding (\\\"MmlJSLDg-IFaeXb5wdJbgg\\\"):\",\n",
        "      model.wv.vectors[model.wv.index_to_key.index(\"MmlJSLDg-IFaeXb5wdJbgg\")])\n",
        "print(\"true edge (\\\"N6ZTMIue-2b30CJv2tyPGg\\\", \\\"N7E-CfqdME28dakWdEKNvw\\\"):\",\n",
        "      get_cosine_sim(model, \"N6ZTMIue-2b30CJv2tyPGg\", \"N7E-CfqdME28dakWdEKNvw\"))\n",
        "print(\"false edge (\\\"N6ZTMIue-2b30CJv2tyPGg\\\", \\\"MmlJSLDg-IFaeXb5wdJbgg\\\"):\",\n",
        "      get_cosine_sim(model, \"N6ZTMIue-2b30CJv2tyPGg\", \"MmlJSLDg-IFaeXb5wdJbgg\"))"
      ],
      "execution_count": 15,
      "outputs": [
        {
          "output_type": "stream",
          "text": [
            "node embedding (\"N6ZTMIue-2b30CJv2tyPGg\"): [ 0.13065623 -0.76239365  1.5711308   1.1934671  -1.2619064   0.34637913\n",
            "  0.9249801   1.3445027  -0.66038334 -0.40573108]\n",
            "node embedding (\"N7E-CfqdME28dakWdEKNvw\"): [ 0.6754948  -0.44265017  1.2316543   0.67446953 -0.84892136  0.18856096\n",
            "  1.6635536   0.9109774   0.09782314 -0.948161  ]\n",
            "node embedding (\"MmlJSLDg-IFaeXb5wdJbgg\"): [ 0.4149636   0.14706232 -1.3812746   0.29903638  1.2186913   1.2538863\n",
            "  2.424075    1.2895287  -0.83309215 -2.3324234 ]\n",
            "true edge (\"N6ZTMIue-2b30CJv2tyPGg\", \"N7E-CfqdME28dakWdEKNvw\"): 0.8547873\n",
            "false edge (\"N6ZTMIue-2b30CJv2tyPGg\", \"MmlJSLDg-IFaeXb5wdJbgg\"): 0.18661705\n"
          ],
          "name": "stdout"
        }
      ]
    },
    {
      "cell_type": "markdown",
      "metadata": {
        "id": "i7a9Hzfyyn5P"
      },
      "source": [
        "# Link Prediction"
      ]
    },
    {
      "cell_type": "markdown",
      "metadata": {
        "id": "nqokUkm_yn5Q"
      },
      "source": [
        "We can train the model with different parameters and test the model on the validation set. Please show your parameter search process and analysis in your code, and visualization tools (Heatmap, etc.) are recommended to make your analysis clear."
      ]
    },
    {
      "cell_type": "code",
      "metadata": {
        "colab": {
          "base_uri": "https://localhost:8080/"
        },
        "id": "W8XegoMwyn5Q",
        "outputId": "ee3cae52-9d2c-4e5a-ecab-46049c40409a"
      },
      "source": [
        "np.random.seed(0)\n",
        "\n",
        "node_dim = 10\n",
        "num_walks = 10\n",
        "walk_length = 10\n",
        "\n",
        "deepwalk_auc_scores = dict()\n",
        "\n",
        "print(\"node dim: %d,\\tnum_walks: %d,\\twalk_length: %d\" % (node_dim, num_walks, walk_length), end=\"\\t\")\n",
        "model = build_deepwalk(graph, alias_nodes, \n",
        "                       node_dim=node_dim, num_walks=num_walks, walk_length=walk_length)\n",
        "deepwalk_auc_scores[(node_dim, num_walks, walk_length)] = get_auc_score(model, valid_edges, false_edges)\n",
        "print(\"auc: %.4f\" % (deepwalk_auc_scores[(node_dim, num_walks, walk_length)]))"
      ],
      "execution_count": null,
      "outputs": [
        {
          "output_type": "stream",
          "text": [
            "node dim: 10,\tnum_walks: 10,\twalk_length: 10\tbuilding a DeepWalk model...\tnumber of walks: 83280\taverage walk length: 9.8980\ttraining time: 36.3451\n",
            "auc: 0.9272\n"
          ],
          "name": "stdout"
        }
      ]
    },
    {
      "cell_type": "code",
      "metadata": {
        "colab": {
          "base_uri": "https://localhost:8080/"
        },
        "id": "A-FeXV-eyn5Q",
        "outputId": "96034e8c-abc7-4f39-d9f9-a3e267fea14b"
      },
      "source": [
        "np.random.seed(0)\n",
        "\n",
        "node_dim = 10\n",
        "num_walks = 10\n",
        "walk_length = 10\n",
        "p = 0.5\n",
        "q = 0.5\n",
        "\n",
        "node2vec_auc_scores = dict()\n",
        "print(\"node dim: %d,\\tnum_walks: %d,\\twalk_length: %d,\\tp: %.2f,\\tq: %.2f\" % (\n",
        "    node_dim, num_walks, walk_length, p, q), end=\"\\t\")\n",
        "alias_nodes, alias_edges = preprocess_transition_probs(graph, p=p, q=q)\n",
        "model = build_node2vec(graph, alias_nodes, alias_edges, \n",
        "                       node_dim=node_dim, num_walks=num_walks, walk_length=walk_length)\n",
        "node2vec_auc_scores[(node_dim, num_walks, walk_length, p, q)] = get_auc_score(model, valid_edges, false_edges)\n",
        "print(\"auc: %.4f\" % (node2vec_auc_scores[(node_dim, num_walks, walk_length, p, q)]))"
      ],
      "execution_count": null,
      "outputs": [
        {
          "output_type": "stream",
          "text": [
            "node dim: 10,\tnum_walks: 10,\twalk_length: 10,\tp: 0.50,\tq: 0.50\tbuilding a node2vec model...\tnumber of walks: 83280\taverage walk length: 9.9918\ttraining time: 39.9639\n",
            "auc: 0.9275\n"
          ],
          "name": "stdout"
        }
      ]
    },
    {
      "cell_type": "markdown",
      "metadata": {
        "id": "eun7ZHphCyzW"
      },
      "source": [
        "# Deep Walk Hyperparameter Optimization"
      ]
    },
    {
      "cell_type": "code",
      "metadata": {
        "id": "eV8bPVpb-OiD"
      },
      "source": [
        "deepwalk_auc_scores = dict()"
      ],
      "execution_count": null,
      "outputs": []
    },
    {
      "cell_type": "markdown",
      "metadata": {
        "id": "iW_Eg7JcWW6-"
      },
      "source": [
        "## num_walks, walk_length"
      ]
    },
    {
      "cell_type": "code",
      "metadata": {
        "id": "rZc2e8ERDHLx"
      },
      "source": [
        "np.random.seed(0)\n",
        "\n",
        "node_dim = 10\n",
        "num_walks = 10\n",
        "walk_length = 10"
      ],
      "execution_count": null,
      "outputs": []
    },
    {
      "cell_type": "code",
      "metadata": {
        "colab": {
          "base_uri": "https://localhost:8080/"
        },
        "id": "j_A_7X8MWV4l",
        "outputId": "a4b153d4-7f9a-4523-b26c-353139f1eee2"
      },
      "source": [
        "walk_length_list = [10, 20, 40]\n",
        "num_walks_list = [5, 10, 20, 40]\n",
        "\n",
        "for walk_length_i in walk_length_list:\n",
        "    for num_walks_i in num_walks_list:\n",
        "        print(\"node dim: %d,\\tnum_walks: %d,\\twalk_length: %d\" % (node_dim, num_walks_i, walk_length_i), end=\"\\t\")\n",
        "        model = build_deepwalk(graph, alias_nodes, \n",
        "                              node_dim=node_dim, num_walks=num_walks_i, walk_length=walk_length_i)\n",
        "        deepwalk_auc_scores[(node_dim, num_walks_i, walk_length_i)] = get_auc_score(model, valid_edges, false_edges)\n",
        "        print(\"auc: %.4f\" % (deepwalk_auc_scores[(node_dim, num_walks_i, walk_length_i)]))"
      ],
      "execution_count": null,
      "outputs": [
        {
          "output_type": "stream",
          "text": [
            "node dim: 10,\tnum_walks: 5,\twalk_length: 10\tbuilding a DeepWalk model...\tnumber of walks: 41640\taverage walk length: 9.8976\ttraining time: 18.6997\n",
            "auc: 0.9123\n",
            "node dim: 10,\tnum_walks: 10,\twalk_length: 10\tbuilding a DeepWalk model...\tnumber of walks: 83280\taverage walk length: 9.8980\ttraining time: 36.5368\n",
            "auc: 0.9272\n",
            "node dim: 10,\tnum_walks: 20,\twalk_length: 10\tbuilding a DeepWalk model...\tnumber of walks: 166560\taverage walk length: 9.8981\ttraining time: 72.5701\n",
            "auc: 0.9328\n",
            "node dim: 10,\tnum_walks: 40,\twalk_length: 10\tbuilding a DeepWalk model...\tnumber of walks: 333120\taverage walk length: 9.8984\ttraining time: 143.3853\n",
            "auc: 0.9315\n",
            "node dim: 10,\tnum_walks: 5,\twalk_length: 20\tbuilding a DeepWalk model...\tnumber of walks: 41640\taverage walk length: 19.7535\ttraining time: 33.0482\n",
            "auc: 0.9269\n",
            "node dim: 10,\tnum_walks: 10,\twalk_length: 20\tbuilding a DeepWalk model...\tnumber of walks: 83280\taverage walk length: 19.7559\ttraining time: 65.6083\n",
            "auc: 0.9323\n",
            "node dim: 10,\tnum_walks: 20,\twalk_length: 20\tbuilding a DeepWalk model...\tnumber of walks: 166560\taverage walk length: 19.7587\ttraining time: 131.9023\n",
            "auc: 0.9311\n",
            "node dim: 10,\tnum_walks: 40,\twalk_length: 20\tbuilding a DeepWalk model...\tnumber of walks: 333120\taverage walk length: 19.7608\ttraining time: 261.8358\n",
            "auc: 0.9294\n",
            "node dim: 10,\tnum_walks: 5,\twalk_length: 40\tbuilding a DeepWalk model...\tnumber of walks: 41640\taverage walk length: 39.4357\ttraining time: 62.6104\n",
            "auc: 0.9305\n",
            "node dim: 10,\tnum_walks: 10,\twalk_length: 40\tbuilding a DeepWalk model...\tnumber of walks: 83280\taverage walk length: 39.4396\ttraining time: 123.5839\n",
            "auc: 0.9299\n",
            "node dim: 10,\tnum_walks: 20,\twalk_length: 40\tbuilding a DeepWalk model...\tnumber of walks: 166560\taverage walk length: 39.4343\ttraining time: 249.1944\n",
            "auc: 0.9282\n",
            "node dim: 10,\tnum_walks: 40,\twalk_length: 40\tbuilding a DeepWalk model...\tnumber of walks: 333120\taverage walk length: 39.4376\ttraining time: 490.1947\n",
            "auc: 0.9258\n"
          ],
          "name": "stdout"
        }
      ]
    },
    {
      "cell_type": "code",
      "metadata": {
        "colab": {
          "base_uri": "https://localhost:8080/"
        },
        "id": "8WdISpzlcQ91",
        "outputId": "ec432f62-0329-4c3b-f991-7e2c2c9adb97"
      },
      "source": [
        "deepwalk_auc_scores"
      ],
      "execution_count": null,
      "outputs": [
        {
          "output_type": "execute_result",
          "data": {
            "text/plain": [
              "{(10, 5, 10): 0.9122610709401886,\n",
              " (10, 5, 20): 0.9269139631184349,\n",
              " (10, 5, 40): 0.9305452737268736,\n",
              " (10, 10, 10): 0.927238773221056,\n",
              " (10, 10, 20): 0.9322672366495263,\n",
              " (10, 10, 40): 0.9298924955413275,\n",
              " (10, 20, 10): 0.9327544730819617,\n",
              " (10, 20, 20): 0.9311124697700051,\n",
              " (10, 20, 40): 0.9282305843115203,\n",
              " (10, 40, 10): 0.931522709310484,\n",
              " (10, 40, 20): 0.9293573386665843,\n",
              " (10, 40, 40): 0.9258454905853686}"
            ]
          },
          "metadata": {
            "tags": []
          },
          "execution_count": 21
        }
      ]
    },
    {
      "cell_type": "code",
      "metadata": {
        "colab": {
          "base_uri": "https://localhost:8080/",
          "height": 299
        },
        "id": "hxb29KeYWWDM",
        "outputId": "c0622f0e-71a2-4ac0-d4c7-cc1e216bcc74"
      },
      "source": [
        "# plt.figure(figsize=(6, 4))\n",
        "a = np.array([[deepwalk_auc_scores[(node_dim, num_walks, walk_length)] for walk_length in [10, 20, 40]] for num_walks in [5, 10, 20, 40]])\n",
        "plt.imshow(a, cmap=\"hot\", interpolation=\"nearest\")\n",
        "plt.colorbar()\n",
        "plt.xticks(ticks=[0,1,2], labels=[10, 20, 40])\n",
        "plt.xlabel(\"walk_length\")\n",
        "plt.yticks(ticks=[0,1,2,3], labels=[5, 10, 20, 40])\n",
        "plt.ylabel(\"num_walks\")"
      ],
      "execution_count": null,
      "outputs": [
        {
          "output_type": "execute_result",
          "data": {
            "text/plain": [
              "Text(0, 0.5, 'num_walks')"
            ]
          },
          "metadata": {
            "tags": []
          },
          "execution_count": 22
        },
        {
          "output_type": "display_data",
          "data": {
            "image/png": "[encoded data removed]",
            "text/plain": [
              "<Figure size 432x288 with 2 Axes>"
            ]
          },
          "metadata": {
            "tags": [],
            "needs_background": "light"
          }
        }
      ]
    },
    {
      "cell_type": "markdown",
      "metadata": {
        "id": "bCpzqgiYat7b"
      },
      "source": [
        "## node_dim"
      ]
    },
    {
      "cell_type": "code",
      "metadata": {
        "id": "oY7YtXulWWKn"
      },
      "source": [
        "np.random.seed(0)\n",
        "\n",
        "node_dim = 10\n",
        "num_walks = 10\n",
        "walk_length = 10"
      ],
      "execution_count": null,
      "outputs": []
    },
    {
      "cell_type": "code",
      "metadata": {
        "colab": {
          "base_uri": "https://localhost:8080/"
        },
        "id": "88teqHqhayob",
        "outputId": "68604e33-b9f7-4271-f0fc-7937b2f6d9c9"
      },
      "source": [
        "node_dim_list = [5, 10, 20, 30, 40]\n",
        "\n",
        "for node_dim_i in node_dim_list:\n",
        "    print(\"node dim: %d,\\tnum_walks: %d,\\twalk_length: %d\" % (node_dim_i, num_walks, walk_length), end=\"\\t\")\n",
        "    model = build_deepwalk(graph, alias_nodes, \n",
        "                          node_dim=node_dim_i, num_walks=num_walks, walk_length=walk_length)\n",
        "    deepwalk_auc_scores[(node_dim_i, num_walks, walk_length)] = get_auc_score(model, valid_edges, false_edges)\n",
        "    print(\"auc: %.4f\" % (deepwalk_auc_scores[(node_dim_i, num_walks, walk_length)]))"
      ],
      "execution_count": null,
      "outputs": [
        {
          "output_type": "stream",
          "text": [
            "node dim: 5,\tnum_walks: 10,\twalk_length: 10\tbuilding a DeepWalk model...\tnumber of walks: 83280\taverage walk length: 9.8980\ttraining time: 34.6636\n",
            "auc: 0.9075\n",
            "node dim: 10,\tnum_walks: 10,\twalk_length: 10\tbuilding a DeepWalk model...\tnumber of walks: 83280\taverage walk length: 9.8980\ttraining time: 36.4000\n",
            "auc: 0.9269\n",
            "node dim: 20,\tnum_walks: 10,\twalk_length: 10\tbuilding a DeepWalk model...\tnumber of walks: 83280\taverage walk length: 9.8980\ttraining time: 43.5531\n",
            "auc: 0.9101\n",
            "node dim: 30,\tnum_walks: 10,\twalk_length: 10\tbuilding a DeepWalk model...\tnumber of walks: 83280\taverage walk length: 9.8980\ttraining time: 50.0613\n",
            "auc: 0.8841\n",
            "node dim: 40,\tnum_walks: 10,\twalk_length: 10\tbuilding a DeepWalk model...\tnumber of walks: 83280\taverage walk length: 9.8980\ttraining time: 41.7473\n",
            "auc: 0.8556\n"
          ],
          "name": "stdout"
        }
      ]
    },
    {
      "cell_type": "code",
      "metadata": {
        "colab": {
          "base_uri": "https://localhost:8080/"
        },
        "id": "I7Sw_SLK-Sjq",
        "outputId": "16363708-ec8f-41c6-8483-37d2374ba325"
      },
      "source": [
        "deepwalk_auc_scores"
      ],
      "execution_count": null,
      "outputs": [
        {
          "output_type": "execute_result",
          "data": {
            "text/plain": [
              "{(5, 10, 10): 0.9075006853680918,\n",
              " (10, 5, 10): 0.9122610709401886,\n",
              " (10, 5, 20): 0.9269139631184349,\n",
              " (10, 5, 40): 0.9305452737268736,\n",
              " (10, 10, 10): 0.9269466744372091,\n",
              " (10, 10, 20): 0.9322672366495263,\n",
              " (10, 10, 40): 0.9298924955413275,\n",
              " (10, 20, 10): 0.9327544730819617,\n",
              " (10, 20, 20): 0.9311124697700051,\n",
              " (10, 20, 40): 0.9282305843115203,\n",
              " (10, 40, 10): 0.931522709310484,\n",
              " (10, 40, 20): 0.9293573386665843,\n",
              " (10, 40, 40): 0.9258454905853686,\n",
              " (20, 10, 10): 0.9100609262143197,\n",
              " (30, 10, 10): 0.8841085764847159,\n",
              " (40, 10, 10): 0.8556369695589424}"
            ]
          },
          "metadata": {
            "tags": []
          },
          "execution_count": 25
        }
      ]
    },
    {
      "cell_type": "code",
      "metadata": {
        "colab": {
          "base_uri": "https://localhost:8080/",
          "height": 265
        },
        "id": "kfp5S-4caywn",
        "outputId": "7440a75b-90b0-46d2-be0b-0433e21ba069"
      },
      "source": [
        "a = np.array([[deepwalk_auc_scores[(node_dim, num_walks, walk_length)] for node_dim in [5, 10, 20, 30, 40]]])\n",
        "plt.imshow(a, cmap=\"hot\", interpolation=\"nearest\")\n",
        "plt.colorbar()\n",
        "plt.xticks(ticks=[0,1,2, 3, 4], labels=[5, 10, 20, 30, 40])\n",
        "plt.xlabel(\"node_dim\")\n",
        "plt.yticks(ticks=[0], labels=[0])\n",
        "plt.ylabel(\" \")"
      ],
      "execution_count": null,
      "outputs": [
        {
          "output_type": "execute_result",
          "data": {
            "text/plain": [
              "Text(0, 0.5, ' ')"
            ]
          },
          "metadata": {
            "tags": []
          },
          "execution_count": 26
        },
        {
          "output_type": "display_data",
          "data": {
            "image/png": "[encoded data removed]",
            "text/plain": [
              "<Figure size 432x288 with 2 Axes>"
            ]
          },
          "metadata": {
            "tags": [],
            "needs_background": "light"
          }
        }
      ]
    },
    {
      "cell_type": "code",
      "metadata": {
        "colab": {
          "base_uri": "https://localhost:8080/"
        },
        "id": "YnCD3bEiGZpV",
        "outputId": "564bd9ff-e204-4ce8-d5ce-3121d96afa24"
      },
      "source": [
        "# Save\n",
        "np.save(\"deepwalk_auc_scores.npy\", deepwalk_auc_scores) \n",
        "\n",
        "# Load\n",
        "deepwalk = np.load(\"deepwalk_auc_scores.npy\",allow_pickle='TRUE').item()\n",
        "\n",
        "deepwalk"
      ],
      "execution_count": null,
      "outputs": [
        {
          "output_type": "execute_result",
          "data": {
            "text/plain": [
              "{(5, 10, 10): 0.9075006853680918,\n",
              " (10, 5, 10): 0.9122610709401886,\n",
              " (10, 5, 20): 0.9269139631184349,\n",
              " (10, 5, 40): 0.9305452737268736,\n",
              " (10, 10, 10): 0.9269466744372091,\n",
              " (10, 10, 20): 0.9322672366495263,\n",
              " (10, 10, 40): 0.9298924955413275,\n",
              " (10, 20, 10): 0.9327544730819617,\n",
              " (10, 20, 20): 0.9311124697700051,\n",
              " (10, 20, 40): 0.9282305843115203,\n",
              " (10, 40, 10): 0.931522709310484,\n",
              " (10, 40, 20): 0.9293573386665843,\n",
              " (10, 40, 40): 0.9258454905853686,\n",
              " (20, 10, 10): 0.9100609262143197,\n",
              " (30, 10, 10): 0.8841085764847159,\n",
              " (40, 10, 10): 0.8556369695589424}"
            ]
          },
          "metadata": {
            "tags": []
          },
          "execution_count": 27
        }
      ]
    },
    {
      "cell_type": "code",
      "metadata": {
        "colab": {
          "base_uri": "https://localhost:8080/",
          "height": 17
        },
        "id": "iErd50OpBrhH",
        "outputId": "b51b51d9-441b-439a-f6e4-58c05fc1af29"
      },
      "source": [
        "from google.colab import files\n",
        "files.download(\"deepwalk_auc_scores.npy\") "
      ],
      "execution_count": null,
      "outputs": [
        {
          "output_type": "display_data",
          "data": {
            "application/javascript": [
              "\n",
              "    async function download(id, filename, size) {\n",
              "      if (!google.colab.kernel.accessAllowed) {\n",
              "        return;\n",
              "      }\n",
              "      const div = document.createElement('div');\n",
              "      const label = document.createElement('label');\n",
              "      label.textContent = `Downloading \"${filename}\": `;\n",
              "      div.appendChild(label);\n",
              "      const progress = document.createElement('progress');\n",
              "      progress.max = size;\n",
              "      div.appendChild(progress);\n",
              "      document.body.appendChild(div);\n",
              "\n",
              "      const buffers = [];\n",
              "      let downloaded = 0;\n",
              "\n",
              "      const channel = await google.colab.kernel.comms.open(id);\n",
              "      // Send a message to notify the kernel that we're ready.\n",
              "      channel.send({})\n",
              "\n",
              "      for await (const message of channel.messages) {\n",
              "        // Send a message to notify the kernel that we're ready.\n",
              "        channel.send({})\n",
              "        if (message.buffers) {\n",
              "          for (const buffer of message.buffers) {\n",
              "            buffers.push(buffer);\n",
              "            downloaded += buffer.byteLength;\n",
              "            progress.value = downloaded;\n",
              "          }\n",
              "        }\n",
              "      }\n",
              "      const blob = new Blob(buffers, {type: 'application/binary'});\n",
              "      const a = document.createElement('a');\n",
              "      a.href = window.URL.createObjectURL(blob);\n",
              "      a.download = filename;\n",
              "      div.appendChild(a);\n",
              "      a.click();\n",
              "      div.remove();\n",
              "    }\n",
              "  "
            ],
            "text/plain": [
              "<IPython.core.display.Javascript object>"
            ]
          },
          "metadata": {
            "tags": []
          }
        },
        {
          "output_type": "display_data",
          "data": {
            "application/javascript": [
              "download(\"download_adff67ba-6f85-43c8-bf6e-318eda3ea17e\", \"deepwalk_auc_scores.npy\", 855)"
            ],
            "text/plain": [
              "<IPython.core.display.Javascript object>"
            ]
          },
          "metadata": {
            "tags": []
          }
        }
      ]
    },
    {
      "cell_type": "markdown",
      "metadata": {
        "id": "XAj9avcfD4MA"
      },
      "source": [
        "## Combine best of the hyperparameters"
      ]
    },
    {
      "cell_type": "code",
      "metadata": {
        "id": "dDVCAr5uD3jO"
      },
      "source": [
        "np.random.seed(0)\n",
        "\n",
        "node_dim_list = [10]\n",
        "num_walks_list = [10, 20]\n",
        "walk_length_list = [10, 20]\n",
        "\n",
        "deepwalk_auc_scores_best = dict()"
      ],
      "execution_count": null,
      "outputs": []
    },
    {
      "cell_type": "code",
      "metadata": {
        "colab": {
          "base_uri": "https://localhost:8080/"
        },
        "id": "5RMSaEv2EgK6",
        "outputId": "1c4ee23b-8784-4c09-af93-26a6c8589de5"
      },
      "source": [
        "for node_dim_i in node_dim_list:\n",
        "    for num_walks_i in num_walks_list:\n",
        "        for walk_length_i in walk_length_list:\n",
        "            print(\"node dim: %d,\\tnum_walks: %d,\\twalk_length: %d\" % (node_dim_i, num_walks_i, walk_length_i), end=\"\\t\")\n",
        "            model = build_deepwalk(graph, alias_nodes, \n",
        "                                  node_dim=node_dim_i, num_walks=num_walks_i, walk_length=walk_length_i)\n",
        "            deepwalk_auc_scores_best[(node_dim_i, num_walks_i, walk_length_i)] = get_auc_score(model, valid_edges, false_edges)\n",
        "            print(\"auc: %.4f\" % (deepwalk_auc_scores_best[(node_dim_i, num_walks_i, walk_length_i)]))"
      ],
      "execution_count": null,
      "outputs": [
        {
          "output_type": "stream",
          "text": [
            "node dim: 10,\tnum_walks: 10,\twalk_length: 10\tbuilding a DeepWalk model...\tnumber of walks: 83280\taverage walk length: 9.8980\ttraining time: 36.8366\n",
            "auc: 0.9270\n",
            "node dim: 10,\tnum_walks: 10,\twalk_length: 20\tbuilding a DeepWalk model...\tnumber of walks: 83280\taverage walk length: 19.7559\ttraining time: 65.6441\n",
            "auc: 0.9325\n",
            "node dim: 10,\tnum_walks: 20,\twalk_length: 10\tbuilding a DeepWalk model...\tnumber of walks: 166560\taverage walk length: 9.8981\ttraining time: 72.2129\n",
            "auc: 0.9322\n",
            "node dim: 10,\tnum_walks: 20,\twalk_length: 20\tbuilding a DeepWalk model...\tnumber of walks: 166560\taverage walk length: 19.7587\ttraining time: 129.7549\n",
            "auc: 0.9309\n"
          ],
          "name": "stdout"
        }
      ]
    },
    {
      "cell_type": "code",
      "metadata": {
        "colab": {
          "base_uri": "https://localhost:8080/"
        },
        "id": "JUSiVYphEgTX",
        "outputId": "50ebcd82-d3cb-4511-e5a4-a4b19c69878a"
      },
      "source": [
        "deepwalk_auc_scores_best"
      ],
      "execution_count": null,
      "outputs": [
        {
          "output_type": "execute_result",
          "data": {
            "text/plain": [
              "{(10, 10, 10): 0.9269513394362552,\n",
              " (10, 10, 20): 0.9324755194067765,\n",
              " (10, 20, 10): 0.9322459631524005,\n",
              " (10, 20, 20): 0.9309347905079729}"
            ]
          },
          "metadata": {
            "tags": []
          },
          "execution_count": 64
        }
      ]
    },
    {
      "cell_type": "code",
      "metadata": {
        "colab": {
          "base_uri": "https://localhost:8080/"
        },
        "id": "V_zRoqsvFT3B",
        "outputId": "dc9cde26-cce4-4255-e370-618c71bf7b6b"
      },
      "source": [
        "# Save\n",
        "np.save(\"deepwalk_auc_scores_best.npy\", deepwalk_auc_scores_best) \n",
        "\n",
        "# Load\n",
        "deepwalk_best = np.load(\"deepwalk_auc_scores_best.npy\",allow_pickle='TRUE').item()\n",
        "\n",
        "deepwalk_best"
      ],
      "execution_count": null,
      "outputs": [
        {
          "output_type": "execute_result",
          "data": {
            "text/plain": [
              "{(10, 10, 10): 0.9269513394362552,\n",
              " (10, 10, 20): 0.9324755194067765,\n",
              " (10, 20, 10): 0.9322459631524005,\n",
              " (10, 20, 20): 0.9309347905079729}"
            ]
          },
          "metadata": {
            "tags": []
          },
          "execution_count": 65
        }
      ]
    },
    {
      "cell_type": "code",
      "metadata": {
        "colab": {
          "base_uri": "https://localhost:8080/",
          "height": 35
        },
        "id": "VYrhZBYEFT-3",
        "outputId": "d701088e-8796-4aa3-9ebf-db9aa72a7994"
      },
      "source": [
        "files.download(\"deepwalk_auc_scores_best.npy\")"
      ],
      "execution_count": null,
      "outputs": [
        {
          "output_type": "display_data",
          "data": {
            "application/javascript": [
              "\n",
              "    async function download(id, filename, size) {\n",
              "      if (!google.colab.kernel.accessAllowed) {\n",
              "        return;\n",
              "      }\n",
              "      const div = document.createElement('div');\n",
              "      const label = document.createElement('label');\n",
              "      label.textContent = `Downloading \"${filename}\": `;\n",
              "      div.appendChild(label);\n",
              "      const progress = document.createElement('progress');\n",
              "      progress.max = size;\n",
              "      div.appendChild(progress);\n",
              "      document.body.appendChild(div);\n",
              "\n",
              "      const buffers = [];\n",
              "      let downloaded = 0;\n",
              "\n",
              "      const channel = await google.colab.kernel.comms.open(id);\n",
              "      // Send a message to notify the kernel that we're ready.\n",
              "      channel.send({})\n",
              "\n",
              "      for await (const message of channel.messages) {\n",
              "        // Send a message to notify the kernel that we're ready.\n",
              "        channel.send({})\n",
              "        if (message.buffers) {\n",
              "          for (const buffer of message.buffers) {\n",
              "            buffers.push(buffer);\n",
              "            downloaded += buffer.byteLength;\n",
              "            progress.value = downloaded;\n",
              "          }\n",
              "        }\n",
              "      }\n",
              "      const blob = new Blob(buffers, {type: 'application/binary'});\n",
              "      const a = document.createElement('a');\n",
              "      a.href = window.URL.createObjectURL(blob);\n",
              "      a.download = filename;\n",
              "      div.appendChild(a);\n",
              "      a.click();\n",
              "      div.remove();\n",
              "    }\n",
              "  "
            ],
            "text/plain": [
              "<IPython.core.display.Javascript object>"
            ]
          },
          "metadata": {
            "tags": []
          }
        },
        {
          "output_type": "display_data",
          "data": {
            "application/javascript": [
              "download(\"download_ff6a686d-b14e-4f40-9ed5-35767ed5c3ff\", \"deepwalk_auc_scores_best.npy\", 483)"
            ],
            "text/plain": [
              "<IPython.core.display.Javascript object>"
            ]
          },
          "metadata": {
            "tags": []
          }
        }
      ]
    },
    {
      "cell_type": "markdown",
      "metadata": {
        "id": "TvDGljF-CmSW"
      },
      "source": [
        "# Node2Vec Hyperparameter Optimization"
      ]
    },
    {
      "cell_type": "code",
      "metadata": {
        "id": "WpZN_pGO-V9G"
      },
      "source": [
        "node2vec_auc_scores = dict()"
      ],
      "execution_count": null,
      "outputs": []
    },
    {
      "cell_type": "markdown",
      "metadata": {
        "id": "sFNZh580HmPT"
      },
      "source": [
        "## p, q"
      ]
    },
    {
      "cell_type": "code",
      "metadata": {
        "id": "f1Iqux8ZDITW"
      },
      "source": [
        "np.random.seed(0)\n",
        "\n",
        "node_dim = 10\n",
        "num_walks = 10\n",
        "walk_length = 10\n",
        "p = 0.5\n",
        "q = 0.5"
      ],
      "execution_count": null,
      "outputs": []
    },
    {
      "cell_type": "code",
      "metadata": {
        "colab": {
          "base_uri": "https://localhost:8080/"
        },
        "id": "5YTJFjsHDO3n",
        "outputId": "17d22574-372b-46f7-87a5-4cc9bff673a7"
      },
      "source": [
        "p_list = [0.1, 0.15, 0.2, 0.25, 0.3, 0.35, 0.4, 0.45, 0.5]\n",
        "q_list = [0.2, 0.4, 0.6, 0.8, 1.0, 1.2, 1.4, 1.6, 1.8]\n",
        "\n",
        "for pi in p_list:\n",
        "    for qi in q_list:\n",
        "        print(\"node dim: %d,\\tnum_walks: %d,\\twalk_length: %d,\\tp: %.2f,\\tq: %.2f\" % (\n",
        "            node_dim, num_walks, walk_length, pi, qi), end=\"\\t\")\n",
        "        alias_nodes, alias_edges = preprocess_transition_probs(graph, p=pi, q=qi)\n",
        "        model = build_node2vec(graph, alias_nodes, alias_edges, \n",
        "                              node_dim=node_dim, num_walks=num_walks, walk_length=walk_length)\n",
        "        node2vec_auc_scores[(node_dim, num_walks, walk_length, pi, qi)] = get_auc_score(model, valid_edges, false_edges)\n",
        "        print(\"auc: %.4f\" % (node2vec_auc_scores[(node_dim, num_walks, walk_length, pi, qi)]))"
      ],
      "execution_count": null,
      "outputs": [
        {
          "output_type": "stream",
          "text": [
            "node dim: 10,\tnum_walks: 10,\twalk_length: 10,\tp: 0.10,\tq: 0.20\tbuilding a node2vec model...\tnumber of walks: 83280\taverage walk length: 9.9915\ttraining time: 40.0617\n",
            "auc: 0.9281\n",
            "node dim: 10,\tnum_walks: 10,\twalk_length: 10,\tp: 0.10,\tq: 0.40\tbuilding a node2vec model...\tnumber of walks: 83280\taverage walk length: 9.9919\ttraining time: 40.1140\n",
            "auc: 0.9288\n",
            "node dim: 10,\tnum_walks: 10,\twalk_length: 10,\tp: 0.10,\tq: 0.60\tbuilding a node2vec model...\tnumber of walks: 83280\taverage walk length: 9.9919\ttraining time: 39.9035\n",
            "auc: 0.9278\n",
            "node dim: 10,\tnum_walks: 10,\twalk_length: 10,\tp: 0.10,\tq: 0.80\tbuilding a node2vec model...\tnumber of walks: 83280\taverage walk length: 9.9927\ttraining time: 40.4015\n",
            "auc: 0.9292\n",
            "node dim: 10,\tnum_walks: 10,\twalk_length: 10,\tp: 0.10,\tq: 1.00\tbuilding a node2vec model...\tnumber of walks: 83280\taverage walk length: 9.9933\ttraining time: 39.0760\n",
            "auc: 0.9290\n",
            "node dim: 10,\tnum_walks: 10,\twalk_length: 10,\tp: 0.10,\tq: 1.20\tbuilding a node2vec model...\tnumber of walks: 83280\taverage walk length: 9.9934\ttraining time: 39.1680\n",
            "auc: 0.9291\n",
            "node dim: 10,\tnum_walks: 10,\twalk_length: 10,\tp: 0.10,\tq: 1.40\tbuilding a node2vec model...\tnumber of walks: 83280\taverage walk length: 9.9935\ttraining time: 38.9345\n",
            "auc: 0.9279\n",
            "node dim: 10,\tnum_walks: 10,\twalk_length: 10,\tp: 0.10,\tq: 1.60\tbuilding a node2vec model...\tnumber of walks: 83280\taverage walk length: 9.9932\ttraining time: 39.3041\n",
            "auc: 0.9289\n",
            "node dim: 10,\tnum_walks: 10,\twalk_length: 10,\tp: 0.10,\tq: 1.80\tbuilding a node2vec model...\tnumber of walks: 83280\taverage walk length: 9.9930\ttraining time: 38.9352\n",
            "auc: 0.9273\n",
            "node dim: 10,\tnum_walks: 10,\twalk_length: 10,\tp: 0.15,\tq: 0.20\tbuilding a node2vec model...\tnumber of walks: 83280\taverage walk length: 9.9904\ttraining time: 39.9774\n",
            "auc: 0.9266\n",
            "node dim: 10,\tnum_walks: 10,\twalk_length: 10,\tp: 0.15,\tq: 0.40\tbuilding a node2vec model...\tnumber of walks: 83280\taverage walk length: 9.9916\ttraining time: 40.0582\n",
            "auc: 0.9275\n",
            "node dim: 10,\tnum_walks: 10,\twalk_length: 10,\tp: 0.15,\tq: 0.60\tbuilding a node2vec model...\tnumber of walks: 83280\taverage walk length: 9.9914\ttraining time: 39.9739\n",
            "auc: 0.9268\n",
            "node dim: 10,\tnum_walks: 10,\twalk_length: 10,\tp: 0.15,\tq: 0.80\tbuilding a node2vec model...\tnumber of walks: 83280\taverage walk length: 9.9921\ttraining time: 39.6690\n",
            "auc: 0.9284\n",
            "node dim: 10,\tnum_walks: 10,\twalk_length: 10,\tp: 0.15,\tq: 1.00\tbuilding a node2vec model...\tnumber of walks: 83280\taverage walk length: 9.9927\ttraining time: 39.5838\n",
            "auc: 0.9287\n",
            "node dim: 10,\tnum_walks: 10,\twalk_length: 10,\tp: 0.15,\tq: 1.20\tbuilding a node2vec model...\tnumber of walks: 83280\taverage walk length: 9.9930\ttraining time: 39.6205\n",
            "auc: 0.9291\n",
            "node dim: 10,\tnum_walks: 10,\twalk_length: 10,\tp: 0.15,\tq: 1.40\tbuilding a node2vec model...\tnumber of walks: 83280\taverage walk length: 9.9918\ttraining time: 39.5697\n",
            "auc: 0.9286\n",
            "node dim: 10,\tnum_walks: 10,\twalk_length: 10,\tp: 0.15,\tq: 1.60\tbuilding a node2vec model...\tnumber of walks: 83280\taverage walk length: 9.9921\ttraining time: 39.3911\n",
            "auc: 0.9298\n",
            "node dim: 10,\tnum_walks: 10,\twalk_length: 10,\tp: 0.15,\tq: 1.80\tbuilding a node2vec model...\tnumber of walks: 83280\taverage walk length: 9.9925\ttraining time: 39.3554\n",
            "auc: 0.9296\n",
            "node dim: 10,\tnum_walks: 10,\twalk_length: 10,\tp: 0.20,\tq: 0.20\tbuilding a node2vec model...\tnumber of walks: 83280\taverage walk length: 9.9912\ttraining time: 39.9084\n",
            "auc: 0.9263\n",
            "node dim: 10,\tnum_walks: 10,\twalk_length: 10,\tp: 0.20,\tq: 0.40\tbuilding a node2vec model...\tnumber of walks: 83280\taverage walk length: 9.9920\ttraining time: 39.5989\n",
            "auc: 0.9276\n",
            "node dim: 10,\tnum_walks: 10,\twalk_length: 10,\tp: 0.20,\tq: 0.60\tbuilding a node2vec model...\tnumber of walks: 83280\taverage walk length: 9.9919\ttraining time: 39.8434\n",
            "auc: 0.9291\n",
            "node dim: 10,\tnum_walks: 10,\twalk_length: 10,\tp: 0.20,\tq: 0.80\tbuilding a node2vec model...\tnumber of walks: 83280\taverage walk length: 9.9921\ttraining time: 39.9291\n",
            "auc: 0.9269\n",
            "node dim: 10,\tnum_walks: 10,\twalk_length: 10,\tp: 0.20,\tq: 1.00\tbuilding a node2vec model...\tnumber of walks: 83280\taverage walk length: 9.9923\ttraining time: 39.2036\n",
            "auc: 0.9300\n",
            "node dim: 10,\tnum_walks: 10,\twalk_length: 10,\tp: 0.20,\tq: 1.20\tbuilding a node2vec model...\tnumber of walks: 83280\taverage walk length: 9.9923\ttraining time: 39.3712\n",
            "auc: 0.9298\n",
            "node dim: 10,\tnum_walks: 10,\twalk_length: 10,\tp: 0.20,\tq: 1.40\tbuilding a node2vec model...\tnumber of walks: 83280\taverage walk length: 9.9927\ttraining time: 39.1553\n",
            "auc: 0.9295\n",
            "node dim: 10,\tnum_walks: 10,\twalk_length: 10,\tp: 0.20,\tq: 1.60\tbuilding a node2vec model...\tnumber of walks: 83280\taverage walk length: 9.9918\ttraining time: 40.0107\n",
            "auc: 0.9292\n",
            "node dim: 10,\tnum_walks: 10,\twalk_length: 10,\tp: 0.20,\tq: 1.80\tbuilding a node2vec model...\tnumber of walks: 83280\taverage walk length: 9.9924\ttraining time: 39.3443\n",
            "auc: 0.9288\n",
            "node dim: 10,\tnum_walks: 10,\twalk_length: 10,\tp: 0.25,\tq: 0.20\tbuilding a node2vec model...\tnumber of walks: 83280\taverage walk length: 9.9896\ttraining time: 40.1205\n",
            "auc: 0.9268\n",
            "node dim: 10,\tnum_walks: 10,\twalk_length: 10,\tp: 0.25,\tq: 0.40\tbuilding a node2vec model...\tnumber of walks: 83280\taverage walk length: 9.9919\ttraining time: 40.4452\n",
            "auc: 0.9290\n",
            "node dim: 10,\tnum_walks: 10,\twalk_length: 10,\tp: 0.25,\tq: 0.60\tbuilding a node2vec model...\tnumber of walks: 83280\taverage walk length: 9.9910\ttraining time: 39.9860\n",
            "auc: 0.9268\n",
            "node dim: 10,\tnum_walks: 10,\twalk_length: 10,\tp: 0.25,\tq: 0.80\tbuilding a node2vec model...\tnumber of walks: 83280\taverage walk length: 9.9911\ttraining time: 40.0297\n",
            "auc: 0.9287\n",
            "node dim: 10,\tnum_walks: 10,\twalk_length: 10,\tp: 0.25,\tq: 1.00\tbuilding a node2vec model...\tnumber of walks: 83280\taverage walk length: 9.9921\ttraining time: 39.5360\n",
            "auc: 0.9292\n",
            "node dim: 10,\tnum_walks: 10,\twalk_length: 10,\tp: 0.25,\tq: 1.20\tbuilding a node2vec model...\tnumber of walks: 83280\taverage walk length: 9.9926\ttraining time: 39.6976\n",
            "auc: 0.9281\n",
            "node dim: 10,\tnum_walks: 10,\twalk_length: 10,\tp: 0.25,\tq: 1.40\tbuilding a node2vec model...\tnumber of walks: 83280\taverage walk length: 9.9925\ttraining time: 39.3189\n",
            "auc: 0.9287\n",
            "node dim: 10,\tnum_walks: 10,\twalk_length: 10,\tp: 0.25,\tq: 1.60\tbuilding a node2vec model...\tnumber of walks: 83280\taverage walk length: 9.9933\ttraining time: 39.4005\n",
            "auc: 0.9295\n",
            "node dim: 10,\tnum_walks: 10,\twalk_length: 10,\tp: 0.25,\tq: 1.80\tbuilding a node2vec model...\tnumber of walks: 83280\taverage walk length: 9.9921\ttraining time: 39.2466\n",
            "auc: 0.9297\n",
            "node dim: 10,\tnum_walks: 10,\twalk_length: 10,\tp: 0.30,\tq: 0.20\tbuilding a node2vec model...\tnumber of walks: 83280\taverage walk length: 9.9895\ttraining time: 39.9641\n",
            "auc: 0.9263\n",
            "node dim: 10,\tnum_walks: 10,\twalk_length: 10,\tp: 0.30,\tq: 0.40\tbuilding a node2vec model...\tnumber of walks: 83280\taverage walk length: 9.9918\ttraining time: 39.7139\n",
            "auc: 0.9285\n",
            "node dim: 10,\tnum_walks: 10,\twalk_length: 10,\tp: 0.30,\tq: 0.60\tbuilding a node2vec model...\tnumber of walks: 83280\taverage walk length: 9.9919\ttraining time: 39.7813\n",
            "auc: 0.9247\n",
            "node dim: 10,\tnum_walks: 10,\twalk_length: 10,\tp: 0.30,\tq: 0.80\tbuilding a node2vec model...\tnumber of walks: 83280\taverage walk length: 9.9928\ttraining time: 39.6136\n",
            "auc: 0.9288\n",
            "node dim: 10,\tnum_walks: 10,\twalk_length: 10,\tp: 0.30,\tq: 1.00\tbuilding a node2vec model...\tnumber of walks: 83280\taverage walk length: 9.9914\ttraining time: 39.3348\n",
            "auc: 0.9287\n",
            "node dim: 10,\tnum_walks: 10,\twalk_length: 10,\tp: 0.30,\tq: 1.20\tbuilding a node2vec model...\tnumber of walks: 83280\taverage walk length: 9.9910\ttraining time: 39.7221\n",
            "auc: 0.9278\n",
            "node dim: 10,\tnum_walks: 10,\twalk_length: 10,\tp: 0.30,\tq: 1.40\tbuilding a node2vec model...\tnumber of walks: 83280\taverage walk length: 9.9917\ttraining time: 39.8551\n",
            "auc: 0.9282\n",
            "node dim: 10,\tnum_walks: 10,\twalk_length: 10,\tp: 0.30,\tq: 1.60\tbuilding a node2vec model...\tnumber of walks: 83280\taverage walk length: 9.9925\ttraining time: 39.4158\n",
            "auc: 0.9301\n",
            "node dim: 10,\tnum_walks: 10,\twalk_length: 10,\tp: 0.30,\tq: 1.80\tbuilding a node2vec model...\tnumber of walks: 83280\taverage walk length: 9.9929\ttraining time: 39.4972\n",
            "auc: 0.9285\n",
            "node dim: 10,\tnum_walks: 10,\twalk_length: 10,\tp: 0.35,\tq: 0.20\tbuilding a node2vec model...\tnumber of walks: 83280\taverage walk length: 9.9897\ttraining time: 40.0726\n",
            "auc: 0.9276\n",
            "node dim: 10,\tnum_walks: 10,\twalk_length: 10,\tp: 0.35,\tq: 0.40\tbuilding a node2vec model...\tnumber of walks: 83280\taverage walk length: 9.9911\ttraining time: 40.1874\n",
            "auc: 0.9262\n",
            "node dim: 10,\tnum_walks: 10,\twalk_length: 10,\tp: 0.35,\tq: 0.60\tbuilding a node2vec model...\tnumber of walks: 83280\taverage walk length: 9.9915\ttraining time: 40.6722\n",
            "auc: 0.9263\n",
            "node dim: 10,\tnum_walks: 10,\twalk_length: 10,\tp: 0.35,\tq: 0.80\tbuilding a node2vec model...\tnumber of walks: 83280\taverage walk length: 9.9917\ttraining time: 40.2737\n",
            "auc: 0.9296\n",
            "node dim: 10,\tnum_walks: 10,\twalk_length: 10,\tp: 0.35,\tq: 1.00\tbuilding a node2vec model...\tnumber of walks: 83280\taverage walk length: 9.9917\ttraining time: 40.3943\n",
            "auc: 0.9292\n",
            "node dim: 10,\tnum_walks: 10,\twalk_length: 10,\tp: 0.35,\tq: 1.20\tbuilding a node2vec model...\tnumber of walks: 83280\taverage walk length: 9.9918\ttraining time: 39.7736\n",
            "auc: 0.9285\n",
            "node dim: 10,\tnum_walks: 10,\twalk_length: 10,\tp: 0.35,\tq: 1.40\tbuilding a node2vec model...\tnumber of walks: 83280\taverage walk length: 9.9918\ttraining time: 39.9504\n",
            "auc: 0.9283\n",
            "node dim: 10,\tnum_walks: 10,\twalk_length: 10,\tp: 0.35,\tq: 1.60\tbuilding a node2vec model...\tnumber of walks: 83280\taverage walk length: 9.9930\ttraining time: 40.3083\n",
            "auc: 0.9288\n",
            "node dim: 10,\tnum_walks: 10,\twalk_length: 10,\tp: 0.35,\tq: 1.80\tbuilding a node2vec model...\tnumber of walks: 83280\taverage walk length: 9.9917\ttraining time: 39.8840\n",
            "auc: 0.9286\n",
            "node dim: 10,\tnum_walks: 10,\twalk_length: 10,\tp: 0.40,\tq: 0.20\tbuilding a node2vec model...\tnumber of walks: 83280\taverage walk length: 9.9897\ttraining time: 40.5191\n",
            "auc: 0.9265\n",
            "node dim: 10,\tnum_walks: 10,\twalk_length: 10,\tp: 0.40,\tq: 0.40\tbuilding a node2vec model...\tnumber of walks: 83280\taverage walk length: 9.9911\ttraining time: 40.8586\n",
            "auc: 0.9280\n",
            "node dim: 10,\tnum_walks: 10,\twalk_length: 10,\tp: 0.40,\tq: 0.60\tbuilding a node2vec model...\tnumber of walks: 83280\taverage walk length: 9.9923\ttraining time: 40.4176\n",
            "auc: 0.9287\n",
            "node dim: 10,\tnum_walks: 10,\twalk_length: 10,\tp: 0.40,\tq: 0.80\tbuilding a node2vec model...\tnumber of walks: 83280\taverage walk length: 9.9927\ttraining time: 40.4557\n",
            "auc: 0.9291\n",
            "node dim: 10,\tnum_walks: 10,\twalk_length: 10,\tp: 0.40,\tq: 1.00\tbuilding a node2vec model...\tnumber of walks: 83280\taverage walk length: 9.9917\ttraining time: 40.6440\n",
            "auc: 0.9291\n",
            "node dim: 10,\tnum_walks: 10,\twalk_length: 10,\tp: 0.40,\tq: 1.20\tbuilding a node2vec model...\tnumber of walks: 83280\taverage walk length: 9.9912\ttraining time: 41.1897\n",
            "auc: 0.9280\n",
            "node dim: 10,\tnum_walks: 10,\twalk_length: 10,\tp: 0.40,\tq: 1.40\tbuilding a node2vec model...\tnumber of walks: 83280\taverage walk length: 9.9911\ttraining time: 40.5449\n",
            "auc: 0.9289\n",
            "node dim: 10,\tnum_walks: 10,\twalk_length: 10,\tp: 0.40,\tq: 1.60\tbuilding a node2vec model...\tnumber of walks: 83280\taverage walk length: 9.9914\ttraining time: 40.4714\n",
            "auc: 0.9288\n",
            "node dim: 10,\tnum_walks: 10,\twalk_length: 10,\tp: 0.40,\tq: 1.80\tbuilding a node2vec model...\tnumber of walks: 83280\taverage walk length: 9.9917\ttraining time: 40.4558\n",
            "auc: 0.9295\n",
            "node dim: 10,\tnum_walks: 10,\twalk_length: 10,\tp: 0.45,\tq: 0.20\tbuilding a node2vec model...\tnumber of walks: 83280\taverage walk length: 9.9893\ttraining time: 41.3924\n",
            "auc: 0.9253\n",
            "node dim: 10,\tnum_walks: 10,\twalk_length: 10,\tp: 0.45,\tq: 0.40\tbuilding a node2vec model...\tnumber of walks: 83280\taverage walk length: 9.9898\ttraining time: 41.3405\n",
            "auc: 0.9271\n",
            "node dim: 10,\tnum_walks: 10,\twalk_length: 10,\tp: 0.45,\tq: 0.60\tbuilding a node2vec model...\tnumber of walks: 83280\taverage walk length: 9.9920\ttraining time: 41.5538\n",
            "auc: 0.9276\n",
            "node dim: 10,\tnum_walks: 10,\twalk_length: 10,\tp: 0.45,\tq: 0.80\tbuilding a node2vec model...\tnumber of walks: 83280\taverage walk length: 9.9920\ttraining time: 40.7077\n",
            "auc: 0.9285\n",
            "node dim: 10,\tnum_walks: 10,\twalk_length: 10,\tp: 0.45,\tq: 1.00\tbuilding a node2vec model...\tnumber of walks: 83280\taverage walk length: 9.9913\ttraining time: 41.1483\n",
            "auc: 0.9283\n",
            "node dim: 10,\tnum_walks: 10,\twalk_length: 10,\tp: 0.45,\tq: 1.20\tbuilding a node2vec model...\tnumber of walks: 83280\taverage walk length: 9.9923\ttraining time: 40.5657\n",
            "auc: 0.9270\n",
            "node dim: 10,\tnum_walks: 10,\twalk_length: 10,\tp: 0.45,\tq: 1.40\tbuilding a node2vec model...\tnumber of walks: 83280\taverage walk length: 9.9919\ttraining time: 40.9193\n",
            "auc: 0.9291\n",
            "node dim: 10,\tnum_walks: 10,\twalk_length: 10,\tp: 0.45,\tq: 1.60\tbuilding a node2vec model...\tnumber of walks: 83280\taverage walk length: 9.9916\ttraining time: 40.4956\n",
            "auc: 0.9295\n",
            "node dim: 10,\tnum_walks: 10,\twalk_length: 10,\tp: 0.45,\tq: 1.80\tbuilding a node2vec model...\tnumber of walks: 83280\taverage walk length: 9.9922\ttraining time: 40.3434\n",
            "auc: 0.9292\n",
            "node dim: 10,\tnum_walks: 10,\twalk_length: 10,\tp: 0.50,\tq: 0.20\tbuilding a node2vec model...\tnumber of walks: 83280\taverage walk length: 9.9888\ttraining time: 40.6751\n",
            "auc: 0.9262\n",
            "node dim: 10,\tnum_walks: 10,\twalk_length: 10,\tp: 0.50,\tq: 0.40\tbuilding a node2vec model...\tnumber of walks: 83280\taverage walk length: 9.9913\ttraining time: 40.7735\n",
            "auc: 0.9271\n",
            "node dim: 10,\tnum_walks: 10,\twalk_length: 10,\tp: 0.50,\tq: 0.60\tbuilding a node2vec model...\tnumber of walks: 83280\taverage walk length: 9.9905\ttraining time: 40.5010\n",
            "auc: 0.9274\n",
            "node dim: 10,\tnum_walks: 10,\twalk_length: 10,\tp: 0.50,\tq: 0.80\tbuilding a node2vec model...\tnumber of walks: 83280\taverage walk length: 9.9906\ttraining time: 40.4549\n",
            "auc: 0.9284\n",
            "node dim: 10,\tnum_walks: 10,\twalk_length: 10,\tp: 0.50,\tq: 1.00\tbuilding a node2vec model...\tnumber of walks: 83280\taverage walk length: 9.9915\ttraining time: 41.0196\n",
            "auc: 0.9286\n",
            "node dim: 10,\tnum_walks: 10,\twalk_length: 10,\tp: 0.50,\tq: 1.20\tbuilding a node2vec model...\tnumber of walks: 83280\taverage walk length: 9.9916\ttraining time: 40.3008\n",
            "auc: 0.9287\n",
            "node dim: 10,\tnum_walks: 10,\twalk_length: 10,\tp: 0.50,\tq: 1.40\tbuilding a node2vec model...\tnumber of walks: 83280\taverage walk length: 9.9920\ttraining time: 40.4682\n",
            "auc: 0.9279\n",
            "node dim: 10,\tnum_walks: 10,\twalk_length: 10,\tp: 0.50,\tq: 1.60\tbuilding a node2vec model...\tnumber of walks: 83280\taverage walk length: 9.9923\ttraining time: 40.1564\n",
            "auc: 0.9281\n",
            "node dim: 10,\tnum_walks: 10,\twalk_length: 10,\tp: 0.50,\tq: 1.80\tbuilding a node2vec model...\tnumber of walks: 83280\taverage walk length: 9.9915\ttraining time: 40.7462\n",
            "auc: 0.9302\n"
          ],
          "name": "stdout"
        }
      ]
    },
    {
      "cell_type": "code",
      "metadata": {
        "colab": {
          "base_uri": "https://localhost:8080/"
        },
        "id": "hpp5RkmXGdaR",
        "outputId": "bf7d444d-7b19-4ca5-ee23-35dbca51ad65"
      },
      "source": [
        "node2vec_auc_scores"
      ],
      "execution_count": null,
      "outputs": [
        {
          "output_type": "execute_result",
          "data": {
            "text/plain": [
              "{(10, 10, 10, 0.1, 0.2): 0.9281319571945796,\n",
              " (10, 10, 10, 0.1, 0.4): 0.9287766220117821,\n",
              " (10, 10, 10, 0.1, 0.6): 0.9278474260480369,\n",
              " (10, 10, 10, 0.1, 0.8): 0.929150550411309,\n",
              " (10, 10, 10, 0.1, 1.0): 0.928995843171679,\n",
              " (10, 10, 10, 0.1, 1.2): 0.9290547470769944,\n",
              " (10, 10, 10, 0.1, 1.4): 0.927856530744324,\n",
              " (10, 10, 10, 0.1, 1.6): 0.9288634558308928,\n",
              " (10, 10, 10, 0.1, 1.8): 0.9273017275521598,\n",
              " (10, 10, 10, 0.15, 0.2): 0.9266133566880852,\n",
              " (10, 10, 10, 0.15, 0.4): 0.9274813531714543,\n",
              " (10, 10, 10, 0.15, 0.6): 0.9267753511894394,\n",
              " (10, 10, 10, 0.15, 0.8): 0.9284355351054059,\n",
              " (10, 10, 10, 0.15, 1.0): 0.9287189284778317,\n",
              " (10, 10, 10, 0.15, 1.2): 0.9291297287694705,\n",
              " (10, 10, 10, 0.15, 1.4): 0.9286071136952214,\n",
              " (10, 10, 10, 0.15, 1.6): 0.9298199721418824,\n",
              " (10, 10, 10, 0.15, 1.8): 0.9296081421328755,\n",
              " (10, 10, 10, 0.2, 0.2): 0.9262894252625046,\n",
              " (10, 10, 10, 0.2, 0.4): 0.9275582349091549,\n",
              " (10, 10, 10, 0.2, 0.6): 0.9291230598360339,\n",
              " (10, 10, 10, 0.2, 0.8): 0.926877252692617,\n",
              " (10, 10, 10, 0.2, 1.0): 0.9299639475055206,\n",
              " (10, 10, 10, 0.2, 1.2): 0.929835864680892,\n",
              " (10, 10, 10, 0.2, 1.4): 0.9294707380718916,\n",
              " (10, 10, 10, 0.2, 1.6): 0.9291816395570851,\n",
              " (10, 10, 10, 0.2, 1.8): 0.9288351015986975,\n",
              " (10, 10, 10, 0.25, 0.2): 0.9268469107978283,\n",
              " (10, 10, 10, 0.25, 0.4): 0.9290191631602029,\n",
              " (10, 10, 10, 0.25, 0.6): 0.9268295200018135,\n",
              " (10, 10, 10, 0.25, 0.8): 0.9286835811279357,\n",
              " (10, 10, 10, 0.25, 1.0): 0.929152695785166,\n",
              " (10, 10, 10, 0.25, 1.2): 0.9281175228589209,\n",
              " (10, 10, 10, 0.25, 1.4): 0.9286661627950337,\n",
              " (10, 10, 10, 0.25, 1.6): 0.9294766472375735,\n",
              " (10, 10, 10, 0.25, 1.8): 0.9297256820846934,\n",
              " (10, 10, 10, 0.3, 0.2): 0.9262773240522074,\n",
              " (10, 10, 10, 0.3, 0.4): 0.9285404594078043,\n",
              " (10, 10, 10, 0.3, 0.6): 0.9247072683684157,\n",
              " (10, 10, 10, 0.3, 0.8): 0.92883421791495,\n",
              " (10, 10, 10, 0.3, 1.0): 0.9287002972702112,\n",
              " (10, 10, 10, 0.3, 1.2): 0.9278360082532155,\n",
              " (10, 10, 10, 0.3, 1.4): 0.9282227212785159,\n",
              " (10, 10, 10, 0.3, 1.6): 0.9301256391011143,\n",
              " (10, 10, 10, 0.3, 1.8): 0.9284897852767653,\n",
              " (10, 10, 10, 0.35, 0.2): 0.9275591386197295,\n",
              " (10, 10, 10, 0.35, 0.4): 0.9262380138938917,\n",
              " (10, 10, 10, 0.35, 0.6): 0.9262521928875044,\n",
              " (10, 10, 10, 0.35, 0.8): 0.9295909866520796,\n",
              " (10, 10, 10, 0.35, 1.0): 0.9291769345043848,\n",
              " (10, 10, 10, 0.35, 1.2): 0.9284533890217981,\n",
              " (10, 10, 10, 0.35, 1.4): 0.9283142376201464,\n",
              " (10, 10, 10, 0.35, 1.6): 0.92882241710706,\n",
              " (10, 10, 10, 0.35, 1.8): 0.9285621096596157,\n",
              " (10, 10, 10, 0.4, 0.2): 0.926532754967244,\n",
              " (10, 10, 10, 0.4, 0.4): 0.9279703256794671,\n",
              " (10, 10, 10, 0.4, 0.6): 0.9287391530698863,\n",
              " (10, 10, 10, 0.4, 0.8): 0.9290938194167379,\n",
              " (10, 10, 10, 0.4, 1.0): 0.9291165698923649,\n",
              " (10, 10, 10, 0.4, 1.2): 0.9279694282272761,\n",
              " (10, 10, 10, 0.4, 1.4): 0.9289023654526657,\n",
              " (10, 10, 10, 0.4, 1.6): 0.9287558642054551,\n",
              " (10, 10, 10, 0.4, 1.8): 0.9294604593028639,\n",
              " (10, 10, 10, 0.45, 0.2): 0.9252794473364739,\n",
              " (10, 10, 10, 0.45, 0.4): 0.9271319801653504,\n",
              " (10, 10, 10, 0.45, 0.6): 0.9276142424345957,\n",
              " (10, 10, 10, 0.45, 0.8): 0.9284734120939044,\n",
              " (10, 10, 10, 0.45, 1.0): 0.9282764645208135,\n",
              " (10, 10, 10, 0.45, 1.2): 0.9269629011738965,\n",
              " (10, 10, 10, 0.45, 1.4): 0.9291249023041306,\n",
              " (10, 10, 10, 0.45, 1.6): 0.9295115677657163,\n",
              " (10, 10, 10, 0.45, 1.8): 0.9291675481808412,\n",
              " (10, 10, 10, 0.5, 0.2): 0.9262351250240773,\n",
              " (10, 10, 10, 0.5, 0.4): 0.9271460840583612,\n",
              " (10, 10, 10, 0.5, 0.6): 0.9273556397708114,\n",
              " (10, 10, 10, 0.5, 0.8): 0.9284053922272119,\n",
              " (10, 10, 10, 0.5, 1.0): 0.9285728202571036,\n",
              " (10, 10, 10, 0.5, 1.2): 0.9287362153846808,\n",
              " (10, 10, 10, 0.5, 1.4): 0.9279364991167569,\n",
              " (10, 10, 10, 0.5, 1.6): 0.9280641075559175,\n",
              " (10, 10, 10, 0.5, 1.8): 0.9301831974539814}"
            ]
          },
          "metadata": {
            "tags": []
          },
          "execution_count": 32
        }
      ]
    },
    {
      "cell_type": "code",
      "metadata": {
        "colab": {
          "base_uri": "https://localhost:8080/",
          "height": 296
        },
        "id": "KV6jn38kGkKw",
        "outputId": "7170ebf8-34d0-4cc9-ea61-e171563cf9bb"
      },
      "source": [
        "# a = np.array([[node2vec_auc_scores[(node_dim, num_walks, walk_length, pi, pi)] for pi in [0.2, 0.4, 0.6, 0.8, 1.0, 1.2, 1.4, 1.6, 1.8]]])\n",
        "a = np.array([[node2vec_auc_scores[(node_dim, num_walks, walk_length, pi, qi)] for pi in [0.1, 0.15, 0.2, 0.25, 0.3, 0.35, 0.4, 0.45, 0.5]] for qi in [0.2, 0.4, 0.6, 0.8, 1.0, 1.2, 1.4, 1.6, 1.8]])\n",
        "plt.imshow(a, cmap=\"hot\", interpolation=\"nearest\")\n",
        "plt.colorbar()\n",
        "plt.xticks(ticks=[0, 1, 2, 3, 4, 5, 6, 7, 8], labels=[0.1, 0.15, 0.2, 0.25, 0.3, 0.35, 0.4, 0.45, 0.5])\n",
        "plt.xlabel(\"p\")\n",
        "plt.yticks(ticks=[0, 1, 2, 3, 4, 5, 6, 7, 8], labels=[0.2, 0.4, 0.6, 0.8, 1.0, 1.2, 1.4, 1.6, 1.8])\n",
        "plt.ylabel(\"q\")"
      ],
      "execution_count": null,
      "outputs": [
        {
          "output_type": "execute_result",
          "data": {
            "text/plain": [
              "Text(0, 0.5, 'q')"
            ]
          },
          "metadata": {
            "tags": []
          },
          "execution_count": 45
        },
        {
          "output_type": "display_data",
          "data": {
            "image/png": "[encoded data removed]",
            "text/plain": [
              "<Figure size 432x288 with 2 Axes>"
            ]
          },
          "metadata": {
            "tags": [],
            "needs_background": "light"
          }
        }
      ]
    },
    {
      "cell_type": "markdown",
      "metadata": {
        "id": "piQBiR87TILT"
      },
      "source": [
        "## num_walks, walk_length"
      ]
    },
    {
      "cell_type": "code",
      "metadata": {
        "id": "TN9ditUqIlVY"
      },
      "source": [
        "np.random.seed(0)\n",
        "\n",
        "node_dim = 10\n",
        "num_walks = 10\n",
        "walk_length = 10\n",
        "p = 0.5\n",
        "q = 0.5"
      ],
      "execution_count": null,
      "outputs": []
    },
    {
      "cell_type": "code",
      "metadata": {
        "colab": {
          "base_uri": "https://localhost:8080/"
        },
        "id": "XbfiXmVKHrXH",
        "outputId": "daac3a48-0a9e-4b56-d398-72bbc0522fc7"
      },
      "source": [
        "walk_length_list = [10, 20, 40]\n",
        "num_walks_list = [5, 10, 20, 40]\n",
        "\n",
        "for walk_length_i in walk_length_list:\n",
        "    for num_walks_i in num_walks_list:\n",
        "        print(\"node dim: %d,\\tnum_walks: %d,\\twalk_length: %d,\\tp: %.2f,\\tq: %.2f\" % (\n",
        "            node_dim, num_walks_i, walk_length_i, p, q), end=\"\\t\")\n",
        "        alias_nodes, alias_edges = preprocess_transition_probs(graph, p=p, q=q)\n",
        "        model = build_node2vec(graph, alias_nodes, alias_edges, \n",
        "                              node_dim=node_dim, num_walks=num_walks_i, walk_length=walk_length_i)\n",
        "        node2vec_auc_scores[(node_dim, num_walks_i, walk_length_i, p, q)] = get_auc_score(model, valid_edges, false_edges)\n",
        "        print(\"auc: %.4f\" % (node2vec_auc_scores[(node_dim, num_walks_i, walk_length_i, p, q)]))"
      ],
      "execution_count": null,
      "outputs": [
        {
          "output_type": "stream",
          "text": [
            "node dim: 10,\tnum_walks: 5,\twalk_length: 10,\tp: 0.50,\tq: 0.50\tbuilding a node2vec model...\tnumber of walks: 41640\taverage walk length: 9.9919\ttraining time: 20.9839\n",
            "auc: 0.9156\n",
            "node dim: 10,\tnum_walks: 10,\twalk_length: 10,\tp: 0.50,\tq: 0.50\tbuilding a node2vec model...\tnumber of walks: 83280\taverage walk length: 9.9918\ttraining time: 40.6293\n",
            "auc: 0.9277\n",
            "node dim: 10,\tnum_walks: 20,\twalk_length: 10,\tp: 0.50,\tq: 0.50\tbuilding a node2vec model...\tnumber of walks: 166560\taverage walk length: 9.9915\ttraining time: 80.4299\n",
            "auc: 0.9301\n",
            "node dim: 10,\tnum_walks: 40,\twalk_length: 10,\tp: 0.50,\tq: 0.50\tbuilding a node2vec model...\tnumber of walks: 333120\taverage walk length: 9.9912\ttraining time: 159.3337\n",
            "auc: 0.9295\n",
            "node dim: 10,\tnum_walks: 5,\twalk_length: 20,\tp: 0.50,\tq: 0.50\tbuilding a node2vec model...\tnumber of walks: 41640\taverage walk length: 19.9671\ttraining time: 36.4944\n",
            "auc: 0.9266\n",
            "node dim: 10,\tnum_walks: 10,\twalk_length: 20,\tp: 0.50,\tq: 0.50\tbuilding a node2vec model...\tnumber of walks: 83280\taverage walk length: 19.9665\ttraining time: 71.9854\n",
            "auc: 0.9308\n",
            "node dim: 10,\tnum_walks: 20,\twalk_length: 20,\tp: 0.50,\tq: 0.50\tbuilding a node2vec model...\tnumber of walks: 166560\taverage walk length: 19.9677\ttraining time: 142.8782\n",
            "auc: 0.9300\n",
            "node dim: 10,\tnum_walks: 40,\twalk_length: 20,\tp: 0.50,\tq: 0.50\tbuilding a node2vec model...\tnumber of walks: 333120\taverage walk length: 19.9678\ttraining time: 283.1312\n",
            "auc: 0.9282\n",
            "node dim: 10,\tnum_walks: 5,\twalk_length: 40,\tp: 0.50,\tq: 0.50\tbuilding a node2vec model...\tnumber of walks: 41640\taverage walk length: 39.8780\ttraining time: 65.8725\n",
            "auc: 0.9303\n",
            "node dim: 10,\tnum_walks: 10,\twalk_length: 40,\tp: 0.50,\tq: 0.50\tbuilding a node2vec model...\tnumber of walks: 83280\taverage walk length: 39.8755\ttraining time: 130.7813\n",
            "auc: 0.9293\n",
            "node dim: 10,\tnum_walks: 20,\twalk_length: 40,\tp: 0.50,\tq: 0.50\tbuilding a node2vec model...\tnumber of walks: 166560\taverage walk length: 39.8758\ttraining time: 258.7951\n",
            "auc: 0.9269\n",
            "node dim: 10,\tnum_walks: 40,\twalk_length: 40,\tp: 0.50,\tq: 0.50\tbuilding a node2vec model...\tnumber of walks: 333120\taverage walk length: 39.8776\ttraining time: 519.1325\n",
            "auc: 0.9241\n"
          ],
          "name": "stdout"
        }
      ]
    },
    {
      "cell_type": "code",
      "metadata": {
        "colab": {
          "base_uri": "https://localhost:8080/"
        },
        "id": "9txyzH8j-ZMS",
        "outputId": "dee1af9b-c285-44e7-a254-7b8055c840af"
      },
      "source": [
        "node2vec_auc_scores"
      ],
      "execution_count": null,
      "outputs": [
        {
          "output_type": "execute_result",
          "data": {
            "text/plain": [
              "{(10, 5, 10, 0.5, 0.5): 0.9156324696310187,\n",
              " (10, 5, 20, 0.5, 0.5): 0.9265705330732836,\n",
              " (10, 5, 40, 0.5, 0.5): 0.9303374102813164,\n",
              " (10, 10, 10, 0.1, 0.2): 0.9281319571945796,\n",
              " (10, 10, 10, 0.1, 0.4): 0.9287766220117821,\n",
              " (10, 10, 10, 0.1, 0.6): 0.9278474260480369,\n",
              " (10, 10, 10, 0.1, 0.8): 0.929150550411309,\n",
              " (10, 10, 10, 0.1, 1.0): 0.928995843171679,\n",
              " (10, 10, 10, 0.1, 1.2): 0.9290547470769944,\n",
              " (10, 10, 10, 0.1, 1.4): 0.927856530744324,\n",
              " (10, 10, 10, 0.1, 1.6): 0.9288634558308928,\n",
              " (10, 10, 10, 0.1, 1.8): 0.9273017275521598,\n",
              " (10, 10, 10, 0.15, 0.2): 0.9266133566880852,\n",
              " (10, 10, 10, 0.15, 0.4): 0.9274813531714543,\n",
              " (10, 10, 10, 0.15, 0.6): 0.9267753511894394,\n",
              " (10, 10, 10, 0.15, 0.8): 0.9284355351054059,\n",
              " (10, 10, 10, 0.15, 1.0): 0.9287189284778317,\n",
              " (10, 10, 10, 0.15, 1.2): 0.9291297287694705,\n",
              " (10, 10, 10, 0.15, 1.4): 0.9286071136952214,\n",
              " (10, 10, 10, 0.15, 1.6): 0.9298199721418824,\n",
              " (10, 10, 10, 0.15, 1.8): 0.9296081421328755,\n",
              " (10, 10, 10, 0.2, 0.2): 0.9262894252625046,\n",
              " (10, 10, 10, 0.2, 0.4): 0.9275582349091549,\n",
              " (10, 10, 10, 0.2, 0.6): 0.9291230598360339,\n",
              " (10, 10, 10, 0.2, 0.8): 0.926877252692617,\n",
              " (10, 10, 10, 0.2, 1.0): 0.9299639475055206,\n",
              " (10, 10, 10, 0.2, 1.2): 0.929835864680892,\n",
              " (10, 10, 10, 0.2, 1.4): 0.9294707380718916,\n",
              " (10, 10, 10, 0.2, 1.6): 0.9291816395570851,\n",
              " (10, 10, 10, 0.2, 1.8): 0.9288351015986975,\n",
              " (10, 10, 10, 0.25, 0.2): 0.9268469107978283,\n",
              " (10, 10, 10, 0.25, 0.4): 0.9290191631602029,\n",
              " (10, 10, 10, 0.25, 0.6): 0.9268295200018135,\n",
              " (10, 10, 10, 0.25, 0.8): 0.9286835811279357,\n",
              " (10, 10, 10, 0.25, 1.0): 0.929152695785166,\n",
              " (10, 10, 10, 0.25, 1.2): 0.9281175228589209,\n",
              " (10, 10, 10, 0.25, 1.4): 0.9286661627950337,\n",
              " (10, 10, 10, 0.25, 1.6): 0.9294766472375735,\n",
              " (10, 10, 10, 0.25, 1.8): 0.9297256820846934,\n",
              " (10, 10, 10, 0.3, 0.2): 0.9262773240522074,\n",
              " (10, 10, 10, 0.3, 0.4): 0.9285404594078043,\n",
              " (10, 10, 10, 0.3, 0.6): 0.9247072683684157,\n",
              " (10, 10, 10, 0.3, 0.8): 0.92883421791495,\n",
              " (10, 10, 10, 0.3, 1.0): 0.9287002972702112,\n",
              " (10, 10, 10, 0.3, 1.2): 0.9278360082532155,\n",
              " (10, 10, 10, 0.3, 1.4): 0.9282227212785159,\n",
              " (10, 10, 10, 0.3, 1.6): 0.9301256391011143,\n",
              " (10, 10, 10, 0.3, 1.8): 0.9284897852767653,\n",
              " (10, 10, 10, 0.35, 0.2): 0.9275591386197295,\n",
              " (10, 10, 10, 0.35, 0.4): 0.9262380138938917,\n",
              " (10, 10, 10, 0.35, 0.6): 0.9262521928875044,\n",
              " (10, 10, 10, 0.35, 0.8): 0.9295909866520796,\n",
              " (10, 10, 10, 0.35, 1.0): 0.9291769345043848,\n",
              " (10, 10, 10, 0.35, 1.2): 0.9284533890217981,\n",
              " (10, 10, 10, 0.35, 1.4): 0.9283142376201464,\n",
              " (10, 10, 10, 0.35, 1.6): 0.92882241710706,\n",
              " (10, 10, 10, 0.35, 1.8): 0.9285621096596157,\n",
              " (10, 10, 10, 0.4, 0.2): 0.926532754967244,\n",
              " (10, 10, 10, 0.4, 0.4): 0.9279703256794671,\n",
              " (10, 10, 10, 0.4, 0.6): 0.9287391530698863,\n",
              " (10, 10, 10, 0.4, 0.8): 0.9290938194167379,\n",
              " (10, 10, 10, 0.4, 1.0): 0.9291165698923649,\n",
              " (10, 10, 10, 0.4, 1.2): 0.9279694282272761,\n",
              " (10, 10, 10, 0.4, 1.4): 0.9289023654526657,\n",
              " (10, 10, 10, 0.4, 1.6): 0.9287558642054551,\n",
              " (10, 10, 10, 0.4, 1.8): 0.9294604593028639,\n",
              " (10, 10, 10, 0.45, 0.2): 0.9252794473364739,\n",
              " (10, 10, 10, 0.45, 0.4): 0.9271319801653504,\n",
              " (10, 10, 10, 0.45, 0.6): 0.9276142424345957,\n",
              " (10, 10, 10, 0.45, 0.8): 0.9284734120939044,\n",
              " (10, 10, 10, 0.45, 1.0): 0.9282764645208135,\n",
              " (10, 10, 10, 0.45, 1.2): 0.9269629011738965,\n",
              " (10, 10, 10, 0.45, 1.4): 0.9291249023041306,\n",
              " (10, 10, 10, 0.45, 1.6): 0.9295115677657163,\n",
              " (10, 10, 10, 0.45, 1.8): 0.9291675481808412,\n",
              " (10, 10, 10, 0.5, 0.2): 0.9262351250240773,\n",
              " (10, 10, 10, 0.5, 0.4): 0.9271460840583612,\n",
              " (10, 10, 10, 0.5, 0.5): 0.9277043506399433,\n",
              " (10, 10, 10, 0.5, 0.6): 0.9273556397708114,\n",
              " (10, 10, 10, 0.5, 0.8): 0.9284053922272119,\n",
              " (10, 10, 10, 0.5, 1.0): 0.9285728202571036,\n",
              " (10, 10, 10, 0.5, 1.2): 0.9287362153846808,\n",
              " (10, 10, 10, 0.5, 1.4): 0.9279364991167569,\n",
              " (10, 10, 10, 0.5, 1.6): 0.9280641075559175,\n",
              " (10, 10, 10, 0.5, 1.8): 0.9301831974539814,\n",
              " (10, 10, 20, 0.5, 0.5): 0.9307906098693566,\n",
              " (10, 10, 40, 0.5, 0.5): 0.929317718092448,\n",
              " (10, 20, 10, 0.5, 0.5): 0.9300915409245609,\n",
              " (10, 20, 20, 0.5, 0.5): 0.9300412823501849,\n",
              " (10, 20, 40, 0.5, 0.5): 0.9268824671777326,\n",
              " (10, 40, 10, 0.5, 0.5): 0.9295154154198798,\n",
              " (10, 40, 20, 0.5, 0.5): 0.9282201903882366,\n",
              " (10, 40, 40, 0.5, 0.5): 0.9241109508152741}"
            ]
          },
          "metadata": {
            "tags": []
          },
          "execution_count": 36
        }
      ]
    },
    {
      "cell_type": "code",
      "metadata": {
        "colab": {
          "base_uri": "https://localhost:8080/",
          "height": 297
        },
        "id": "2CowrCoWMx-2",
        "outputId": "7f1242f3-bd2f-4a25-9160-829ea1eefb54"
      },
      "source": [
        "plt.figure(figsize=(6, 4))\n",
        "a = np.array([[node2vec_auc_scores[(node_dim, num_walks, walk_length, p, q)] for walk_length in [10, 20, 40]] for num_walks in [5, 10, 20, 40]])\n",
        "plt.imshow(a, cmap=\"hot\", interpolation=\"nearest\")\n",
        "plt.colorbar()\n",
        "plt.xticks(ticks=[0,1,2], labels=[10, 20, 40])\n",
        "plt.xlabel(\"walk_length\")\n",
        "plt.yticks(ticks=[0,1,2,3], labels=[5, 10, 20, 40])\n",
        "plt.ylabel(\"num_walks\")"
      ],
      "execution_count": null,
      "outputs": [
        {
          "output_type": "execute_result",
          "data": {
            "text/plain": [
              "Text(0, 0.5, 'num_walks')"
            ]
          },
          "metadata": {
            "tags": []
          },
          "execution_count": 37
        },
        {
          "output_type": "display_data",
          "data": {
            "image/png": "[encoded data removed]",
            "text/plain": [
              "<Figure size 432x288 with 2 Axes>"
            ]
          },
          "metadata": {
            "tags": [],
            "needs_background": "light"
          }
        }
      ]
    },
    {
      "cell_type": "markdown",
      "metadata": {
        "id": "EL2sLZS1TOvn"
      },
      "source": [
        "## node_dim"
      ]
    },
    {
      "cell_type": "code",
      "metadata": {
        "id": "o7IXJ-WbTU2w"
      },
      "source": [
        "np.random.seed(0)\n",
        "\n",
        "node_dim = 10\n",
        "num_walks = 10\n",
        "walk_length = 10\n",
        "p = 0.5\n",
        "q = 0.5"
      ],
      "execution_count": null,
      "outputs": []
    },
    {
      "cell_type": "code",
      "metadata": {
        "colab": {
          "base_uri": "https://localhost:8080/"
        },
        "id": "1KjjNb06TU8r",
        "outputId": "d94a720a-2528-4a23-cd94-ec795ccf368d"
      },
      "source": [
        "node_dim_list = [5, 10, 20, 30, 40]\n",
        "\n",
        "for node_dim_i in node_dim_list:\n",
        "    print(\"node dim: %d,\\tnum_walks: %d,\\twalk_length: %d,\\tp: %.2f,\\tq: %.2f\" % (\n",
        "        node_dim_i, num_walks, walk_length, p, q), end=\"\\t\")\n",
        "    alias_nodes, alias_edges = preprocess_transition_probs(graph, p=p, q=q)\n",
        "    model = build_node2vec(graph, alias_nodes, alias_edges, \n",
        "                          node_dim=node_dim_i, num_walks=num_walks, walk_length=walk_length)\n",
        "    node2vec_auc_scores[(node_dim_i, num_walks, walk_length, p, q)] = get_auc_score(model, valid_edges, false_edges)\n",
        "    print(\"auc: %.4f\" % (node2vec_auc_scores[(node_dim_i, num_walks, walk_length, p, q)]))"
      ],
      "execution_count": null,
      "outputs": [
        {
          "output_type": "stream",
          "text": [
            "node dim: 5,\tnum_walks: 10,\twalk_length: 10,\tp: 0.50,\tq: 0.50\tbuilding a node2vec model...\tnumber of walks: 83280\taverage walk length: 9.9918\ttraining time: 37.7843\n",
            "auc: 0.9154\n",
            "node dim: 10,\tnum_walks: 10,\twalk_length: 10,\tp: 0.50,\tq: 0.50\tbuilding a node2vec model...\tnumber of walks: 83280\taverage walk length: 9.9918\ttraining time: 39.9705\n",
            "auc: 0.9278\n",
            "node dim: 20,\tnum_walks: 10,\twalk_length: 10,\tp: 0.50,\tq: 0.50\tbuilding a node2vec model...\tnumber of walks: 83280\taverage walk length: 9.9918\ttraining time: 47.2556\n",
            "auc: 0.9095\n",
            "node dim: 30,\tnum_walks: 10,\twalk_length: 10,\tp: 0.50,\tq: 0.50\tbuilding a node2vec model...\tnumber of walks: 83280\taverage walk length: 9.9918\ttraining time: 53.1946\n",
            "auc: 0.8848\n",
            "node dim: 40,\tnum_walks: 10,\twalk_length: 10,\tp: 0.50,\tq: 0.50\tbuilding a node2vec model...\tnumber of walks: 83280\taverage walk length: 9.9918\ttraining time: 44.8878\n",
            "auc: 0.8568\n"
          ],
          "name": "stdout"
        }
      ]
    },
    {
      "cell_type": "code",
      "metadata": {
        "colab": {
          "base_uri": "https://localhost:8080/"
        },
        "id": "8zvSXMbX-dY6",
        "outputId": "176fe059-9194-4fe2-e40f-6c978acbaf10"
      },
      "source": [
        "node2vec_auc_scores"
      ],
      "execution_count": null,
      "outputs": [
        {
          "output_type": "execute_result",
          "data": {
            "text/plain": [
              "{(5, 10, 10, 0.5, 0.5): 0.9154200788708522,\n",
              " (10, 5, 10, 0.5, 0.5): 0.9156324696310187,\n",
              " (10, 5, 20, 0.5, 0.5): 0.9265705330732836,\n",
              " (10, 5, 40, 0.5, 0.5): 0.9303374102813164,\n",
              " (10, 10, 10, 0.1, 0.2): 0.9281319571945796,\n",
              " (10, 10, 10, 0.1, 0.4): 0.9287766220117821,\n",
              " (10, 10, 10, 0.1, 0.6): 0.9278474260480369,\n",
              " (10, 10, 10, 0.1, 0.8): 0.929150550411309,\n",
              " (10, 10, 10, 0.1, 1.0): 0.928995843171679,\n",
              " (10, 10, 10, 0.1, 1.2): 0.9290547470769944,\n",
              " (10, 10, 10, 0.1, 1.4): 0.927856530744324,\n",
              " (10, 10, 10, 0.1, 1.6): 0.9288634558308928,\n",
              " (10, 10, 10, 0.1, 1.8): 0.9273017275521598,\n",
              " (10, 10, 10, 0.15, 0.2): 0.9266133566880852,\n",
              " (10, 10, 10, 0.15, 0.4): 0.9274813531714543,\n",
              " (10, 10, 10, 0.15, 0.6): 0.9267753511894394,\n",
              " (10, 10, 10, 0.15, 0.8): 0.9284355351054059,\n",
              " (10, 10, 10, 0.15, 1.0): 0.9287189284778317,\n",
              " (10, 10, 10, 0.15, 1.2): 0.9291297287694705,\n",
              " (10, 10, 10, 0.15, 1.4): 0.9286071136952214,\n",
              " (10, 10, 10, 0.15, 1.6): 0.9298199721418824,\n",
              " (10, 10, 10, 0.15, 1.8): 0.9296081421328755,\n",
              " (10, 10, 10, 0.2, 0.2): 0.9262894252625046,\n",
              " (10, 10, 10, 0.2, 0.4): 0.9275582349091549,\n",
              " (10, 10, 10, 0.2, 0.6): 0.9291230598360339,\n",
              " (10, 10, 10, 0.2, 0.8): 0.926877252692617,\n",
              " (10, 10, 10, 0.2, 1.0): 0.9299639475055206,\n",
              " (10, 10, 10, 0.2, 1.2): 0.929835864680892,\n",
              " (10, 10, 10, 0.2, 1.4): 0.9294707380718916,\n",
              " (10, 10, 10, 0.2, 1.6): 0.9291816395570851,\n",
              " (10, 10, 10, 0.2, 1.8): 0.9288351015986975,\n",
              " (10, 10, 10, 0.25, 0.2): 0.9268469107978283,\n",
              " (10, 10, 10, 0.25, 0.4): 0.9290191631602029,\n",
              " (10, 10, 10, 0.25, 0.6): 0.9268295200018135,\n",
              " (10, 10, 10, 0.25, 0.8): 0.9286835811279357,\n",
              " (10, 10, 10, 0.25, 1.0): 0.929152695785166,\n",
              " (10, 10, 10, 0.25, 1.2): 0.9281175228589209,\n",
              " (10, 10, 10, 0.25, 1.4): 0.9286661627950337,\n",
              " (10, 10, 10, 0.25, 1.6): 0.9294766472375735,\n",
              " (10, 10, 10, 0.25, 1.8): 0.9297256820846934,\n",
              " (10, 10, 10, 0.3, 0.2): 0.9262773240522074,\n",
              " (10, 10, 10, 0.3, 0.4): 0.9285404594078043,\n",
              " (10, 10, 10, 0.3, 0.6): 0.9247072683684157,\n",
              " (10, 10, 10, 0.3, 0.8): 0.92883421791495,\n",
              " (10, 10, 10, 0.3, 1.0): 0.9287002972702112,\n",
              " (10, 10, 10, 0.3, 1.2): 0.9278360082532155,\n",
              " (10, 10, 10, 0.3, 1.4): 0.9282227212785159,\n",
              " (10, 10, 10, 0.3, 1.6): 0.9301256391011143,\n",
              " (10, 10, 10, 0.3, 1.8): 0.9284897852767653,\n",
              " (10, 10, 10, 0.35, 0.2): 0.9275591386197295,\n",
              " (10, 10, 10, 0.35, 0.4): 0.9262380138938917,\n",
              " (10, 10, 10, 0.35, 0.6): 0.9262521928875044,\n",
              " (10, 10, 10, 0.35, 0.8): 0.9295909866520796,\n",
              " (10, 10, 10, 0.35, 1.0): 0.9291769345043848,\n",
              " (10, 10, 10, 0.35, 1.2): 0.9284533890217981,\n",
              " (10, 10, 10, 0.35, 1.4): 0.9283142376201464,\n",
              " (10, 10, 10, 0.35, 1.6): 0.92882241710706,\n",
              " (10, 10, 10, 0.35, 1.8): 0.9285621096596157,\n",
              " (10, 10, 10, 0.4, 0.2): 0.926532754967244,\n",
              " (10, 10, 10, 0.4, 0.4): 0.9279703256794671,\n",
              " (10, 10, 10, 0.4, 0.6): 0.9287391530698863,\n",
              " (10, 10, 10, 0.4, 0.8): 0.9290938194167379,\n",
              " (10, 10, 10, 0.4, 1.0): 0.9291165698923649,\n",
              " (10, 10, 10, 0.4, 1.2): 0.9279694282272761,\n",
              " (10, 10, 10, 0.4, 1.4): 0.9289023654526657,\n",
              " (10, 10, 10, 0.4, 1.6): 0.9287558642054551,\n",
              " (10, 10, 10, 0.4, 1.8): 0.9294604593028639,\n",
              " (10, 10, 10, 0.45, 0.2): 0.9252794473364739,\n",
              " (10, 10, 10, 0.45, 0.4): 0.9271319801653504,\n",
              " (10, 10, 10, 0.45, 0.6): 0.9276142424345957,\n",
              " (10, 10, 10, 0.45, 0.8): 0.9284734120939044,\n",
              " (10, 10, 10, 0.45, 1.0): 0.9282764645208135,\n",
              " (10, 10, 10, 0.45, 1.2): 0.9269629011738965,\n",
              " (10, 10, 10, 0.45, 1.4): 0.9291249023041306,\n",
              " (10, 10, 10, 0.45, 1.6): 0.9295115677657163,\n",
              " (10, 10, 10, 0.45, 1.8): 0.9291675481808412,\n",
              " (10, 10, 10, 0.5, 0.2): 0.9262351250240773,\n",
              " (10, 10, 10, 0.5, 0.4): 0.9271460840583612,\n",
              " (10, 10, 10, 0.5, 0.5): 0.9278193021243536,\n",
              " (10, 10, 10, 0.5, 0.6): 0.9273556397708114,\n",
              " (10, 10, 10, 0.5, 0.8): 0.9284053922272119,\n",
              " (10, 10, 10, 0.5, 1.0): 0.9285728202571036,\n",
              " (10, 10, 10, 0.5, 1.2): 0.9287362153846808,\n",
              " (10, 10, 10, 0.5, 1.4): 0.9279364991167569,\n",
              " (10, 10, 10, 0.5, 1.6): 0.9280641075559175,\n",
              " (10, 10, 10, 0.5, 1.8): 0.9301831974539814,\n",
              " (10, 10, 20, 0.5, 0.5): 0.9307906098693566,\n",
              " (10, 10, 40, 0.5, 0.5): 0.929317718092448,\n",
              " (10, 20, 10, 0.5, 0.5): 0.9300915409245609,\n",
              " (10, 20, 20, 0.5, 0.5): 0.9300412823501849,\n",
              " (10, 20, 40, 0.5, 0.5): 0.9268824671777326,\n",
              " (10, 40, 10, 0.5, 0.5): 0.9295154154198798,\n",
              " (10, 40, 20, 0.5, 0.5): 0.9282201903882366,\n",
              " (10, 40, 40, 0.5, 0.5): 0.9241109508152741,\n",
              " (20, 10, 10, 0.5, 0.5): 0.9094605870239537,\n",
              " (30, 10, 10, 0.5, 0.5): 0.8848457114211914,\n",
              " (40, 10, 10, 0.5, 0.5): 0.8567637627159839}"
            ]
          },
          "metadata": {
            "tags": []
          },
          "execution_count": 40
        }
      ]
    },
    {
      "cell_type": "code",
      "metadata": {
        "colab": {
          "base_uri": "https://localhost:8080/",
          "height": 265
        },
        "id": "f-cq4OtkUuOq",
        "outputId": "26da8a39-cb4f-4f93-b268-2653649a2d83"
      },
      "source": [
        "a = np.array([[node2vec_auc_scores[(node_dim, num_walks, walk_length, p, q)] for node_dim in [5, 10, 20, 30, 40]]])\n",
        "plt.imshow(a, cmap=\"hot\", interpolation=\"nearest\")\n",
        "plt.colorbar()\n",
        "plt.xticks(ticks=[0,1,2, 3, 4], labels=[5, 10, 20, 30, 40])\n",
        "plt.xlabel(\"node_dim\")\n",
        "plt.yticks(ticks=[0], labels=[0])\n",
        "plt.ylabel(\" \")"
      ],
      "execution_count": null,
      "outputs": [
        {
          "output_type": "execute_result",
          "data": {
            "text/plain": [
              "Text(0, 0.5, ' ')"
            ]
          },
          "metadata": {
            "tags": []
          },
          "execution_count": 41
        },
        {
          "output_type": "display_data",
          "data": {
            "image/png": "[encoded data removed]",
            "text/plain": [
              "<Figure size 432x288 with 2 Axes>"
            ]
          },
          "metadata": {
            "tags": [],
            "needs_background": "light"
          }
        }
      ]
    },
    {
      "cell_type": "code",
      "metadata": {
        "colab": {
          "base_uri": "https://localhost:8080/"
        },
        "id": "7aql_f6AFG0i",
        "outputId": "6aa549e3-4757-4576-df0b-3829ca6905f3"
      },
      "source": [
        "# Save\n",
        "np.save(\"node2vec_auc_scores.npy\", node2vec_auc_scores) \n",
        "\n",
        "# Load\n",
        "node2vec = np.load(\"node2vec_auc_scores.npy\",allow_pickle='TRUE').item()\n",
        "\n",
        "node2vec"
      ],
      "execution_count": null,
      "outputs": [
        {
          "output_type": "execute_result",
          "data": {
            "text/plain": [
              "{(5, 10, 10, 0.5, 0.5): 0.9154200788708522,\n",
              " (10, 5, 10, 0.5, 0.5): 0.9156324696310187,\n",
              " (10, 5, 20, 0.5, 0.5): 0.9265705330732836,\n",
              " (10, 5, 40, 0.5, 0.5): 0.9303374102813164,\n",
              " (10, 10, 10, 0.1, 0.2): 0.9281319571945796,\n",
              " (10, 10, 10, 0.1, 0.4): 0.9287766220117821,\n",
              " (10, 10, 10, 0.1, 0.6): 0.9278474260480369,\n",
              " (10, 10, 10, 0.1, 0.8): 0.929150550411309,\n",
              " (10, 10, 10, 0.1, 1.0): 0.928995843171679,\n",
              " (10, 10, 10, 0.1, 1.2): 0.9290547470769944,\n",
              " (10, 10, 10, 0.1, 1.4): 0.927856530744324,\n",
              " (10, 10, 10, 0.1, 1.6): 0.9288634558308928,\n",
              " (10, 10, 10, 0.1, 1.8): 0.9273017275521598,\n",
              " (10, 10, 10, 0.15, 0.2): 0.9266133566880852,\n",
              " (10, 10, 10, 0.15, 0.4): 0.9274813531714543,\n",
              " (10, 10, 10, 0.15, 0.6): 0.9267753511894394,\n",
              " (10, 10, 10, 0.15, 0.8): 0.9284355351054059,\n",
              " (10, 10, 10, 0.15, 1.0): 0.9287189284778317,\n",
              " (10, 10, 10, 0.15, 1.2): 0.9291297287694705,\n",
              " (10, 10, 10, 0.15, 1.4): 0.9286071136952214,\n",
              " (10, 10, 10, 0.15, 1.6): 0.9298199721418824,\n",
              " (10, 10, 10, 0.15, 1.8): 0.9296081421328755,\n",
              " (10, 10, 10, 0.2, 0.2): 0.9262894252625046,\n",
              " (10, 10, 10, 0.2, 0.4): 0.9275582349091549,\n",
              " (10, 10, 10, 0.2, 0.6): 0.9291230598360339,\n",
              " (10, 10, 10, 0.2, 0.8): 0.926877252692617,\n",
              " (10, 10, 10, 0.2, 1.0): 0.9299639475055206,\n",
              " (10, 10, 10, 0.2, 1.2): 0.929835864680892,\n",
              " (10, 10, 10, 0.2, 1.4): 0.9294707380718916,\n",
              " (10, 10, 10, 0.2, 1.6): 0.9291816395570851,\n",
              " (10, 10, 10, 0.2, 1.8): 0.9288351015986975,\n",
              " (10, 10, 10, 0.25, 0.2): 0.9268469107978283,\n",
              " (10, 10, 10, 0.25, 0.4): 0.9290191631602029,\n",
              " (10, 10, 10, 0.25, 0.6): 0.9268295200018135,\n",
              " (10, 10, 10, 0.25, 0.8): 0.9286835811279357,\n",
              " (10, 10, 10, 0.25, 1.0): 0.929152695785166,\n",
              " (10, 10, 10, 0.25, 1.2): 0.9281175228589209,\n",
              " (10, 10, 10, 0.25, 1.4): 0.9286661627950337,\n",
              " (10, 10, 10, 0.25, 1.6): 0.9294766472375735,\n",
              " (10, 10, 10, 0.25, 1.8): 0.9297256820846934,\n",
              " (10, 10, 10, 0.3, 0.2): 0.9262773240522074,\n",
              " (10, 10, 10, 0.3, 0.4): 0.9285404594078043,\n",
              " (10, 10, 10, 0.3, 0.6): 0.9247072683684157,\n",
              " (10, 10, 10, 0.3, 0.8): 0.92883421791495,\n",
              " (10, 10, 10, 0.3, 1.0): 0.9287002972702112,\n",
              " (10, 10, 10, 0.3, 1.2): 0.9278360082532155,\n",
              " (10, 10, 10, 0.3, 1.4): 0.9282227212785159,\n",
              " (10, 10, 10, 0.3, 1.6): 0.9301256391011143,\n",
              " (10, 10, 10, 0.3, 1.8): 0.9284897852767653,\n",
              " (10, 10, 10, 0.35, 0.2): 0.9275591386197295,\n",
              " (10, 10, 10, 0.35, 0.4): 0.9262380138938917,\n",
              " (10, 10, 10, 0.35, 0.6): 0.9262521928875044,\n",
              " (10, 10, 10, 0.35, 0.8): 0.9295909866520796,\n",
              " (10, 10, 10, 0.35, 1.0): 0.9291769345043848,\n",
              " (10, 10, 10, 0.35, 1.2): 0.9284533890217981,\n",
              " (10, 10, 10, 0.35, 1.4): 0.9283142376201464,\n",
              " (10, 10, 10, 0.35, 1.6): 0.92882241710706,\n",
              " (10, 10, 10, 0.35, 1.8): 0.9285621096596157,\n",
              " (10, 10, 10, 0.4, 0.2): 0.926532754967244,\n",
              " (10, 10, 10, 0.4, 0.4): 0.9279703256794671,\n",
              " (10, 10, 10, 0.4, 0.6): 0.9287391530698863,\n",
              " (10, 10, 10, 0.4, 0.8): 0.9290938194167379,\n",
              " (10, 10, 10, 0.4, 1.0): 0.9291165698923649,\n",
              " (10, 10, 10, 0.4, 1.2): 0.9279694282272761,\n",
              " (10, 10, 10, 0.4, 1.4): 0.9289023654526657,\n",
              " (10, 10, 10, 0.4, 1.6): 0.9287558642054551,\n",
              " (10, 10, 10, 0.4, 1.8): 0.9294604593028639,\n",
              " (10, 10, 10, 0.45, 0.2): 0.9252794473364739,\n",
              " (10, 10, 10, 0.45, 0.4): 0.9271319801653504,\n",
              " (10, 10, 10, 0.45, 0.6): 0.9276142424345957,\n",
              " (10, 10, 10, 0.45, 0.8): 0.9284734120939044,\n",
              " (10, 10, 10, 0.45, 1.0): 0.9282764645208135,\n",
              " (10, 10, 10, 0.45, 1.2): 0.9269629011738965,\n",
              " (10, 10, 10, 0.45, 1.4): 0.9291249023041306,\n",
              " (10, 10, 10, 0.45, 1.6): 0.9295115677657163,\n",
              " (10, 10, 10, 0.45, 1.8): 0.9291675481808412,\n",
              " (10, 10, 10, 0.5, 0.2): 0.9262351250240773,\n",
              " (10, 10, 10, 0.5, 0.4): 0.9271460840583612,\n",
              " (10, 10, 10, 0.5, 0.5): 0.9278193021243536,\n",
              " (10, 10, 10, 0.5, 0.6): 0.9273556397708114,\n",
              " (10, 10, 10, 0.5, 0.8): 0.9284053922272119,\n",
              " (10, 10, 10, 0.5, 1.0): 0.9285728202571036,\n",
              " (10, 10, 10, 0.5, 1.2): 0.9287362153846808,\n",
              " (10, 10, 10, 0.5, 1.4): 0.9279364991167569,\n",
              " (10, 10, 10, 0.5, 1.6): 0.9280641075559175,\n",
              " (10, 10, 10, 0.5, 1.8): 0.9301831974539814,\n",
              " (10, 10, 20, 0.5, 0.5): 0.9307906098693566,\n",
              " (10, 10, 40, 0.5, 0.5): 0.929317718092448,\n",
              " (10, 20, 10, 0.5, 0.5): 0.9300915409245609,\n",
              " (10, 20, 20, 0.5, 0.5): 0.9300412823501849,\n",
              " (10, 20, 40, 0.5, 0.5): 0.9268824671777326,\n",
              " (10, 40, 10, 0.5, 0.5): 0.9295154154198798,\n",
              " (10, 40, 20, 0.5, 0.5): 0.9282201903882366,\n",
              " (10, 40, 40, 0.5, 0.5): 0.9241109508152741,\n",
              " (20, 10, 10, 0.5, 0.5): 0.9094605870239537,\n",
              " (30, 10, 10, 0.5, 0.5): 0.8848457114211914,\n",
              " (40, 10, 10, 0.5, 0.5): 0.8567637627159839}"
            ]
          },
          "metadata": {
            "tags": []
          },
          "execution_count": 42
        }
      ]
    },
    {
      "cell_type": "code",
      "metadata": {
        "colab": {
          "base_uri": "https://localhost:8080/",
          "height": 17
        },
        "id": "ZogOgTh7FakX",
        "outputId": "c3303d16-d86d-4de2-bc00-2490624c3c30"
      },
      "source": [
        "files.download(\"node2vec_auc_scores.npy\")"
      ],
      "execution_count": null,
      "outputs": [
        {
          "output_type": "display_data",
          "data": {
            "application/javascript": [
              "\n",
              "    async function download(id, filename, size) {\n",
              "      if (!google.colab.kernel.accessAllowed) {\n",
              "        return;\n",
              "      }\n",
              "      const div = document.createElement('div');\n",
              "      const label = document.createElement('label');\n",
              "      label.textContent = `Downloading \"${filename}\": `;\n",
              "      div.appendChild(label);\n",
              "      const progress = document.createElement('progress');\n",
              "      progress.max = size;\n",
              "      div.appendChild(progress);\n",
              "      document.body.appendChild(div);\n",
              "\n",
              "      const buffers = [];\n",
              "      let downloaded = 0;\n",
              "\n",
              "      const channel = await google.colab.kernel.comms.open(id);\n",
              "      // Send a message to notify the kernel that we're ready.\n",
              "      channel.send({})\n",
              "\n",
              "      for await (const message of channel.messages) {\n",
              "        // Send a message to notify the kernel that we're ready.\n",
              "        channel.send({})\n",
              "        if (message.buffers) {\n",
              "          for (const buffer of message.buffers) {\n",
              "            buffers.push(buffer);\n",
              "            downloaded += buffer.byteLength;\n",
              "            progress.value = downloaded;\n",
              "          }\n",
              "        }\n",
              "      }\n",
              "      const blob = new Blob(buffers, {type: 'application/binary'});\n",
              "      const a = document.createElement('a');\n",
              "      a.href = window.URL.createObjectURL(blob);\n",
              "      a.download = filename;\n",
              "      div.appendChild(a);\n",
              "      a.click();\n",
              "      div.remove();\n",
              "    }\n",
              "  "
            ],
            "text/plain": [
              "<IPython.core.display.Javascript object>"
            ]
          },
          "metadata": {
            "tags": []
          }
        },
        {
          "output_type": "display_data",
          "data": {
            "application/javascript": [
              "download(\"download_a7af48cd-2abd-4fa3-927b-d0d4a989523d\", \"node2vec_auc_scores.npy\", 5668)"
            ],
            "text/plain": [
              "<IPython.core.display.Javascript object>"
            ]
          },
          "metadata": {
            "tags": []
          }
        }
      ]
    },
    {
      "cell_type": "markdown",
      "metadata": {
        "id": "vFa91vwUyB-b"
      },
      "source": [
        "## Combine best of the hyperparameters"
      ]
    },
    {
      "cell_type": "code",
      "metadata": {
        "id": "n2F03RRJyF29"
      },
      "source": [
        "np.random.seed(0)\n",
        "\n",
        "node_dim_list = [10]\n",
        "num_walks_list = [10]\n",
        "walk_length_list = [20]\n",
        "p_list = [0.3, 0.4, 0.5]\n",
        "q_list = [1.6, 1.8, 2.0]\n",
        "\n",
        "node2vec_auc_scores_best = dict()"
      ],
      "execution_count": null,
      "outputs": []
    },
    {
      "cell_type": "code",
      "metadata": {
        "colab": {
          "base_uri": "https://localhost:8080/"
        },
        "id": "VGWZePhlzNtZ",
        "outputId": "7caacace-3a49-479d-ee7c-4874fab891d0"
      },
      "source": [
        "for node_dim_i in node_dim_list:\n",
        "    for num_walks_i in num_walks_list:\n",
        "        for walk_length_i in walk_length_list:\n",
        "            for pi in p_list:\n",
        "                for qi in q_list:\n",
        "                    print(\"node dim: %d,\\tnum_walks: %d,\\twalk_length: %d,\\tp: %.2f,\\tq: %.2f\" % (\n",
        "                        node_dim_i, num_walks_i, walk_length_i, pi, qi), end=\"\\t\")\n",
        "                    alias_nodes, alias_edges = preprocess_transition_probs(graph, p=pi, q=qi)\n",
        "                    model = build_node2vec(graph, alias_nodes, alias_edges, \n",
        "                                          node_dim=node_dim_i, num_walks=num_walks_i, walk_length=walk_length_i)\n",
        "                    node2vec_auc_scores_best[(node_dim_i, num_walks_i, walk_length_i, pi, qi)] = get_auc_score(model, valid_edges, false_edges)\n",
        "                    print(\"auc: %.4f\" % (node2vec_auc_scores_best[(node_dim_i, num_walks_i, walk_length_i, pi, qi)]))"
      ],
      "execution_count": null,
      "outputs": [
        {
          "output_type": "stream",
          "text": [
            "node dim: 10,\tnum_walks: 10,\twalk_length: 20,\tp: 0.30,\tq: 1.60\tbuilding a node2vec model...\tnumber of walks: 83280\taverage walk length: 19.9790\ttraining time: 70.9988\n",
            "auc: 0.9316\n",
            "node dim: 10,\tnum_walks: 10,\twalk_length: 20,\tp: 0.30,\tq: 1.80\tbuilding a node2vec model...\tnumber of walks: 83280\taverage walk length: 19.9756\ttraining time: 70.2002\n",
            "auc: 0.9308\n",
            "node dim: 10,\tnum_walks: 10,\twalk_length: 20,\tp: 0.30,\tq: 2.00\tbuilding a node2vec model...\tnumber of walks: 83280\taverage walk length: 19.9756\ttraining time: 69.6305\n",
            "auc: 0.9308\n",
            "node dim: 10,\tnum_walks: 10,\twalk_length: 20,\tp: 0.40,\tq: 1.60\tbuilding a node2vec model...\tnumber of walks: 83280\taverage walk length: 19.9745\ttraining time: 70.1586\n",
            "auc: 0.9316\n",
            "node dim: 10,\tnum_walks: 10,\twalk_length: 20,\tp: 0.40,\tq: 1.80\tbuilding a node2vec model...\tnumber of walks: 83280\taverage walk length: 19.9755\ttraining time: 69.8588\n",
            "auc: 0.9310\n",
            "node dim: 10,\tnum_walks: 10,\twalk_length: 20,\tp: 0.40,\tq: 2.00\tbuilding a node2vec model...\tnumber of walks: 83280\taverage walk length: 19.9763\ttraining time: 70.2472\n",
            "auc: 0.9319\n",
            "node dim: 10,\tnum_walks: 10,\twalk_length: 20,\tp: 0.50,\tq: 1.60\tbuilding a node2vec model...\tnumber of walks: 83280\taverage walk length: 19.9771\ttraining time: 69.9391\n",
            "auc: 0.9314\n",
            "node dim: 10,\tnum_walks: 10,\twalk_length: 20,\tp: 0.50,\tq: 1.80\tbuilding a node2vec model...\tnumber of walks: 83280\taverage walk length: 19.9768\ttraining time: 69.7996\n",
            "auc: 0.9321\n",
            "node dim: 10,\tnum_walks: 10,\twalk_length: 20,\tp: 0.50,\tq: 2.00\tbuilding a node2vec model...\tnumber of walks: 83280\taverage walk length: 19.9770\ttraining time: 69.4511\n",
            "auc: 0.9309\n"
          ],
          "name": "stdout"
        }
      ]
    },
    {
      "cell_type": "code",
      "metadata": {
        "colab": {
          "base_uri": "https://localhost:8080/"
        },
        "id": "7x_OXeXhzN4A",
        "outputId": "5804a0e1-bc99-4920-8a4f-4f6d8c9c05a0"
      },
      "source": [
        "node2vec_auc_scores_best"
      ],
      "execution_count": null,
      "outputs": [
        {
          "output_type": "execute_result",
          "data": {
            "text/plain": [
              "{(10, 10, 20, 0.3, 1.6): 0.9316011180937537,\n",
              " (10, 10, 20, 0.3, 1.8): 0.9308043708029529,\n",
              " (10, 10, 20, 0.3, 2.0): 0.9308165721473857,\n",
              " (10, 10, 20, 0.4, 1.6): 0.931605695475431,\n",
              " (10, 10, 20, 0.4, 1.8): 0.9310314487374706,\n",
              " (10, 10, 20, 0.4, 2.0): 0.9319356487175962,\n",
              " (10, 10, 20, 0.5, 1.6): 0.9314115291279587,\n",
              " (10, 10, 20, 0.5, 1.8): 0.9320692389196872,\n",
              " (10, 10, 20, 0.5, 2.0): 0.9308575332672635}"
            ]
          },
          "metadata": {
            "tags": []
          },
          "execution_count": 58
        }
      ]
    },
    {
      "cell_type": "code",
      "metadata": {
        "colab": {
          "base_uri": "https://localhost:8080/"
        },
        "id": "P04goyAMEK_C",
        "outputId": "90df82ea-1640-4981-e82f-eb582ea747fa"
      },
      "source": [
        "# Save\n",
        "np.save(\"node2vec_auc_scores_best.npy\", node2vec_auc_scores_best) \n",
        "\n",
        "# Load\n",
        "node2vec_best = np.load(\"node2vec_auc_scores_best.npy\",allow_pickle='TRUE').item()\n",
        "\n",
        "node2vec_best"
      ],
      "execution_count": null,
      "outputs": [
        {
          "output_type": "execute_result",
          "data": {
            "text/plain": [
              "{(10, 10, 20, 0.3, 1.6): 0.9316011180937537,\n",
              " (10, 10, 20, 0.3, 1.8): 0.9308043708029529,\n",
              " (10, 10, 20, 0.3, 2.0): 0.9308165721473857,\n",
              " (10, 10, 20, 0.4, 1.6): 0.931605695475431,\n",
              " (10, 10, 20, 0.4, 1.8): 0.9310314487374706,\n",
              " (10, 10, 20, 0.4, 2.0): 0.9319356487175962,\n",
              " (10, 10, 20, 0.5, 1.6): 0.9314115291279587,\n",
              " (10, 10, 20, 0.5, 1.8): 0.9320692389196872,\n",
              " (10, 10, 20, 0.5, 2.0): 0.9308575332672635}"
            ]
          },
          "metadata": {
            "tags": []
          },
          "execution_count": 59
        }
      ]
    },
    {
      "cell_type": "code",
      "metadata": {
        "colab": {
          "base_uri": "https://localhost:8080/",
          "height": 17
        },
        "id": "N1M9G4ALEaY1",
        "outputId": "567b8da9-9c22-42e3-88c9-0b06abee0294"
      },
      "source": [
        "files.download(\"node2vec_auc_scores_best.npy\")"
      ],
      "execution_count": null,
      "outputs": [
        {
          "output_type": "display_data",
          "data": {
            "application/javascript": [
              "\n",
              "    async function download(id, filename, size) {\n",
              "      if (!google.colab.kernel.accessAllowed) {\n",
              "        return;\n",
              "      }\n",
              "      const div = document.createElement('div');\n",
              "      const label = document.createElement('label');\n",
              "      label.textContent = `Downloading \"${filename}\": `;\n",
              "      div.appendChild(label);\n",
              "      const progress = document.createElement('progress');\n",
              "      progress.max = size;\n",
              "      div.appendChild(progress);\n",
              "      document.body.appendChild(div);\n",
              "\n",
              "      const buffers = [];\n",
              "      let downloaded = 0;\n",
              "\n",
              "      const channel = await google.colab.kernel.comms.open(id);\n",
              "      // Send a message to notify the kernel that we're ready.\n",
              "      channel.send({})\n",
              "\n",
              "      for await (const message of channel.messages) {\n",
              "        // Send a message to notify the kernel that we're ready.\n",
              "        channel.send({})\n",
              "        if (message.buffers) {\n",
              "          for (const buffer of message.buffers) {\n",
              "            buffers.push(buffer);\n",
              "            downloaded += buffer.byteLength;\n",
              "            progress.value = downloaded;\n",
              "          }\n",
              "        }\n",
              "      }\n",
              "      const blob = new Blob(buffers, {type: 'application/binary'});\n",
              "      const a = document.createElement('a');\n",
              "      a.href = window.URL.createObjectURL(blob);\n",
              "      a.download = filename;\n",
              "      div.appendChild(a);\n",
              "      a.click();\n",
              "      div.remove();\n",
              "    }\n",
              "  "
            ],
            "text/plain": [
              "<IPython.core.display.Javascript object>"
            ]
          },
          "metadata": {
            "tags": []
          }
        },
        {
          "output_type": "display_data",
          "data": {
            "application/javascript": [
              "download(\"download_1501889f-9364-4031-a60c-7c5b07a6692b\", \"node2vec_auc_scores_best.npy\", 809)"
            ],
            "text/plain": [
              "<IPython.core.display.Javascript object>"
            ]
          },
          "metadata": {
            "tags": []
          }
        }
      ]
    },
    {
      "cell_type": "markdown",
      "metadata": {
        "id": "IQ1JSRXt_asH"
      },
      "source": [
        "# Test set Predictions"
      ]
    },
    {
      "cell_type": "markdown",
      "metadata": {
        "id": "95dBP17Fyn5R"
      },
      "source": [
        "You can build model with the best parameters you find and save the prediction here."
      ]
    },
    {
      "cell_type": "code",
      "metadata": {
        "id": "7OgsJNsZyn5R",
        "colab": {
          "base_uri": "https://localhost:8080/"
        },
        "outputId": "0165067a-496d-4e47-e4c2-9c8cf0264d27"
      },
      "source": [
        "model = build_deepwalk(graph, alias_nodes, node_dim=10, num_walks=20, walk_length=10)\n",
        "scores = [get_cosine_sim(model, src, dst) for src, dst in test_edges]\n",
        "write_pred(\"data/pred.csv\", test_edges, scores)"
      ],
      "execution_count": 16,
      "outputs": [
        {
          "output_type": "stream",
          "text": [
            "building a DeepWalk model...\tnumber of walks: 166560\taverage walk length: 9.8981\ttraining time: 71.6629\n"
          ],
          "name": "stdout"
        }
      ]
    },
    {
      "cell_type": "code",
      "metadata": {
        "colab": {
          "base_uri": "https://localhost:8080/",
          "height": 17
        },
        "id": "41HaNut2-r-s",
        "outputId": "ce5b88ef-f939-497f-d6bc-1782b790acbb"
      },
      "source": [
        "from google.colab import files\n",
        "files.download(\"data/pred.csv\")"
      ],
      "execution_count": 18,
      "outputs": [
        {
          "output_type": "display_data",
          "data": {
            "application/javascript": [
              "\n",
              "    async function download(id, filename, size) {\n",
              "      if (!google.colab.kernel.accessAllowed) {\n",
              "        return;\n",
              "      }\n",
              "      const div = document.createElement('div');\n",
              "      const label = document.createElement('label');\n",
              "      label.textContent = `Downloading \"${filename}\": `;\n",
              "      div.appendChild(label);\n",
              "      const progress = document.createElement('progress');\n",
              "      progress.max = size;\n",
              "      div.appendChild(progress);\n",
              "      document.body.appendChild(div);\n",
              "\n",
              "      const buffers = [];\n",
              "      let downloaded = 0;\n",
              "\n",
              "      const channel = await google.colab.kernel.comms.open(id);\n",
              "      // Send a message to notify the kernel that we're ready.\n",
              "      channel.send({})\n",
              "\n",
              "      for await (const message of channel.messages) {\n",
              "        // Send a message to notify the kernel that we're ready.\n",
              "        channel.send({})\n",
              "        if (message.buffers) {\n",
              "          for (const buffer of message.buffers) {\n",
              "            buffers.push(buffer);\n",
              "            downloaded += buffer.byteLength;\n",
              "            progress.value = downloaded;\n",
              "          }\n",
              "        }\n",
              "      }\n",
              "      const blob = new Blob(buffers, {type: 'application/binary'});\n",
              "      const a = document.createElement('a');\n",
              "      a.href = window.URL.createObjectURL(blob);\n",
              "      a.download = filename;\n",
              "      div.appendChild(a);\n",
              "      a.click();\n",
              "      div.remove();\n",
              "    }\n",
              "  "
            ],
            "text/plain": [
              "<IPython.core.display.Javascript object>"
            ]
          },
          "metadata": {
            "tags": []
          }
        },
        {
          "output_type": "display_data",
          "data": {
            "application/javascript": [
              "download(\"download_cd4af02e-f8d2-4057-8c46-4b4e5761a12d\", \"pred.csv\", 2577212)"
            ],
            "text/plain": [
              "<IPython.core.display.Javascript object>"
            ]
          },
          "metadata": {
            "tags": []
          }
        }
      ]
    },
    {
      "cell_type": "markdown",
      "metadata": {
        "id": "3mhoxLqS_fhN"
      },
      "source": [
        "# Diagrams for report"
      ]
    },
    {
      "cell_type": "markdown",
      "metadata": {
        "id": "h4v_XJFEBlhN"
      },
      "source": [
        "## Deep Walk"
      ]
    },
    {
      "cell_type": "code",
      "metadata": {
        "id": "gR6mL5P6_hW1"
      },
      "source": [
        "!wget -q https://hkustconnect-my.sharepoint.com/:u:/g/personal/nnanda_connect_ust_hk/EZd8kmHheQ1CkmGNUMaY8nwBFY68Ihel5b9y0ld55DVfdA?download=1 -O deepwalk_auc_scores.npy"
      ],
      "execution_count": 20,
      "outputs": []
    },
    {
      "cell_type": "code",
      "metadata": {
        "id": "zoMWsj07BwpC"
      },
      "source": [
        "deepwalk = np.load(\"deepwalk_auc_scores.npy\",allow_pickle='TRUE').item()"
      ],
      "execution_count": 22,
      "outputs": []
    },
    {
      "cell_type": "markdown",
      "metadata": {
        "id": "LazEvJeTCDjk"
      },
      "source": [
        "### num_walks, walk_length"
      ]
    },
    {
      "cell_type": "code",
      "metadata": {
        "colab": {
          "base_uri": "https://localhost:8080/",
          "height": 299
        },
        "id": "9qryHtIYCDCO",
        "outputId": "63907452-2262-4361-a8cf-5a04b678cedc"
      },
      "source": [
        "a = np.array([[deepwalk[(10, num_walks, walk_length)] for walk_length in [10, 20, 40]] for num_walks in [5, 10, 20, 40]])\n",
        "plt.imshow(a, cmap=\"hot\", interpolation=\"nearest\")\n",
        "plt.colorbar()\n",
        "plt.xticks(ticks=[0,1,2], labels=[10, 20, 40])\n",
        "plt.xlabel(\"walk_length\")\n",
        "plt.yticks(ticks=[0,1,2,3], labels=[5, 10, 20, 40])\n",
        "plt.ylabel(\"num_walks\")"
      ],
      "execution_count": 24,
      "outputs": [
        {
          "output_type": "execute_result",
          "data": {
            "text/plain": [
              "Text(0, 0.5, 'num_walks')"
            ]
          },
          "metadata": {
            "tags": []
          },
          "execution_count": 24
        },
        {
          "output_type": "display_data",
          "data": {
            "image/png": "[encoded data removed]",
            "text/plain": [
              "<Figure size 432x288 with 2 Axes>"
            ]
          },
          "metadata": {
            "tags": [],
            "needs_background": "light"
          }
        }
      ]
    },
    {
      "cell_type": "markdown",
      "metadata": {
        "id": "2mN4FTczCOcs"
      },
      "source": [
        "### node_dim"
      ]
    },
    {
      "cell_type": "code",
      "metadata": {
        "colab": {
          "base_uri": "https://localhost:8080/",
          "height": 265
        },
        "id": "0SwpoWuzB7pe",
        "outputId": "9a0959f4-c23e-41db-ddf6-4639cba5d6fd"
      },
      "source": [
        "a = np.array([[deepwalk[(node_dim, 10, 10)] for node_dim in [5, 10, 20, 30, 40]]])\n",
        "plt.imshow(a, cmap=\"hot\", interpolation=\"nearest\")\n",
        "plt.colorbar()\n",
        "plt.xticks(ticks=[0,1,2, 3, 4], labels=[5, 10, 20, 30, 40])\n",
        "plt.xlabel(\"node_dim\")\n",
        "plt.yticks(ticks=[0], labels=[0])\n",
        "plt.ylabel(\" \")"
      ],
      "execution_count": 26,
      "outputs": [
        {
          "output_type": "execute_result",
          "data": {
            "text/plain": [
              "Text(0, 0.5, ' ')"
            ]
          },
          "metadata": {
            "tags": []
          },
          "execution_count": 26
        },
        {
          "output_type": "display_data",
          "data": {
            "image/png": "[encoded data removed]",
            "text/plain": [
              "<Figure size 432x288 with 2 Axes>"
            ]
          },
          "metadata": {
            "tags": [],
            "needs_background": "light"
          }
        }
      ]
    },
    {
      "cell_type": "markdown",
      "metadata": {
        "id": "9h95Eh48CbEV"
      },
      "source": [
        "## node2vec"
      ]
    },
    {
      "cell_type": "code",
      "metadata": {
        "id": "GroAe3iOCVyd"
      },
      "source": [
        "!wget -q https://hkustconnect-my.sharepoint.com/:u:/g/personal/nnanda_connect_ust_hk/EeJKmmJCBFdOgNWSgqH9-igBKavx27DoF6e6XZX6eCd-zQ?download=1 -O node2vec_auc_scores.npy"
      ],
      "execution_count": 27,
      "outputs": []
    },
    {
      "cell_type": "code",
      "metadata": {
        "id": "R3e2bESpCnoD"
      },
      "source": [
        "node2vec = np.load(\"node2vec_auc_scores.npy\",allow_pickle='TRUE').item()"
      ],
      "execution_count": 28,
      "outputs": []
    },
    {
      "cell_type": "markdown",
      "metadata": {
        "id": "sUawFGJxCvzI"
      },
      "source": [
        "### p, q"
      ]
    },
    {
      "cell_type": "code",
      "metadata": {
        "colab": {
          "base_uri": "https://localhost:8080/",
          "height": 296
        },
        "id": "AP6m6WrlCu9I",
        "outputId": "1cdc91be-dc55-4463-a0e0-4606657d5bd0"
      },
      "source": [
        "a = np.array([[node2vec[(10, 10, 10, pi, qi)] for pi in [0.1, 0.15, 0.2, 0.25, 0.3, 0.35, 0.4, 0.45, 0.5]] for qi in [0.2, 0.4, 0.6, 0.8, 1.0, 1.2, 1.4, 1.6, 1.8]])\n",
        "plt.imshow(a, cmap=\"hot\", interpolation=\"nearest\")\n",
        "plt.colorbar()\n",
        "plt.xticks(ticks=[0, 1, 2, 3, 4, 5, 6, 7, 8], labels=[0.1, 0.15, 0.2, 0.25, 0.3, 0.35, 0.4, 0.45, 0.5])\n",
        "plt.xlabel(\"p\")\n",
        "plt.yticks(ticks=[0, 1, 2, 3, 4, 5, 6, 7, 8], labels=[0.2, 0.4, 0.6, 0.8, 1.0, 1.2, 1.4, 1.6, 1.8])\n",
        "plt.ylabel(\"q\")"
      ],
      "execution_count": 30,
      "outputs": [
        {
          "output_type": "execute_result",
          "data": {
            "text/plain": [
              "Text(0, 0.5, 'q')"
            ]
          },
          "metadata": {
            "tags": []
          },
          "execution_count": 30
        },
        {
          "output_type": "display_data",
          "data": {
            "image/png": "[encoded data removed]",
            "text/plain": [
              "<Figure size 432x288 with 2 Axes>"
            ]
          },
          "metadata": {
            "tags": [],
            "needs_background": "light"
          }
        }
      ]
    },
    {
      "cell_type": "markdown",
      "metadata": {
        "id": "lcCrwY0kC83j"
      },
      "source": [
        "### num_walks, walk_length"
      ]
    },
    {
      "cell_type": "code",
      "metadata": {
        "colab": {
          "base_uri": "https://localhost:8080/",
          "height": 297
        },
        "id": "FmjH4P9SC6Bz",
        "outputId": "a0764f66-61de-4dcc-a2ac-5ad1e59a5f30"
      },
      "source": [
        "plt.figure(figsize=(6, 4))\n",
        "a = np.array([[node2vec[(10, num_walks, walk_length, 0.5, 0.5)] for walk_length in [10, 20, 40]] for num_walks in [5, 10, 20, 40]])\n",
        "plt.imshow(a, cmap=\"hot\", interpolation=\"nearest\")\n",
        "plt.colorbar()\n",
        "plt.xticks(ticks=[0,1,2], labels=[10, 20, 40])\n",
        "plt.xlabel(\"walk_length\")\n",
        "plt.yticks(ticks=[0,1,2,3], labels=[5, 10, 20, 40])\n",
        "plt.ylabel(\"num_walks\")"
      ],
      "execution_count": 32,
      "outputs": [
        {
          "output_type": "execute_result",
          "data": {
            "text/plain": [
              "Text(0, 0.5, 'num_walks')"
            ]
          },
          "metadata": {
            "tags": []
          },
          "execution_count": 32
        },
        {
          "output_type": "display_data",
          "data": {
            "image/png": "[encoded data removed]",
            "text/plain": [
              "<Figure size 432x288 with 2 Axes>"
            ]
          },
          "metadata": {
            "tags": [],
            "needs_background": "light"
          }
        }
      ]
    },
    {
      "cell_type": "markdown",
      "metadata": {
        "id": "rEl3ITiyD_eo"
      },
      "source": [
        "### node_dim"
      ]
    },
    {
      "cell_type": "code",
      "metadata": {
        "colab": {
          "base_uri": "https://localhost:8080/",
          "height": 265
        },
        "id": "lhVwxrUmD-Xx",
        "outputId": "6d269376-17f6-413d-ca83-100fbcd7d5b9"
      },
      "source": [
        "a = np.array([[node2vec[(node_dim, 10, 10, 0.5, 0.5)] for node_dim in [5, 10, 20, 30, 40]]])\n",
        "plt.imshow(a, cmap=\"hot\", interpolation=\"nearest\")\n",
        "plt.colorbar()\n",
        "plt.xticks(ticks=[0,1,2, 3, 4], labels=[5, 10, 20, 30, 40])\n",
        "plt.xlabel(\"node_dim\")\n",
        "plt.yticks(ticks=[0], labels=[0])\n",
        "plt.ylabel(\" \")"
      ],
      "execution_count": 33,
      "outputs": [
        {
          "output_type": "execute_result",
          "data": {
            "text/plain": [
              "Text(0, 0.5, ' ')"
            ]
          },
          "metadata": {
            "tags": []
          },
          "execution_count": 33
        },
        {
          "output_type": "display_data",
          "data": {
            "image/png": "[encoded data removed]",
            "text/plain": [
              "<Figure size 432x288 with 2 Axes>"
            ]
          },
          "metadata": {
            "tags": [],
            "needs_background": "light"
          }
        }
      ]
    }
  ]
}