{
  "nbformat": 4,
  "nbformat_minor": 0,
  "metadata": {
    "colab": {
      "name": "Project 3 Rating Prediction NCF.ipynb",
      "provenance": [],
      "collapsed_sections": []
    },
    "kernelspec": {
      "name": "python3",
      "display_name": "Python 3"
    },
    "language_info": {
      "name": "python"
    },
    "accelerator": "GPU"
  },
  "cells": [
    {
      "cell_type": "markdown",
      "metadata": {
        "id": "HvIaSdSdoiGv"
      },
      "source": [
        "#Goal: RMSE 1.005"
      ]
    },
    {
      "cell_type": "markdown",
      "metadata": {
        "id": "I9FVuxbNnoyc"
      },
      "source": [
        "#Student ID"
      ]
    },
    {
      "cell_type": "code",
      "metadata": {
        "id": "T_KRm9hwkHgt"
      },
      "source": [
        "STUDENT_ID = '20491384'"
      ],
      "execution_count": 1,
      "outputs": []
    },
    {
      "cell_type": "markdown",
      "metadata": {
        "id": "sIlNoTTtnuoc"
      },
      "source": [
        "#Download Data"
      ]
    },
    {
      "cell_type": "code",
      "metadata": {
        "id": "rxJKQQKBlgOA"
      },
      "source": [
        "!wget -q https://hkustconnect-my.sharepoint.com/:u:/g/personal/nnanda_connect_ust_hk/Ea7QgUR0Cp9Hu7cB6ApBqG8BPv4dlpSUzbqu4xa4Lv-rfw?download=1 -O \"Project3 data.zip\"\n",
        "!unzip -q \"Project3 data.zip\""
      ],
      "execution_count": 2,
      "outputs": []
    },
    {
      "cell_type": "markdown",
      "metadata": {
        "id": "m9UaVCnunw6j"
      },
      "source": [
        "#Import Libraries"
      ]
    },
    {
      "cell_type": "code",
      "metadata": {
        "id": "8l-VcZiNj1ed"
      },
      "source": [
        "from math import sqrt\n",
        "from keras.layers import Concatenate, Dense, Dot, Dropout, Embedding, Input, Reshape\n",
        "from keras.models import Model\n",
        "from keras.callbacks import Callback, ModelCheckpoint\n",
        "import numpy as np\n",
        "import pandas as pd\n",
        "from sklearn.metrics import mean_squared_error"
      ],
      "execution_count": 3,
      "outputs": []
    },
    {
      "cell_type": "markdown",
      "metadata": {
        "id": "DgY_CQdEnzeY"
      },
      "source": [
        "#RMSE Calculation"
      ]
    },
    {
      "cell_type": "code",
      "metadata": {
        "id": "24FyauEDkQtH"
      },
      "source": [
        "# Function to calculate RMSE\n",
        "def rmse(pred, actual):\n",
        "    # Ignore nonzero terms.\n",
        "    pred = pred[actual.nonzero()].flatten()\n",
        "    actual = actual[actual.nonzero()].flatten()\n",
        "    return sqrt(mean_squared_error(pred, actual))"
      ],
      "execution_count": 4,
      "outputs": []
    },
    {
      "cell_type": "markdown",
      "metadata": {
        "id": "bbpOeN10n22V"
      },
      "source": [
        "#Build NCF Model"
      ]
    },
    {
      "cell_type": "code",
      "metadata": {
        "id": "Pn_pwBpbkR7r"
      },
      "source": [
        "def build_cfmodel(n_users, n_items, embed_size, output_layer='dot'):\n",
        "    user_input = Input(shape=(1,), dtype='int32', name='user_input')\n",
        "    item_input = Input(shape=(1,), dtype='int32', name='item_input')\n",
        "    \n",
        "    user_emb = Embedding(output_dim=embed_size, input_dim=n_users, input_length=1)(user_input)\n",
        "    user_emb = Reshape((embed_size,))(user_emb)\n",
        "    item_emb = Embedding(output_dim=embed_size, input_dim=n_items, input_length=1)(item_input)\n",
        "    item_emb = Reshape((embed_size,))(item_emb)\n",
        "    \n",
        "    if output_layer == 'dot':\n",
        "        model_output = Dot(axes=1)([user_emb, item_emb])\n",
        "    elif output_layer == 'mlp':\n",
        "        mlp_input = Concatenate()([user_emb, item_emb])\n",
        "\n",
        "        dense_1 = Dense(64, activation='relu')(mlp_input)\n",
        "        dense_1_dp = Dropout(0.15)(dense_1)\n",
        "        dense_2 = Dense(32, activation='relu')(dense_1_dp)\n",
        "        dense_2_dp = Dropout(0.15)(dense_2)\n",
        "        model_output = Dense(1)(dense_2_dp)\n",
        "    else:\n",
        "        raise NotImplementedError\n",
        "\n",
        "    model = Model(inputs=[user_input, item_input],\n",
        "                  outputs=model_output)\n",
        "    return model"
      ],
      "execution_count": 5,
      "outputs": []
    },
    {
      "cell_type": "markdown",
      "metadata": {
        "id": "OxBFn8FUn9OU"
      },
      "source": [
        "#Feature Engineering"
      ]
    },
    {
      "cell_type": "code",
      "metadata": {
        "id": "lnr0VHK4kWIF"
      },
      "source": [
        "tr_df = pd.read_csv(\"data/train.csv\")\n",
        "val_df = pd.read_csv(\"data/valid.csv\")\n",
        "te_df = pd.read_csv(\"data/test.csv\")\n",
        "\n",
        "# Build User/Item vocabulary\n",
        "user_set = set(tr_df.user_id.unique())\n",
        "business_set = set(tr_df.business_id.unique())\n",
        "user_vocab = dict(zip(user_set, range(1, len(user_set) + 1)))\n",
        "user_vocab['unk'] = 0\n",
        "n_users = len(user_vocab)\n",
        "business_vocab = dict(zip(business_set, range(1, len(business_set) + 1)))\n",
        "business_vocab['unk'] = 0\n",
        "n_items = len(business_vocab)\n",
        "\n",
        "tr_users = tr_df.user_id.apply(lambda x: user_vocab[x] if x in user_vocab else 0).values\n",
        "tr_items = tr_df.business_id.apply(lambda x: business_vocab[x] if x in business_vocab else 0).values\n",
        "tr_ratings = tr_df.stars.values\n",
        "val_users = val_df.user_id.apply(lambda x: user_vocab[x] if x in user_vocab else 0).values\n",
        "val_items = val_df.business_id.apply(lambda x: business_vocab[x] if x in business_vocab else 0).values\n",
        "val_ratings = val_df.stars.values\n",
        "te_users = te_df.user_id.apply(lambda x: user_vocab[x] if x in user_vocab else 0).values\n",
        "te_items = te_df.business_id.apply(lambda x: business_vocab[x] if x in business_vocab else 0).values"
      ],
      "execution_count": 6,
      "outputs": []
    },
    {
      "cell_type": "markdown",
      "metadata": {
        "id": "jfcv_17poCbt"
      },
      "source": [
        "#NCF - MLP model"
      ]
    },
    {
      "cell_type": "code",
      "metadata": {
        "id": "5eM-wtbwov8M"
      },
      "source": [
        "def run_cfmodel(n_users, n_items, embed_size=50, output_layer='mlp', epochs=1):\n",
        "    model = build_cfmodel(\n",
        "        n_users=n_users, n_items=n_items, \n",
        "        embed_size=embed_size,\n",
        "        output_layer=output_layer)\n",
        "\n",
        "    model.compile(optimizer='adam', loss='mse')\n",
        "    history = model.fit(\n",
        "        [tr_users, tr_items], \n",
        "        tr_ratings, \n",
        "        epochs=epochs, \n",
        "        verbose=1,\n",
        "        callbacks=[ModelCheckpoint('model.h5')])\n",
        "\n",
        "    y_pred = model.predict([tr_users, tr_items])\n",
        "    print(\"TRAIN RMSE: \", rmse(y_pred, tr_ratings))\n",
        "    y_pred = model.predict([val_users, val_items])\n",
        "    print(\"VALID RMSE: \", rmse(y_pred, val_ratings))"
      ],
      "execution_count": 14,
      "outputs": []
    },
    {
      "cell_type": "markdown",
      "metadata": {
        "id": "R9ojqnsB-fmC"
      },
      "source": [
        "## Dot"
      ]
    },
    {
      "cell_type": "markdown",
      "metadata": {
        "id": "YtpJK4siCEjy"
      },
      "source": [
        "### Embed Size = 10"
      ]
    },
    {
      "cell_type": "markdown",
      "metadata": {
        "id": "hkxq9JAfDSNm"
      },
      "source": [
        "#### Epochs = 1"
      ]
    },
    {
      "cell_type": "code",
      "metadata": {
        "colab": {
          "base_uri": "https://localhost:8080/"
        },
        "id": "z7SOVSIdCJcI",
        "outputId": "9749357b-077b-4c1d-adb4-3821d2439b73"
      },
      "source": [
        "run_cfmodel(n_users, n_items, embed_size=10, output_layer=\"dot\", epochs=1)"
      ],
      "execution_count": 24,
      "outputs": [
        {
          "output_type": "stream",
          "text": [
            "1878/1878 [==============================] - 6s 3ms/step - loss: 16.1546\n",
            "TRAIN RMSE:  3.9667903315326707\n",
            "VALID RMSE:  3.9756482112397027\n"
          ],
          "name": "stdout"
        }
      ]
    },
    {
      "cell_type": "markdown",
      "metadata": {
        "id": "XlfJt_a6DTV4"
      },
      "source": [
        "#### Epochs = 5"
      ]
    },
    {
      "cell_type": "code",
      "metadata": {
        "colab": {
          "base_uri": "https://localhost:8080/"
        },
        "id": "u0Ll1nN9CJmB",
        "outputId": "74b32a9a-6f63-4bb6-a302-4a354273a586"
      },
      "source": [
        "run_cfmodel(n_users, n_items, embed_size=10, output_layer=\"dot\", epochs=5)"
      ],
      "execution_count": 25,
      "outputs": [
        {
          "output_type": "stream",
          "text": [
            "Epoch 1/5\n",
            "1878/1878 [==============================] - 5s 3ms/step - loss: 16.1554\n",
            "Epoch 2/5\n",
            "1878/1878 [==============================] - 5s 3ms/step - loss: 15.0581\n",
            "Epoch 3/5\n",
            "1878/1878 [==============================] - 5s 3ms/step - loss: 10.4917\n",
            "Epoch 4/5\n",
            "1878/1878 [==============================] - 5s 3ms/step - loss: 6.2704\n",
            "Epoch 5/5\n",
            "1878/1878 [==============================] - 5s 3ms/step - loss: 3.7719\n",
            "TRAIN RMSE:  1.6110357019853387\n",
            "VALID RMSE:  1.8353262771407703\n"
          ],
          "name": "stdout"
        }
      ]
    },
    {
      "cell_type": "markdown",
      "metadata": {
        "id": "3af6da6xDUfH"
      },
      "source": [
        "#### Epochs = 10"
      ]
    },
    {
      "cell_type": "code",
      "metadata": {
        "colab": {
          "base_uri": "https://localhost:8080/"
        },
        "id": "VupleIsDCTjU",
        "outputId": "31f86121-93ea-41e8-a7f5-b40e9eda207d"
      },
      "source": [
        "run_cfmodel(n_users, n_items, embed_size=10, output_layer=\"dot\", epochs=10)"
      ],
      "execution_count": 26,
      "outputs": [
        {
          "output_type": "stream",
          "text": [
            "Epoch 1/10\n",
            "1878/1878 [==============================] - 6s 3ms/step - loss: 16.2109\n",
            "Epoch 2/10\n",
            "1878/1878 [==============================] - 5s 3ms/step - loss: 15.2280\n",
            "Epoch 3/10\n",
            "1878/1878 [==============================] - 5s 3ms/step - loss: 10.8421\n",
            "Epoch 4/10\n",
            "1878/1878 [==============================] - 5s 3ms/step - loss: 6.4590\n",
            "Epoch 5/10\n",
            "1878/1878 [==============================] - 5s 3ms/step - loss: 3.8391\n",
            "Epoch 6/10\n",
            "1878/1878 [==============================] - 5s 3ms/step - loss: 2.4310\n",
            "Epoch 7/10\n",
            "1878/1878 [==============================] - 5s 3ms/step - loss: 1.6854\n",
            "Epoch 8/10\n",
            "1878/1878 [==============================] - 5s 3ms/step - loss: 1.3128\n",
            "Epoch 9/10\n",
            "1878/1878 [==============================] - 5s 3ms/step - loss: 1.1065\n",
            "Epoch 10/10\n",
            "1878/1878 [==============================] - 5s 3ms/step - loss: 0.9867\n",
            "TRAIN RMSE:  0.9306065545071966\n",
            "VALID RMSE:  1.259925692480558\n"
          ],
          "name": "stdout"
        }
      ]
    },
    {
      "cell_type": "markdown",
      "metadata": {
        "id": "dT-Yj2T8AKWf"
      },
      "source": [
        "### Embed Size = 50"
      ]
    },
    {
      "cell_type": "markdown",
      "metadata": {
        "id": "Wz4LqMTgAPbk"
      },
      "source": [
        "#### Epochs = 1"
      ]
    },
    {
      "cell_type": "code",
      "metadata": {
        "colab": {
          "base_uri": "https://localhost:8080/"
        },
        "id": "B0vz0My3pJr0",
        "outputId": "4fd04ade-80c1-4af9-ea89-4cf79344c3d6"
      },
      "source": [
        "run_cfmodel(n_users, n_items, embed_size=50, output_layer=\"dot\", epochs=1)"
      ],
      "execution_count": 18,
      "outputs": [
        {
          "output_type": "stream",
          "text": [
            "1878/1878 [==============================] - 11s 5ms/step - loss: 16.1181\n",
            "TRAIN RMSE:  3.7989770014460955\n",
            "VALID RMSE:  3.8449542198812656\n"
          ],
          "name": "stdout"
        }
      ]
    },
    {
      "cell_type": "markdown",
      "metadata": {
        "id": "jZv6HjTPASt1"
      },
      "source": [
        "#### Epochs = 5"
      ]
    },
    {
      "cell_type": "code",
      "metadata": {
        "colab": {
          "base_uri": "https://localhost:8080/"
        },
        "id": "6x_w7T2w-iL8",
        "outputId": "41158e83-3feb-4866-ffdc-4637126b3999"
      },
      "source": [
        "run_cfmodel(n_users, n_items, embed_size=50, output_layer=\"dot\", epochs=5)"
      ],
      "execution_count": 19,
      "outputs": [
        {
          "output_type": "stream",
          "text": [
            "Epoch 1/5\n",
            "1878/1878 [==============================] - 10s 5ms/step - loss: 16.0357\n",
            "Epoch 2/5\n",
            "1878/1878 [==============================] - 10s 5ms/step - loss: 11.7607\n",
            "Epoch 3/5\n",
            "1878/1878 [==============================] - 10s 5ms/step - loss: 3.8962\n",
            "Epoch 4/5\n",
            "1878/1878 [==============================] - 10s 5ms/step - loss: 1.6665\n",
            "Epoch 5/5\n",
            "1878/1878 [==============================] - 10s 5ms/step - loss: 1.0624\n",
            "TRAIN RMSE:  0.8865298999067136\n",
            "VALID RMSE:  1.2756073970107678\n"
          ],
          "name": "stdout"
        }
      ]
    },
    {
      "cell_type": "markdown",
      "metadata": {
        "id": "fn_0jkQZAUYT"
      },
      "source": [
        "#### Epochs = 10"
      ]
    },
    {
      "cell_type": "code",
      "metadata": {
        "colab": {
          "base_uri": "https://localhost:8080/"
        },
        "id": "Mi80CnZD-iYe",
        "outputId": "3a90894a-b2d7-4ac9-c231-a72db1ef4f33"
      },
      "source": [
        "run_cfmodel(n_users, n_items, embed_size=50, output_layer=\"dot\", epochs=10)"
      ],
      "execution_count": 20,
      "outputs": [
        {
          "output_type": "stream",
          "text": [
            "Epoch 1/10\n",
            "1878/1878 [==============================] - 11s 5ms/step - loss: 16.1702\n",
            "Epoch 2/10\n",
            "1878/1878 [==============================] - 10s 5ms/step - loss: 12.1851\n",
            "Epoch 3/10\n",
            "1878/1878 [==============================] - 10s 5ms/step - loss: 3.9967\n",
            "Epoch 4/10\n",
            "1878/1878 [==============================] - 10s 5ms/step - loss: 1.6599\n",
            "Epoch 5/10\n",
            "1878/1878 [==============================] - 10s 5ms/step - loss: 1.0598\n",
            "Epoch 6/10\n",
            "1878/1878 [==============================] - 10s 5ms/step - loss: 0.8276\n",
            "Epoch 7/10\n",
            "1878/1878 [==============================] - 10s 5ms/step - loss: 0.6773\n",
            "Epoch 8/10\n",
            "1878/1878 [==============================] - 10s 5ms/step - loss: 0.5425\n",
            "Epoch 9/10\n",
            "1878/1878 [==============================] - 10s 5ms/step - loss: 0.4325\n",
            "Epoch 10/10\n",
            "1878/1878 [==============================] - 10s 6ms/step - loss: 0.3281\n",
            "TRAIN RMSE:  0.46621924739969073\n",
            "VALID RMSE:  1.2588486338518\n"
          ],
          "name": "stdout"
        }
      ]
    },
    {
      "cell_type": "markdown",
      "metadata": {
        "id": "gN41RNt-AXJG"
      },
      "source": [
        "### Embed Size = 100"
      ]
    },
    {
      "cell_type": "markdown",
      "metadata": {
        "id": "SCDKEhB5Ak_W"
      },
      "source": [
        "#### Epochs = 1"
      ]
    },
    {
      "cell_type": "code",
      "metadata": {
        "colab": {
          "base_uri": "https://localhost:8080/"
        },
        "id": "Pyg5sGAl-oTe",
        "outputId": "95cf7f01-cb0c-48ad-e51f-41a2d60b10b3"
      },
      "source": [
        "run_cfmodel(n_users, n_items, embed_size=100, output_layer=\"dot\", epochs=1)"
      ],
      "execution_count": 21,
      "outputs": [
        {
          "output_type": "stream",
          "text": [
            "1878/1878 [==============================] - 16s 8ms/step - loss: 16.0742\n",
            "TRAIN RMSE:  3.6030992730828313\n",
            "VALID RMSE:  3.6946762884103315\n"
          ],
          "name": "stdout"
        }
      ]
    },
    {
      "cell_type": "markdown",
      "metadata": {
        "id": "2W6daQ8OApde"
      },
      "source": [
        "#### Epochs = 5"
      ]
    },
    {
      "cell_type": "code",
      "metadata": {
        "colab": {
          "base_uri": "https://localhost:8080/"
        },
        "id": "i33Y6YKL-oXD",
        "outputId": "a2968a77-e09b-4744-fa98-9d5ce8105740"
      },
      "source": [
        "run_cfmodel(n_users, n_items, embed_size=100, output_layer=\"dot\", epochs=5)"
      ],
      "execution_count": 22,
      "outputs": [
        {
          "output_type": "stream",
          "text": [
            "Epoch 1/5\n",
            "1878/1878 [==============================] - 16s 8ms/step - loss: 16.0826\n",
            "Epoch 2/5\n",
            "1878/1878 [==============================] - 16s 8ms/step - loss: 9.7558\n",
            "Epoch 3/5\n",
            "1878/1878 [==============================] - 16s 8ms/step - loss: 2.3654\n",
            "Epoch 4/5\n",
            "1878/1878 [==============================] - 16s 8ms/step - loss: 1.0701\n",
            "Epoch 5/5\n",
            "1878/1878 [==============================] - 16s 9ms/step - loss: 0.7231\n",
            "TRAIN RMSE:  0.6721273207784683\n",
            "VALID RMSE:  1.276091022273684\n"
          ],
          "name": "stdout"
        }
      ]
    },
    {
      "cell_type": "markdown",
      "metadata": {
        "id": "vZY47f5QAt2h"
      },
      "source": [
        "### Epochs = 10"
      ]
    },
    {
      "cell_type": "code",
      "metadata": {
        "colab": {
          "base_uri": "https://localhost:8080/"
        },
        "id": "w2wZ23QrAsBG",
        "outputId": "90cdfd53-c705-4377-dfc8-fe65b31f46e4"
      },
      "source": [
        "run_cfmodel(n_users, n_items, embed_size=100, output_layer=\"dot\", epochs=10)"
      ],
      "execution_count": 23,
      "outputs": [
        {
          "output_type": "stream",
          "text": [
            "Epoch 1/10\n",
            "1878/1878 [==============================] - 16s 8ms/step - loss: 16.0826\n",
            "Epoch 2/10\n",
            "1878/1878 [==============================] - 16s 8ms/step - loss: 9.6926\n",
            "Epoch 3/10\n",
            "1878/1878 [==============================] - 17s 9ms/step - loss: 2.3055\n",
            "Epoch 4/10\n",
            "1878/1878 [==============================] - 17s 9ms/step - loss: 1.0702\n",
            "Epoch 5/10\n",
            "1878/1878 [==============================] - 17s 9ms/step - loss: 0.7194\n",
            "Epoch 6/10\n",
            "1878/1878 [==============================] - 16s 9ms/step - loss: 0.4959\n",
            "Epoch 7/10\n",
            "1878/1878 [==============================] - 17s 9ms/step - loss: 0.3054\n",
            "Epoch 8/10\n",
            "1878/1878 [==============================] - 17s 9ms/step - loss: 0.1714\n",
            "Epoch 9/10\n",
            "1878/1878 [==============================] - 16s 9ms/step - loss: 0.0958\n",
            "Epoch 10/10\n",
            "1878/1878 [==============================] - 17s 9ms/step - loss: 0.0646\n",
            "TRAIN RMSE:  0.24875279949782256\n",
            "VALID RMSE:  1.3163336141787305\n"
          ],
          "name": "stdout"
        }
      ]
    },
    {
      "cell_type": "markdown",
      "metadata": {
        "id": "d-l03IF4DgG-"
      },
      "source": [
        "## MLP"
      ]
    },
    {
      "cell_type": "markdown",
      "metadata": {
        "id": "FTMTMxz0Hoq0"
      },
      "source": [
        "### Embed Size = 10"
      ]
    },
    {
      "cell_type": "markdown",
      "metadata": {
        "id": "THuEYz3JHoq5"
      },
      "source": [
        "#### Epochs = 1"
      ]
    },
    {
      "cell_type": "code",
      "metadata": {
        "colab": {
          "base_uri": "https://localhost:8080/"
        },
        "id": "F2CTnctgHoq6",
        "outputId": "f6ffc0fa-a182-4aa4-d4ff-2840c79bb0d8"
      },
      "source": [
        "run_cfmodel(n_users, n_items, embed_size=10, output_layer=\"mlp\", epochs=1)"
      ],
      "execution_count": 33,
      "outputs": [
        {
          "output_type": "stream",
          "text": [
            "1878/1878 [==============================] - 7s 3ms/step - loss: 2.9899\n",
            "TRAIN RMSE:  0.9847803356651544\n",
            "VALID RMSE:  1.0364505131302184\n"
          ],
          "name": "stdout"
        }
      ]
    },
    {
      "cell_type": "markdown",
      "metadata": {
        "id": "qA7LSiwbHoq7"
      },
      "source": [
        "#### Epochs = 5"
      ]
    },
    {
      "cell_type": "code",
      "metadata": {
        "colab": {
          "base_uri": "https://localhost:8080/"
        },
        "id": "wL1inN73Hoq7",
        "outputId": "4b7f987d-8754-48a9-93b4-7e62aa9832e0"
      },
      "source": [
        "run_cfmodel(n_users, n_items, embed_size=10, output_layer=\"mlp\", epochs=5)"
      ],
      "execution_count": 34,
      "outputs": [
        {
          "output_type": "stream",
          "text": [
            "Epoch 1/5\n",
            "1878/1878 [==============================] - 7s 3ms/step - loss: 3.1442\n",
            "Epoch 2/5\n",
            "1878/1878 [==============================] - 6s 3ms/step - loss: 1.1203\n",
            "Epoch 3/5\n",
            "1878/1878 [==============================] - 6s 3ms/step - loss: 1.0324\n",
            "Epoch 4/5\n",
            "1878/1878 [==============================] - 6s 3ms/step - loss: 0.9652\n",
            "Epoch 5/5\n",
            "1878/1878 [==============================] - 6s 3ms/step - loss: 0.9155\n",
            "TRAIN RMSE:  0.8594429383803304\n",
            "VALID RMSE:  1.0490212042450915\n"
          ],
          "name": "stdout"
        }
      ]
    },
    {
      "cell_type": "markdown",
      "metadata": {
        "id": "zHElkOWEHoq8"
      },
      "source": [
        "#### Epochs = 10"
      ]
    },
    {
      "cell_type": "code",
      "metadata": {
        "colab": {
          "base_uri": "https://localhost:8080/"
        },
        "id": "Soo6kFZ7Hoq8",
        "outputId": "35e456d1-0943-4ded-90af-9ef24b872fe5"
      },
      "source": [
        "run_cfmodel(n_users, n_items, embed_size=10, output_layer=\"mlp\", epochs=10)"
      ],
      "execution_count": 35,
      "outputs": [
        {
          "output_type": "stream",
          "text": [
            "Epoch 1/10\n",
            "1878/1878 [==============================] - 6s 3ms/step - loss: 3.1397\n",
            "Epoch 2/10\n",
            "1878/1878 [==============================] - 6s 3ms/step - loss: 1.1395\n",
            "Epoch 3/10\n",
            "1878/1878 [==============================] - 6s 3ms/step - loss: 1.0435\n",
            "Epoch 4/10\n",
            "1878/1878 [==============================] - 6s 3ms/step - loss: 0.9745\n",
            "Epoch 5/10\n",
            "1878/1878 [==============================] - 6s 3ms/step - loss: 0.9059\n",
            "Epoch 6/10\n",
            "1878/1878 [==============================] - 6s 3ms/step - loss: 0.8455\n",
            "Epoch 7/10\n",
            "1878/1878 [==============================] - 6s 3ms/step - loss: 0.7801\n",
            "Epoch 8/10\n",
            "1878/1878 [==============================] - 6s 3ms/step - loss: 0.7116\n",
            "Epoch 9/10\n",
            "1878/1878 [==============================] - 6s 3ms/step - loss: 0.6474\n",
            "Epoch 10/10\n",
            "1878/1878 [==============================] - 6s 3ms/step - loss: 0.5848\n",
            "TRAIN RMSE:  0.6776780737048899\n",
            "VALID RMSE:  1.1512020683870534\n"
          ],
          "name": "stdout"
        }
      ]
    },
    {
      "cell_type": "markdown",
      "metadata": {
        "id": "LBueEuaMFisz"
      },
      "source": [
        "### Embed Size = 50"
      ]
    },
    {
      "cell_type": "markdown",
      "metadata": {
        "id": "9URbXTfNFl3i"
      },
      "source": [
        "#### Epochs = 1"
      ]
    },
    {
      "cell_type": "code",
      "metadata": {
        "colab": {
          "base_uri": "https://localhost:8080/"
        },
        "id": "1bn3pD8MnlsS",
        "outputId": "7f8c83ad-05f2-4b56-8f03-17ac5dcf6a5f"
      },
      "source": [
        "run_cfmodel(n_users, n_items, embed_size=50, output_layer=\"mlp\", epochs=1)"
      ],
      "execution_count": 27,
      "outputs": [
        {
          "output_type": "stream",
          "text": [
            "1878/1878 [==============================] - 12s 6ms/step - loss: 3.5903\n",
            "TRAIN RMSE:  0.9805220396541752\n",
            "VALID RMSE:  1.0445426220905691\n"
          ],
          "name": "stdout"
        }
      ]
    },
    {
      "cell_type": "markdown",
      "metadata": {
        "id": "ZADvN3F_FpPE"
      },
      "source": [
        "#### Epochs = 5"
      ]
    },
    {
      "cell_type": "code",
      "metadata": {
        "colab": {
          "base_uri": "https://localhost:8080/"
        },
        "id": "2cITVlUjnlvk",
        "outputId": "2fa2f9a8-9bb7-4933-985c-e4932577b9df"
      },
      "source": [
        "run_cfmodel(n_users, n_items, embed_size=50, output_layer=\"mlp\", epochs=5)"
      ],
      "execution_count": 28,
      "outputs": [
        {
          "output_type": "stream",
          "text": [
            "Epoch 1/5\n",
            "1878/1878 [==============================] - 11s 6ms/step - loss: 3.1670\n",
            "Epoch 2/5\n",
            "1878/1878 [==============================] - 11s 6ms/step - loss: 1.1298\n",
            "Epoch 3/5\n",
            "1878/1878 [==============================] - 11s 6ms/step - loss: 1.0430\n",
            "Epoch 4/5\n",
            "1878/1878 [==============================] - 11s 6ms/step - loss: 0.9547\n",
            "Epoch 5/5\n",
            "1878/1878 [==============================] - 11s 6ms/step - loss: 0.8699\n",
            "TRAIN RMSE:  0.8077190499069206\n",
            "VALID RMSE:  1.0661419055223293\n"
          ],
          "name": "stdout"
        }
      ]
    },
    {
      "cell_type": "markdown",
      "metadata": {
        "id": "UXXAWYDEFvmZ"
      },
      "source": [
        "#### Epochs = 10"
      ]
    },
    {
      "cell_type": "code",
      "metadata": {
        "colab": {
          "base_uri": "https://localhost:8080/"
        },
        "id": "WBvIDiyQnlyi",
        "outputId": "61c70783-3a4d-4cb7-8084-e4122c513e72"
      },
      "source": [
        "run_cfmodel(n_users, n_items, embed_size=50, output_layer=\"mlp\", epochs=10)"
      ],
      "execution_count": 29,
      "outputs": [
        {
          "output_type": "stream",
          "text": [
            "Epoch 1/10\n",
            "1878/1878 [==============================] - 11s 6ms/step - loss: 2.9975\n",
            "Epoch 2/10\n",
            "1878/1878 [==============================] - 10s 6ms/step - loss: 1.1408\n",
            "Epoch 3/10\n",
            "1878/1878 [==============================] - 10s 6ms/step - loss: 1.0249\n",
            "Epoch 4/10\n",
            "1878/1878 [==============================] - 10s 6ms/step - loss: 0.9605\n",
            "Epoch 5/10\n",
            "1878/1878 [==============================] - 11s 6ms/step - loss: 0.8734\n",
            "Epoch 6/10\n",
            "1878/1878 [==============================] - 11s 6ms/step - loss: 0.7404\n",
            "Epoch 7/10\n",
            "1878/1878 [==============================] - 11s 6ms/step - loss: 0.6252\n",
            "Epoch 8/10\n",
            "1878/1878 [==============================] - 11s 6ms/step - loss: 0.5199\n",
            "Epoch 9/10\n",
            "1878/1878 [==============================] - 10s 6ms/step - loss: 0.4413\n",
            "Epoch 10/10\n",
            "1878/1878 [==============================] - 10s 6ms/step - loss: 0.3841\n",
            "TRAIN RMSE:  0.4831816176666143\n",
            "VALID RMSE:  1.1553359661944838\n"
          ],
          "name": "stdout"
        }
      ]
    },
    {
      "cell_type": "markdown",
      "metadata": {
        "id": "ijs9us-NGJ5o"
      },
      "source": [
        "### Embed Size = 100"
      ]
    },
    {
      "cell_type": "markdown",
      "metadata": {
        "id": "rxqf6M42GJ5u"
      },
      "source": [
        "#### Epochs = 1"
      ]
    },
    {
      "cell_type": "code",
      "metadata": {
        "colab": {
          "base_uri": "https://localhost:8080/"
        },
        "id": "l9VpW2VOGJ5u",
        "outputId": "81a2b65b-3289-4a0c-a346-d32abb443e61"
      },
      "source": [
        "run_cfmodel(n_users, n_items, embed_size=100, output_layer=\"mlp\", epochs=1)"
      ],
      "execution_count": 30,
      "outputs": [
        {
          "output_type": "stream",
          "text": [
            "1878/1878 [==============================] - 17s 9ms/step - loss: 3.3654\n",
            "TRAIN RMSE:  0.9788794684000723\n",
            "VALID RMSE:  1.044591126818643\n"
          ],
          "name": "stdout"
        }
      ]
    },
    {
      "cell_type": "markdown",
      "metadata": {
        "id": "V1V7ZYxMGJ5v"
      },
      "source": [
        "#### Epochs = 5"
      ]
    },
    {
      "cell_type": "code",
      "metadata": {
        "colab": {
          "base_uri": "https://localhost:8080/"
        },
        "id": "iUyiUO04GJ5v",
        "outputId": "bebf72d2-29fa-409c-bfbd-45a6544fe0d1"
      },
      "source": [
        "run_cfmodel(n_users, n_items, embed_size=100, output_layer=\"mlp\", epochs=5)"
      ],
      "execution_count": 31,
      "outputs": [
        {
          "output_type": "stream",
          "text": [
            "Epoch 1/5\n",
            "1878/1878 [==============================] - 17s 9ms/step - loss: 3.0187\n",
            "Epoch 2/5\n",
            "1878/1878 [==============================] - 16s 9ms/step - loss: 1.1675\n",
            "Epoch 3/5\n",
            "1878/1878 [==============================] - 16s 9ms/step - loss: 1.0424\n",
            "Epoch 4/5\n",
            "1878/1878 [==============================] - 16s 9ms/step - loss: 0.9463\n",
            "Epoch 5/5\n",
            "1878/1878 [==============================] - 16s 9ms/step - loss: 0.8479\n",
            "TRAIN RMSE:  0.7787421566428055\n",
            "VALID RMSE:  1.0644568907165561\n"
          ],
          "name": "stdout"
        }
      ]
    },
    {
      "cell_type": "markdown",
      "metadata": {
        "id": "yb77IWQUGJ5w"
      },
      "source": [
        "#### Epochs = 10"
      ]
    },
    {
      "cell_type": "code",
      "metadata": {
        "colab": {
          "base_uri": "https://localhost:8080/"
        },
        "id": "Rn_OHXf8GJ5w",
        "outputId": "e4cb21d5-20b1-4e2e-b9ed-14989ea59ae8"
      },
      "source": [
        "run_cfmodel(n_users, n_items, embed_size=100, output_layer=\"mlp\", epochs=10)"
      ],
      "execution_count": 32,
      "outputs": [
        {
          "output_type": "stream",
          "text": [
            "Epoch 1/10\n",
            "1878/1878 [==============================] - 17s 9ms/step - loss: 3.7337\n",
            "Epoch 2/10\n",
            "1878/1878 [==============================] - 16s 8ms/step - loss: 1.2559\n",
            "Epoch 3/10\n",
            "1878/1878 [==============================] - 16s 8ms/step - loss: 1.1308\n",
            "Epoch 4/10\n",
            "1878/1878 [==============================] - 16s 8ms/step - loss: 1.0026\n",
            "Epoch 5/10\n",
            "1878/1878 [==============================] - 16s 8ms/step - loss: 0.8954\n",
            "Epoch 6/10\n",
            "1878/1878 [==============================] - 16s 8ms/step - loss: 0.7845\n",
            "Epoch 7/10\n",
            "1878/1878 [==============================] - 16s 8ms/step - loss: 0.6633\n",
            "Epoch 8/10\n",
            "1878/1878 [==============================] - 16s 8ms/step - loss: 0.5603\n",
            "Epoch 9/10\n",
            "1878/1878 [==============================] - 16s 8ms/step - loss: 0.4671\n",
            "Epoch 10/10\n",
            "1878/1878 [==============================] - 16s 8ms/step - loss: 0.3956\n",
            "TRAIN RMSE:  0.5007167627135511\n",
            "VALID RMSE:  1.1582035329455567\n"
          ],
          "name": "stdout"
        }
      ]
    },
    {
      "cell_type": "markdown",
      "metadata": {
        "id": "Qb9mHKaMJOop"
      },
      "source": [
        "# Make Predictions"
      ]
    },
    {
      "cell_type": "code",
      "metadata": {
        "colab": {
          "base_uri": "https://localhost:8080/"
        },
        "id": "xazdJgQCnl-3",
        "outputId": "c4269bc6-26e5-43f1-945a-916ad3f6d7fd"
      },
      "source": [
        "model = build_cfmodel(\n",
        "    n_users, n_items, \n",
        "    embed_size=10,\n",
        "    output_layer=\"mlp\")\n",
        "\n",
        "model.compile(optimizer='adam', loss='mse')\n",
        "history = model.fit(\n",
        "    [tr_users, tr_items], \n",
        "    tr_ratings, \n",
        "    epochs=1, \n",
        "    verbose=1,\n",
        "    callbacks=[ModelCheckpoint('model.h5')])\n",
        "\n",
        "y_pred = model.predict([tr_users, tr_items])\n",
        "print(\"TRAIN RMSE: \", rmse(y_pred, tr_ratings))\n",
        "y_pred = model.predict([val_users, val_items])\n",
        "print(\"VALID RMSE: \", rmse(y_pred, val_ratings))"
      ],
      "execution_count": 37,
      "outputs": [
        {
          "output_type": "stream",
          "text": [
            "1878/1878 [==============================] - 7s 3ms/step - loss: 3.2590\n",
            "TRAIN RMSE:  0.9798878090075481\n",
            "VALID RMSE:  1.0350033556132094\n"
          ],
          "name": "stdout"
        }
      ]
    },
    {
      "cell_type": "code",
      "metadata": {
        "colab": {
          "base_uri": "https://localhost:8080/"
        },
        "id": "LH4W0cQokR_6",
        "outputId": "7e021a8f-deaa-4f00-a68f-7dc75c333875"
      },
      "source": [
        "res_df = pd.DataFrame()\n",
        "res_df['pred'] = y_pred[:, 0]\n",
        "res_df.to_csv(\"{}.csv\".format(STUDENT_ID), index=False)\n",
        "print(\"Writing test predictions to file done.\")"
      ],
      "execution_count": 38,
      "outputs": [
        {
          "output_type": "stream",
          "text": [
            "Writing test predictions to file done.\n"
          ],
          "name": "stdout"
        }
      ]
    }
  ]
}