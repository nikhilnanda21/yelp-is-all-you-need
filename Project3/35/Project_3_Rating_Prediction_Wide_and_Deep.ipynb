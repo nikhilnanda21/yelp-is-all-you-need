{
  "nbformat": 4,
  "nbformat_minor": 0,
  "metadata": {
    "colab": {
      "name": "Project_3_Rating_Prediction_Wide_and_Deep.ipynb",
      "provenance": [],
      "collapsed_sections": [
        "9lgtexoqhXkk"
      ],
      "toc_visible": true
    },
    "kernelspec": {
      "name": "python3",
      "display_name": "Python 3"
    },
    "language_info": {
      "name": "python"
    },
    "accelerator": "GPU"
  },
  "cells": [
    {
      "cell_type": "markdown",
      "metadata": {
        "id": "HvIaSdSdoiGv"
      },
      "source": [
        "#Goal: RMSE 1.005"
      ]
    },
    {
      "cell_type": "markdown",
      "metadata": {
        "id": "I9FVuxbNnoyc"
      },
      "source": [
        "#Student ID"
      ]
    },
    {
      "cell_type": "code",
      "metadata": {
        "id": "T_KRm9hwkHgt"
      },
      "source": [
        "STUDENT_ID = '20491384'"
      ],
      "execution_count": 1,
      "outputs": []
    },
    {
      "cell_type": "code",
      "metadata": {
        "colab": {
          "base_uri": "https://localhost:8080/"
        },
        "id": "QeGVHoYhevfC",
        "outputId": "e6a82251-918c-4262-f59e-c7b77a6a836a"
      },
      "source": [
        "%tensorflow_version 1.x"
      ],
      "execution_count": 2,
      "outputs": [
        {
          "output_type": "stream",
          "text": [
            "TensorFlow 1.x selected.\n"
          ],
          "name": "stdout"
        }
      ]
    },
    {
      "cell_type": "markdown",
      "metadata": {
        "id": "sIlNoTTtnuoc"
      },
      "source": [
        "#Download Data"
      ]
    },
    {
      "cell_type": "code",
      "metadata": {
        "id": "rxJKQQKBlgOA"
      },
      "source": [
        "!wget -q https://hkustconnect-my.sharepoint.com/:u:/g/personal/nnanda_connect_ust_hk/Ea7QgUR0Cp9Hu7cB6ApBqG8BPv4dlpSUzbqu4xa4Lv-rfw?download=1 -O \"Project3 data.zip\"\n",
        "!unzip -q \"Project3 data.zip\""
      ],
      "execution_count": 3,
      "outputs": []
    },
    {
      "cell_type": "markdown",
      "metadata": {
        "id": "j5dMDxmRgmks"
      },
      "source": [
        "# Import Libraries"
      ]
    },
    {
      "cell_type": "code",
      "metadata": {
        "colab": {
          "base_uri": "https://localhost:8080/"
        },
        "id": "RBVLtDRTSFQ3",
        "outputId": "7c82f397-fbd2-4707-c062-1f9cf8c9d850"
      },
      "source": [
        "from collections import Counter\n",
        "from itertools import combinations\n",
        "from math import sqrt\n",
        "import os\n",
        "# os.environ[\"CUDA_VISIBLE_DEVICES\"] = \"0\" #comment out this line if you want to use gpu\n",
        "import random\n",
        "from keras.layers import Concatenate, Dense, Dot, Dropout, Embedding, Input, Reshape\n",
        "from keras.models import Model\n",
        "from keras.callbacks import Callback, ModelCheckpoint\n",
        "import numpy as np\n",
        "import pandas as pd\n",
        "from sklearn.metrics import mean_squared_error\n",
        "from sklearn.preprocessing import StandardScaler\n",
        "import tensorflow"
      ],
      "execution_count": 4,
      "outputs": [
        {
          "output_type": "stream",
          "text": [
            "Using TensorFlow backend.\n"
          ],
          "name": "stderr"
        }
      ]
    },
    {
      "cell_type": "markdown",
      "metadata": {
        "id": "J3v9rDZmgim4"
      },
      "source": [
        "# Set random seed"
      ]
    },
    {
      "cell_type": "code",
      "metadata": {
        "id": "M7ybqSSfSMH-"
      },
      "source": [
        "import random\n",
        "random.seed(2021)\n",
        "np.random.seed(2021)\n",
        "# tf > 2.0\n",
        "# tensorflow.random.set_seed(2021)\n",
        "#tf < 2.0\n",
        "tensorflow.set_random_seed(2021)"
      ],
      "execution_count": 5,
      "outputs": []
    },
    {
      "cell_type": "markdown",
      "metadata": {
        "id": "oYvDsQZkguq3"
      },
      "source": [
        "#RMSE Calculation\n",
        "\n",
        "Root Mean Squared Error (RMSE) is used to evaluate the performance of a recommendation algorithm, so we need to define the following utility function to compute the RMSE given the predicted ratings and the ground truth ratings."
      ]
    },
    {
      "cell_type": "code",
      "metadata": {
        "id": "6sAm_LcrSPtY"
      },
      "source": [
        "'''\n",
        "params:\n",
        "    -pred: an array containing all predicted ratings\n",
        "    -actual: an array containing all ground truth ratings\n",
        "    \n",
        "return:\n",
        "    a scalar whose value is the rmse\n",
        "'''\n",
        "def rmse(pred, actual):\n",
        "    # Ignore ratings with value zero.\n",
        "    pred = pred[actual.nonzero()].flatten()\n",
        "    actual = actual[actual.nonzero()].flatten()\n",
        "    return sqrt(mean_squared_error(pred, actual))"
      ],
      "execution_count": 6,
      "outputs": []
    },
    {
      "cell_type": "markdown",
      "metadata": {
        "id": "tXgJnt-8g3_b"
      },
      "source": [
        "# Build Wide and Deep Learning (WDL) Model\n",
        "\n",
        "The wide component is a generalized linear model that takes in the raw input features and the cross-product transformation of categorical features, which enables it to learn the frequent co-occurrence of items or features. \n",
        "\n",
        "The deep component is a Feed-forward Neural Network (FNN) which takes in both continuous and categorical features as input. Specifically,  the normalized values of continuous features are concatenated with the low-dimensional dense embedding vectors converted from categorical features. This concatenated vector is then fed into the FNN during each foward pass. This mechanism tend to increase the diversity of recommendations."
      ]
    },
    {
      "cell_type": "code",
      "metadata": {
        "id": "ZkUxjhmHSTP1"
      },
      "source": [
        "'''\n",
        "params:\n",
        "    -len_continuous: number of continuous features\n",
        "    -deep_vocab_lens: an array of integers where deep_vocab_lens[i] represents the number of unique values of (i+1)-th deep \n",
        "        categorical feature\n",
        "    -len_wide: number of wide features\n",
        "    -embed_size: dimension of the embedding vectors of deep categorical features\n",
        "    \n",
        "return:\n",
        "    a keras Model object for the constructed wdl model \n",
        "'''\n",
        "\n",
        "\n",
        "def build_wdl_model(len_continuous, deep_vocab_lens, len_wide, embed_size):\n",
        "    # A list containing all input layers\n",
        "    input_list = []\n",
        "    \n",
        "    # Input layer for continuous features\n",
        "    continuous_input = Input(shape=(len_continuous,), dtype='float32', name='continuous_input')\n",
        "    input_list.append(continuous_input)\n",
        "    \n",
        "    \n",
        "    # Get embeddings for all deep categorical features\n",
        "    emb_list = []\n",
        "    for vocab_size in deep_vocab_lens:\n",
        "        _input = Input(shape=(1,), dtype='int32')\n",
        "        input_list.append(_input)\n",
        "        _emb = Embedding(output_dim=embed_size, input_dim=vocab_size, input_length=1)(_input)\n",
        "        _emb = Reshape((embed_size,))(_emb)\n",
        "        emb_list.append(_emb)\n",
        "\n",
        "    # Create input layer for deep component by concatenating the embeddings and continuous features' input layer\n",
        "    deep_input = Concatenate()(emb_list + [continuous_input])\n",
        "    \n",
        "\n",
        "    # Construct deep component\n",
        "    dense_1 = Dense(256, activation='relu')(deep_input)\n",
        "    dense_1_dp = Dropout(0.3)(dense_1)\n",
        "    # dense_2 = Dense(128, activation='relu')(dense_1_dp)\n",
        "    # dense_2_dp = Dropout(0.3)(dense_2)\n",
        "    # dense_3 = Dense(64, activation='relu')(dense_2_dp)\n",
        "    # dense_3_dp = Dropout(0.3)(dense_3)\n",
        "    dense_3_dp = dense_1_dp\n",
        "\n",
        "    \n",
        "    # Create input layer for wide component\n",
        "    wide_input = Input(shape=(len_wide,), dtype='float32')\n",
        "    input_list.append(wide_input)\n",
        "\n",
        "    \n",
        "    # Concatenate the outputs of deep and wide components and feed the \n",
        "    # concatenated vector into the finall fully connected layer\n",
        "    fc_input = Concatenate()([dense_3_dp, wide_input])\n",
        "    model_output = Dense(1)(fc_input)\n",
        "    \n",
        "    model = Model(inputs=input_list,\n",
        "                  outputs=model_output)\n",
        "    return model"
      ],
      "execution_count": 7,
      "outputs": []
    },
    {
      "cell_type": "markdown",
      "metadata": {
        "id": "LW3Ms5QlhRU8"
      },
      "source": [
        "# Utility functions to get the values of different types of features"
      ]
    },
    {
      "cell_type": "markdown",
      "metadata": {
        "id": "9lgtexoqhXkk"
      },
      "source": [
        "## Continuous features"
      ]
    },
    {
      "cell_type": "code",
      "metadata": {
        "id": "FfGXfCf_SfUy"
      },
      "source": [
        "'''\n",
        "params:\n",
        "    -df: input dataframe\n",
        "    -continuous_columns: column names of continuous features\n",
        "    \n",
        "return: \n",
        "    a numpy array where each row contains the values of continuous features in the corresponding row of the\n",
        "    input dataframe\n",
        "'''\n",
        "def get_continuous_features(df, continuous_columns):\n",
        "    continuous_features = df[continuous_columns].values\n",
        "    return continuous_features"
      ],
      "execution_count": 8,
      "outputs": []
    },
    {
      "cell_type": "markdown",
      "metadata": {
        "id": "jWcyRuU8hfD1"
      },
      "source": [
        "## Cross product transformation of categorical features"
      ]
    },
    {
      "cell_type": "code",
      "metadata": {
        "id": "sjOhy6q2SjR3"
      },
      "source": [
        "'''\n",
        "params:\n",
        "    -df: input dataframe\n",
        "    -comb_p: number of elements in each combination (e.g., there are two elements in the combination {fried chicken, chicken and \n",
        "    waffle}, and three elements in the combination {fried chicken, chicken and waffle, chicken fried rice})\n",
        "    -topk: number of mostly frequent combinations to retrieve\n",
        "    -output_freq: whether to return the frequencies of retrieved combinations\n",
        "    \n",
        "return:\n",
        "    1. output_freq = True: a list X where each element is a tuple containing a combinantion tuple and corresponding frequency, and the \n",
        "        elements are stored in the descending order of their frequencies\n",
        "    2. output_freq = False: a list X where each element is a tuple containing a combinantion tuple, and the elements are stored in \n",
        "    the descending order of their frequencies\n",
        "'''\n",
        "def get_top_k_p_combinations(df, comb_p, topk, output_freq=False):\n",
        "    # get all combinations with comb_p\n",
        "    def get_category_combinations(categories_str, comb_p=2):\n",
        "        categories = categories_str.split(', ')\n",
        "        return list(combinations(categories, comb_p))\n",
        "    # [('Lounges', 'Dance Clubs'), ('Lounges', 'Bars'), ('Lounges', 'Nightlife'), ('Dance Clubs', 'Bars'), ('Dance Clubs', 'Nightlife'), ('Bars', 'Nightlife')]\n",
        "    all_categories_p_combos = df[\"item_categories\"].apply(\n",
        "        lambda x: get_category_combinations(x, comb_p)).values.tolist()\n",
        "    # ('Lounges', 'Dance Clubs')\n",
        "    # list of tuples that each index refer to one combination\n",
        "    all_categories_p_combos = [tuple(t) for item in all_categories_p_combos for t in item]\n",
        "\n",
        "    tmp = dict(Counter(all_categories_p_combos))\n",
        "    sorted_categories_combinations = list(sorted(tmp.items(), key=lambda x: x[1], reverse=True))\n",
        "    if output_freq:\n",
        "        return sorted_categories_combinations[:topk]\n",
        "    else:\n",
        "        return [t[0] for t in sorted_categories_combinations[:topk]]"
      ],
      "execution_count": 9,
      "outputs": []
    },
    {
      "cell_type": "markdown",
      "metadata": {
        "id": "TPzbeIPEhoXf"
      },
      "source": [
        "## Wide features"
      ]
    },
    {
      "cell_type": "code",
      "metadata": {
        "id": "c3T4a4GUSm1F"
      },
      "source": [
        "'''\n",
        "params:\n",
        "    -df: input dataframe\n",
        "    -selected_categories_to_idx: a dictionary mapping item categories to corrresponding integral indices\n",
        "    -top_combinations: a list containing retrieved mostly frequent combinantions of item categories\n",
        "    \n",
        "return:\n",
        "    a numpy array where each row contains the categorical features' binary encodings and cross product\n",
        "    transformations for the corresponding row of the input dataframe\n",
        "'''\n",
        "\n",
        "def get_wide_features(df, selected_categories_to_idx, top_combinations):\n",
        "    def categories_to_binary_output(categories):\n",
        "        binary_output = [0 for _ in range(len(selected_categories_to_idx))]\n",
        "        for category in categories.split(', '):\n",
        "            if category in selected_categories_to_idx:\n",
        "                binary_output[selected_categories_to_idx[category]] = 1\n",
        "            else:\n",
        "                binary_output[0] = 1\n",
        "        return binary_output\n",
        "    def categories_cross_transformation(categories):\n",
        "        current_category_set = set(categories.split(', '))\n",
        "        corss_transform_output = [0 for _ in range(len(top_combinations))]\n",
        "        for k, comb_k in enumerate(top_combinations):\n",
        "            if len(current_category_set & comb_k) == len(comb_k):\n",
        "                corss_transform_output[k] = 1\n",
        "            else:\n",
        "                corss_transform_output[k] = 0\n",
        "        return corss_transform_output\n",
        "\n",
        "    category_binary_features = np.array(df.item_categories.apply(\n",
        "        lambda x: categories_to_binary_output(x)).values.tolist())\n",
        "    print('category_binary_features shape:',category_binary_features.shape)\n",
        "    category_corss_transform_features = np.array(df.item_categories.apply(\n",
        "        lambda x: categories_cross_transformation(x)).values.tolist())\n",
        "    print('category_cross_features shape:',category_corss_transform_features.shape)\n",
        "    out = np.concatenate((category_binary_features, category_corss_transform_features), axis=1)\n",
        "    print('wide features shape:',out.shape)\n",
        "    return np.concatenate((category_binary_features, category_corss_transform_features), axis=1)"
      ],
      "execution_count": 10,
      "outputs": []
    },
    {
      "cell_type": "markdown",
      "metadata": {
        "id": "U1RztXp6htjY"
      },
      "source": [
        "# Rating Prediction"
      ]
    },
    {
      "cell_type": "markdown",
      "metadata": {
        "id": "JfxNfw_Xhuf3"
      },
      "source": [
        "## Load train, validation and test rating tables"
      ]
    },
    {
      "cell_type": "code",
      "metadata": {
        "id": "f0hKgSjTSqQD"
      },
      "source": [
        "tr_df = pd.read_csv(\"data/train.csv\")\n",
        "val_df = pd.read_csv(\"data/valid.csv\")\n",
        "te_df = pd.read_csv(\"data/test.csv\")\n",
        "\n",
        "tr_ratings = tr_df.stars.values\n",
        "val_ratings = val_df.stars.values"
      ],
      "execution_count": 11,
      "outputs": []
    },
    {
      "cell_type": "code",
      "metadata": {
        "colab": {
          "base_uri": "https://localhost:8080/"
        },
        "id": "LVc9bVLuxAyW",
        "outputId": "e98f2137-89fa-4c39-a8a1-000a50e8ebe2"
      },
      "source": [
        "np.unique(tr_ratings), np.unique(val_ratings)"
      ],
      "execution_count": 12,
      "outputs": [
        {
          "output_type": "execute_result",
          "data": {
            "text/plain": [
              "(array([1., 2., 3., 4., 5.]), array([1., 2., 3., 4., 5.]))"
            ]
          },
          "metadata": {
            "tags": []
          },
          "execution_count": 12
        }
      ]
    },
    {
      "cell_type": "markdown",
      "metadata": {
        "id": "xlkUuj-IhzNA"
      },
      "source": [
        "## Load content feautures tables of users and items"
      ]
    },
    {
      "cell_type": "code",
      "metadata": {
        "id": "7TtMHAQ-Sume"
      },
      "source": [
        "user_df = pd.read_csv(\"data/user.csv\")\n",
        "item_df = pd.read_csv(\"data/business.csv\")"
      ],
      "execution_count": 13,
      "outputs": []
    },
    {
      "cell_type": "code",
      "metadata": {
        "colab": {
          "base_uri": "https://localhost:8080/",
          "height": 326
        },
        "id": "nOXqMN9ByIbX",
        "outputId": "3c6212e2-ddbe-45a9-875a-f1ade436fc55"
      },
      "source": [
        "user_df.head()"
      ],
      "execution_count": 14,
      "outputs": [
        {
          "output_type": "execute_result",
          "data": {
            "text/html": [
              "<div>\n",
              "<style scoped>\n",
              "    .dataframe tbody tr th:only-of-type {\n",
              "        vertical-align: middle;\n",
              "    }\n",
              "\n",
              "    .dataframe tbody tr th {\n",
              "        vertical-align: top;\n",
              "    }\n",
              "\n",
              "    .dataframe thead th {\n",
              "        text-align: right;\n",
              "    }\n",
              "</style>\n",
              "<table border=\"1\" class=\"dataframe\">\n",
              "  <thead>\n",
              "    <tr style=\"text-align: right;\">\n",
              "      <th></th>\n",
              "      <th>Unnamed: 0</th>\n",
              "      <th>user_id</th>\n",
              "      <th>name</th>\n",
              "      <th>review_count</th>\n",
              "      <th>yelping_since</th>\n",
              "      <th>useful</th>\n",
              "      <th>funny</th>\n",
              "      <th>cool</th>\n",
              "      <th>elite</th>\n",
              "      <th>fans</th>\n",
              "      <th>average_stars</th>\n",
              "      <th>compliment_hot</th>\n",
              "      <th>compliment_more</th>\n",
              "      <th>compliment_profile</th>\n",
              "      <th>compliment_cute</th>\n",
              "      <th>compliment_list</th>\n",
              "      <th>compliment_note</th>\n",
              "      <th>compliment_plain</th>\n",
              "      <th>compliment_cool</th>\n",
              "      <th>compliment_funny</th>\n",
              "      <th>compliment_writer</th>\n",
              "      <th>compliment_photos</th>\n",
              "    </tr>\n",
              "  </thead>\n",
              "  <tbody>\n",
              "    <tr>\n",
              "      <th>0</th>\n",
              "      <td>0</td>\n",
              "      <td>f04e1b175716b9ff46f0f58d14f65cbe</td>\n",
              "      <td>Karen</td>\n",
              "      <td>85</td>\n",
              "      <td>2008-07-13 17:51:38</td>\n",
              "      <td>63</td>\n",
              "      <td>25</td>\n",
              "      <td>45</td>\n",
              "      <td>2017,2018</td>\n",
              "      <td>4</td>\n",
              "      <td>4.40</td>\n",
              "      <td>1</td>\n",
              "      <td>0</td>\n",
              "      <td>0</td>\n",
              "      <td>0</td>\n",
              "      <td>0</td>\n",
              "      <td>1</td>\n",
              "      <td>3</td>\n",
              "      <td>1</td>\n",
              "      <td>1</td>\n",
              "      <td>3</td>\n",
              "      <td>0</td>\n",
              "    </tr>\n",
              "    <tr>\n",
              "      <th>1</th>\n",
              "      <td>1</td>\n",
              "      <td>9de9e40b3727c667a5b7c1664aa59a5b</td>\n",
              "      <td>Bobby</td>\n",
              "      <td>376</td>\n",
              "      <td>2010-03-10 23:55:33</td>\n",
              "      <td>1754</td>\n",
              "      <td>1036</td>\n",
              "      <td>1124</td>\n",
              "      <td>2013,2014,2015,2016,2017,2018</td>\n",
              "      <td>39</td>\n",
              "      <td>3.64</td>\n",
              "      <td>47</td>\n",
              "      <td>6</td>\n",
              "      <td>2</td>\n",
              "      <td>2</td>\n",
              "      <td>1</td>\n",
              "      <td>38</td>\n",
              "      <td>77</td>\n",
              "      <td>106</td>\n",
              "      <td>106</td>\n",
              "      <td>52</td>\n",
              "      <td>3</td>\n",
              "    </tr>\n",
              "    <tr>\n",
              "      <th>2</th>\n",
              "      <td>2</td>\n",
              "      <td>41a23c92933408a7fd98abed3d3d0071</td>\n",
              "      <td>Michele</td>\n",
              "      <td>244</td>\n",
              "      <td>2011-02-01 01:29:47</td>\n",
              "      <td>435</td>\n",
              "      <td>76</td>\n",
              "      <td>145</td>\n",
              "      <td>NaN</td>\n",
              "      <td>23</td>\n",
              "      <td>4.38</td>\n",
              "      <td>6</td>\n",
              "      <td>5</td>\n",
              "      <td>0</td>\n",
              "      <td>1</td>\n",
              "      <td>0</td>\n",
              "      <td>4</td>\n",
              "      <td>13</td>\n",
              "      <td>13</td>\n",
              "      <td>13</td>\n",
              "      <td>9</td>\n",
              "      <td>6</td>\n",
              "    </tr>\n",
              "    <tr>\n",
              "      <th>3</th>\n",
              "      <td>3</td>\n",
              "      <td>1e8b87bf395e036ba5eff80e8b47d509</td>\n",
              "      <td>Christopher</td>\n",
              "      <td>267</td>\n",
              "      <td>2011-05-18 23:00:16</td>\n",
              "      <td>1438</td>\n",
              "      <td>767</td>\n",
              "      <td>1157</td>\n",
              "      <td>2013,2014,2015,2016,2017,2018</td>\n",
              "      <td>49</td>\n",
              "      <td>3.83</td>\n",
              "      <td>44</td>\n",
              "      <td>8</td>\n",
              "      <td>2</td>\n",
              "      <td>0</td>\n",
              "      <td>0</td>\n",
              "      <td>39</td>\n",
              "      <td>71</td>\n",
              "      <td>146</td>\n",
              "      <td>146</td>\n",
              "      <td>107</td>\n",
              "      <td>3</td>\n",
              "    </tr>\n",
              "    <tr>\n",
              "      <th>4</th>\n",
              "      <td>4</td>\n",
              "      <td>344c541cfca0e120924456e8c8cfd468</td>\n",
              "      <td>Lamiya</td>\n",
              "      <td>55</td>\n",
              "      <td>2012-05-05 19:02:11</td>\n",
              "      <td>71</td>\n",
              "      <td>31</td>\n",
              "      <td>52</td>\n",
              "      <td>NaN</td>\n",
              "      <td>2</td>\n",
              "      <td>4.16</td>\n",
              "      <td>1</td>\n",
              "      <td>0</td>\n",
              "      <td>0</td>\n",
              "      <td>0</td>\n",
              "      <td>0</td>\n",
              "      <td>0</td>\n",
              "      <td>3</td>\n",
              "      <td>1</td>\n",
              "      <td>1</td>\n",
              "      <td>0</td>\n",
              "      <td>0</td>\n",
              "    </tr>\n",
              "  </tbody>\n",
              "</table>\n",
              "</div>"
            ],
            "text/plain": [
              "   Unnamed: 0  ... compliment_photos\n",
              "0           0  ...                 0\n",
              "1           1  ...                 3\n",
              "2           2  ...                 6\n",
              "3           3  ...                 3\n",
              "4           4  ...                 0\n",
              "\n",
              "[5 rows x 22 columns]"
            ]
          },
          "metadata": {
            "tags": []
          },
          "execution_count": 14
        }
      ]
    },
    {
      "cell_type": "code",
      "metadata": {
        "colab": {
          "base_uri": "https://localhost:8080/",
          "height": 564
        },
        "id": "RGsJzKYux4gV",
        "outputId": "969b0f75-b81b-4a23-f23c-cb0446775174"
      },
      "source": [
        "item_df.head()"
      ],
      "execution_count": 15,
      "outputs": [
        {
          "output_type": "execute_result",
          "data": {
            "text/html": [
              "<div>\n",
              "<style scoped>\n",
              "    .dataframe tbody tr th:only-of-type {\n",
              "        vertical-align: middle;\n",
              "    }\n",
              "\n",
              "    .dataframe tbody tr th {\n",
              "        vertical-align: top;\n",
              "    }\n",
              "\n",
              "    .dataframe thead th {\n",
              "        text-align: right;\n",
              "    }\n",
              "</style>\n",
              "<table border=\"1\" class=\"dataframe\">\n",
              "  <thead>\n",
              "    <tr style=\"text-align: right;\">\n",
              "      <th></th>\n",
              "      <th>Unnamed: 0</th>\n",
              "      <th>business_id</th>\n",
              "      <th>name</th>\n",
              "      <th>address</th>\n",
              "      <th>city</th>\n",
              "      <th>state</th>\n",
              "      <th>postal_code</th>\n",
              "      <th>latitude</th>\n",
              "      <th>longitude</th>\n",
              "      <th>stars</th>\n",
              "      <th>review_count</th>\n",
              "      <th>is_open</th>\n",
              "      <th>attributes</th>\n",
              "      <th>categories</th>\n",
              "      <th>hours</th>\n",
              "    </tr>\n",
              "  </thead>\n",
              "  <tbody>\n",
              "    <tr>\n",
              "      <th>0</th>\n",
              "      <td>0</td>\n",
              "      <td>de9d8b06461fa8193081e69d4e3ae345</td>\n",
              "      <td>Apteka</td>\n",
              "      <td>4606 Penn Ave</td>\n",
              "      <td>Pittsburgh</td>\n",
              "      <td>PA</td>\n",
              "      <td>15224</td>\n",
              "      <td>40.465694</td>\n",
              "      <td>-79.949324</td>\n",
              "      <td>4.5</td>\n",
              "      <td>242</td>\n",
              "      <td>1</td>\n",
              "      <td>{'CoatCheck': 'False', 'BusinessParking': \"{'g...</td>\n",
              "      <td>Nightlife, Bars, Polish, Modern European, Rest...</td>\n",
              "      <td>{'Wednesday': '17:0-0:0', 'Thursday': '17:0-0:...</td>\n",
              "    </tr>\n",
              "    <tr>\n",
              "      <th>1</th>\n",
              "      <td>1</td>\n",
              "      <td>334a85d83ec4545b5b2b4581e5182c47</td>\n",
              "      <td>Nee House Chinese Restaurant</td>\n",
              "      <td>13843 N Tatum Blvd, Ste 15</td>\n",
              "      <td>Phoenix</td>\n",
              "      <td>AZ</td>\n",
              "      <td>85032</td>\n",
              "      <td>33.613020</td>\n",
              "      <td>-111.977036</td>\n",
              "      <td>3.5</td>\n",
              "      <td>269</td>\n",
              "      <td>1</td>\n",
              "      <td>{'Caters': 'True', 'GoodForKids': 'True', 'Noi...</td>\n",
              "      <td>Chinese, Restaurants</td>\n",
              "      <td>{'Monday': '11:0-21:0', 'Tuesday': '11:0-21:0'...</td>\n",
              "    </tr>\n",
              "    <tr>\n",
              "      <th>2</th>\n",
              "      <td>2</td>\n",
              "      <td>d39623cbcc490dff7ec1036a4f43a337</td>\n",
              "      <td>Vintage 95</td>\n",
              "      <td>95 W Boston</td>\n",
              "      <td>Chandler</td>\n",
              "      <td>AZ</td>\n",
              "      <td>85225</td>\n",
              "      <td>33.302093</td>\n",
              "      <td>-111.842613</td>\n",
              "      <td>4.0</td>\n",
              "      <td>320</td>\n",
              "      <td>0</td>\n",
              "      <td>{'OutdoorSeating': 'True', 'HasTV': 'True', 'N...</td>\n",
              "      <td>American (New), Bars, Wine Bars, Nightlife, Re...</td>\n",
              "      <td>{'Monday': '11:0-22:0', 'Tuesday': '11:0-22:0'...</td>\n",
              "    </tr>\n",
              "    <tr>\n",
              "      <th>3</th>\n",
              "      <td>3</td>\n",
              "      <td>218d525e3a7223a9e2265c2ea481116d</td>\n",
              "      <td>Served</td>\n",
              "      <td>1770 W Horizon Ridge, Ste 100</td>\n",
              "      <td>Henderson</td>\n",
              "      <td>NV</td>\n",
              "      <td>89012</td>\n",
              "      <td>36.010745</td>\n",
              "      <td>-115.064803</td>\n",
              "      <td>4.5</td>\n",
              "      <td>664</td>\n",
              "      <td>1</td>\n",
              "      <td>{'DriveThru': 'False', 'RestaurantsAttire': \"'...</td>\n",
              "      <td>Ethnic Food, American (New), Burgers, Food, Re...</td>\n",
              "      <td>{'Monday': '0:0-0:0', 'Tuesday': '9:0-15:0', '...</td>\n",
              "    </tr>\n",
              "    <tr>\n",
              "      <th>4</th>\n",
              "      <td>4</td>\n",
              "      <td>d5062bde99f4003b7b7ef546c16cf0cc</td>\n",
              "      <td>JJ's Red Hots - Dilworth</td>\n",
              "      <td>1514 East Blvd</td>\n",
              "      <td>Charlotte</td>\n",
              "      <td>NC</td>\n",
              "      <td>28203</td>\n",
              "      <td>35.199798</td>\n",
              "      <td>-80.842295</td>\n",
              "      <td>4.0</td>\n",
              "      <td>380</td>\n",
              "      <td>1</td>\n",
              "      <td>{'RestaurantsReservations': 'True', 'BusinessA...</td>\n",
              "      <td>Caterers, Hot Dogs, Restaurants, Vegetarian, A...</td>\n",
              "      <td>{'Monday': '11:0-21:0', 'Tuesday': '11:0-21:0'...</td>\n",
              "    </tr>\n",
              "  </tbody>\n",
              "</table>\n",
              "</div>"
            ],
            "text/plain": [
              "   Unnamed: 0  ...                                              hours\n",
              "0           0  ...  {'Wednesday': '17:0-0:0', 'Thursday': '17:0-0:...\n",
              "1           1  ...  {'Monday': '11:0-21:0', 'Tuesday': '11:0-21:0'...\n",
              "2           2  ...  {'Monday': '11:0-22:0', 'Tuesday': '11:0-22:0'...\n",
              "3           3  ...  {'Monday': '0:0-0:0', 'Tuesday': '9:0-15:0', '...\n",
              "4           4  ...  {'Monday': '11:0-21:0', 'Tuesday': '11:0-21:0'...\n",
              "\n",
              "[5 rows x 15 columns]"
            ]
          },
          "metadata": {
            "tags": []
          },
          "execution_count": 15
        }
      ]
    },
    {
      "cell_type": "code",
      "metadata": {
        "id": "TJ_bUUiAxfTN"
      },
      "source": [
        "# Rename some columns of dfs and convert the indices of dfs into string type for easier reference in later stage \n",
        "user_df = user_df.rename(index=str, columns={t: 'user_' + t for t in user_df.columns if t != 'user_id'})\n",
        "item_df = item_df.rename(index=str, columns={t: 'item_' + t for t in item_df.columns if t != 'business_id'})"
      ],
      "execution_count": 16,
      "outputs": []
    },
    {
      "cell_type": "code",
      "metadata": {
        "colab": {
          "base_uri": "https://localhost:8080/",
          "height": 241
        },
        "id": "t9E2bf36yKbL",
        "outputId": "c8ca60ea-c79c-45ed-c531-64814079291a"
      },
      "source": [
        "user_df.head()"
      ],
      "execution_count": 17,
      "outputs": [
        {
          "output_type": "execute_result",
          "data": {
            "text/html": [
              "<div>\n",
              "<style scoped>\n",
              "    .dataframe tbody tr th:only-of-type {\n",
              "        vertical-align: middle;\n",
              "    }\n",
              "\n",
              "    .dataframe tbody tr th {\n",
              "        vertical-align: top;\n",
              "    }\n",
              "\n",
              "    .dataframe thead th {\n",
              "        text-align: right;\n",
              "    }\n",
              "</style>\n",
              "<table border=\"1\" class=\"dataframe\">\n",
              "  <thead>\n",
              "    <tr style=\"text-align: right;\">\n",
              "      <th></th>\n",
              "      <th>user_Unnamed: 0</th>\n",
              "      <th>user_id</th>\n",
              "      <th>user_name</th>\n",
              "      <th>user_review_count</th>\n",
              "      <th>user_yelping_since</th>\n",
              "      <th>user_useful</th>\n",
              "      <th>user_funny</th>\n",
              "      <th>user_cool</th>\n",
              "      <th>user_elite</th>\n",
              "      <th>user_fans</th>\n",
              "      <th>user_average_stars</th>\n",
              "      <th>user_compliment_hot</th>\n",
              "      <th>user_compliment_more</th>\n",
              "      <th>user_compliment_profile</th>\n",
              "      <th>user_compliment_cute</th>\n",
              "      <th>user_compliment_list</th>\n",
              "      <th>user_compliment_note</th>\n",
              "      <th>user_compliment_plain</th>\n",
              "      <th>user_compliment_cool</th>\n",
              "      <th>user_compliment_funny</th>\n",
              "      <th>user_compliment_writer</th>\n",
              "      <th>user_compliment_photos</th>\n",
              "    </tr>\n",
              "  </thead>\n",
              "  <tbody>\n",
              "    <tr>\n",
              "      <th>0</th>\n",
              "      <td>0</td>\n",
              "      <td>f04e1b175716b9ff46f0f58d14f65cbe</td>\n",
              "      <td>Karen</td>\n",
              "      <td>85</td>\n",
              "      <td>2008-07-13 17:51:38</td>\n",
              "      <td>63</td>\n",
              "      <td>25</td>\n",
              "      <td>45</td>\n",
              "      <td>2017,2018</td>\n",
              "      <td>4</td>\n",
              "      <td>4.40</td>\n",
              "      <td>1</td>\n",
              "      <td>0</td>\n",
              "      <td>0</td>\n",
              "      <td>0</td>\n",
              "      <td>0</td>\n",
              "      <td>1</td>\n",
              "      <td>3</td>\n",
              "      <td>1</td>\n",
              "      <td>1</td>\n",
              "      <td>3</td>\n",
              "      <td>0</td>\n",
              "    </tr>\n",
              "    <tr>\n",
              "      <th>1</th>\n",
              "      <td>1</td>\n",
              "      <td>9de9e40b3727c667a5b7c1664aa59a5b</td>\n",
              "      <td>Bobby</td>\n",
              "      <td>376</td>\n",
              "      <td>2010-03-10 23:55:33</td>\n",
              "      <td>1754</td>\n",
              "      <td>1036</td>\n",
              "      <td>1124</td>\n",
              "      <td>2013,2014,2015,2016,2017,2018</td>\n",
              "      <td>39</td>\n",
              "      <td>3.64</td>\n",
              "      <td>47</td>\n",
              "      <td>6</td>\n",
              "      <td>2</td>\n",
              "      <td>2</td>\n",
              "      <td>1</td>\n",
              "      <td>38</td>\n",
              "      <td>77</td>\n",
              "      <td>106</td>\n",
              "      <td>106</td>\n",
              "      <td>52</td>\n",
              "      <td>3</td>\n",
              "    </tr>\n",
              "    <tr>\n",
              "      <th>2</th>\n",
              "      <td>2</td>\n",
              "      <td>41a23c92933408a7fd98abed3d3d0071</td>\n",
              "      <td>Michele</td>\n",
              "      <td>244</td>\n",
              "      <td>2011-02-01 01:29:47</td>\n",
              "      <td>435</td>\n",
              "      <td>76</td>\n",
              "      <td>145</td>\n",
              "      <td>NaN</td>\n",
              "      <td>23</td>\n",
              "      <td>4.38</td>\n",
              "      <td>6</td>\n",
              "      <td>5</td>\n",
              "      <td>0</td>\n",
              "      <td>1</td>\n",
              "      <td>0</td>\n",
              "      <td>4</td>\n",
              "      <td>13</td>\n",
              "      <td>13</td>\n",
              "      <td>13</td>\n",
              "      <td>9</td>\n",
              "      <td>6</td>\n",
              "    </tr>\n",
              "    <tr>\n",
              "      <th>3</th>\n",
              "      <td>3</td>\n",
              "      <td>1e8b87bf395e036ba5eff80e8b47d509</td>\n",
              "      <td>Christopher</td>\n",
              "      <td>267</td>\n",
              "      <td>2011-05-18 23:00:16</td>\n",
              "      <td>1438</td>\n",
              "      <td>767</td>\n",
              "      <td>1157</td>\n",
              "      <td>2013,2014,2015,2016,2017,2018</td>\n",
              "      <td>49</td>\n",
              "      <td>3.83</td>\n",
              "      <td>44</td>\n",
              "      <td>8</td>\n",
              "      <td>2</td>\n",
              "      <td>0</td>\n",
              "      <td>0</td>\n",
              "      <td>39</td>\n",
              "      <td>71</td>\n",
              "      <td>146</td>\n",
              "      <td>146</td>\n",
              "      <td>107</td>\n",
              "      <td>3</td>\n",
              "    </tr>\n",
              "    <tr>\n",
              "      <th>4</th>\n",
              "      <td>4</td>\n",
              "      <td>344c541cfca0e120924456e8c8cfd468</td>\n",
              "      <td>Lamiya</td>\n",
              "      <td>55</td>\n",
              "      <td>2012-05-05 19:02:11</td>\n",
              "      <td>71</td>\n",
              "      <td>31</td>\n",
              "      <td>52</td>\n",
              "      <td>NaN</td>\n",
              "      <td>2</td>\n",
              "      <td>4.16</td>\n",
              "      <td>1</td>\n",
              "      <td>0</td>\n",
              "      <td>0</td>\n",
              "      <td>0</td>\n",
              "      <td>0</td>\n",
              "      <td>0</td>\n",
              "      <td>3</td>\n",
              "      <td>1</td>\n",
              "      <td>1</td>\n",
              "      <td>0</td>\n",
              "      <td>0</td>\n",
              "    </tr>\n",
              "  </tbody>\n",
              "</table>\n",
              "</div>"
            ],
            "text/plain": [
              "   user_Unnamed: 0  ... user_compliment_photos\n",
              "0                0  ...                      0\n",
              "1                1  ...                      3\n",
              "2                2  ...                      6\n",
              "3                3  ...                      3\n",
              "4                4  ...                      0\n",
              "\n",
              "[5 rows x 22 columns]"
            ]
          },
          "metadata": {
            "tags": []
          },
          "execution_count": 17
        }
      ]
    },
    {
      "cell_type": "code",
      "metadata": {
        "colab": {
          "base_uri": "https://localhost:8080/",
          "height": 496
        },
        "id": "Hqvu3xiYyKkp",
        "outputId": "fadaa37b-d8b4-49cc-96bf-e262f110ce38"
      },
      "source": [
        "item_df.head()"
      ],
      "execution_count": 18,
      "outputs": [
        {
          "output_type": "execute_result",
          "data": {
            "text/html": [
              "<div>\n",
              "<style scoped>\n",
              "    .dataframe tbody tr th:only-of-type {\n",
              "        vertical-align: middle;\n",
              "    }\n",
              "\n",
              "    .dataframe tbody tr th {\n",
              "        vertical-align: top;\n",
              "    }\n",
              "\n",
              "    .dataframe thead th {\n",
              "        text-align: right;\n",
              "    }\n",
              "</style>\n",
              "<table border=\"1\" class=\"dataframe\">\n",
              "  <thead>\n",
              "    <tr style=\"text-align: right;\">\n",
              "      <th></th>\n",
              "      <th>item_Unnamed: 0</th>\n",
              "      <th>business_id</th>\n",
              "      <th>item_name</th>\n",
              "      <th>item_address</th>\n",
              "      <th>item_city</th>\n",
              "      <th>item_state</th>\n",
              "      <th>item_postal_code</th>\n",
              "      <th>item_latitude</th>\n",
              "      <th>item_longitude</th>\n",
              "      <th>item_stars</th>\n",
              "      <th>item_review_count</th>\n",
              "      <th>item_is_open</th>\n",
              "      <th>item_attributes</th>\n",
              "      <th>item_categories</th>\n",
              "      <th>item_hours</th>\n",
              "    </tr>\n",
              "  </thead>\n",
              "  <tbody>\n",
              "    <tr>\n",
              "      <th>0</th>\n",
              "      <td>0</td>\n",
              "      <td>de9d8b06461fa8193081e69d4e3ae345</td>\n",
              "      <td>Apteka</td>\n",
              "      <td>4606 Penn Ave</td>\n",
              "      <td>Pittsburgh</td>\n",
              "      <td>PA</td>\n",
              "      <td>15224</td>\n",
              "      <td>40.465694</td>\n",
              "      <td>-79.949324</td>\n",
              "      <td>4.5</td>\n",
              "      <td>242</td>\n",
              "      <td>1</td>\n",
              "      <td>{'CoatCheck': 'False', 'BusinessParking': \"{'g...</td>\n",
              "      <td>Nightlife, Bars, Polish, Modern European, Rest...</td>\n",
              "      <td>{'Wednesday': '17:0-0:0', 'Thursday': '17:0-0:...</td>\n",
              "    </tr>\n",
              "    <tr>\n",
              "      <th>1</th>\n",
              "      <td>1</td>\n",
              "      <td>334a85d83ec4545b5b2b4581e5182c47</td>\n",
              "      <td>Nee House Chinese Restaurant</td>\n",
              "      <td>13843 N Tatum Blvd, Ste 15</td>\n",
              "      <td>Phoenix</td>\n",
              "      <td>AZ</td>\n",
              "      <td>85032</td>\n",
              "      <td>33.613020</td>\n",
              "      <td>-111.977036</td>\n",
              "      <td>3.5</td>\n",
              "      <td>269</td>\n",
              "      <td>1</td>\n",
              "      <td>{'Caters': 'True', 'GoodForKids': 'True', 'Noi...</td>\n",
              "      <td>Chinese, Restaurants</td>\n",
              "      <td>{'Monday': '11:0-21:0', 'Tuesday': '11:0-21:0'...</td>\n",
              "    </tr>\n",
              "    <tr>\n",
              "      <th>2</th>\n",
              "      <td>2</td>\n",
              "      <td>d39623cbcc490dff7ec1036a4f43a337</td>\n",
              "      <td>Vintage 95</td>\n",
              "      <td>95 W Boston</td>\n",
              "      <td>Chandler</td>\n",
              "      <td>AZ</td>\n",
              "      <td>85225</td>\n",
              "      <td>33.302093</td>\n",
              "      <td>-111.842613</td>\n",
              "      <td>4.0</td>\n",
              "      <td>320</td>\n",
              "      <td>0</td>\n",
              "      <td>{'OutdoorSeating': 'True', 'HasTV': 'True', 'N...</td>\n",
              "      <td>American (New), Bars, Wine Bars, Nightlife, Re...</td>\n",
              "      <td>{'Monday': '11:0-22:0', 'Tuesday': '11:0-22:0'...</td>\n",
              "    </tr>\n",
              "    <tr>\n",
              "      <th>3</th>\n",
              "      <td>3</td>\n",
              "      <td>218d525e3a7223a9e2265c2ea481116d</td>\n",
              "      <td>Served</td>\n",
              "      <td>1770 W Horizon Ridge, Ste 100</td>\n",
              "      <td>Henderson</td>\n",
              "      <td>NV</td>\n",
              "      <td>89012</td>\n",
              "      <td>36.010745</td>\n",
              "      <td>-115.064803</td>\n",
              "      <td>4.5</td>\n",
              "      <td>664</td>\n",
              "      <td>1</td>\n",
              "      <td>{'DriveThru': 'False', 'RestaurantsAttire': \"'...</td>\n",
              "      <td>Ethnic Food, American (New), Burgers, Food, Re...</td>\n",
              "      <td>{'Monday': '0:0-0:0', 'Tuesday': '9:0-15:0', '...</td>\n",
              "    </tr>\n",
              "    <tr>\n",
              "      <th>4</th>\n",
              "      <td>4</td>\n",
              "      <td>d5062bde99f4003b7b7ef546c16cf0cc</td>\n",
              "      <td>JJ's Red Hots - Dilworth</td>\n",
              "      <td>1514 East Blvd</td>\n",
              "      <td>Charlotte</td>\n",
              "      <td>NC</td>\n",
              "      <td>28203</td>\n",
              "      <td>35.199798</td>\n",
              "      <td>-80.842295</td>\n",
              "      <td>4.0</td>\n",
              "      <td>380</td>\n",
              "      <td>1</td>\n",
              "      <td>{'RestaurantsReservations': 'True', 'BusinessA...</td>\n",
              "      <td>Caterers, Hot Dogs, Restaurants, Vegetarian, A...</td>\n",
              "      <td>{'Monday': '11:0-21:0', 'Tuesday': '11:0-21:0'...</td>\n",
              "    </tr>\n",
              "  </tbody>\n",
              "</table>\n",
              "</div>"
            ],
            "text/plain": [
              "   item_Unnamed: 0  ...                                         item_hours\n",
              "0                0  ...  {'Wednesday': '17:0-0:0', 'Thursday': '17:0-0:...\n",
              "1                1  ...  {'Monday': '11:0-21:0', 'Tuesday': '11:0-21:0'...\n",
              "2                2  ...  {'Monday': '11:0-22:0', 'Tuesday': '11:0-22:0'...\n",
              "3                3  ...  {'Monday': '0:0-0:0', 'Tuesday': '9:0-15:0', '...\n",
              "4                4  ...  {'Monday': '11:0-21:0', 'Tuesday': '11:0-21:0'...\n",
              "\n",
              "[5 rows x 15 columns]"
            ]
          },
          "metadata": {
            "tags": []
          },
          "execution_count": 18
        }
      ]
    },
    {
      "cell_type": "markdown",
      "metadata": {
        "id": "GnDaHBbRh3t_"
      },
      "source": [
        "## Associate each row in the rating tables with corresponding user's and item's content features through merging the rating tables and content features tables"
      ]
    },
    {
      "cell_type": "code",
      "metadata": {
        "id": "L2VRmAI2TA6r"
      },
      "source": [
        "# Save the original row indices of each rating table\n",
        "tr_df[\"index\"] = tr_df.index\n",
        "val_df[\"index\"]  = val_df.index\n",
        "te_df[\"index\"] = te_df.index\n",
        "\n",
        "tr_df = pd.merge(pd.merge(tr_df, user_df, on='user_id'), item_df, on='business_id').sort_values(by=['index']).reset_index(drop=True)\n",
        "val_df = pd.merge(pd.merge(val_df, user_df, on='user_id'), item_df, on='business_id').sort_values(by=['index']).reset_index(drop=True)\n",
        "te_df = pd.merge(pd.merge(te_df, user_df, on='user_id'), item_df, on='business_id').sort_values(by=['index']).reset_index(drop=True)"
      ],
      "execution_count": 19,
      "outputs": []
    },
    {
      "cell_type": "code",
      "metadata": {
        "colab": {
          "base_uri": "https://localhost:8080/",
          "height": 496
        },
        "id": "1BHW4WjG2IXC",
        "outputId": "3191abc9-7149-4c64-9c94-311f7f40c66c"
      },
      "source": [
        "tr_df.head()"
      ],
      "execution_count": 20,
      "outputs": [
        {
          "output_type": "execute_result",
          "data": {
            "text/html": [
              "<div>\n",
              "<style scoped>\n",
              "    .dataframe tbody tr th:only-of-type {\n",
              "        vertical-align: middle;\n",
              "    }\n",
              "\n",
              "    .dataframe tbody tr th {\n",
              "        vertical-align: top;\n",
              "    }\n",
              "\n",
              "    .dataframe thead th {\n",
              "        text-align: right;\n",
              "    }\n",
              "</style>\n",
              "<table border=\"1\" class=\"dataframe\">\n",
              "  <thead>\n",
              "    <tr style=\"text-align: right;\">\n",
              "      <th></th>\n",
              "      <th>user_id</th>\n",
              "      <th>business_id</th>\n",
              "      <th>stars</th>\n",
              "      <th>index</th>\n",
              "      <th>user_Unnamed: 0</th>\n",
              "      <th>user_name</th>\n",
              "      <th>user_review_count</th>\n",
              "      <th>user_yelping_since</th>\n",
              "      <th>user_useful</th>\n",
              "      <th>user_funny</th>\n",
              "      <th>user_cool</th>\n",
              "      <th>user_elite</th>\n",
              "      <th>user_fans</th>\n",
              "      <th>user_average_stars</th>\n",
              "      <th>user_compliment_hot</th>\n",
              "      <th>user_compliment_more</th>\n",
              "      <th>user_compliment_profile</th>\n",
              "      <th>user_compliment_cute</th>\n",
              "      <th>user_compliment_list</th>\n",
              "      <th>user_compliment_note</th>\n",
              "      <th>user_compliment_plain</th>\n",
              "      <th>user_compliment_cool</th>\n",
              "      <th>user_compliment_funny</th>\n",
              "      <th>user_compliment_writer</th>\n",
              "      <th>user_compliment_photos</th>\n",
              "      <th>item_Unnamed: 0</th>\n",
              "      <th>item_name</th>\n",
              "      <th>item_address</th>\n",
              "      <th>item_city</th>\n",
              "      <th>item_state</th>\n",
              "      <th>item_postal_code</th>\n",
              "      <th>item_latitude</th>\n",
              "      <th>item_longitude</th>\n",
              "      <th>item_stars</th>\n",
              "      <th>item_review_count</th>\n",
              "      <th>item_is_open</th>\n",
              "      <th>item_attributes</th>\n",
              "      <th>item_categories</th>\n",
              "      <th>item_hours</th>\n",
              "    </tr>\n",
              "  </thead>\n",
              "  <tbody>\n",
              "    <tr>\n",
              "      <th>0</th>\n",
              "      <td>11d83531dcee4af6f5701696ff45a8d8</td>\n",
              "      <td>54eb8c224740ce5a8a1db56324cbf0c0</td>\n",
              "      <td>3.0</td>\n",
              "      <td>0</td>\n",
              "      <td>1666</td>\n",
              "      <td>Jen</td>\n",
              "      <td>75</td>\n",
              "      <td>2007-07-19 00:56:23</td>\n",
              "      <td>150</td>\n",
              "      <td>83</td>\n",
              "      <td>56</td>\n",
              "      <td>NaN</td>\n",
              "      <td>2</td>\n",
              "      <td>3.25</td>\n",
              "      <td>0</td>\n",
              "      <td>0</td>\n",
              "      <td>0</td>\n",
              "      <td>0</td>\n",
              "      <td>0</td>\n",
              "      <td>4</td>\n",
              "      <td>5</td>\n",
              "      <td>2</td>\n",
              "      <td>2</td>\n",
              "      <td>0</td>\n",
              "      <td>1</td>\n",
              "      <td>5188</td>\n",
              "      <td>Four Kegs Sports Bar</td>\n",
              "      <td>276 N Jones Blvd, Ste B</td>\n",
              "      <td>Las Vegas</td>\n",
              "      <td>NV</td>\n",
              "      <td>89107</td>\n",
              "      <td>36.175904</td>\n",
              "      <td>-115.223262</td>\n",
              "      <td>4.0</td>\n",
              "      <td>441</td>\n",
              "      <td>1</td>\n",
              "      <td>{'OutdoorSeating': 'False', 'GoodForMeal': \"{'...</td>\n",
              "      <td>American (New), American (Traditional), Sports...</td>\n",
              "      <td>{'Monday': '0:0-0:0', 'Tuesday': '0:0-0:0', 'W...</td>\n",
              "    </tr>\n",
              "    <tr>\n",
              "      <th>1</th>\n",
              "      <td>f3270a0bfa9f67f4b00fd9dadbf1d3e4</td>\n",
              "      <td>e398e51ecca29473c80b058ab17e903e</td>\n",
              "      <td>5.0</td>\n",
              "      <td>1</td>\n",
              "      <td>298</td>\n",
              "      <td>Matthew</td>\n",
              "      <td>430</td>\n",
              "      <td>2014-05-27 06:33:22</td>\n",
              "      <td>1713</td>\n",
              "      <td>466</td>\n",
              "      <td>1155</td>\n",
              "      <td>2016,2017,2018</td>\n",
              "      <td>73</td>\n",
              "      <td>4.58</td>\n",
              "      <td>26</td>\n",
              "      <td>3</td>\n",
              "      <td>1</td>\n",
              "      <td>0</td>\n",
              "      <td>0</td>\n",
              "      <td>11</td>\n",
              "      <td>47</td>\n",
              "      <td>67</td>\n",
              "      <td>67</td>\n",
              "      <td>21</td>\n",
              "      <td>30</td>\n",
              "      <td>4590</td>\n",
              "      <td>Thai Spices</td>\n",
              "      <td>66 S Dobson Rd, Ste 133</td>\n",
              "      <td>Mesa</td>\n",
              "      <td>AZ</td>\n",
              "      <td>85202</td>\n",
              "      <td>33.412708</td>\n",
              "      <td>-111.875803</td>\n",
              "      <td>4.0</td>\n",
              "      <td>343</td>\n",
              "      <td>1</td>\n",
              "      <td>{'DogsAllowed': 'False', 'Alcohol': \"u'full_ba...</td>\n",
              "      <td>Thai, Restaurants</td>\n",
              "      <td>{'Monday': '11:0-21:30', 'Tuesday': '11:0-21:3...</td>\n",
              "    </tr>\n",
              "    <tr>\n",
              "      <th>2</th>\n",
              "      <td>8515478d756cecae1d46ad274e583fba</td>\n",
              "      <td>62d5a2614594cdfe014cb3f47bc1f183</td>\n",
              "      <td>4.0</td>\n",
              "      <td>2</td>\n",
              "      <td>847</td>\n",
              "      <td>Danielle</td>\n",
              "      <td>66</td>\n",
              "      <td>2013-09-27 21:02:56</td>\n",
              "      <td>186</td>\n",
              "      <td>50</td>\n",
              "      <td>98</td>\n",
              "      <td>2015</td>\n",
              "      <td>16</td>\n",
              "      <td>4.03</td>\n",
              "      <td>12</td>\n",
              "      <td>1</td>\n",
              "      <td>0</td>\n",
              "      <td>0</td>\n",
              "      <td>0</td>\n",
              "      <td>7</td>\n",
              "      <td>15</td>\n",
              "      <td>6</td>\n",
              "      <td>6</td>\n",
              "      <td>9</td>\n",
              "      <td>1</td>\n",
              "      <td>3033</td>\n",
              "      <td>Lakeside</td>\n",
              "      <td>3131 Las Vegas Blvd S</td>\n",
              "      <td>Las Vegas</td>\n",
              "      <td>NV</td>\n",
              "      <td>89109</td>\n",
              "      <td>36.126576</td>\n",
              "      <td>-115.166935</td>\n",
              "      <td>3.5</td>\n",
              "      <td>450</td>\n",
              "      <td>1</td>\n",
              "      <td>{'RestaurantsDelivery': 'False', 'RestaurantsP...</td>\n",
              "      <td>Restaurants, Steakhouses, American (New), Seafood</td>\n",
              "      <td>{'Monday': '17:30-22:0', 'Tuesday': '17:30-22:...</td>\n",
              "    </tr>\n",
              "    <tr>\n",
              "      <th>3</th>\n",
              "      <td>f7a8d4e39387479bee5786d9af7a384e</td>\n",
              "      <td>5e4ad90afb13df5004803bd165a905a9</td>\n",
              "      <td>5.0</td>\n",
              "      <td>3</td>\n",
              "      <td>1153</td>\n",
              "      <td>Lana</td>\n",
              "      <td>247</td>\n",
              "      <td>2013-07-20 22:03:06</td>\n",
              "      <td>363</td>\n",
              "      <td>145</td>\n",
              "      <td>223</td>\n",
              "      <td>2015,2016,2017,2018</td>\n",
              "      <td>9</td>\n",
              "      <td>3.88</td>\n",
              "      <td>2</td>\n",
              "      <td>0</td>\n",
              "      <td>1</td>\n",
              "      <td>1</td>\n",
              "      <td>0</td>\n",
              "      <td>4</td>\n",
              "      <td>10</td>\n",
              "      <td>10</td>\n",
              "      <td>10</td>\n",
              "      <td>6</td>\n",
              "      <td>1</td>\n",
              "      <td>5268</td>\n",
              "      <td>Saku Sushi</td>\n",
              "      <td>478 Queen Street W</td>\n",
              "      <td>Toronto</td>\n",
              "      <td>ON</td>\n",
              "      <td>M5V 2B2</td>\n",
              "      <td>43.648086</td>\n",
              "      <td>-79.400362</td>\n",
              "      <td>4.0</td>\n",
              "      <td>401</td>\n",
              "      <td>1</td>\n",
              "      <td>{'HasTV': 'False', 'RestaurantsReservations': ...</td>\n",
              "      <td>Breakfast &amp; Brunch, Sushi Bars, Japanese, Rest...</td>\n",
              "      <td>{'Monday': '12:0-22:30', 'Tuesday': '12:0-23:3...</td>\n",
              "    </tr>\n",
              "    <tr>\n",
              "      <th>4</th>\n",
              "      <td>edbc6b267c51aaa5f89ec35237126649</td>\n",
              "      <td>cff931388a0021c662fa8d3437448a89</td>\n",
              "      <td>2.0</td>\n",
              "      <td>4</td>\n",
              "      <td>368</td>\n",
              "      <td>G</td>\n",
              "      <td>113</td>\n",
              "      <td>2012-04-11 07:50:10</td>\n",
              "      <td>53</td>\n",
              "      <td>11</td>\n",
              "      <td>17</td>\n",
              "      <td>NaN</td>\n",
              "      <td>0</td>\n",
              "      <td>3.68</td>\n",
              "      <td>0</td>\n",
              "      <td>0</td>\n",
              "      <td>0</td>\n",
              "      <td>0</td>\n",
              "      <td>0</td>\n",
              "      <td>2</td>\n",
              "      <td>0</td>\n",
              "      <td>0</td>\n",
              "      <td>0</td>\n",
              "      <td>0</td>\n",
              "      <td>1</td>\n",
              "      <td>4636</td>\n",
              "      <td>Dave &amp; Buster's</td>\n",
              "      <td>2130 Park Centre Dr, Ste 100</td>\n",
              "      <td>Las Vegas</td>\n",
              "      <td>NV</td>\n",
              "      <td>89135</td>\n",
              "      <td>36.148748</td>\n",
              "      <td>-115.332187</td>\n",
              "      <td>3.0</td>\n",
              "      <td>473</td>\n",
              "      <td>1</td>\n",
              "      <td>{'Caters': 'False', 'RestaurantsTakeOut': 'Tru...</td>\n",
              "      <td>Restaurants, Arts &amp; Entertainment, Sports Bars...</td>\n",
              "      <td>{'Monday': '11:0-0:0', 'Tuesday': '11:0-0:0', ...</td>\n",
              "    </tr>\n",
              "  </tbody>\n",
              "</table>\n",
              "</div>"
            ],
            "text/plain": [
              "                            user_id  ...                                         item_hours\n",
              "0  11d83531dcee4af6f5701696ff45a8d8  ...  {'Monday': '0:0-0:0', 'Tuesday': '0:0-0:0', 'W...\n",
              "1  f3270a0bfa9f67f4b00fd9dadbf1d3e4  ...  {'Monday': '11:0-21:30', 'Tuesday': '11:0-21:3...\n",
              "2  8515478d756cecae1d46ad274e583fba  ...  {'Monday': '17:30-22:0', 'Tuesday': '17:30-22:...\n",
              "3  f7a8d4e39387479bee5786d9af7a384e  ...  {'Monday': '12:0-22:30', 'Tuesday': '12:0-23:3...\n",
              "4  edbc6b267c51aaa5f89ec35237126649  ...  {'Monday': '11:0-0:0', 'Tuesday': '11:0-0:0', ...\n",
              "\n",
              "[5 rows x 39 columns]"
            ]
          },
          "metadata": {
            "tags": []
          },
          "execution_count": 20
        }
      ]
    },
    {
      "cell_type": "code",
      "metadata": {
        "colab": {
          "base_uri": "https://localhost:8080/"
        },
        "id": "C_hxt_pYuxIr",
        "outputId": "89ecab2b-66cf-4140-fed4-059c3ff2f0d2"
      },
      "source": [
        "tr_df.item_attributes"
      ],
      "execution_count": 21,
      "outputs": [
        {
          "output_type": "execute_result",
          "data": {
            "text/plain": [
              "0        {'OutdoorSeating': 'False', 'GoodForMeal': \"{'...\n",
              "1        {'DogsAllowed': 'False', 'Alcohol': \"u'full_ba...\n",
              "2        {'RestaurantsDelivery': 'False', 'RestaurantsP...\n",
              "3        {'HasTV': 'False', 'RestaurantsReservations': ...\n",
              "4        {'Caters': 'False', 'RestaurantsTakeOut': 'Tru...\n",
              "                               ...                        \n",
              "60075    {'BusinessAcceptsCreditCards': 'True', 'Music'...\n",
              "60076    {'NoiseLevel': \"u'loud'\", 'Caters': 'False', '...\n",
              "60077    {'RestaurantsPriceRange2': '3', 'WiFi': \"u'pai...\n",
              "60078    {'DogsAllowed': 'False', 'NoiseLevel': \"u'aver...\n",
              "60079    {'RestaurantsDelivery': 'False', 'RestaurantsA...\n",
              "Name: item_attributes, Length: 60080, dtype: object"
            ]
          },
          "metadata": {
            "tags": []
          },
          "execution_count": 21
        }
      ]
    },
    {
      "cell_type": "markdown",
      "metadata": {
        "id": "JiiN3HPUh-Rd"
      },
      "source": [
        "## Prepare continuous features"
      ]
    },
    {
      "cell_type": "code",
      "metadata": {
        "id": "0mYrjyx7Ta0O"
      },
      "source": [
        "# Specify the columns containing conitnuous features\n",
        "# continuous_columns = [\"user_average_stars\", \"user_cool\", \"user_fans\", \n",
        "#                       \"user_review_count\", \"user_useful\", \"user_funny\",\n",
        "#                       \"item_is_open\", \"item_latitude\", \"item_longitude\", \n",
        "#                       \"item_review_count\", \"item_stars\"]\n",
        "\n",
        "continuous_columns = [\"user_review_count\", \"user_useful\", \"user_funny\", \"user_cool\", \n",
        "                      \"user_fans\", \"user_average_stars\", \"user_compliment_hot\", \n",
        "                      \"user_compliment_more\", \"user_compliment_profile\", \"user_compliment_cute\", \n",
        "                      \"user_compliment_list\", \"user_compliment_note\", \"user_compliment_plain\", \n",
        "                      \"user_compliment_cool\", \"user_compliment_funny\", \"user_compliment_writer\", \n",
        "                      \"user_compliment_photos\", \"item_latitude\", \"item_longitude\", \"item_stars\", \n",
        "                      \"item_review_count\", \"item_is_open\"]\n",
        "\n",
        "\n",
        "# Get values of continous features for train/validation/test sets using the utility function defined previously\n",
        "\n",
        "tr_continuous_features = get_continuous_features(tr_df, continuous_columns)\n",
        "val_continuous_features = get_continuous_features(val_df, continuous_columns)\n",
        "te_continuous_features = get_continuous_features(te_df, continuous_columns)\n",
        "\n",
        "# Standardize each feature by removing the mean of the training samples and scaling to unit variance.\n",
        "# See https://scikit-learn.org/stable/modules/generated/sklearn.preprocessing.StandardScaler.html for more details.\n",
        "scaler = StandardScaler().fit(tr_continuous_features)\n",
        "\n",
        "tr_continuous_features = scaler.transform(tr_continuous_features)\n",
        "val_continuous_features = scaler.transform(val_continuous_features)\n",
        "te_continuous_features = scaler.transform(te_continuous_features)"
      ],
      "execution_count": 22,
      "outputs": []
    },
    {
      "cell_type": "markdown",
      "metadata": {
        "id": "Kl2mb8jZiD22"
      },
      "source": [
        "## Prepare deep categorical features"
      ]
    },
    {
      "cell_type": "code",
      "metadata": {
        "id": "1AwvIFx_Te_O"
      },
      "source": [
        "# Sepcify column names of deep categorical features\n",
        "item_deep_columns = [\"item_city\", \"item_postal_code\", \"item_state\"]\n",
        "\n",
        "# An array of integers where deep_vocab_lens[i] represents the number of unique values of (i+1)-th deep categorical feature\n",
        "item_deep_vocab_lens = []\n",
        "\n",
        "for col_name in item_deep_columns:\n",
        "    # Get all unique values of this deep categorical feature\n",
        "    tmp = item_df[col_name].unique()\n",
        "    \n",
        "    # Create a dictionary mapping each unique value to a unique integral index\n",
        "    vocab = dict(zip(tmp, range(1, len(tmp) + 1)))\n",
        "    \n",
        "    # Get the number of unique values of this deep categorical features\n",
        "    item_deep_vocab_lens.append(len(vocab) + 1)\n",
        "    \n",
        "    # Create a new column where each entry stores the integral index of this deep categorical feature's value in the same row\n",
        "    item_df[col_name + \"_idx\"] = item_df[col_name].apply(lambda x: vocab[x])\n",
        "\n",
        "\n",
        "# Create a dictionary mapping each business id to corresponding values of deep categorical features\n",
        "item_deep_idx_columns = [t + \"_idx\" for t in item_deep_columns]\n",
        "item_to_deep_categorical_features = dict(zip(item_df.business_id.values, item_df[item_deep_idx_columns].values.tolist()))\n",
        "\n",
        "# Creat numpy arrays storing corresponding deep categorical features' values of train/validation/test sets using the above mapping\n",
        "tr_deep_categorical_features = np.array(tr_df.business_id.apply(lambda x: item_to_deep_categorical_features[x]).values.tolist())\n",
        "val_deep_categorical_features = np.array(val_df.business_id.apply(lambda x: item_to_deep_categorical_features[x]).values.tolist())\n",
        "te_deep_categorical_features = np.array(te_df.business_id.apply(lambda x: item_to_deep_categorical_features[x]).values.tolist())"
      ],
      "execution_count": 23,
      "outputs": []
    },
    {
      "cell_type": "code",
      "metadata": {
        "colab": {
          "base_uri": "https://localhost:8080/"
        },
        "id": "LY_4ckpw7nDq",
        "outputId": "d6ef0af8-f2e7-45f9-dd30-095c39bbcafd"
      },
      "source": [
        "tr_deep_categorical_features.shape"
      ],
      "execution_count": 24,
      "outputs": [
        {
          "output_type": "execute_result",
          "data": {
            "text/plain": [
              "(60080, 3)"
            ]
          },
          "metadata": {
            "tags": []
          },
          "execution_count": 24
        }
      ]
    },
    {
      "cell_type": "code",
      "metadata": {
        "colab": {
          "base_uri": "https://localhost:8080/"
        },
        "id": "Pg7BUxcpom9B",
        "outputId": "fd900340-58a5-4efd-9c8a-3f1463b06261"
      },
      "source": [
        "item_deep_vocab_lens"
      ],
      "execution_count": 25,
      "outputs": [
        {
          "output_type": "execute_result",
          "data": {
            "text/plain": [
              "[118, 799, 14]"
            ]
          },
          "metadata": {
            "tags": []
          },
          "execution_count": 25
        }
      ]
    },
    {
      "cell_type": "markdown",
      "metadata": {
        "id": "2jnKmtQtiMJY"
      },
      "source": [
        "## Prepare wide features"
      ]
    },
    {
      "cell_type": "markdown",
      "metadata": {
        "id": "P5eItKSviSBO"
      },
      "source": [
        "### Prepare binary encoding for each selected category"
      ]
    },
    {
      "cell_type": "code",
      "metadata": {
        "id": "W6Y_13KqTjfo"
      },
      "source": [
        "# Collect the categories of all items \n",
        "all_categories = [category for category_list in item_df.item_categories.values for category in category_list.split(\", \")]\n",
        "\n",
        "# Sort all unique values of the item categories by their frequencies in descending order\n",
        "category_sorted = sorted(Counter(all_categories).items(), key=lambda x: x[1], reverse=True)\n",
        "\n",
        "# Select top 500 most frequent categories\n",
        "selected_categories = [t[0] for t in category_sorted[:500]]\n",
        "\n",
        "# Create a dictionary mapping each secleted category to a unique integral index\n",
        "selected_categories_to_idx = dict(zip(selected_categories, range(1, len(selected_categories) + 1)))\n",
        "\n",
        "# Map all categories unseen in the item df to index 0\n",
        "selected_categories_to_idx['unk'] = 0\n",
        "\n",
        "# Create a dictionary mapping each integral index to corresponding category\n",
        "idx_to_selected_categories = {val: key for key, val in selected_categories_to_idx.items()}"
      ],
      "execution_count": 26,
      "outputs": []
    },
    {
      "cell_type": "code",
      "metadata": {
        "colab": {
          "base_uri": "https://localhost:8080/"
        },
        "id": "E4EQbRVW83Tz",
        "outputId": "748b8b0d-af10-4af4-fed6-47ddde05824c"
      },
      "source": [
        "len(category_sorted)"
      ],
      "execution_count": 27,
      "outputs": [
        {
          "output_type": "execute_result",
          "data": {
            "text/plain": [
              "605"
            ]
          },
          "metadata": {
            "tags": []
          },
          "execution_count": 27
        }
      ]
    },
    {
      "cell_type": "markdown",
      "metadata": {
        "id": "nURl5hzoiWqG"
      },
      "source": [
        "### Prepare cross product transformation for categories"
      ]
    },
    {
      "cell_type": "code",
      "metadata": {
        "id": "CJpO6QP0TnkE"
      },
      "source": [
        "# Get most frequent categories combinantions using the utility function defined previously and store them in the folloing list\n",
        "top_combinations = []\n",
        "\n",
        "# Get top 50 most frequent two-categories combinantions in the train set\n",
        "\n",
        "top_combinations += get_top_k_p_combinations(tr_df, 2, 50, output_freq=False)\n",
        "\n",
        "# Get top 30 most frequent three-categories combinantions in the train set\n",
        "top_combinations += get_top_k_p_combinations(tr_df, 3, 30, output_freq=False)\n",
        "\n",
        "# Get top 20 most frequent four-categories combinantions in the train set\n",
        "top_combinations += get_top_k_p_combinations(tr_df, 4, 20, output_freq=False)\n",
        "\n",
        "# # Get top 70 most frequent two-categories combinantions in the train set\n",
        "\n",
        "# top_combinations += get_top_k_p_combinations(tr_df, 2, 70, output_freq=False)\n",
        "\n",
        "# # Get top 20 most frequent three-categories combinantions in the train set\n",
        "# top_combinations += get_top_k_p_combinations(tr_df, 3, 20, output_freq=False)\n",
        "\n",
        "# # Get top 10 most frequent four-categories combinantions in the train set\n",
        "# top_combinations += get_top_k_p_combinations(tr_df, 4, 10, output_freq=False)\n",
        "\n",
        "# Convert each combinantion in the list to a set data structure\n",
        "top_combinations = [set(t) for t in top_combinations]"
      ],
      "execution_count": 28,
      "outputs": []
    },
    {
      "cell_type": "code",
      "metadata": {
        "colab": {
          "base_uri": "https://localhost:8080/"
        },
        "id": "I3D5PAVH9FuZ",
        "outputId": "99e977f7-2fa2-4ed2-cb4d-482beb6cfab4"
      },
      "source": [
        "top_combinations"
      ],
      "execution_count": 29,
      "outputs": [
        {
          "output_type": "execute_result",
          "data": {
            "text/plain": [
              "[{'Bars', 'Nightlife'},\n",
              " {'Food', 'Restaurants'},\n",
              " {'Nightlife', 'Restaurants'},\n",
              " {'Bars', 'Nightlife'},\n",
              " {'Bars', 'Restaurants'},\n",
              " {'Nightlife', 'Restaurants'},\n",
              " {'Food', 'Restaurants'},\n",
              " {'Bars', 'Restaurants'},\n",
              " {'American (New)', 'Restaurants'},\n",
              " {'American (New)', 'Restaurants'},\n",
              " {'Breakfast & Brunch', 'Restaurants'},\n",
              " {'American (Traditional)', 'Restaurants'},\n",
              " {'American (Traditional)', 'Restaurants'},\n",
              " {'Breakfast & Brunch', 'Restaurants'},\n",
              " {'Restaurants', 'Sandwiches'},\n",
              " {'Restaurants', 'Seafood'},\n",
              " {'American (New)', 'Nightlife'},\n",
              " {'American (New)', 'Bars'},\n",
              " {'Beer', 'Wine & Spirits'},\n",
              " {'Italian', 'Restaurants'},\n",
              " {'Mexican', 'Restaurants'},\n",
              " {'American (New)', 'Nightlife'},\n",
              " {'Restaurants', 'Sandwiches'},\n",
              " {'American (New)', 'Bars'},\n",
              " {'Japanese', 'Restaurants'},\n",
              " {'Breakfast & Brunch', 'Food'},\n",
              " {'Burgers', 'Restaurants'},\n",
              " {'Burgers', 'Restaurants'},\n",
              " {'Mexican', 'Restaurants'},\n",
              " {'Italian', 'Restaurants'},\n",
              " {'Pizza', 'Restaurants'},\n",
              " {'Restaurants', 'Seafood'},\n",
              " {'Pizza', 'Restaurants'},\n",
              " {'Food', 'Nightlife'},\n",
              " {'Japanese', 'Restaurants'},\n",
              " {'American (Traditional)', 'Nightlife'},\n",
              " {'American (Traditional)', 'Bars'},\n",
              " {'Desserts', 'Food'},\n",
              " {'American (New)', 'Food'},\n",
              " {'Bars', 'Food'},\n",
              " {'Breakfast & Brunch', 'Food'},\n",
              " {'Food', 'Nightlife'},\n",
              " {'Event Planning & Services', 'Restaurants'},\n",
              " {'Bars', 'Food'},\n",
              " {'American (Traditional)', 'Nightlife'},\n",
              " {'American (New)', 'Food'},\n",
              " {'American (New)', 'American (Traditional)'},\n",
              " {'American (Traditional)', 'Bars'},\n",
              " {'Coffee & Tea', 'Food'},\n",
              " {'Event Planning & Services', 'Restaurants'},\n",
              " {'Bars', 'Nightlife', 'Restaurants'},\n",
              " {'Bars', 'Nightlife', 'Restaurants'},\n",
              " {'Bars', 'Nightlife', 'Restaurants'},\n",
              " {'Bars', 'Nightlife', 'Restaurants'},\n",
              " {'Bars', 'Nightlife', 'Restaurants'},\n",
              " {'Bars', 'Nightlife', 'Restaurants'},\n",
              " {'Beer', 'Food', 'Wine & Spirits'},\n",
              " {'Beer', 'Restaurants', 'Wine & Spirits'},\n",
              " {'Beer', 'Restaurants', 'Wine & Spirits'},\n",
              " {'Beer', 'Food', 'Wine & Spirits'},\n",
              " {'Bars', 'Beer', 'Wine & Spirits'},\n",
              " {'Beer', 'Nightlife', 'Wine & Spirits'},\n",
              " {'American (New)', 'Nightlife', 'Restaurants'},\n",
              " {'American (New)', 'Bars', 'Restaurants'},\n",
              " {'Breakfast & Brunch', 'Food', 'Restaurants'},\n",
              " {'American (New)', 'Bars', 'Nightlife'},\n",
              " {'American (New)', 'Bars', 'Restaurants'},\n",
              " {'American (New)', 'Nightlife', 'Restaurants'},\n",
              " {'American (New)', 'Bars', 'Restaurants'},\n",
              " {'American (New)', 'Nightlife', 'Restaurants'},\n",
              " {'American (New)', 'Bars', 'Nightlife'},\n",
              " {'American (New)', 'Bars', 'Nightlife'},\n",
              " {'American (New)', 'Bars', 'Restaurants'},\n",
              " {'American (New)', 'Bars', 'Nightlife'},\n",
              " {'American (New)', 'Nightlife', 'Restaurants'},\n",
              " {'American (New)', 'Bars', 'Restaurants'},\n",
              " {'Food', 'Nightlife', 'Restaurants'},\n",
              " {'Breakfast & Brunch', 'Food', 'Restaurants'},\n",
              " {'Bars', 'Food', 'Restaurants'},\n",
              " {'American (Traditional)', 'Bars', 'Nightlife'},\n",
              " {'Bars', 'Beer', 'Food', 'Wine & Spirits'},\n",
              " {'Beer', 'Food', 'Restaurants', 'Wine & Spirits'},\n",
              " {'Beer', 'Food', 'Restaurants', 'Wine & Spirits'},\n",
              " {'Beer', 'Food', 'Restaurants', 'Wine & Spirits'},\n",
              " {'Beer', 'Food', 'Restaurants', 'Wine & Spirits'},\n",
              " {'Bars', 'Beer', 'Nightlife', 'Wine & Spirits'},\n",
              " {'Bars', 'Beer', 'Nightlife', 'Wine & Spirits'},\n",
              " {'Beer', 'Food', 'Nightlife', 'Wine & Spirits'},\n",
              " {'Beer', 'Food', 'Nightlife', 'Wine & Spirits'},\n",
              " {'Bars', 'Beer', 'Restaurants', 'Wine & Spirits'},\n",
              " {'Beer', 'Food', 'Nightlife', 'Wine & Spirits'},\n",
              " {'Beer', 'Nightlife', 'Restaurants', 'Wine & Spirits'},\n",
              " {'Beer', 'Nightlife', 'Restaurants', 'Wine & Spirits'},\n",
              " {'Bars', 'Beer', 'Food', 'Wine & Spirits'},\n",
              " {'Bars', 'Beer', 'Restaurants', 'Wine & Spirits'},\n",
              " {'Bars', 'Beer', 'Restaurants', 'Wine & Spirits'},\n",
              " {'Bars', 'Beer', 'Food', 'Wine & Spirits'},\n",
              " {'Beer', 'Nightlife', 'Restaurants', 'Wine & Spirits'},\n",
              " {'Beer', 'Food', 'Restaurants', 'Wine & Spirits'},\n",
              " {'Beer', 'Nightlife', 'Restaurants', 'Wine & Spirits'}]"
            ]
          },
          "metadata": {
            "tags": []
          },
          "execution_count": 29
        }
      ]
    },
    {
      "cell_type": "code",
      "metadata": {
        "colab": {
          "base_uri": "https://localhost:8080/"
        },
        "id": "ZgmwJLe0Tqpe",
        "outputId": "217e8df6-6e9b-48bd-9955-2e53bd0a242e"
      },
      "source": [
        "# Get values of wide features for train/validation/test sets using the utility function defined previously\n",
        "\n",
        "tr_wide_features = get_wide_features(tr_df, selected_categories_to_idx, top_combinations)\n",
        "val_wide_features = get_wide_features(val_df, selected_categories_to_idx, top_combinations)\n",
        "te_wide_features = get_wide_features(te_df, selected_categories_to_idx, top_combinations)"
      ],
      "execution_count": 30,
      "outputs": [
        {
          "output_type": "stream",
          "text": [
            "category_binary_features shape: (60080, 501)\n",
            "category_cross_features shape: (60080, 100)\n",
            "wide features shape: (60080, 601)\n",
            "category_binary_features shape: (7510, 501)\n",
            "category_cross_features shape: (7510, 100)\n",
            "wide features shape: (7510, 601)\n",
            "category_binary_features shape: (7510, 501)\n",
            "category_cross_features shape: (7510, 100)\n",
            "wide features shape: (7510, 601)\n"
          ],
          "name": "stdout"
        }
      ]
    },
    {
      "cell_type": "markdown",
      "metadata": {
        "id": "rYujMppLibfW"
      },
      "source": [
        "## Build the input list for each of the train/validation/test sets through aggregating all continuous, deep categorical and wide features"
      ]
    },
    {
      "cell_type": "code",
      "metadata": {
        "id": "AlWp4w6RTvy1"
      },
      "source": [
        "# tr_features = [tr_continuous_features,categorical_features_0,categorical_features_1,categorical_features_2,tr_wide_features]\n",
        "tr_features = []\n",
        "tr_features.append(tr_continuous_features.tolist())\n",
        "tr_features += [tr_deep_categorical_features[:,i].tolist() for i in range(tr_deep_categorical_features.shape[1])]\n",
        "tr_features.append(tr_wide_features.tolist())\n",
        "\n",
        "\n",
        "\n",
        "val_features = []\n",
        "val_features.append(val_continuous_features.tolist())\n",
        "val_features += [val_deep_categorical_features[:,i].tolist() for i in range(val_deep_categorical_features.shape[1])]\n",
        "val_features.append(val_wide_features.tolist())\n",
        "\n",
        "te_features = []\n",
        "te_features.append(te_continuous_features.tolist())\n",
        "te_features += [te_deep_categorical_features[:,i].tolist() for i in range(te_deep_categorical_features.shape[1])]\n",
        "te_features.append(te_wide_features.tolist())"
      ],
      "execution_count": 31,
      "outputs": []
    },
    {
      "cell_type": "markdown",
      "metadata": {
        "id": "ex8ooKVTinjq"
      },
      "source": [
        "## WDL model"
      ]
    },
    {
      "cell_type": "code",
      "metadata": {
        "colab": {
          "base_uri": "https://localhost:8080/"
        },
        "id": "zDbqu9yQT12H",
        "outputId": "9e19cac8-6e06-4178-9f00-84152f5d8352"
      },
      "source": [
        "wdl_model = build_wdl_model(\n",
        "        len(tr_continuous_features[0]),\n",
        "        item_deep_vocab_lens,   # num of category classes\n",
        "        len(tr_wide_features[0]), \n",
        "        embed_size=100)\n",
        "print(len(tr_continuous_features[0]))\n",
        "print(item_deep_vocab_lens)\n",
        "print(len(tr_wide_features[0]))"
      ],
      "execution_count": 32,
      "outputs": [
        {
          "output_type": "stream",
          "text": [
            "WARNING:tensorflow:From /tensorflow-1.15.2/python3.7/tensorflow_core/python/ops/resource_variable_ops.py:1630: calling BaseResourceVariable.__init__ (from tensorflow.python.ops.resource_variable_ops) with constraint is deprecated and will be removed in a future version.\n",
            "Instructions for updating:\n",
            "If using Keras pass *_constraint arguments to layers.\n",
            "22\n",
            "[118, 799, 14]\n",
            "601\n"
          ],
          "name": "stdout"
        }
      ]
    },
    {
      "cell_type": "code",
      "metadata": {
        "colab": {
          "base_uri": "https://localhost:8080/"
        },
        "id": "d5jthG-79va0",
        "outputId": "0e380384-4d58-4f42-a907-e7843390c42c"
      },
      "source": [
        "wdl_model.summary()"
      ],
      "execution_count": 33,
      "outputs": [
        {
          "output_type": "stream",
          "text": [
            "Model: \"model_1\"\n",
            "__________________________________________________________________________________________________\n",
            "Layer (type)                    Output Shape         Param #     Connected to                     \n",
            "==================================================================================================\n",
            "input_1 (InputLayer)            (None, 1)            0                                            \n",
            "__________________________________________________________________________________________________\n",
            "input_2 (InputLayer)            (None, 1)            0                                            \n",
            "__________________________________________________________________________________________________\n",
            "input_3 (InputLayer)            (None, 1)            0                                            \n",
            "__________________________________________________________________________________________________\n",
            "embedding_1 (Embedding)         (None, 1, 100)       11800       input_1[0][0]                    \n",
            "__________________________________________________________________________________________________\n",
            "embedding_2 (Embedding)         (None, 1, 100)       79900       input_2[0][0]                    \n",
            "__________________________________________________________________________________________________\n",
            "embedding_3 (Embedding)         (None, 1, 100)       1400        input_3[0][0]                    \n",
            "__________________________________________________________________________________________________\n",
            "reshape_1 (Reshape)             (None, 100)          0           embedding_1[0][0]                \n",
            "__________________________________________________________________________________________________\n",
            "reshape_2 (Reshape)             (None, 100)          0           embedding_2[0][0]                \n",
            "__________________________________________________________________________________________________\n",
            "reshape_3 (Reshape)             (None, 100)          0           embedding_3[0][0]                \n",
            "__________________________________________________________________________________________________\n",
            "continuous_input (InputLayer)   (None, 22)           0                                            \n",
            "__________________________________________________________________________________________________\n",
            "concatenate_1 (Concatenate)     (None, 322)          0           reshape_1[0][0]                  \n",
            "                                                                 reshape_2[0][0]                  \n",
            "                                                                 reshape_3[0][0]                  \n",
            "                                                                 continuous_input[0][0]           \n",
            "__________________________________________________________________________________________________\n",
            "dense_1 (Dense)                 (None, 256)          82688       concatenate_1[0][0]              \n",
            "__________________________________________________________________________________________________\n",
            "dropout_1 (Dropout)             (None, 256)          0           dense_1[0][0]                    \n",
            "__________________________________________________________________________________________________\n",
            "input_4 (InputLayer)            (None, 601)          0                                            \n",
            "__________________________________________________________________________________________________\n",
            "concatenate_2 (Concatenate)     (None, 857)          0           dropout_1[0][0]                  \n",
            "                                                                 input_4[0][0]                    \n",
            "__________________________________________________________________________________________________\n",
            "dense_2 (Dense)                 (None, 1)            858         concatenate_2[0][0]              \n",
            "==================================================================================================\n",
            "Total params: 176,646\n",
            "Trainable params: 176,646\n",
            "Non-trainable params: 0\n",
            "__________________________________________________________________________________________________\n"
          ],
          "name": "stdout"
        }
      ]
    },
    {
      "cell_type": "markdown",
      "metadata": {
        "id": "n-iVMpUwiuqP"
      },
      "source": [
        "## Train the WDL model"
      ]
    },
    {
      "cell_type": "code",
      "metadata": {
        "colab": {
          "base_uri": "https://localhost:8080/"
        },
        "id": "Iv6o316wT5Mk",
        "outputId": "6fcc847e-8cb5-402a-e62d-0c51bab760e6"
      },
      "source": [
        "wdl_model.compile(optimizer='adagrad', loss='mse')\n",
        "# wdl_model.compile(optimizer='adam', loss='mse')\n",
        "\n",
        "history = wdl_model.fit(\n",
        "        tr_features, \n",
        "        tr_ratings, \n",
        "        epochs=20, verbose=1, callbacks=[ModelCheckpoint('model.h5')])"
      ],
      "execution_count": 34,
      "outputs": [
        {
          "output_type": "stream",
          "text": [
            "WARNING:tensorflow:From /tensorflow-1.15.2/python3.7/keras/backend/tensorflow_backend.py:422: The name tf.global_variables is deprecated. Please use tf.compat.v1.global_variables instead.\n",
            "\n",
            "Epoch 1/20\n",
            "60080/60080 [==============================] - 10s 160us/step - loss: 1.1458\n",
            "Epoch 2/20\n",
            "60080/60080 [==============================] - 7s 123us/step - loss: 1.0669\n",
            "Epoch 3/20\n",
            "60080/60080 [==============================] - 7s 124us/step - loss: 1.0539\n",
            "Epoch 4/20\n",
            "60080/60080 [==============================] - 7s 123us/step - loss: 1.0488\n",
            "Epoch 5/20\n",
            "60080/60080 [==============================] - 7s 124us/step - loss: 1.0432\n",
            "Epoch 6/20\n",
            "60080/60080 [==============================] - 7s 125us/step - loss: 1.0424\n",
            "Epoch 7/20\n",
            "60080/60080 [==============================] - 8s 126us/step - loss: 1.0313\n",
            "Epoch 8/20\n",
            "60080/60080 [==============================] - 7s 124us/step - loss: 1.0315\n",
            "Epoch 9/20\n",
            "60080/60080 [==============================] - 7s 124us/step - loss: 1.0319\n",
            "Epoch 10/20\n",
            "60080/60080 [==============================] - 8s 125us/step - loss: 1.0320\n",
            "Epoch 11/20\n",
            "60080/60080 [==============================] - 7s 124us/step - loss: 1.0313\n",
            "Epoch 12/20\n",
            "60080/60080 [==============================] - 8s 126us/step - loss: 1.0265\n",
            "Epoch 13/20\n",
            "60080/60080 [==============================] - 8s 126us/step - loss: 1.0270\n",
            "Epoch 14/20\n",
            "60080/60080 [==============================] - 7s 124us/step - loss: 1.0219\n",
            "Epoch 15/20\n",
            "60080/60080 [==============================] - 7s 124us/step - loss: 1.0196\n",
            "Epoch 16/20\n",
            "60080/60080 [==============================] - 7s 123us/step - loss: 1.0174\n",
            "Epoch 17/20\n",
            "60080/60080 [==============================] - 7s 123us/step - loss: 1.0227\n",
            "Epoch 18/20\n",
            "60080/60080 [==============================] - 7s 125us/step - loss: 1.0165\n",
            "Epoch 19/20\n",
            "60080/60080 [==============================] - 7s 123us/step - loss: 1.0201\n",
            "Epoch 20/20\n",
            "60080/60080 [==============================] - 8s 125us/step - loss: 1.0160\n"
          ],
          "name": "stdout"
        }
      ]
    },
    {
      "cell_type": "markdown",
      "metadata": {
        "id": "4XnVKchdi4fr"
      },
      "source": [
        "## Evaluate the WDL model on train and validation sets using RMSE"
      ]
    },
    {
      "cell_type": "code",
      "metadata": {
        "colab": {
          "base_uri": "https://localhost:8080/"
        },
        "id": "He89FRuhT966",
        "outputId": "fbe89431-05f6-4cc7-e3b9-94c1113264e7"
      },
      "source": [
        "y_pred = wdl_model.predict(tr_features)\n",
        "print(\"TRAIN RMSE: \", rmse(y_pred, tr_ratings))\n",
        "y_pred = wdl_model.predict(val_features)\n",
        "print(\"VALID RMSE: \", rmse(y_pred, val_ratings))"
      ],
      "execution_count": 35,
      "outputs": [
        {
          "output_type": "stream",
          "text": [
            "TRAIN RMSE:  0.984513364019102\n",
            "VALID RMSE:  0.9996970942113022\n"
          ],
          "name": "stdout"
        }
      ]
    },
    {
      "cell_type": "markdown",
      "metadata": {
        "id": "zSqvZznTNoFv"
      },
      "source": [
        "# Evaluate the Validation Predictions using code from evaluate.py"
      ]
    },
    {
      "cell_type": "code",
      "metadata": {
        "colab": {
          "base_uri": "https://localhost:8080/",
          "height": 306
        },
        "id": "Qx9YEjOVMUid",
        "outputId": "470eb5e2-30e2-488e-9f74-3da62f68f3e2"
      },
      "source": [
        "pred_df = val_df[[\"user_id\", \"business_id\"]]\n",
        "pred_df[\"stars\"] = y_pred\n",
        "pred_df.head()"
      ],
      "execution_count": 36,
      "outputs": [
        {
          "output_type": "stream",
          "text": [
            "/usr/local/lib/python3.7/dist-packages/ipykernel_launcher.py:2: SettingWithCopyWarning: \n",
            "A value is trying to be set on a copy of a slice from a DataFrame.\n",
            "Try using .loc[row_indexer,col_indexer] = value instead\n",
            "\n",
            "See the caveats in the documentation: https://pandas.pydata.org/pandas-docs/stable/user_guide/indexing.html#returning-a-view-versus-a-copy\n",
            "  \n"
          ],
          "name": "stderr"
        },
        {
          "output_type": "execute_result",
          "data": {
            "text/html": [
              "<div>\n",
              "<style scoped>\n",
              "    .dataframe tbody tr th:only-of-type {\n",
              "        vertical-align: middle;\n",
              "    }\n",
              "\n",
              "    .dataframe tbody tr th {\n",
              "        vertical-align: top;\n",
              "    }\n",
              "\n",
              "    .dataframe thead th {\n",
              "        text-align: right;\n",
              "    }\n",
              "</style>\n",
              "<table border=\"1\" class=\"dataframe\">\n",
              "  <thead>\n",
              "    <tr style=\"text-align: right;\">\n",
              "      <th></th>\n",
              "      <th>user_id</th>\n",
              "      <th>business_id</th>\n",
              "      <th>stars</th>\n",
              "    </tr>\n",
              "  </thead>\n",
              "  <tbody>\n",
              "    <tr>\n",
              "      <th>0</th>\n",
              "      <td>8becc257dd950c530711e297be327e7b</td>\n",
              "      <td>5ed2bef8c901ebdcc96fedf2f4560c79</td>\n",
              "      <td>4.269733</td>\n",
              "    </tr>\n",
              "    <tr>\n",
              "      <th>1</th>\n",
              "      <td>6dc9688262188b67fcdaaf30ba5f2b41</td>\n",
              "      <td>5bfc74cc8eaa89e28ae9bbc071770fc4</td>\n",
              "      <td>3.292845</td>\n",
              "    </tr>\n",
              "    <tr>\n",
              "      <th>2</th>\n",
              "      <td>97b4eceee3d20c884508469bf093e5c3</td>\n",
              "      <td>c0ab608051317680920ea102073b92e1</td>\n",
              "      <td>4.683703</td>\n",
              "    </tr>\n",
              "    <tr>\n",
              "      <th>3</th>\n",
              "      <td>440847a87174f0371f82c9aca88a2c06</td>\n",
              "      <td>9dbd4b0c872e768640b62bf77c18ba59</td>\n",
              "      <td>3.741473</td>\n",
              "    </tr>\n",
              "    <tr>\n",
              "      <th>4</th>\n",
              "      <td>d702349096c4afd3791720fdcac583cb</td>\n",
              "      <td>ac74f2fdf664962aaf45f55268e87b05</td>\n",
              "      <td>3.557282</td>\n",
              "    </tr>\n",
              "  </tbody>\n",
              "</table>\n",
              "</div>"
            ],
            "text/plain": [
              "                            user_id                       business_id     stars\n",
              "0  8becc257dd950c530711e297be327e7b  5ed2bef8c901ebdcc96fedf2f4560c79  4.269733\n",
              "1  6dc9688262188b67fcdaaf30ba5f2b41  5bfc74cc8eaa89e28ae9bbc071770fc4  3.292845\n",
              "2  97b4eceee3d20c884508469bf093e5c3  c0ab608051317680920ea102073b92e1  4.683703\n",
              "3  440847a87174f0371f82c9aca88a2c06  9dbd4b0c872e768640b62bf77c18ba59  3.741473\n",
              "4  d702349096c4afd3791720fdcac583cb  ac74f2fdf664962aaf45f55268e87b05  3.557282"
            ]
          },
          "metadata": {
            "tags": []
          },
          "execution_count": 36
        }
      ]
    },
    {
      "cell_type": "code",
      "metadata": {
        "id": "p8q4m12ANSbO"
      },
      "source": [
        "pred_df.to_csv('val_pre.csv')"
      ],
      "execution_count": 37,
      "outputs": []
    },
    {
      "cell_type": "code",
      "metadata": {
        "colab": {
          "base_uri": "https://localhost:8080/"
        },
        "id": "w73dfIsrLJnD",
        "outputId": "6c3aa78d-79ca-4c18-8e81-35da27fa53f3"
      },
      "source": [
        "import pandas as pd\n",
        "from sklearn.metrics import precision_recall_fscore_support, accuracy_score\n",
        "from sklearn.metrics import mean_squared_error\n",
        "from math import sqrt\n",
        "\n",
        "\n",
        "val_df = pd.read_csv(\"data/valid.csv\")\n",
        "\n",
        "pred_df = pd.read_csv('val_pre.csv')\n",
        "\n",
        "df = pd.merge(val_df, pred_df, how=\"left\", left_on=['user_id', 'business_id'], right_on = ['user_id','business_id'])\n",
        "\n",
        "df.fillna(0, inplace=True)\n",
        "\n",
        "\n",
        "print(\"VALIDATION RMSE: \", rmse(df['stars_y'].values, df['stars_x'].values))"
      ],
      "execution_count": 38,
      "outputs": [
        {
          "output_type": "stream",
          "text": [
            "VALIDATION RMSE:  0.9996970952881054\n"
          ],
          "name": "stdout"
        }
      ]
    },
    {
      "cell_type": "markdown",
      "metadata": {
        "id": "KKhFk2z9UGKh"
      },
      "source": [
        "# Test Predictions"
      ]
    },
    {
      "cell_type": "code",
      "metadata": {
        "colab": {
          "base_uri": "https://localhost:8080/"
        },
        "id": "DfXhoEDeUBPs",
        "outputId": "4f90185d-f5e9-4694-ea06-602b93d2f343"
      },
      "source": [
        "y_pred = wdl_model.predict(te_features)\n",
        "res_df = pd.DataFrame()\n",
        "res_df['pred'] = y_pred[:, 0]\n",
        "res_df.to_csv(\"{}.csv\".format(STUDENT_ID), index=False)\n",
        "print(\"Writing test predictions to file done.\")"
      ],
      "execution_count": 39,
      "outputs": [
        {
          "output_type": "stream",
          "text": [
            "Writing test predictions to file done.\n"
          ],
          "name": "stdout"
        }
      ]
    },
    {
      "cell_type": "code",
      "metadata": {
        "id": "lQ9FDt354Enp",
        "colab": {
          "base_uri": "https://localhost:8080/",
          "height": 758
        },
        "outputId": "5470189f-b2a6-4d8c-9591-744ccf3890e8"
      },
      "source": [
        "tensorflow.keras.utils.plot_model(wdl_model, to_file='model.png', show_shapes=False)"
      ],
      "execution_count": 40,
      "outputs": [
        {
          "output_type": "execute_result",
          "data": {
            "image/png": "[encoded data removed]",
            "text/plain": [
              "<IPython.core.display.Image object>"
            ]
          },
          "metadata": {
            "tags": []
          },
          "execution_count": 40
        }
      ]
    }
  ]
}