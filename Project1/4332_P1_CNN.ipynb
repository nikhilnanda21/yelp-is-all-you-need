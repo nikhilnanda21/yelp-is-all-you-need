{
  "nbformat": 4,
  "nbformat_minor": 0,
  "metadata": {
    "colab": {
      "name": "4332-P1-CNN.ipynb",
      "provenance": [],
      "collapsed_sections": [],
      "toc_visible": true
    },
    "kernelspec": {
      "name": "python3",
      "display_name": "Python 3"
    },
    "language_info": {
      "name": "python"
    },
    "accelerator": "GPU"
  },
  "cells": [
    {
      "cell_type": "markdown",
      "metadata": {
        "id": "HAckpZDZG-BR"
      },
      "source": [
        "# Download Data"
      ]
    },
    {
      "cell_type": "code",
      "metadata": {
        "id": "_gEmiUAEG8zx",
        "colab": {
          "base_uri": "https://localhost:8080/"
        },
        "outputId": "652b6874-19f1-4652-e641-98e76837a7fa"
      },
      "source": [
        "# !wget https://hkustconnect-my.sharepoint.com/:u:/g/personal/nnanda_connect_ust_hk/ERROCEL56mNPqSWWzbzLj3cBvQTtCS9yzoiUfVlhIx1CCA?download=1 -O \"data_2021_spring.zip\"\n",
        "!wget https://hkustconnect-my.sharepoint.com/:u:/g/personal/nnanda_connect_ust_hk/EfREjZqiZTlPqhqUPICBbPABdlgPumlaUVxPncm-_9aWIw?download=1 -O \"Project 1 - data.zip\"\n",
        "!unzip \"Project 1 - data.zip\"\n"
      ],
      "execution_count": 1,
      "outputs": [
        {
          "output_type": "stream",
          "text": [
            "--2021-03-27 01:35:35--  https://hkustconnect-my.sharepoint.com/:u:/g/personal/nnanda_connect_ust_hk/EfREjZqiZTlPqhqUPICBbPABdlgPumlaUVxPncm-_9aWIw?download=1\n",
            "Resolving hkustconnect-my.sharepoint.com (hkustconnect-my.sharepoint.com)... 13.107.136.9\n",
            "Connecting to hkustconnect-my.sharepoint.com (hkustconnect-my.sharepoint.com)|13.107.136.9|:443... connected.\n",
            "HTTP request sent, awaiting response... 302 Found\n",
            "Location: /personal/nnanda_connect_ust_hk/Documents/COMP4332%20Project%20Data/Project%201%20-%20data.zip?originalPath=aHR0cHM6Ly9oa3VzdGNvbm5lY3QtbXkuc2hhcmVwb2ludC5jb20vOnU6L2cvcGVyc29uYWwvbm5hbmRhX2Nvbm5lY3RfdXN0X2hrL0VmUkVqWnFpWlRsUHFocVVQSUNCYlBBQmRsZ1B1bWxhVVZ4UG5jbS1fOWFXSXc_cnRpbWU9bUxXYm5zRHcyRWc [following]\n",
            "--2021-03-27 01:35:35--  https://hkustconnect-my.sharepoint.com/personal/nnanda_connect_ust_hk/Documents/COMP4332%20Project%20Data/Project%201%20-%20data.zip?originalPath=aHR0cHM6Ly9oa3VzdGNvbm5lY3QtbXkuc2hhcmVwb2ludC5jb20vOnU6L2cvcGVyc29uYWwvbm5hbmRhX2Nvbm5lY3RfdXN0X2hrL0VmUkVqWnFpWlRsUHFocVVQSUNCYlBBQmRsZ1B1bWxhVVZ4UG5jbS1fOWFXSXc_cnRpbWU9bUxXYm5zRHcyRWc\n",
            "Reusing existing connection to hkustconnect-my.sharepoint.com:443.\n",
            "HTTP request sent, awaiting response... 200 OK\n",
            "Length: 5509947 (5.3M) [application/x-zip-compressed]\n",
            "Saving to: ‘Project 1 - data.zip’\n",
            "\n",
            "Project 1 - data.zi 100%[===================>]   5.25M  2.56MB/s    in 2.1s    \n",
            "\n",
            "2021-03-27 01:35:38 (2.56 MB/s) - ‘Project 1 - data.zip’ saved [5509947/5509947]\n",
            "\n",
            "Archive:  Project 1 - data.zip\n",
            "   creating: data_2021_spring/\n",
            "  inflating: data_2021_spring/valid.csv  \n",
            "  inflating: data_2021_spring/test.csv  \n",
            "  inflating: data_2021_spring/train.csv  \n",
            "   creating: data_2021_spring/.ipynb_checkpoints/\n",
            "  inflating: data_2021_spring/.ipynb_checkpoints/test-checkpoint.csv  \n"
          ],
          "name": "stdout"
        }
      ]
    },
    {
      "cell_type": "markdown",
      "metadata": {
        "id": "VyCUH6drFgou"
      },
      "source": [
        "# Import Libraries"
      ]
    },
    {
      "cell_type": "code",
      "metadata": {
        "colab": {
          "base_uri": "https://localhost:8080/"
        },
        "id": "L_q2Kr7_Fa-g",
        "outputId": "f568a52a-7af8-4a34-b507-d40ca29faf85"
      },
      "source": [
        "!pip install keras-layer-normalization"
      ],
      "execution_count": 2,
      "outputs": [
        {
          "output_type": "stream",
          "text": [
            "Collecting keras-layer-normalization\n",
            "  Downloading https://files.pythonhosted.org/packages/a4/0e/d1078df0494bac9ce1a67954e5380b6e7569668f0f3b50a9531c62c1fc4a/keras-layer-normalization-0.14.0.tar.gz\n",
            "Requirement already satisfied: numpy in /usr/local/lib/python3.7/dist-packages (from keras-layer-normalization) (1.19.5)\n",
            "Requirement already satisfied: Keras in /usr/local/lib/python3.7/dist-packages (from keras-layer-normalization) (2.4.3)\n",
            "Requirement already satisfied: h5py in /usr/local/lib/python3.7/dist-packages (from Keras->keras-layer-normalization) (2.10.0)\n",
            "Requirement already satisfied: pyyaml in /usr/local/lib/python3.7/dist-packages (from Keras->keras-layer-normalization) (3.13)\n",
            "Requirement already satisfied: scipy>=0.14 in /usr/local/lib/python3.7/dist-packages (from Keras->keras-layer-normalization) (1.4.1)\n",
            "Requirement already satisfied: six in /usr/local/lib/python3.7/dist-packages (from h5py->Keras->keras-layer-normalization) (1.15.0)\n",
            "Building wheels for collected packages: keras-layer-normalization\n",
            "  Building wheel for keras-layer-normalization (setup.py) ... \u001b[?25l\u001b[?25hdone\n",
            "  Created wheel for keras-layer-normalization: filename=keras_layer_normalization-0.14.0-cp37-none-any.whl size=5269 sha256=c24d17a0b6bef2ce7247d8847ca1aa1ab3d5e99d4a10575a7d0151a50dc0ee4e\n",
            "  Stored in directory: /root/.cache/pip/wheels/54/80/22/a638a7d406fd155e507aa33d703e3fa2612b9eb7bb4f4fe667\n",
            "Successfully built keras-layer-normalization\n",
            "Installing collected packages: keras-layer-normalization\n",
            "Successfully installed keras-layer-normalization-0.14.0\n"
          ],
          "name": "stdout"
        }
      ]
    },
    {
      "cell_type": "code",
      "metadata": {
        "id": "7_uTe2vvFJTL"
      },
      "source": [
        "import os\n",
        "import nltk\n",
        "import math\n",
        "import pandas as pd\n",
        "import numpy as np\n",
        "import keras\n",
        "import tensorflow as tf\n",
        "import matplotlib.pyplot as plt\n",
        "from collections import Counter\n",
        "from itertools import chain\n",
        "from sklearn.model_selection import StratifiedKFold\n",
        "from sklearn.metrics import accuracy_score, f1_score\n",
        "from keras.models import Sequential, Model\n",
        "from keras.layers import Dense, Activation, Dropout, BatchNormalization, Activation, Input, Add, Concatenate, Embedding, Conv1D, MaxPool1D, Flatten, LSTM, Bidirectional, MaxPooling1D\n",
        "from keras_layer_normalization import LayerNormalization\n",
        "from nltk.corpus import stopwords\n",
        "from nltk.stem import PorterStemmer"
      ],
      "execution_count": 3,
      "outputs": []
    },
    {
      "cell_type": "code",
      "metadata": {
        "colab": {
          "base_uri": "https://localhost:8080/"
        },
        "id": "21Z1gRo3H3Zh",
        "outputId": "314d5211-423e-4426-b0f6-0b8cb7d30ad1"
      },
      "source": [
        "nltk.download('stopwords')\n",
        "nltk.download('punkt')"
      ],
      "execution_count": 4,
      "outputs": [
        {
          "output_type": "stream",
          "text": [
            "[nltk_data] Downloading package stopwords to /root/nltk_data...\n",
            "[nltk_data]   Unzipping corpora/stopwords.zip.\n",
            "[nltk_data] Downloading package punkt to /root/nltk_data...\n",
            "[nltk_data]   Unzipping tokenizers/punkt.zip.\n"
          ],
          "name": "stdout"
        },
        {
          "output_type": "execute_result",
          "data": {
            "text/plain": [
              "True"
            ]
          },
          "metadata": {
            "tags": []
          },
          "execution_count": 4
        }
      ]
    },
    {
      "cell_type": "code",
      "metadata": {
        "id": "noMKFCoiHxq1"
      },
      "source": [
        "stopwords = set(stopwords.words(\"english\"))\n",
        "ps = PorterStemmer()"
      ],
      "execution_count": 5,
      "outputs": []
    },
    {
      "cell_type": "markdown",
      "metadata": {
        "id": "b-Y4M188FjI3"
      },
      "source": [
        "# Data Loader"
      ]
    },
    {
      "cell_type": "code",
      "metadata": {
        "id": "0LdLcI3EFWIK"
      },
      "source": [
        "def load_data(split_name='train', columns=['text', 'stars']):\n",
        "    try:\n",
        "        print(f\"select [{', '.join(columns)}] columns from the {split_name} split\")\n",
        "        df = pd.read_csv(f'data_2021_spring/{split_name}.csv')\n",
        "        df = df.loc[:,columns]\n",
        "        print(\"succeed!\")\n",
        "        return df\n",
        "    except:\n",
        "        print(\"Failed, then try to \")\n",
        "        print(f\"select all columns from the {split_name} split\")\n",
        "        df = pd.read_csv(f'data_2021_spring/{split_name}.csv')\n",
        "        return df"
      ],
      "execution_count": 6,
      "outputs": []
    },
    {
      "cell_type": "code",
      "metadata": {
        "colab": {
          "base_uri": "https://localhost:8080/"
        },
        "id": "YQj5souEFnD2",
        "outputId": "18d8825e-cb75-4c9d-d8f8-b222ffe9fe98"
      },
      "source": [
        "train_df = load_data('train', columns=['full'])\n",
        "valid_df = load_data('valid', columns=['full'])\n",
        "test_df = load_data('test', columns=['full'])"
      ],
      "execution_count": 7,
      "outputs": [
        {
          "output_type": "stream",
          "text": [
            "select [full] columns from the train split\n",
            "Failed, then try to \n",
            "select all columns from the train split\n",
            "select [full] columns from the valid split\n",
            "Failed, then try to \n",
            "select all columns from the valid split\n",
            "select [full] columns from the test split\n",
            "Failed, then try to \n",
            "select all columns from the test split\n"
          ],
          "name": "stdout"
        }
      ]
    },
    {
      "cell_type": "markdown",
      "metadata": {
        "id": "DaNZWvW1GYfF"
      },
      "source": [
        "# Feature Extractor"
      ]
    },
    {
      "cell_type": "code",
      "metadata": {
        "id": "SeLBCZSqF6W8"
      },
      "source": [
        "def tokenize(text):\n",
        "    \"\"\"\n",
        "    :param text: a doc with multiple sentences, type: str\n",
        "    return a word list, type: list\n",
        "    e.g.\n",
        "    Input: 'Text mining is to identify useful information.'\n",
        "    Output: ['Text', 'mining', 'is', 'to', 'identify', 'useful', 'information', '.']\n",
        "    \"\"\"\n",
        "    return nltk.word_tokenize(text)\n",
        "\n",
        "def stem(tokens):\n",
        "    \"\"\"\n",
        "    :param tokens: a list of tokens, type: list\n",
        "    return a list of stemmed words, type: list\n",
        "    e.g.\n",
        "    Input: ['Text', 'mining', 'is', 'to', 'identify', 'useful', 'information', '.']\n",
        "    Output: ['text', 'mine', 'is', 'to', 'identifi', 'use', 'inform', '.']\n",
        "    \"\"\"\n",
        "    ### equivalent code\n",
        "    # results = list()\n",
        "    # for token in tokens:\n",
        "    #     results.append(ps.stem(token))\n",
        "    # return results\n",
        "\n",
        "    return [ps.stem(token) for token in tokens]\n",
        "\n",
        "def n_gram(tokens, n=1):\n",
        "    \"\"\"\n",
        "    :param tokens: a list of tokens, type: list\n",
        "    :param n: the corresponding n-gram, type: int\n",
        "    return a list of n-gram tokens, type: list\n",
        "    e.g.\n",
        "    Input: ['text', 'mine', 'is', 'to', 'identifi', 'use', 'inform', '.'], 2\n",
        "    Output: ['text mine', 'mine is', 'is to', 'to identifi', 'identifi use', 'use inform', 'inform .']\n",
        "    \"\"\"\n",
        "    if n == 1:\n",
        "        return tokens\n",
        "    else:\n",
        "        results = list()\n",
        "        for i in range(len(tokens)-n+1):\n",
        "            # tokens[i:i+n] will return a sublist from i th to i+n th (i+n th is not included)\n",
        "            results.append(\" \".join(tokens[i:i+n]))\n",
        "        return results\n",
        "    \n",
        "def filter_stopwords(tokens):\n",
        "    \"\"\"\n",
        "    :param tokens: a list of tokens, type: list\n",
        "    return a list of filtered tokens, type: list\n",
        "    e.g.\n",
        "    Input: ['text', 'mine', 'is', 'to', 'identifi', 'use', 'inform', '.']\n",
        "    Output: ['text', 'mine', 'identifi', 'use', 'inform', '.']\n",
        "    \"\"\"\n",
        "    ### equivalent code\n",
        "    # results = list()\n",
        "    # for token in tokens:\n",
        "    #     if token not in stopwords and not token.isnumeric():\n",
        "    #         results.append(token)\n",
        "    # return results\n",
        "\n",
        "    return [token for token in tokens if token not in stopwords and not token.isnumeric()]"
      ],
      "execution_count": 8,
      "outputs": []
    },
    {
      "cell_type": "code",
      "metadata": {
        "id": "QG33Ovp1GgCV"
      },
      "source": [
        "def get_feats_dict(feats, min_freq=-1, max_freq=-1, max_size=-1):\n",
        "    \"\"\"\n",
        "    :param data: a list of features, type: list(list)\n",
        "    :param min_freq: the lowest fequency that the fequency of a feature smaller than it will be filtered out, type: int\n",
        "    :param max_freq: the highest fequency that the fequency of a feature larger than it will be filtered out, type: int\n",
        "    :param max_size: the max size of feature dict, type: int\n",
        "    return a feature dict that maps features to indices, sorted by frequencies\n",
        "    # Counter document: https://docs.python.org/3.6/library/collections.html#collections.Counter\n",
        "    \"\"\"\n",
        "    # count all features\n",
        "    feat_cnt = Counter(feats) # [\"text\", \"text\", \"mine\"] --> {\"text\": 2, \"mine\": 1}\n",
        "    # .most_common(): List the n most common elements and their counts from the most common to the least.\n",
        "    if max_size > 0 and min_freq == -1 and max_freq == -1:\n",
        "        valid_feats = [\"<pad>\", \"<unk>\"] + [f for f, cnt in feat_cnt.most_common(max_size-2)]\n",
        "    else:\n",
        "        valid_feats = [\"<pad>\", \"<unk>\"]\n",
        "        for f, cnt in feat_cnt.most_common():\n",
        "            if (min_freq == -1 or cnt >= min_freq) and \\\n",
        "                (max_freq == -1 or cnt <= max_freq):\n",
        "                valid_feats.append(f)\n",
        "    if max_size > 0 and len(valid_feats) > max_size:\n",
        "        valid_feats = valid_feats[:max_size]\n",
        "    print(\"Size of features:\", len(valid_feats))\n",
        "    \n",
        "    # build a mapping from features to indices\n",
        "    feats_dict = dict(zip(valid_feats, range(len(valid_feats))))\n",
        "    return feats_dict\n",
        "\n",
        "def get_index_vector(feats, feats_dict, max_len):\n",
        "    \"\"\"\n",
        "    :param feats: a list of features, type: list\n",
        "    :param feats_dict: a dict from features to indices, type: dict\n",
        "    :param feats: a list of features, type: list\n",
        "    return a feature vector,\n",
        "    \"\"\"\n",
        "    # initialize the vector as all zeros\n",
        "    vector = np.zeros(max_len, dtype=np.int64)\n",
        "    for i, f in enumerate(feats):\n",
        "        if i == max_len:\n",
        "            break\n",
        "        # get the feature index, return 1 (<unk>) if the feature is not existed\n",
        "        try:\n",
        "            vector[i] = feats_dict[f]\n",
        "        except KeyError:\n",
        "            vector[i] = 1\n",
        "    return vector"
      ],
      "execution_count": 9,
      "outputs": []
    },
    {
      "cell_type": "code",
      "metadata": {
        "id": "k6symaUcGoXP"
      },
      "source": [
        "def build_CNN(input_length, vocab_size, embedding_size,\n",
        "              hidden_size, output_size,\n",
        "              kernel_sizes, num_filters, num_mlp_layers,\n",
        "              padding=\"valid\",\n",
        "              strides=1,\n",
        "              activation=\"relu\",\n",
        "              dropout_rate=0.0,\n",
        "              batch_norm=False,\n",
        "              l2_reg=0.0,\n",
        "              loss=\"categorical_crossentropy\",\n",
        "              optimizer=\"SGD\",\n",
        "              learning_rate=0.1,\n",
        "              metric=\"accuracy\"):\n",
        "    \"\"\"\n",
        "    :param input_length: the maximum length of sentences, type: int\n",
        "    :param vocab_size: the vacabulary size, type: int\n",
        "    :param embedding_size: the dimension of word representations, type: int\n",
        "    :param hidden_size: the dimension of the hidden states, type: int\n",
        "    :param output_size: the dimension of the prediction, type: int\n",
        "    :param kernel_sizes: the kernel sizes of convolutional layers, type: list\n",
        "    :param num_filters: the number of filters for each kernel, type: int\n",
        "    :param num_mlp_layers: the number of layers of the MLP, type: int\n",
        "    :param padding: the padding method in convolutional layers, type: str\n",
        "    :param strides: the strides in convolutional layers, type: int\n",
        "    :param activation: the activation type, type: str\n",
        "    :param dropout_rate: the probability of dropout, type: float\n",
        "    :param batch_norm: whether to enable batch normalization, type: bool\n",
        "    :param l2_reg: the weight for the L2 regularizer, type: str\n",
        "    :param loss: the training loss, type: str\n",
        "    :param optimizer: the optimizer, type: str\n",
        "    :param learning_rate: the learning rate for the optimizer, type: float\n",
        "    :param metric: the metric, type: str\n",
        "    return a CNN for text classification,\n",
        "    # activation document: https://keras.io/activations/\n",
        "    # dropout document: https://keras.io/layers/core/#dropout\n",
        "    # embedding document: https://keras.io/layers/embeddings/#embedding\n",
        "    # convolutional layers document: https://keras.io/layers/convolutional\n",
        "    # pooling layers document: https://keras.io/layers/pooling/\n",
        "    # batch normalization document: https://keras.io/layers/normalization/\n",
        "    # losses document: https://keras.io/losses/\n",
        "    # optimizers document: https://keras.io/optimizers/\n",
        "    # metrics document: https://keras.io/metrics/\n",
        "    \"\"\"\n",
        "    x = Input(shape=(input_length,))\n",
        "    \n",
        "    ################################\n",
        "    ###### Word Representation #####\n",
        "    ################################\n",
        "    # word representation layer\n",
        "    emb = Embedding(input_dim=vocab_size, output_dim=embedding_size)(x)\n",
        "    \n",
        "    ################################\n",
        "    ########### Conv-Pool ##########\n",
        "    ################################\n",
        "    # convolutional and pooling layers\n",
        "    cnn_results = list()\n",
        "    for kernel_size in kernel_sizes:\n",
        "        # add convolutional layer\n",
        "        conv = Conv1D(filters=num_filters, kernel_size=kernel_size, padding=padding, strides=strides)(emb)\n",
        "        # add batch normalization layer\n",
        "        if batch_norm:\n",
        "            conv = BatchNormalization()(conv)\n",
        "        # add activation\n",
        "        conv = Activation(activation)(conv)\n",
        "        # add max-pooling\n",
        "        maxpool = MaxPool1D(pool_size=(input_length-kernel_size)//strides+1)(conv)\n",
        "        cnn_results.append(Flatten()(maxpool))\n",
        "    \n",
        "    ################################\n",
        "    ##### Fully Connected Layer ####\n",
        "    ################################\n",
        "    h = Concatenate()(cnn_results) if len(kernel_sizes) > 1 else cnn_results[0]\n",
        "    h = Dropout(dropout_rate, seed=0)(h)\n",
        "    # multi-layer perceptron\n",
        "    for i in range(num_mlp_layers-1):\n",
        "        new_h = Dense(hidden_size,\n",
        "                      kernel_initializer=keras.initializers.he_normal(seed=0),\n",
        "                      bias_initializer=\"zeros\",\n",
        "                      kernel_regularizer=keras.regularizers.l2(l2_reg))(h)\n",
        "        # add batch normalization layer\n",
        "        if batch_norm:\n",
        "            new_h = BatchNormalization()(new_h)\n",
        "        # add residual connection\n",
        "        if i == 0:\n",
        "            h = new_h\n",
        "        else:\n",
        "            h = Add()([h, new_h])\n",
        "        # add activation\n",
        "        h = Activation(activation)(h)\n",
        "\n",
        "    y = Dense(output_size,\n",
        "              activation=\"softmax\",\n",
        "              kernel_initializer=keras.initializers.he_normal(seed=0),\n",
        "              bias_initializer=\"zeros\")(h)\n",
        "    \n",
        "    # set the loss, the optimizer, and the metric\n",
        "    if optimizer == \"SGD\":\n",
        "        optimizer = keras.optimizers.SGD(lr=learning_rate)\n",
        "    elif optimizer == \"RMSprop\":\n",
        "        optmizer = keras.optimizers.RMSprop(learning_rate=learning_rate)\n",
        "    elif optimizer == \"Adam\":\n",
        "        optmizer = keras.optimizers.Adam(learning_rate=learning_rate)\n",
        "    else:\n",
        "        raise NotImplementedError\n",
        "    model = Model(x, y)\n",
        "    model.compile(loss=loss, optimizer=optimizer, metrics=[metric])\n",
        "    \n",
        "    return model"
      ],
      "execution_count": 17,
      "outputs": []
    },
    {
      "cell_type": "code",
      "metadata": {
        "colab": {
          "base_uri": "https://localhost:8080/"
        },
        "id": "zreKqMquGrrJ",
        "outputId": "919423d9-b128-47c2-cd27-b999fd562f50"
      },
      "source": [
        "train_feats = train_df['text'].map(tokenize).map(filter_stopwords).map(stem)\n",
        "valid_feats = valid_df['text'].map(tokenize).map(filter_stopwords).map(stem)\n",
        "\n",
        "# train_feats = train_df['text'].map(tokenize).map(filter_stopwords)\n",
        "# valid_feats = valid_df['text'].map(tokenize).map(filter_stopwords)\n",
        "\n",
        "# build a mapping from features to indices\n",
        "feats_dict = get_feats_dict(chain.from_iterable(train_feats), min_freq=3)    # set min_freq later accordingly\n",
        "\n",
        "train_labels = train_df['stars']\n",
        "valid_labels = valid_df['stars']\n",
        "\n",
        "# min_freq = 3\n",
        "\n",
        "# # load data\n",
        "# train_texts, train_labels = train_df[\"text\"], train_df[\"stars\"]\n",
        "# valid_texts, valid_labels = valid_df[\"text\"], valid_df[\"stars\"]\n",
        "\n",
        "# # extract features\n",
        "# train_tokens = [tokenize(text) for text in train_texts]\n",
        "# valid_tokens = [tokenize(text) for text in valid_texts]\n",
        "\n",
        "# train_stemmed = [stem(tokens) for tokens in train_tokens]\n",
        "# valid_stemmed = [stem(tokens) for tokens in valid_tokens]\n",
        "\n",
        "# train_feats = [filter_stopwords(tokens) for tokens in train_stemmed]\n",
        "# valid_feats = [filter_stopwords(tokens) for tokens in valid_stemmed]\n",
        "\n",
        "# # build a mapping from features to indices\n",
        "# feats_dict = get_feats_dict(chain.from_iterable(train_feats), min_freq=min_freq)"
      ],
      "execution_count": 32,
      "outputs": [
        {
          "output_type": "stream",
          "text": [
            "Size of features: 9304\n"
          ],
          "name": "stdout"
        }
      ]
    },
    {
      "cell_type": "code",
      "metadata": {
        "colab": {
          "base_uri": "https://localhost:8080/",
          "height": 296
        },
        "id": "gBIFkvmmezQ9",
        "outputId": "734a80b5-d66a-4299-a3c9-21a80dcb38b7"
      },
      "source": [
        "plt.figure(figsize=(10,4))\n",
        "len_cnt = Counter([len(feats) for feats in train_feats])\n",
        "len_key = sorted(len_cnt)\n",
        "plt.subplot(1,2,1)\n",
        "plt.plot(range(1, len(len_key)+1),\n",
        "         [len_cnt[l] for l in len_key])\n",
        "plt.xlabel(\"Sentence Length\")\n",
        "plt.ylabel(\"Length Frequency\")\n",
        "\n",
        "plt.subplot(1,2,2)\n",
        "plt.plot(range(1, len(len_key)+1),\n",
        "         np.cumsum([len_cnt[l] for l in len_key]))\n",
        "plt.xlabel(\"Sentence Length\")\n",
        "plt.ylabel(\"Cumulative Numbers\")"
      ],
      "execution_count": 33,
      "outputs": [
        {
          "output_type": "execute_result",
          "data": {
            "text/plain": [
              "Text(0, 0.5, 'Cumulative Numbers')"
            ]
          },
          "metadata": {
            "tags": []
          },
          "execution_count": 33
        },
        {
          "output_type": "display_data",
          "data": {
            "image/png": "[encoded data removed]",
            "text/plain": [
              "<Figure size 720x288 with 2 Axes>"
            ]
          },
          "metadata": {
            "tags": [],
            "needs_background": "light"
          }
        }
      ]
    },
    {
      "cell_type": "code",
      "metadata": {
        "id": "JYNHEq6vHeIb"
      },
      "source": [
        "max_len = 100\n",
        "\n",
        "# build the feats_matrix\n",
        "# convert each example to a index vector, and then stack vectors as a matrix\n",
        "train_feats_matrix = np.vstack([get_index_vector(f, feats_dict, max_len) for f in train_feats])\n",
        "valid_feats_matrix = np.vstack([get_index_vector(f, feats_dict, max_len) for f in valid_feats])\n",
        "\n",
        "# train_feats_matrix = np.vstack([get_index_vector(f, feats_dict, len(feats_dict)) for f in train_feats])\n",
        "# valid_feats_matrix = np.vstack([get_index_vector(f, feats_dict, len(feats_dict)) for f in valid_feats])\n",
        "\n",
        "# convert labels to label_matrix\n",
        "num_classes = max(train_labels)\n",
        "# convert each label to a ont-hot vector, and then stack vectors as a matrix\n",
        "train_label_matrix = keras.utils.to_categorical(train_labels-1, num_classes=num_classes)\n",
        "valid_label_matrix = keras.utils.to_categorical(valid_labels-1, num_classes=num_classes)"
      ],
      "execution_count": 34,
      "outputs": []
    },
    {
      "cell_type": "code",
      "metadata": {
        "colab": {
          "base_uri": "https://localhost:8080/"
        },
        "id": "wjWafxVQeGTW",
        "outputId": "5e581fc1-8f2f-449c-c5c5-c84fad2d50ec"
      },
      "source": [
        "print(train_feats_matrix.shape)\n",
        "print(valid_feats_matrix.shape)\n",
        "print(train_label_matrix.shape)\n",
        "print(valid_label_matrix.shape)"
      ],
      "execution_count": 35,
      "outputs": [
        {
          "output_type": "stream",
          "text": [
            "(10000, 100)\n",
            "(2000, 100)\n",
            "(10000, 5)\n",
            "(2000, 5)\n"
          ],
          "name": "stdout"
        }
      ]
    },
    {
      "cell_type": "code",
      "metadata": {
        "colab": {
          "base_uri": "https://localhost:8080/"
        },
        "id": "StoROqcnxDDU",
        "outputId": "4310fbcc-42e6-4835-df19-e643fcf4bcc8"
      },
      "source": [
        "num_classes"
      ],
      "execution_count": 36,
      "outputs": [
        {
          "output_type": "execute_result",
          "data": {
            "text/plain": [
              "5"
            ]
          },
          "metadata": {
            "tags": []
          },
          "execution_count": 36
        }
      ]
    },
    {
      "cell_type": "markdown",
      "metadata": {
        "id": "wcuQZFosXhOp"
      },
      "source": [
        "CNN"
      ]
    },
    {
      "cell_type": "code",
      "metadata": {
        "colab": {
          "base_uri": "https://localhost:8080/"
        },
        "id": "LG_QzCFcImQL",
        "outputId": "254b84e1-621c-455e-d538-ddabf8193094"
      },
      "source": [
        "os.makedirs(\"models\", exist_ok=True)\n",
        "model = build_CNN(input_length=max_len, vocab_size=len(feats_dict),\n",
        "                  embedding_size=100, hidden_size=100, output_size=num_classes,\n",
        "                  kernel_sizes=[1,2,3,4], num_filters=100, num_mlp_layers=3,\n",
        "                  activation=\"relu\")\n",
        "checkpointer = keras.callbacks.ModelCheckpoint(\n",
        "    filepath=os.path.join(\"models\", \"weights.hdf5\"),\n",
        "    monitor=\"val_accuracy\",\n",
        "    verbose=0,\n",
        "    save_best_only=True)\n",
        "reduce_lr = keras.callbacks.ReduceLROnPlateau(monitor='val_loss', factor=0.1, patience=3, verbose=1)\n",
        "earlystopping = keras.callbacks.EarlyStopping(\n",
        "    monitor='val_loss',\n",
        "    patience=5,\n",
        "    verbose=0)\n",
        "\n",
        "np.random.seed(0)\n",
        "tf.random.set_seed(0)\n",
        "cnn_history = model.fit(train_feats_matrix, train_label_matrix,\n",
        "                    validation_split=0.1,\n",
        "                    epochs=100, batch_size=100, verbose=0,\n",
        "                    callbacks=[checkpointer, earlystopping, reduce_lr])\n",
        "model = keras.models.load_model(os.path.join(\"models\", \"weights.hdf5\"))\n",
        "\n",
        "train_score = model.evaluate(train_feats_matrix, train_label_matrix,\n",
        "                             batch_size=100)\n",
        "valid_score = model.evaluate(valid_feats_matrix, valid_label_matrix,\n",
        "                            batch_size=100)\n",
        "print(\"training loss:\", train_score[0], \"training accuracy\", train_score[1])\n",
        "print(\"Valid loss:\", valid_score[0], \"Valid accuracy\", valid_score[1])"
      ],
      "execution_count": 40,
      "outputs": [
        {
          "output_type": "stream",
          "text": [
            "\n",
            "Epoch 00014: ReduceLROnPlateau reducing learning rate to 0.010000000149011612.\n",
            "\n",
            "Epoch 00018: ReduceLROnPlateau reducing learning rate to 0.0009999999776482583.\n",
            "100/100 [==============================] - 1s 4ms/step - loss: 0.7853 - accuracy: 0.6880\n",
            "20/20 [==============================] - 0s 4ms/step - loss: 1.0010 - accuracy: 0.5730\n",
            "training loss: 0.7852596640586853 training accuracy 0.6880000233650208\n",
            "Valid loss: 1.0010424852371216 Valid accuracy 0.5730000138282776\n"
          ],
          "name": "stdout"
        }
      ]
    },
    {
      "cell_type": "code",
      "metadata": {
        "colab": {
          "base_uri": "https://localhost:8080/",
          "height": 279
        },
        "id": "fd7fXZCSWuFF",
        "outputId": "382ff88e-d374-4e4e-b800-247df74e4d1c"
      },
      "source": [
        "plt.figure(figsize=(10,4))\n",
        "plt.subplot(1,2,1)\n",
        "plt.plot(cnn_history.history[\"loss\"], label=\"training\", color=\"blue\", linestyle=\"dashed\")\n",
        "plt.plot(cnn_history.history[\"val_loss\"], label=\"validation\", color=\"orange\")\n",
        "plt.xlabel(\"Iteration\")\n",
        "plt.ylabel(\"Loss\")\n",
        "plt.legend()\n",
        "plt.subplot(1,2,2)\n",
        "plt.plot(cnn_history.history[\"accuracy\"], label=\"training\", color=\"blue\", linestyle=\"dashed\")\n",
        "plt.plot(cnn_history.history[\"val_accuracy\"], label=\"validation\", color=\"orange\")\n",
        "plt.xlabel(\"Iteration\")\n",
        "plt.ylabel(\"Accuracy\")\n",
        "plt.legend()\n",
        "plt.show()"
      ],
      "execution_count": 41,
      "outputs": [
        {
          "output_type": "display_data",
          "data": {
            "image/png": "[encoded data removed]",
            "text/plain": [
              "<Figure size 720x288 with 2 Axes>"
            ]
          },
          "metadata": {
            "tags": [],
            "needs_background": "light"
          }
        }
      ]
    },
    {
      "cell_type": "markdown",
      "metadata": {
        "id": "S1R6RlpDc1TT"
      },
      "source": [
        "Compare optimizers RMSprop, SGD and Adam"
      ]
    },
    {
      "cell_type": "code",
      "metadata": {
        "id": "X4JNqH5AdOTN"
      },
      "source": [
        "checkpointer = keras.callbacks.ModelCheckpoint(\n",
        "    filepath=os.path.join(\"models\", \"weights.hdf5\"),\n",
        "    monitor=\"val_accuracy\",\n",
        "    verbose=0,\n",
        "    save_best_only=True)\n",
        "reduce_lr = keras.callbacks.ReduceLROnPlateau(monitor='val_loss', factor=0.1, patience=3, verbose=0)\n",
        "earlystopping = keras.callbacks.EarlyStopping(\n",
        "    monitor='val_loss',\n",
        "    patience=5,\n",
        "    verbose=0)\n",
        "\n",
        "np.random.seed(0)\n",
        "tf.random.set_seed(0)"
      ],
      "execution_count": 45,
      "outputs": []
    },
    {
      "cell_type": "code",
      "metadata": {
        "colab": {
          "base_uri": "https://localhost:8080/"
        },
        "id": "cBlsLoz0c0Ca",
        "outputId": "688e03bc-fc88-4bec-e3f3-a113430bd9b1"
      },
      "source": [
        "optimizers = [\"SGD\", \"RMSprop\", \"Adam\"]\n",
        "for o in optimizers:\n",
        "    checkpointer = keras.callbacks.ModelCheckpoint(\n",
        "        filepath=os.path.join(\"models\", \"weights\" + o + \".hdf5\"),\n",
        "        monitor=\"val_accuracy\",\n",
        "        verbose=0,\n",
        "        save_best_only=True)\n",
        "    model = build_CNN(input_length=max_len, vocab_size=len(feats_dict),\n",
        "                  embedding_size=100, hidden_size=100, output_size=num_classes,\n",
        "                  kernel_sizes=[1,2,3,4], num_filters=100, num_mlp_layers=3,\n",
        "                  activation=\"relu\", optimizer=o)\n",
        "    cnn_history = model.fit(train_feats_matrix, train_label_matrix,\n",
        "                    validation_split=0.1,\n",
        "                    epochs=100, batch_size=100, verbose=0,\n",
        "                    callbacks=[checkpointer, earlystopping, reduce_lr])\n",
        "    model = keras.models.load_model(os.path.join(\"models\", \"weights\" + o + \".hdf5\"))\n",
        "\n",
        "    train_score = model.evaluate(train_feats_matrix, train_label_matrix,\n",
        "                                batch_size=100)\n",
        "    valid_score = model.evaluate(valid_feats_matrix, valid_label_matrix,\n",
        "                                batch_size=100)\n",
        "    print(\"training loss:\", train_score[0], \"training accuracy\", train_score[1])\n",
        "    print(\"Valid loss:\", valid_score[0], \"Valid accuracy\", valid_score[1])\n",
        "    "
      ],
      "execution_count": 47,
      "outputs": [
        {
          "output_type": "stream",
          "text": [
            "100/100 [==============================] - 1s 4ms/step - loss: 0.8025 - accuracy: 0.6796\n",
            "20/20 [==============================] - 0s 4ms/step - loss: 1.0126 - accuracy: 0.5685\n",
            "training loss: 0.8024972081184387 training accuracy 0.6796000003814697\n",
            "Valid loss: 1.0125725269317627 Valid accuracy 0.5684999823570251\n",
            "100/100 [==============================] - 1s 4ms/step - loss: 0.3770 - accuracy: 0.8802\n",
            "20/20 [==============================] - 0s 4ms/step - loss: 1.2399 - accuracy: 0.5580\n",
            "training loss: 0.3769712746143341 training accuracy 0.8802000284194946\n",
            "Valid loss: 1.239924669265747 Valid accuracy 0.5580000281333923\n",
            "100/100 [==============================] - 1s 5ms/step - loss: 0.4514 - accuracy: 0.8412\n",
            "20/20 [==============================] - 0s 4ms/step - loss: 1.0638 - accuracy: 0.5660\n",
            "training loss: 0.4513801634311676 training accuracy 0.8411999940872192\n",
            "Valid loss: 1.0638196468353271 Valid accuracy 0.5659999847412109\n"
          ],
          "name": "stdout"
        }
      ]
    },
    {
      "cell_type": "markdown",
      "metadata": {
        "id": "NlFI3_CafXsr"
      },
      "source": [
        "Looks like SGD performs the best"
      ]
    },
    {
      "cell_type": "markdown",
      "metadata": {
        "id": "wDSzKvzNff10"
      },
      "source": [
        "Test out different kernel sizes"
      ]
    },
    {
      "cell_type": "code",
      "metadata": {
        "colab": {
          "base_uri": "https://localhost:8080/"
        },
        "id": "V-1CLtbxfWzE",
        "outputId": "c02f129b-509e-4e9c-a0e8-e31d6178eeea"
      },
      "source": [
        "kernel_size = [[1], [1, 2], [1, 2, 3], [1, 2, 3, 4]]\n",
        "for k in kernel_size:\n",
        "    checkpointer = keras.callbacks.ModelCheckpoint(\n",
        "        filepath=os.path.join(\"models\", \"weights\" + str(len(k)) + \".hdf5\"),\n",
        "        monitor=\"val_accuracy\",\n",
        "        verbose=0,\n",
        "        save_best_only=True)\n",
        "    model = build_CNN(input_length=max_len, vocab_size=len(feats_dict),\n",
        "                  embedding_size=100, hidden_size=100, output_size=num_classes,\n",
        "                  kernel_sizes=k, num_filters=100, num_mlp_layers=3,\n",
        "                  activation=\"relu\")\n",
        "    cnn_history = model.fit(train_feats_matrix, train_label_matrix,\n",
        "                    validation_split=0.1,\n",
        "                    epochs=100, batch_size=100, verbose=0,\n",
        "                    callbacks=[checkpointer, earlystopping, reduce_lr])\n",
        "    model = keras.models.load_model(os.path.join(\"models\", \"weights\" + str(len(k)) + \".hdf5\"))\n",
        "\n",
        "    print(\"Kernels used\", k)\n",
        "\n",
        "    train_score = model.evaluate(train_feats_matrix, train_label_matrix,\n",
        "                                batch_size=100)\n",
        "    valid_score = model.evaluate(valid_feats_matrix, valid_label_matrix,\n",
        "                                batch_size=100)\n",
        "    print(\"training loss:\", train_score[0], \"training accuracy\", train_score[1])\n",
        "    print(\"Valid loss:\", valid_score[0], \"Valid accuracy\", valid_score[1])"
      ],
      "execution_count": 49,
      "outputs": [
        {
          "output_type": "stream",
          "text": [
            "Kernels used [1]\n",
            "100/100 [==============================] - 0s 3ms/step - loss: 0.8976 - accuracy: 0.6270\n",
            "20/20 [==============================] - 0s 3ms/step - loss: 1.0366 - accuracy: 0.5535\n",
            "training loss: 0.8975844979286194 training accuracy 0.6269999742507935\n",
            "Valid loss: 1.0365687608718872 Valid accuracy 0.5534999966621399\n",
            "Kernels used [1, 2]\n",
            "100/100 [==============================] - 0s 3ms/step - loss: 0.8156 - accuracy: 0.6687\n",
            "20/20 [==============================] - 0s 3ms/step - loss: 1.0099 - accuracy: 0.5750\n",
            "training loss: 0.815551221370697 training accuracy 0.6686999797821045\n",
            "Valid loss: 1.0099023580551147 Valid accuracy 0.574999988079071\n",
            "Kernels used [1, 2, 3]\n",
            "100/100 [==============================] - 1s 4ms/step - loss: 0.8110 - accuracy: 0.6761\n",
            "20/20 [==============================] - 0s 4ms/step - loss: 1.0162 - accuracy: 0.5695\n",
            "training loss: 0.8110384345054626 training accuracy 0.6761000156402588\n",
            "Valid loss: 1.0161689519882202 Valid accuracy 0.5695000290870667\n",
            "Kernels used [1, 2, 3, 4]\n",
            "100/100 [==============================] - 1s 4ms/step - loss: 0.7874 - accuracy: 0.6889\n",
            "20/20 [==============================] - 0s 4ms/step - loss: 1.0181 - accuracy: 0.5695\n",
            "training loss: 0.7874174118041992 training accuracy 0.6888999938964844\n",
            "Valid loss: 1.0180799961090088 Valid accuracy 0.5695000290870667\n"
          ],
          "name": "stdout"
        }
      ]
    },
    {
      "cell_type": "markdown",
      "metadata": {
        "id": "jnBeMPQ7hb8s"
      },
      "source": [
        "Looks like kernels [1, 2] are enough"
      ]
    },
    {
      "cell_type": "markdown",
      "metadata": {
        "id": "TCzPa-aYhtdK"
      },
      "source": [
        "Test batch normalization, dropout and regularization"
      ]
    },
    {
      "cell_type": "code",
      "metadata": {
        "colab": {
          "base_uri": "https://localhost:8080/"
        },
        "id": "LZh4jLNeh1XJ",
        "outputId": "a7033343-e6b1-4608-9283-706a4e71571d"
      },
      "source": [
        "bn = [False, True]\n",
        "drop = [0.25, 0.5, 0.75]\n",
        "reg = [0.005, 0.05, 0.5]\n",
        "\n",
        "for b in bn:\n",
        "    for d in drop:\n",
        "        for r in reg:\n",
        "            checkpointer = keras.callbacks.ModelCheckpoint(\n",
        "              filepath=os.path.join(\"models\", \"weights_\" + str(b)+ \"_\" + str(d) + \"_\" + str(r) + \".hdf5\"),\n",
        "              monitor=\"val_accuracy\",\n",
        "              verbose=0,\n",
        "              save_best_only=True)\n",
        "            model = build_CNN(input_length=max_len, vocab_size=len(feats_dict),\n",
        "                          embedding_size=100, hidden_size=100, output_size=num_classes,\n",
        "                          kernel_sizes=[1, 2], num_filters=100, num_mlp_layers=3,\n",
        "                          activation=\"relu\", dropout_rate=d, l2_reg=r, batch_norm=b)\n",
        "            cnn_history = model.fit(train_feats_matrix, train_label_matrix,\n",
        "                            validation_split=0.1,\n",
        "                            epochs=100, batch_size=100, verbose=0,\n",
        "                            callbacks=[checkpointer, earlystopping, reduce_lr])\n",
        "            model = keras.models.load_model(os.path.join(\"models\", \"weights_\" + str(b)+ \"_\" + str(d) + \"_\" + str(r) + \".hdf5\"))\n",
        "\n",
        "            print(\"weights_\" + str(b)+ \"_\" + str(d) + \"_\" + str(r) + \".hdf5\")\n",
        "\n",
        "            train_score = model.evaluate(train_feats_matrix, train_label_matrix,\n",
        "                                        batch_size=100)\n",
        "            valid_score = model.evaluate(valid_feats_matrix, valid_label_matrix,\n",
        "                                        batch_size=100)\n",
        "            print(\"training loss:\", train_score[0], \"training accuracy\", train_score[1])\n",
        "            print(\"Valid loss:\", valid_score[0], \"Valid accuracy\", valid_score[1])"
      ],
      "execution_count": 53,
      "outputs": [
        {
          "output_type": "stream",
          "text": [
            "weights_False_0.25_0.005.hdf5\n",
            "100/100 [==============================] - 0s 3ms/step - loss: 1.0281 - accuracy: 0.6274\n",
            "20/20 [==============================] - 0s 3ms/step - loss: 1.1324 - accuracy: 0.5630\n",
            "training loss: 1.0280522108078003 training accuracy 0.6273999810218811\n",
            "Valid loss: 1.1323556900024414 Valid accuracy 0.5630000233650208\n",
            "weights_False_0.25_0.05.hdf5\n",
            "100/100 [==============================] - 0s 3ms/step - loss: 1.0791 - accuracy: 0.5679\n",
            "20/20 [==============================] - 0s 3ms/step - loss: 1.1054 - accuracy: 0.5505\n",
            "training loss: 1.0791494846343994 training accuracy 0.5679000020027161\n",
            "Valid loss: 1.105401873588562 Valid accuracy 0.5504999756813049\n",
            "weights_False_0.25_0.5.hdf5\n",
            "100/100 [==============================] - 0s 3ms/step - loss: 1.5904 - accuracy: 0.2534\n",
            "20/20 [==============================] - 0s 3ms/step - loss: 1.5890 - accuracy: 0.2585\n",
            "training loss: 1.5904090404510498 training accuracy 0.2533999979496002\n",
            "Valid loss: 1.5889817476272583 Valid accuracy 0.25850000977516174\n",
            "weights_False_0.5_0.005.hdf5\n",
            "100/100 [==============================] - 0s 3ms/step - loss: 0.8602 - accuracy: 0.6739\n",
            "20/20 [==============================] - 0s 3ms/step - loss: 1.0381 - accuracy: 0.5840\n",
            "training loss: 0.8601505756378174 training accuracy 0.6739000082015991\n",
            "Valid loss: 1.0380795001983643 Valid accuracy 0.5839999914169312\n",
            "weights_False_0.5_0.05.hdf5\n",
            "100/100 [==============================] - 0s 3ms/step - loss: 1.0501 - accuracy: 0.5799\n",
            "20/20 [==============================] - 0s 3ms/step - loss: 1.0950 - accuracy: 0.5505\n",
            "training loss: 1.0501362085342407 training accuracy 0.5799000263214111\n",
            "Valid loss: 1.0950123071670532 Valid accuracy 0.5504999756813049\n",
            "weights_False_0.5_0.5.hdf5\n",
            "100/100 [==============================] - 0s 3ms/step - loss: 1.5905 - accuracy: 0.2534\n",
            "20/20 [==============================] - 0s 3ms/step - loss: 1.5890 - accuracy: 0.2585\n",
            "training loss: 1.5904871225357056 training accuracy 0.2533999979496002\n",
            "Valid loss: 1.589003086090088 Valid accuracy 0.25850000977516174\n",
            "weights_False_0.75_0.005.hdf5\n",
            "100/100 [==============================] - 0s 3ms/step - loss: 0.9044 - accuracy: 0.6434\n",
            "20/20 [==============================] - 0s 3ms/step - loss: 1.0317 - accuracy: 0.5810\n",
            "training loss: 0.9044418931007385 training accuracy 0.6434000134468079\n",
            "Valid loss: 1.0316824913024902 Valid accuracy 0.5809999704360962\n",
            "weights_False_0.75_0.05.hdf5\n",
            "100/100 [==============================] - 0s 3ms/step - loss: 1.1488 - accuracy: 0.5280\n",
            "20/20 [==============================] - 0s 3ms/step - loss: 1.1544 - accuracy: 0.5300\n",
            "training loss: 1.1487654447555542 training accuracy 0.527999997138977\n",
            "Valid loss: 1.1543667316436768 Valid accuracy 0.5299999713897705\n",
            "weights_False_0.75_0.5.hdf5\n",
            "100/100 [==============================] - 0s 3ms/step - loss: 1.5907 - accuracy: 0.2534\n",
            "20/20 [==============================] - 0s 3ms/step - loss: 1.5893 - accuracy: 0.2585\n",
            "training loss: 1.590744972229004 training accuracy 0.2533999979496002\n",
            "Valid loss: 1.5892958641052246 Valid accuracy 0.25850000977516174\n",
            "weights_True_0.25_0.005.hdf5\n",
            "100/100 [==============================] - 1s 3ms/step - loss: 0.8842 - accuracy: 0.7602\n",
            "20/20 [==============================] - 0s 4ms/step - loss: 1.2575 - accuracy: 0.5690\n",
            "training loss: 0.8842378854751587 training accuracy 0.760200023651123\n",
            "Valid loss: 1.2574753761291504 Valid accuracy 0.5690000057220459\n",
            "weights_True_0.25_0.05.hdf5\n",
            "100/100 [==============================] - 1s 3ms/step - loss: 0.6403 - accuracy: 0.7777\n",
            "20/20 [==============================] - 0s 4ms/step - loss: 1.0563 - accuracy: 0.5915\n",
            "training loss: 0.6402966976165771 training accuracy 0.7777000069618225\n",
            "Valid loss: 1.0563205480575562 Valid accuracy 0.5914999842643738\n",
            "weights_True_0.25_0.5.hdf5\n",
            "100/100 [==============================] - 1s 3ms/step - loss: 0.8883 - accuracy: 0.6534\n",
            "20/20 [==============================] - 0s 4ms/step - loss: 1.0274 - accuracy: 0.5820\n",
            "training loss: 0.888307511806488 training accuracy 0.6534000039100647\n",
            "Valid loss: 1.027416467666626 Valid accuracy 0.5820000171661377\n",
            "weights_True_0.5_0.005.hdf5\n",
            "100/100 [==============================] - 1s 3ms/step - loss: 0.7053 - accuracy: 0.7518\n",
            "20/20 [==============================] - 0s 4ms/step - loss: 1.0528 - accuracy: 0.5775\n",
            "training loss: 0.7052620649337769 training accuracy 0.751800000667572\n",
            "Valid loss: 1.0527620315551758 Valid accuracy 0.5774999856948853\n",
            "weights_True_0.5_0.05.hdf5\n",
            "100/100 [==============================] - 1s 3ms/step - loss: 0.8904 - accuracy: 0.6394\n",
            "20/20 [==============================] - 0s 3ms/step - loss: 1.0314 - accuracy: 0.5660\n",
            "training loss: 0.8904414176940918 training accuracy 0.6394000053405762\n",
            "Valid loss: 1.0313831567764282 Valid accuracy 0.5659999847412109\n",
            "weights_True_0.5_0.5.hdf5\n",
            "100/100 [==============================] - 1s 3ms/step - loss: 1.0604 - accuracy: 0.5719\n",
            "20/20 [==============================] - 0s 4ms/step - loss: 1.1008 - accuracy: 0.5610\n",
            "training loss: 1.0604137182235718 training accuracy 0.5719000101089478\n",
            "Valid loss: 1.10081946849823 Valid accuracy 0.5609999895095825\n",
            "weights_True_0.75_0.005.hdf5\n",
            "100/100 [==============================] - 1s 4ms/step - loss: 1.0179 - accuracy: 0.5929\n",
            "20/20 [==============================] - 0s 4ms/step - loss: 1.0918 - accuracy: 0.5505\n",
            "training loss: 1.0178742408752441 training accuracy 0.5928999781608582\n",
            "Valid loss: 1.091821551322937 Valid accuracy 0.5504999756813049\n",
            "weights_True_0.75_0.05.hdf5\n",
            "100/100 [==============================] - 1s 3ms/step - loss: 1.1138 - accuracy: 0.5520\n",
            "20/20 [==============================] - 0s 4ms/step - loss: 1.1472 - accuracy: 0.5400\n",
            "training loss: 1.1138190031051636 training accuracy 0.5519999861717224\n",
            "Valid loss: 1.1472489833831787 Valid accuracy 0.5400000214576721\n",
            "weights_True_0.75_0.5.hdf5\n",
            "100/100 [==============================] - 1s 3ms/step - loss: 1.2101 - accuracy: 0.5126\n",
            "20/20 [==============================] - 0s 3ms/step - loss: 1.2091 - accuracy: 0.5220\n",
            "training loss: 1.2101086378097534 training accuracy 0.5126000046730042\n",
            "Valid loss: 1.2091091871261597 Valid accuracy 0.5220000147819519\n"
          ],
          "name": "stdout"
        }
      ]
    },
    {
      "cell_type": "markdown",
      "metadata": {
        "id": "WpcVbL61m0kH"
      },
      "source": [
        "Best Model - BN=True, Drop=0.25, l2req=0.05"
      ]
    }
  ]
}