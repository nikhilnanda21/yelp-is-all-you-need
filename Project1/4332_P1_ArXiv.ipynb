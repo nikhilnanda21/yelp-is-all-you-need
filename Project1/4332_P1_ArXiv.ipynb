{
  "nbformat": 4,
  "nbformat_minor": 0,
  "metadata": {
    "colab": {
      "name": "4332_P1_ArXiv.ipynb",
      "provenance": [],
      "collapsed_sections": [],
      "toc_visible": true
    },
    "kernelspec": {
      "name": "python3",
      "display_name": "Python 3"
    },
    "language_info": {
      "name": "python"
    },
    "accelerator": "GPU"
  },
  "cells": [
    {
      "cell_type": "markdown",
      "metadata": {
        "id": "HAckpZDZG-BR"
      },
      "source": [
        "# Download Data"
      ]
    },
    {
      "cell_type": "code",
      "metadata": {
        "id": "_gEmiUAEG8zx"
      },
      "source": [
        "!wget -q https://hkustconnect-my.sharepoint.com/:u:/g/personal/nnanda_connect_ust_hk/EfREjZqiZTlPqhqUPICBbPABdlgPumlaUVxPncm-_9aWIw?download=1 -O \"Project 1 - data.zip\"\n",
        "!unzip -q \"Project 1 - data.zip\""
      ],
      "execution_count": 1,
      "outputs": []
    },
    {
      "cell_type": "markdown",
      "metadata": {
        "id": "VyCUH6drFgou"
      },
      "source": [
        "# Import Libraries"
      ]
    },
    {
      "cell_type": "code",
      "metadata": {
        "colab": {
          "base_uri": "https://localhost:8080/"
        },
        "id": "L_q2Kr7_Fa-g",
        "outputId": "c4142c2e-80e6-44ce-e13b-403a1d1b2e1b"
      },
      "source": [
        "!pip -q install keras-layer-normalization"
      ],
      "execution_count": 3,
      "outputs": [
        {
          "output_type": "stream",
          "text": [
            "  Building wheel for keras-layer-normalization (setup.py) ... \u001b[?25l\u001b[?25hdone\n"
          ],
          "name": "stdout"
        }
      ]
    },
    {
      "cell_type": "code",
      "metadata": {
        "id": "7_uTe2vvFJTL"
      },
      "source": [
        "import os\n",
        "import nltk\n",
        "import math\n",
        "import pandas as pd\n",
        "import numpy as np\n",
        "import keras\n",
        "import tensorflow as tf\n",
        "import matplotlib.pyplot as plt\n",
        "from collections import Counter\n",
        "from itertools import chain\n",
        "from sklearn.model_selection import StratifiedKFold\n",
        "from sklearn.metrics import accuracy_score, f1_score\n",
        "from keras.models import Sequential, Model\n",
        "from keras.layers import Dense, Activation, Dropout, BatchNormalization,\\\n",
        "    Activation, Input, Add, Concatenate, Embedding, Conv1D, MaxPool1D,\\\n",
        "    Flatten, LSTM, Bidirectional, MaxPooling1D, SimpleRNN, GRU, SpatialDropout1D\n",
        "from keras_layer_normalization import LayerNormalization\n",
        "from nltk.corpus import stopwords\n",
        "from nltk.stem import PorterStemmer\n",
        "from keras.wrappers.scikit_learn import KerasClassifier\n",
        "from sklearn.model_selection import GridSearchCV\n",
        "import matplotlib.pyplot as plt\n",
        "import seaborn as sns\n",
        "import random\n",
        "import pickle\n",
        "from sklearn.svm import LinearSVC\n",
        "from sklearn.linear_model import LogisticRegression\n"
      ],
      "execution_count": 46,
      "outputs": []
    },
    {
      "cell_type": "code",
      "metadata": {
        "colab": {
          "base_uri": "https://localhost:8080/"
        },
        "id": "21Z1gRo3H3Zh",
        "outputId": "c49d0110-68d2-4d55-a84a-7f2c42151282"
      },
      "source": [
        "nltk.download('stopwords')\n",
        "nltk.download('punkt')\n",
        "nltk.download('wordnet')\n",
        "nltk.download('averaged_perceptron_tagger')"
      ],
      "execution_count": 12,
      "outputs": [
        {
          "output_type": "stream",
          "text": [
            "[nltk_data] Downloading package stopwords to /root/nltk_data...\n",
            "[nltk_data]   Package stopwords is already up-to-date!\n",
            "[nltk_data] Downloading package punkt to /root/nltk_data...\n",
            "[nltk_data]   Package punkt is already up-to-date!\n",
            "[nltk_data] Downloading package wordnet to /root/nltk_data...\n",
            "[nltk_data]   Unzipping corpora/wordnet.zip.\n",
            "[nltk_data] Downloading package averaged_perceptron_tagger to\n",
            "[nltk_data]     /root/nltk_data...\n",
            "[nltk_data]   Unzipping taggers/averaged_perceptron_tagger.zip.\n"
          ],
          "name": "stdout"
        },
        {
          "output_type": "execute_result",
          "data": {
            "text/plain": [
              "True"
            ]
          },
          "metadata": {
            "tags": []
          },
          "execution_count": 12
        }
      ]
    },
    {
      "cell_type": "code",
      "metadata": {
        "id": "noMKFCoiHxq1"
      },
      "source": [
        "stopwords = set(stopwords.words(\"english\"))\n",
        "ps = PorterStemmer()"
      ],
      "execution_count": 6,
      "outputs": []
    },
    {
      "cell_type": "markdown",
      "metadata": {
        "id": "b-Y4M188FjI3"
      },
      "source": [
        "# Data Loader"
      ]
    },
    {
      "cell_type": "code",
      "metadata": {
        "id": "0LdLcI3EFWIK"
      },
      "source": [
        "def load_data(split_name='train', columns=['text', 'stars']):\n",
        "    try:\n",
        "        print(f\"select [{', '.join(columns)}] columns from the {split_name} split\")\n",
        "        df = pd.read_csv(f'data_2021_spring/{split_name}.csv')\n",
        "        df = df.loc[:,columns]\n",
        "        print(\"succeed!\")\n",
        "        return df\n",
        "    except:\n",
        "        print(\"Failed, then try to \")\n",
        "        print(f\"select all columns from the {split_name} split\")\n",
        "        df = pd.read_csv(f'data_2021_spring/{split_name}.csv')\n",
        "        return df"
      ],
      "execution_count": 7,
      "outputs": []
    },
    {
      "cell_type": "code",
      "metadata": {
        "colab": {
          "base_uri": "https://localhost:8080/"
        },
        "id": "YQj5souEFnD2",
        "outputId": "9948d0ac-d95c-4cd8-8b54-7ae008408394"
      },
      "source": [
        "train_df = load_data('train', columns=['full'])\n",
        "valid_df = load_data('valid', columns=['full'])\n",
        "test_df = load_data('test', columns=['full'])"
      ],
      "execution_count": 8,
      "outputs": [
        {
          "output_type": "stream",
          "text": [
            "select [full] columns from the train split\n",
            "Failed, then try to \n",
            "select all columns from the train split\n",
            "select [full] columns from the valid split\n",
            "Failed, then try to \n",
            "select all columns from the valid split\n",
            "select [full] columns from the test split\n",
            "Failed, then try to \n",
            "select all columns from the test split\n"
          ],
          "name": "stdout"
        }
      ]
    },
    {
      "cell_type": "markdown",
      "metadata": {
        "id": "yXy1eL8pG7hp"
      },
      "source": [
        "# Following https://arxiv.org/pdf/2004.13851.pdf"
      ]
    },
    {
      "cell_type": "code",
      "metadata": {
        "id": "kfjeqpqQG1S6"
      },
      "source": [
        "\"\"\"\n",
        "vectorizer\n",
        "\"\"\"\n",
        "import re\n",
        "import string\n",
        "\n",
        "from nltk import PorterStemmer, WordNetLemmatizer, sent_tokenize, wordpunct_tokenize, pos_tag\n",
        "from nltk.corpus import wordnet, stopwords\n",
        "from sklearn.feature_extraction.text import CountVectorizer\n",
        "\n",
        "\n",
        "class YelpSentCountVectorizer(CountVectorizer):\n",
        "    def __init__(self, ngram_range=(1, 1),\n",
        "                 remove_nonwords=False, remove_stopwords=False,\n",
        "                 stem=False, lemmatize=False, min_df=1, binary=False):\n",
        "        super().__init__()\n",
        "        self.punct = set(string.punctuation)\n",
        "        self.ngram_range = ngram_range\n",
        "        self.remove_nonwords = remove_nonwords\n",
        "        self.stop_words = set(stopwords.words('english')) if remove_stopwords else set()\n",
        "        self.stemmer = PorterStemmer() if stem else None\n",
        "        self.lemmatizer = WordNetLemmatizer() if lemmatize else None\n",
        "        self.min_df = min_df\n",
        "        self.binary = binary\n",
        "\n",
        "    def lemmatize(self, token, tag):\n",
        "        tag = {\n",
        "            'N': wordnet.NOUN,\n",
        "            'V': wordnet.VERB,\n",
        "            'R': wordnet.ADV,\n",
        "            'J': wordnet.ADJ\n",
        "        }.get(tag[0], wordnet.NOUN)\n",
        "        return self.lemmatizer.lemmatize(token, tag)\n",
        "\n",
        "    def stem(self, token):\n",
        "        return self.stemmer.stem(token)\n",
        "\n",
        "    def build_analyzer(self):\n",
        "        # create the analyzer that will be returned by this method\n",
        "        def analyser(doc):\n",
        "            # Keep only words\n",
        "            doc = re.sub('[^A-Za-z0-9]+', ' ', doc) if self.remove_nonwords else doc\n",
        "            cleaned_tokens = []\n",
        "            # Break the document into sentences\n",
        "            for sent in sent_tokenize(doc):\n",
        "                # Break the sentence into part of speech tagged tokens\n",
        "                for token, tag in pos_tag(wordpunct_tokenize(sent)):\n",
        "                    # Lower case and strip spaces\n",
        "                    token = token.lower()\n",
        "                    token = token.strip()\n",
        "                    # If stopword, ignore token and continue\n",
        "                    if token in self.stop_words:\n",
        "                        continue\n",
        "                    # If punctuation, continue\n",
        "                    if all(char in self.punct for char in token):\n",
        "                        continue\n",
        "                    # Lemmatize/stem the token\n",
        "                    if self.lemmatizer:\n",
        "                        token = self.lemmatize(token, tag)\n",
        "                    elif self.stemmer:\n",
        "                        token = self.stem(token)\n",
        "                    cleaned_tokens.append(token)\n",
        "            # use CountVectorizer's _word_ngrams built in method to extract n-grams\n",
        "            return self._word_ngrams(cleaned_tokens)\n",
        "\n",
        "        return analyser"
      ],
      "execution_count": 9,
      "outputs": []
    },
    {
      "cell_type": "code",
      "metadata": {
        "id": "zkN3zV2_LACD"
      },
      "source": [
        "\"\"\"\n",
        "visualize\n",
        "\"\"\"\n",
        "\n",
        "import matplotlib.pyplot as plt\n",
        "from seaborn import heatmap\n",
        "from sklearn.metrics import confusion_matrix\n",
        "\n",
        "\n",
        "def confusion_heat_map(y_true, y_pred, normalize, fmt, labels):\n",
        "    \"\"\"Generate heat map based on a confusion matrix\n",
        "    \"\"\"\n",
        "    conf_mat = confusion_matrix(y_true,\n",
        "                                y_pred,\n",
        "                                normalize=normalize)\n",
        "\n",
        "    plt.figure(figsize=(5, 5))\n",
        "\n",
        "    heatmap(conf_mat,\n",
        "            annot=True,\n",
        "            annot_kws={\"size\": 12},\n",
        "            fmt=fmt,\n",
        "            xticklabels=labels,\n",
        "            yticklabels=labels,\n",
        "            cbar=False)\n",
        "\n",
        "    plt.xlabel('Predicted', fontsize=14)\n",
        "    plt.ylabel('Actual', fontsize=14)\n",
        "    plt.show()"
      ],
      "execution_count": 41,
      "outputs": []
    },
    {
      "cell_type": "code",
      "metadata": {
        "id": "Ahfjm8sjK3pq"
      },
      "source": [
        "\"\"\"\n",
        "classification\n",
        "\"\"\"\n",
        "\n",
        "from sklearn import metrics\n",
        "\n",
        "\n",
        "def f1_score_diff(y_true, y_pred):\n",
        "    \"\"\"Macro F1-score\n",
        "    :param y_true: ground truth labels\n",
        "    :param y_pred: predicted labels\n",
        "    :return: macro f1-score\n",
        "    \"\"\"\n",
        "    precision = metrics.precision_score(y_true, y_pred, average='macro')\n",
        "    recall = metrics.recall_score(y_true, y_pred, average='macro')\n",
        "    return 2.0 * precision * recall / (precision + recall)"
      ],
      "execution_count": 54,
      "outputs": []
    },
    {
      "cell_type": "code",
      "metadata": {
        "id": "x-59p7Y7Kjkb"
      },
      "source": [
        "\"\"\"\n",
        "train_model\n",
        "\"\"\"\n",
        "from sklearn.pipeline import Pipeline\n",
        "\n",
        "\n",
        "def evaluate_pipeline(X_train, y_train, X_test, y_test, pipeline):\n",
        "    y_train_pred = pipeline.predict(X_train)\n",
        "    f1_train = f1_score_diff(y_train, y_train_pred)\n",
        "\n",
        "    y_test_pred = pipeline.predict(X_test)\n",
        "    f1_test = f1_score_diff(y_test, y_test_pred)\n",
        "\n",
        "    confusion_heat_map(y_test,\n",
        "                                     y_test_pred,\n",
        "                                     normalize='true',\n",
        "                                     fmt='.1%',\n",
        "                                     labels=set(y_test))\n",
        "\n",
        "    return y_train_pred, y_test_pred, f1_train, f1_test\n",
        "\n",
        "\n",
        "def train_and_test(X_train, y_train, X_test, y_test, classifier, vectorizer=None):\n",
        "    if vectorizer:\n",
        "        pipeline = Pipeline([\n",
        "            ('vectorizer', vectorizer),\n",
        "            ('classifier', classifier)\n",
        "        ])\n",
        "    else:\n",
        "        pipeline = Pipeline([\n",
        "            ('classifier', classifier)\n",
        "        ])\n",
        "\n",
        "    pipeline.fit(X_train, y_train)\n",
        "\n",
        "    y_train_pred, y_test_pred, f1_train, f1_test = evaluate_pipeline(X_train, y_train, X_test, y_test, pipeline)\n",
        "\n",
        "    return pipeline, y_train_pred, y_test_pred, f1_train, f1_test"
      ],
      "execution_count": 57,
      "outputs": []
    },
    {
      "cell_type": "markdown",
      "metadata": {
        "id": "wCUTAcmgMVJi"
      },
      "source": [
        "# Data Creation"
      ]
    },
    {
      "cell_type": "code",
      "metadata": {
        "id": "F6VX_wvKHAMQ"
      },
      "source": [
        "X_train = train_df['text'].tolist()\n",
        "y_train = train_df['stars'].tolist()"
      ],
      "execution_count": 10,
      "outputs": []
    },
    {
      "cell_type": "code",
      "metadata": {
        "id": "Pi7qNI_fH01S"
      },
      "source": [
        "X_test = valid_df['text'].tolist()\n",
        "y_test = valid_df['stars'].tolist()"
      ],
      "execution_count": 11,
      "outputs": []
    },
    {
      "cell_type": "code",
      "metadata": {
        "id": "A8oFwpgVH77I"
      },
      "source": [
        "vect = YelpSentCountVectorizer(ngram_range=(1,2),\n",
        "                                        remove_nonwords=True,\n",
        "                                        remove_stopwords=True,\n",
        "                                        stem=False,\n",
        "                                        lemmatize=True)"
      ],
      "execution_count": 13,
      "outputs": []
    },
    {
      "cell_type": "code",
      "metadata": {
        "colab": {
          "base_uri": "https://localhost:8080/"
        },
        "id": "QzBsM0zTIMa_",
        "outputId": "b329192f-62ae-49ca-dee6-021e8290a8a5"
      },
      "source": [
        "%time cv = vect.fit(X_train)"
      ],
      "execution_count": 14,
      "outputs": [
        {
          "output_type": "stream",
          "text": [
            "CPU times: user 56.1 s, sys: 489 ms, total: 56.6 s\n",
            "Wall time: 56.6 s\n"
          ],
          "name": "stdout"
        }
      ]
    },
    {
      "cell_type": "code",
      "metadata": {
        "id": "PnF1y0Y3IQh1"
      },
      "source": [
        "X_train_dtm = vect.transform(X_train)\n",
        "X_test_dtm = vect.transform(X_test)"
      ],
      "execution_count": 15,
      "outputs": []
    },
    {
      "cell_type": "code",
      "metadata": {
        "colab": {
          "base_uri": "https://localhost:8080/"
        },
        "id": "9-1PD7aIMBMo",
        "outputId": "de2e4f0f-8d3d-4701-b3b7-fcd45e99c9eb"
      },
      "source": [
        "X_train_dtm.shape, X_test_dtm.shape"
      ],
      "execution_count": 45,
      "outputs": [
        {
          "output_type": "execute_result",
          "data": {
            "text/plain": [
              "((10000, 386625), (2000, 386625))"
            ]
          },
          "metadata": {
            "tags": []
          },
          "execution_count": 45
        }
      ]
    },
    {
      "cell_type": "code",
      "metadata": {
        "id": "dqcWnrrnP89X"
      },
      "source": [
        "# y_train.shape, y_test.shape"
      ],
      "execution_count": 68,
      "outputs": []
    },
    {
      "cell_type": "markdown",
      "metadata": {
        "id": "LeG1DZ10MYl7"
      },
      "source": [
        "# SVM"
      ]
    },
    {
      "cell_type": "code",
      "metadata": {
        "id": "FHQOMaMNJjej"
      },
      "source": [
        "# Grid-search for C\n",
        "params = {'C' : np.logspace(-5, -2, 6)}\n",
        "\n",
        "gscv = GridSearchCV(LinearSVC(max_iter=1000),\n",
        "                    params,\n",
        "                    scoring='f1_macro',\n",
        "                    cv=3,\n",
        "                    verbose=1,\n",
        "                    n_jobs=-1)"
      ],
      "execution_count": 19,
      "outputs": []
    },
    {
      "cell_type": "code",
      "metadata": {
        "colab": {
          "base_uri": "https://localhost:8080/"
        },
        "id": "_AQrIyXaJoFI",
        "outputId": "19783536-b3d8-43bc-b138-e64e0a1c17eb"
      },
      "source": [
        "gscv.fit(X_train_dtm, y_train)"
      ],
      "execution_count": 20,
      "outputs": [
        {
          "output_type": "stream",
          "text": [
            "Fitting 3 folds for each of 6 candidates, totalling 18 fits\n"
          ],
          "name": "stdout"
        },
        {
          "output_type": "stream",
          "text": [
            "[Parallel(n_jobs=-1)]: Using backend LokyBackend with 2 concurrent workers.\n",
            "[Parallel(n_jobs=-1)]: Done  18 out of  18 | elapsed:    5.1s finished\n"
          ],
          "name": "stderr"
        },
        {
          "output_type": "execute_result",
          "data": {
            "text/plain": [
              "GridSearchCV(cv=3, error_score=nan,\n",
              "             estimator=LinearSVC(C=1.0, class_weight=None, dual=True,\n",
              "                                 fit_intercept=True, intercept_scaling=1,\n",
              "                                 loss='squared_hinge', max_iter=1000,\n",
              "                                 multi_class='ovr', penalty='l2',\n",
              "                                 random_state=None, tol=0.0001, verbose=0),\n",
              "             iid='deprecated', n_jobs=-1,\n",
              "             param_grid={'C': array([1.00000000e-05, 3.98107171e-05, 1.58489319e-04, 6.30957344e-04,\n",
              "       2.51188643e-03, 1.00000000e-02])},\n",
              "             pre_dispatch='2*n_jobs', refit=True, return_train_score=False,\n",
              "             scoring='f1_macro', verbose=1)"
            ]
          },
          "metadata": {
            "tags": []
          },
          "execution_count": 20
        }
      ]
    },
    {
      "cell_type": "code",
      "metadata": {
        "colab": {
          "base_uri": "https://localhost:8080/"
        },
        "id": "tqaQgpg-Jrp7",
        "outputId": "63d495fe-f411-4592-8641-8c226c2d9cdb"
      },
      "source": [
        "print(gscv.best_params_)"
      ],
      "execution_count": 21,
      "outputs": [
        {
          "output_type": "stream",
          "text": [
            "{'C': 0.01}\n"
          ],
          "name": "stdout"
        }
      ]
    },
    {
      "cell_type": "code",
      "metadata": {
        "id": "cojL3tRfJv-Y"
      },
      "source": [
        "model = LinearSVC(max_iter=1000,\n",
        "                  C=0.01,\n",
        "                  random_state=647)"
      ],
      "execution_count": 22,
      "outputs": []
    },
    {
      "cell_type": "code",
      "metadata": {
        "colab": {
          "base_uri": "https://localhost:8080/"
        },
        "id": "9Bq8z_yHJ_vM",
        "outputId": "941ed0aa-d0d5-4c95-d311-da96f9c9e02b"
      },
      "source": [
        "%time model.fit(X_train_dtm, y_train)"
      ],
      "execution_count": 23,
      "outputs": [
        {
          "output_type": "stream",
          "text": [
            "CPU times: user 522 ms, sys: 12 ms, total: 534 ms\n",
            "Wall time: 533 ms\n"
          ],
          "name": "stdout"
        },
        {
          "output_type": "execute_result",
          "data": {
            "text/plain": [
              "LinearSVC(C=0.01, class_weight=None, dual=True, fit_intercept=True,\n",
              "          intercept_scaling=1, loss='squared_hinge', max_iter=1000,\n",
              "          multi_class='ovr', penalty='l2', random_state=647, tol=0.0001,\n",
              "          verbose=0)"
            ]
          },
          "metadata": {
            "tags": []
          },
          "execution_count": 23
        }
      ]
    },
    {
      "cell_type": "code",
      "metadata": {
        "colab": {
          "base_uri": "https://localhost:8080/",
          "height": 423
        },
        "id": "ydAvX8eeKCRo",
        "outputId": "1b2875e3-4418-4ef9-c2ba-91e724fe9104"
      },
      "source": [
        "y_train_pred, y_test_pred, f1_train, f1_test =evaluate_pipeline(X_train = X_train_dtm,\n",
        "                                                                y_train = y_train,\n",
        "                                                                X_test = X_test_dtm,\n",
        "                                                                y_test = y_test,\n",
        "                                                                pipeline = model)\n",
        "\n",
        "print(\"Macro F1 Scores: \\n Training: {0:.3f} \\n Testing: {1:.3f}\\n\\n\".format(f1_train, f1_test))"
      ],
      "execution_count": 44,
      "outputs": [
        {
          "output_type": "display_data",
          "data": {
            "image/png": "[encoded data removed]",
            "text/plain": [
              "<Figure size 360x360 with 1 Axes>"
            ]
          },
          "metadata": {
            "tags": [],
            "needs_background": "light"
          }
        },
        {
          "output_type": "stream",
          "text": [
            "Macro F1 Scores: \n",
            " Training: 0.989 \n",
            " Testing: 0.529\n",
            "\n",
            "\n"
          ],
          "name": "stdout"
        }
      ]
    },
    {
      "cell_type": "markdown",
      "metadata": {
        "id": "txw1Pr8BMa3S"
      },
      "source": [
        "SVM test (val in our case) accuracy = 52.9%"
      ]
    },
    {
      "cell_type": "markdown",
      "metadata": {
        "id": "jB-U7npOMhzU"
      },
      "source": [
        "# Logistic Regression"
      ]
    },
    {
      "cell_type": "code",
      "metadata": {
        "id": "G5RjodW3KOHW"
      },
      "source": [
        "# Grid-search for c\n",
        "params = dict(C = np.logspace(-3, 0, 4),\n",
        "              penalty = ['l1', 'l2'])\n",
        "\n",
        "gscv = GridSearchCV(LogisticRegression(max_iter=1000,\n",
        "                                       random_state=647),\n",
        "                    params,\n",
        "                    scoring='f1_macro',\n",
        "                    cv=3,\n",
        "                    verbose=1,\n",
        "                    n_jobs=-1)"
      ],
      "execution_count": 47,
      "outputs": []
    },
    {
      "cell_type": "code",
      "metadata": {
        "colab": {
          "base_uri": "https://localhost:8080/"
        },
        "id": "vmb8gTh5Mmys",
        "outputId": "96d40296-5041-43ef-db6b-25d6e8e781df"
      },
      "source": [
        "gscv.fit(X_train_dtm, y_train)"
      ],
      "execution_count": 48,
      "outputs": [
        {
          "output_type": "stream",
          "text": [
            "Fitting 3 folds for each of 8 candidates, totalling 24 fits\n"
          ],
          "name": "stdout"
        },
        {
          "output_type": "stream",
          "text": [
            "[Parallel(n_jobs=-1)]: Using backend LokyBackend with 2 concurrent workers.\n",
            "/usr/local/lib/python3.7/dist-packages/joblib/externals/loky/process_executor.py:691: UserWarning: A worker stopped while some jobs were given to the executor. This can be caused by a too short worker timeout or by a memory leak.\n",
            "  \"timeout or by a memory leak.\", UserWarning\n",
            "[Parallel(n_jobs=-1)]: Done  24 out of  24 | elapsed:  3.8min finished\n"
          ],
          "name": "stderr"
        },
        {
          "output_type": "execute_result",
          "data": {
            "text/plain": [
              "GridSearchCV(cv=3, error_score=nan,\n",
              "             estimator=LogisticRegression(C=1.0, class_weight=None, dual=False,\n",
              "                                          fit_intercept=True,\n",
              "                                          intercept_scaling=1, l1_ratio=None,\n",
              "                                          max_iter=1000, multi_class='auto',\n",
              "                                          n_jobs=None, penalty='l2',\n",
              "                                          random_state=647, solver='lbfgs',\n",
              "                                          tol=0.0001, verbose=0,\n",
              "                                          warm_start=False),\n",
              "             iid='deprecated', n_jobs=-1,\n",
              "             param_grid={'C': array([0.001, 0.01 , 0.1  , 1.   ]),\n",
              "                         'penalty': ['l1', 'l2']},\n",
              "             pre_dispatch='2*n_jobs', refit=True, return_train_score=False,\n",
              "             scoring='f1_macro', verbose=1)"
            ]
          },
          "metadata": {
            "tags": []
          },
          "execution_count": 48
        }
      ]
    },
    {
      "cell_type": "code",
      "metadata": {
        "colab": {
          "base_uri": "https://localhost:8080/"
        },
        "id": "oxYhRu7FMqeD",
        "outputId": "7919b861-a1e6-4c9c-e1da-f0131b6b0f9f"
      },
      "source": [
        "print(gscv.best_params_)"
      ],
      "execution_count": 49,
      "outputs": [
        {
          "output_type": "stream",
          "text": [
            "{'C': 0.1, 'penalty': 'l2'}\n"
          ],
          "name": "stdout"
        }
      ]
    },
    {
      "cell_type": "code",
      "metadata": {
        "id": "3wV0WPCPMtKd"
      },
      "source": [
        "# Final model\n",
        "model = LogisticRegression(C=0.1,\n",
        "                           penalty='l2',\n",
        "                           max_iter=1000,\n",
        "                           random_state=647,\n",
        "                           n_jobs=-1)"
      ],
      "execution_count": 62,
      "outputs": []
    },
    {
      "cell_type": "code",
      "metadata": {
        "colab": {
          "base_uri": "https://localhost:8080/"
        },
        "id": "DmDQOSuNNLRB",
        "outputId": "fc778a99-6535-4f8d-e5e8-2c20598c378f"
      },
      "source": [
        "%time model.fit(X_train_dtm, y_train)"
      ],
      "execution_count": 63,
      "outputs": [
        {
          "output_type": "stream",
          "text": [
            "CPU times: user 170 ms, sys: 26.7 ms, total: 197 ms\n",
            "Wall time: 34.1 s\n"
          ],
          "name": "stdout"
        },
        {
          "output_type": "execute_result",
          "data": {
            "text/plain": [
              "LogisticRegression(C=0.1, class_weight=None, dual=False, fit_intercept=True,\n",
              "                   intercept_scaling=1, l1_ratio=None, max_iter=1000,\n",
              "                   multi_class='auto', n_jobs=-1, penalty='l2',\n",
              "                   random_state=647, solver='lbfgs', tol=0.0001, verbose=0,\n",
              "                   warm_start=False)"
            ]
          },
          "metadata": {
            "tags": []
          },
          "execution_count": 63
        }
      ]
    },
    {
      "cell_type": "code",
      "metadata": {
        "colab": {
          "base_uri": "https://localhost:8080/",
          "height": 423
        },
        "id": "gBNhZaRdNMa1",
        "outputId": "c1b3c172-ef6b-4712-86f3-250b1a996fbb"
      },
      "source": [
        "y_train_pred, y_test_pred, f1_train, f1_test = evaluate_pipeline(X_train = X_train_dtm,\n",
        "                                                                y_train = y_train,\n",
        "                                                                X_test = X_test_dtm,\n",
        "                                                                y_test = y_test,\n",
        "                                                                pipeline = model)\n",
        "\n",
        "print(\"Macro F1 Scores: \\n Training: {0:.3f} \\n Testing: {1:.3f}\\n\\n\".format(f1_train, f1_test))"
      ],
      "execution_count": 64,
      "outputs": [
        {
          "output_type": "display_data",
          "data": {
            "image/png": "[encoded data removed]",
            "text/plain": [
              "<Figure size 360x360 with 1 Axes>"
            ]
          },
          "metadata": {
            "tags": [],
            "needs_background": "light"
          }
        },
        {
          "output_type": "stream",
          "text": [
            "Macro F1 Scores: \n",
            " Training: 0.991 \n",
            " Testing: 0.539\n",
            "\n",
            "\n"
          ],
          "name": "stdout"
        }
      ]
    },
    {
      "cell_type": "markdown",
      "metadata": {
        "id": "HTF7hyjMPtGm"
      },
      "source": [
        "# LSTM"
      ]
    },
    {
      "cell_type": "code",
      "metadata": {
        "colab": {
          "base_uri": "https://localhost:8080/"
        },
        "id": "amGp33-NNQOZ",
        "outputId": "cf8f80be-ecab-4b03-f1cf-4b73cd8c3198"
      },
      "source": [
        "%tensorflow_version 2.x\n",
        "import tensorflow as tf\n",
        "from tensorflow.keras.preprocessing.text import Tokenizer\n",
        "from tensorflow.keras.preprocessing.sequence import pad_sequences\n",
        "from tensorflow.keras.callbacks import EarlyStopping\n",
        "from keras.utils.np_utils import to_categorical\n",
        "\n",
        "print(tf.__version__)"
      ],
      "execution_count": 70,
      "outputs": [
        {
          "output_type": "stream",
          "text": [
            "2.4.1\n"
          ],
          "name": "stdout"
        }
      ]
    },
    {
      "cell_type": "code",
      "metadata": {
        "colab": {
          "base_uri": "https://localhost:8080/"
        },
        "id": "acVuX3GWPwwy",
        "outputId": "ec7b987c-185f-4421-f1d6-d3c6f12869c9"
      },
      "source": [
        "y_train_one_hot = to_categorical(np.array(y_train)-1, num_classes=5)\n",
        "y_train_one_hot.shape"
      ],
      "execution_count": 72,
      "outputs": [
        {
          "output_type": "execute_result",
          "data": {
            "text/plain": [
              "(10000, 5)"
            ]
          },
          "metadata": {
            "tags": []
          },
          "execution_count": 72
        }
      ]
    },
    {
      "cell_type": "code",
      "metadata": {
        "colab": {
          "base_uri": "https://localhost:8080/"
        },
        "id": "xkb-NnU9QP2Y",
        "outputId": "c739fd32-fc68-4af5-9e42-0e7a3420d93f"
      },
      "source": [
        "y_test_one_hot = to_categorical(np.array(y_test)-1, num_classes=5)\n",
        "y_test_one_hot.shape"
      ],
      "execution_count": 73,
      "outputs": [
        {
          "output_type": "execute_result",
          "data": {
            "text/plain": [
              "(2000, 5)"
            ]
          },
          "metadata": {
            "tags": []
          },
          "execution_count": 73
        }
      ]
    },
    {
      "cell_type": "code",
      "metadata": {
        "id": "nKqNO4rhQdgj"
      },
      "source": [
        "import re\n",
        "import string\n",
        "import nltk\n",
        "from nltk import WordNetLemmatizer, sent_tokenize, wordpunct_tokenize, pos_tag\n",
        "from nltk.corpus import wordnet"
      ],
      "execution_count": 74,
      "outputs": []
    },
    {
      "cell_type": "code",
      "metadata": {
        "id": "HOO2YroTQgSF"
      },
      "source": [
        "punct = set(string.punctuation)\n",
        "lemmatizer = WordNetLemmatizer()"
      ],
      "execution_count": 75,
      "outputs": []
    },
    {
      "cell_type": "code",
      "metadata": {
        "id": "DGlRylzKQnSo"
      },
      "source": [
        "def clean_doc(doc):\n",
        "    cleaned_tokens = []\n",
        "    # Break the document into sentences\n",
        "    for sent in sent_tokenize(doc):\n",
        "        # Break the sentence into part of speech tagged tokens\n",
        "        for token in wordpunct_tokenize(sent):\n",
        "            # Lower case and strip spaces\n",
        "            token = token.lower()\n",
        "            token = token.strip()\n",
        "            # If punctuation, continue\n",
        "            if all(char in punct for char in token):\n",
        "                continue\n",
        "            # Add back token\n",
        "            cleaned_tokens.append(token)\n",
        "    return ' '.join(cleaned_tokens)"
      ],
      "execution_count": 77,
      "outputs": []
    },
    {
      "cell_type": "code",
      "metadata": {
        "id": "EfANNjAFQwcV"
      },
      "source": [
        "X_train_clean = [clean_doc(doc) for doc in X_train]\n",
        "X_test_clean = [clean_doc(doc) for doc in X_test]"
      ],
      "execution_count": 78,
      "outputs": []
    },
    {
      "cell_type": "code",
      "metadata": {
        "id": "soyGyo0zQztP"
      },
      "source": [
        "data_train_clean = pd.DataFrame({'text':X_train_clean, 'stars':y_train})\n",
        "data_train_test = pd.DataFrame({'text':X_test_clean, 'stars':y_test})"
      ],
      "execution_count": 79,
      "outputs": []
    },
    {
      "cell_type": "code",
      "metadata": {
        "id": "lSzBaVyjQ8Or"
      },
      "source": [
        "import urllib.request"
      ],
      "execution_count": 80,
      "outputs": []
    },
    {
      "cell_type": "code",
      "metadata": {
        "colab": {
          "base_uri": "https://localhost:8080/"
        },
        "id": "sBsE1I3lQ_6D",
        "outputId": "5dd89096-8422-4d95-d12b-32303af77509"
      },
      "source": [
        "urllib.request.urlretrieve('http://nlp.stanford.edu/data/glove.6B.zip', 'glove.6B.zip')"
      ],
      "execution_count": 81,
      "outputs": [
        {
          "output_type": "execute_result",
          "data": {
            "text/plain": [
              "('glove.6B.zip', <http.client.HTTPMessage at 0x7fa8d9cef790>)"
            ]
          },
          "metadata": {
            "tags": []
          },
          "execution_count": 81
        }
      ]
    },
    {
      "cell_type": "code",
      "metadata": {
        "colab": {
          "base_uri": "https://localhost:8080/"
        },
        "id": "jL6i3dR6RD0c",
        "outputId": "0bc906ea-9b94-4ee5-a2bf-aa381dd2aa45"
      },
      "source": [
        "!unzip glove.6B.zip"
      ],
      "execution_count": 82,
      "outputs": [
        {
          "output_type": "stream",
          "text": [
            "Archive:  glove.6B.zip\n",
            "  inflating: glove.6B.50d.txt        \n",
            "  inflating: glove.6B.100d.txt       \n",
            "  inflating: glove.6B.200d.txt       \n",
            "  inflating: glove.6B.300d.txt       \n"
          ],
          "name": "stdout"
        }
      ]
    },
    {
      "cell_type": "code",
      "metadata": {
        "colab": {
          "base_uri": "https://localhost:8080/"
        },
        "id": "udW2s_MyRGY7",
        "outputId": "78279bc8-e0b3-44cd-9d01-5350c51770d7"
      },
      "source": [
        "urllib.request.urlretrieve('http://nlp.stanford.edu/data/glove.twitter.27B.zip', 'glove.twitter.27B.zip')"
      ],
      "execution_count": 83,
      "outputs": [
        {
          "output_type": "execute_result",
          "data": {
            "text/plain": [
              "('glove.twitter.27B.zip', <http.client.HTTPMessage at 0x7fa8da08dbd0>)"
            ]
          },
          "metadata": {
            "tags": []
          },
          "execution_count": 83
        }
      ]
    },
    {
      "cell_type": "code",
      "metadata": {
        "colab": {
          "base_uri": "https://localhost:8080/"
        },
        "id": "H49aysxTRI08",
        "outputId": "b6f640b2-0e66-4df6-ed90-f6b185dcf5cc"
      },
      "source": [
        "!unzip glove.twitter.27B.zip"
      ],
      "execution_count": 84,
      "outputs": [
        {
          "output_type": "stream",
          "text": [
            "Archive:  glove.twitter.27B.zip\n",
            "  inflating: glove.twitter.27B.25d.txt  \n",
            "  inflating: glove.twitter.27B.50d.txt  \n",
            "  inflating: glove.twitter.27B.100d.txt  \n",
            "  inflating: glove.twitter.27B.200d.txt  \n"
          ],
          "name": "stdout"
        }
      ]
    },
    {
      "cell_type": "code",
      "metadata": {
        "id": "cmuUxDWRRKiz"
      },
      "source": [
        "tokenizer = Tokenizer()"
      ],
      "execution_count": 85,
      "outputs": []
    },
    {
      "cell_type": "code",
      "metadata": {
        "colab": {
          "base_uri": "https://localhost:8080/"
        },
        "id": "SUpYVtTcRPTX",
        "outputId": "bb610951-a1fc-4d46-8552-92e527cb673b"
      },
      "source": [
        "%time tokenizer.fit_on_texts(X_train_clean)"
      ],
      "execution_count": 86,
      "outputs": [
        {
          "output_type": "stream",
          "text": [
            "CPU times: user 927 ms, sys: 9.5 ms, total: 936 ms\n",
            "Wall time: 944 ms\n"
          ],
          "name": "stdout"
        }
      ]
    },
    {
      "cell_type": "code",
      "metadata": {
        "colab": {
          "base_uri": "https://localhost:8080/"
        },
        "id": "BajGVxCBRQKy",
        "outputId": "f7bd6478-aefa-4c35-b3df-e15a4eb18b0e"
      },
      "source": [
        "word_index = tokenizer.word_index\n",
        "len(word_index)"
      ],
      "execution_count": 87,
      "outputs": [
        {
          "output_type": "execute_result",
          "data": {
            "text/plain": [
              "28081"
            ]
          },
          "metadata": {
            "tags": []
          },
          "execution_count": 87
        }
      ]
    },
    {
      "cell_type": "code",
      "metadata": {
        "id": "fmicKQP_RUNe"
      },
      "source": [
        "max_length = 200"
      ],
      "execution_count": 88,
      "outputs": []
    },
    {
      "cell_type": "code",
      "metadata": {
        "id": "rjkuTYMbRWSS"
      },
      "source": [
        "X_train_sequences = tokenizer.texts_to_sequences(X_train_clean)\n",
        "\n",
        "X_train_padded = pad_sequences(X_train_sequences,\n",
        "                               maxlen=max_length,\n",
        "                               padding='post',\n",
        "                               truncating='post')"
      ],
      "execution_count": 89,
      "outputs": []
    },
    {
      "cell_type": "code",
      "metadata": {
        "id": "-K-l-7p4Raqe"
      },
      "source": [
        "X_test_sequences = tokenizer.texts_to_sequences(X_test_clean)\n",
        "\n",
        "X_test_padded = pad_sequences(X_test_sequences,\n",
        "                              maxlen=max_length,\n",
        "                              padding='post',\n",
        "                              truncating='post')"
      ],
      "execution_count": 90,
      "outputs": []
    },
    {
      "cell_type": "code",
      "metadata": {
        "colab": {
          "base_uri": "https://localhost:8080/"
        },
        "id": "COEIEChbRdLd",
        "outputId": "e2a7789e-2c3b-48bb-9825-1b0dc0e96d48"
      },
      "source": [
        "reverse_word_index = dict([(value, key) for (key, value) in word_index.items()])\n",
        "\n",
        "def decode_article(text):\n",
        "    return ' '.join([reverse_word_index.get(i, '?') for i in text])\n",
        "\n",
        "print('---')\n",
        "print(X_train[1])\n",
        "print('---')\n",
        "print(X_train_clean[1])\n",
        "print('---')\n",
        "print((X_train_padded[1]))\n",
        "print('---')\n",
        "print(decode_article(X_train_padded[1]))"
      ],
      "execution_count": 91,
      "outputs": [
        {
          "output_type": "stream",
          "text": [
            "---\n",
            "Tried this a while back, got the fried chicken sandwich and it was meh. It was pretty small and lacked the spices and flavors I was expecting in a chicken sandwich. It's nothing special. In my opinion, Mary Browns and KFC's chicken sandwiches are better.\r\n",
            "\r\n",
            "It took SUPER long to get 1 sandwich, there was no one even in the store and it was about 7pm. Took a good 15-20 minutes for the sandwich, no combo. The cashier was on her phone the whole time too, not really updating me about my order.\n",
            "---\n",
            "tried this a while back got the fried chicken sandwich and it was meh it was pretty small and lacked the spices and flavors i was expecting in a chicken sandwich it s nothing special in my opinion mary browns and kfc s chicken sandwiches are better it took super long to get 1 sandwich there was no one even in the store and it was about 7pm took a good 15 20 minutes for the sandwich no combo the cashier was on her phone the whole time too not really updating me about my order\n",
            "---\n",
            "[ 207   16    5  153   56   75    1  314  107  306    2    7    6 1503\n",
            "    7    6  120  174    2 1766    1 2242    2  680    3    6 1006   11\n",
            "    5  107  306    7   25  191  313   11   13  898 2154 2933    2 4495\n",
            "   25  107  803   29  122    7  144  267  209    4   46  179  306   33\n",
            "    6   58   47   77   11    1  222    2    7    6   62 2479  144    5\n",
            "   34  342  302  131    9    1  306   58  858    1 1036    6   22  103\n",
            "  377    1  417   48   91   21   66 4496   32   62   13   92    0    0\n",
            "    0    0    0    0    0    0    0    0    0    0    0    0    0    0\n",
            "    0    0    0    0    0    0    0    0    0    0    0    0    0    0\n",
            "    0    0    0    0    0    0    0    0    0    0    0    0    0    0\n",
            "    0    0    0    0    0    0    0    0    0    0    0    0    0    0\n",
            "    0    0    0    0    0    0    0    0    0    0    0    0    0    0\n",
            "    0    0    0    0    0    0    0    0    0    0    0    0    0    0\n",
            "    0    0    0    0    0    0    0    0    0    0    0    0    0    0\n",
            "    0    0    0    0]\n",
            "---\n",
            "tried this a while back got the fried chicken sandwich and it was meh it was pretty small and lacked the spices and flavors i was expecting in a chicken sandwich it s nothing special in my opinion mary browns and kfc s chicken sandwiches are better it took super long to get 1 sandwich there was no one even in the store and it was about 7pm took a good 15 20 minutes for the sandwich no combo the cashier was on her phone the whole time too not really updating me about my order ? ? ? ? ? ? ? ? ? ? ? ? ? ? ? ? ? ? ? ? ? ? ? ? ? ? ? ? ? ? ? ? ? ? ? ? ? ? ? ? ? ? ? ? ? ? ? ? ? ? ? ? ? ? ? ? ? ? ? ? ? ? ? ? ? ? ? ? ? ? ? ? ? ? ? ? ? ? ? ? ? ? ? ? ? ? ? ? ? ? ? ? ? ? ? ? ? ? ? ? ? ? ? ?\n"
          ],
          "name": "stdout"
        }
      ]
    },
    {
      "cell_type": "code",
      "metadata": {
        "id": "iYm9xRg-RlKo"
      },
      "source": [
        "# embeddings_index = dict()\n",
        "\n",
        "# with open('glove.6B.200d.txt') as f:\n",
        "#   for line in f:\n",
        "#     values = line.split()\n",
        "#     word = values[0]\n",
        "#     coefs = np.asarray(values[1:], dtype='float32')\n",
        "#     embeddings_index[word] = coefs"
      ],
      "execution_count": 92,
      "outputs": []
    },
    {
      "cell_type": "code",
      "metadata": {
        "id": "l5rGX5ESRoqQ"
      },
      "source": [
        "# embeddings_matrix = np.zeros((len(word_index), max_length))\n",
        "\n",
        "# for word, i in word_index.items():\n",
        "#   embedding_vector = embeddings_index.get(word)\n",
        "#   if embedding_vector is not None:\n",
        "#     # print(embedding_vector.shape)\n",
        "#     embeddings_matrix[i] = embedding_vector"
      ],
      "execution_count": 123,
      "outputs": []
    },
    {
      "cell_type": "code",
      "metadata": {
        "colab": {
          "base_uri": "https://localhost:8080/"
        },
        "id": "t3Bdv14hZHIb",
        "outputId": "3824ca8e-5b90-4f97-e5e6-0bf1a1253786"
      },
      "source": [
        "# embeddings_matrix.shape"
      ],
      "execution_count": 124,
      "outputs": [
        {
          "output_type": "execute_result",
          "data": {
            "text/plain": [
              "(28081, 200)"
            ]
          },
          "metadata": {
            "tags": []
          },
          "execution_count": 124
        }
      ]
    },
    {
      "cell_type": "code",
      "metadata": {
        "colab": {
          "base_uri": "https://localhost:8080/"
        },
        "id": "Ihs_-plvaw-L",
        "outputId": "32a65fb4-a26b-4d32-836c-7cb220266a79"
      },
      "source": [
        "path_to_glove_file = os.path.join(\n",
        "    \"glove.6B.200d.txt\"\n",
        ")\n",
        "\n",
        "embeddings_index = {}\n",
        "with open(path_to_glove_file) as f:\n",
        "    for line in f:\n",
        "        word, coefs = line.split(maxsplit=1)\n",
        "        coefs = np.fromstring(coefs, \"f\", sep=\" \")\n",
        "        embeddings_index[word] = coefs\n",
        "\n",
        "print(\"Found %s word vectors.\" % len(embeddings_index))"
      ],
      "execution_count": 127,
      "outputs": [
        {
          "output_type": "stream",
          "text": [
            "Found 400000 word vectors.\n"
          ],
          "name": "stdout"
        }
      ]
    },
    {
      "cell_type": "code",
      "metadata": {
        "colab": {
          "base_uri": "https://localhost:8080/"
        },
        "id": "RvPi5cm_ZOhR",
        "outputId": "fc2528a4-1a25-4edb-dff7-0ec8e9a339ff"
      },
      "source": [
        "num_tokens = len(word_index) + 2\n",
        "embedding_dim = 200\n",
        "hits = 0\n",
        "misses = 0\n",
        "\n",
        "# Prepare embedding matrix\n",
        "embedding_matrix = np.zeros((num_tokens, embedding_dim))\n",
        "for word, i in word_index.items():\n",
        "    embedding_vector = embeddings_index.get(word)\n",
        "    if embedding_vector is not None:\n",
        "        # Words not found in embedding index will be all-zeros.\n",
        "        # This includes the representation for \"padding\" and \"OOV\"\n",
        "        embedding_matrix[i] = embedding_vector\n",
        "        hits += 1\n",
        "    else:\n",
        "        # print(word)\n",
        "        misses += 1\n",
        "print(\"Converted %d words (%d misses)\" % (hits, misses))"
      ],
      "execution_count": 128,
      "outputs": [
        {
          "output_type": "stream",
          "text": [
            "Converted 24012 words (4069 misses)\n"
          ],
          "name": "stdout"
        }
      ]
    },
    {
      "cell_type": "code",
      "metadata": {
        "colab": {
          "base_uri": "https://localhost:8080/"
        },
        "id": "40oRkzGKbw60",
        "outputId": "b1bc8b00-a95c-4769-f312-f0e9c4ee40fa"
      },
      "source": [
        "len(word_index)"
      ],
      "execution_count": 134,
      "outputs": [
        {
          "output_type": "execute_result",
          "data": {
            "text/plain": [
              "28081"
            ]
          },
          "metadata": {
            "tags": []
          },
          "execution_count": 134
        }
      ]
    },
    {
      "cell_type": "code",
      "metadata": {
        "colab": {
          "base_uri": "https://localhost:8080/",
          "height": 426
        },
        "id": "Tm98niszRqty",
        "outputId": "8cf453b1-b57b-43de-a59b-b653a3e14285"
      },
      "source": [
        "try:\n",
        "  tpu = tf.distribute.cluster_resolver.TPUClusterResolver()  # TPU detection\n",
        "  print('Running on TPU ', tpu.cluster_spec().as_dict()['worker'])\n",
        "except ValueError:\n",
        "  raise BaseException('ERROR: Not connected to a TPU runtime; please see the previous cell in this notebook for instructions!')\n",
        "\n",
        "tf.config.experimental_connect_to_cluster(tpu)\n",
        "tf.tpu.experimental.initialize_tpu_system(tpu)\n",
        "tpu_strategy = tf.distribute.experimental.TPUStrategy(tpu)"
      ],
      "execution_count": 94,
      "outputs": [
        {
          "output_type": "error",
          "ename": "BaseException",
          "evalue": "ignored",
          "traceback": [
            "\u001b[0;31m---------------------------------------------------------------------------\u001b[0m",
            "\u001b[0;31mValueError\u001b[0m                                Traceback (most recent call last)",
            "\u001b[0;32m<ipython-input-94-a316c3d34133>\u001b[0m in \u001b[0;36m<module>\u001b[0;34m()\u001b[0m\n\u001b[1;32m      1\u001b[0m \u001b[0;32mtry\u001b[0m\u001b[0;34m:\u001b[0m\u001b[0;34m\u001b[0m\u001b[0;34m\u001b[0m\u001b[0m\n\u001b[0;32m----> 2\u001b[0;31m   \u001b[0mtpu\u001b[0m \u001b[0;34m=\u001b[0m \u001b[0mtf\u001b[0m\u001b[0;34m.\u001b[0m\u001b[0mdistribute\u001b[0m\u001b[0;34m.\u001b[0m\u001b[0mcluster_resolver\u001b[0m\u001b[0;34m.\u001b[0m\u001b[0mTPUClusterResolver\u001b[0m\u001b[0;34m(\u001b[0m\u001b[0;34m)\u001b[0m  \u001b[0;31m# TPU detection\u001b[0m\u001b[0;34m\u001b[0m\u001b[0;34m\u001b[0m\u001b[0m\n\u001b[0m\u001b[1;32m      3\u001b[0m   \u001b[0mprint\u001b[0m\u001b[0;34m(\u001b[0m\u001b[0;34m'Running on TPU '\u001b[0m\u001b[0;34m,\u001b[0m \u001b[0mtpu\u001b[0m\u001b[0;34m.\u001b[0m\u001b[0mcluster_spec\u001b[0m\u001b[0;34m(\u001b[0m\u001b[0;34m)\u001b[0m\u001b[0;34m.\u001b[0m\u001b[0mas_dict\u001b[0m\u001b[0;34m(\u001b[0m\u001b[0;34m)\u001b[0m\u001b[0;34m[\u001b[0m\u001b[0;34m'worker'\u001b[0m\u001b[0;34m]\u001b[0m\u001b[0;34m)\u001b[0m\u001b[0;34m\u001b[0m\u001b[0;34m\u001b[0m\u001b[0m\n",
            "\u001b[0;32m/usr/local/lib/python3.7/dist-packages/tensorflow/python/distribute/cluster_resolver/tpu/tpu_cluster_resolver.py\u001b[0m in \u001b[0;36m__init__\u001b[0;34m(self, tpu, zone, project, job_name, coordinator_name, coordinator_address, credentials, service, discovery_url)\u001b[0m\n\u001b[1;32m    206\u001b[0m           \u001b[0mservice\u001b[0m\u001b[0;34m=\u001b[0m\u001b[0mservice\u001b[0m\u001b[0;34m,\u001b[0m\u001b[0;34m\u001b[0m\u001b[0;34m\u001b[0m\u001b[0m\n\u001b[0;32m--> 207\u001b[0;31m           discovery_url=discovery_url)\n\u001b[0m\u001b[1;32m    208\u001b[0m       \u001b[0mself\u001b[0m\u001b[0;34m.\u001b[0m\u001b[0m_tpu\u001b[0m \u001b[0;34m=\u001b[0m \u001b[0mself\u001b[0m\u001b[0;34m.\u001b[0m\u001b[0m_cloud_tpu_client\u001b[0m\u001b[0;34m.\u001b[0m\u001b[0mname\u001b[0m\u001b[0;34m(\u001b[0m\u001b[0;34m)\u001b[0m\u001b[0;34m\u001b[0m\u001b[0;34m\u001b[0m\u001b[0m\n",
            "\u001b[0;32m/usr/local/lib/python3.7/dist-packages/tensorflow/python/tpu/client/client.py\u001b[0m in \u001b[0;36m__init__\u001b[0;34m(self, tpu, zone, project, credentials, service, discovery_url)\u001b[0m\n\u001b[1;32m    145\u001b[0m     \u001b[0;32mif\u001b[0m \u001b[0mtpu\u001b[0m \u001b[0;32mis\u001b[0m \u001b[0;32mNone\u001b[0m\u001b[0;34m:\u001b[0m\u001b[0;34m\u001b[0m\u001b[0;34m\u001b[0m\u001b[0m\n\u001b[0;32m--> 146\u001b[0;31m       \u001b[0;32mraise\u001b[0m \u001b[0mValueError\u001b[0m\u001b[0;34m(\u001b[0m\u001b[0;34m'Please provide a TPU Name to connect to.'\u001b[0m\u001b[0;34m)\u001b[0m\u001b[0;34m\u001b[0m\u001b[0;34m\u001b[0m\u001b[0m\n\u001b[0m\u001b[1;32m    147\u001b[0m \u001b[0;34m\u001b[0m\u001b[0m\n",
            "\u001b[0;31mValueError\u001b[0m: Please provide a TPU Name to connect to.",
            "\nDuring handling of the above exception, another exception occurred:\n",
            "\u001b[0;31mBaseException\u001b[0m                             Traceback (most recent call last)",
            "\u001b[0;32m<ipython-input-94-a316c3d34133>\u001b[0m in \u001b[0;36m<module>\u001b[0;34m()\u001b[0m\n\u001b[1;32m      3\u001b[0m   \u001b[0mprint\u001b[0m\u001b[0;34m(\u001b[0m\u001b[0;34m'Running on TPU '\u001b[0m\u001b[0;34m,\u001b[0m \u001b[0mtpu\u001b[0m\u001b[0;34m.\u001b[0m\u001b[0mcluster_spec\u001b[0m\u001b[0;34m(\u001b[0m\u001b[0;34m)\u001b[0m\u001b[0;34m.\u001b[0m\u001b[0mas_dict\u001b[0m\u001b[0;34m(\u001b[0m\u001b[0;34m)\u001b[0m\u001b[0;34m[\u001b[0m\u001b[0;34m'worker'\u001b[0m\u001b[0;34m]\u001b[0m\u001b[0;34m)\u001b[0m\u001b[0;34m\u001b[0m\u001b[0;34m\u001b[0m\u001b[0m\n\u001b[1;32m      4\u001b[0m \u001b[0;32mexcept\u001b[0m \u001b[0mValueError\u001b[0m\u001b[0;34m:\u001b[0m\u001b[0;34m\u001b[0m\u001b[0;34m\u001b[0m\u001b[0m\n\u001b[0;32m----> 5\u001b[0;31m   \u001b[0;32mraise\u001b[0m \u001b[0mBaseException\u001b[0m\u001b[0;34m(\u001b[0m\u001b[0;34m'ERROR: Not connected to a TPU runtime; please see the previous cell in this notebook for instructions!'\u001b[0m\u001b[0;34m)\u001b[0m\u001b[0;34m\u001b[0m\u001b[0;34m\u001b[0m\u001b[0m\n\u001b[0m\u001b[1;32m      6\u001b[0m \u001b[0;34m\u001b[0m\u001b[0m\n\u001b[1;32m      7\u001b[0m \u001b[0mtf\u001b[0m\u001b[0;34m.\u001b[0m\u001b[0mconfig\u001b[0m\u001b[0;34m.\u001b[0m\u001b[0mexperimental_connect_to_cluster\u001b[0m\u001b[0;34m(\u001b[0m\u001b[0mtpu\u001b[0m\u001b[0;34m)\u001b[0m\u001b[0;34m\u001b[0m\u001b[0;34m\u001b[0m\u001b[0m\n",
            "\u001b[0;31mBaseException\u001b[0m: ERROR: Not connected to a TPU runtime; please see the previous cell in this notebook for instructions!"
          ]
        }
      ]
    },
    {
      "cell_type": "code",
      "metadata": {
        "colab": {
          "base_uri": "https://localhost:8080/"
        },
        "id": "hWckmKQ4T9AS",
        "outputId": "48a46092-5d5c-44f6-a689-7138526e08d8"
      },
      "source": [
        "print((X_train_padded.shape, y_train_one_hot.shape, X_test_padded.shape, y_test_one_hot.shape))"
      ],
      "execution_count": 129,
      "outputs": [
        {
          "output_type": "stream",
          "text": [
            "((10000, 200), (10000, 5), (2000, 200), (2000, 5))\n"
          ],
          "name": "stdout"
        }
      ]
    },
    {
      "cell_type": "code",
      "metadata": {
        "colab": {
          "base_uri": "https://localhost:8080/"
        },
        "id": "m-rClfclUCdS",
        "outputId": "393f2106-a3d4-44be-c5cc-94e16a3398ca"
      },
      "source": [
        "model = tf.keras.Sequential([\n",
        "      # GloVe embedding\n",
        "      tf.keras.layers.Input(shape=(200,)),\n",
        "      tf.keras.layers.Embedding(input_dim=len(word_index)+2,\n",
        "                                output_dim=max_length,\n",
        "                                input_length=max_length,\n",
        "                                weights=[embedding_matrix],\n",
        "                                trainable=False),\n",
        "      # Bidirectional LSTM\n",
        "      # tf.keras.layers.Bidirectional(tf.keras.layers.LSTM(units=128,\n",
        "      #                                                    dropout=0.3,\n",
        "      #                                                    recurrent_dropout=0.3)),\n",
        "      tf.keras.layers.LSTM(units=64, return_sequences=True, recurrent_dropout=0.5),\n",
        "      tf.keras.layers.Dropout(rate=0.5),\n",
        "      tf.keras.layers.LSTM(units=64, recurrent_dropout=0.5),\n",
        "      # ReLU\n",
        "      tf.keras.layers.Dense(64, activation='relu'),\n",
        "      # SoftMax output\n",
        "      tf.keras.layers.Dense(5, activation='softmax')\n",
        "  ])\n",
        "\n",
        "\n",
        "model.compile(loss='categorical_crossentropy',\n",
        "                optimizer=tf.keras.optimizers.Adam(learning_rate=0.01,\n",
        "                                                   decay=0.001),\n",
        "                metrics=['accuracy'])\n",
        "\n",
        "es = EarlyStopping(monitor='val_loss',\n",
        "                     mode='min',\n",
        "                     verbose=1,\n",
        "                     patience=2)\n",
        "\n",
        "model.summary()"
      ],
      "execution_count": 152,
      "outputs": [
        {
          "output_type": "stream",
          "text": [
            "WARNING:tensorflow:Layer lstm_45 will not use cuDNN kernel since it doesn't meet the cuDNN kernel criteria. It will use generic GPU kernel as fallback when running on GPU\n",
            "WARNING:tensorflow:Layer lstm_46 will not use cuDNN kernel since it doesn't meet the cuDNN kernel criteria. It will use generic GPU kernel as fallback when running on GPU\n",
            "Model: \"sequential_25\"\n",
            "_________________________________________________________________\n",
            "Layer (type)                 Output Shape              Param #   \n",
            "=================================================================\n",
            "embedding_25 (Embedding)     (None, 200, 200)          5616600   \n",
            "_________________________________________________________________\n",
            "lstm_45 (LSTM)               (None, 200, 64)           67840     \n",
            "_________________________________________________________________\n",
            "dropout_20 (Dropout)         (None, 200, 64)           0         \n",
            "_________________________________________________________________\n",
            "lstm_46 (LSTM)               (None, 64)                33024     \n",
            "_________________________________________________________________\n",
            "dense_51 (Dense)             (None, 64)                4160      \n",
            "_________________________________________________________________\n",
            "dense_52 (Dense)             (None, 5)                 325       \n",
            "=================================================================\n",
            "Total params: 5,721,949\n",
            "Trainable params: 105,349\n",
            "Non-trainable params: 5,616,600\n",
            "_________________________________________________________________\n"
          ],
          "name": "stdout"
        }
      ]
    },
    {
      "cell_type": "code",
      "metadata": {
        "colab": {
          "base_uri": "https://localhost:8080/"
        },
        "id": "mamT4GWoUQQp",
        "outputId": "a292ab08-a323-49ad-d41b-6c4553603de2"
      },
      "source": [
        "history = model.fit(X_train_padded,\n",
        "                    y_train_one_hot,\n",
        "                    epochs=30,\n",
        "                    # validation_data=(X_test_padded, y_test_one_hot),\n",
        "                    validation_split=0.2,\n",
        "                    verbose=2,\n",
        "                    callbacks=[es])"
      ],
      "execution_count": 153,
      "outputs": [
        {
          "output_type": "stream",
          "text": [
            "Epoch 1/30\n",
            "250/250 - 122s - loss: 1.5883 - accuracy: 0.2477 - val_loss: 1.5804 - val_accuracy: 0.2495\n",
            "Epoch 2/30\n",
            "250/250 - 119s - loss: 1.5631 - accuracy: 0.2771 - val_loss: 1.5799 - val_accuracy: 0.3095\n",
            "Epoch 3/30\n",
            "250/250 - 119s - loss: 1.5184 - accuracy: 0.3293 - val_loss: 1.4765 - val_accuracy: 0.3650\n",
            "Epoch 4/30\n",
            "250/250 - 118s - loss: 1.3073 - accuracy: 0.4300 - val_loss: 1.1881 - val_accuracy: 0.4795\n",
            "Epoch 5/30\n",
            "250/250 - 119s - loss: 1.1709 - accuracy: 0.4929 - val_loss: 1.1493 - val_accuracy: 0.4940\n",
            "Epoch 6/30\n",
            "Epoch 7/30\n",
            "250/250 - 119s - loss: 1.0383 - accuracy: 0.5501 - val_loss: 1.0696 - val_accuracy: 0.5510\n",
            "Epoch 8/30\n",
            "250/250 - 119s - loss: 0.9909 - accuracy: 0.5749 - val_loss: 1.0546 - val_accuracy: 0.5525\n",
            "Epoch 9/30\n",
            "250/250 - 118s - loss: 0.9680 - accuracy: 0.5844 - val_loss: 1.0441 - val_accuracy: 0.5505\n",
            "Epoch 10/30\n",
            "250/250 - 118s - loss: 0.9302 - accuracy: 0.6041 - val_loss: 1.0689 - val_accuracy: 0.5425\n",
            "Epoch 11/30\n",
            "250/250 - 118s - loss: 0.9052 - accuracy: 0.6122 - val_loss: 1.0613 - val_accuracy: 0.5480\n",
            "Epoch 00011: early stopping\n"
          ],
          "name": "stdout"
        }
      ]
    },
    {
      "cell_type": "code",
      "metadata": {
        "colab": {
          "base_uri": "https://localhost:8080/"
        },
        "id": "OM5k1diiUyMZ",
        "outputId": "259ffb45-8fed-4ebe-c40b-a86e510fe5ee"
      },
      "source": [
        "accr = model.evaluate(X_test_padded, y_test_one_hot)\n",
        "print('Test set\\n  Loss: {:0.3f}\\n  Accuracy: {:0.3f}'.format(accr[0],accr[1]))"
      ],
      "execution_count": 154,
      "outputs": [
        {
          "output_type": "stream",
          "text": [
            "63/63 [==============================] - 6s 93ms/step - loss: 1.0283 - accuracy: 0.5775\n",
            "Test set\n",
            "  Loss: 1.028\n",
            "  Accuracy: 0.577\n"
          ],
          "name": "stdout"
        }
      ]
    },
    {
      "cell_type": "code",
      "metadata": {
        "colab": {
          "base_uri": "https://localhost:8080/",
          "height": 755
        },
        "id": "doQiqo3MmVUz",
        "outputId": "6a329306-52ea-4525-9637-61b9aef02a8c"
      },
      "source": [
        "def display_training_curves(training, validation, title, subplot):\n",
        "  ax = plt.subplot(subplot)\n",
        "  ax.plot(training)\n",
        "  ax.plot(validation)\n",
        "  ax.set_title('Model '+ title)\n",
        "  ax.set_ylabel(title)\n",
        "  ax.set_xlabel('epoch')\n",
        "  ax.legend(['Training', 'Validation'])\n",
        "\n",
        "plt.subplots(figsize=(10,10))\n",
        "plt.tight_layout()\n",
        "display_training_curves(history.history['accuracy'], history.history['val_accuracy'], 'Accuracy', 211)\n",
        "display_training_curves(history.history['loss'], history.history['val_loss'], 'Loss', 212)"
      ],
      "execution_count": 155,
      "outputs": [
        {
          "output_type": "display_data",
          "data": {
            "image/png": "[encoded data removed]",
            "text/plain": [
              "<Figure size 720x720 with 2 Axes>"
            ]
          },
          "metadata": {
            "tags": [],
            "needs_background": "light"
          }
        }
      ]
    },
    {
      "cell_type": "markdown",
      "metadata": {
        "id": "8Nr6Z0c7pOMS"
      },
      "source": [
        "Try BERT"
      ]
    },
    {
      "cell_type": "code",
      "metadata": {
        "id": "50I_vD2TmdS_"
      },
      "source": [
        ""
      ],
      "execution_count": null,
      "outputs": []
    }
  ]
}