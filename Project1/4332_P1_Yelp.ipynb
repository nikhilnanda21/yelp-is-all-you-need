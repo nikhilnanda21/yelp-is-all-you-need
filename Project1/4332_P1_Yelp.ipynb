{
  "nbformat": 4,
  "nbformat_minor": 0,
  "metadata": {
    "colab": {
      "name": "4332_P1_Yelp.ipynb",
      "provenance": []
    },
    "kernelspec": {
      "name": "python3",
      "display_name": "Python 3"
    },
    "language_info": {
      "name": "python"
    },
    "accelerator": "GPU",
    "widgets": {
      "application/vnd.jupyter.widget-state+json": {
        "ff780967a1da43f7a0adffb21ecae2cb": {
          "model_module": "@jupyter-widgets/controls",
          "model_name": "HBoxModel",
          "state": {
            "_view_name": "HBoxView",
            "_dom_classes": [],
            "_model_name": "HBoxModel",
            "_view_module": "@jupyter-widgets/controls",
            "_model_module_version": "1.5.0",
            "_view_count": null,
            "_view_module_version": "1.5.0",
            "box_style": "",
            "layout": "IPY_MODEL_b769388280ab45de8226faf4b8b3d36e",
            "_model_module": "@jupyter-widgets/controls",
            "children": [
              "IPY_MODEL_03edae30d7a84155bcd49120ad6d89d5",
              "IPY_MODEL_af5bffe3ca47442e9bc6e8d9e26f8bd8"
            ]
          }
        },
        "b769388280ab45de8226faf4b8b3d36e": {
          "model_module": "@jupyter-widgets/base",
          "model_name": "LayoutModel",
          "state": {
            "_view_name": "LayoutView",
            "grid_template_rows": null,
            "right": null,
            "justify_content": null,
            "_view_module": "@jupyter-widgets/base",
            "overflow": null,
            "_model_module_version": "1.2.0",
            "_view_count": null,
            "flex_flow": null,
            "width": null,
            "min_width": null,
            "border": null,
            "align_items": null,
            "bottom": null,
            "_model_module": "@jupyter-widgets/base",
            "top": null,
            "grid_column": null,
            "overflow_y": null,
            "overflow_x": null,
            "grid_auto_flow": null,
            "grid_area": null,
            "grid_template_columns": null,
            "flex": null,
            "_model_name": "LayoutModel",
            "justify_items": null,
            "grid_row": null,
            "max_height": null,
            "align_content": null,
            "visibility": null,
            "align_self": null,
            "height": null,
            "min_height": null,
            "padding": null,
            "grid_auto_rows": null,
            "grid_gap": null,
            "max_width": null,
            "order": null,
            "_view_module_version": "1.2.0",
            "grid_template_areas": null,
            "object_position": null,
            "object_fit": null,
            "grid_auto_columns": null,
            "margin": null,
            "display": null,
            "left": null
          }
        },
        "03edae30d7a84155bcd49120ad6d89d5": {
          "model_module": "@jupyter-widgets/controls",
          "model_name": "FloatProgressModel",
          "state": {
            "_view_name": "ProgressView",
            "style": "IPY_MODEL_6c0b8ee9e82d48e3a14e7b1cc1551c65",
            "_dom_classes": [],
            "description": "Downloading: 100%",
            "_model_name": "FloatProgressModel",
            "bar_style": "success",
            "max": 433,
            "_view_module": "@jupyter-widgets/controls",
            "_model_module_version": "1.5.0",
            "value": 433,
            "_view_count": null,
            "_view_module_version": "1.5.0",
            "orientation": "horizontal",
            "min": 0,
            "description_tooltip": null,
            "_model_module": "@jupyter-widgets/controls",
            "layout": "IPY_MODEL_de73e1ab1a7f4a5a933f966c3979cedd"
          }
        },
        "af5bffe3ca47442e9bc6e8d9e26f8bd8": {
          "model_module": "@jupyter-widgets/controls",
          "model_name": "HTMLModel",
          "state": {
            "_view_name": "HTMLView",
            "style": "IPY_MODEL_49d22e0670294da6ab3a6243123b28a6",
            "_dom_classes": [],
            "description": "",
            "_model_name": "HTMLModel",
            "placeholder": "​",
            "_view_module": "@jupyter-widgets/controls",
            "_model_module_version": "1.5.0",
            "value": " 433/433 [01:12&lt;00:00, 6.00B/s]",
            "_view_count": null,
            "_view_module_version": "1.5.0",
            "description_tooltip": null,
            "_model_module": "@jupyter-widgets/controls",
            "layout": "IPY_MODEL_6b43a5cbf2a54fa2adc8bb51f9dbc0cd"
          }
        },
        "6c0b8ee9e82d48e3a14e7b1cc1551c65": {
          "model_module": "@jupyter-widgets/controls",
          "model_name": "ProgressStyleModel",
          "state": {
            "_view_name": "StyleView",
            "_model_name": "ProgressStyleModel",
            "description_width": "initial",
            "_view_module": "@jupyter-widgets/base",
            "_model_module_version": "1.5.0",
            "_view_count": null,
            "_view_module_version": "1.2.0",
            "bar_color": null,
            "_model_module": "@jupyter-widgets/controls"
          }
        },
        "de73e1ab1a7f4a5a933f966c3979cedd": {
          "model_module": "@jupyter-widgets/base",
          "model_name": "LayoutModel",
          "state": {
            "_view_name": "LayoutView",
            "grid_template_rows": null,
            "right": null,
            "justify_content": null,
            "_view_module": "@jupyter-widgets/base",
            "overflow": null,
            "_model_module_version": "1.2.0",
            "_view_count": null,
            "flex_flow": null,
            "width": null,
            "min_width": null,
            "border": null,
            "align_items": null,
            "bottom": null,
            "_model_module": "@jupyter-widgets/base",
            "top": null,
            "grid_column": null,
            "overflow_y": null,
            "overflow_x": null,
            "grid_auto_flow": null,
            "grid_area": null,
            "grid_template_columns": null,
            "flex": null,
            "_model_name": "LayoutModel",
            "justify_items": null,
            "grid_row": null,
            "max_height": null,
            "align_content": null,
            "visibility": null,
            "align_self": null,
            "height": null,
            "min_height": null,
            "padding": null,
            "grid_auto_rows": null,
            "grid_gap": null,
            "max_width": null,
            "order": null,
            "_view_module_version": "1.2.0",
            "grid_template_areas": null,
            "object_position": null,
            "object_fit": null,
            "grid_auto_columns": null,
            "margin": null,
            "display": null,
            "left": null
          }
        },
        "49d22e0670294da6ab3a6243123b28a6": {
          "model_module": "@jupyter-widgets/controls",
          "model_name": "DescriptionStyleModel",
          "state": {
            "_view_name": "StyleView",
            "_model_name": "DescriptionStyleModel",
            "description_width": "",
            "_view_module": "@jupyter-widgets/base",
            "_model_module_version": "1.5.0",
            "_view_count": null,
            "_view_module_version": "1.2.0",
            "_model_module": "@jupyter-widgets/controls"
          }
        },
        "6b43a5cbf2a54fa2adc8bb51f9dbc0cd": {
          "model_module": "@jupyter-widgets/base",
          "model_name": "LayoutModel",
          "state": {
            "_view_name": "LayoutView",
            "grid_template_rows": null,
            "right": null,
            "justify_content": null,
            "_view_module": "@jupyter-widgets/base",
            "overflow": null,
            "_model_module_version": "1.2.0",
            "_view_count": null,
            "flex_flow": null,
            "width": null,
            "min_width": null,
            "border": null,
            "align_items": null,
            "bottom": null,
            "_model_module": "@jupyter-widgets/base",
            "top": null,
            "grid_column": null,
            "overflow_y": null,
            "overflow_x": null,
            "grid_auto_flow": null,
            "grid_area": null,
            "grid_template_columns": null,
            "flex": null,
            "_model_name": "LayoutModel",
            "justify_items": null,
            "grid_row": null,
            "max_height": null,
            "align_content": null,
            "visibility": null,
            "align_self": null,
            "height": null,
            "min_height": null,
            "padding": null,
            "grid_auto_rows": null,
            "grid_gap": null,
            "max_width": null,
            "order": null,
            "_view_module_version": "1.2.0",
            "grid_template_areas": null,
            "object_position": null,
            "object_fit": null,
            "grid_auto_columns": null,
            "margin": null,
            "display": null,
            "left": null
          }
        },
        "6bc88ac1c675449985a808e020336d0a": {
          "model_module": "@jupyter-widgets/controls",
          "model_name": "HBoxModel",
          "state": {
            "_view_name": "HBoxView",
            "_dom_classes": [],
            "_model_name": "HBoxModel",
            "_view_module": "@jupyter-widgets/controls",
            "_model_module_version": "1.5.0",
            "_view_count": null,
            "_view_module_version": "1.5.0",
            "box_style": "",
            "layout": "IPY_MODEL_6cbccb06a6a94f778cea7863057ebeb1",
            "_model_module": "@jupyter-widgets/controls",
            "children": [
              "IPY_MODEL_7a1b04a9d41c47e69d9ba6e85a87911a",
              "IPY_MODEL_41bead171d35423a989a3143cf1c89b3"
            ]
          }
        },
        "6cbccb06a6a94f778cea7863057ebeb1": {
          "model_module": "@jupyter-widgets/base",
          "model_name": "LayoutModel",
          "state": {
            "_view_name": "LayoutView",
            "grid_template_rows": null,
            "right": null,
            "justify_content": null,
            "_view_module": "@jupyter-widgets/base",
            "overflow": null,
            "_model_module_version": "1.2.0",
            "_view_count": null,
            "flex_flow": null,
            "width": null,
            "min_width": null,
            "border": null,
            "align_items": null,
            "bottom": null,
            "_model_module": "@jupyter-widgets/base",
            "top": null,
            "grid_column": null,
            "overflow_y": null,
            "overflow_x": null,
            "grid_auto_flow": null,
            "grid_area": null,
            "grid_template_columns": null,
            "flex": null,
            "_model_name": "LayoutModel",
            "justify_items": null,
            "grid_row": null,
            "max_height": null,
            "align_content": null,
            "visibility": null,
            "align_self": null,
            "height": null,
            "min_height": null,
            "padding": null,
            "grid_auto_rows": null,
            "grid_gap": null,
            "max_width": null,
            "order": null,
            "_view_module_version": "1.2.0",
            "grid_template_areas": null,
            "object_position": null,
            "object_fit": null,
            "grid_auto_columns": null,
            "margin": null,
            "display": null,
            "left": null
          }
        },
        "7a1b04a9d41c47e69d9ba6e85a87911a": {
          "model_module": "@jupyter-widgets/controls",
          "model_name": "FloatProgressModel",
          "state": {
            "_view_name": "ProgressView",
            "style": "IPY_MODEL_602329a079504d15a217a613834afa8f",
            "_dom_classes": [],
            "description": "Downloading: 100%",
            "_model_name": "FloatProgressModel",
            "bar_style": "success",
            "max": 231508,
            "_view_module": "@jupyter-widgets/controls",
            "_model_module_version": "1.5.0",
            "value": 231508,
            "_view_count": null,
            "_view_module_version": "1.5.0",
            "orientation": "horizontal",
            "min": 0,
            "description_tooltip": null,
            "_model_module": "@jupyter-widgets/controls",
            "layout": "IPY_MODEL_b857257f006f40799dd5c09dd86d0101"
          }
        },
        "41bead171d35423a989a3143cf1c89b3": {
          "model_module": "@jupyter-widgets/controls",
          "model_name": "HTMLModel",
          "state": {
            "_view_name": "HTMLView",
            "style": "IPY_MODEL_9da06426f8c04106a37cbc589301898c",
            "_dom_classes": [],
            "description": "",
            "_model_name": "HTMLModel",
            "placeholder": "​",
            "_view_module": "@jupyter-widgets/controls",
            "_model_module_version": "1.5.0",
            "value": " 232k/232k [00:00&lt;00:00, 2.05MB/s]",
            "_view_count": null,
            "_view_module_version": "1.5.0",
            "description_tooltip": null,
            "_model_module": "@jupyter-widgets/controls",
            "layout": "IPY_MODEL_aa10aafa24bb45f1ad2f8099eb90ba45"
          }
        },
        "602329a079504d15a217a613834afa8f": {
          "model_module": "@jupyter-widgets/controls",
          "model_name": "ProgressStyleModel",
          "state": {
            "_view_name": "StyleView",
            "_model_name": "ProgressStyleModel",
            "description_width": "initial",
            "_view_module": "@jupyter-widgets/base",
            "_model_module_version": "1.5.0",
            "_view_count": null,
            "_view_module_version": "1.2.0",
            "bar_color": null,
            "_model_module": "@jupyter-widgets/controls"
          }
        },
        "b857257f006f40799dd5c09dd86d0101": {
          "model_module": "@jupyter-widgets/base",
          "model_name": "LayoutModel",
          "state": {
            "_view_name": "LayoutView",
            "grid_template_rows": null,
            "right": null,
            "justify_content": null,
            "_view_module": "@jupyter-widgets/base",
            "overflow": null,
            "_model_module_version": "1.2.0",
            "_view_count": null,
            "flex_flow": null,
            "width": null,
            "min_width": null,
            "border": null,
            "align_items": null,
            "bottom": null,
            "_model_module": "@jupyter-widgets/base",
            "top": null,
            "grid_column": null,
            "overflow_y": null,
            "overflow_x": null,
            "grid_auto_flow": null,
            "grid_area": null,
            "grid_template_columns": null,
            "flex": null,
            "_model_name": "LayoutModel",
            "justify_items": null,
            "grid_row": null,
            "max_height": null,
            "align_content": null,
            "visibility": null,
            "align_self": null,
            "height": null,
            "min_height": null,
            "padding": null,
            "grid_auto_rows": null,
            "grid_gap": null,
            "max_width": null,
            "order": null,
            "_view_module_version": "1.2.0",
            "grid_template_areas": null,
            "object_position": null,
            "object_fit": null,
            "grid_auto_columns": null,
            "margin": null,
            "display": null,
            "left": null
          }
        },
        "9da06426f8c04106a37cbc589301898c": {
          "model_module": "@jupyter-widgets/controls",
          "model_name": "DescriptionStyleModel",
          "state": {
            "_view_name": "StyleView",
            "_model_name": "DescriptionStyleModel",
            "description_width": "",
            "_view_module": "@jupyter-widgets/base",
            "_model_module_version": "1.5.0",
            "_view_count": null,
            "_view_module_version": "1.2.0",
            "_model_module": "@jupyter-widgets/controls"
          }
        },
        "aa10aafa24bb45f1ad2f8099eb90ba45": {
          "model_module": "@jupyter-widgets/base",
          "model_name": "LayoutModel",
          "state": {
            "_view_name": "LayoutView",
            "grid_template_rows": null,
            "right": null,
            "justify_content": null,
            "_view_module": "@jupyter-widgets/base",
            "overflow": null,
            "_model_module_version": "1.2.0",
            "_view_count": null,
            "flex_flow": null,
            "width": null,
            "min_width": null,
            "border": null,
            "align_items": null,
            "bottom": null,
            "_model_module": "@jupyter-widgets/base",
            "top": null,
            "grid_column": null,
            "overflow_y": null,
            "overflow_x": null,
            "grid_auto_flow": null,
            "grid_area": null,
            "grid_template_columns": null,
            "flex": null,
            "_model_name": "LayoutModel",
            "justify_items": null,
            "grid_row": null,
            "max_height": null,
            "align_content": null,
            "visibility": null,
            "align_self": null,
            "height": null,
            "min_height": null,
            "padding": null,
            "grid_auto_rows": null,
            "grid_gap": null,
            "max_width": null,
            "order": null,
            "_view_module_version": "1.2.0",
            "grid_template_areas": null,
            "object_position": null,
            "object_fit": null,
            "grid_auto_columns": null,
            "margin": null,
            "display": null,
            "left": null
          }
        },
        "dc45cea4989c48f38beb507a5d4c9e02": {
          "model_module": "@jupyter-widgets/controls",
          "model_name": "HBoxModel",
          "state": {
            "_view_name": "HBoxView",
            "_dom_classes": [],
            "_model_name": "HBoxModel",
            "_view_module": "@jupyter-widgets/controls",
            "_model_module_version": "1.5.0",
            "_view_count": null,
            "_view_module_version": "1.5.0",
            "box_style": "",
            "layout": "IPY_MODEL_47dd1f64ee22473abf9a1af2a21a0aa6",
            "_model_module": "@jupyter-widgets/controls",
            "children": [
              "IPY_MODEL_0ec2631861c94a69926846a4577c1e42",
              "IPY_MODEL_e7ff0795a1a24af5a180e1b6c0ab7282"
            ]
          }
        },
        "47dd1f64ee22473abf9a1af2a21a0aa6": {
          "model_module": "@jupyter-widgets/base",
          "model_name": "LayoutModel",
          "state": {
            "_view_name": "LayoutView",
            "grid_template_rows": null,
            "right": null,
            "justify_content": null,
            "_view_module": "@jupyter-widgets/base",
            "overflow": null,
            "_model_module_version": "1.2.0",
            "_view_count": null,
            "flex_flow": null,
            "width": null,
            "min_width": null,
            "border": null,
            "align_items": null,
            "bottom": null,
            "_model_module": "@jupyter-widgets/base",
            "top": null,
            "grid_column": null,
            "overflow_y": null,
            "overflow_x": null,
            "grid_auto_flow": null,
            "grid_area": null,
            "grid_template_columns": null,
            "flex": null,
            "_model_name": "LayoutModel",
            "justify_items": null,
            "grid_row": null,
            "max_height": null,
            "align_content": null,
            "visibility": null,
            "align_self": null,
            "height": null,
            "min_height": null,
            "padding": null,
            "grid_auto_rows": null,
            "grid_gap": null,
            "max_width": null,
            "order": null,
            "_view_module_version": "1.2.0",
            "grid_template_areas": null,
            "object_position": null,
            "object_fit": null,
            "grid_auto_columns": null,
            "margin": null,
            "display": null,
            "left": null
          }
        },
        "0ec2631861c94a69926846a4577c1e42": {
          "model_module": "@jupyter-widgets/controls",
          "model_name": "FloatProgressModel",
          "state": {
            "_view_name": "ProgressView",
            "style": "IPY_MODEL_6ebeee6f9964461b94421cf5fe1631ad",
            "_dom_classes": [],
            "description": "Downloading: 100%",
            "_model_name": "FloatProgressModel",
            "bar_style": "success",
            "max": 466062,
            "_view_module": "@jupyter-widgets/controls",
            "_model_module_version": "1.5.0",
            "value": 466062,
            "_view_count": null,
            "_view_module_version": "1.5.0",
            "orientation": "horizontal",
            "min": 0,
            "description_tooltip": null,
            "_model_module": "@jupyter-widgets/controls",
            "layout": "IPY_MODEL_3858b64d0acc428ba8c5a4e5b254e6c0"
          }
        },
        "e7ff0795a1a24af5a180e1b6c0ab7282": {
          "model_module": "@jupyter-widgets/controls",
          "model_name": "HTMLModel",
          "state": {
            "_view_name": "HTMLView",
            "style": "IPY_MODEL_14b631425b674bad8a739e982282eff8",
            "_dom_classes": [],
            "description": "",
            "_model_name": "HTMLModel",
            "placeholder": "​",
            "_view_module": "@jupyter-widgets/controls",
            "_model_module_version": "1.5.0",
            "value": " 466k/466k [01:11&lt;00:00, 6.47kB/s]",
            "_view_count": null,
            "_view_module_version": "1.5.0",
            "description_tooltip": null,
            "_model_module": "@jupyter-widgets/controls",
            "layout": "IPY_MODEL_7306604c2a0d414fb4ec4482974cb1ea"
          }
        },
        "6ebeee6f9964461b94421cf5fe1631ad": {
          "model_module": "@jupyter-widgets/controls",
          "model_name": "ProgressStyleModel",
          "state": {
            "_view_name": "StyleView",
            "_model_name": "ProgressStyleModel",
            "description_width": "initial",
            "_view_module": "@jupyter-widgets/base",
            "_model_module_version": "1.5.0",
            "_view_count": null,
            "_view_module_version": "1.2.0",
            "bar_color": null,
            "_model_module": "@jupyter-widgets/controls"
          }
        },
        "3858b64d0acc428ba8c5a4e5b254e6c0": {
          "model_module": "@jupyter-widgets/base",
          "model_name": "LayoutModel",
          "state": {
            "_view_name": "LayoutView",
            "grid_template_rows": null,
            "right": null,
            "justify_content": null,
            "_view_module": "@jupyter-widgets/base",
            "overflow": null,
            "_model_module_version": "1.2.0",
            "_view_count": null,
            "flex_flow": null,
            "width": null,
            "min_width": null,
            "border": null,
            "align_items": null,
            "bottom": null,
            "_model_module": "@jupyter-widgets/base",
            "top": null,
            "grid_column": null,
            "overflow_y": null,
            "overflow_x": null,
            "grid_auto_flow": null,
            "grid_area": null,
            "grid_template_columns": null,
            "flex": null,
            "_model_name": "LayoutModel",
            "justify_items": null,
            "grid_row": null,
            "max_height": null,
            "align_content": null,
            "visibility": null,
            "align_self": null,
            "height": null,
            "min_height": null,
            "padding": null,
            "grid_auto_rows": null,
            "grid_gap": null,
            "max_width": null,
            "order": null,
            "_view_module_version": "1.2.0",
            "grid_template_areas": null,
            "object_position": null,
            "object_fit": null,
            "grid_auto_columns": null,
            "margin": null,
            "display": null,
            "left": null
          }
        },
        "14b631425b674bad8a739e982282eff8": {
          "model_module": "@jupyter-widgets/controls",
          "model_name": "DescriptionStyleModel",
          "state": {
            "_view_name": "StyleView",
            "_model_name": "DescriptionStyleModel",
            "description_width": "",
            "_view_module": "@jupyter-widgets/base",
            "_model_module_version": "1.5.0",
            "_view_count": null,
            "_view_module_version": "1.2.0",
            "_model_module": "@jupyter-widgets/controls"
          }
        },
        "7306604c2a0d414fb4ec4482974cb1ea": {
          "model_module": "@jupyter-widgets/base",
          "model_name": "LayoutModel",
          "state": {
            "_view_name": "LayoutView",
            "grid_template_rows": null,
            "right": null,
            "justify_content": null,
            "_view_module": "@jupyter-widgets/base",
            "overflow": null,
            "_model_module_version": "1.2.0",
            "_view_count": null,
            "flex_flow": null,
            "width": null,
            "min_width": null,
            "border": null,
            "align_items": null,
            "bottom": null,
            "_model_module": "@jupyter-widgets/base",
            "top": null,
            "grid_column": null,
            "overflow_y": null,
            "overflow_x": null,
            "grid_auto_flow": null,
            "grid_area": null,
            "grid_template_columns": null,
            "flex": null,
            "_model_name": "LayoutModel",
            "justify_items": null,
            "grid_row": null,
            "max_height": null,
            "align_content": null,
            "visibility": null,
            "align_self": null,
            "height": null,
            "min_height": null,
            "padding": null,
            "grid_auto_rows": null,
            "grid_gap": null,
            "max_width": null,
            "order": null,
            "_view_module_version": "1.2.0",
            "grid_template_areas": null,
            "object_position": null,
            "object_fit": null,
            "grid_auto_columns": null,
            "margin": null,
            "display": null,
            "left": null
          }
        },
        "72cdd48357d04e00a9512f40f49c4fc9": {
          "model_module": "@jupyter-widgets/controls",
          "model_name": "HBoxModel",
          "state": {
            "_view_name": "HBoxView",
            "_dom_classes": [],
            "_model_name": "HBoxModel",
            "_view_module": "@jupyter-widgets/controls",
            "_model_module_version": "1.5.0",
            "_view_count": null,
            "_view_module_version": "1.5.0",
            "box_style": "",
            "layout": "IPY_MODEL_5f765104ec634c53a9de15279eed0bcc",
            "_model_module": "@jupyter-widgets/controls",
            "children": [
              "IPY_MODEL_d1618a41ee08427db30362299bc26488",
              "IPY_MODEL_8a942c00f71745fb81118ed710f32977"
            ]
          }
        },
        "5f765104ec634c53a9de15279eed0bcc": {
          "model_module": "@jupyter-widgets/base",
          "model_name": "LayoutModel",
          "state": {
            "_view_name": "LayoutView",
            "grid_template_rows": null,
            "right": null,
            "justify_content": null,
            "_view_module": "@jupyter-widgets/base",
            "overflow": null,
            "_model_module_version": "1.2.0",
            "_view_count": null,
            "flex_flow": null,
            "width": null,
            "min_width": null,
            "border": null,
            "align_items": null,
            "bottom": null,
            "_model_module": "@jupyter-widgets/base",
            "top": null,
            "grid_column": null,
            "overflow_y": null,
            "overflow_x": null,
            "grid_auto_flow": null,
            "grid_area": null,
            "grid_template_columns": null,
            "flex": null,
            "_model_name": "LayoutModel",
            "justify_items": null,
            "grid_row": null,
            "max_height": null,
            "align_content": null,
            "visibility": null,
            "align_self": null,
            "height": null,
            "min_height": null,
            "padding": null,
            "grid_auto_rows": null,
            "grid_gap": null,
            "max_width": null,
            "order": null,
            "_view_module_version": "1.2.0",
            "grid_template_areas": null,
            "object_position": null,
            "object_fit": null,
            "grid_auto_columns": null,
            "margin": null,
            "display": null,
            "left": null
          }
        },
        "d1618a41ee08427db30362299bc26488": {
          "model_module": "@jupyter-widgets/controls",
          "model_name": "FloatProgressModel",
          "state": {
            "_view_name": "ProgressView",
            "style": "IPY_MODEL_d311b8e8aca8412b82f0290e51d987ad",
            "_dom_classes": [],
            "description": "Downloading: 100%",
            "_model_name": "FloatProgressModel",
            "bar_style": "success",
            "max": 28,
            "_view_module": "@jupyter-widgets/controls",
            "_model_module_version": "1.5.0",
            "value": 28,
            "_view_count": null,
            "_view_module_version": "1.5.0",
            "orientation": "horizontal",
            "min": 0,
            "description_tooltip": null,
            "_model_module": "@jupyter-widgets/controls",
            "layout": "IPY_MODEL_7f23aed2dc2144f0975337e8a23ba22e"
          }
        },
        "8a942c00f71745fb81118ed710f32977": {
          "model_module": "@jupyter-widgets/controls",
          "model_name": "HTMLModel",
          "state": {
            "_view_name": "HTMLView",
            "style": "IPY_MODEL_da1160163bf146069f447bc4ef0358a9",
            "_dom_classes": [],
            "description": "",
            "_model_name": "HTMLModel",
            "placeholder": "​",
            "_view_module": "@jupyter-widgets/controls",
            "_model_module_version": "1.5.0",
            "value": " 28.0/28.0 [00:59&lt;00:00, 2.13s/B]",
            "_view_count": null,
            "_view_module_version": "1.5.0",
            "description_tooltip": null,
            "_model_module": "@jupyter-widgets/controls",
            "layout": "IPY_MODEL_b9d73d55fefc4605ac13c8ef1517dde4"
          }
        },
        "d311b8e8aca8412b82f0290e51d987ad": {
          "model_module": "@jupyter-widgets/controls",
          "model_name": "ProgressStyleModel",
          "state": {
            "_view_name": "StyleView",
            "_model_name": "ProgressStyleModel",
            "description_width": "initial",
            "_view_module": "@jupyter-widgets/base",
            "_model_module_version": "1.5.0",
            "_view_count": null,
            "_view_module_version": "1.2.0",
            "bar_color": null,
            "_model_module": "@jupyter-widgets/controls"
          }
        },
        "7f23aed2dc2144f0975337e8a23ba22e": {
          "model_module": "@jupyter-widgets/base",
          "model_name": "LayoutModel",
          "state": {
            "_view_name": "LayoutView",
            "grid_template_rows": null,
            "right": null,
            "justify_content": null,
            "_view_module": "@jupyter-widgets/base",
            "overflow": null,
            "_model_module_version": "1.2.0",
            "_view_count": null,
            "flex_flow": null,
            "width": null,
            "min_width": null,
            "border": null,
            "align_items": null,
            "bottom": null,
            "_model_module": "@jupyter-widgets/base",
            "top": null,
            "grid_column": null,
            "overflow_y": null,
            "overflow_x": null,
            "grid_auto_flow": null,
            "grid_area": null,
            "grid_template_columns": null,
            "flex": null,
            "_model_name": "LayoutModel",
            "justify_items": null,
            "grid_row": null,
            "max_height": null,
            "align_content": null,
            "visibility": null,
            "align_self": null,
            "height": null,
            "min_height": null,
            "padding": null,
            "grid_auto_rows": null,
            "grid_gap": null,
            "max_width": null,
            "order": null,
            "_view_module_version": "1.2.0",
            "grid_template_areas": null,
            "object_position": null,
            "object_fit": null,
            "grid_auto_columns": null,
            "margin": null,
            "display": null,
            "left": null
          }
        },
        "da1160163bf146069f447bc4ef0358a9": {
          "model_module": "@jupyter-widgets/controls",
          "model_name": "DescriptionStyleModel",
          "state": {
            "_view_name": "StyleView",
            "_model_name": "DescriptionStyleModel",
            "description_width": "",
            "_view_module": "@jupyter-widgets/base",
            "_model_module_version": "1.5.0",
            "_view_count": null,
            "_view_module_version": "1.2.0",
            "_model_module": "@jupyter-widgets/controls"
          }
        },
        "b9d73d55fefc4605ac13c8ef1517dde4": {
          "model_module": "@jupyter-widgets/base",
          "model_name": "LayoutModel",
          "state": {
            "_view_name": "LayoutView",
            "grid_template_rows": null,
            "right": null,
            "justify_content": null,
            "_view_module": "@jupyter-widgets/base",
            "overflow": null,
            "_model_module_version": "1.2.0",
            "_view_count": null,
            "flex_flow": null,
            "width": null,
            "min_width": null,
            "border": null,
            "align_items": null,
            "bottom": null,
            "_model_module": "@jupyter-widgets/base",
            "top": null,
            "grid_column": null,
            "overflow_y": null,
            "overflow_x": null,
            "grid_auto_flow": null,
            "grid_area": null,
            "grid_template_columns": null,
            "flex": null,
            "_model_name": "LayoutModel",
            "justify_items": null,
            "grid_row": null,
            "max_height": null,
            "align_content": null,
            "visibility": null,
            "align_self": null,
            "height": null,
            "min_height": null,
            "padding": null,
            "grid_auto_rows": null,
            "grid_gap": null,
            "max_width": null,
            "order": null,
            "_view_module_version": "1.2.0",
            "grid_template_areas": null,
            "object_position": null,
            "object_fit": null,
            "grid_auto_columns": null,
            "margin": null,
            "display": null,
            "left": null
          }
        }
      }
    }
  },
  "cells": [
    {
      "cell_type": "markdown",
      "metadata": {
        "id": "RkteSr-VfLc1"
      },
      "source": [
        "# Download Data"
      ]
    },
    {
      "cell_type": "code",
      "metadata": {
        "colab": {
          "base_uri": "https://localhost:8080/"
        },
        "id": "EE1MKyb9e2XK",
        "outputId": "62fd7e6a-0643-4789-f0e4-48d557bdd1bb"
      },
      "source": [
        "!wget https://hkustconnect-my.sharepoint.com/:u:/g/personal/nnanda_connect_ust_hk/Ea1qSvDD0xlPoAMGLjCesaoBXRA1Ll71-dYKVd2xyYZuSw?download=1 -O \"yelp_academic_dataset_review.json.zip\"\n",
        "!unzip \"yelp_academic_dataset_review.json.zip\""
      ],
      "execution_count": 1,
      "outputs": [
        {
          "output_type": "stream",
          "text": [
            "--2021-04-05 05:34:05--  https://hkustconnect-my.sharepoint.com/:u:/g/personal/nnanda_connect_ust_hk/Ea1qSvDD0xlPoAMGLjCesaoBXRA1Ll71-dYKVd2xyYZuSw?download=1\n",
            "Resolving hkustconnect-my.sharepoint.com (hkustconnect-my.sharepoint.com)... 13.107.136.9\n",
            "Connecting to hkustconnect-my.sharepoint.com (hkustconnect-my.sharepoint.com)|13.107.136.9|:443... connected.\n",
            "HTTP request sent, awaiting response... 302 Found\n",
            "Location: /personal/nnanda_connect_ust_hk/Documents/COMP4332%20Project%20Data/yelp_academic_dataset_review.json.zip?originalPath=aHR0cHM6Ly9oa3VzdGNvbm5lY3QtbXkuc2hhcmVwb2ludC5jb20vOnU6L2cvcGVyc29uYWwvbm5hbmRhX2Nvbm5lY3RfdXN0X2hrL0VhMXFTdkREMHhsUG9BTUdMakNlc2FvQlhSQTFMbDcxLWRZS1ZkMnh5WVp1U3c_cnRpbWU9cmt1SWJmVDMyRWc [following]\n",
            "--2021-04-05 05:34:05--  https://hkustconnect-my.sharepoint.com/personal/nnanda_connect_ust_hk/Documents/COMP4332%20Project%20Data/yelp_academic_dataset_review.json.zip?originalPath=aHR0cHM6Ly9oa3VzdGNvbm5lY3QtbXkuc2hhcmVwb2ludC5jb20vOnU6L2cvcGVyc29uYWwvbm5hbmRhX2Nvbm5lY3RfdXN0X2hrL0VhMXFTdkREMHhsUG9BTUdMakNlc2FvQlhSQTFMbDcxLWRZS1ZkMnh5WVp1U3c_cnRpbWU9cmt1SWJmVDMyRWc\n",
            "Reusing existing connection to hkustconnect-my.sharepoint.com:443.\n",
            "HTTP request sent, awaiting response... 200 OK\n",
            "Length: 2895607847 (2.7G) [application/x-zip-compressed]\n",
            "Saving to: ‘yelp_academic_dataset_review.json.zip’\n",
            "\n",
            "yelp_academic_datas 100%[===================>]   2.70G  31.5MB/s    in 84s     \n",
            "\n",
            "2021-04-05 05:35:29 (33.0 MB/s) - ‘yelp_academic_dataset_review.json.zip’ saved [2895607847/2895607847]\n",
            "\n",
            "Archive:  yelp_academic_dataset_review.json.zip\n",
            "  inflating: yelp_academic_dataset_review.json  \n"
          ],
          "name": "stdout"
        }
      ]
    },
    {
      "cell_type": "markdown",
      "metadata": {
        "id": "VyCUH6drFgou"
      },
      "source": [
        "# Import Libraries"
      ]
    },
    {
      "cell_type": "code",
      "metadata": {
        "colab": {
          "base_uri": "https://localhost:8080/"
        },
        "id": "L_q2Kr7_Fa-g",
        "outputId": "c3e413e5-e248-48d4-e49f-64ad6cc290dd"
      },
      "source": [
        "!pip -q install keras-layer-normalization"
      ],
      "execution_count": 2,
      "outputs": [
        {
          "output_type": "stream",
          "text": [
            "  Building wheel for keras-layer-normalization (setup.py) ... \u001b[?25l\u001b[?25hdone\n"
          ],
          "name": "stdout"
        }
      ]
    },
    {
      "cell_type": "code",
      "metadata": {
        "id": "7_uTe2vvFJTL"
      },
      "source": [
        "import os\n",
        "import nltk\n",
        "import math\n",
        "import pandas as pd\n",
        "import numpy as np\n",
        "import keras\n",
        "import tensorflow as tf\n",
        "import matplotlib.pyplot as plt\n",
        "from collections import Counter\n",
        "from itertools import chain\n",
        "from sklearn.model_selection import StratifiedKFold\n",
        "from sklearn.metrics import accuracy_score, f1_score\n",
        "from keras.models import Sequential, Model\n",
        "from keras.layers import Dense, Activation, Dropout, BatchNormalization,\\\n",
        "    Activation, Input, Add, Concatenate, Embedding, Conv1D, MaxPool1D,\\\n",
        "    Flatten, LSTM, Bidirectional, MaxPooling1D, SimpleRNN, GRU, SpatialDropout1D\n",
        "from keras_layer_normalization import LayerNormalization\n",
        "from nltk.corpus import stopwords\n",
        "from nltk.stem import PorterStemmer\n",
        "from keras.wrappers.scikit_learn import KerasClassifier\n",
        "from sklearn.model_selection import GridSearchCV\n",
        "import sklearn.metrics as metrics\n",
        "from sklearn.metrics import classification_report, accuracy_score\n"
      ],
      "execution_count": 25,
      "outputs": []
    },
    {
      "cell_type": "code",
      "metadata": {
        "colab": {
          "base_uri": "https://localhost:8080/"
        },
        "id": "21Z1gRo3H3Zh",
        "outputId": "116788c6-f70f-4c2d-edf5-12413d13e35f"
      },
      "source": [
        "nltk.download('stopwords')\n",
        "nltk.download('punkt')"
      ],
      "execution_count": 4,
      "outputs": [
        {
          "output_type": "stream",
          "text": [
            "[nltk_data] Downloading package stopwords to /root/nltk_data...\n",
            "[nltk_data]   Unzipping corpora/stopwords.zip.\n",
            "[nltk_data] Downloading package punkt to /root/nltk_data...\n",
            "[nltk_data]   Unzipping tokenizers/punkt.zip.\n"
          ],
          "name": "stdout"
        },
        {
          "output_type": "execute_result",
          "data": {
            "text/plain": [
              "True"
            ]
          },
          "metadata": {
            "tags": []
          },
          "execution_count": 4
        }
      ]
    },
    {
      "cell_type": "code",
      "metadata": {
        "id": "noMKFCoiHxq1"
      },
      "source": [
        "stopwords = set(stopwords.words(\"english\"))\n",
        "ps = PorterStemmer()"
      ],
      "execution_count": 5,
      "outputs": []
    },
    {
      "cell_type": "markdown",
      "metadata": {
        "id": "Ei87H9bGgRjw"
      },
      "source": [
        "# Load the Yelp data"
      ]
    },
    {
      "cell_type": "code",
      "metadata": {
        "colab": {
          "base_uri": "https://localhost:8080/"
        },
        "id": "MDARzBppgTrH",
        "outputId": "829a308d-90fd-41f3-bb97-0797de52d21a"
      },
      "source": [
        "import json\n",
        "import pandas as pd\n",
        "\n",
        "reviews = ''\n",
        "\n",
        "line_count = 0\n",
        "with open('yelp_academic_dataset_review.json','r') as f:\n",
        "    for line in f:\n",
        "        reviews += line\n",
        "        line_count += 1\n",
        "        if line_count >= 50000:\n",
        "            break\n",
        "\n",
        "test_df = pd.read_json(reviews,lines=True)\n",
        "print(test_df)"
      ],
      "execution_count": 6,
      "outputs": [
        {
          "output_type": "stream",
          "text": [
            "                    review_id  ...                date\n",
            "0      lWC-xP3rd6obsecCYsGZRg  ... 2014-10-11 03:34:02\n",
            "1      8bFej1QE5LXp4O05qjGqXA  ... 2015-07-03 20:38:25\n",
            "2      NDhkzczKjLshODbqDoNLSg  ... 2013-05-28 20:38:06\n",
            "3      T5fAqjjFooT4V0OeZyuk1w  ... 2010-01-08 02:29:15\n",
            "4      sjm_uUcQVxab_EeLCqsYLg  ... 2011-07-28 18:05:01\n",
            "...                       ...  ...                 ...\n",
            "49995  eLkFmRh40KVwtc93cVZDJw  ... 2017-01-29 00:01:36\n",
            "49996  eNIn4FkfY_5zL9zW7aNs9w  ... 2018-07-18 02:18:19\n",
            "49997  0gcsSmvDOHBBF2TNbTd1KA  ... 2011-03-22 19:34:01\n",
            "49998  5cTLlmyxjPxPfrsaGF-eyA  ... 2018-04-16 03:08:45\n",
            "49999  uP2lNP3autkVrxYD_fHXbQ  ... 2013-03-19 18:44:05\n",
            "\n",
            "[50000 rows x 9 columns]\n"
          ],
          "name": "stdout"
        }
      ]
    },
    {
      "cell_type": "code",
      "metadata": {
        "colab": {
          "base_uri": "https://localhost:8080/",
          "height": 289
        },
        "id": "VtZfQXjFih0d",
        "outputId": "0dfea4d3-a4d0-4041-8218-a40f5dd952fa"
      },
      "source": [
        "test_df.head()"
      ],
      "execution_count": 7,
      "outputs": [
        {
          "output_type": "execute_result",
          "data": {
            "text/html": [
              "<div>\n",
              "<style scoped>\n",
              "    .dataframe tbody tr th:only-of-type {\n",
              "        vertical-align: middle;\n",
              "    }\n",
              "\n",
              "    .dataframe tbody tr th {\n",
              "        vertical-align: top;\n",
              "    }\n",
              "\n",
              "    .dataframe thead th {\n",
              "        text-align: right;\n",
              "    }\n",
              "</style>\n",
              "<table border=\"1\" class=\"dataframe\">\n",
              "  <thead>\n",
              "    <tr style=\"text-align: right;\">\n",
              "      <th></th>\n",
              "      <th>review_id</th>\n",
              "      <th>user_id</th>\n",
              "      <th>business_id</th>\n",
              "      <th>stars</th>\n",
              "      <th>useful</th>\n",
              "      <th>funny</th>\n",
              "      <th>cool</th>\n",
              "      <th>text</th>\n",
              "      <th>date</th>\n",
              "    </tr>\n",
              "  </thead>\n",
              "  <tbody>\n",
              "    <tr>\n",
              "      <th>0</th>\n",
              "      <td>lWC-xP3rd6obsecCYsGZRg</td>\n",
              "      <td>ak0TdVmGKo4pwqdJSTLwWw</td>\n",
              "      <td>buF9druCkbuXLX526sGELQ</td>\n",
              "      <td>4</td>\n",
              "      <td>3</td>\n",
              "      <td>1</td>\n",
              "      <td>1</td>\n",
              "      <td>Apparently Prides Osteria had a rough summer a...</td>\n",
              "      <td>2014-10-11 03:34:02</td>\n",
              "    </tr>\n",
              "    <tr>\n",
              "      <th>1</th>\n",
              "      <td>8bFej1QE5LXp4O05qjGqXA</td>\n",
              "      <td>YoVfDbnISlW0f7abNQACIg</td>\n",
              "      <td>RA4V8pr014UyUbDvI-LW2A</td>\n",
              "      <td>4</td>\n",
              "      <td>1</td>\n",
              "      <td>0</td>\n",
              "      <td>0</td>\n",
              "      <td>This store is pretty good. Not as great as Wal...</td>\n",
              "      <td>2015-07-03 20:38:25</td>\n",
              "    </tr>\n",
              "    <tr>\n",
              "      <th>2</th>\n",
              "      <td>NDhkzczKjLshODbqDoNLSg</td>\n",
              "      <td>eC5evKn1TWDyHCyQAwguUw</td>\n",
              "      <td>_sS2LBIGNT5NQb6PD1Vtjw</td>\n",
              "      <td>5</td>\n",
              "      <td>0</td>\n",
              "      <td>0</td>\n",
              "      <td>0</td>\n",
              "      <td>I called WVM on the recommendation of a couple...</td>\n",
              "      <td>2013-05-28 20:38:06</td>\n",
              "    </tr>\n",
              "    <tr>\n",
              "      <th>3</th>\n",
              "      <td>T5fAqjjFooT4V0OeZyuk1w</td>\n",
              "      <td>SFQ1jcnGguO0LYWnbbftAA</td>\n",
              "      <td>0AzLzHfOJgL7ROwhdww2ew</td>\n",
              "      <td>2</td>\n",
              "      <td>1</td>\n",
              "      <td>1</td>\n",
              "      <td>1</td>\n",
              "      <td>I've stayed at many Marriott and Renaissance M...</td>\n",
              "      <td>2010-01-08 02:29:15</td>\n",
              "    </tr>\n",
              "    <tr>\n",
              "      <th>4</th>\n",
              "      <td>sjm_uUcQVxab_EeLCqsYLg</td>\n",
              "      <td>0kA0PAJ8QFMeveQWHFqz2A</td>\n",
              "      <td>8zehGz9jnxPqXtOc7KaJxA</td>\n",
              "      <td>4</td>\n",
              "      <td>0</td>\n",
              "      <td>0</td>\n",
              "      <td>0</td>\n",
              "      <td>The food is always great here. The service fro...</td>\n",
              "      <td>2011-07-28 18:05:01</td>\n",
              "    </tr>\n",
              "  </tbody>\n",
              "</table>\n",
              "</div>"
            ],
            "text/plain": [
              "                review_id  ...                date\n",
              "0  lWC-xP3rd6obsecCYsGZRg  ... 2014-10-11 03:34:02\n",
              "1  8bFej1QE5LXp4O05qjGqXA  ... 2015-07-03 20:38:25\n",
              "2  NDhkzczKjLshODbqDoNLSg  ... 2013-05-28 20:38:06\n",
              "3  T5fAqjjFooT4V0OeZyuk1w  ... 2010-01-08 02:29:15\n",
              "4  sjm_uUcQVxab_EeLCqsYLg  ... 2011-07-28 18:05:01\n",
              "\n",
              "[5 rows x 9 columns]"
            ]
          },
          "metadata": {
            "tags": []
          },
          "execution_count": 7
        }
      ]
    },
    {
      "cell_type": "code",
      "metadata": {
        "colab": {
          "base_uri": "https://localhost:8080/"
        },
        "id": "yAvdCe08hU8T",
        "outputId": "0f450d2c-2255-4914-d6bc-e9a2df17297a"
      },
      "source": [
        "import random\n",
        "random.seed(62)\n",
        "\n",
        "shuffle_indexs = random.sample(range(50000), 2000)\n",
        "#print(shuffle_indexs)\n",
        "review_valid_df = test_df.loc[shuffle_indexs,:] \n",
        "print(review_valid_df)"
      ],
      "execution_count": 12,
      "outputs": [
        {
          "output_type": "stream",
          "text": [
            "                    review_id  ...                date\n",
            "37700  8tjNd6LvluVhaipzgmX-ew  ... 2017-05-27 00:50:37\n",
            "11339  vp5VAvkpQaooGUx85DukDA  ... 2015-08-30 16:26:32\n",
            "4269   JY2J5DIoCQQF5kwRmDfoow  ... 2008-04-29 17:23:43\n",
            "15604  Jshvim5vcTVEaRYpQDR-sg  ... 2018-05-08 19:17:54\n",
            "30457  pdjCrO3U3OtuaantXFmpQA  ... 2014-09-11 04:24:21\n",
            "...                       ...  ...                 ...\n",
            "44786  2uxJn1SI60IPhNzyzHwJLw  ... 2008-05-06 13:06:51\n",
            "31031  ybjDk1AV7E1yn2cc9k3Z5Q  ... 2005-08-01 03:31:49\n",
            "16476  LGMt_1e1hyQ_oI9uZNnITQ  ... 2018-04-15 17:37:13\n",
            "16193  OIM2emjfjg_vp9dK5DKizQ  ... 2013-10-24 17:12:31\n",
            "18409  _UGinps-2O2ArIFhA2ACBQ  ... 2016-07-04 03:18:37\n",
            "\n",
            "[2000 rows x 9 columns]\n"
          ],
          "name": "stdout"
        }
      ]
    },
    {
      "cell_type": "code",
      "metadata": {
        "colab": {
          "base_uri": "https://localhost:8080/",
          "height": 289
        },
        "id": "TmVs2U3dis5f",
        "outputId": "0f2e2a8b-b14f-4df4-db03-dbc16541779e"
      },
      "source": [
        "review_valid_df.head()"
      ],
      "execution_count": 13,
      "outputs": [
        {
          "output_type": "execute_result",
          "data": {
            "text/html": [
              "<div>\n",
              "<style scoped>\n",
              "    .dataframe tbody tr th:only-of-type {\n",
              "        vertical-align: middle;\n",
              "    }\n",
              "\n",
              "    .dataframe tbody tr th {\n",
              "        vertical-align: top;\n",
              "    }\n",
              "\n",
              "    .dataframe thead th {\n",
              "        text-align: right;\n",
              "    }\n",
              "</style>\n",
              "<table border=\"1\" class=\"dataframe\">\n",
              "  <thead>\n",
              "    <tr style=\"text-align: right;\">\n",
              "      <th></th>\n",
              "      <th>review_id</th>\n",
              "      <th>user_id</th>\n",
              "      <th>business_id</th>\n",
              "      <th>stars</th>\n",
              "      <th>useful</th>\n",
              "      <th>funny</th>\n",
              "      <th>cool</th>\n",
              "      <th>text</th>\n",
              "      <th>date</th>\n",
              "    </tr>\n",
              "  </thead>\n",
              "  <tbody>\n",
              "    <tr>\n",
              "      <th>37700</th>\n",
              "      <td>8tjNd6LvluVhaipzgmX-ew</td>\n",
              "      <td>_32MTdWeuZR5cylyCjFWig</td>\n",
              "      <td>cWgni4c-EZhsbQBoCwANhw</td>\n",
              "      <td>5</td>\n",
              "      <td>0</td>\n",
              "      <td>0</td>\n",
              "      <td>0</td>\n",
              "      <td>Just enjoyed a great dinner. Sushi was super f...</td>\n",
              "      <td>2017-05-27 00:50:37</td>\n",
              "    </tr>\n",
              "    <tr>\n",
              "      <th>11339</th>\n",
              "      <td>vp5VAvkpQaooGUx85DukDA</td>\n",
              "      <td>JDSWvOD7-ijWynQ7JLO1fg</td>\n",
              "      <td>vKchvHvmBQn1BmZhhbY2cg</td>\n",
              "      <td>1</td>\n",
              "      <td>0</td>\n",
              "      <td>0</td>\n",
              "      <td>0</td>\n",
              "      <td>Bad service, no matter what you want to buy, g...</td>\n",
              "      <td>2015-08-30 16:26:32</td>\n",
              "    </tr>\n",
              "    <tr>\n",
              "      <th>4269</th>\n",
              "      <td>JY2J5DIoCQQF5kwRmDfoow</td>\n",
              "      <td>SIP1Dfwy1M0HWzdgGg9H9g</td>\n",
              "      <td>WJ9efJqZotX4J_KOGNxrtw</td>\n",
              "      <td>3</td>\n",
              "      <td>2</td>\n",
              "      <td>3</td>\n",
              "      <td>2</td>\n",
              "      <td>You stop right in front of my house on weekday...</td>\n",
              "      <td>2008-04-29 17:23:43</td>\n",
              "    </tr>\n",
              "    <tr>\n",
              "      <th>15604</th>\n",
              "      <td>Jshvim5vcTVEaRYpQDR-sg</td>\n",
              "      <td>P403AMmWidji525WVKE30Q</td>\n",
              "      <td>zNeUKQpxP-IKpYYVLRKxgg</td>\n",
              "      <td>4</td>\n",
              "      <td>0</td>\n",
              "      <td>0</td>\n",
              "      <td>0</td>\n",
              "      <td>Went there the other day and ordered a couple ...</td>\n",
              "      <td>2018-05-08 19:17:54</td>\n",
              "    </tr>\n",
              "    <tr>\n",
              "      <th>30457</th>\n",
              "      <td>pdjCrO3U3OtuaantXFmpQA</td>\n",
              "      <td>_rvxykxj_yGsB_Mt9ugAUw</td>\n",
              "      <td>JTGjHr9ii1TWq0TNLFkiQw</td>\n",
              "      <td>4</td>\n",
              "      <td>2</td>\n",
              "      <td>0</td>\n",
              "      <td>0</td>\n",
              "      <td>Blossom Tree is a great asian option on Downto...</td>\n",
              "      <td>2014-09-11 04:24:21</td>\n",
              "    </tr>\n",
              "  </tbody>\n",
              "</table>\n",
              "</div>"
            ],
            "text/plain": [
              "                    review_id  ...                date\n",
              "37700  8tjNd6LvluVhaipzgmX-ew  ... 2017-05-27 00:50:37\n",
              "11339  vp5VAvkpQaooGUx85DukDA  ... 2015-08-30 16:26:32\n",
              "4269   JY2J5DIoCQQF5kwRmDfoow  ... 2008-04-29 17:23:43\n",
              "15604  Jshvim5vcTVEaRYpQDR-sg  ... 2018-05-08 19:17:54\n",
              "30457  pdjCrO3U3OtuaantXFmpQA  ... 2014-09-11 04:24:21\n",
              "\n",
              "[5 rows x 9 columns]"
            ]
          },
          "metadata": {
            "tags": []
          },
          "execution_count": 13
        }
      ]
    },
    {
      "cell_type": "markdown",
      "metadata": {
        "id": "XqpmuTFTgOjX"
      },
      "source": [
        "# Load the best Bert model"
      ]
    },
    {
      "cell_type": "code",
      "metadata": {
        "colab": {
          "base_uri": "https://localhost:8080/"
        },
        "id": "KPyBgw7D6-Or",
        "outputId": "e7248306-9918-47e7-a83b-8de05e410cb6"
      },
      "source": [
        "!pip -q install transformers"
      ],
      "execution_count": 14,
      "outputs": [
        {
          "output_type": "stream",
          "text": [
            "\u001b[K     |████████████████████████████████| 2.0MB 20.9MB/s \n",
            "\u001b[K     |████████████████████████████████| 3.2MB 50.4MB/s \n",
            "\u001b[K     |████████████████████████████████| 870kB 43.6MB/s \n",
            "\u001b[?25h  Building wheel for sacremoses (setup.py) ... \u001b[?25l\u001b[?25hdone\n"
          ],
          "name": "stdout"
        }
      ]
    },
    {
      "cell_type": "code",
      "metadata": {
        "id": "zFQtc00V60bO"
      },
      "source": [
        "#######################################\n",
        "### -------- Load libraries ------- ###\n",
        "# Load Huggingface transformers\n",
        "from transformers import TFBertModel,  BertConfig, BertTokenizerFast\n",
        "# Then what you need from tensorflow.keras\n",
        "from tensorflow.keras.layers import Input, Dropout, Dense\n",
        "from tensorflow.keras.models import Model\n",
        "from tensorflow.keras.optimizers import Adam, RMSprop, Nadam\n",
        "from tensorflow.keras.callbacks import EarlyStopping\n",
        "from tensorflow.keras.initializers import TruncatedNormal\n",
        "from tensorflow.keras.losses import CategoricalCrossentropy\n",
        "from tensorflow.keras.metrics import CategoricalAccuracy\n",
        "from tensorflow.keras.utils import to_categorical\n",
        "# And pandas for data import + sklearn because you allways need sklearn\n",
        "import pandas as pd\n",
        "from sklearn.model_selection import train_test_split"
      ],
      "execution_count": 15,
      "outputs": []
    },
    {
      "cell_type": "code",
      "metadata": {
        "colab": {
          "base_uri": "https://localhost:8080/",
          "height": 213,
          "referenced_widgets": [
            "ff780967a1da43f7a0adffb21ecae2cb",
            "b769388280ab45de8226faf4b8b3d36e",
            "03edae30d7a84155bcd49120ad6d89d5",
            "af5bffe3ca47442e9bc6e8d9e26f8bd8",
            "6c0b8ee9e82d48e3a14e7b1cc1551c65",
            "de73e1ab1a7f4a5a933f966c3979cedd",
            "49d22e0670294da6ab3a6243123b28a6",
            "6b43a5cbf2a54fa2adc8bb51f9dbc0cd",
            "6bc88ac1c675449985a808e020336d0a",
            "6cbccb06a6a94f778cea7863057ebeb1",
            "7a1b04a9d41c47e69d9ba6e85a87911a",
            "41bead171d35423a989a3143cf1c89b3",
            "602329a079504d15a217a613834afa8f",
            "b857257f006f40799dd5c09dd86d0101",
            "9da06426f8c04106a37cbc589301898c",
            "aa10aafa24bb45f1ad2f8099eb90ba45",
            "dc45cea4989c48f38beb507a5d4c9e02",
            "47dd1f64ee22473abf9a1af2a21a0aa6",
            "0ec2631861c94a69926846a4577c1e42",
            "e7ff0795a1a24af5a180e1b6c0ab7282",
            "6ebeee6f9964461b94421cf5fe1631ad",
            "3858b64d0acc428ba8c5a4e5b254e6c0",
            "14b631425b674bad8a739e982282eff8",
            "7306604c2a0d414fb4ec4482974cb1ea",
            "72cdd48357d04e00a9512f40f49c4fc9",
            "5f765104ec634c53a9de15279eed0bcc",
            "d1618a41ee08427db30362299bc26488",
            "8a942c00f71745fb81118ed710f32977",
            "d311b8e8aca8412b82f0290e51d987ad",
            "7f23aed2dc2144f0975337e8a23ba22e",
            "da1160163bf146069f447bc4ef0358a9",
            "b9d73d55fefc4605ac13c8ef1517dde4"
          ]
        },
        "id": "VI0rkbtXkm7Y",
        "outputId": "fe278046-c300-4a91-cc8f-26b437d9083f"
      },
      "source": [
        "#######################################\n",
        "### --------- Setup BERT ---------- ###\n",
        "# Name of the BERT model to use\n",
        "model_name = 'bert-base-uncased'\n",
        "# Max length of tokens\n",
        "max_length = 100\n",
        "# Load transformers config and set output_hidden_states to False\n",
        "config = BertConfig.from_pretrained(model_name)\n",
        "config.output_hidden_states = False\n",
        "# Load BERT tokenizer\n",
        "tokenizer = BertTokenizerFast.from_pretrained(pretrained_model_name_or_path = model_name, config = config)"
      ],
      "execution_count": 16,
      "outputs": [
        {
          "output_type": "display_data",
          "data": {
            "application/vnd.jupyter.widget-view+json": {
              "model_id": "ff780967a1da43f7a0adffb21ecae2cb",
              "version_minor": 0,
              "version_major": 2
            },
            "text/plain": [
              "HBox(children=(FloatProgress(value=0.0, description='Downloading', max=433.0, style=ProgressStyle(description_…"
            ]
          },
          "metadata": {
            "tags": []
          }
        },
        {
          "output_type": "stream",
          "text": [
            "\n"
          ],
          "name": "stdout"
        },
        {
          "output_type": "display_data",
          "data": {
            "application/vnd.jupyter.widget-view+json": {
              "model_id": "6bc88ac1c675449985a808e020336d0a",
              "version_minor": 0,
              "version_major": 2
            },
            "text/plain": [
              "HBox(children=(FloatProgress(value=0.0, description='Downloading', max=231508.0, style=ProgressStyle(descripti…"
            ]
          },
          "metadata": {
            "tags": []
          }
        },
        {
          "output_type": "stream",
          "text": [
            "\n"
          ],
          "name": "stdout"
        },
        {
          "output_type": "display_data",
          "data": {
            "application/vnd.jupyter.widget-view+json": {
              "model_id": "dc45cea4989c48f38beb507a5d4c9e02",
              "version_minor": 0,
              "version_major": 2
            },
            "text/plain": [
              "HBox(children=(FloatProgress(value=0.0, description='Downloading', max=466062.0, style=ProgressStyle(descripti…"
            ]
          },
          "metadata": {
            "tags": []
          }
        },
        {
          "output_type": "stream",
          "text": [
            "\n"
          ],
          "name": "stdout"
        },
        {
          "output_type": "display_data",
          "data": {
            "application/vnd.jupyter.widget-view+json": {
              "model_id": "72cdd48357d04e00a9512f40f49c4fc9",
              "version_minor": 0,
              "version_major": 2
            },
            "text/plain": [
              "HBox(children=(FloatProgress(value=0.0, description='Downloading', max=28.0, style=ProgressStyle(description_w…"
            ]
          },
          "metadata": {
            "tags": []
          }
        },
        {
          "output_type": "stream",
          "text": [
            "\n"
          ],
          "name": "stdout"
        }
      ]
    },
    {
      "cell_type": "code",
      "metadata": {
        "id": "ZJVg6GO_gNIj"
      },
      "source": [
        "# Ready output data for the model\n",
        "y_valid = to_categorical(review_valid_df[\"stars\"]-1, num_classes=5)\n",
        "\n",
        "x_valid_attention_mask = tokenizer(\n",
        "    text=review_valid_df[\"text\"].to_list(),\n",
        "    add_special_tokens=True,\n",
        "    max_length=max_length,\n",
        "    truncation=True,\n",
        "    padding=True, \n",
        "    return_tensors='tf',\n",
        "    return_token_type_ids = False,\n",
        "    return_attention_mask = True,\n",
        "    verbose = True)"
      ],
      "execution_count": 17,
      "outputs": []
    },
    {
      "cell_type": "code",
      "metadata": {
        "colab": {
          "base_uri": "https://localhost:8080/"
        },
        "id": "3gZsL3yjlTmV",
        "outputId": "48215f2e-23e8-4367-a82d-c9224822507d"
      },
      "source": [
        "!wget -q https://hkustconnect-my.sharepoint.com/:u:/g/personal/nnanda_connect_ust_hk/EXrPZ5UNreNKsJhqoZgBbuABcVH8WpSlYWxgiNC23weYJg?download=1 -O \"weights_bert_with_attention_mask_62_65.hdf5\"\n",
        "\n",
        "model = keras.models.load_model(os.path.join(\"weights_bert_with_attention_mask_62_65.hdf5\"))\n",
        "\n",
        "# train_score = model.evaluate(\n",
        "#     x={'input_ids': x_train_attention_mask['input_ids'], 'attention_mask': x_train_attention_mask['attention_mask']},\n",
        "#     y={'stars': y_train})\n",
        "\n",
        "valid_score = model.evaluate(\n",
        "    x={'input_ids': x_valid_attention_mask['input_ids'], 'attention_mask': x_valid_attention_mask['attention_mask']},\n",
        "    y={'stars': y_valid})\n",
        "\n",
        "# print(\"training loss:\", train_score[0], \"training accuracy\", train_score[1])\n",
        "print(\"valid loss:\", valid_score[0], \"valid accuracy\", valid_score[1])"
      ],
      "execution_count": 18,
      "outputs": [
        {
          "output_type": "stream",
          "text": [
            "63/63 [==============================] - 18s 202ms/step - loss: 0.8993 - accuracy: 0.6310\n",
            "valid loss: 0.8992549777030945 valid accuracy 0.6309999823570251\n"
          ],
          "name": "stdout"
        }
      ]
    },
    {
      "cell_type": "markdown",
      "metadata": {
        "id": "MVhr-3HrnneN"
      },
      "source": [
        "Test 50k"
      ]
    },
    {
      "cell_type": "code",
      "metadata": {
        "id": "m0qVIkPulazQ"
      },
      "source": [
        "# Ready output data for the model\n",
        "y_valid_50k = to_categorical(test_df[\"stars\"]-1, num_classes=5)\n",
        "\n",
        "x_valid_attention_mask_50k = tokenizer(\n",
        "    text=test_df[\"text\"].to_list(),\n",
        "    add_special_tokens=True,\n",
        "    max_length=max_length,\n",
        "    truncation=True,\n",
        "    padding=True, \n",
        "    return_tensors='tf',\n",
        "    return_token_type_ids = False,\n",
        "    return_attention_mask = True,\n",
        "    verbose = True)"
      ],
      "execution_count": 19,
      "outputs": []
    },
    {
      "cell_type": "code",
      "metadata": {
        "colab": {
          "base_uri": "https://localhost:8080/"
        },
        "id": "j-CUx317n0i-",
        "outputId": "9ce89b0f-ab05-4e10-cf10-5e1bdc3ec2e1"
      },
      "source": [
        "model = keras.models.load_model(os.path.join(\"weights_bert_with_attention_mask_62_65.hdf5\"))\n",
        "\n",
        "valid_score = model.evaluate(\n",
        "    x={'input_ids': x_valid_attention_mask_50k['input_ids'], 'attention_mask': x_valid_attention_mask_50k['attention_mask']},\n",
        "    y={'stars': y_valid_50k})\n",
        "\n",
        "print(\"valid loss:\", valid_score[0], \"valid accuracy\", valid_score[1])"
      ],
      "execution_count": 20,
      "outputs": [
        {
          "output_type": "stream",
          "text": [
            "1563/1563 [==============================] - 344s 218ms/step - loss: 0.9372 - accuracy: 0.6190\n",
            "valid loss: 0.9371615648269653 valid accuracy 0.6189799904823303\n"
          ],
          "name": "stdout"
        }
      ]
    },
    {
      "cell_type": "code",
      "metadata": {
        "colab": {
          "base_uri": "https://localhost:8080/"
        },
        "id": "CMV45jvnoATI",
        "outputId": "108d0d1f-a4e6-4c01-816a-5f8391601508"
      },
      "source": [
        "y_pred = model.predict(x={'input_ids': x_valid_attention_mask['input_ids'], 'attention_mask': x_valid_attention_mask['attention_mask']}, batch_size=64, verbose=1)\n",
        "print(y_pred)\n",
        "\n",
        "y_test = review_valid_df[\"stars\"]\n",
        "y_pred = np.argmax(y_pred,axis=1)+1\n",
        "\n",
        "matrix = metrics.confusion_matrix(y_test, y_pred)\n",
        "print(matrix)\n",
        "\n",
        "#print(\"Accuracy: \",round(metrics.accuracy_score(y_test,y_pred),3))\n",
        "\n",
        "# print(\"F1: \",round(metrics.f1_score(y_test, y_pred),3))\n",
        "print(classification_report(y_test, y_pred))\n",
        "\n",
        "print('accuracy', np.mean(y_test == y_pred))\n",
        "\n",
        "acc = accuracy_score(y_test, y_pred)\n",
        "print(\"accuracy score :\", acc)"
      ],
      "execution_count": 26,
      "outputs": [
        {
          "output_type": "stream",
          "text": [
            "32/32 [==============================] - 14s 426ms/step\n",
            "[[-2.0784929  -1.9992015  -0.9327136   2.0616372   4.214913  ]\n",
            " [ 4.355194    0.7897698  -1.4550432  -2.2701366  -1.7209439 ]\n",
            " [-1.6617411   0.14523715  2.3860233   0.82880515 -1.6135528 ]\n",
            " ...\n",
            " [-2.4687026  -2.0681925  -0.7254912   2.459964    3.688167  ]\n",
            " [-3.1055756  -1.655037    1.46684     2.7623305   0.7445159 ]\n",
            " [-2.3813508  -1.9550703  -0.18991452  2.4448674   3.2964742 ]]\n",
            "[[213  22   6   1   3]\n",
            " [ 49  44  52   4   2]\n",
            " [ 13  35 132  44   9]\n",
            " [ 13   4 111 272 143]\n",
            " [ 16   3  25 183 601]]\n",
            "              precision    recall  f1-score   support\n",
            "\n",
            "           1       0.70      0.87      0.78       245\n",
            "           2       0.41      0.29      0.34       151\n",
            "           3       0.40      0.57      0.47       233\n",
            "           4       0.54      0.50      0.52       543\n",
            "           5       0.79      0.73      0.76       828\n",
            "\n",
            "    accuracy                           0.63      2000\n",
            "   macro avg       0.57      0.59      0.57      2000\n",
            "weighted avg       0.64      0.63      0.63      2000\n",
            "\n",
            "accuracy 0.631\n",
            "accuracy score : 0.631\n"
          ],
          "name": "stdout"
        }
      ]
    },
    {
      "cell_type": "code",
      "metadata": {
        "id": "1EzpDpGlpslU"
      },
      "source": [
        ""
      ],
      "execution_count": null,
      "outputs": []
    }
  ]
}