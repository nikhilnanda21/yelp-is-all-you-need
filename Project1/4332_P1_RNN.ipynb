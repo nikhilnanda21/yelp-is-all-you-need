{
  "nbformat": 4,
  "nbformat_minor": 0,
  "metadata": {
    "colab": {
      "name": "4332_P1_RNN.ipynb",
      "provenance": [],
      "collapsed_sections": [],
      "toc_visible": true
    },
    "kernelspec": {
      "name": "python3",
      "display_name": "Python 3"
    },
    "language_info": {
      "name": "python"
    },
    "accelerator": "GPU"
  },
  "cells": [
    {
      "cell_type": "markdown",
      "metadata": {
        "id": "HAckpZDZG-BR"
      },
      "source": [
        "# Download Data"
      ]
    },
    {
      "cell_type": "code",
      "metadata": {
        "id": "_gEmiUAEG8zx"
      },
      "source": [
        "!wget -q https://hkustconnect-my.sharepoint.com/:u:/g/personal/nnanda_connect_ust_hk/EfREjZqiZTlPqhqUPICBbPABdlgPumlaUVxPncm-_9aWIw?download=1 -O \"Project 1 - data.zip\"\n",
        "!unzip -q \"Project 1 - data.zip\""
      ],
      "execution_count": 1,
      "outputs": []
    },
    {
      "cell_type": "markdown",
      "metadata": {
        "id": "VyCUH6drFgou"
      },
      "source": [
        "# Import Libraries"
      ]
    },
    {
      "cell_type": "code",
      "metadata": {
        "colab": {
          "base_uri": "https://localhost:8080/"
        },
        "id": "L_q2Kr7_Fa-g",
        "outputId": "d589e6ae-f804-47ac-d0b7-a7a0559ea38c"
      },
      "source": [
        "!pip -q install keras-layer-normalization"
      ],
      "execution_count": 2,
      "outputs": [
        {
          "output_type": "stream",
          "text": [
            "  Building wheel for keras-layer-normalization (setup.py) ... \u001b[?25l\u001b[?25hdone\n"
          ],
          "name": "stdout"
        }
      ]
    },
    {
      "cell_type": "code",
      "metadata": {
        "id": "7_uTe2vvFJTL"
      },
      "source": [
        "import os\n",
        "import nltk\n",
        "import math\n",
        "import pandas as pd\n",
        "import numpy as np\n",
        "import keras\n",
        "import tensorflow as tf\n",
        "import matplotlib.pyplot as plt\n",
        "from collections import Counter\n",
        "from itertools import chain\n",
        "from sklearn.model_selection import StratifiedKFold\n",
        "from sklearn.metrics import accuracy_score, f1_score\n",
        "from keras.models import Sequential, Model\n",
        "from keras.layers import Dense, Activation, Dropout, BatchNormalization,\\\n",
        "    Activation, Input, Add, Concatenate, Embedding, Conv1D, MaxPool1D,\\\n",
        "    Flatten, LSTM, Bidirectional, MaxPooling1D, SimpleRNN, GRU\n",
        "from keras_layer_normalization import LayerNormalization\n",
        "from nltk.corpus import stopwords\n",
        "from nltk.stem import PorterStemmer\n",
        "from keras.wrappers.scikit_learn import KerasClassifier\n",
        "from sklearn.model_selection import GridSearchCV\n"
      ],
      "execution_count": 3,
      "outputs": []
    },
    {
      "cell_type": "code",
      "metadata": {
        "colab": {
          "base_uri": "https://localhost:8080/"
        },
        "id": "21Z1gRo3H3Zh",
        "outputId": "b133f929-dc8b-4227-8b80-623a9d7e2a27"
      },
      "source": [
        "nltk.download('stopwords')\n",
        "nltk.download('punkt')"
      ],
      "execution_count": 4,
      "outputs": [
        {
          "output_type": "stream",
          "text": [
            "[nltk_data] Downloading package stopwords to /root/nltk_data...\n",
            "[nltk_data]   Unzipping corpora/stopwords.zip.\n",
            "[nltk_data] Downloading package punkt to /root/nltk_data...\n",
            "[nltk_data]   Unzipping tokenizers/punkt.zip.\n"
          ],
          "name": "stdout"
        },
        {
          "output_type": "execute_result",
          "data": {
            "text/plain": [
              "True"
            ]
          },
          "metadata": {
            "tags": []
          },
          "execution_count": 4
        }
      ]
    },
    {
      "cell_type": "code",
      "metadata": {
        "id": "noMKFCoiHxq1"
      },
      "source": [
        "stopwords = set(stopwords.words(\"english\"))\n",
        "ps = PorterStemmer()"
      ],
      "execution_count": 5,
      "outputs": []
    },
    {
      "cell_type": "markdown",
      "metadata": {
        "id": "b-Y4M188FjI3"
      },
      "source": [
        "# Data Loader"
      ]
    },
    {
      "cell_type": "code",
      "metadata": {
        "id": "0LdLcI3EFWIK"
      },
      "source": [
        "def load_data(split_name='train', columns=['text', 'stars']):\n",
        "    try:\n",
        "        print(f\"select [{', '.join(columns)}] columns from the {split_name} split\")\n",
        "        df = pd.read_csv(f'data_2021_spring/{split_name}.csv')\n",
        "        df = df.loc[:,columns]\n",
        "        print(\"succeed!\")\n",
        "        return df\n",
        "    except:\n",
        "        print(\"Failed, then try to \")\n",
        "        print(f\"select all columns from the {split_name} split\")\n",
        "        df = pd.read_csv(f'data_2021_spring/{split_name}.csv')\n",
        "        return df"
      ],
      "execution_count": 6,
      "outputs": []
    },
    {
      "cell_type": "code",
      "metadata": {
        "colab": {
          "base_uri": "https://localhost:8080/"
        },
        "id": "YQj5souEFnD2",
        "outputId": "c162a067-8c69-4133-cad3-29e969086d1c"
      },
      "source": [
        "train_df = load_data('train', columns=['full'])\n",
        "valid_df = load_data('valid', columns=['full'])\n",
        "test_df = load_data('test', columns=['full'])"
      ],
      "execution_count": 7,
      "outputs": [
        {
          "output_type": "stream",
          "text": [
            "select [full] columns from the train split\n",
            "Failed, then try to \n",
            "select all columns from the train split\n",
            "select [full] columns from the valid split\n",
            "Failed, then try to \n",
            "select all columns from the valid split\n",
            "select [full] columns from the test split\n",
            "Failed, then try to \n",
            "select all columns from the test split\n"
          ],
          "name": "stdout"
        }
      ]
    },
    {
      "cell_type": "markdown",
      "metadata": {
        "id": "FM6i0QIj2ylX"
      },
      "source": [
        "# Feature Extractor"
      ]
    },
    {
      "cell_type": "code",
      "metadata": {
        "id": "pbHQbGsU0sDl"
      },
      "source": [
        "def tokenize(text):\n",
        "    \"\"\"\n",
        "    :param text: a doc with multiple sentences, type: str\n",
        "    return a word list, type: list\n",
        "    e.g.\n",
        "    Input: 'Text mining is to identify useful information.'\n",
        "    Output: ['Text', 'mining', 'is', 'to', 'identify', 'useful', 'information', '.']\n",
        "    \"\"\"\n",
        "    return nltk.word_tokenize(text)\n",
        "\n",
        "def stem(tokens):\n",
        "    \"\"\"\n",
        "    :param tokens: a list of tokens, type: list\n",
        "    return a list of stemmed words, type: list\n",
        "    e.g.\n",
        "    Input: ['Text', 'mining', 'is', 'to', 'identify', 'useful', 'information', '.']\n",
        "    Output: ['text', 'mine', 'is', 'to', 'identifi', 'use', 'inform', '.']\n",
        "    \"\"\"\n",
        "\n",
        "    return [ps.stem(token).lower() for token in tokens]\n",
        "\n",
        "# Just for testing, was not used in tutorial - removing stopwords doesn't help much\n",
        "def filter_stopwords(tokens):\n",
        "    \"\"\"\n",
        "    :param tokens: a list of tokens, type: list\n",
        "    return a list of filtered tokens, type: list\n",
        "    e.g.\n",
        "    Input: ['text', 'mine', 'is', 'to', 'identifi', 'use', 'inform', '.']\n",
        "    Output: ['text', 'mine', 'identifi', 'use', 'inform', '.']\n",
        "    \"\"\"\n",
        "    ### equivalent code\n",
        "    # results = list()\n",
        "    # for token in tokens:\n",
        "    #     if token not in stopwords and not token.isnumeric():\n",
        "    #         results.append(token)\n",
        "    # return results\n",
        "\n",
        "    return [token for token in tokens if token not in stopwords and not token.isnumeric()]"
      ],
      "execution_count": 8,
      "outputs": []
    },
    {
      "cell_type": "code",
      "metadata": {
        "id": "2J_DHdpi253v"
      },
      "source": [
        "def get_feats_dict(feats, min_freq=-1, max_freq=-1, max_size=-1):\n",
        "    \"\"\"\n",
        "    :param data: a list of features, type: list(list)\n",
        "    :param min_freq: the lowest fequency that the fequency of a feature smaller than it will be filtered out, type: int\n",
        "    :param max_freq: the highest fequency that the fequency of a feature larger than it will be filtered out, type: int\n",
        "    :param max_size: the max size of feature dict, type: int\n",
        "    return a feature dict that maps features to indices, sorted by frequencies\n",
        "    # Counter document: https://docs.python.org/3.6/library/collections.html#collections.Counter\n",
        "    \"\"\"\n",
        "    # count all features\n",
        "    feat_cnt = Counter(feats) # [\"text\", \"text\", \"mine\"] --> {\"text\": 2, \"mine\": 1}\n",
        "    if max_size > 0 and min_freq == -1 and max_freq == -1:\n",
        "        valid_feats = [\"<pad>\", \"<unk>\"] + [f for f, cnt in feat_cnt.most_common(max_size-2)]\n",
        "    else:\n",
        "        valid_feats = [\"<pad>\", \"<unk>\"]\n",
        "        for f, cnt in feat_cnt.most_common():\n",
        "            if (min_freq == -1 or cnt >= min_freq) and \\\n",
        "                (max_freq == -1 or cnt <= max_freq):\n",
        "                valid_feats.append(f)\n",
        "    if max_size > 0 and len(valid_feats) > max_size:\n",
        "        valid_feats = valid_feats[:max_size]\n",
        "    print(\"Size of features:\", len(valid_feats))\n",
        "    \n",
        "    # build a mapping from features to indices\n",
        "    feats_dict = dict(zip(valid_feats, range(len(valid_feats))))\n",
        "    return feats_dict\n",
        "\n",
        "def get_index_vector(feats, feats_dict, max_len):\n",
        "    \"\"\"\n",
        "    :param feats: a list of features, type: list\n",
        "    :param feats_dict: a dict from features to indices, type: dict\n",
        "    :param feats: a list of features, type: list\n",
        "    return a feature vector,\n",
        "    \"\"\"\n",
        "    # initialize the vector as all zeros\n",
        "    vector = np.zeros(max_len, dtype=np.int64)\n",
        "    for i, f in enumerate(feats):\n",
        "        if i == max_len:\n",
        "            break\n",
        "        # get the feature index, return 1 (<unk>) if the feature is not existed\n",
        "        f_idx = feats_dict.get(f, 1)\n",
        "        vector[i] = f_idx\n",
        "    return vector"
      ],
      "execution_count": 9,
      "outputs": []
    },
    {
      "cell_type": "markdown",
      "metadata": {
        "id": "XSpjs52e3Gj6"
      },
      "source": [
        "# RNN Builder"
      ]
    },
    {
      "cell_type": "code",
      "metadata": {
        "id": "WzH7JhQf3DJN"
      },
      "source": [
        "def build_RNN(input_length, vocab_size, embedding_size,\n",
        "              hidden_size, output_size,\n",
        "              num_rnn_layers, num_mlp_layers,\n",
        "              rnn_type=\"lstm\",\n",
        "              bidirectional=False,\n",
        "              embedding_matrix=None,\n",
        "              activation=\"tanh\",\n",
        "              dropout_rate=0.0,\n",
        "              batch_norm=False,\n",
        "              l2_reg=0.0,\n",
        "              loss=\"categorical_crossentropy\",\n",
        "              optimizer=\"Adam\",\n",
        "              learning_rate=0.001,\n",
        "              metric=\"accuracy\"):\n",
        "    \"\"\"\n",
        "    :param input_length: the maximum length of sentences, type: int\n",
        "    :param vocab_size: the vacabulary size, type: int\n",
        "    :param embedding_size: the dimension of word representations, type: int\n",
        "    :param hidden_size: the dimension of the hidden states, type: int\n",
        "    :param output_size: the dimension of the prediction, type: int\n",
        "    :param num_rnn_layers: the number of layers of the RNN, type: int\n",
        "    :param num_mlp_layers: the number of layers of the MLP, type: int\n",
        "    :param rnn_type: the type of RNN, type: str\n",
        "    :param bidirectional: whether to use bidirectional rnn, type: bool\n",
        "    :param activation: the activation type, type: str\n",
        "    :param dropout_rate: the probability of dropout, type: float\n",
        "    :param batch_norm: whether to enable batch normalization, type: bool\n",
        "    :param l2_reg: the weight for the L2 regularizer, type: str\n",
        "    :param loss: the training loss, type: str\n",
        "    :param optimizer: the optimizer, type: str\n",
        "    :param learning_rate: the learning rate for the optimizer, type: float\n",
        "    :param metric: the metric, type: str\n",
        "    return a RNN for text classification,\n",
        "    # activation document: https://keras.io/activations/\n",
        "    # dropout document: https://keras.io/layers/core/#dropout\n",
        "    # embedding document: https://keras.io/layers/embeddings/#embedding\n",
        "    # recurrent layers document: https://keras.io/layers/recurrent\n",
        "    # batch normalization document: https://keras.io/layers/normalization/\n",
        "    # losses document: https://keras.io/losses/\n",
        "    # optimizers document: https://keras.io/optimizers/\n",
        "    # metrics document: https://keras.io/metrics/\n",
        "    \"\"\"\n",
        "    x = Input(shape=(input_length,))\n",
        "    \n",
        "    ################################\n",
        "    ###### Word Representation #####\n",
        "    ################################\n",
        "    # word representation layer\n",
        "    if embedding_matrix is not None:\n",
        "        emb = Embedding(input_dim=vocab_size,\n",
        "                        output_dim=embedding_size,\n",
        "                        input_length=input_length,\n",
        "                        embeddings_initializer=keras.initializers.Constant(embedding_matrix),\n",
        "                        trainable=False)(x)\n",
        "    else:\n",
        "        emb = Embedding(input_dim=vocab_size,\n",
        "                        output_dim=embedding_size,\n",
        "                        input_length=input_length,\n",
        "                        embeddings_initializer=keras.initializers.TruncatedNormal(mean=0.0, stddev=0.1, seed=0))(x)\n",
        "    \n",
        "    ################################\n",
        "    ####### Recurrent Layers #######\n",
        "    ################################\n",
        "    # recurrent layers\n",
        "    if rnn_type == \"rnn\":\n",
        "        fn = SimpleRNN\n",
        "    elif rnn_type == \"lstm\":\n",
        "        fn = LSTM\n",
        "    elif rnn_type == \"gru\":\n",
        "        fn = GRU\n",
        "    else:\n",
        "        raise NotImplementedError\n",
        "    h = emb\n",
        "    for i in range(num_rnn_layers):\n",
        "        is_last = (i == num_rnn_layers-1)\n",
        "        if bidirectional:\n",
        "            h = Bidirectional(fn(hidden_size,\n",
        "                                 kernel_initializer=keras.initializers.glorot_uniform(seed=0),\n",
        "                                 recurrent_initializer=keras.initializers.Orthogonal(gain=1.0, seed=0),\n",
        "                                 return_sequences=not is_last))(h)\n",
        "        else:\n",
        "            h = fn(hidden_size,\n",
        "                   kernel_initializer=keras.initializers.glorot_uniform(seed=0),\n",
        "                   recurrent_initializer=keras.initializers.Orthogonal(gain=1.0, seed=0),\n",
        "                   return_sequences=not is_last)(h)\n",
        "        h = Dropout(dropout_rate, seed=0)(h)\n",
        "    \n",
        "    ################################\n",
        "    #### Fully Connected Layers ####\n",
        "    ################################\n",
        "    # multi-layer perceptron\n",
        "    for i in range(num_mlp_layers-1):\n",
        "        new_h = Dense(hidden_size,\n",
        "                      kernel_initializer=keras.initializers.he_normal(seed=0),\n",
        "                      bias_initializer=\"zeros\",\n",
        "                      kernel_regularizer=keras.regularizers.l2(l2_reg))(h)\n",
        "        # add batch normalization layer\n",
        "        if batch_norm:\n",
        "            new_h = BatchNormalization()(new_h)\n",
        "        # add residual connection\n",
        "        if i == 0:\n",
        "            h = new_h\n",
        "        else:\n",
        "            h = Add()([h, new_h])\n",
        "        # add activation\n",
        "        h = Activation(activation)(h)\n",
        "    y = Dense(output_size,\n",
        "              activation=\"softmax\",\n",
        "              kernel_initializer=keras.initializers.he_normal(seed=0),\n",
        "              bias_initializer=\"zeros\")(h)\n",
        "    \n",
        "    # set the loss, the optimizer, and the metric\n",
        "    if optimizer == \"SGD\":\n",
        "        optimizer = keras.optimizers.SGD(lr=learning_rate)\n",
        "    elif optimizer == \"RMSprop\":\n",
        "        optmizer = keras.optimizers.RMSprop(learning_rate=learning_rate)\n",
        "    elif optimizer == \"Adam\":\n",
        "        optmizer = keras.optimizers.Adam(learning_rate=learning_rate)\n",
        "    else:\n",
        "        raise NotImplementedError\n",
        "    model = Model(x, y)\n",
        "    model.compile(loss=loss, optimizer=optimizer, metrics=[metric])\n",
        "    \n",
        "    return model"
      ],
      "execution_count": 10,
      "outputs": []
    },
    {
      "cell_type": "markdown",
      "metadata": {
        "id": "ji667tHM4oC6"
      },
      "source": [
        "# Create Input Features"
      ]
    },
    {
      "cell_type": "code",
      "metadata": {
        "colab": {
          "base_uri": "https://localhost:8080/"
        },
        "id": "WEMY1eAX3KEv",
        "outputId": "fb345056-fe6f-4d4d-ae41-f74511ce5299"
      },
      "source": [
        "min_freq = 3\n",
        "\n",
        "# load data\n",
        "train_texts, train_labels = train_df[\"text\"], train_df[\"stars\"]\n",
        "valid_texts, valid_labels = valid_df[\"text\"], valid_df[\"stars\"]\n",
        "\n",
        "# extract features\n",
        "train_tokens = [tokenize(text) for text in train_texts]\n",
        "valid_tokens = [tokenize(text) for text in valid_texts]\n",
        "\n",
        "\n",
        "train_stemmed = [stem(tokens) for tokens in train_tokens]\n",
        "valid_stemmed = [stem(tokens) for tokens in valid_tokens]\n",
        "\n",
        "# If stopwords not used\n",
        "train_feats = train_stemmed\n",
        "valid_feats = valid_stemmed\n",
        "\n",
        "# filtering stopwords didn't help much\n",
        "# train_feats = [filter_stopwords(tokens) for tokens in train_stemmed]\n",
        "# valid_feats = [filter_stopwords(tokens) for tokens in valid_stemmed]\n",
        "\n",
        "# build a mapping from features to indices\n",
        "feats_dict = get_feats_dict(chain.from_iterable(train_feats), min_freq=min_freq)"
      ],
      "execution_count": 11,
      "outputs": [
        {
          "output_type": "stream",
          "text": [
            "Size of features: 9357\n"
          ],
          "name": "stdout"
        }
      ]
    },
    {
      "cell_type": "code",
      "metadata": {
        "id": "e96iHVrmK961"
      },
      "source": [
        "max_len = 100\n",
        "\n",
        "# build the feats_matrix\n",
        "# convert each example to a index vector, and then stack vectors as a matrix\n",
        "train_feats_matrix = np.vstack(\n",
        "    [get_index_vector(f, feats_dict, max_len) for f in train_feats])\n",
        "valid_feats_matrix = np.vstack(\n",
        "    [get_index_vector(f, feats_dict, max_len) for f in valid_feats])\n",
        "\n",
        "# convert labels to label_matrix\n",
        "num_classes = max(train_labels)\n",
        "# convert each label to a ont-hot vector, and then stack vectors as a matrix\n",
        "train_label_matrix = keras.utils.to_categorical(train_labels-1, num_classes=num_classes)\n",
        "valid_label_matrix = keras.utils.to_categorical(valid_labels-1, num_classes=num_classes)"
      ],
      "execution_count": 12,
      "outputs": []
    },
    {
      "cell_type": "markdown",
      "metadata": {
        "id": "RugNGpRhLYck"
      },
      "source": [
        "# RNN"
      ]
    },
    {
      "cell_type": "code",
      "metadata": {
        "colab": {
          "base_uri": "https://localhost:8080/"
        },
        "id": "qL6eVIAhLRcq",
        "outputId": "43ca03fe-668a-469c-8c46-7bdeec3e4dfa"
      },
      "source": [
        "os.makedirs(\"models\", exist_ok=True)\n",
        "model = build_RNN(input_length=max_len, vocab_size=len(feats_dict),\n",
        "                  embedding_size=100, hidden_size=100, output_size=num_classes,\n",
        "                  rnn_type=\"rnn\", num_rnn_layers=1, num_mlp_layers=2,\n",
        "                  activation=\"tanh\",\n",
        "                  batch_norm=True,\n",
        "                  l2_reg=0.005, dropout_rate=0.5)\n",
        "checkpointer = keras.callbacks.ModelCheckpoint(\n",
        "    filepath=os.path.join(\"models\", \"weights.hdf5\"),\n",
        "    monitor=\"val_accuracy\",\n",
        "    verbose=0,\n",
        "    save_best_only=True)\n",
        "earlystopping = keras.callbacks.EarlyStopping(\n",
        "    monitor='val_loss',\n",
        "    patience=5,\n",
        "    verbose=0)\n",
        "\n",
        "print(model.summary())\n",
        "\n",
        "np.random.seed(0)\n",
        "tf.random.set_seed(0)\n",
        "rnn_history = model.fit(train_feats_matrix, train_label_matrix,\n",
        "                    validation_split=0.1,\n",
        "                    epochs=100, batch_size=100, verbose=1,\n",
        "                    callbacks=[checkpointer, earlystopping])\n",
        "model = keras.models.load_model(os.path.join(\"models\", \"weights.hdf5\"))\n",
        "\n",
        "train_score = model.evaluate(train_feats_matrix, train_label_matrix,\n",
        "                             batch_size=100)\n",
        "valid_score = model.evaluate(valid_feats_matrix, valid_label_matrix,\n",
        "                            batch_size=100)\n",
        "print(\"training loss:\", train_score[0], \"training accuracy\", train_score[1])\n",
        "print(\"valid loss:\", valid_score[0], \"valid accuracy\", valid_score[1])"
      ],
      "execution_count": 33,
      "outputs": [
        {
          "output_type": "stream",
          "text": [
            "Model: \"model_7\"\n",
            "_________________________________________________________________\n",
            "Layer (type)                 Output Shape              Param #   \n",
            "=================================================================\n",
            "input_8 (InputLayer)         [(None, 100)]             0         \n",
            "_________________________________________________________________\n",
            "embedding_7 (Embedding)      (None, 100, 100)          935700    \n",
            "_________________________________________________________________\n",
            "simple_rnn_1 (SimpleRNN)     (None, 100)               20100     \n",
            "_________________________________________________________________\n",
            "dropout_7 (Dropout)          (None, 100)               0         \n",
            "_________________________________________________________________\n",
            "dense_14 (Dense)             (None, 100)               10100     \n",
            "_________________________________________________________________\n",
            "batch_normalization_7 (Batch (None, 100)               400       \n",
            "_________________________________________________________________\n",
            "activation_8 (Activation)    (None, 100)               0         \n",
            "_________________________________________________________________\n",
            "dense_15 (Dense)             (None, 5)                 505       \n",
            "=================================================================\n",
            "Total params: 966,805\n",
            "Trainable params: 966,605\n",
            "Non-trainable params: 200\n",
            "_________________________________________________________________\n",
            "None\n",
            "Epoch 1/100\n",
            "90/90 [==============================] - 9s 81ms/step - loss: 2.6605 - accuracy: 0.2339 - val_loss: 2.2979 - val_accuracy: 0.2950\n",
            "Epoch 2/100\n",
            "90/90 [==============================] - 7s 78ms/step - loss: 2.2453 - accuracy: 0.2599 - val_loss: 2.0804 - val_accuracy: 0.2250\n",
            "Epoch 3/100\n",
            "90/90 [==============================] - 7s 77ms/step - loss: 2.0176 - accuracy: 0.2850 - val_loss: 1.9241 - val_accuracy: 0.2610\n",
            "Epoch 4/100\n",
            "90/90 [==============================] - 7s 77ms/step - loss: 1.8598 - accuracy: 0.3082 - val_loss: 1.8625 - val_accuracy: 0.3170\n",
            "Epoch 5/100\n",
            "90/90 [==============================] - 7s 77ms/step - loss: 1.6700 - accuracy: 0.3935 - val_loss: 1.7686 - val_accuracy: 0.3250\n",
            "Epoch 6/100\n",
            "90/90 [==============================] - 7s 77ms/step - loss: 1.4575 - accuracy: 0.4617 - val_loss: 1.9604 - val_accuracy: 0.2320\n",
            "Epoch 7/100\n",
            "90/90 [==============================] - 7s 77ms/step - loss: 1.2431 - accuracy: 0.5349 - val_loss: 2.0503 - val_accuracy: 0.2640\n",
            "Epoch 8/100\n",
            "90/90 [==============================] - 7s 77ms/step - loss: 1.0484 - accuracy: 0.6180 - val_loss: 2.1285 - val_accuracy: 0.2770\n",
            "Epoch 9/100\n",
            "90/90 [==============================] - 7s 76ms/step - loss: 0.9522 - accuracy: 0.6489 - val_loss: 2.3461 - val_accuracy: 0.2370\n",
            "Epoch 10/100\n",
            "90/90 [==============================] - 7s 77ms/step - loss: 0.9112 - accuracy: 0.6691 - val_loss: 2.4571 - val_accuracy: 0.2520\n",
            "100/100 [==============================] - 1s 11ms/step - loss: 1.4660 - accuracy: 0.4726\n",
            "20/20 [==============================] - 0s 11ms/step - loss: 1.7207 - accuracy: 0.3390\n",
            "training loss: 1.4660001993179321 training accuracy 0.4726000130176544\n",
            "valid loss: 1.7207274436950684 valid accuracy 0.33899998664855957\n"
          ],
          "name": "stdout"
        }
      ]
    },
    {
      "cell_type": "markdown",
      "metadata": {
        "id": "RAnXP9DJfMvL"
      },
      "source": [
        "# LSTM"
      ]
    },
    {
      "cell_type": "code",
      "metadata": {
        "colab": {
          "base_uri": "https://localhost:8080/"
        },
        "id": "Q8i456KmLmuL",
        "outputId": "d698e17a-f954-4546-9a0a-ddb95a3833f4"
      },
      "source": [
        "os.makedirs(\"models\", exist_ok=True)\n",
        "model = build_RNN(input_length=max_len, vocab_size=len(feats_dict),\n",
        "                  embedding_size=100, hidden_size=100, output_size=num_classes,\n",
        "                  rnn_type=\"lstm\", num_rnn_layers=1, num_mlp_layers=2,\n",
        "                  activation=\"tanh\",\n",
        "                  batch_norm=True,\n",
        "                  l2_reg=0.005, dropout_rate=0.5)\n",
        "checkpointer = keras.callbacks.ModelCheckpoint(\n",
        "    filepath=os.path.join(\"models\", \"weights.hdf5\"),\n",
        "    monitor=\"val_accuracy\",\n",
        "    verbose=0,\n",
        "    save_best_only=True)\n",
        "earlystopping = keras.callbacks.EarlyStopping(\n",
        "    monitor='val_loss',\n",
        "    patience=5,\n",
        "    verbose=0)\n",
        "\n",
        "np.random.seed(0)\n",
        "tf.random.set_seed(0)\n",
        "lstm_history = model.fit(train_feats_matrix, train_label_matrix,\n",
        "                    validation_split=0.1,\n",
        "                    epochs=100, batch_size=100, verbose=0,\n",
        "                    callbacks=[checkpointer, earlystopping])\n",
        "model = keras.models.load_model(os.path.join(\"models\", \"weights.hdf5\"))\n",
        "\n",
        "train_score = model.evaluate(train_feats_matrix, train_label_matrix,\n",
        "                             batch_size=100)\n",
        "valid_score = model.evaluate(valid_feats_matrix, valid_label_matrix,\n",
        "                            batch_size=100)\n",
        "print(\"training loss:\", train_score[0], \"training accuracy\", train_score[1])\n",
        "print(\"valid loss:\", valid_score[0], \"valid accuracy\", valid_score[1])"
      ],
      "execution_count": 14,
      "outputs": [
        {
          "output_type": "stream",
          "text": [
            "100/100 [==============================] - 1s 6ms/step - loss: 0.7163 - accuracy: 0.7717\n",
            "20/20 [==============================] - 0s 6ms/step - loss: 1.4600 - accuracy: 0.5135\n",
            "training loss: 0.7163136005401611 training accuracy 0.7717000246047974\n",
            "valid loss: 1.4600024223327637 valid accuracy 0.5134999752044678\n"
          ],
          "name": "stdout"
        }
      ]
    },
    {
      "cell_type": "markdown",
      "metadata": {
        "id": "MFxbjW-RfSbL"
      },
      "source": [
        "# GRU"
      ]
    },
    {
      "cell_type": "code",
      "metadata": {
        "colab": {
          "base_uri": "https://localhost:8080/"
        },
        "id": "lzjGgns7fTNY",
        "outputId": "5334e2a4-aa3a-4777-d927-f2dfaab485d3"
      },
      "source": [
        "os.makedirs(\"models\", exist_ok=True)\n",
        "model = build_RNN(input_length=max_len, vocab_size=len(feats_dict),\n",
        "                  embedding_size=100, hidden_size=100, output_size=num_classes,\n",
        "                  rnn_type=\"gru\", num_rnn_layers=1, num_mlp_layers=2,\n",
        "                  activation=\"tanh\",\n",
        "                  batch_norm=True,\n",
        "                  l2_reg=0.005, dropout_rate=0.5)\n",
        "checkpointer = keras.callbacks.ModelCheckpoint(\n",
        "    filepath=os.path.join(\"models\", \"weights.hdf5\"),\n",
        "    monitor=\"val_accuracy\",\n",
        "    verbose=0,\n",
        "    save_best_only=True)\n",
        "earlystopping = keras.callbacks.EarlyStopping(\n",
        "    monitor='val_loss',\n",
        "    patience=5,\n",
        "    verbose=0)\n",
        "\n",
        "np.random.seed(0)\n",
        "tf.random.set_seed(0)\n",
        "gru_history = model.fit(train_feats_matrix, train_label_matrix,\n",
        "                    validation_split=0.1,\n",
        "                    epochs=100, batch_size=100, verbose=0,\n",
        "                    callbacks=[checkpointer, earlystopping])\n",
        "model = keras.models.load_model(os.path.join(\"models\", \"weights.hdf5\"))\n",
        "\n",
        "train_score = model.evaluate(train_feats_matrix, train_label_matrix,\n",
        "                             batch_size=100)\n",
        "valid_score = model.evaluate(valid_feats_matrix, valid_label_matrix,\n",
        "                            batch_size=100)\n",
        "print(\"training loss:\", train_score[0], \"training accuracy\", train_score[1])\n",
        "print(\"valid loss:\", valid_score[0], \"valid accuracy\", valid_score[1])"
      ],
      "execution_count": 15,
      "outputs": [
        {
          "output_type": "stream",
          "text": [
            "100/100 [==============================] - 1s 6ms/step - loss: 0.5286 - accuracy: 0.8453\n",
            "20/20 [==============================] - 0s 5ms/step - loss: 1.8844 - accuracy: 0.4880\n",
            "training loss: 0.5286101698875427 training accuracy 0.845300018787384\n",
            "valid loss: 1.8844343423843384 valid accuracy 0.4880000054836273\n"
          ],
          "name": "stdout"
        }
      ]
    },
    {
      "cell_type": "markdown",
      "metadata": {
        "id": "lTQoH5isfrpo"
      },
      "source": [
        "RNN vs LSTM vs GRU"
      ]
    },
    {
      "cell_type": "code",
      "metadata": {
        "colab": {
          "base_uri": "https://localhost:8080/",
          "height": 283
        },
        "id": "FHvBzuHcfXJF",
        "outputId": "9fcf075b-e46d-4ab4-97a2-d8f2bf81c425"
      },
      "source": [
        "plt.figure(figsize=(10,4))\n",
        "plt.subplot(1,2,1)\n",
        "plt.plot(rnn_history.history[\"loss\"], label=\"RNN-training\", color=\"blue\", linestyle=\"dashed\")\n",
        "plt.plot(rnn_history.history[\"val_loss\"], label=\"RNN-validation\", color=\"blue\")\n",
        "plt.plot(lstm_history.history[\"loss\"], label=\"LSTM-training\", color=\"orange\", linestyle=\"dashed\")\n",
        "plt.plot(lstm_history.history[\"val_loss\"], label=\"LSTM-validation\", color=\"orange\")\n",
        "plt.plot(gru_history.history[\"loss\"], label=\"GRU-training\", color=\"gray\", linestyle=\"dashed\")\n",
        "plt.plot(gru_history.history[\"val_loss\"], label=\"GRU-validation\", color=\"gray\")\n",
        "plt.xlabel(\"Iteration\")\n",
        "plt.ylabel(\"Loss\")\n",
        "plt.legend()\n",
        "plt.subplot(1,2,2)\n",
        "plt.plot(rnn_history.history[\"accuracy\"], label=\"RNN-training\", color=\"blue\", linestyle=\"dashed\")\n",
        "plt.plot(rnn_history.history[\"val_accuracy\"], label=\"RNN-validation\", color=\"blue\")\n",
        "plt.plot(lstm_history.history[\"accuracy\"], label=\"LSTM-training\", color=\"orange\", linestyle=\"dashed\")\n",
        "plt.plot(lstm_history.history[\"val_accuracy\"], label=\"LSTM-validation\", color=\"orange\")\n",
        "plt.plot(gru_history.history[\"accuracy\"], label=\"GRU-training\", color=\"gray\", linestyle=\"dashed\")\n",
        "plt.plot(gru_history.history[\"val_accuracy\"], label=\"GRU-validation\", color=\"gray\")\n",
        "plt.xlabel(\"Iteration\")\n",
        "plt.ylabel(\"Accuracy\")\n",
        "plt.legend()\n",
        "plt.show()"
      ],
      "execution_count": 16,
      "outputs": [
        {
          "output_type": "display_data",
          "data": {
            "image/png": "[encoded data removed]",
            "text/plain": [
              "<Figure size 720x288 with 2 Axes>"
            ]
          },
          "metadata": {
            "tags": [],
            "needs_background": "light"
          }
        }
      ]
    },
    {
      "cell_type": "markdown",
      "metadata": {
        "id": "H4G9X-5mf3kQ"
      },
      "source": [
        "# Bidirectional LSTM"
      ]
    },
    {
      "cell_type": "code",
      "metadata": {
        "colab": {
          "base_uri": "https://localhost:8080/"
        },
        "id": "YpjL7moSfvkG",
        "outputId": "b75f1e35-b928-4b0d-8654-4a360b7239c2"
      },
      "source": [
        "os.makedirs(\"models\", exist_ok=True)\n",
        "model = build_RNN(input_length=max_len, vocab_size=len(feats_dict),\n",
        "                  embedding_size=100, hidden_size=100, output_size=num_classes,\n",
        "                  rnn_type=\"lstm\", num_rnn_layers=1, bidirectional=True, num_mlp_layers=2,\n",
        "                  activation=\"tanh\",\n",
        "                  batch_norm=True,\n",
        "                  l2_reg=0.005, dropout_rate=0.5)\n",
        "checkpointer = keras.callbacks.ModelCheckpoint(\n",
        "    filepath=os.path.join(\"models\", \"weights.hdf5\"),\n",
        "    monitor=\"val_accuracy\",\n",
        "    verbose=0,\n",
        "    save_best_only=True)\n",
        "earlystopping = keras.callbacks.EarlyStopping(\n",
        "    monitor='val_loss',\n",
        "    patience=5,\n",
        "    verbose=0)\n",
        "\n",
        "np.random.seed(0)\n",
        "tf.random.set_seed(0)\n",
        "bilstm_history = model.fit(train_feats_matrix, train_label_matrix,\n",
        "                    validation_split=0.1,\n",
        "                    epochs=100, batch_size=100, verbose=0,\n",
        "                    callbacks=[checkpointer, earlystopping])\n",
        "model = keras.models.load_model(os.path.join(\"models\", \"weights.hdf5\"))\n",
        "\n",
        "train_score = model.evaluate(train_feats_matrix, train_label_matrix,\n",
        "                             batch_size=100)\n",
        "valid_score = model.evaluate(valid_feats_matrix, valid_label_matrix,\n",
        "                            batch_size=100)\n",
        "print(\"training loss:\", train_score[0], \"training accuracy\", train_score[1])\n",
        "print(\"valid loss:\", valid_score[0], \"valid accuracy\", valid_score[1])"
      ],
      "execution_count": 47,
      "outputs": [
        {
          "output_type": "stream",
          "text": [
            "100/100 [==============================] - 2s 8ms/step - loss: 0.9229 - accuracy: 0.7652\n",
            "20/20 [==============================] - 0s 9ms/step - loss: 1.3066 - accuracy: 0.5330\n",
            "training loss: 0.9229044914245605 training accuracy 0.7652000188827515\n",
            "valid loss: 1.3066401481628418 valid accuracy 0.5329999923706055\n"
          ],
          "name": "stdout"
        }
      ]
    },
    {
      "cell_type": "code",
      "metadata": {
        "colab": {
          "base_uri": "https://localhost:8080/",
          "height": 279
        },
        "id": "P4z8ey8qgAFO",
        "outputId": "01397a82-665c-4f4b-94a5-a4a70f34a3f3"
      },
      "source": [
        "plt.figure(figsize=(10,4))\n",
        "plt.subplot(1,2,1)\n",
        "plt.plot(lstm_history.history[\"loss\"], label=\"LSTM-training\", color=\"blue\", linestyle=\"dashed\")\n",
        "plt.plot(lstm_history.history[\"val_loss\"], label=\"LSTM-validation\", color=\"blue\")\n",
        "plt.plot(bilstm_history.history[\"loss\"], label=\"BiLSTM-training\", color=\"orange\", linestyle=\"dashed\")\n",
        "plt.plot(bilstm_history.history[\"val_loss\"], label=\"BiLSTM-validation\", color=\"orange\")\n",
        "plt.xlabel(\"Iteration\")\n",
        "plt.ylabel(\"Loss\")\n",
        "plt.legend()\n",
        "plt.subplot(1,2,2)\n",
        "plt.plot(lstm_history.history[\"accuracy\"], label=\"LSTM-training\", color=\"blue\", linestyle=\"dashed\")\n",
        "plt.plot(lstm_history.history[\"val_accuracy\"], label=\"LSTM-validation\", color=\"blue\")\n",
        "plt.plot(bilstm_history.history[\"accuracy\"], label=\"BiLSTM-training\", color=\"orange\", linestyle=\"dashed\")\n",
        "plt.plot(bilstm_history.history[\"val_accuracy\"], label=\"BiLSTM-validation\", color=\"orange\")\n",
        "plt.xlabel(\"Iteration\")\n",
        "plt.ylabel(\"Accuracy\")\n",
        "plt.legend()\n",
        "plt.show()"
      ],
      "execution_count": 48,
      "outputs": [
        {
          "output_type": "display_data",
          "data": {
            "image/png": "[encoded data removed]",
            "text/plain": [
              "<Figure size 720x288 with 2 Axes>"
            ]
          },
          "metadata": {
            "tags": [],
            "needs_background": "light"
          }
        }
      ]
    },
    {
      "cell_type": "markdown",
      "metadata": {
        "id": "qsIHGwUv7zdM"
      },
      "source": [
        "# Word2Vec"
      ]
    },
    {
      "cell_type": "markdown",
      "metadata": {
        "id": "h85I-oTzg7U0"
      },
      "source": [
        "Add word2vec embeddings and tune hyperparameters"
      ]
    },
    {
      "cell_type": "code",
      "metadata": {
        "colab": {
          "base_uri": "https://localhost:8080/"
        },
        "id": "s03zdv3dXv19",
        "outputId": "06b14fb2-db68-440e-f562-91d72697d7b3"
      },
      "source": [
        "!wget https://github.com/facebookresearch/fastText/archive/v0.9.2.zip\n",
        "!unzip v0.9.2.zip\n",
        "%cd fastText-0.9.2\n",
        "!make"
      ],
      "execution_count": 19,
      "outputs": [
        {
          "output_type": "stream",
          "text": [
            "--2021-04-02 06:34:06--  https://github.com/facebookresearch/fastText/archive/v0.9.2.zip\n",
            "Resolving github.com (github.com)... 52.192.72.89\n",
            "Connecting to github.com (github.com)|52.192.72.89|:443... connected.\n",
            "HTTP request sent, awaiting response... 302 Found\n",
            "Location: https://codeload.github.com/facebookresearch/fastText/zip/v0.9.2 [following]\n",
            "--2021-04-02 06:34:07--  https://codeload.github.com/facebookresearch/fastText/zip/v0.9.2\n",
            "Resolving codeload.github.com (codeload.github.com)... 52.68.31.213\n",
            "Connecting to codeload.github.com (codeload.github.com)|52.68.31.213|:443... connected.\n",
            "HTTP request sent, awaiting response... 200 OK\n",
            "Length: 4369852 (4.2M) [application/zip]\n",
            "Saving to: ‘v0.9.2.zip’\n",
            "\n",
            "v0.9.2.zip          100%[===================>]   4.17M  12.3MB/s    in 0.3s    \n",
            "\n",
            "2021-04-02 06:34:07 (12.3 MB/s) - ‘v0.9.2.zip’ saved [4369852/4369852]\n",
            "\n",
            "Archive:  v0.9.2.zip\n",
            "5b5943c118b0ec5fb9cd8d20587de2b2d3966dfe\n",
            "   creating: fastText-0.9.2/\n",
            "   creating: fastText-0.9.2/.circleci/\n",
            "  inflating: fastText-0.9.2/.circleci/cmake_test.sh  \n",
            "  inflating: fastText-0.9.2/.circleci/config.yml  \n",
            "  inflating: fastText-0.9.2/.circleci/gcc_test.sh  \n",
            "  inflating: fastText-0.9.2/.circleci/pip_test.sh  \n",
            "  inflating: fastText-0.9.2/.circleci/pull_data.sh  \n",
            "  inflating: fastText-0.9.2/.circleci/python_test.sh  \n",
            "  inflating: fastText-0.9.2/.circleci/run_locally.sh  \n",
            "  inflating: fastText-0.9.2/.circleci/setup_circleimg.sh  \n",
            "  inflating: fastText-0.9.2/.circleci/setup_debian.sh  \n",
            "  inflating: fastText-0.9.2/.gitignore  \n",
            "  inflating: fastText-0.9.2/CMakeLists.txt  \n",
            "  inflating: fastText-0.9.2/CODE_OF_CONDUCT.md  \n",
            "  inflating: fastText-0.9.2/CONTRIBUTING.md  \n",
            "  inflating: fastText-0.9.2/LICENSE  \n",
            "  inflating: fastText-0.9.2/MANIFEST.in  \n",
            "  inflating: fastText-0.9.2/Makefile  \n",
            "  inflating: fastText-0.9.2/README.md  \n",
            "   creating: fastText-0.9.2/alignment/\n",
            "  inflating: fastText-0.9.2/alignment/README.md  \n",
            "  inflating: fastText-0.9.2/alignment/align.py  \n",
            "  inflating: fastText-0.9.2/alignment/eval.py  \n",
            "  inflating: fastText-0.9.2/alignment/example.sh  \n",
            "  inflating: fastText-0.9.2/alignment/unsup_align.py  \n",
            "  inflating: fastText-0.9.2/alignment/unsup_multialign.py  \n",
            "  inflating: fastText-0.9.2/alignment/utils.py  \n",
            "  inflating: fastText-0.9.2/classification-example.sh  \n",
            "  inflating: fastText-0.9.2/classification-results.sh  \n",
            "   creating: fastText-0.9.2/crawl/\n",
            "  inflating: fastText-0.9.2/crawl/README.md  \n",
            "  inflating: fastText-0.9.2/crawl/dedup.cc  \n",
            "  inflating: fastText-0.9.2/crawl/download_crawl.sh  \n",
            "  inflating: fastText-0.9.2/crawl/filter_dedup.sh  \n",
            "  inflating: fastText-0.9.2/crawl/filter_utf8.cc  \n",
            "  inflating: fastText-0.9.2/crawl/process_wet_file.sh  \n",
            "   creating: fastText-0.9.2/docs/\n",
            "  inflating: fastText-0.9.2/docs/aligned-vectors.md  \n",
            "  inflating: fastText-0.9.2/docs/api.md  \n",
            "  inflating: fastText-0.9.2/docs/autotune.md  \n",
            "  inflating: fastText-0.9.2/docs/cheatsheet.md  \n",
            "  inflating: fastText-0.9.2/docs/crawl-vectors.md  \n",
            "  inflating: fastText-0.9.2/docs/dataset.md  \n",
            "  inflating: fastText-0.9.2/docs/english-vectors.md  \n",
            "  inflating: fastText-0.9.2/docs/faqs.md  \n",
            "  inflating: fastText-0.9.2/docs/language-identification.md  \n",
            "  inflating: fastText-0.9.2/docs/options.md  \n",
            "  inflating: fastText-0.9.2/docs/pretrained-vectors.md  \n",
            "  inflating: fastText-0.9.2/docs/python-module.md  \n",
            "  inflating: fastText-0.9.2/docs/references.md  \n",
            "  inflating: fastText-0.9.2/docs/supervised-models.md  \n",
            "  inflating: fastText-0.9.2/docs/supervised-tutorial.md  \n",
            "  inflating: fastText-0.9.2/docs/support.md  \n",
            "  inflating: fastText-0.9.2/docs/unsupervised-tutorials.md  \n",
            "  inflating: fastText-0.9.2/docs/webassembly-module.md  \n",
            "  inflating: fastText-0.9.2/download_model.py  \n",
            "  inflating: fastText-0.9.2/eval.py  \n",
            "  inflating: fastText-0.9.2/fasttext.pc.in  \n",
            "  inflating: fastText-0.9.2/get-wikimedia.sh  \n",
            "   creating: fastText-0.9.2/python/\n",
            "  inflating: fastText-0.9.2/python/README.md  \n",
            "  inflating: fastText-0.9.2/python/README.rst  \n",
            "   creating: fastText-0.9.2/python/benchmarks/\n",
            "  inflating: fastText-0.9.2/python/benchmarks/README.rst  \n",
            "  inflating: fastText-0.9.2/python/benchmarks/get_word_vector.py  \n",
            "   creating: fastText-0.9.2/python/doc/\n",
            "   creating: fastText-0.9.2/python/doc/examples/\n",
            "  inflating: fastText-0.9.2/python/doc/examples/FastTextEmbeddingBag.py  \n",
            "  inflating: fastText-0.9.2/python/doc/examples/bin_to_vec.py  \n",
            "  inflating: fastText-0.9.2/python/doc/examples/compute_accuracy.py  \n",
            "  inflating: fastText-0.9.2/python/doc/examples/get_vocab.py  \n",
            "  inflating: fastText-0.9.2/python/doc/examples/train_supervised.py  \n",
            "  inflating: fastText-0.9.2/python/doc/examples/train_unsupervised.py  \n",
            "   creating: fastText-0.9.2/python/fasttext_module/\n",
            "   creating: fastText-0.9.2/python/fasttext_module/fasttext/\n",
            "  inflating: fastText-0.9.2/python/fasttext_module/fasttext/FastText.py  \n",
            "  inflating: fastText-0.9.2/python/fasttext_module/fasttext/__init__.py  \n",
            "   creating: fastText-0.9.2/python/fasttext_module/fasttext/pybind/\n",
            "  inflating: fastText-0.9.2/python/fasttext_module/fasttext/pybind/fasttext_pybind.cc  \n",
            "   creating: fastText-0.9.2/python/fasttext_module/fasttext/tests/\n",
            "  inflating: fastText-0.9.2/python/fasttext_module/fasttext/tests/__init__.py  \n",
            "  inflating: fastText-0.9.2/python/fasttext_module/fasttext/tests/test_configurations.py  \n",
            "  inflating: fastText-0.9.2/python/fasttext_module/fasttext/tests/test_script.py  \n",
            "   creating: fastText-0.9.2/python/fasttext_module/fasttext/util/\n",
            "  inflating: fastText-0.9.2/python/fasttext_module/fasttext/util/__init__.py  \n",
            "  inflating: fastText-0.9.2/python/fasttext_module/fasttext/util/util.py  \n",
            "  inflating: fastText-0.9.2/quantization-example.sh  \n",
            "  inflating: fastText-0.9.2/reduce_model.py  \n",
            "  inflating: fastText-0.9.2/runtests.py  \n",
            "   creating: fastText-0.9.2/scripts/\n",
            "   creating: fastText-0.9.2/scripts/kbcompletion/\n",
            "  inflating: fastText-0.9.2/scripts/kbcompletion/README.md  \n",
            "  inflating: fastText-0.9.2/scripts/kbcompletion/data.sh  \n",
            "  inflating: fastText-0.9.2/scripts/kbcompletion/eval.cpp  \n",
            "  inflating: fastText-0.9.2/scripts/kbcompletion/fb15k.sh  \n",
            "  inflating: fastText-0.9.2/scripts/kbcompletion/fb15k237.sh  \n",
            "  inflating: fastText-0.9.2/scripts/kbcompletion/svo.sh  \n",
            "  inflating: fastText-0.9.2/scripts/kbcompletion/wn18.sh  \n",
            "   creating: fastText-0.9.2/scripts/quantization/\n",
            "  inflating: fastText-0.9.2/scripts/quantization/quantization-results.sh  \n",
            " extracting: fastText-0.9.2/setup.cfg  \n",
            "  inflating: fastText-0.9.2/setup.py  \n",
            "   creating: fastText-0.9.2/src/\n",
            "  inflating: fastText-0.9.2/src/args.cc  \n",
            "  inflating: fastText-0.9.2/src/args.h  \n",
            "  inflating: fastText-0.9.2/src/autotune.cc  \n",
            "  inflating: fastText-0.9.2/src/autotune.h  \n",
            "  inflating: fastText-0.9.2/src/densematrix.cc  \n",
            "  inflating: fastText-0.9.2/src/densematrix.h  \n",
            "  inflating: fastText-0.9.2/src/dictionary.cc  \n",
            "  inflating: fastText-0.9.2/src/dictionary.h  \n",
            "  inflating: fastText-0.9.2/src/fasttext.cc  \n",
            "  inflating: fastText-0.9.2/src/fasttext.h  \n",
            "  inflating: fastText-0.9.2/src/loss.cc  \n",
            "  inflating: fastText-0.9.2/src/loss.h  \n",
            "  inflating: fastText-0.9.2/src/main.cc  \n",
            "  inflating: fastText-0.9.2/src/matrix.cc  \n",
            "  inflating: fastText-0.9.2/src/matrix.h  \n",
            "  inflating: fastText-0.9.2/src/meter.cc  \n",
            "  inflating: fastText-0.9.2/src/meter.h  \n",
            "  inflating: fastText-0.9.2/src/model.cc  \n",
            "  inflating: fastText-0.9.2/src/model.h  \n",
            "  inflating: fastText-0.9.2/src/productquantizer.cc  \n",
            "  inflating: fastText-0.9.2/src/productquantizer.h  \n",
            "  inflating: fastText-0.9.2/src/quantmatrix.cc  \n",
            "  inflating: fastText-0.9.2/src/quantmatrix.h  \n",
            "  inflating: fastText-0.9.2/src/real.h  \n",
            "  inflating: fastText-0.9.2/src/utils.cc  \n",
            "  inflating: fastText-0.9.2/src/utils.h  \n",
            "  inflating: fastText-0.9.2/src/vector.cc  \n",
            "  inflating: fastText-0.9.2/src/vector.h  \n",
            "   creating: fastText-0.9.2/tests/\n",
            "  inflating: fastText-0.9.2/tests/fetch_test_data.sh  \n",
            "   creating: fastText-0.9.2/webassembly/\n",
            "  inflating: fastText-0.9.2/webassembly/README.md  \n",
            "   creating: fastText-0.9.2/webassembly/doc/\n",
            "   creating: fastText-0.9.2/webassembly/doc/examples/\n",
            "  inflating: fastText-0.9.2/webassembly/doc/examples/misc.html  \n",
            "  inflating: fastText-0.9.2/webassembly/doc/examples/predict.html  \n",
            "  inflating: fastText-0.9.2/webassembly/doc/examples/train_supervised.html  \n",
            "  inflating: fastText-0.9.2/webassembly/doc/examples/train_unsupervised.html  \n",
            "  inflating: fastText-0.9.2/webassembly/fasttext.js  \n",
            "  inflating: fastText-0.9.2/webassembly/fasttext_wasm.cc  \n",
            "   creating: fastText-0.9.2/website/\n",
            "  inflating: fastText-0.9.2/website/README.md  \n",
            "   creating: fastText-0.9.2/website/blog/\n",
            "  inflating: fastText-0.9.2/website/blog/2016-08-18-blog-post.md  \n",
            "  inflating: fastText-0.9.2/website/blog/2017-05-02-blog-post.md  \n",
            "  inflating: fastText-0.9.2/website/blog/2017-10-02-blog-post.md  \n",
            "  inflating: fastText-0.9.2/website/blog/2019-06-25-blog-post.md  \n",
            "   creating: fastText-0.9.2/website/core/\n",
            "  inflating: fastText-0.9.2/website/core/Footer.js  \n",
            "  inflating: fastText-0.9.2/website/package.json  \n",
            "   creating: fastText-0.9.2/website/pages/\n",
            "   creating: fastText-0.9.2/website/pages/en/\n",
            "  inflating: fastText-0.9.2/website/pages/en/index.js  \n",
            "  inflating: fastText-0.9.2/website/sidebars.json  \n",
            "  inflating: fastText-0.9.2/website/siteConfig.js  \n",
            "   creating: fastText-0.9.2/website/static/\n",
            "   creating: fastText-0.9.2/website/static/docs/\n",
            "   creating: fastText-0.9.2/website/static/docs/en/\n",
            "   creating: fastText-0.9.2/website/static/docs/en/html/\n",
            " extracting: fastText-0.9.2/website/static/docs/en/html/.classfasttext_1_1QMatrix-members.html.i4eKqy  \n",
            "  inflating: fastText-0.9.2/website/static/docs/en/html/annotated.html  \n",
            "  inflating: fastText-0.9.2/website/static/docs/en/html/annotated_dup.js  \n",
            "  inflating: fastText-0.9.2/website/static/docs/en/html/args_8cc.html  \n",
            "  inflating: fastText-0.9.2/website/static/docs/en/html/args_8h.html  \n",
            "  inflating: fastText-0.9.2/website/static/docs/en/html/args_8h.js  \n",
            "  inflating: fastText-0.9.2/website/static/docs/en/html/args_8h_source.html  \n",
            " extracting: fastText-0.9.2/website/static/docs/en/html/bc_s.png  \n",
            "  inflating: fastText-0.9.2/website/static/docs/en/html/bdwn.png  \n",
            "  inflating: fastText-0.9.2/website/static/docs/en/html/classes.html  \n",
            "  inflating: fastText-0.9.2/website/static/docs/en/html/classfasttext_1_1Args-members.html  \n",
            "  inflating: fastText-0.9.2/website/static/docs/en/html/classfasttext_1_1Args.html  \n",
            "  inflating: fastText-0.9.2/website/static/docs/en/html/classfasttext_1_1Args.js  \n",
            "  inflating: fastText-0.9.2/website/static/docs/en/html/classfasttext_1_1Dictionary-members.html  \n",
            "  inflating: fastText-0.9.2/website/static/docs/en/html/classfasttext_1_1Dictionary.html  \n",
            "  inflating: fastText-0.9.2/website/static/docs/en/html/classfasttext_1_1Dictionary.js  \n",
            "  inflating: fastText-0.9.2/website/static/docs/en/html/classfasttext_1_1FastText-members.html  \n",
            "  inflating: fastText-0.9.2/website/static/docs/en/html/classfasttext_1_1FastText.html  \n",
            "  inflating: fastText-0.9.2/website/static/docs/en/html/classfasttext_1_1FastText.js  \n",
            "  inflating: fastText-0.9.2/website/static/docs/en/html/classfasttext_1_1Matrix-members.html  \n",
            "  inflating: fastText-0.9.2/website/static/docs/en/html/classfasttext_1_1Matrix.html  \n",
            "  inflating: fastText-0.9.2/website/static/docs/en/html/classfasttext_1_1Matrix.js  \n",
            "  inflating: fastText-0.9.2/website/static/docs/en/html/classfasttext_1_1Model-members.html  \n",
            "  inflating: fastText-0.9.2/website/static/docs/en/html/classfasttext_1_1Model.html  \n",
            "  inflating: fastText-0.9.2/website/static/docs/en/html/classfasttext_1_1Model.js  \n",
            "  inflating: fastText-0.9.2/website/static/docs/en/html/classfasttext_1_1ProductQuantizer-members.html  \n",
            "  inflating: fastText-0.9.2/website/static/docs/en/html/classfasttext_1_1ProductQuantizer.html  \n",
            "  inflating: fastText-0.9.2/website/static/docs/en/html/classfasttext_1_1ProductQuantizer.js  \n",
            "  inflating: fastText-0.9.2/website/static/docs/en/html/classfasttext_1_1QMatrix-members.html  \n",
            "  inflating: fastText-0.9.2/website/static/docs/en/html/classfasttext_1_1QMatrix.html  \n",
            "  inflating: fastText-0.9.2/website/static/docs/en/html/classfasttext_1_1QMatrix.js  \n",
            "  inflating: fastText-0.9.2/website/static/docs/en/html/classfasttext_1_1Vector-members.html  \n",
            "  inflating: fastText-0.9.2/website/static/docs/en/html/classfasttext_1_1Vector.html  \n",
            "  inflating: fastText-0.9.2/website/static/docs/en/html/classfasttext_1_1Vector.js  \n",
            "  inflating: fastText-0.9.2/website/static/docs/en/html/closed.png  \n",
            "  inflating: fastText-0.9.2/website/static/docs/en/html/dictionary_8cc.html  \n",
            "  inflating: fastText-0.9.2/website/static/docs/en/html/dictionary_8h.html  \n",
            "  inflating: fastText-0.9.2/website/static/docs/en/html/dictionary_8h.js  \n",
            "  inflating: fastText-0.9.2/website/static/docs/en/html/dictionary_8h_source.html  \n",
            "  inflating: fastText-0.9.2/website/static/docs/en/html/dir_68267d1309a1af8e8297ef4c3efbcdba.html  \n",
            "  inflating: fastText-0.9.2/website/static/docs/en/html/dir_68267d1309a1af8e8297ef4c3efbcdba.js  \n",
            " extracting: fastText-0.9.2/website/static/docs/en/html/doc.png  \n",
            "  inflating: fastText-0.9.2/website/static/docs/en/html/doxygen.css  \n",
            " extracting: fastText-0.9.2/website/static/docs/en/html/doxygen.png  \n",
            "  inflating: fastText-0.9.2/website/static/docs/en/html/dynsections.js  \n",
            "  inflating: fastText-0.9.2/website/static/docs/en/html/fasttext_8cc.html  \n",
            "  inflating: fastText-0.9.2/website/static/docs/en/html/fasttext_8h.html  \n",
            "  inflating: fastText-0.9.2/website/static/docs/en/html/fasttext_8h.js  \n",
            "  inflating: fastText-0.9.2/website/static/docs/en/html/fasttext_8h_source.html  \n",
            "  inflating: fastText-0.9.2/website/static/docs/en/html/favicon.png  \n",
            "  inflating: fastText-0.9.2/website/static/docs/en/html/files.html  \n",
            "  inflating: fastText-0.9.2/website/static/docs/en/html/files.js  \n",
            " extracting: fastText-0.9.2/website/static/docs/en/html/folderclosed.png  \n",
            " extracting: fastText-0.9.2/website/static/docs/en/html/folderopen.png  \n",
            "  inflating: fastText-0.9.2/website/static/docs/en/html/functions.html  \n",
            "  inflating: fastText-0.9.2/website/static/docs/en/html/functions_0x7e.html  \n",
            "  inflating: fastText-0.9.2/website/static/docs/en/html/functions_b.html  \n",
            "  inflating: fastText-0.9.2/website/static/docs/en/html/functions_c.html  \n",
            "  inflating: fastText-0.9.2/website/static/docs/en/html/functions_d.html  \n",
            "  inflating: fastText-0.9.2/website/static/docs/en/html/functions_dup.js  \n",
            "  inflating: fastText-0.9.2/website/static/docs/en/html/functions_e.html  \n",
            "  inflating: fastText-0.9.2/website/static/docs/en/html/functions_f.html  \n",
            "  inflating: fastText-0.9.2/website/static/docs/en/html/functions_func.html  \n",
            "  inflating: fastText-0.9.2/website/static/docs/en/html/functions_g.html  \n",
            "  inflating: fastText-0.9.2/website/static/docs/en/html/functions_h.html  \n",
            "  inflating: fastText-0.9.2/website/static/docs/en/html/functions_i.html  \n",
            "  inflating: fastText-0.9.2/website/static/docs/en/html/functions_k.html  \n",
            "  inflating: fastText-0.9.2/website/static/docs/en/html/functions_l.html  \n",
            "  inflating: fastText-0.9.2/website/static/docs/en/html/functions_m.html  \n",
            "  inflating: fastText-0.9.2/website/static/docs/en/html/functions_n.html  \n",
            "  inflating: fastText-0.9.2/website/static/docs/en/html/functions_o.html  \n",
            "  inflating: fastText-0.9.2/website/static/docs/en/html/functions_p.html  \n",
            "  inflating: fastText-0.9.2/website/static/docs/en/html/functions_q.html  \n",
            "  inflating: fastText-0.9.2/website/static/docs/en/html/functions_r.html  \n",
            "  inflating: fastText-0.9.2/website/static/docs/en/html/functions_s.html  \n",
            "  inflating: fastText-0.9.2/website/static/docs/en/html/functions_t.html  \n",
            "  inflating: fastText-0.9.2/website/static/docs/en/html/functions_u.html  \n",
            "  inflating: fastText-0.9.2/website/static/docs/en/html/functions_v.html  \n",
            "  inflating: fastText-0.9.2/website/static/docs/en/html/functions_vars.html  \n",
            "  inflating: fastText-0.9.2/website/static/docs/en/html/functions_w.html  \n",
            "  inflating: fastText-0.9.2/website/static/docs/en/html/functions_z.html  \n",
            "  inflating: fastText-0.9.2/website/static/docs/en/html/globals.html  \n",
            "  inflating: fastText-0.9.2/website/static/docs/en/html/globals_defs.html  \n",
            "  inflating: fastText-0.9.2/website/static/docs/en/html/globals_func.html  \n",
            "  inflating: fastText-0.9.2/website/static/docs/en/html/index.html  \n",
            "  inflating: fastText-0.9.2/website/static/docs/en/html/jquery.js  \n",
            "  inflating: fastText-0.9.2/website/static/docs/en/html/main_8cc.html  \n",
            "  inflating: fastText-0.9.2/website/static/docs/en/html/main_8cc.js  \n",
            "  inflating: fastText-0.9.2/website/static/docs/en/html/matrix_8cc.html  \n",
            "  inflating: fastText-0.9.2/website/static/docs/en/html/matrix_8h.html  \n",
            "  inflating: fastText-0.9.2/website/static/docs/en/html/matrix_8h_source.html  \n",
            "  inflating: fastText-0.9.2/website/static/docs/en/html/menu.js  \n",
            "  inflating: fastText-0.9.2/website/static/docs/en/html/menudata.js  \n",
            "  inflating: fastText-0.9.2/website/static/docs/en/html/model_8cc.html  \n",
            "  inflating: fastText-0.9.2/website/static/docs/en/html/model_8h.html  \n",
            "  inflating: fastText-0.9.2/website/static/docs/en/html/model_8h.js  \n",
            "  inflating: fastText-0.9.2/website/static/docs/en/html/model_8h_source.html  \n",
            "  inflating: fastText-0.9.2/website/static/docs/en/html/namespacefasttext.html  \n",
            "  inflating: fastText-0.9.2/website/static/docs/en/html/namespacefasttext.js  \n",
            "  inflating: fastText-0.9.2/website/static/docs/en/html/namespacefasttext_1_1utils.html  \n",
            "  inflating: fastText-0.9.2/website/static/docs/en/html/namespacemembers.html  \n",
            "  inflating: fastText-0.9.2/website/static/docs/en/html/namespacemembers_enum.html  \n",
            "  inflating: fastText-0.9.2/website/static/docs/en/html/namespacemembers_func.html  \n",
            "  inflating: fastText-0.9.2/website/static/docs/en/html/namespacemembers_type.html  \n",
            "  inflating: fastText-0.9.2/website/static/docs/en/html/namespaces.html  \n",
            "  inflating: fastText-0.9.2/website/static/docs/en/html/namespaces.js  \n",
            " extracting: fastText-0.9.2/website/static/docs/en/html/nav_f.png  \n",
            "  inflating: fastText-0.9.2/website/static/docs/en/html/nav_g.png  \n",
            "  inflating: fastText-0.9.2/website/static/docs/en/html/nav_h.png  \n",
            "  inflating: fastText-0.9.2/website/static/docs/en/html/navtree.css  \n",
            "  inflating: fastText-0.9.2/website/static/docs/en/html/navtree.js  \n",
            "  inflating: fastText-0.9.2/website/static/docs/en/html/navtreedata.js  \n",
            "  inflating: fastText-0.9.2/website/static/docs/en/html/navtreeindex0.js  \n",
            "  inflating: fastText-0.9.2/website/static/docs/en/html/navtreeindex1.js  \n",
            "  inflating: fastText-0.9.2/website/static/docs/en/html/open.png  \n",
            "  inflating: fastText-0.9.2/website/static/docs/en/html/productquantizer_8cc.html  \n",
            "  inflating: fastText-0.9.2/website/static/docs/en/html/productquantizer_8cc.js  \n",
            "  inflating: fastText-0.9.2/website/static/docs/en/html/productquantizer_8h.html  \n",
            "  inflating: fastText-0.9.2/website/static/docs/en/html/productquantizer_8h_source.html  \n",
            "  inflating: fastText-0.9.2/website/static/docs/en/html/qmatrix_8cc.html  \n",
            "  inflating: fastText-0.9.2/website/static/docs/en/html/qmatrix_8h.html  \n",
            "  inflating: fastText-0.9.2/website/static/docs/en/html/qmatrix_8h_source.html  \n",
            "  inflating: fastText-0.9.2/website/static/docs/en/html/real_8h.html  \n",
            "  inflating: fastText-0.9.2/website/static/docs/en/html/real_8h.js  \n",
            "  inflating: fastText-0.9.2/website/static/docs/en/html/real_8h_source.html  \n",
            "  inflating: fastText-0.9.2/website/static/docs/en/html/resize.js  \n",
            "   creating: fastText-0.9.2/website/static/docs/en/html/search/\n",
            " extracting: fastText-0.9.2/website/static/docs/en/html/search/.files_7.html.StRRNc  \n",
            " extracting: fastText-0.9.2/website/static/docs/en/html/search/.variables_a.html.1MGQ27  \n",
            "  inflating: fastText-0.9.2/website/static/docs/en/html/search/all_0.html  \n",
            "  inflating: fastText-0.9.2/website/static/docs/en/html/search/all_0.js  \n",
            "  inflating: fastText-0.9.2/website/static/docs/en/html/search/all_1.html  \n",
            "  inflating: fastText-0.9.2/website/static/docs/en/html/search/all_1.js  \n",
            "  inflating: fastText-0.9.2/website/static/docs/en/html/search/all_10.html  \n",
            "  inflating: fastText-0.9.2/website/static/docs/en/html/search/all_10.js  \n",
            "  inflating: fastText-0.9.2/website/static/docs/en/html/search/all_11.html  \n",
            "  inflating: fastText-0.9.2/website/static/docs/en/html/search/all_11.js  \n",
            "  inflating: fastText-0.9.2/website/static/docs/en/html/search/all_12.html  \n",
            "  inflating: fastText-0.9.2/website/static/docs/en/html/search/all_12.js  \n",
            "  inflating: fastText-0.9.2/website/static/docs/en/html/search/all_13.html  \n",
            "  inflating: fastText-0.9.2/website/static/docs/en/html/search/all_13.js  \n",
            "  inflating: fastText-0.9.2/website/static/docs/en/html/search/all_14.html  \n",
            "  inflating: fastText-0.9.2/website/static/docs/en/html/search/all_14.js  \n",
            "  inflating: fastText-0.9.2/website/static/docs/en/html/search/all_15.html  \n",
            "  inflating: fastText-0.9.2/website/static/docs/en/html/search/all_15.js  \n",
            "  inflating: fastText-0.9.2/website/static/docs/en/html/search/all_16.html  \n",
            "  inflating: fastText-0.9.2/website/static/docs/en/html/search/all_16.js  \n",
            "  inflating: fastText-0.9.2/website/static/docs/en/html/search/all_17.html  \n",
            "  inflating: fastText-0.9.2/website/static/docs/en/html/search/all_17.js  \n",
            "  inflating: fastText-0.9.2/website/static/docs/en/html/search/all_2.html  \n",
            "  inflating: fastText-0.9.2/website/static/docs/en/html/search/all_2.js  \n",
            "  inflating: fastText-0.9.2/website/static/docs/en/html/search/all_3.html  \n",
            "  inflating: fastText-0.9.2/website/static/docs/en/html/search/all_3.js  \n",
            "  inflating: fastText-0.9.2/website/static/docs/en/html/search/all_4.html  \n",
            "  inflating: fastText-0.9.2/website/static/docs/en/html/search/all_4.js  \n",
            "  inflating: fastText-0.9.2/website/static/docs/en/html/search/all_5.html  \n",
            "  inflating: fastText-0.9.2/website/static/docs/en/html/search/all_5.js  \n",
            "  inflating: fastText-0.9.2/website/static/docs/en/html/search/all_6.html  \n",
            "  inflating: fastText-0.9.2/website/static/docs/en/html/search/all_6.js  \n",
            "  inflating: fastText-0.9.2/website/static/docs/en/html/search/all_7.html  \n",
            "  inflating: fastText-0.9.2/website/static/docs/en/html/search/all_7.js  \n",
            "  inflating: fastText-0.9.2/website/static/docs/en/html/search/all_8.html  \n",
            "  inflating: fastText-0.9.2/website/static/docs/en/html/search/all_8.js  \n",
            "  inflating: fastText-0.9.2/website/static/docs/en/html/search/all_9.html  \n",
            "  inflating: fastText-0.9.2/website/static/docs/en/html/search/all_9.js  \n",
            "  inflating: fastText-0.9.2/website/static/docs/en/html/search/all_a.html  \n",
            "  inflating: fastText-0.9.2/website/static/docs/en/html/search/all_a.js  \n",
            "  inflating: fastText-0.9.2/website/static/docs/en/html/search/all_b.html  \n",
            "  inflating: fastText-0.9.2/website/static/docs/en/html/search/all_b.js  \n",
            "  inflating: fastText-0.9.2/website/static/docs/en/html/search/all_c.html  \n",
            "  inflating: fastText-0.9.2/website/static/docs/en/html/search/all_c.js  \n",
            "  inflating: fastText-0.9.2/website/static/docs/en/html/search/all_d.html  \n",
            "  inflating: fastText-0.9.2/website/static/docs/en/html/search/all_d.js  \n",
            "  inflating: fastText-0.9.2/website/static/docs/en/html/search/all_e.html  \n",
            "  inflating: fastText-0.9.2/website/static/docs/en/html/search/all_e.js  \n",
            "  inflating: fastText-0.9.2/website/static/docs/en/html/search/all_f.html  \n",
            "  inflating: fastText-0.9.2/website/static/docs/en/html/search/all_f.js  \n",
            "  inflating: fastText-0.9.2/website/static/docs/en/html/search/classes_0.html  \n",
            "  inflating: fastText-0.9.2/website/static/docs/en/html/search/classes_0.js  \n",
            "  inflating: fastText-0.9.2/website/static/docs/en/html/search/classes_1.html  \n",
            "  inflating: fastText-0.9.2/website/static/docs/en/html/search/classes_1.js  \n",
            "  inflating: fastText-0.9.2/website/static/docs/en/html/search/classes_2.html  \n",
            "  inflating: fastText-0.9.2/website/static/docs/en/html/search/classes_2.js  \n",
            "  inflating: fastText-0.9.2/website/static/docs/en/html/search/classes_3.html  \n",
            "  inflating: fastText-0.9.2/website/static/docs/en/html/search/classes_3.js  \n",
            "  inflating: fastText-0.9.2/website/static/docs/en/html/search/classes_4.html  \n",
            "  inflating: fastText-0.9.2/website/static/docs/en/html/search/classes_4.js  \n",
            "  inflating: fastText-0.9.2/website/static/docs/en/html/search/classes_5.html  \n",
            "  inflating: fastText-0.9.2/website/static/docs/en/html/search/classes_5.js  \n",
            "  inflating: fastText-0.9.2/website/static/docs/en/html/search/classes_6.html  \n",
            "  inflating: fastText-0.9.2/website/static/docs/en/html/search/classes_6.js  \n",
            "  inflating: fastText-0.9.2/website/static/docs/en/html/search/classes_7.html  \n",
            "  inflating: fastText-0.9.2/website/static/docs/en/html/search/classes_7.js  \n",
            "  inflating: fastText-0.9.2/website/static/docs/en/html/search/classes_8.html  \n",
            "  inflating: fastText-0.9.2/website/static/docs/en/html/search/classes_8.js  \n",
            " extracting: fastText-0.9.2/website/static/docs/en/html/search/close.png  \n",
            "  inflating: fastText-0.9.2/website/static/docs/en/html/search/defines_0.html  \n",
            "  inflating: fastText-0.9.2/website/static/docs/en/html/search/defines_0.js  \n",
            "  inflating: fastText-0.9.2/website/static/docs/en/html/search/defines_1.html  \n",
            "  inflating: fastText-0.9.2/website/static/docs/en/html/search/defines_1.js  \n",
            "  inflating: fastText-0.9.2/website/static/docs/en/html/search/defines_2.html  \n",
            "  inflating: fastText-0.9.2/website/static/docs/en/html/search/defines_2.js  \n",
            "  inflating: fastText-0.9.2/website/static/docs/en/html/search/defines_3.html  \n",
            "  inflating: fastText-0.9.2/website/static/docs/en/html/search/defines_3.js  \n",
            "  inflating: fastText-0.9.2/website/static/docs/en/html/search/enums_0.html  \n",
            "  inflating: fastText-0.9.2/website/static/docs/en/html/search/enums_0.js  \n",
            "  inflating: fastText-0.9.2/website/static/docs/en/html/search/enums_1.html  \n",
            "  inflating: fastText-0.9.2/website/static/docs/en/html/search/enums_1.js  \n",
            "  inflating: fastText-0.9.2/website/static/docs/en/html/search/enums_2.html  \n",
            "  inflating: fastText-0.9.2/website/static/docs/en/html/search/enums_2.js  \n",
            "  inflating: fastText-0.9.2/website/static/docs/en/html/search/enumvalues_0.html  \n",
            "  inflating: fastText-0.9.2/website/static/docs/en/html/search/enumvalues_0.js  \n",
            "  inflating: fastText-0.9.2/website/static/docs/en/html/search/enumvalues_1.html  \n",
            "  inflating: fastText-0.9.2/website/static/docs/en/html/search/enumvalues_1.js  \n",
            "  inflating: fastText-0.9.2/website/static/docs/en/html/search/enumvalues_2.html  \n",
            "  inflating: fastText-0.9.2/website/static/docs/en/html/search/enumvalues_2.js  \n",
            "  inflating: fastText-0.9.2/website/static/docs/en/html/search/enumvalues_3.html  \n",
            "  inflating: fastText-0.9.2/website/static/docs/en/html/search/enumvalues_3.js  \n",
            "  inflating: fastText-0.9.2/website/static/docs/en/html/search/enumvalues_4.html  \n",
            "  inflating: fastText-0.9.2/website/static/docs/en/html/search/enumvalues_4.js  \n",
            "  inflating: fastText-0.9.2/website/static/docs/en/html/search/enumvalues_5.html  \n",
            "  inflating: fastText-0.9.2/website/static/docs/en/html/search/enumvalues_5.js  \n",
            "  inflating: fastText-0.9.2/website/static/docs/en/html/search/files_0.html  \n",
            "  inflating: fastText-0.9.2/website/static/docs/en/html/search/files_0.js  \n",
            "  inflating: fastText-0.9.2/website/static/docs/en/html/search/files_1.html  \n",
            "  inflating: fastText-0.9.2/website/static/docs/en/html/search/files_1.js  \n",
            "  inflating: fastText-0.9.2/website/static/docs/en/html/search/files_2.html  \n",
            "  inflating: fastText-0.9.2/website/static/docs/en/html/search/files_2.js  \n",
            "  inflating: fastText-0.9.2/website/static/docs/en/html/search/files_3.html  \n",
            "  inflating: fastText-0.9.2/website/static/docs/en/html/search/files_3.js  \n",
            "  inflating: fastText-0.9.2/website/static/docs/en/html/search/files_4.html  \n",
            "  inflating: fastText-0.9.2/website/static/docs/en/html/search/files_4.js  \n",
            "  inflating: fastText-0.9.2/website/static/docs/en/html/search/files_5.html  \n",
            "  inflating: fastText-0.9.2/website/static/docs/en/html/search/files_5.js  \n",
            "  inflating: fastText-0.9.2/website/static/docs/en/html/search/files_6.html  \n",
            "  inflating: fastText-0.9.2/website/static/docs/en/html/search/files_6.js  \n",
            "  inflating: fastText-0.9.2/website/static/docs/en/html/search/files_7.html  \n",
            "  inflating: fastText-0.9.2/website/static/docs/en/html/search/files_7.js  \n",
            "  inflating: fastText-0.9.2/website/static/docs/en/html/search/files_8.html  \n",
            "  inflating: fastText-0.9.2/website/static/docs/en/html/search/files_8.js  \n",
            "  inflating: fastText-0.9.2/website/static/docs/en/html/search/functions_0.html  \n",
            "  inflating: fastText-0.9.2/website/static/docs/en/html/search/functions_0.js  \n",
            "  inflating: fastText-0.9.2/website/static/docs/en/html/search/functions_1.html  \n",
            "  inflating: fastText-0.9.2/website/static/docs/en/html/search/functions_1.js  \n",
            "  inflating: fastText-0.9.2/website/static/docs/en/html/search/functions_10.html  \n",
            "  inflating: fastText-0.9.2/website/static/docs/en/html/search/functions_10.js  \n",
            "  inflating: fastText-0.9.2/website/static/docs/en/html/search/functions_11.html  \n",
            "  inflating: fastText-0.9.2/website/static/docs/en/html/search/functions_11.js  \n",
            "  inflating: fastText-0.9.2/website/static/docs/en/html/search/functions_12.html  \n",
            "  inflating: fastText-0.9.2/website/static/docs/en/html/search/functions_12.js  \n",
            "  inflating: fastText-0.9.2/website/static/docs/en/html/search/functions_13.html  \n",
            "  inflating: fastText-0.9.2/website/static/docs/en/html/search/functions_13.js  \n",
            "  inflating: fastText-0.9.2/website/static/docs/en/html/search/functions_14.html  \n",
            "  inflating: fastText-0.9.2/website/static/docs/en/html/search/functions_14.js  \n",
            "  inflating: fastText-0.9.2/website/static/docs/en/html/search/functions_15.html  \n",
            "  inflating: fastText-0.9.2/website/static/docs/en/html/search/functions_15.js  \n",
            "  inflating: fastText-0.9.2/website/static/docs/en/html/search/functions_16.html  \n",
            "  inflating: fastText-0.9.2/website/static/docs/en/html/search/functions_16.js  \n",
            "  inflating: fastText-0.9.2/website/static/docs/en/html/search/functions_17.html  \n",
            "  inflating: fastText-0.9.2/website/static/docs/en/html/search/functions_17.js  \n",
            "  inflating: fastText-0.9.2/website/static/docs/en/html/search/functions_2.html  \n",
            "  inflating: fastText-0.9.2/website/static/docs/en/html/search/functions_2.js  \n",
            "  inflating: fastText-0.9.2/website/static/docs/en/html/search/functions_3.html  \n",
            "  inflating: fastText-0.9.2/website/static/docs/en/html/search/functions_3.js  \n",
            "  inflating: fastText-0.9.2/website/static/docs/en/html/search/functions_4.html  \n",
            "  inflating: fastText-0.9.2/website/static/docs/en/html/search/functions_4.js  \n",
            "  inflating: fastText-0.9.2/website/static/docs/en/html/search/functions_5.html  \n",
            "  inflating: fastText-0.9.2/website/static/docs/en/html/search/functions_5.js  \n",
            "  inflating: fastText-0.9.2/website/static/docs/en/html/search/functions_6.html  \n",
            "  inflating: fastText-0.9.2/website/static/docs/en/html/search/functions_6.js  \n",
            "  inflating: fastText-0.9.2/website/static/docs/en/html/search/functions_7.html  \n",
            "  inflating: fastText-0.9.2/website/static/docs/en/html/search/functions_7.js  \n",
            "  inflating: fastText-0.9.2/website/static/docs/en/html/search/functions_8.html  \n",
            "  inflating: fastText-0.9.2/website/static/docs/en/html/search/functions_8.js  \n",
            "  inflating: fastText-0.9.2/website/static/docs/en/html/search/functions_9.html  \n",
            "  inflating: fastText-0.9.2/website/static/docs/en/html/search/functions_9.js  \n",
            "  inflating: fastText-0.9.2/website/static/docs/en/html/search/functions_a.html  \n",
            "  inflating: fastText-0.9.2/website/static/docs/en/html/search/functions_a.js  \n",
            "  inflating: fastText-0.9.2/website/static/docs/en/html/search/functions_b.html  \n",
            "  inflating: fastText-0.9.2/website/static/docs/en/html/search/functions_b.js  \n",
            "  inflating: fastText-0.9.2/website/static/docs/en/html/search/functions_c.html  \n",
            "  inflating: fastText-0.9.2/website/static/docs/en/html/search/functions_c.js  \n",
            "  inflating: fastText-0.9.2/website/static/docs/en/html/search/functions_d.html  \n",
            "  inflating: fastText-0.9.2/website/static/docs/en/html/search/functions_d.js  \n",
            "  inflating: fastText-0.9.2/website/static/docs/en/html/search/functions_e.html  \n",
            "  inflating: fastText-0.9.2/website/static/docs/en/html/search/functions_e.js  \n",
            "  inflating: fastText-0.9.2/website/static/docs/en/html/search/functions_f.html  \n",
            "  inflating: fastText-0.9.2/website/static/docs/en/html/search/functions_f.js  \n",
            " extracting: fastText-0.9.2/website/static/docs/en/html/search/mag_sel.png  \n",
            "  inflating: fastText-0.9.2/website/static/docs/en/html/search/namespaces_0.html  \n",
            "  inflating: fastText-0.9.2/website/static/docs/en/html/search/namespaces_0.js  \n",
            "  inflating: fastText-0.9.2/website/static/docs/en/html/search/nomatches.html  \n",
            "  inflating: fastText-0.9.2/website/static/docs/en/html/search/search.css  \n",
            "  inflating: fastText-0.9.2/website/static/docs/en/html/search/search.js  \n",
            " extracting: fastText-0.9.2/website/static/docs/en/html/search/search_l.png  \n",
            "  inflating: fastText-0.9.2/website/static/docs/en/html/search/search_m.png  \n",
            " extracting: fastText-0.9.2/website/static/docs/en/html/search/search_r.png  \n",
            "  inflating: fastText-0.9.2/website/static/docs/en/html/search/searchdata.js  \n",
            "  inflating: fastText-0.9.2/website/static/docs/en/html/search/typedefs_0.html  \n",
            "  inflating: fastText-0.9.2/website/static/docs/en/html/search/typedefs_0.js  \n",
            "  inflating: fastText-0.9.2/website/static/docs/en/html/search/typedefs_1.html  \n",
            "  inflating: fastText-0.9.2/website/static/docs/en/html/search/typedefs_1.js  \n",
            "  inflating: fastText-0.9.2/website/static/docs/en/html/search/variables_0.html  \n",
            "  inflating: fastText-0.9.2/website/static/docs/en/html/search/variables_0.js  \n",
            "  inflating: fastText-0.9.2/website/static/docs/en/html/search/variables_1.html  \n",
            "  inflating: fastText-0.9.2/website/static/docs/en/html/search/variables_1.js  \n",
            "  inflating: fastText-0.9.2/website/static/docs/en/html/search/variables_10.html  \n",
            "  inflating: fastText-0.9.2/website/static/docs/en/html/search/variables_10.js  \n",
            "  inflating: fastText-0.9.2/website/static/docs/en/html/search/variables_11.html  \n",
            "  inflating: fastText-0.9.2/website/static/docs/en/html/search/variables_11.js  \n",
            "  inflating: fastText-0.9.2/website/static/docs/en/html/search/variables_12.html  \n",
            "  inflating: fastText-0.9.2/website/static/docs/en/html/search/variables_12.js  \n",
            "  inflating: fastText-0.9.2/website/static/docs/en/html/search/variables_13.html  \n",
            "  inflating: fastText-0.9.2/website/static/docs/en/html/search/variables_13.js  \n",
            "  inflating: fastText-0.9.2/website/static/docs/en/html/search/variables_2.html  \n",
            "  inflating: fastText-0.9.2/website/static/docs/en/html/search/variables_2.js  \n",
            "  inflating: fastText-0.9.2/website/static/docs/en/html/search/variables_3.html  \n",
            "  inflating: fastText-0.9.2/website/static/docs/en/html/search/variables_3.js  \n",
            "  inflating: fastText-0.9.2/website/static/docs/en/html/search/variables_4.html  \n",
            "  inflating: fastText-0.9.2/website/static/docs/en/html/search/variables_4.js  \n",
            "  inflating: fastText-0.9.2/website/static/docs/en/html/search/variables_5.html  \n",
            "  inflating: fastText-0.9.2/website/static/docs/en/html/search/variables_5.js  \n",
            "  inflating: fastText-0.9.2/website/static/docs/en/html/search/variables_6.html  \n",
            "  inflating: fastText-0.9.2/website/static/docs/en/html/search/variables_6.js  \n",
            "  inflating: fastText-0.9.2/website/static/docs/en/html/search/variables_7.html  \n",
            "  inflating: fastText-0.9.2/website/static/docs/en/html/search/variables_7.js  \n",
            "  inflating: fastText-0.9.2/website/static/docs/en/html/search/variables_8.html  \n",
            "  inflating: fastText-0.9.2/website/static/docs/en/html/search/variables_8.js  \n",
            "  inflating: fastText-0.9.2/website/static/docs/en/html/search/variables_9.html  \n",
            "  inflating: fastText-0.9.2/website/static/docs/en/html/search/variables_9.js  \n",
            "  inflating: fastText-0.9.2/website/static/docs/en/html/search/variables_a.html  \n",
            "  inflating: fastText-0.9.2/website/static/docs/en/html/search/variables_a.js  \n",
            "  inflating: fastText-0.9.2/website/static/docs/en/html/search/variables_b.html  \n",
            "  inflating: fastText-0.9.2/website/static/docs/en/html/search/variables_b.js  \n",
            "  inflating: fastText-0.9.2/website/static/docs/en/html/search/variables_c.html  \n",
            "  inflating: fastText-0.9.2/website/static/docs/en/html/search/variables_c.js  \n",
            "  inflating: fastText-0.9.2/website/static/docs/en/html/search/variables_d.html  \n",
            "  inflating: fastText-0.9.2/website/static/docs/en/html/search/variables_d.js  \n",
            "  inflating: fastText-0.9.2/website/static/docs/en/html/search/variables_e.html  \n",
            "  inflating: fastText-0.9.2/website/static/docs/en/html/search/variables_e.js  \n",
            "  inflating: fastText-0.9.2/website/static/docs/en/html/search/variables_f.html  \n",
            "  inflating: fastText-0.9.2/website/static/docs/en/html/search/variables_f.js  \n",
            "  inflating: fastText-0.9.2/website/static/docs/en/html/splitbar.png  \n",
            "  inflating: fastText-0.9.2/website/static/docs/en/html/structfasttext_1_1Node-members.html  \n",
            "  inflating: fastText-0.9.2/website/static/docs/en/html/structfasttext_1_1Node.html  \n",
            "  inflating: fastText-0.9.2/website/static/docs/en/html/structfasttext_1_1Node.js  \n",
            "  inflating: fastText-0.9.2/website/static/docs/en/html/structfasttext_1_1entry-members.html  \n",
            "  inflating: fastText-0.9.2/website/static/docs/en/html/structfasttext_1_1entry.html  \n",
            "  inflating: fastText-0.9.2/website/static/docs/en/html/structfasttext_1_1entry.js  \n",
            " extracting: fastText-0.9.2/website/static/docs/en/html/sync_off.png  \n",
            " extracting: fastText-0.9.2/website/static/docs/en/html/sync_on.png  \n",
            " extracting: fastText-0.9.2/website/static/docs/en/html/tab_a.png  \n",
            " extracting: fastText-0.9.2/website/static/docs/en/html/tab_b.png  \n",
            " extracting: fastText-0.9.2/website/static/docs/en/html/tab_h.png  \n",
            " extracting: fastText-0.9.2/website/static/docs/en/html/tab_s.png  \n",
            "  inflating: fastText-0.9.2/website/static/docs/en/html/tabs.css  \n",
            "  inflating: fastText-0.9.2/website/static/docs/en/html/utils_8cc.html  \n",
            "  inflating: fastText-0.9.2/website/static/docs/en/html/utils_8cc.js  \n",
            "  inflating: fastText-0.9.2/website/static/docs/en/html/utils_8h.html  \n",
            "  inflating: fastText-0.9.2/website/static/docs/en/html/utils_8h.js  \n",
            "  inflating: fastText-0.9.2/website/static/docs/en/html/utils_8h_source.html  \n",
            "  inflating: fastText-0.9.2/website/static/docs/en/html/vector_8cc.html  \n",
            "  inflating: fastText-0.9.2/website/static/docs/en/html/vector_8cc.js  \n",
            "  inflating: fastText-0.9.2/website/static/docs/en/html/vector_8h.html  \n",
            "  inflating: fastText-0.9.2/website/static/docs/en/html/vector_8h.js  \n",
            "  inflating: fastText-0.9.2/website/static/docs/en/html/vector_8h_source.html  \n",
            "  inflating: fastText-0.9.2/website/static/fasttext.css  \n",
            "   creating: fastText-0.9.2/website/static/img/\n",
            "   creating: fastText-0.9.2/website/static/img/authors/\n",
            "  inflating: fastText-0.9.2/website/static/img/authors/armand_joulin.jpg  \n",
            "  inflating: fastText-0.9.2/website/static/img/authors/christian_puhrsch.png  \n",
            "  inflating: fastText-0.9.2/website/static/img/authors/edouard_grave.jpeg  \n",
            "  inflating: fastText-0.9.2/website/static/img/authors/piotr_bojanowski.jpg  \n",
            "  inflating: fastText-0.9.2/website/static/img/authors/tomas_mikolov.jpg  \n",
            "   creating: fastText-0.9.2/website/static/img/blog/\n",
            "  inflating: fastText-0.9.2/website/static/img/blog/2016-08-18-blog-post-img1.png  \n",
            "  inflating: fastText-0.9.2/website/static/img/blog/2016-08-18-blog-post-img2.png  \n",
            "  inflating: fastText-0.9.2/website/static/img/blog/2017-05-02-blog-post-img1.jpg  \n",
            "  inflating: fastText-0.9.2/website/static/img/blog/2017-05-02-blog-post-img2.jpg  \n",
            "  inflating: fastText-0.9.2/website/static/img/blog/2017-10-02-blog-post-img1.png  \n",
            "  inflating: fastText-0.9.2/website/static/img/cbo_vs_skipgram.png  \n",
            "  inflating: fastText-0.9.2/website/static/img/fasttext-icon-api.png  \n",
            "  inflating: fastText-0.9.2/website/static/img/fasttext-icon-bg-web.png  \n",
            "  inflating: fastText-0.9.2/website/static/img/fasttext-icon-color-square.png  \n",
            "  inflating: fastText-0.9.2/website/static/img/fasttext-icon-color-web.png  \n",
            "  inflating: fastText-0.9.2/website/static/img/fasttext-icon-faq.png  \n",
            "  inflating: fastText-0.9.2/website/static/img/fasttext-icon-tutorial.png  \n",
            "  inflating: fastText-0.9.2/website/static/img/fasttext-icon-white-web.png  \n",
            "  inflating: fastText-0.9.2/website/static/img/fasttext-logo-color-web.png  \n",
            "  inflating: fastText-0.9.2/website/static/img/fasttext-logo-white-web.png  \n",
            "  inflating: fastText-0.9.2/website/static/img/logo-color.png  \n",
            "  inflating: fastText-0.9.2/website/static/img/model-black.png  \n",
            "  inflating: fastText-0.9.2/website/static/img/model-blue.png  \n",
            "  inflating: fastText-0.9.2/website/static/img/model-red.png  \n",
            "  inflating: fastText-0.9.2/website/static/img/ogimage.png  \n",
            "  inflating: fastText-0.9.2/website/static/img/oss_logo.png  \n",
            "  inflating: fastText-0.9.2/website/static/tabber.js  \n",
            "  inflating: fastText-0.9.2/wikifil.pl  \n",
            "  inflating: fastText-0.9.2/word-vector-example.sh  \n",
            "/content/fastText-0.9.2\n",
            "c++ -pthread -std=c++11 -march=native -O3 -funroll-loops -DNDEBUG -c src/args.cc\n",
            "c++ -pthread -std=c++11 -march=native -O3 -funroll-loops -DNDEBUG -c src/autotune.cc\n",
            "c++ -pthread -std=c++11 -march=native -O3 -funroll-loops -DNDEBUG -c src/matrix.cc\n",
            "c++ -pthread -std=c++11 -march=native -O3 -funroll-loops -DNDEBUG -c src/dictionary.cc\n",
            "c++ -pthread -std=c++11 -march=native -O3 -funroll-loops -DNDEBUG -c src/loss.cc\n",
            "c++ -pthread -std=c++11 -march=native -O3 -funroll-loops -DNDEBUG -c src/productquantizer.cc\n",
            "c++ -pthread -std=c++11 -march=native -O3 -funroll-loops -DNDEBUG -c src/densematrix.cc\n",
            "c++ -pthread -std=c++11 -march=native -O3 -funroll-loops -DNDEBUG -c src/quantmatrix.cc\n",
            "c++ -pthread -std=c++11 -march=native -O3 -funroll-loops -DNDEBUG -c src/vector.cc\n",
            "c++ -pthread -std=c++11 -march=native -O3 -funroll-loops -DNDEBUG -c src/model.cc\n",
            "c++ -pthread -std=c++11 -march=native -O3 -funroll-loops -DNDEBUG -c src/utils.cc\n",
            "c++ -pthread -std=c++11 -march=native -O3 -funroll-loops -DNDEBUG -c src/meter.cc\n",
            "c++ -pthread -std=c++11 -march=native -O3 -funroll-loops -DNDEBUG -c src/fasttext.cc\n",
            "c++ -pthread -std=c++11 -march=native -O3 -funroll-loops -DNDEBUG args.o autotune.o matrix.o dictionary.o loss.o productquantizer.o densematrix.o quantmatrix.o vector.o model.o utils.o meter.o fasttext.o src/main.cc -o fasttext\n"
          ],
          "name": "stdout"
        }
      ]
    },
    {
      "cell_type": "code",
      "metadata": {
        "colab": {
          "base_uri": "https://localhost:8080/"
        },
        "id": "63o9K6_jaKzx",
        "outputId": "02d690d9-27c5-4661-b068-761022794237"
      },
      "source": [
        "!cp fasttext ../\n",
        "%cd .."
      ],
      "execution_count": 20,
      "outputs": [
        {
          "output_type": "stream",
          "text": [
            "/content\n"
          ],
          "name": "stdout"
        }
      ]
    },
    {
      "cell_type": "code",
      "metadata": {
        "id": "uVMk2JdYbuhL"
      },
      "source": [
        "with open('reviews.txt', 'w') as filehandle:\n",
        "    for sent in train_feats:\n",
        "        combined_sent = (\" \").join(sent)\n",
        "        filehandle.write('%s\\n' % combined_sent)"
      ],
      "execution_count": 21,
      "outputs": []
    },
    {
      "cell_type": "code",
      "metadata": {
        "id": "ENNpzTr0_4iS"
      },
      "source": [
        "os.makedirs(\"models\", exist_ok=True)"
      ],
      "execution_count": 22,
      "outputs": []
    },
    {
      "cell_type": "code",
      "metadata": {
        "colab": {
          "base_uri": "https://localhost:8080/"
        },
        "id": "dCodwuVXdrZI",
        "outputId": "706c81b6-daee-4e35-9771-b42361c123f2"
      },
      "source": [
        "!./fasttext skipgram -input ./reviews.txt -output models/word2vec -dim 100 -minCount 3 -epoch 10"
      ],
      "execution_count": 23,
      "outputs": [
        {
          "output_type": "stream",
          "text": [
            "\rRead 1M words\rRead 1M words\n",
            "Number of words:  9356\n",
            "Number of labels: 0\n",
            "Progress: 100.0% words/sec/thread:   17327 lr:  0.000000 avg.loss:  2.333434 ETA:   0h 0m 0s\n"
          ],
          "name": "stdout"
        }
      ]
    },
    {
      "cell_type": "code",
      "metadata": {
        "colab": {
          "base_uri": "https://localhost:8080/"
        },
        "id": "_fBVhVYj_nhw",
        "outputId": "67c3e4aa-f28b-437a-92e3-b63851db78f1"
      },
      "source": [
        "embedding_matrix = np.zeros((len(feats_dict), 100), dtype=np.float32)\n",
        "with open(\"models/word2vec.vec\", \"r\") as f:\n",
        "    n_words, n_dim = f.readline().split()\n",
        "    n_words, n_dim = int(n_words), int(n_dim) \n",
        "    print(\"number of words:\", n_words, \"word dimension:\", n_dim)\n",
        "    while True:\n",
        "        line = f.readline()\n",
        "        if not line:\n",
        "            break\n",
        "        word, vec = line.split(\" \", 1)\n",
        "        word_idx = feats_dict.get(word, -1)\n",
        "        if word_idx != -1:\n",
        "            embedding_matrix[word_idx] = np.array(vec.split(), dtype=np.float32)"
      ],
      "execution_count": 24,
      "outputs": [
        {
          "output_type": "stream",
          "text": [
            "number of words: 9356 word dimension: 100\n"
          ],
          "name": "stdout"
        }
      ]
    },
    {
      "cell_type": "code",
      "metadata": {
        "colab": {
          "base_uri": "https://localhost:8080/"
        },
        "id": "LOMKQXa0AbFX",
        "outputId": "4b6ed030-9a08-4c27-bde6-0c9b40b65e00"
      },
      "source": [
        "print(embedding_matrix[:5])"
      ],
      "execution_count": 25,
      "outputs": [
        {
          "output_type": "stream",
          "text": [
            "[[ 0.          0.          0.          0.          0.          0.\n",
            "   0.          0.          0.          0.          0.          0.\n",
            "   0.          0.          0.          0.          0.          0.\n",
            "   0.          0.          0.          0.          0.          0.\n",
            "   0.          0.          0.          0.          0.          0.\n",
            "   0.          0.          0.          0.          0.          0.\n",
            "   0.          0.          0.          0.          0.          0.\n",
            "   0.          0.          0.          0.          0.          0.\n",
            "   0.          0.          0.          0.          0.          0.\n",
            "   0.          0.          0.          0.          0.          0.\n",
            "   0.          0.          0.          0.          0.          0.\n",
            "   0.          0.          0.          0.          0.          0.\n",
            "   0.          0.          0.          0.          0.          0.\n",
            "   0.          0.          0.          0.          0.          0.\n",
            "   0.          0.          0.          0.          0.          0.\n",
            "   0.          0.          0.          0.          0.          0.\n",
            "   0.          0.          0.          0.        ]\n",
            " [ 0.          0.          0.          0.          0.          0.\n",
            "   0.          0.          0.          0.          0.          0.\n",
            "   0.          0.          0.          0.          0.          0.\n",
            "   0.          0.          0.          0.          0.          0.\n",
            "   0.          0.          0.          0.          0.          0.\n",
            "   0.          0.          0.          0.          0.          0.\n",
            "   0.          0.          0.          0.          0.          0.\n",
            "   0.          0.          0.          0.          0.          0.\n",
            "   0.          0.          0.          0.          0.          0.\n",
            "   0.          0.          0.          0.          0.          0.\n",
            "   0.          0.          0.          0.          0.          0.\n",
            "   0.          0.          0.          0.          0.          0.\n",
            "   0.          0.          0.          0.          0.          0.\n",
            "   0.          0.          0.          0.          0.          0.\n",
            "   0.          0.          0.          0.          0.          0.\n",
            "   0.          0.          0.          0.          0.          0.\n",
            "   0.          0.          0.          0.        ]\n",
            " [ 0.26183     0.09454     0.044111   -0.048102   -0.0498      0.19352\n",
            "   0.048799   -0.061458    0.26323     0.1476      0.18276     0.088656\n",
            "   0.112      -0.041539    0.041303    0.0015729   0.094291   -0.060716\n",
            "  -0.069506    0.0070693   0.21355     0.0099323  -0.055524    0.086936\n",
            "   0.010619   -0.21535     0.041373    0.089826   -0.088679    0.18508\n",
            "  -0.0098578   0.061485   -0.014004    0.059839    0.048276    0.10394\n",
            "   0.22465    -0.12533    -0.02069    -0.0086548   0.27072     0.05738\n",
            "   0.11913     0.1447     -0.078558   -0.36301     0.13262     0.17679\n",
            "  -0.0014008  -0.14296    -0.031079    0.29439    -0.4168     -0.042896\n",
            "  -0.53511    -0.050496   -0.088704    0.084375   -0.042346    0.12384\n",
            "   0.075371   -0.041913    0.037167    0.022219   -0.06818     0.14551\n",
            "   0.23141     0.3297      0.044952   -0.031201    0.040092   -0.065244\n",
            "  -0.067098   -0.089037    0.09367     0.16409     0.10389    -0.20055\n",
            "   0.065641   -0.056345    0.11882    -0.081381    0.0092125   0.1096\n",
            "   0.0041807  -0.15591    -0.10169    -0.019157   -0.023154   -0.083823\n",
            "  -0.0050756   0.00065308  0.18039    -0.040626   -0.090179    0.054274\n",
            "  -0.03476     0.19656     0.15521     0.020985  ]\n",
            " [ 0.24488     0.075032    0.014808   -0.091176    0.14693     0.11007\n",
            "   0.11104    -0.21173     0.24591     0.10079     0.21992     0.13992\n",
            "   0.091553    0.022101    0.12833     0.052645    0.18274    -0.061692\n",
            "  -0.14231     0.027887    0.19263    -0.13629     0.17468     0.049549\n",
            "  -0.078224   -0.24494     0.048252    0.062198   -0.16199     0.103\n",
            "   0.018004    0.0073154  -0.04045     0.12824     0.048323    0.16272\n",
            "   0.086949   -0.074433    0.04291     0.0048044   0.090013    0.12932\n",
            "   0.29134     0.068202    0.012583   -0.41329     0.22738     0.21067\n",
            "   0.071605   -0.038956   -0.070071    0.35522    -0.35853     0.019754\n",
            "  -0.5774     -0.044935    0.0039265   0.0084328  -0.17448    -0.034462\n",
            "  -0.20085     0.044939    0.05755     0.084985   -0.061752    0.22831\n",
            "   0.27634     0.27391     0.02391    -0.064399    0.171      -0.15824\n",
            "  -0.010457   -0.058813    0.074382    0.13172     0.034327   -0.095576\n",
            "   0.049767    0.049565    0.032681   -0.032804    0.017488    0.08128\n",
            "   0.04526    -0.11906    -0.16688     0.028002    0.068739   -0.10485\n",
            "   0.056166   -0.0071524   0.18732    -0.037281   -0.041229   -0.054459\n",
            "  -0.019746    0.25494     0.25658    -0.016481  ]\n",
            " [ 0.2918      0.10681     0.20299    -0.060248    0.12529     0.22252\n",
            "   0.013472   -0.22499     0.21166     0.16388     0.15797     0.10961\n",
            "   0.037492   -0.0018794   0.19032    -0.16881     0.087506   -0.0046506\n",
            "  -0.10881     0.051329    0.20197     0.04019     0.0026976   0.072506\n",
            "   0.10971    -0.17056     0.034733    0.12726    -0.019978    0.20164\n",
            "  -0.1429     -0.04381     0.026774    0.12329     0.16134     0.067571\n",
            "   0.11613    -0.0084112  -0.040067    0.098993    0.10815     0.014407\n",
            "   0.14306     0.13615    -0.16194    -0.33429     0.20174     0.077111\n",
            "  -0.045584   -0.12288    -0.089656    0.21629    -0.30997    -0.027528\n",
            "  -0.52799    -0.014975   -0.040903    0.058127   -0.14304     0.18709\n",
            "   0.1261      0.016623   -0.074155   -0.089894   -0.057497    0.16742\n",
            "   0.12643     0.22342     0.10331    -0.09106     0.22568    -0.12626\n",
            "  -0.032496   -0.019544    0.12498     0.15938     0.037912   -0.097231\n",
            "   0.030966   -0.043048    0.17675    -0.091928   -0.024452    0.14583\n",
            "  -0.046411   -0.16017    -0.059381    0.022799    0.032318    0.096098\n",
            "  -0.045254   -0.071488    0.17564    -0.01667    -0.057554   -0.086993\n",
            "   0.031331    0.08105     0.1481      0.042417  ]]\n"
          ],
          "name": "stdout"
        }
      ]
    },
    {
      "cell_type": "markdown",
      "metadata": {
        "id": "GfftPxX175qG"
      },
      "source": [
        "Word2Vec + BiLSTM"
      ]
    },
    {
      "cell_type": "code",
      "metadata": {
        "colab": {
          "base_uri": "https://localhost:8080/"
        },
        "id": "gn3kNW4jAe7e",
        "outputId": "ecd4257e-e5ed-4db5-fc26-f37cf49e5e23"
      },
      "source": [
        "os.makedirs(\"models\", exist_ok=True)\n",
        "model = build_RNN(input_length=max_len, vocab_size=len(feats_dict),\n",
        "                  embedding_size=100, hidden_size=100, output_size=num_classes,\n",
        "                  rnn_type=\"lstm\", num_rnn_layers=2, bidirectional=True, num_mlp_layers=2,\n",
        "                  embedding_matrix=embedding_matrix,\n",
        "                  activation=\"tanh\",\n",
        "                  batch_norm=True,\n",
        "                  l2_reg=0.005, dropout_rate=0.5)\n",
        "checkpointer = keras.callbacks.ModelCheckpoint(\n",
        "    filepath=os.path.join(\"models\", \"weights_word2vec.hdf5\"),\n",
        "    monitor=\"val_accuracy\",\n",
        "    verbose=0,\n",
        "    save_best_only=True)\n",
        "earlystopping = keras.callbacks.EarlyStopping(\n",
        "    monitor='val_loss',\n",
        "    patience=5,\n",
        "    verbose=0)\n",
        "\n",
        "print(model.summary())\n",
        "\n",
        "np.random.seed(0)\n",
        "tf.random.set_seed(0)\n",
        "word2vec_bilstm_history = model.fit(train_feats_matrix, train_label_matrix,\n",
        "                                    validation_split=0.1,\n",
        "                                    epochs=100, batch_size=100, verbose=0,\n",
        "                                    callbacks=[checkpointer, earlystopping])\n",
        "model = keras.models.load_model(os.path.join(\"models\", \"weights_word2vec.hdf5\"))\n",
        "\n",
        "train_score = model.evaluate(train_feats_matrix, train_label_matrix,\n",
        "                             batch_size=100)\n",
        "valid_score = model.evaluate(valid_feats_matrix, valid_label_matrix,\n",
        "                            batch_size=100)\n",
        "print(\"training loss:\", train_score[0], \"training accuracy\", train_score[1])\n",
        "print(\"valid loss:\", valid_score[0], \"valid accuracy\", valid_score[1])"
      ],
      "execution_count": 26,
      "outputs": [
        {
          "output_type": "stream",
          "text": [
            "Model: \"model_4\"\n",
            "_________________________________________________________________\n",
            "Layer (type)                 Output Shape              Param #   \n",
            "=================================================================\n",
            "input_5 (InputLayer)         [(None, 100)]             0         \n",
            "_________________________________________________________________\n",
            "embedding_4 (Embedding)      (None, 100, 100)          935700    \n",
            "_________________________________________________________________\n",
            "bidirectional_1 (Bidirection (None, 100, 200)          160800    \n",
            "_________________________________________________________________\n",
            "dropout_4 (Dropout)          (None, 100, 200)          0         \n",
            "_________________________________________________________________\n",
            "bidirectional_2 (Bidirection (None, 200)               240800    \n",
            "_________________________________________________________________\n",
            "dropout_5 (Dropout)          (None, 200)               0         \n",
            "_________________________________________________________________\n",
            "dense_8 (Dense)              (None, 100)               20100     \n",
            "_________________________________________________________________\n",
            "batch_normalization_4 (Batch (None, 100)               400       \n",
            "_________________________________________________________________\n",
            "activation_4 (Activation)    (None, 100)               0         \n",
            "_________________________________________________________________\n",
            "dense_9 (Dense)              (None, 5)                 505       \n",
            "=================================================================\n",
            "Total params: 1,358,305\n",
            "Trainable params: 422,405\n",
            "Non-trainable params: 935,900\n",
            "_________________________________________________________________\n",
            "None\n",
            "100/100 [==============================] - 3s 16ms/step - loss: 1.0429 - accuracy: 0.5988\n",
            "20/20 [==============================] - 0s 15ms/step - loss: 1.1377 - accuracy: 0.5645\n",
            "training loss: 1.0429142713546753 training accuracy 0.598800003528595\n",
            "valid loss: 1.1376692056655884 valid accuracy 0.5644999742507935\n"
          ],
          "name": "stdout"
        }
      ]
    },
    {
      "cell_type": "code",
      "metadata": {
        "colab": {
          "base_uri": "https://localhost:8080/",
          "height": 279
        },
        "id": "v2RjP6CMBESJ",
        "outputId": "6e47dd74-232a-468a-bdd4-40f53d8c188e"
      },
      "source": [
        "plt.figure(figsize=(10,4))\n",
        "plt.subplot(1,2,1)\n",
        "plt.plot(bilstm_history.history[\"loss\"], label=\"BiLSTM-training\", color=\"blue\", linestyle=\"dashed\")\n",
        "plt.plot(bilstm_history.history[\"val_loss\"], label=\"BiLSTM-validation\", color=\"blue\")\n",
        "plt.plot(word2vec_bilstm_history.history[\"loss\"], label=\"Word2Vec+BiLSTM-training\", color=\"orange\", linestyle=\"dashed\")\n",
        "plt.plot(word2vec_bilstm_history.history[\"val_loss\"], label=\"Word2Vec+BiLSTM-validation\", color=\"orange\")\n",
        "plt.xlabel(\"Iteration\")\n",
        "plt.ylabel(\"Loss\")\n",
        "plt.legend()\n",
        "plt.subplot(1,2,2)\n",
        "plt.plot(bilstm_history.history[\"accuracy\"], label=\"BiLSTM-training\", color=\"blue\", linestyle=\"dashed\")\n",
        "plt.plot(bilstm_history.history[\"val_accuracy\"], label=\"BiLSTM-validation\", color=\"blue\")\n",
        "plt.plot(word2vec_bilstm_history.history[\"accuracy\"], label=\"Word2Vec+BiLSTM-training\", color=\"orange\", linestyle=\"dashed\")\n",
        "plt.plot(word2vec_bilstm_history.history[\"val_accuracy\"], label=\"Word2Vec+BiLSTM-validation\", color=\"orange\")\n",
        "plt.xlabel(\"Iteration\")\n",
        "plt.ylabel(\"Accuracy\")\n",
        "plt.legend()\n",
        "plt.show()"
      ],
      "execution_count": 27,
      "outputs": [
        {
          "output_type": "display_data",
          "data": {
            "image/png": "[encoded data removed]",
            "text/plain": [
              "<Figure size 720x288 with 2 Axes>"
            ]
          },
          "metadata": {
            "tags": [],
            "needs_background": "light"
          }
        }
      ]
    },
    {
      "cell_type": "code",
      "metadata": {
        "id": "cPHGFSafOOaB"
      },
      "source": [
        ""
      ],
      "execution_count": 27,
      "outputs": []
    },
    {
      "cell_type": "markdown",
      "metadata": {
        "id": "nNeRJoEuRvV2"
      },
      "source": [
        "Trying concat(emb + lstm) + conv1D + maxPooling + Dense "
      ]
    },
    {
      "cell_type": "code",
      "metadata": {
        "id": "NaeVcO9ZfiJv"
      },
      "source": [
        "input_length = max_len\n",
        "vocab_size = len(feats_dict)\n",
        "embedding_size = 100\n",
        "hidden_size = 100\n",
        "num_filters = 100\n",
        "kernel_size = 2\n",
        "strides = 1\n",
        "output_size = num_classes\n",
        "dropout_rate = 0.5\n",
        "recurrent_dropout_rate = 0.5"
      ],
      "execution_count": 60,
      "outputs": []
    },
    {
      "cell_type": "code",
      "metadata": {
        "colab": {
          "base_uri": "https://localhost:8080/"
        },
        "id": "i5ZbpKtPdBFD",
        "outputId": "710eee0a-622f-479d-8cb4-d6d154a166fe"
      },
      "source": [
        "x = Input(shape=(input_length,))\n",
        "if embedding_matrix is not None:\n",
        "    emb = Embedding(input_dim=vocab_size,\n",
        "                        output_dim=embedding_size,\n",
        "                        input_length=input_length,\n",
        "                        embeddings_initializer=keras.initializers.Constant(embedding_matrix),\n",
        "                        trainable=True)(x)\n",
        "else:\n",
        "    emb = Embedding(input_dim=vocab_size,\n",
        "                    output_dim=embedding_size,\n",
        "                    input_length=input_length,\n",
        "                    embeddings_initializer=keras.initializers.TruncatedNormal(mean=0.0, stddev=0.1, seed=0))(x)\n",
        "\n",
        "emb = Dropout(dropout_rate)(emb)\n",
        "\n",
        "rec = Bidirectional(LSTM(hidden_size,\n",
        "                    kernel_initializer=keras.initializers.glorot_uniform(seed=0),\n",
        "                    recurrent_initializer=keras.initializers.Orthogonal(gain=1.0, seed=0),\n",
        "                    return_sequences=True, dropout=dropout_rate, recurrent_activation=\"sigmoid\"))(emb)\n",
        "\n",
        "h = Concatenate()([emb, rec])\n",
        "\n",
        "print(h.shape)\n",
        "\n",
        "conv = Conv1D(filters=num_filters, kernel_size=kernel_size, padding=\"valid\", strides=strides)(h)\n",
        "\n",
        "conv = Activation(\"tanh\")(conv)\n",
        "    \n",
        "maxpool = MaxPool1D(pool_size=(input_length-kernel_size)//strides+1)(conv)\n",
        "\n",
        "maxpool = Flatten()(maxpool)\n",
        "\n",
        "y = Dense(output_size,\n",
        "          activation=\"softmax\",\n",
        "          kernel_initializer=keras.initializers.he_normal(seed=0),\n",
        "          bias_initializer=\"zeros\")(maxpool)\n",
        "\n",
        "model = Model(x, y)\n",
        "# optimizer = keras.optimizers.SGD(lr=learning_rate)\n",
        "model.compile(loss=\"categorical_crossentropy\", optimizer=\"RMSprop\", metrics=[\"accuracy\"])\n",
        "model.summary()"
      ],
      "execution_count": 103,
      "outputs": [
        {
          "output_type": "stream",
          "text": [
            "(None, 100, 300)\n",
            "Model: \"model_37\"\n",
            "__________________________________________________________________________________________________\n",
            "Layer (type)                    Output Shape         Param #     Connected to                     \n",
            "==================================================================================================\n",
            "input_38 (InputLayer)           [(None, 100)]        0                                            \n",
            "__________________________________________________________________________________________________\n",
            "embedding_37 (Embedding)        (None, 100, 100)     935700      input_38[0][0]                   \n",
            "__________________________________________________________________________________________________\n",
            "dropout_40 (Dropout)            (None, 100, 100)     0           embedding_37[0][0]               \n",
            "__________________________________________________________________________________________________\n",
            "bidirectional_35 (Bidirectional (None, 100, 200)     160800      dropout_40[0][0]                 \n",
            "__________________________________________________________________________________________________\n",
            "concatenate_21 (Concatenate)    (None, 100, 300)     0           dropout_40[0][0]                 \n",
            "                                                                 bidirectional_35[0][0]           \n",
            "__________________________________________________________________________________________________\n",
            "conv1d_21 (Conv1D)              (None, 99, 100)      60100       concatenate_21[0][0]             \n",
            "__________________________________________________________________________________________________\n",
            "activation_39 (Activation)      (None, 99, 100)      0           conv1d_21[0][0]                  \n",
            "__________________________________________________________________________________________________\n",
            "max_pooling1d_21 (MaxPooling1D) (None, 1, 100)       0           activation_39[0][0]              \n",
            "__________________________________________________________________________________________________\n",
            "flatten_21 (Flatten)            (None, 100)          0           max_pooling1d_21[0][0]           \n",
            "__________________________________________________________________________________________________\n",
            "dense_55 (Dense)                (None, 5)            505         flatten_21[0][0]                 \n",
            "==================================================================================================\n",
            "Total params: 1,157,105\n",
            "Trainable params: 1,157,105\n",
            "Non-trainable params: 0\n",
            "__________________________________________________________________________________________________\n"
          ],
          "name": "stdout"
        }
      ]
    },
    {
      "cell_type": "code",
      "metadata": {
        "colab": {
          "base_uri": "https://localhost:8080/"
        },
        "id": "Ac4uk02UggG1",
        "outputId": "4cdfa693-44f4-4a66-c373-997275804c6a"
      },
      "source": [
        "os.makedirs(\"models\", exist_ok=True)\n",
        "checkpointer = keras.callbacks.ModelCheckpoint(\n",
        "    filepath=os.path.join(\"models\", \"weights_word2vec_cnn.hdf5\"),\n",
        "    monitor=\"val_accuracy\",\n",
        "    verbose=1,\n",
        "    save_best_only=True)\n",
        "earlystopping = keras.callbacks.EarlyStopping(\n",
        "    monitor='val_loss',\n",
        "    patience=15,\n",
        "    verbose=1)\n",
        "\n",
        "np.random.seed(0)\n",
        "tf.random.set_seed(0)\n",
        "word2vec_bilstm_cnn_history = model.fit(train_feats_matrix, train_label_matrix,\n",
        "                                    validation_split=0.1,\n",
        "                                    epochs=100, batch_size=100, verbose=1,\n",
        "                                    callbacks=[checkpointer, earlystopping])\n",
        "model = keras.models.load_model(os.path.join(\"models\", \"weights_word2vec_cnn.hdf5\"))\n",
        "\n",
        "train_score = model.evaluate(train_feats_matrix, train_label_matrix,\n",
        "                             batch_size=100)\n",
        "valid_score = model.evaluate(valid_feats_matrix, valid_label_matrix,\n",
        "                            batch_size=100)\n",
        "print(\"training loss:\", train_score[0], \"training accuracy\", train_score[1])\n",
        "print(\"valid loss:\", valid_score[0], \"valid accuracy\", valid_score[1])"
      ],
      "execution_count": 104,
      "outputs": [
        {
          "output_type": "stream",
          "text": [
            "Epoch 1/100\n",
            "90/90 [==============================] - 7s 37ms/step - loss: 1.5019 - accuracy: 0.3499 - val_loss: 1.2538 - val_accuracy: 0.4660\n",
            "\n",
            "Epoch 00001: val_accuracy improved from -inf to 0.46600, saving model to models/weights_word2vec_cnn.hdf5\n",
            "Epoch 2/100\n",
            "90/90 [==============================] - 2s 27ms/step - loss: 1.2137 - accuracy: 0.4853 - val_loss: 1.1477 - val_accuracy: 0.5070\n",
            "\n",
            "Epoch 00002: val_accuracy improved from 0.46600 to 0.50700, saving model to models/weights_word2vec_cnn.hdf5\n",
            "Epoch 3/100\n",
            "90/90 [==============================] - 2s 27ms/step - loss: 1.1296 - accuracy: 0.5279 - val_loss: 1.1729 - val_accuracy: 0.5090\n",
            "\n",
            "Epoch 00003: val_accuracy improved from 0.50700 to 0.50900, saving model to models/weights_word2vec_cnn.hdf5\n",
            "Epoch 4/100\n",
            "90/90 [==============================] - 2s 27ms/step - loss: 1.1025 - accuracy: 0.5404 - val_loss: 1.0869 - val_accuracy: 0.5370\n",
            "\n",
            "Epoch 00004: val_accuracy improved from 0.50900 to 0.53700, saving model to models/weights_word2vec_cnn.hdf5\n",
            "Epoch 5/100\n",
            "90/90 [==============================] - 2s 27ms/step - loss: 1.0327 - accuracy: 0.5598 - val_loss: 1.0970 - val_accuracy: 0.5430\n",
            "\n",
            "Epoch 00005: val_accuracy improved from 0.53700 to 0.54300, saving model to models/weights_word2vec_cnn.hdf5\n",
            "Epoch 6/100\n",
            "90/90 [==============================] - 2s 27ms/step - loss: 1.0316 - accuracy: 0.5658 - val_loss: 1.0702 - val_accuracy: 0.5490\n",
            "\n",
            "Epoch 00006: val_accuracy improved from 0.54300 to 0.54900, saving model to models/weights_word2vec_cnn.hdf5\n",
            "Epoch 7/100\n",
            "90/90 [==============================] - 2s 28ms/step - loss: 0.9989 - accuracy: 0.5837 - val_loss: 1.0611 - val_accuracy: 0.5550\n",
            "\n",
            "Epoch 00007: val_accuracy improved from 0.54900 to 0.55500, saving model to models/weights_word2vec_cnn.hdf5\n",
            "Epoch 8/100\n",
            "90/90 [==============================] - 2s 28ms/step - loss: 0.9781 - accuracy: 0.5867 - val_loss: 1.1539 - val_accuracy: 0.5350\n",
            "\n",
            "Epoch 00008: val_accuracy did not improve from 0.55500\n",
            "Epoch 9/100\n",
            "90/90 [==============================] - 2s 27ms/step - loss: 0.9614 - accuracy: 0.6006 - val_loss: 1.0867 - val_accuracy: 0.5500\n",
            "\n",
            "Epoch 00009: val_accuracy did not improve from 0.55500\n",
            "Epoch 10/100\n",
            "90/90 [==============================] - 2s 27ms/step - loss: 0.9458 - accuracy: 0.6051 - val_loss: 1.0913 - val_accuracy: 0.5560\n",
            "\n",
            "Epoch 00010: val_accuracy improved from 0.55500 to 0.55600, saving model to models/weights_word2vec_cnn.hdf5\n",
            "Epoch 11/100\n",
            "90/90 [==============================] - 2s 27ms/step - loss: 0.9274 - accuracy: 0.6153 - val_loss: 1.1301 - val_accuracy: 0.5480\n",
            "\n",
            "Epoch 00011: val_accuracy did not improve from 0.55600\n",
            "Epoch 12/100\n",
            "90/90 [==============================] - 2s 27ms/step - loss: 0.9012 - accuracy: 0.6341 - val_loss: 1.0721 - val_accuracy: 0.5480\n",
            "\n",
            "Epoch 00012: val_accuracy did not improve from 0.55600\n",
            "Epoch 13/100\n",
            "90/90 [==============================] - 2s 27ms/step - loss: 0.8837 - accuracy: 0.6329 - val_loss: 1.1139 - val_accuracy: 0.5540\n",
            "\n",
            "Epoch 00013: val_accuracy did not improve from 0.55600\n",
            "Epoch 14/100\n",
            "90/90 [==============================] - 2s 27ms/step - loss: 0.8719 - accuracy: 0.6392 - val_loss: 1.0557 - val_accuracy: 0.5570\n",
            "\n",
            "Epoch 00014: val_accuracy improved from 0.55600 to 0.55700, saving model to models/weights_word2vec_cnn.hdf5\n",
            "Epoch 15/100\n",
            "90/90 [==============================] - 2s 27ms/step - loss: 0.8361 - accuracy: 0.6569 - val_loss: 1.0579 - val_accuracy: 0.5680\n",
            "\n",
            "Epoch 00015: val_accuracy improved from 0.55700 to 0.56800, saving model to models/weights_word2vec_cnn.hdf5\n",
            "Epoch 16/100\n",
            "90/90 [==============================] - 2s 28ms/step - loss: 0.8253 - accuracy: 0.6542 - val_loss: 1.0596 - val_accuracy: 0.5580\n",
            "\n",
            "Epoch 00016: val_accuracy did not improve from 0.56800\n",
            "Epoch 17/100\n",
            "90/90 [==============================] - 2s 27ms/step - loss: 0.8211 - accuracy: 0.6694 - val_loss: 1.0430 - val_accuracy: 0.5730\n",
            "\n",
            "Epoch 00017: val_accuracy improved from 0.56800 to 0.57300, saving model to models/weights_word2vec_cnn.hdf5\n",
            "Epoch 18/100\n",
            "90/90 [==============================] - 2s 27ms/step - loss: 0.8038 - accuracy: 0.6769 - val_loss: 1.1137 - val_accuracy: 0.5650\n",
            "\n",
            "Epoch 00018: val_accuracy did not improve from 0.57300\n",
            "Epoch 19/100\n",
            "90/90 [==============================] - 2s 27ms/step - loss: 0.7919 - accuracy: 0.6877 - val_loss: 1.0809 - val_accuracy: 0.5570\n",
            "\n",
            "Epoch 00019: val_accuracy did not improve from 0.57300\n",
            "Epoch 20/100\n",
            "90/90 [==============================] - 2s 27ms/step - loss: 0.7891 - accuracy: 0.6837 - val_loss: 1.1197 - val_accuracy: 0.5630\n",
            "\n",
            "Epoch 00020: val_accuracy did not improve from 0.57300\n",
            "Epoch 21/100\n",
            "90/90 [==============================] - 2s 27ms/step - loss: 0.7654 - accuracy: 0.6872 - val_loss: 1.0993 - val_accuracy: 0.5690\n",
            "\n",
            "Epoch 00021: val_accuracy did not improve from 0.57300\n",
            "Epoch 22/100\n",
            "90/90 [==============================] - 2s 27ms/step - loss: 0.7542 - accuracy: 0.7021 - val_loss: 1.1379 - val_accuracy: 0.5580\n",
            "\n",
            "Epoch 00022: val_accuracy did not improve from 0.57300\n",
            "Epoch 23/100\n",
            "90/90 [==============================] - 2s 27ms/step - loss: 0.7363 - accuracy: 0.7065 - val_loss: 1.1443 - val_accuracy: 0.5540\n",
            "\n",
            "Epoch 00023: val_accuracy did not improve from 0.57300\n",
            "Epoch 24/100\n",
            "90/90 [==============================] - 2s 27ms/step - loss: 0.7391 - accuracy: 0.7073 - val_loss: 1.1515 - val_accuracy: 0.5560\n",
            "\n",
            "Epoch 00024: val_accuracy did not improve from 0.57300\n",
            "Epoch 25/100\n",
            "90/90 [==============================] - 2s 28ms/step - loss: 0.7164 - accuracy: 0.7085 - val_loss: 1.1408 - val_accuracy: 0.5520\n",
            "\n",
            "Epoch 00025: val_accuracy did not improve from 0.57300\n",
            "Epoch 26/100\n",
            "90/90 [==============================] - 2s 27ms/step - loss: 0.7045 - accuracy: 0.7227 - val_loss: 1.1705 - val_accuracy: 0.5630\n",
            "\n",
            "Epoch 00026: val_accuracy did not improve from 0.57300\n",
            "Epoch 27/100\n",
            "90/90 [==============================] - 2s 27ms/step - loss: 0.6875 - accuracy: 0.7294 - val_loss: 1.1307 - val_accuracy: 0.5620\n",
            "\n",
            "Epoch 00027: val_accuracy did not improve from 0.57300\n",
            "Epoch 28/100\n",
            "90/90 [==============================] - 2s 27ms/step - loss: 0.6677 - accuracy: 0.7414 - val_loss: 1.1984 - val_accuracy: 0.5600\n",
            "\n",
            "Epoch 00028: val_accuracy did not improve from 0.57300\n",
            "Epoch 29/100\n",
            "90/90 [==============================] - 2s 28ms/step - loss: 0.6609 - accuracy: 0.7451 - val_loss: 1.1763 - val_accuracy: 0.5620\n",
            "\n",
            "Epoch 00029: val_accuracy did not improve from 0.57300\n",
            "Epoch 30/100\n",
            "90/90 [==============================] - 2s 28ms/step - loss: 0.6501 - accuracy: 0.7420 - val_loss: 1.1424 - val_accuracy: 0.5630\n",
            "\n",
            "Epoch 00030: val_accuracy did not improve from 0.57300\n",
            "Epoch 31/100\n",
            "90/90 [==============================] - 2s 28ms/step - loss: 0.6434 - accuracy: 0.7495 - val_loss: 1.2186 - val_accuracy: 0.5510\n",
            "\n",
            "Epoch 00031: val_accuracy did not improve from 0.57300\n",
            "Epoch 32/100\n",
            "90/90 [==============================] - 2s 27ms/step - loss: 0.6267 - accuracy: 0.7544 - val_loss: 1.1916 - val_accuracy: 0.5610\n",
            "\n",
            "Epoch 00032: val_accuracy did not improve from 0.57300\n",
            "Epoch 00032: early stopping\n",
            "100/100 [==============================] - 2s 9ms/step - loss: 0.7158 - accuracy: 0.7240\n",
            "20/20 [==============================] - 0s 9ms/step - loss: 0.9570 - accuracy: 0.6025\n",
            "training loss: 0.7158012986183167 training accuracy 0.7239999771118164\n",
            "valid loss: 0.9570356011390686 valid accuracy 0.6025000214576721\n"
          ],
          "name": "stdout"
        }
      ]
    },
    {
      "cell_type": "code",
      "metadata": {
        "colab": {
          "base_uri": "https://localhost:8080/",
          "height": 279
        },
        "id": "m1uXfNo2ggLP",
        "outputId": "aea23e9e-6e4a-4f9d-e31d-02147a06f65a"
      },
      "source": [
        "plt.figure(figsize=(10,4))\n",
        "plt.subplot(1,2,1)\n",
        "plt.plot(word2vec_bilstm_cnn_history.history[\"loss\"], label=\"Word2Vec+BiLSTM+CNN-training\", color=\"blue\", linestyle=\"dashed\")\n",
        "plt.plot(word2vec_bilstm_cnn_history.history[\"val_loss\"], label=\"Word2Vec+BiLSTM+CNN-validation\", color=\"blue\")\n",
        "plt.plot(word2vec_bilstm_history.history[\"loss\"], label=\"Word2Vec+BiLSTM-training\", color=\"orange\", linestyle=\"dashed\")\n",
        "plt.plot(word2vec_bilstm_history.history[\"val_loss\"], label=\"Word2Vec+BiLSTM-validation\", color=\"orange\")\n",
        "plt.xlabel(\"Iteration\")\n",
        "plt.ylabel(\"Loss\")\n",
        "plt.legend()\n",
        "plt.subplot(1,2,2)\n",
        "plt.plot(word2vec_bilstm_cnn_history.history[\"accuracy\"], label=\"Word2Vec+BiLSTM+CNN-training\", color=\"blue\", linestyle=\"dashed\")\n",
        "plt.plot(word2vec_bilstm_cnn_history.history[\"val_accuracy\"], label=\"Word2Vec+BiLSTM+CNN-validation\", color=\"blue\")\n",
        "plt.plot(word2vec_bilstm_history.history[\"accuracy\"], label=\"Word2Vec+BiLSTM-training\", color=\"orange\", linestyle=\"dashed\")\n",
        "plt.plot(word2vec_bilstm_history.history[\"val_accuracy\"], label=\"Word2Vec+BiLSTM-validation\", color=\"orange\")\n",
        "plt.xlabel(\"Iteration\")\n",
        "plt.ylabel(\"Accuracy\")\n",
        "plt.legend()\n",
        "plt.show()"
      ],
      "execution_count": 105,
      "outputs": [
        {
          "output_type": "display_data",
          "data": {
            "image/png": "[encoded data removed]",
            "text/plain": [
              "<Figure size 720x288 with 2 Axes>"
            ]
          },
          "metadata": {
            "tags": [],
            "needs_background": "light"
          }
        }
      ]
    },
    {
      "cell_type": "markdown",
      "metadata": {
        "id": "OiW3t--DnHtP"
      },
      "source": [
        "# LSTM + CNN"
      ]
    },
    {
      "cell_type": "code",
      "metadata": {
        "id": "8Bb2OY4DkMYa"
      },
      "source": [
        "def Emb_Lstm_Cnn_Mlp(input_length=max_len, vocab_size=len(feats_dict), \n",
        "                     embedding_size=100, hidden_size=100, \n",
        "                     num_filters=100, kernel_size=2, strides=1, \n",
        "                     output_size=num_classes, learning_rate=0.001,\n",
        "                     dropout_rate=0.5, recurrent_dropout_rate=0.5, \n",
        "                     train=False, optimizer=\"RMSprop\"):\n",
        "    x = Input(shape=(input_length,))\n",
        "    if embedding_matrix is not None:\n",
        "        emb = Embedding(input_dim=vocab_size,\n",
        "                            output_dim=embedding_size,\n",
        "                            input_length=input_length,\n",
        "                            embeddings_initializer=keras.initializers.Constant(embedding_matrix),\n",
        "                            trainable=train)(x)\n",
        "    else:\n",
        "        emb = Embedding(input_dim=vocab_size,\n",
        "                        output_dim=embedding_size,\n",
        "                        input_length=input_length,\n",
        "                        embeddings_initializer=keras.initializers.TruncatedNormal(mean=0.0, stddev=0.1, seed=0))(x)\n",
        "\n",
        "    emb = Dropout(dropout_rate)(emb)\n",
        "\n",
        "    rec = Bidirectional(LSTM(hidden_size,\n",
        "                        kernel_initializer=keras.initializers.glorot_uniform(seed=0),\n",
        "                        recurrent_initializer=keras.initializers.Orthogonal(gain=1.0, seed=0),\n",
        "                        return_sequences=True, dropout=dropout_rate, recurrent_activation=\"sigmoid\"))(emb)\n",
        "\n",
        "    h = Concatenate()([emb, rec])\n",
        "\n",
        "    # h = Dropout(dropout_rate)(h)\n",
        "\n",
        "    conv = Conv1D(filters=num_filters, kernel_size=kernel_size, padding=\"valid\", strides=strides)(h)\n",
        "\n",
        "    conv = Activation(\"relu\")(conv)\n",
        "        \n",
        "    maxpool = MaxPool1D(pool_size=(input_length-kernel_size)//strides+1)(conv)\n",
        "    # maxpool = MaxPool1D()(conv)\n",
        "\n",
        "    maxpool = Flatten()(maxpool)\n",
        "\n",
        "    maxpool = Dropout(dropout_rate)(maxpool) # testing\n",
        "\n",
        "    y = Dense(output_size,\n",
        "              activation=\"softmax\",\n",
        "              kernel_initializer=keras.initializers.he_normal(seed=0),\n",
        "              bias_initializer=\"zeros\")(maxpool)\n",
        "\n",
        "    model = Model(x, y)\n",
        "    # optimizer = keras.optimizers.Adam(lr=learning_rate)\n",
        "    # optimizer = keras.optimizers.RMSprop(lr=learning_rate)\n",
        "    model.compile(loss=\"categorical_crossentropy\", optimizer=optimizer, metrics=[\"accuracy\"])\n",
        "    # print(model.summary())\n",
        "    return model"
      ],
      "execution_count": 148,
      "outputs": []
    },
    {
      "cell_type": "code",
      "metadata": {
        "id": "h-M8cQ0sggVk"
      },
      "source": [
        "model = Emb_Lstm_Cnn_Mlp(learning_rate=0.001, train=True)"
      ],
      "execution_count": 149,
      "outputs": []
    },
    {
      "cell_type": "code",
      "metadata": {
        "colab": {
          "base_uri": "https://localhost:8080/"
        },
        "id": "1o5V9zolnbMe",
        "outputId": "574b04a9-a61a-4497-aefd-278823ae7d85"
      },
      "source": [
        "os.makedirs(\"models\", exist_ok=True)\n",
        "checkpointer = keras.callbacks.ModelCheckpoint(\n",
        "    filepath=os.path.join(\"models\", \"weights_word2vec_cnn.hdf5\"),\n",
        "    monitor=\"val_accuracy\",\n",
        "    verbose=1,\n",
        "    save_best_only=True)\n",
        "earlystopping = keras.callbacks.EarlyStopping(\n",
        "    monitor='val_accuracy',\n",
        "    patience=15,\n",
        "    verbose=1)\n",
        "reduce_lr = keras.callbacks.ReduceLROnPlateau(monitor='val_accuracy', factor=0.1, patience=7, verbose=1)\n",
        "\n",
        "model = Emb_Lstm_Cnn_Mlp(train=True)\n",
        "word2vec_bilstm_cnn_history = model.fit(train_feats_matrix, train_label_matrix,\n",
        "                                    validation_split=0.1,\n",
        "                                    epochs=100, batch_size=100, verbose=1,\n",
        "                                    callbacks=[checkpointer, earlystopping, reduce_lr])\n",
        "model = keras.models.load_model(os.path.join(\"models\", \"weights_word2vec_cnn.hdf5\"))\n",
        "\n",
        "train_score = model.evaluate(train_feats_matrix, train_label_matrix,\n",
        "                             batch_size=100)\n",
        "valid_score = model.evaluate(valid_feats_matrix, valid_label_matrix,\n",
        "                            batch_size=100)\n",
        "print(\"training loss:\", train_score[0], \"training accuracy\", train_score[1])\n",
        "print(\"valid loss:\", valid_score[0], \"valid accuracy\", valid_score[1])"
      ],
      "execution_count": 154,
      "outputs": [
        {
          "output_type": "stream",
          "text": [
            "Epoch 1/100\n",
            "90/90 [==============================] - 7s 43ms/step - loss: 1.6732 - accuracy: 0.2705 - val_loss: 1.4949 - val_accuracy: 0.2990\n",
            "\n",
            "Epoch 00001: val_accuracy improved from -inf to 0.29900, saving model to models/weights_word2vec_cnn.hdf5\n",
            "Epoch 2/100\n",
            "90/90 [==============================] - 2s 27ms/step - loss: 1.3251 - accuracy: 0.4369 - val_loss: 1.2260 - val_accuracy: 0.5060\n",
            "\n",
            "Epoch 00002: val_accuracy improved from 0.29900 to 0.50600, saving model to models/weights_word2vec_cnn.hdf5\n",
            "Epoch 3/100\n",
            "90/90 [==============================] - 2s 27ms/step - loss: 1.2136 - accuracy: 0.4904 - val_loss: 1.2201 - val_accuracy: 0.5040\n",
            "\n",
            "Epoch 00003: val_accuracy did not improve from 0.50600\n",
            "Epoch 4/100\n",
            "90/90 [==============================] - 2s 27ms/step - loss: 1.1901 - accuracy: 0.4932 - val_loss: 1.1296 - val_accuracy: 0.5380\n",
            "\n",
            "Epoch 00004: val_accuracy improved from 0.50600 to 0.53800, saving model to models/weights_word2vec_cnn.hdf5\n",
            "Epoch 5/100\n",
            "90/90 [==============================] - 2s 27ms/step - loss: 1.1215 - accuracy: 0.5285 - val_loss: 1.1083 - val_accuracy: 0.5180\n",
            "\n",
            "Epoch 00005: val_accuracy did not improve from 0.53800\n",
            "Epoch 6/100\n",
            "90/90 [==============================] - 2s 27ms/step - loss: 1.1039 - accuracy: 0.5315 - val_loss: 1.0928 - val_accuracy: 0.5400\n",
            "\n",
            "Epoch 00006: val_accuracy improved from 0.53800 to 0.54000, saving model to models/weights_word2vec_cnn.hdf5\n",
            "Epoch 7/100\n",
            "90/90 [==============================] - 2s 27ms/step - loss: 1.0781 - accuracy: 0.5505 - val_loss: 1.0890 - val_accuracy: 0.5540\n",
            "\n",
            "Epoch 00007: val_accuracy improved from 0.54000 to 0.55400, saving model to models/weights_word2vec_cnn.hdf5\n",
            "Epoch 8/100\n",
            "90/90 [==============================] - 2s 27ms/step - loss: 1.0461 - accuracy: 0.5586 - val_loss: 1.0796 - val_accuracy: 0.5560\n",
            "\n",
            "Epoch 00008: val_accuracy improved from 0.55400 to 0.55600, saving model to models/weights_word2vec_cnn.hdf5\n",
            "Epoch 9/100\n",
            "90/90 [==============================] - 2s 27ms/step - loss: 1.0437 - accuracy: 0.5714 - val_loss: 1.0429 - val_accuracy: 0.5410\n",
            "\n",
            "Epoch 00009: val_accuracy did not improve from 0.55600\n",
            "Epoch 10/100\n",
            "90/90 [==============================] - 2s 27ms/step - loss: 1.0235 - accuracy: 0.5727 - val_loss: 1.0605 - val_accuracy: 0.5600\n",
            "\n",
            "Epoch 00010: val_accuracy improved from 0.55600 to 0.56000, saving model to models/weights_word2vec_cnn.hdf5\n",
            "Epoch 11/100\n",
            "90/90 [==============================] - 2s 27ms/step - loss: 0.9901 - accuracy: 0.5959 - val_loss: 1.1052 - val_accuracy: 0.5450\n",
            "\n",
            "Epoch 00011: val_accuracy did not improve from 0.56000\n",
            "Epoch 12/100\n",
            "90/90 [==============================] - 2s 27ms/step - loss: 0.9850 - accuracy: 0.5883 - val_loss: 1.0570 - val_accuracy: 0.5520\n",
            "\n",
            "Epoch 00012: val_accuracy did not improve from 0.56000\n",
            "Epoch 13/100\n",
            "90/90 [==============================] - 2s 27ms/step - loss: 0.9823 - accuracy: 0.5936 - val_loss: 1.0558 - val_accuracy: 0.5470\n",
            "\n",
            "Epoch 00013: val_accuracy did not improve from 0.56000\n",
            "Epoch 14/100\n",
            "90/90 [==============================] - 2s 27ms/step - loss: 0.9445 - accuracy: 0.6049 - val_loss: 1.0415 - val_accuracy: 0.5580\n",
            "\n",
            "Epoch 00014: val_accuracy did not improve from 0.56000\n",
            "Epoch 15/100\n",
            "90/90 [==============================] - 2s 27ms/step - loss: 0.9368 - accuracy: 0.6125 - val_loss: 1.0378 - val_accuracy: 0.5500\n",
            "\n",
            "Epoch 00015: val_accuracy did not improve from 0.56000\n",
            "Epoch 16/100\n",
            "90/90 [==============================] - 2s 26ms/step - loss: 0.9176 - accuracy: 0.6139 - val_loss: 1.0213 - val_accuracy: 0.5600\n",
            "\n",
            "Epoch 00016: val_accuracy did not improve from 0.56000\n",
            "Epoch 17/100\n",
            "90/90 [==============================] - 2s 27ms/step - loss: 0.8938 - accuracy: 0.6300 - val_loss: 1.0141 - val_accuracy: 0.5620\n",
            "\n",
            "Epoch 00017: val_accuracy improved from 0.56000 to 0.56200, saving model to models/weights_word2vec_cnn.hdf5\n",
            "Epoch 18/100\n",
            "90/90 [==============================] - 2s 27ms/step - loss: 0.9023 - accuracy: 0.6272 - val_loss: 1.0659 - val_accuracy: 0.5440\n",
            "\n",
            "Epoch 00018: val_accuracy did not improve from 0.56200\n",
            "Epoch 19/100\n",
            "90/90 [==============================] - 2s 27ms/step - loss: 0.9076 - accuracy: 0.6325 - val_loss: 1.0254 - val_accuracy: 0.5570\n",
            "\n",
            "Epoch 00019: val_accuracy did not improve from 0.56200\n",
            "Epoch 20/100\n",
            "90/90 [==============================] - 2s 27ms/step - loss: 0.9044 - accuracy: 0.6227 - val_loss: 1.0637 - val_accuracy: 0.5660\n",
            "\n",
            "Epoch 00020: val_accuracy improved from 0.56200 to 0.56600, saving model to models/weights_word2vec_cnn.hdf5\n",
            "Epoch 21/100\n",
            "90/90 [==============================] - 2s 27ms/step - loss: 0.8712 - accuracy: 0.6343 - val_loss: 1.0220 - val_accuracy: 0.5630\n",
            "\n",
            "Epoch 00021: val_accuracy did not improve from 0.56600\n",
            "Epoch 22/100\n",
            "90/90 [==============================] - 2s 27ms/step - loss: 0.8526 - accuracy: 0.6479 - val_loss: 1.0189 - val_accuracy: 0.5650\n",
            "\n",
            "Epoch 00022: val_accuracy did not improve from 0.56600\n",
            "Epoch 23/100\n",
            "90/90 [==============================] - 2s 27ms/step - loss: 0.8553 - accuracy: 0.6520 - val_loss: 1.0599 - val_accuracy: 0.5620\n",
            "\n",
            "Epoch 00023: val_accuracy did not improve from 0.56600\n",
            "Epoch 24/100\n",
            "90/90 [==============================] - 2s 26ms/step - loss: 0.8620 - accuracy: 0.6437 - val_loss: 1.0294 - val_accuracy: 0.5730\n",
            "\n",
            "Epoch 00024: val_accuracy improved from 0.56600 to 0.57300, saving model to models/weights_word2vec_cnn.hdf5\n",
            "Epoch 25/100\n",
            "90/90 [==============================] - 2s 27ms/step - loss: 0.8407 - accuracy: 0.6469 - val_loss: 1.0524 - val_accuracy: 0.5640\n",
            "\n",
            "Epoch 00025: val_accuracy did not improve from 0.57300\n",
            "Epoch 26/100\n",
            "90/90 [==============================] - 2s 27ms/step - loss: 0.8385 - accuracy: 0.6571 - val_loss: 1.0610 - val_accuracy: 0.5640\n",
            "\n",
            "Epoch 00026: val_accuracy did not improve from 0.57300\n",
            "Epoch 27/100\n",
            "90/90 [==============================] - 2s 27ms/step - loss: 0.8186 - accuracy: 0.6677 - val_loss: 1.0322 - val_accuracy: 0.5700\n",
            "\n",
            "Epoch 00027: val_accuracy did not improve from 0.57300\n",
            "Epoch 28/100\n",
            "90/90 [==============================] - 2s 27ms/step - loss: 0.8011 - accuracy: 0.6665 - val_loss: 1.0815 - val_accuracy: 0.5520\n",
            "\n",
            "Epoch 00028: val_accuracy did not improve from 0.57300\n",
            "Epoch 29/100\n",
            "90/90 [==============================] - 2s 27ms/step - loss: 0.8125 - accuracy: 0.6701 - val_loss: 1.0579 - val_accuracy: 0.5850\n",
            "\n",
            "Epoch 00029: val_accuracy improved from 0.57300 to 0.58500, saving model to models/weights_word2vec_cnn.hdf5\n",
            "Epoch 30/100\n",
            "90/90 [==============================] - 2s 27ms/step - loss: 0.8014 - accuracy: 0.6748 - val_loss: 1.0394 - val_accuracy: 0.5460\n",
            "\n",
            "Epoch 00030: val_accuracy did not improve from 0.58500\n",
            "Epoch 31/100\n",
            "90/90 [==============================] - 2s 27ms/step - loss: 0.7883 - accuracy: 0.6848 - val_loss: 1.0206 - val_accuracy: 0.5660\n",
            "\n",
            "Epoch 00031: val_accuracy did not improve from 0.58500\n",
            "Epoch 32/100\n",
            "90/90 [==============================] - 2s 27ms/step - loss: 0.7876 - accuracy: 0.6814 - val_loss: 1.0457 - val_accuracy: 0.5720\n",
            "\n",
            "Epoch 00032: val_accuracy did not improve from 0.58500\n",
            "Epoch 33/100\n",
            "90/90 [==============================] - 2s 27ms/step - loss: 0.7956 - accuracy: 0.6682 - val_loss: 1.0622 - val_accuracy: 0.5680\n",
            "\n",
            "Epoch 00033: val_accuracy did not improve from 0.58500\n",
            "Epoch 34/100\n",
            "90/90 [==============================] - 2s 27ms/step - loss: 0.7764 - accuracy: 0.6829 - val_loss: 1.0418 - val_accuracy: 0.5730\n",
            "\n",
            "Epoch 00034: val_accuracy did not improve from 0.58500\n",
            "Epoch 35/100\n",
            "90/90 [==============================] - 2s 26ms/step - loss: 0.7572 - accuracy: 0.6865 - val_loss: 1.0341 - val_accuracy: 0.5700\n",
            "\n",
            "Epoch 00035: val_accuracy did not improve from 0.58500\n",
            "Epoch 36/100\n",
            "90/90 [==============================] - 2s 27ms/step - loss: 0.7595 - accuracy: 0.6855 - val_loss: 1.0598 - val_accuracy: 0.5760\n",
            "\n",
            "Epoch 00036: val_accuracy did not improve from 0.58500\n",
            "\n",
            "Epoch 00036: ReduceLROnPlateau reducing learning rate to 0.00010000000474974513.\n",
            "Epoch 37/100\n",
            "90/90 [==============================] - 2s 27ms/step - loss: 0.7201 - accuracy: 0.6961 - val_loss: 1.0585 - val_accuracy: 0.5760\n",
            "\n",
            "Epoch 00037: val_accuracy did not improve from 0.58500\n",
            "Epoch 38/100\n",
            "90/90 [==============================] - 2s 27ms/step - loss: 0.7228 - accuracy: 0.6951 - val_loss: 1.0553 - val_accuracy: 0.5720\n",
            "\n",
            "Epoch 00038: val_accuracy did not improve from 0.58500\n",
            "Epoch 39/100\n",
            "90/90 [==============================] - 2s 27ms/step - loss: 0.7017 - accuracy: 0.7208 - val_loss: 1.0637 - val_accuracy: 0.5750\n",
            "\n",
            "Epoch 00039: val_accuracy did not improve from 0.58500\n",
            "Epoch 40/100\n",
            "90/90 [==============================] - 2s 27ms/step - loss: 0.7146 - accuracy: 0.7153 - val_loss: 1.0644 - val_accuracy: 0.5770\n",
            "\n",
            "Epoch 00040: val_accuracy did not improve from 0.58500\n",
            "Epoch 41/100\n",
            "90/90 [==============================] - 2s 27ms/step - loss: 0.7178 - accuracy: 0.7161 - val_loss: 1.0582 - val_accuracy: 0.5810\n",
            "\n",
            "Epoch 00041: val_accuracy did not improve from 0.58500\n",
            "Epoch 42/100\n",
            "90/90 [==============================] - 2s 27ms/step - loss: 0.7137 - accuracy: 0.7142 - val_loss: 1.0626 - val_accuracy: 0.5720\n",
            "\n",
            "Epoch 00042: val_accuracy did not improve from 0.58500\n",
            "Epoch 43/100\n",
            "90/90 [==============================] - 2s 27ms/step - loss: 0.6926 - accuracy: 0.7230 - val_loss: 1.0650 - val_accuracy: 0.5720\n",
            "\n",
            "Epoch 00043: val_accuracy did not improve from 0.58500\n",
            "\n",
            "Epoch 00043: ReduceLROnPlateau reducing learning rate to 1.0000000474974514e-05.\n",
            "Epoch 44/100\n",
            "90/90 [==============================] - 2s 27ms/step - loss: 0.7122 - accuracy: 0.7114 - val_loss: 1.0619 - val_accuracy: 0.5710\n",
            "\n",
            "Epoch 00044: val_accuracy did not improve from 0.58500\n",
            "Epoch 00044: early stopping\n",
            "100/100 [==============================] - 2s 9ms/step - loss: 0.7022 - accuracy: 0.7301\n",
            "20/20 [==============================] - 0s 9ms/step - loss: 0.9515 - accuracy: 0.6000\n",
            "training loss: 0.702154278755188 training accuracy 0.7300999760627747\n",
            "valid loss: 0.9514688849449158 valid accuracy 0.6000000238418579\n"
          ],
          "name": "stdout"
        }
      ]
    },
    {
      "cell_type": "markdown",
      "metadata": {
        "id": "hvLwHRggSM0c"
      },
      "source": [
        "Best LSTM + CNN model till now"
      ]
    },
    {
      "cell_type": "code",
      "metadata": {
        "colab": {
          "base_uri": "https://localhost:8080/"
        },
        "id": "djEBSjmwRSwM",
        "outputId": "882ba6a5-22e7-4d56-c286-5e6b67cd49e5"
      },
      "source": [
        "# model_almost_best_lstm_cnn = Emb_Lstm_Cnn_Mlp(learning_rate=0.001, train=True, hidden_size=100)\n",
        "\n",
        "!wget -q https://hkustconnect-my.sharepoint.com/:u:/g/personal/nnanda_connect_ust_hk/EZ31mNhwpkZLt4tBq0GKt_kBlqE6fQWSIu8W9_AiDi70fA?download=1 -O \"weights_word2vec_cnn.hdf5\"\n",
        "\n",
        "model_almost_best_lstm_cnn = keras.models.load_model(os.path.join(\"weights_word2vec_cnn.hdf5\"))\n",
        "\n",
        "train_score = model_almost_best_lstm_cnn.evaluate(train_feats_matrix, train_label_matrix,\n",
        "                             batch_size=100)\n",
        "valid_score = model_almost_best_lstm_cnn.evaluate(valid_feats_matrix, valid_label_matrix,\n",
        "                            batch_size=100)\n",
        "print(\"training loss:\", train_score[0], \"training accuracy\", train_score[1])\n",
        "print(\"valid loss:\", valid_score[0], \"valid accuracy\", valid_score[1])"
      ],
      "execution_count": 147,
      "outputs": [
        {
          "output_type": "stream",
          "text": [
            "100/100 [==============================] - 2s 10ms/step - loss: 0.7159 - accuracy: 0.7224\n",
            "20/20 [==============================] - 0s 10ms/step - loss: 0.9691 - accuracy: 0.6085\n",
            "training loss: 0.7158880233764648 training accuracy 0.7224000096321106\n",
            "valid loss: 0.9690638780593872 valid accuracy 0.6085000038146973\n"
          ],
          "name": "stdout"
        }
      ]
    },
    {
      "cell_type": "code",
      "metadata": {
        "id": "nw9A-l0cvbqv"
      },
      "source": [
        ""
      ],
      "execution_count": null,
      "outputs": []
    },
    {
      "cell_type": "code",
      "metadata": {
        "id": "G7NBidW9vbtg"
      },
      "source": [
        ""
      ],
      "execution_count": null,
      "outputs": []
    },
    {
      "cell_type": "code",
      "metadata": {
        "id": "Cq4QGG95vbwl"
      },
      "source": [
        ""
      ],
      "execution_count": null,
      "outputs": []
    },
    {
      "cell_type": "code",
      "metadata": {
        "id": "D5YKxoJ6vbz4"
      },
      "source": [
        ""
      ],
      "execution_count": null,
      "outputs": []
    },
    {
      "cell_type": "code",
      "metadata": {
        "id": "B1OIE77Hvb2V"
      },
      "source": [
        ""
      ],
      "execution_count": null,
      "outputs": []
    },
    {
      "cell_type": "code",
      "metadata": {
        "id": "zPtIM_-jvb5k"
      },
      "source": [
        ""
      ],
      "execution_count": null,
      "outputs": []
    },
    {
      "cell_type": "code",
      "metadata": {
        "id": "ArPQ_A3qvb8D"
      },
      "source": [
        ""
      ],
      "execution_count": null,
      "outputs": []
    },
    {
      "cell_type": "code",
      "metadata": {
        "id": "5x-UW6Hrvb-k"
      },
      "source": [
        ""
      ],
      "execution_count": null,
      "outputs": []
    },
    {
      "cell_type": "code",
      "metadata": {
        "id": "qOh0NOD1vcBE"
      },
      "source": [
        ""
      ],
      "execution_count": null,
      "outputs": []
    },
    {
      "cell_type": "markdown",
      "metadata": {
        "id": "WAVj0m0tpLJj"
      },
      "source": [
        "# Genism embeddings - Not working"
      ]
    },
    {
      "cell_type": "code",
      "metadata": {
        "id": "gdxrYVZgqeKv"
      },
      "source": [
        "os.makedirs(\"data\", exist_ok=True)\n",
        "os.makedirs(\"models\", exist_ok=True)\n",
        "with open('data/reviews.txt', 'w') as filehandle:\n",
        "    for sent in train_tokens:\n",
        "        combined_sent = (\" \").join(sent)\n",
        "        filehandle.write('%s\\n' % combined_sent)"
      ],
      "execution_count": 16,
      "outputs": []
    },
    {
      "cell_type": "code",
      "metadata": {
        "colab": {
          "base_uri": "https://localhost:8080/"
        },
        "id": "IPdDzhPURSy2",
        "outputId": "5c9b8052-72f6-4e6f-ccc3-53ab46b82596"
      },
      "source": [
        "!pip -q install gensim\n",
        "!pip -q install python-Levenshtein \n",
        "from gensim.models import Word2Vec, KeyedVectors\n",
        "\n",
        "filepath = os.path.join(\"data\", \"reviews.txt\")\n",
        "savepath = os.path.join(\"models\", \"word2vec.model\")"
      ],
      "execution_count": 17,
      "outputs": [
        {
          "output_type": "stream",
          "text": [
            "\u001b[?25l\r\u001b[K     |██████▌                         | 10kB 26.0MB/s eta 0:00:01\r\u001b[K     |█████████████                   | 20kB 15.4MB/s eta 0:00:01\r\u001b[K     |███████████████████▌            | 30kB 9.6MB/s eta 0:00:01\r\u001b[K     |██████████████████████████      | 40kB 7.9MB/s eta 0:00:01\r\u001b[K     |████████████████████████████████| 51kB 3.4MB/s \n",
            "\u001b[?25h  Building wheel for python-Levenshtein (setup.py) ... \u001b[?25l\u001b[?25hdone\n"
          ],
          "name": "stdout"
        }
      ]
    },
    {
      "cell_type": "code",
      "metadata": {
        "colab": {
          "base_uri": "https://localhost:8080/",
          "height": 198
        },
        "id": "fKxXLUzNRS1j",
        "outputId": "15ddc0f1-fb3a-4dc7-bcd8-553348e888b2"
      },
      "source": [
        "# word_vectors = Word2Vec(corpus_file=filepath, vector_size=100, epochs=10, sg=1).wv\n",
        "model = Word2Vec(sentences=train_tokens, vector_size=100, window=5, min_count=1, workers=4)\n",
        "# word_vectors.save(savepath)"
      ],
      "execution_count": 23,
      "outputs": [
        {
          "output_type": "error",
          "ename": "TypeError",
          "evalue": "ignored",
          "traceback": [
            "\u001b[0;31m---------------------------------------------------------------------------\u001b[0m",
            "\u001b[0;31mTypeError\u001b[0m                                 Traceback (most recent call last)",
            "\u001b[0;32m<ipython-input-23-e74a634fc662>\u001b[0m in \u001b[0;36m<module>\u001b[0;34m()\u001b[0m\n\u001b[1;32m      1\u001b[0m \u001b[0;31m# word_vectors = Word2Vec(corpus_file=filepath, vector_size=100, epochs=10, sg=1).wv\u001b[0m\u001b[0;34m\u001b[0m\u001b[0;34m\u001b[0m\u001b[0;34m\u001b[0m\u001b[0m\n\u001b[0;32m----> 2\u001b[0;31m \u001b[0mmodel\u001b[0m \u001b[0;34m=\u001b[0m \u001b[0mWord2Vec\u001b[0m\u001b[0;34m(\u001b[0m\u001b[0mvector_size\u001b[0m\u001b[0;34m=\u001b[0m\u001b[0;36m100\u001b[0m\u001b[0;34m,\u001b[0m \u001b[0mwindow\u001b[0m\u001b[0;34m=\u001b[0m\u001b[0;36m5\u001b[0m\u001b[0;34m,\u001b[0m \u001b[0mmin_count\u001b[0m\u001b[0;34m=\u001b[0m\u001b[0;36m1\u001b[0m\u001b[0;34m,\u001b[0m \u001b[0mworkers\u001b[0m\u001b[0;34m=\u001b[0m\u001b[0;36m4\u001b[0m\u001b[0;34m)\u001b[0m\u001b[0;34m\u001b[0m\u001b[0;34m\u001b[0m\u001b[0m\n\u001b[0m\u001b[1;32m      3\u001b[0m \u001b[0;31m# word_vectors.save(savepath)\u001b[0m\u001b[0;34m\u001b[0m\u001b[0;34m\u001b[0m\u001b[0;34m\u001b[0m\u001b[0m\n",
            "\u001b[0;31mTypeError\u001b[0m: __init__() got an unexpected keyword argument 'vector_size'"
          ]
        }
      ]
    },
    {
      "cell_type": "code",
      "metadata": {
        "colab": {
          "base_uri": "https://localhost:8080/"
        },
        "id": "N2qQpu0fRS3x",
        "outputId": "73435128-09c5-455c-b8ef-29c5a46e55fa"
      },
      "source": [
        "!python3 --version\n"
      ],
      "execution_count": 24,
      "outputs": [
        {
          "output_type": "stream",
          "text": [
            "Python 3.7.10\n"
          ],
          "name": "stdout"
        }
      ]
    },
    {
      "cell_type": "code",
      "metadata": {
        "id": "sXvWjdfmRS6p"
      },
      "source": [
        ""
      ],
      "execution_count": null,
      "outputs": []
    },
    {
      "cell_type": "code",
      "metadata": {
        "id": "lxJEugoARS8w"
      },
      "source": [
        ""
      ],
      "execution_count": null,
      "outputs": []
    },
    {
      "cell_type": "code",
      "metadata": {
        "id": "a5j-Z6yrRTAq"
      },
      "source": [
        ""
      ],
      "execution_count": null,
      "outputs": []
    },
    {
      "cell_type": "code",
      "metadata": {
        "id": "i-ujfy9lRTCf"
      },
      "source": [
        ""
      ],
      "execution_count": null,
      "outputs": []
    },
    {
      "cell_type": "code",
      "metadata": {
        "id": "2Tr-i39uRTEo"
      },
      "source": [
        ""
      ],
      "execution_count": null,
      "outputs": []
    },
    {
      "cell_type": "code",
      "metadata": {
        "id": "xR05SAlmRTHs"
      },
      "source": [
        ""
      ],
      "execution_count": null,
      "outputs": []
    },
    {
      "cell_type": "markdown",
      "metadata": {
        "id": "b4wcYgszRONH"
      },
      "source": [
        "Sklearn way to tune hyperparameters - takes too long"
      ]
    },
    {
      "cell_type": "code",
      "metadata": {
        "colab": {
          "base_uri": "https://localhost:8080/",
          "height": 375
        },
        "id": "zFzcrNkeosrt",
        "outputId": "1be4d092-d443-4b42-b954-1ddfc07f1318"
      },
      "source": [
        "# def create_model(optimizer='Adam'):\n",
        "#     model = Emb_Lstm_Cnn_Mlp(train=True, optimizer=optimizer)\n",
        "#     return model\n",
        "\n",
        "# #create the model with the best epoch and batch size found in last step\n",
        "# model = KerasClassifier(build_fn=create_model, epochs=20, batch_size=100, verbose=1)\n",
        "\n",
        "# # difine grid search parameter \n",
        "# optimizer = ['RMSprop', 'Adam']\n",
        "\n",
        "# param_grid = dict(optimizer=optimizer)\n",
        "# grid = GridSearchCV(estimator=model, param_grid=param_grid, n_jobs=4)\n",
        "# grid_result = grid.fit(train_feats_matrix, train_label_matrix, validation_split=0.1)\n",
        "\n",
        "# # grid searching result\n",
        "# print(\"Best: %f using %s\" % (grid_result.best_score_, grid_result.best_params_))\n",
        "# means = grid_result.cv_results_['mean_test_score']\n",
        "# stds = grid_result.cv_results_['std_test_score']\n",
        "# params = grid_result.cv_results_['params']\n",
        "# for mean, stdev, param in zip(means, stds, params):\n",
        "#     print(\"%f (%f) with: %r\" % (mean, stdev, param))"
      ],
      "execution_count": 145,
      "outputs": [
        {
          "output_type": "error",
          "ename": "KeyboardInterrupt",
          "evalue": "ignored",
          "traceback": [
            "\u001b[0;31m---------------------------------------------------------------------------\u001b[0m",
            "\u001b[0;31mKeyboardInterrupt\u001b[0m                         Traceback (most recent call last)",
            "\u001b[0;32m<ipython-input-145-e87a3df6954c>\u001b[0m in \u001b[0;36m<module>\u001b[0;34m()\u001b[0m\n\u001b[1;32m     11\u001b[0m \u001b[0mparam_grid\u001b[0m \u001b[0;34m=\u001b[0m \u001b[0mdict\u001b[0m\u001b[0;34m(\u001b[0m\u001b[0moptimizer\u001b[0m\u001b[0;34m=\u001b[0m\u001b[0moptimizer\u001b[0m\u001b[0;34m)\u001b[0m\u001b[0;34m\u001b[0m\u001b[0;34m\u001b[0m\u001b[0m\n\u001b[1;32m     12\u001b[0m \u001b[0mgrid\u001b[0m \u001b[0;34m=\u001b[0m \u001b[0mGridSearchCV\u001b[0m\u001b[0;34m(\u001b[0m\u001b[0mestimator\u001b[0m\u001b[0;34m=\u001b[0m\u001b[0mmodel\u001b[0m\u001b[0;34m,\u001b[0m \u001b[0mparam_grid\u001b[0m\u001b[0;34m=\u001b[0m\u001b[0mparam_grid\u001b[0m\u001b[0;34m,\u001b[0m \u001b[0mn_jobs\u001b[0m\u001b[0;34m=\u001b[0m\u001b[0;36m4\u001b[0m\u001b[0;34m)\u001b[0m\u001b[0;34m\u001b[0m\u001b[0;34m\u001b[0m\u001b[0m\n\u001b[0;32m---> 13\u001b[0;31m \u001b[0mgrid_result\u001b[0m \u001b[0;34m=\u001b[0m \u001b[0mgrid\u001b[0m\u001b[0;34m.\u001b[0m\u001b[0mfit\u001b[0m\u001b[0;34m(\u001b[0m\u001b[0mtrain_feats_matrix\u001b[0m\u001b[0;34m,\u001b[0m \u001b[0mtrain_label_matrix\u001b[0m\u001b[0;34m,\u001b[0m \u001b[0mvalidation_split\u001b[0m\u001b[0;34m=\u001b[0m\u001b[0;36m0.1\u001b[0m\u001b[0;34m)\u001b[0m\u001b[0;34m\u001b[0m\u001b[0;34m\u001b[0m\u001b[0m\n\u001b[0m\u001b[1;32m     14\u001b[0m \u001b[0;34m\u001b[0m\u001b[0m\n\u001b[1;32m     15\u001b[0m \u001b[0;31m# grid searching result\u001b[0m\u001b[0;34m\u001b[0m\u001b[0;34m\u001b[0m\u001b[0;34m\u001b[0m\u001b[0m\n",
            "\u001b[0;32m/usr/local/lib/python3.7/dist-packages/sklearn/model_selection/_search.py\u001b[0m in \u001b[0;36mfit\u001b[0;34m(self, X, y, groups, **fit_params)\u001b[0m\n\u001b[1;32m    708\u001b[0m                 \u001b[0;32mreturn\u001b[0m \u001b[0mresults\u001b[0m\u001b[0;34m\u001b[0m\u001b[0;34m\u001b[0m\u001b[0m\n\u001b[1;32m    709\u001b[0m \u001b[0;34m\u001b[0m\u001b[0m\n\u001b[0;32m--> 710\u001b[0;31m             \u001b[0mself\u001b[0m\u001b[0;34m.\u001b[0m\u001b[0m_run_search\u001b[0m\u001b[0;34m(\u001b[0m\u001b[0mevaluate_candidates\u001b[0m\u001b[0;34m)\u001b[0m\u001b[0;34m\u001b[0m\u001b[0;34m\u001b[0m\u001b[0m\n\u001b[0m\u001b[1;32m    711\u001b[0m \u001b[0;34m\u001b[0m\u001b[0m\n\u001b[1;32m    712\u001b[0m         \u001b[0;31m# For multi-metric evaluation, store the best_index_, best_params_ and\u001b[0m\u001b[0;34m\u001b[0m\u001b[0;34m\u001b[0m\u001b[0;34m\u001b[0m\u001b[0m\n",
            "\u001b[0;32m/usr/local/lib/python3.7/dist-packages/sklearn/model_selection/_search.py\u001b[0m in \u001b[0;36m_run_search\u001b[0;34m(self, evaluate_candidates)\u001b[0m\n\u001b[1;32m   1149\u001b[0m     \u001b[0;32mdef\u001b[0m \u001b[0m_run_search\u001b[0m\u001b[0;34m(\u001b[0m\u001b[0mself\u001b[0m\u001b[0;34m,\u001b[0m \u001b[0mevaluate_candidates\u001b[0m\u001b[0;34m)\u001b[0m\u001b[0;34m:\u001b[0m\u001b[0;34m\u001b[0m\u001b[0;34m\u001b[0m\u001b[0m\n\u001b[1;32m   1150\u001b[0m         \u001b[0;34m\"\"\"Search all candidates in param_grid\"\"\"\u001b[0m\u001b[0;34m\u001b[0m\u001b[0;34m\u001b[0m\u001b[0m\n\u001b[0;32m-> 1151\u001b[0;31m         \u001b[0mevaluate_candidates\u001b[0m\u001b[0;34m(\u001b[0m\u001b[0mParameterGrid\u001b[0m\u001b[0;34m(\u001b[0m\u001b[0mself\u001b[0m\u001b[0;34m.\u001b[0m\u001b[0mparam_grid\u001b[0m\u001b[0;34m)\u001b[0m\u001b[0;34m)\u001b[0m\u001b[0;34m\u001b[0m\u001b[0;34m\u001b[0m\u001b[0m\n\u001b[0m\u001b[1;32m   1152\u001b[0m \u001b[0;34m\u001b[0m\u001b[0m\n\u001b[1;32m   1153\u001b[0m \u001b[0;34m\u001b[0m\u001b[0m\n",
            "\u001b[0;32m/usr/local/lib/python3.7/dist-packages/sklearn/model_selection/_search.py\u001b[0m in \u001b[0;36mevaluate_candidates\u001b[0;34m(candidate_params)\u001b[0m\n\u001b[1;32m    687\u001b[0m                                \u001b[0;32mfor\u001b[0m \u001b[0mparameters\u001b[0m\u001b[0;34m,\u001b[0m \u001b[0;34m(\u001b[0m\u001b[0mtrain\u001b[0m\u001b[0;34m,\u001b[0m \u001b[0mtest\u001b[0m\u001b[0;34m)\u001b[0m\u001b[0;34m\u001b[0m\u001b[0;34m\u001b[0m\u001b[0m\n\u001b[1;32m    688\u001b[0m                                in product(candidate_params,\n\u001b[0;32m--> 689\u001b[0;31m                                           cv.split(X, y, groups)))\n\u001b[0m\u001b[1;32m    690\u001b[0m \u001b[0;34m\u001b[0m\u001b[0m\n\u001b[1;32m    691\u001b[0m                 \u001b[0;32mif\u001b[0m \u001b[0mlen\u001b[0m\u001b[0;34m(\u001b[0m\u001b[0mout\u001b[0m\u001b[0;34m)\u001b[0m \u001b[0;34m<\u001b[0m \u001b[0;36m1\u001b[0m\u001b[0;34m:\u001b[0m\u001b[0;34m\u001b[0m\u001b[0;34m\u001b[0m\u001b[0m\n",
            "\u001b[0;32m/usr/local/lib/python3.7/dist-packages/joblib/parallel.py\u001b[0m in \u001b[0;36m__call__\u001b[0;34m(self, iterable)\u001b[0m\n\u001b[1;32m   1052\u001b[0m \u001b[0;34m\u001b[0m\u001b[0m\n\u001b[1;32m   1053\u001b[0m             \u001b[0;32mwith\u001b[0m \u001b[0mself\u001b[0m\u001b[0;34m.\u001b[0m\u001b[0m_backend\u001b[0m\u001b[0;34m.\u001b[0m\u001b[0mretrieval_context\u001b[0m\u001b[0;34m(\u001b[0m\u001b[0;34m)\u001b[0m\u001b[0;34m:\u001b[0m\u001b[0;34m\u001b[0m\u001b[0;34m\u001b[0m\u001b[0m\n\u001b[0;32m-> 1054\u001b[0;31m                 \u001b[0mself\u001b[0m\u001b[0;34m.\u001b[0m\u001b[0mretrieve\u001b[0m\u001b[0;34m(\u001b[0m\u001b[0;34m)\u001b[0m\u001b[0;34m\u001b[0m\u001b[0;34m\u001b[0m\u001b[0m\n\u001b[0m\u001b[1;32m   1055\u001b[0m             \u001b[0;31m# Make sure that we get a last message telling us we are done\u001b[0m\u001b[0;34m\u001b[0m\u001b[0;34m\u001b[0m\u001b[0;34m\u001b[0m\u001b[0m\n\u001b[1;32m   1056\u001b[0m             \u001b[0melapsed_time\u001b[0m \u001b[0;34m=\u001b[0m \u001b[0mtime\u001b[0m\u001b[0;34m.\u001b[0m\u001b[0mtime\u001b[0m\u001b[0;34m(\u001b[0m\u001b[0;34m)\u001b[0m \u001b[0;34m-\u001b[0m \u001b[0mself\u001b[0m\u001b[0;34m.\u001b[0m\u001b[0m_start_time\u001b[0m\u001b[0;34m\u001b[0m\u001b[0;34m\u001b[0m\u001b[0m\n",
            "\u001b[0;32m/usr/local/lib/python3.7/dist-packages/joblib/parallel.py\u001b[0m in \u001b[0;36mretrieve\u001b[0;34m(self)\u001b[0m\n\u001b[1;32m    931\u001b[0m             \u001b[0;32mtry\u001b[0m\u001b[0;34m:\u001b[0m\u001b[0;34m\u001b[0m\u001b[0;34m\u001b[0m\u001b[0m\n\u001b[1;32m    932\u001b[0m                 \u001b[0;32mif\u001b[0m \u001b[0mgetattr\u001b[0m\u001b[0;34m(\u001b[0m\u001b[0mself\u001b[0m\u001b[0;34m.\u001b[0m\u001b[0m_backend\u001b[0m\u001b[0;34m,\u001b[0m \u001b[0;34m'supports_timeout'\u001b[0m\u001b[0;34m,\u001b[0m \u001b[0;32mFalse\u001b[0m\u001b[0;34m)\u001b[0m\u001b[0;34m:\u001b[0m\u001b[0;34m\u001b[0m\u001b[0;34m\u001b[0m\u001b[0m\n\u001b[0;32m--> 933\u001b[0;31m                     \u001b[0mself\u001b[0m\u001b[0;34m.\u001b[0m\u001b[0m_output\u001b[0m\u001b[0;34m.\u001b[0m\u001b[0mextend\u001b[0m\u001b[0;34m(\u001b[0m\u001b[0mjob\u001b[0m\u001b[0;34m.\u001b[0m\u001b[0mget\u001b[0m\u001b[0;34m(\u001b[0m\u001b[0mtimeout\u001b[0m\u001b[0;34m=\u001b[0m\u001b[0mself\u001b[0m\u001b[0;34m.\u001b[0m\u001b[0mtimeout\u001b[0m\u001b[0;34m)\u001b[0m\u001b[0;34m)\u001b[0m\u001b[0;34m\u001b[0m\u001b[0;34m\u001b[0m\u001b[0m\n\u001b[0m\u001b[1;32m    934\u001b[0m                 \u001b[0;32melse\u001b[0m\u001b[0;34m:\u001b[0m\u001b[0;34m\u001b[0m\u001b[0;34m\u001b[0m\u001b[0m\n\u001b[1;32m    935\u001b[0m                     \u001b[0mself\u001b[0m\u001b[0;34m.\u001b[0m\u001b[0m_output\u001b[0m\u001b[0;34m.\u001b[0m\u001b[0mextend\u001b[0m\u001b[0;34m(\u001b[0m\u001b[0mjob\u001b[0m\u001b[0;34m.\u001b[0m\u001b[0mget\u001b[0m\u001b[0;34m(\u001b[0m\u001b[0;34m)\u001b[0m\u001b[0;34m)\u001b[0m\u001b[0;34m\u001b[0m\u001b[0;34m\u001b[0m\u001b[0m\n",
            "\u001b[0;32m/usr/local/lib/python3.7/dist-packages/joblib/_parallel_backends.py\u001b[0m in \u001b[0;36mwrap_future_result\u001b[0;34m(future, timeout)\u001b[0m\n\u001b[1;32m    540\u001b[0m         AsyncResults.get from multiprocessing.\"\"\"\n\u001b[1;32m    541\u001b[0m         \u001b[0;32mtry\u001b[0m\u001b[0;34m:\u001b[0m\u001b[0;34m\u001b[0m\u001b[0;34m\u001b[0m\u001b[0m\n\u001b[0;32m--> 542\u001b[0;31m             \u001b[0;32mreturn\u001b[0m \u001b[0mfuture\u001b[0m\u001b[0;34m.\u001b[0m\u001b[0mresult\u001b[0m\u001b[0;34m(\u001b[0m\u001b[0mtimeout\u001b[0m\u001b[0;34m=\u001b[0m\u001b[0mtimeout\u001b[0m\u001b[0;34m)\u001b[0m\u001b[0;34m\u001b[0m\u001b[0;34m\u001b[0m\u001b[0m\n\u001b[0m\u001b[1;32m    543\u001b[0m         \u001b[0;32mexcept\u001b[0m \u001b[0mCfTimeoutError\u001b[0m \u001b[0;32mas\u001b[0m \u001b[0me\u001b[0m\u001b[0;34m:\u001b[0m\u001b[0;34m\u001b[0m\u001b[0;34m\u001b[0m\u001b[0m\n\u001b[1;32m    544\u001b[0m             \u001b[0;32mraise\u001b[0m \u001b[0mTimeoutError\u001b[0m \u001b[0;32mfrom\u001b[0m \u001b[0me\u001b[0m\u001b[0;34m\u001b[0m\u001b[0;34m\u001b[0m\u001b[0m\n",
            "\u001b[0;32m/usr/lib/python3.7/concurrent/futures/_base.py\u001b[0m in \u001b[0;36mresult\u001b[0;34m(self, timeout)\u001b[0m\n\u001b[1;32m    428\u001b[0m                 \u001b[0;32mreturn\u001b[0m \u001b[0mself\u001b[0m\u001b[0;34m.\u001b[0m\u001b[0m__get_result\u001b[0m\u001b[0;34m(\u001b[0m\u001b[0;34m)\u001b[0m\u001b[0;34m\u001b[0m\u001b[0;34m\u001b[0m\u001b[0m\n\u001b[1;32m    429\u001b[0m \u001b[0;34m\u001b[0m\u001b[0m\n\u001b[0;32m--> 430\u001b[0;31m             \u001b[0mself\u001b[0m\u001b[0;34m.\u001b[0m\u001b[0m_condition\u001b[0m\u001b[0;34m.\u001b[0m\u001b[0mwait\u001b[0m\u001b[0;34m(\u001b[0m\u001b[0mtimeout\u001b[0m\u001b[0;34m)\u001b[0m\u001b[0;34m\u001b[0m\u001b[0;34m\u001b[0m\u001b[0m\n\u001b[0m\u001b[1;32m    431\u001b[0m \u001b[0;34m\u001b[0m\u001b[0m\n\u001b[1;32m    432\u001b[0m             \u001b[0;32mif\u001b[0m \u001b[0mself\u001b[0m\u001b[0;34m.\u001b[0m\u001b[0m_state\u001b[0m \u001b[0;32min\u001b[0m \u001b[0;34m[\u001b[0m\u001b[0mCANCELLED\u001b[0m\u001b[0;34m,\u001b[0m \u001b[0mCANCELLED_AND_NOTIFIED\u001b[0m\u001b[0;34m]\u001b[0m\u001b[0;34m:\u001b[0m\u001b[0;34m\u001b[0m\u001b[0;34m\u001b[0m\u001b[0m\n",
            "\u001b[0;32m/usr/lib/python3.7/threading.py\u001b[0m in \u001b[0;36mwait\u001b[0;34m(self, timeout)\u001b[0m\n\u001b[1;32m    294\u001b[0m         \u001b[0;32mtry\u001b[0m\u001b[0;34m:\u001b[0m    \u001b[0;31m# restore state no matter what (e.g., KeyboardInterrupt)\u001b[0m\u001b[0;34m\u001b[0m\u001b[0;34m\u001b[0m\u001b[0m\n\u001b[1;32m    295\u001b[0m             \u001b[0;32mif\u001b[0m \u001b[0mtimeout\u001b[0m \u001b[0;32mis\u001b[0m \u001b[0;32mNone\u001b[0m\u001b[0;34m:\u001b[0m\u001b[0;34m\u001b[0m\u001b[0;34m\u001b[0m\u001b[0m\n\u001b[0;32m--> 296\u001b[0;31m                 \u001b[0mwaiter\u001b[0m\u001b[0;34m.\u001b[0m\u001b[0macquire\u001b[0m\u001b[0;34m(\u001b[0m\u001b[0;34m)\u001b[0m\u001b[0;34m\u001b[0m\u001b[0;34m\u001b[0m\u001b[0m\n\u001b[0m\u001b[1;32m    297\u001b[0m                 \u001b[0mgotit\u001b[0m \u001b[0;34m=\u001b[0m \u001b[0;32mTrue\u001b[0m\u001b[0;34m\u001b[0m\u001b[0;34m\u001b[0m\u001b[0m\n\u001b[1;32m    298\u001b[0m             \u001b[0;32melse\u001b[0m\u001b[0;34m:\u001b[0m\u001b[0;34m\u001b[0m\u001b[0;34m\u001b[0m\u001b[0m\n",
            "\u001b[0;31mKeyboardInterrupt\u001b[0m: "
          ]
        }
      ]
    },
    {
      "cell_type": "code",
      "metadata": {
        "id": "A_D-pMZf6lJC"
      },
      "source": [
        ""
      ],
      "execution_count": null,
      "outputs": []
    }
  ]
}