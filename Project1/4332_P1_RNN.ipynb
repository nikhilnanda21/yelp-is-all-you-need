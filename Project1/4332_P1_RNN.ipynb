{
  "nbformat": 4,
  "nbformat_minor": 0,
  "metadata": {
    "colab": {
      "name": "4332-P1-RNN.ipynb",
      "provenance": [],
      "collapsed_sections": [],
      "toc_visible": true
    },
    "kernelspec": {
      "name": "python3",
      "display_name": "Python 3"
    },
    "language_info": {
      "name": "python"
    },
    "accelerator": "GPU"
  },
  "cells": [
    {
      "cell_type": "markdown",
      "metadata": {
        "id": "HAckpZDZG-BR"
      },
      "source": [
        "# Download Data"
      ]
    },
    {
      "cell_type": "code",
      "metadata": {
        "id": "_gEmiUAEG8zx"
      },
      "source": [
        "!wget -q https://hkustconnect-my.sharepoint.com/:u:/g/personal/nnanda_connect_ust_hk/EfREjZqiZTlPqhqUPICBbPABdlgPumlaUVxPncm-_9aWIw?download=1 -O \"Project 1 - data.zip\"\n",
        "!unzip -q \"Project 1 - data.zip\""
      ],
      "execution_count": 1,
      "outputs": []
    },
    {
      "cell_type": "markdown",
      "metadata": {
        "id": "VyCUH6drFgou"
      },
      "source": [
        "# Import Libraries"
      ]
    },
    {
      "cell_type": "code",
      "metadata": {
        "colab": {
          "base_uri": "https://localhost:8080/"
        },
        "id": "L_q2Kr7_Fa-g",
        "outputId": "20380cab-7807-4f76-dd27-4dd497748823"
      },
      "source": [
        "!pip -q install keras-layer-normalization"
      ],
      "execution_count": 2,
      "outputs": [
        {
          "output_type": "stream",
          "text": [
            "  Building wheel for keras-layer-normalization (setup.py) ... \u001b[?25l\u001b[?25hdone\n"
          ],
          "name": "stdout"
        }
      ]
    },
    {
      "cell_type": "code",
      "metadata": {
        "id": "7_uTe2vvFJTL"
      },
      "source": [
        "import os\n",
        "import nltk\n",
        "import math\n",
        "import pandas as pd\n",
        "import numpy as np\n",
        "import keras\n",
        "import tensorflow as tf\n",
        "import matplotlib.pyplot as plt\n",
        "from collections import Counter\n",
        "from itertools import chain\n",
        "from sklearn.model_selection import StratifiedKFold\n",
        "from sklearn.metrics import accuracy_score, f1_score\n",
        "from keras.models import Sequential, Model\n",
        "from keras.layers import Dense, Activation, Dropout, BatchNormalization,\\\n",
        "    Activation, Input, Add, Concatenate, Embedding, Conv1D, MaxPool1D,\\\n",
        "    Flatten, LSTM, Bidirectional, MaxPooling1D, SimpleRNN, GRU\n",
        "from keras_layer_normalization import LayerNormalization\n",
        "from nltk.corpus import stopwords\n",
        "from nltk.stem import PorterStemmer"
      ],
      "execution_count": 3,
      "outputs": []
    },
    {
      "cell_type": "code",
      "metadata": {
        "colab": {
          "base_uri": "https://localhost:8080/"
        },
        "id": "21Z1gRo3H3Zh",
        "outputId": "25f2ca9f-fa23-42a8-dd0e-2dbd74e33956"
      },
      "source": [
        "nltk.download('stopwords')\n",
        "nltk.download('punkt')"
      ],
      "execution_count": 4,
      "outputs": [
        {
          "output_type": "stream",
          "text": [
            "[nltk_data] Downloading package stopwords to /root/nltk_data...\n",
            "[nltk_data]   Unzipping corpora/stopwords.zip.\n",
            "[nltk_data] Downloading package punkt to /root/nltk_data...\n",
            "[nltk_data]   Unzipping tokenizers/punkt.zip.\n"
          ],
          "name": "stdout"
        },
        {
          "output_type": "execute_result",
          "data": {
            "text/plain": [
              "True"
            ]
          },
          "metadata": {
            "tags": []
          },
          "execution_count": 4
        }
      ]
    },
    {
      "cell_type": "code",
      "metadata": {
        "id": "noMKFCoiHxq1"
      },
      "source": [
        "stopwords = set(stopwords.words(\"english\"))\n",
        "ps = PorterStemmer()"
      ],
      "execution_count": 5,
      "outputs": []
    },
    {
      "cell_type": "markdown",
      "metadata": {
        "id": "b-Y4M188FjI3"
      },
      "source": [
        "# Data Loader"
      ]
    },
    {
      "cell_type": "code",
      "metadata": {
        "id": "0LdLcI3EFWIK"
      },
      "source": [
        "def load_data(split_name='train', columns=['text', 'stars']):\n",
        "    try:\n",
        "        print(f\"select [{', '.join(columns)}] columns from the {split_name} split\")\n",
        "        df = pd.read_csv(f'data_2021_spring/{split_name}.csv')\n",
        "        df = df.loc[:,columns]\n",
        "        print(\"succeed!\")\n",
        "        return df\n",
        "    except:\n",
        "        print(\"Failed, then try to \")\n",
        "        print(f\"select all columns from the {split_name} split\")\n",
        "        df = pd.read_csv(f'data_2021_spring/{split_name}.csv')\n",
        "        return df"
      ],
      "execution_count": 6,
      "outputs": []
    },
    {
      "cell_type": "code",
      "metadata": {
        "colab": {
          "base_uri": "https://localhost:8080/"
        },
        "id": "YQj5souEFnD2",
        "outputId": "b819fb81-1aed-4e0f-af0b-0b9d0abb0ab1"
      },
      "source": [
        "train_df = load_data('train', columns=['full'])\n",
        "valid_df = load_data('valid', columns=['full'])\n",
        "test_df = load_data('test', columns=['full'])"
      ],
      "execution_count": 7,
      "outputs": [
        {
          "output_type": "stream",
          "text": [
            "select [full] columns from the train split\n",
            "Failed, then try to \n",
            "select all columns from the train split\n",
            "select [full] columns from the valid split\n",
            "Failed, then try to \n",
            "select all columns from the valid split\n",
            "select [full] columns from the test split\n",
            "Failed, then try to \n",
            "select all columns from the test split\n"
          ],
          "name": "stdout"
        }
      ]
    },
    {
      "cell_type": "markdown",
      "metadata": {
        "id": "FM6i0QIj2ylX"
      },
      "source": [
        "# Feature Extractor"
      ]
    },
    {
      "cell_type": "code",
      "metadata": {
        "id": "pbHQbGsU0sDl"
      },
      "source": [
        "def tokenize(text):\n",
        "    \"\"\"\n",
        "    :param text: a doc with multiple sentences, type: str\n",
        "    return a word list, type: list\n",
        "    e.g.\n",
        "    Input: 'Text mining is to identify useful information.'\n",
        "    Output: ['Text', 'mining', 'is', 'to', 'identify', 'useful', 'information', '.']\n",
        "    \"\"\"\n",
        "    return nltk.word_tokenize(text)\n",
        "\n",
        "def stem(tokens):\n",
        "    \"\"\"\n",
        "    :param tokens: a list of tokens, type: list\n",
        "    return a list of stemmed words, type: list\n",
        "    e.g.\n",
        "    Input: ['Text', 'mining', 'is', 'to', 'identify', 'useful', 'information', '.']\n",
        "    Output: ['text', 'mine', 'is', 'to', 'identifi', 'use', 'inform', '.']\n",
        "    \"\"\"\n",
        "\n",
        "    return [ps.stem(token).lower() for token in tokens]"
      ],
      "execution_count": 8,
      "outputs": []
    },
    {
      "cell_type": "code",
      "metadata": {
        "id": "2J_DHdpi253v"
      },
      "source": [
        "def get_feats_dict(feats, min_freq=-1, max_freq=-1, max_size=-1):\n",
        "    \"\"\"\n",
        "    :param data: a list of features, type: list(list)\n",
        "    :param min_freq: the lowest fequency that the fequency of a feature smaller than it will be filtered out, type: int\n",
        "    :param max_freq: the highest fequency that the fequency of a feature larger than it will be filtered out, type: int\n",
        "    :param max_size: the max size of feature dict, type: int\n",
        "    return a feature dict that maps features to indices, sorted by frequencies\n",
        "    # Counter document: https://docs.python.org/3.6/library/collections.html#collections.Counter\n",
        "    \"\"\"\n",
        "    # count all features\n",
        "    feat_cnt = Counter(feats) # [\"text\", \"text\", \"mine\"] --> {\"text\": 2, \"mine\": 1}\n",
        "    if max_size > 0 and min_freq == -1 and max_freq == -1:\n",
        "        valid_feats = [\"<pad>\", \"<unk>\"] + [f for f, cnt in feat_cnt.most_common(max_size-2)]\n",
        "    else:\n",
        "        valid_feats = [\"<pad>\", \"<unk>\"]\n",
        "        for f, cnt in feat_cnt.most_common():\n",
        "            if (min_freq == -1 or cnt >= min_freq) and \\\n",
        "                (max_freq == -1 or cnt <= max_freq):\n",
        "                valid_feats.append(f)\n",
        "    if max_size > 0 and len(valid_feats) > max_size:\n",
        "        valid_feats = valid_feats[:max_size]\n",
        "    print(\"Size of features:\", len(valid_feats))\n",
        "    \n",
        "    # build a mapping from features to indices\n",
        "    feats_dict = dict(zip(valid_feats, range(len(valid_feats))))\n",
        "    return feats_dict\n",
        "\n",
        "def get_index_vector(feats, feats_dict, max_len):\n",
        "    \"\"\"\n",
        "    :param feats: a list of features, type: list\n",
        "    :param feats_dict: a dict from features to indices, type: dict\n",
        "    :param feats: a list of features, type: list\n",
        "    return a feature vector,\n",
        "    \"\"\"\n",
        "    # initialize the vector as all zeros\n",
        "    vector = np.zeros(max_len, dtype=np.int64)\n",
        "    for i, f in enumerate(feats):\n",
        "        if i == max_len:\n",
        "            break\n",
        "        # get the feature index, return 1 (<unk>) if the feature is not existed\n",
        "        f_idx = feats_dict.get(f, 1)\n",
        "        vector[i] = f_idx\n",
        "    return vector"
      ],
      "execution_count": 9,
      "outputs": []
    },
    {
      "cell_type": "markdown",
      "metadata": {
        "id": "XSpjs52e3Gj6"
      },
      "source": [
        "# RNN Builder"
      ]
    },
    {
      "cell_type": "code",
      "metadata": {
        "id": "WzH7JhQf3DJN"
      },
      "source": [
        "def build_RNN(input_length, vocab_size, embedding_size,\n",
        "              hidden_size, output_size,\n",
        "              num_rnn_layers, num_mlp_layers,\n",
        "              rnn_type=\"lstm\",\n",
        "              bidirectional=False,\n",
        "              embedding_matrix=None,\n",
        "              activation=\"tanh\",\n",
        "              dropout_rate=0.0,\n",
        "              batch_norm=False,\n",
        "              l2_reg=0.0,\n",
        "              loss=\"categorical_crossentropy\",\n",
        "              optimizer=\"Adam\",\n",
        "              learning_rate=0.001,\n",
        "              metric=\"accuracy\"):\n",
        "    \"\"\"\n",
        "    :param input_length: the maximum length of sentences, type: int\n",
        "    :param vocab_size: the vacabulary size, type: int\n",
        "    :param embedding_size: the dimension of word representations, type: int\n",
        "    :param hidden_size: the dimension of the hidden states, type: int\n",
        "    :param output_size: the dimension of the prediction, type: int\n",
        "    :param num_rnn_layers: the number of layers of the RNN, type: int\n",
        "    :param num_mlp_layers: the number of layers of the MLP, type: int\n",
        "    :param rnn_type: the type of RNN, type: str\n",
        "    :param bidirectional: whether to use bidirectional rnn, type: bool\n",
        "    :param activation: the activation type, type: str\n",
        "    :param dropout_rate: the probability of dropout, type: float\n",
        "    :param batch_norm: whether to enable batch normalization, type: bool\n",
        "    :param l2_reg: the weight for the L2 regularizer, type: str\n",
        "    :param loss: the training loss, type: str\n",
        "    :param optimizer: the optimizer, type: str\n",
        "    :param learning_rate: the learning rate for the optimizer, type: float\n",
        "    :param metric: the metric, type: str\n",
        "    return a RNN for text classification,\n",
        "    # activation document: https://keras.io/activations/\n",
        "    # dropout document: https://keras.io/layers/core/#dropout\n",
        "    # embedding document: https://keras.io/layers/embeddings/#embedding\n",
        "    # recurrent layers document: https://keras.io/layers/recurrent\n",
        "    # batch normalization document: https://keras.io/layers/normalization/\n",
        "    # losses document: https://keras.io/losses/\n",
        "    # optimizers document: https://keras.io/optimizers/\n",
        "    # metrics document: https://keras.io/metrics/\n",
        "    \"\"\"\n",
        "    x = Input(shape=(input_length,))\n",
        "    \n",
        "    ################################\n",
        "    ###### Word Representation #####\n",
        "    ################################\n",
        "    # word representation layer\n",
        "    if embedding_matrix is not None:\n",
        "        emb = Embedding(input_dim=vocab_size,\n",
        "                        output_dim=embedding_size,\n",
        "                        input_length=input_length,\n",
        "                        embeddings_initializer=keras.initializers.Constant(embedding_matrix),\n",
        "                        trainable=False)(x)\n",
        "    else:\n",
        "        emb = Embedding(input_dim=vocab_size,\n",
        "                        output_dim=embedding_size,\n",
        "                        input_length=input_length,\n",
        "                        embeddings_initializer=keras.initializers.TruncatedNormal(mean=0.0, stddev=0.1, seed=0))(x)\n",
        "    \n",
        "    ################################\n",
        "    ####### Recurrent Layers #######\n",
        "    ################################\n",
        "    # recurrent layers\n",
        "    if rnn_type == \"rnn\":\n",
        "        fn = SimpleRNN\n",
        "    elif rnn_type == \"lstm\":\n",
        "        fn = LSTM\n",
        "    elif rnn_type == \"gru\":\n",
        "        fn = GRU\n",
        "    else:\n",
        "        raise NotImplementedError\n",
        "    h = emb\n",
        "    for i in range(num_rnn_layers):\n",
        "        is_last = (i == num_rnn_layers-1)\n",
        "        if bidirectional:\n",
        "            h = Bidirectional(fn(hidden_size,\n",
        "                                 kernel_initializer=keras.initializers.glorot_uniform(seed=0),\n",
        "                                 recurrent_initializer=keras.initializers.Orthogonal(gain=1.0, seed=0),\n",
        "                                 return_sequences=not is_last))(h)\n",
        "        else:\n",
        "            h = fn(hidden_size,\n",
        "                   kernel_initializer=keras.initializers.glorot_uniform(seed=0),\n",
        "                   recurrent_initializer=keras.initializers.Orthogonal(gain=1.0, seed=0),\n",
        "                   return_sequences=not is_last)(h)\n",
        "        h = Dropout(dropout_rate, seed=0)(h)\n",
        "    \n",
        "    ################################\n",
        "    #### Fully Connected Layers ####\n",
        "    ################################\n",
        "    # multi-layer perceptron\n",
        "    for i in range(num_mlp_layers-1):\n",
        "        new_h = Dense(hidden_size,\n",
        "                      kernel_initializer=keras.initializers.he_normal(seed=0),\n",
        "                      bias_initializer=\"zeros\",\n",
        "                      kernel_regularizer=keras.regularizers.l2(l2_reg))(h)\n",
        "        # add batch normalization layer\n",
        "        if batch_norm:\n",
        "            new_h = BatchNormalization()(new_h)\n",
        "        # add residual connection\n",
        "        if i == 0:\n",
        "            h = new_h\n",
        "        else:\n",
        "            h = Add()([h, new_h])\n",
        "        # add activation\n",
        "        h = Activation(activation)(h)\n",
        "    y = Dense(output_size,\n",
        "              activation=\"softmax\",\n",
        "              kernel_initializer=keras.initializers.he_normal(seed=0),\n",
        "              bias_initializer=\"zeros\")(h)\n",
        "    \n",
        "    # set the loss, the optimizer, and the metric\n",
        "    if optimizer == \"SGD\":\n",
        "        optimizer = keras.optimizers.SGD(lr=learning_rate)\n",
        "    elif optimizer == \"RMSprop\":\n",
        "        optmizer = keras.optimizers.RMSprop(learning_rate=learning_rate)\n",
        "    elif optimizer == \"Adam\":\n",
        "        optmizer = keras.optimizers.Adam(learning_rate=learning_rate)\n",
        "    else:\n",
        "        raise NotImplementedError\n",
        "    model = Model(x, y)\n",
        "    model.compile(loss=loss, optimizer=optimizer, metrics=[metric])\n",
        "    \n",
        "    return model"
      ],
      "execution_count": 10,
      "outputs": []
    },
    {
      "cell_type": "markdown",
      "metadata": {
        "id": "ji667tHM4oC6"
      },
      "source": [
        "# Create Input Features"
      ]
    },
    {
      "cell_type": "code",
      "metadata": {
        "colab": {
          "base_uri": "https://localhost:8080/"
        },
        "id": "WEMY1eAX3KEv",
        "outputId": "d3a21c36-ff30-447c-9b4a-2cc2f7cab2a0"
      },
      "source": [
        "min_freq = 3\n",
        "\n",
        "# load data\n",
        "train_texts, train_labels = train_df[\"text\"], train_df[\"stars\"]\n",
        "valid_texts, valid_labels = valid_df[\"text\"], valid_df[\"stars\"]\n",
        "\n",
        "# extract features\n",
        "train_tokens = [tokenize(text) for text in train_texts]\n",
        "valid_tokens = [tokenize(text) for text in valid_texts]\n",
        "\n",
        "train_stemmed = [stem(tokens) for tokens in train_tokens]\n",
        "valid_stemmed = [stem(tokens) for tokens in valid_tokens]\n",
        "\n",
        "train_feats = train_stemmed\n",
        "valid_feats = valid_stemmed\n",
        "\n",
        "# build a mapping from features to indices\n",
        "feats_dict = get_feats_dict(chain.from_iterable(train_feats), min_freq=min_freq)"
      ],
      "execution_count": 12,
      "outputs": [
        {
          "output_type": "stream",
          "text": [
            "Size of features: 9357\n"
          ],
          "name": "stdout"
        }
      ]
    },
    {
      "cell_type": "code",
      "metadata": {
        "id": "e96iHVrmK961"
      },
      "source": [
        "max_len = 100\n",
        "\n",
        "# build the feats_matrix\n",
        "# convert each example to a index vector, and then stack vectors as a matrix\n",
        "train_feats_matrix = np.vstack(\n",
        "    [get_index_vector(f, feats_dict, max_len) for f in train_feats])\n",
        "valid_feats_matrix = np.vstack(\n",
        "    [get_index_vector(f, feats_dict, max_len) for f in valid_feats])\n",
        "\n",
        "# convert labels to label_matrix\n",
        "num_classes = max(train_labels)\n",
        "# convert each label to a ont-hot vector, and then stack vectors as a matrix\n",
        "train_label_matrix = keras.utils.to_categorical(train_labels-1, num_classes=num_classes)\n",
        "valid_label_matrix = keras.utils.to_categorical(valid_labels-1, num_classes=num_classes)"
      ],
      "execution_count": 13,
      "outputs": []
    },
    {
      "cell_type": "markdown",
      "metadata": {
        "id": "RugNGpRhLYck"
      },
      "source": [
        "RNN"
      ]
    },
    {
      "cell_type": "code",
      "metadata": {
        "colab": {
          "base_uri": "https://localhost:8080/"
        },
        "id": "qL6eVIAhLRcq",
        "outputId": "3e8019f5-609b-440f-b75f-60d59c26dd3e"
      },
      "source": [
        "os.makedirs(\"models\", exist_ok=True)\n",
        "model = build_RNN(input_length=max_len, vocab_size=len(feats_dict),\n",
        "                  embedding_size=100, hidden_size=100, output_size=num_classes,\n",
        "                  rnn_type=\"rnn\", num_rnn_layers=1, num_mlp_layers=2,\n",
        "                  activation=\"tanh\",\n",
        "                  batch_norm=True,\n",
        "                  l2_reg=0.005, dropout_rate=0.5)\n",
        "checkpointer = keras.callbacks.ModelCheckpoint(\n",
        "    filepath=os.path.join(\"models\", \"weights.hdf5\"),\n",
        "    monitor=\"val_accuracy\",\n",
        "    verbose=0,\n",
        "    save_best_only=True)\n",
        "earlystopping = keras.callbacks.EarlyStopping(\n",
        "    monitor='val_loss',\n",
        "    patience=5,\n",
        "    verbose=0)\n",
        "\n",
        "print(model.summary())\n",
        "\n",
        "np.random.seed(0)\n",
        "tf.random.set_seed(0)\n",
        "rnn_history = model.fit(train_feats_matrix, train_label_matrix,\n",
        "                    validation_split=0.1,\n",
        "                    epochs=100, batch_size=100, verbose=1,\n",
        "                    callbacks=[checkpointer, earlystopping])\n",
        "model = keras.models.load_model(os.path.join(\"models\", \"weights.hdf5\"))\n",
        "\n",
        "train_score = model.evaluate(train_feats_matrix, train_label_matrix,\n",
        "                             batch_size=100)\n",
        "valid_score = model.evaluate(valid_feats_matrix, valid_label_matrix,\n",
        "                            batch_size=100)\n",
        "print(\"training loss:\", train_score[0], \"training accuracy\", train_score[1])\n",
        "print(\"valid loss:\", valid_score[0], \"valid accuracy\", valid_score[1])"
      ],
      "execution_count": 17,
      "outputs": [
        {
          "output_type": "stream",
          "text": [
            "Model: \"model_3\"\n",
            "_________________________________________________________________\n",
            "Layer (type)                 Output Shape              Param #   \n",
            "=================================================================\n",
            "input_4 (InputLayer)         [(None, 100)]             0         \n",
            "_________________________________________________________________\n",
            "embedding_3 (Embedding)      (None, 100, 100)          935700    \n",
            "_________________________________________________________________\n",
            "simple_rnn_3 (SimpleRNN)     (None, 100)               20100     \n",
            "_________________________________________________________________\n",
            "dropout_3 (Dropout)          (None, 100)               0         \n",
            "_________________________________________________________________\n",
            "dense_6 (Dense)              (None, 100)               10100     \n",
            "_________________________________________________________________\n",
            "batch_normalization_3 (Batch (None, 100)               400       \n",
            "_________________________________________________________________\n",
            "activation_3 (Activation)    (None, 100)               0         \n",
            "_________________________________________________________________\n",
            "dense_7 (Dense)              (None, 5)                 505       \n",
            "=================================================================\n",
            "Total params: 966,805\n",
            "Trainable params: 966,605\n",
            "Non-trainable params: 200\n",
            "_________________________________________________________________\n",
            "None\n",
            "Epoch 1/100\n",
            "90/90 [==============================] - 6s 62ms/step - loss: 2.6605 - accuracy: 0.2339 - val_loss: 2.2979 - val_accuracy: 0.2950\n",
            "Epoch 2/100\n",
            "90/90 [==============================] - 5s 59ms/step - loss: 2.2453 - accuracy: 0.2599 - val_loss: 2.0804 - val_accuracy: 0.2260\n",
            "Epoch 3/100\n",
            "90/90 [==============================] - 5s 59ms/step - loss: 2.0175 - accuracy: 0.2856 - val_loss: 1.9393 - val_accuracy: 0.2790\n",
            "Epoch 4/100\n",
            "90/90 [==============================] - 5s 60ms/step - loss: 1.9231 - accuracy: 0.2653 - val_loss: 1.8677 - val_accuracy: 0.2510\n",
            "Epoch 5/100\n",
            "90/90 [==============================] - 5s 60ms/step - loss: 1.8522 - accuracy: 0.2552 - val_loss: 1.7941 - val_accuracy: 0.2760\n",
            "Epoch 6/100\n",
            "90/90 [==============================] - 5s 59ms/step - loss: 1.7846 - accuracy: 0.2484 - val_loss: 1.7589 - val_accuracy: 0.2720\n",
            "Epoch 7/100\n",
            "90/90 [==============================] - 5s 60ms/step - loss: 1.7444 - accuracy: 0.2652 - val_loss: 1.7141 - val_accuracy: 0.2710\n",
            "Epoch 8/100\n",
            "90/90 [==============================] - 5s 59ms/step - loss: 1.7138 - accuracy: 0.2520 - val_loss: 1.6864 - val_accuracy: 0.2690\n",
            "Epoch 9/100\n",
            "90/90 [==============================] - 5s 59ms/step - loss: 1.6846 - accuracy: 0.2705 - val_loss: 1.6706 - val_accuracy: 0.2550\n",
            "Epoch 10/100\n",
            "90/90 [==============================] - 5s 59ms/step - loss: 1.6673 - accuracy: 0.2623 - val_loss: 1.6665 - val_accuracy: 0.2180\n",
            "Epoch 11/100\n",
            "90/90 [==============================] - 5s 60ms/step - loss: 1.6558 - accuracy: 0.2630 - val_loss: 1.6482 - val_accuracy: 0.2880\n",
            "Epoch 12/100\n",
            "90/90 [==============================] - 5s 59ms/step - loss: 1.6336 - accuracy: 0.2829 - val_loss: 1.6166 - val_accuracy: 0.2930\n",
            "Epoch 13/100\n",
            "90/90 [==============================] - 5s 59ms/step - loss: 1.6389 - accuracy: 0.2638 - val_loss: 1.6327 - val_accuracy: 0.2580\n",
            "Epoch 14/100\n",
            "90/90 [==============================] - 5s 59ms/step - loss: 1.6183 - accuracy: 0.2827 - val_loss: 1.6249 - val_accuracy: 0.2530\n",
            "Epoch 15/100\n",
            "90/90 [==============================] - 5s 60ms/step - loss: 1.6005 - accuracy: 0.2901 - val_loss: 1.6035 - val_accuracy: 0.2790\n",
            "Epoch 16/100\n",
            "90/90 [==============================] - 5s 59ms/step - loss: 1.5858 - accuracy: 0.2935 - val_loss: 1.5986 - val_accuracy: 0.2910\n",
            "Epoch 17/100\n",
            "90/90 [==============================] - 5s 59ms/step - loss: 1.5688 - accuracy: 0.3027 - val_loss: 1.6242 - val_accuracy: 0.2600\n",
            "Epoch 18/100\n",
            "90/90 [==============================] - 5s 60ms/step - loss: 1.5380 - accuracy: 0.3187 - val_loss: 1.6245 - val_accuracy: 0.2660\n",
            "Epoch 19/100\n",
            "90/90 [==============================] - 5s 60ms/step - loss: 1.4876 - accuracy: 0.3608 - val_loss: 1.5972 - val_accuracy: 0.3030\n",
            "Epoch 20/100\n",
            "90/90 [==============================] - 5s 59ms/step - loss: 1.4266 - accuracy: 0.3898 - val_loss: 1.6895 - val_accuracy: 0.2660\n",
            "Epoch 21/100\n",
            "90/90 [==============================] - 5s 60ms/step - loss: 1.3328 - accuracy: 0.4342 - val_loss: 1.8217 - val_accuracy: 0.2110\n",
            "Epoch 22/100\n",
            "90/90 [==============================] - 5s 60ms/step - loss: 1.3376 - accuracy: 0.4367 - val_loss: 1.8155 - val_accuracy: 0.2490\n",
            "Epoch 23/100\n",
            "90/90 [==============================] - 5s 60ms/step - loss: 1.3112 - accuracy: 0.4504 - val_loss: 1.8047 - val_accuracy: 0.2820\n",
            "Epoch 24/100\n",
            "90/90 [==============================] - 5s 60ms/step - loss: 1.2588 - accuracy: 0.4776 - val_loss: 1.8425 - val_accuracy: 0.2760\n",
            "100/100 [==============================] - 1s 9ms/step - loss: 1.3934 - accuracy: 0.4298\n",
            "20/20 [==============================] - 0s 9ms/step - loss: 1.5770 - accuracy: 0.3025\n",
            "training loss: 1.393372893333435 training accuracy 0.42980000376701355\n",
            "valid loss: 1.5770151615142822 valid accuracy 0.30250000953674316\n"
          ],
          "name": "stdout"
        }
      ]
    },
    {
      "cell_type": "markdown",
      "metadata": {
        "id": "RAnXP9DJfMvL"
      },
      "source": [
        "LSTM"
      ]
    },
    {
      "cell_type": "code",
      "metadata": {
        "colab": {
          "base_uri": "https://localhost:8080/"
        },
        "id": "Q8i456KmLmuL",
        "outputId": "9ce05b08-9680-4186-8e17-8fce049cc129"
      },
      "source": [
        "os.makedirs(\"models\", exist_ok=True)\n",
        "model = build_RNN(input_length=max_len, vocab_size=len(feats_dict),\n",
        "                  embedding_size=100, hidden_size=100, output_size=num_classes,\n",
        "                  rnn_type=\"lstm\", num_rnn_layers=1, num_mlp_layers=2,\n",
        "                  activation=\"tanh\",\n",
        "                  batch_norm=True,\n",
        "                  l2_reg=0.005, dropout_rate=0.5)\n",
        "checkpointer = keras.callbacks.ModelCheckpoint(\n",
        "    filepath=os.path.join(\"models\", \"weights.hdf5\"),\n",
        "    monitor=\"val_accuracy\",\n",
        "    verbose=0,\n",
        "    save_best_only=True)\n",
        "earlystopping = keras.callbacks.EarlyStopping(\n",
        "    monitor='val_loss',\n",
        "    patience=5,\n",
        "    verbose=0)\n",
        "\n",
        "np.random.seed(0)\n",
        "tf.random.set_seed(0)\n",
        "lstm_history = model.fit(train_feats_matrix, train_label_matrix,\n",
        "                    validation_split=0.1,\n",
        "                    epochs=100, batch_size=100, verbose=0,\n",
        "                    callbacks=[checkpointer, earlystopping])\n",
        "model = keras.models.load_model(os.path.join(\"models\", \"weights.hdf5\"))\n",
        "\n",
        "train_score = model.evaluate(train_feats_matrix, train_label_matrix,\n",
        "                             batch_size=100)\n",
        "valid_score = model.evaluate(valid_feats_matrix, valid_label_matrix,\n",
        "                            batch_size=100)\n",
        "print(\"training loss:\", train_score[0], \"training accuracy\", train_score[1])\n",
        "print(\"valid loss:\", valid_score[0], \"valid accuracy\", valid_score[1])"
      ],
      "execution_count": 19,
      "outputs": [
        {
          "output_type": "stream",
          "text": [
            "100/100 [==============================] - 1s 6ms/step - loss: 0.6699 - accuracy: 0.8011\n",
            "20/20 [==============================] - 0s 5ms/step - loss: 1.4022 - accuracy: 0.5060\n",
            "training loss: 0.6698594689369202 training accuracy 0.8011000156402588\n",
            "valid loss: 1.402228832244873 valid accuracy 0.5059999823570251\n"
          ],
          "name": "stdout"
        }
      ]
    },
    {
      "cell_type": "markdown",
      "metadata": {
        "id": "MFxbjW-RfSbL"
      },
      "source": [
        "GRU"
      ]
    },
    {
      "cell_type": "code",
      "metadata": {
        "colab": {
          "base_uri": "https://localhost:8080/"
        },
        "id": "lzjGgns7fTNY",
        "outputId": "fc2bc3c6-8dd8-4016-c55c-55b9aac857aa"
      },
      "source": [
        "os.makedirs(\"models\", exist_ok=True)\n",
        "model = build_RNN(input_length=max_len, vocab_size=len(feats_dict),\n",
        "                  embedding_size=100, hidden_size=100, output_size=num_classes,\n",
        "                  rnn_type=\"gru\", num_rnn_layers=1, num_mlp_layers=2,\n",
        "                  activation=\"tanh\",\n",
        "                  batch_norm=True,\n",
        "                  l2_reg=0.005, dropout_rate=0.5)\n",
        "checkpointer = keras.callbacks.ModelCheckpoint(\n",
        "    filepath=os.path.join(\"models\", \"weights.hdf5\"),\n",
        "    monitor=\"val_accuracy\",\n",
        "    verbose=0,\n",
        "    save_best_only=True)\n",
        "earlystopping = keras.callbacks.EarlyStopping(\n",
        "    monitor='val_loss',\n",
        "    patience=5,\n",
        "    verbose=0)\n",
        "\n",
        "np.random.seed(0)\n",
        "tf.random.set_seed(0)\n",
        "gru_history = model.fit(train_feats_matrix, train_label_matrix,\n",
        "                    validation_split=0.1,\n",
        "                    epochs=100, batch_size=100, verbose=0,\n",
        "                    callbacks=[checkpointer, earlystopping])\n",
        "model = keras.models.load_model(os.path.join(\"models\", \"weights.hdf5\"))\n",
        "\n",
        "train_score = model.evaluate(train_feats_matrix, train_label_matrix,\n",
        "                             batch_size=100)\n",
        "valid_score = model.evaluate(valid_feats_matrix, valid_label_matrix,\n",
        "                            batch_size=100)\n",
        "print(\"training loss:\", train_score[0], \"training accuracy\", train_score[1])\n",
        "print(\"valid loss:\", valid_score[0], \"valid accuracy\", valid_score[1])"
      ],
      "execution_count": 18,
      "outputs": [
        {
          "output_type": "stream",
          "text": [
            "100/100 [==============================] - 1s 5ms/step - loss: 0.5285 - accuracy: 0.8454\n",
            "20/20 [==============================] - 0s 5ms/step - loss: 1.8846 - accuracy: 0.4885\n",
            "training loss: 0.5284973382949829 training accuracy 0.8453999757766724\n",
            "valid loss: 1.8845884799957275 valid accuracy 0.4884999990463257\n"
          ],
          "name": "stdout"
        }
      ]
    },
    {
      "cell_type": "markdown",
      "metadata": {
        "id": "lTQoH5isfrpo"
      },
      "source": [
        "RNN vs LSTM vs GRU"
      ]
    },
    {
      "cell_type": "code",
      "metadata": {
        "colab": {
          "base_uri": "https://localhost:8080/",
          "height": 283
        },
        "id": "FHvBzuHcfXJF",
        "outputId": "47ed815e-4655-4ac2-eb7c-6ac2583154f3"
      },
      "source": [
        "plt.figure(figsize=(10,4))\n",
        "plt.subplot(1,2,1)\n",
        "plt.plot(rnn_history.history[\"loss\"], label=\"RNN-training\", color=\"blue\", linestyle=\"dashed\")\n",
        "plt.plot(rnn_history.history[\"val_loss\"], label=\"RNN-validation\", color=\"blue\")\n",
        "plt.plot(lstm_history.history[\"loss\"], label=\"LSTM-training\", color=\"orange\", linestyle=\"dashed\")\n",
        "plt.plot(lstm_history.history[\"val_loss\"], label=\"LSTM-validation\", color=\"orange\")\n",
        "plt.plot(gru_history.history[\"loss\"], label=\"GRU-training\", color=\"gray\", linestyle=\"dashed\")\n",
        "plt.plot(gru_history.history[\"val_loss\"], label=\"GRU-validation\", color=\"gray\")\n",
        "plt.xlabel(\"Iteration\")\n",
        "plt.ylabel(\"Loss\")\n",
        "plt.legend()\n",
        "plt.subplot(1,2,2)\n",
        "plt.plot(rnn_history.history[\"accuracy\"], label=\"RNN-training\", color=\"blue\", linestyle=\"dashed\")\n",
        "plt.plot(rnn_history.history[\"val_accuracy\"], label=\"RNN-validation\", color=\"blue\")\n",
        "plt.plot(lstm_history.history[\"accuracy\"], label=\"LSTM-training\", color=\"orange\", linestyle=\"dashed\")\n",
        "plt.plot(lstm_history.history[\"val_accuracy\"], label=\"LSTM-validation\", color=\"orange\")\n",
        "plt.plot(gru_history.history[\"accuracy\"], label=\"GRU-training\", color=\"gray\", linestyle=\"dashed\")\n",
        "plt.plot(gru_history.history[\"val_accuracy\"], label=\"GRU-validation\", color=\"gray\")\n",
        "plt.xlabel(\"Iteration\")\n",
        "plt.ylabel(\"Accuracy\")\n",
        "plt.legend()\n",
        "plt.show()"
      ],
      "execution_count": 20,
      "outputs": [
        {
          "output_type": "display_data",
          "data": {
            "image/png": "[encoded data removed]",
            "text/plain": [
              "<Figure size 720x288 with 2 Axes>"
            ]
          },
          "metadata": {
            "tags": [],
            "needs_background": "light"
          }
        }
      ]
    },
    {
      "cell_type": "markdown",
      "metadata": {
        "id": "H4G9X-5mf3kQ"
      },
      "source": [
        "Bidirectional LSTM"
      ]
    },
    {
      "cell_type": "code",
      "metadata": {
        "colab": {
          "base_uri": "https://localhost:8080/"
        },
        "id": "YpjL7moSfvkG",
        "outputId": "57556229-e7dc-4fe8-937e-997d58143acc"
      },
      "source": [
        "os.makedirs(\"models\", exist_ok=True)\n",
        "model = build_RNN(input_length=max_len, vocab_size=len(feats_dict),\n",
        "                  embedding_size=100, hidden_size=100, output_size=num_classes,\n",
        "                  rnn_type=\"lstm\", num_rnn_layers=1, bidirectional=True, num_mlp_layers=2,\n",
        "                  activation=\"tanh\",\n",
        "                  batch_norm=True,\n",
        "                  l2_reg=0.005, dropout_rate=0.5)\n",
        "checkpointer = keras.callbacks.ModelCheckpoint(\n",
        "    filepath=os.path.join(\"models\", \"weights.hdf5\"),\n",
        "    monitor=\"val_accuracy\",\n",
        "    verbose=0,\n",
        "    save_best_only=True)\n",
        "earlystopping = keras.callbacks.EarlyStopping(\n",
        "    monitor='val_loss',\n",
        "    patience=5,\n",
        "    verbose=0)\n",
        "\n",
        "np.random.seed(0)\n",
        "tf.random.set_seed(0)\n",
        "bilstm_history = model.fit(train_feats_matrix, train_label_matrix,\n",
        "                    validation_split=0.1,\n",
        "                    epochs=100, batch_size=100, verbose=0,\n",
        "                    callbacks=[checkpointer, earlystopping])\n",
        "model = keras.models.load_model(os.path.join(\"models\", \"weights.hdf5\"))\n",
        "\n",
        "train_score = model.evaluate(train_feats_matrix, train_label_matrix,\n",
        "                             batch_size=100)\n",
        "valid_score = model.evaluate(valid_feats_matrix, valid_label_matrix,\n",
        "                            batch_size=100)\n",
        "print(\"training loss:\", train_score[0], \"training accuracy\", train_score[1])\n",
        "print(\"valid loss:\", valid_score[0], \"valid accuracy\", valid_score[1])"
      ],
      "execution_count": 21,
      "outputs": [
        {
          "output_type": "stream",
          "text": [
            "100/100 [==============================] - 1s 7ms/step - loss: 0.9228 - accuracy: 0.7650\n",
            "20/20 [==============================] - 0s 7ms/step - loss: 1.3064 - accuracy: 0.5345\n",
            "training loss: 0.9227628707885742 training accuracy 0.7649999856948853\n",
            "valid loss: 1.306418538093567 valid accuracy 0.534500002861023\n"
          ],
          "name": "stdout"
        }
      ]
    },
    {
      "cell_type": "code",
      "metadata": {
        "colab": {
          "base_uri": "https://localhost:8080/",
          "height": 279
        },
        "id": "P4z8ey8qgAFO",
        "outputId": "52e19cd2-0221-44ef-d37e-4d9b620df97a"
      },
      "source": [
        "plt.figure(figsize=(10,4))\n",
        "plt.subplot(1,2,1)\n",
        "plt.plot(lstm_history.history[\"loss\"], label=\"LSTM-training\", color=\"blue\", linestyle=\"dashed\")\n",
        "plt.plot(lstm_history.history[\"val_loss\"], label=\"LSTM-validation\", color=\"blue\")\n",
        "plt.plot(bilstm_history.history[\"loss\"], label=\"BiLSTM-training\", color=\"orange\", linestyle=\"dashed\")\n",
        "plt.plot(bilstm_history.history[\"val_loss\"], label=\"BiLSTM-validation\", color=\"orange\")\n",
        "plt.xlabel(\"Iteration\")\n",
        "plt.ylabel(\"Loss\")\n",
        "plt.legend()\n",
        "plt.subplot(1,2,2)\n",
        "plt.plot(lstm_history.history[\"accuracy\"], label=\"LSTM-training\", color=\"blue\", linestyle=\"dashed\")\n",
        "plt.plot(lstm_history.history[\"val_accuracy\"], label=\"LSTM-validation\", color=\"blue\")\n",
        "plt.plot(bilstm_history.history[\"accuracy\"], label=\"BiLSTM-training\", color=\"orange\", linestyle=\"dashed\")\n",
        "plt.plot(bilstm_history.history[\"val_accuracy\"], label=\"BiLSTM-validation\", color=\"orange\")\n",
        "plt.xlabel(\"Iteration\")\n",
        "plt.ylabel(\"Accuracy\")\n",
        "plt.legend()\n",
        "plt.show()"
      ],
      "execution_count": 22,
      "outputs": [
        {
          "output_type": "display_data",
          "data": {
            "image/png": "[encoded data removed]",
            "text/plain": [
              "<Figure size 720x288 with 2 Axes>"
            ]
          },
          "metadata": {
            "tags": [],
            "needs_background": "light"
          }
        }
      ]
    },
    {
      "cell_type": "markdown",
      "metadata": {
        "id": "h85I-oTzg7U0"
      },
      "source": [
        "Add word2vec embeddings and tune hyperparameters"
      ]
    }
  ]
}