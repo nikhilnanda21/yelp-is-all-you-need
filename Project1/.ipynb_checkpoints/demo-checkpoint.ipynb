{
 "cells": [
  {
   "cell_type": "markdown",
   "metadata": {
    "colab_type": "text",
    "id": "view-in-github"
   },
   "source": [
    "<a href=\"https://colab.research.google.com/github/nikhilnanda21/RMBI4310-COMP4332-Project/blob/jamie/Project1/demo.ipynb\" target=\"_parent\"><img src=\"https://colab.research.google.com/assets/colab-badge.svg\" alt=\"Open In Colab\"/></a>"
   ]
  },
  {
   "cell_type": "markdown",
   "metadata": {
    "id": "HAckpZDZG-BR"
   },
   "source": [
    "# Download Data"
   ]
  },
  {
   "cell_type": "code",
   "execution_count": 15,
   "metadata": {
    "colab": {
     "base_uri": "https://localhost:8080/"
    },
    "id": "_gEmiUAEG8zx",
    "outputId": "93935444-0f53-47bf-809a-2a1a5a30b9ac"
   },
   "outputs": [
    {
     "name": "stdout",
     "output_type": "stream",
     "text": [
      "zsh:1: no matches found: https://hkustconnect-my.sharepoint.com/:u:/g/personal/nnanda_connect_ust_hk/ERROCEL56mNPqSWWzbzLj3cBvQTtCS9yzoiUfVlhIx1CCA?download=1\n",
      "unzip:  cannot find or open data_2021_spring.zip, data_2021_spring.zip.zip or data_2021_spring.zip.ZIP.\n"
     ]
    },
    {
     "name": "stderr",
     "output_type": "stream",
     "text": [
      "[nltk_data] Downloading package stopwords to /Users/jamie/nltk_data...\n",
      "[nltk_data]   Package stopwords is already up-to-date!\n",
      "[nltk_data] Downloading package punkt to /Users/jamie/nltk_data...\n",
      "[nltk_data]   Package punkt is already up-to-date!\n"
     ]
    },
    {
     "data": {
      "text/plain": [
       "True"
      ]
     },
     "execution_count": 15,
     "metadata": {},
     "output_type": "execute_result"
    }
   ],
   "source": [
    "!wget https://hkustconnect-my.sharepoint.com/:u:/g/personal/nnanda_connect_ust_hk/ERROCEL56mNPqSWWzbzLj3cBvQTtCS9yzoiUfVlhIx1CCA?download=1 -O \"data_2021_spring.zip\"\n",
    "!unzip \"data_2021_spring.zip\"\n",
    "import nltk\n",
    "nltk.download('stopwords')\n",
    "nltk.download('punkt')"
   ]
  },
  {
   "cell_type": "markdown",
   "metadata": {
    "id": "SXnBAO809AOb"
   },
   "source": [
    "# Instructions for Project 1 - Sentiment Classification\n",
    "\n",
    "Hello everyone, this is Zihao. I am very happy to host the first project\n",
    "\n",
    "In this project, you will conduct a sentiment analysis task.\n",
    "You will build a model to predict the scores (a.k.a. stars, from 1-5) of each review.\n",
    "For each review, you are given a piece of text as well as some other features (Explore yourself!).\n",
    "You can consider the predicted variables to be categorical, ordinal or numerical.\n",
    "\n",
    "DDL: *April 6, 2021*\n",
    "- *March 23, 2021* release the validation score of weak baseline\n",
    "- *March 30, 2021* release the validation score of strong baseline\n",
    "\n",
    "Submission: Each team leader is required to submit the groupNo.zip file in the canvas. It shoud contain \n",
    "- `pre.csv` Predictions on test data (please make sure you can successfully evaluate your validation predictions on the validation data with the help of evaluate.py)\n",
    "- report (1-2 pages of pdf)\n",
    "- code (Frameworks and programming languages are not restricted.)\n",
    "\n",
    "We will check your report with your code and the accuracy.\n",
    "\n",
    "| Grade | Classifier (80%)                                                   | Report (20%)                      |\n",
    "|-------|--------------------------------------------------------------------|-----------------------------------|\n",
    "| 50%   | example code in tutorials or in Project 1 without any modification | submission                        |\n",
    "| 60%   | an easy baseline that most students can outperform                 | algorithm you used                |\n",
    "| 80%   | a competitive baseline that about half students can surpass        | detailed explanation              |\n",
    "| 90%   | a very competitive baseline without any special mechanism          | detailed explanation and analysis, such as explorative data analysis and ablation study |\n",
    "| 100%  | a very competitive baseline with at least one mechanism            | excellent ideas, detailed explanation and solid analysis |\n",
    "\n",
    "\n",
    "\n",
    "In this notebook, you are provided with the code snippets for you to start.\n",
    "\n",
    "The content follows previous lectures and tutorials. But I may mention some useful python packages.\n",
    "\n",
    "## Instruction Content\n",
    "\n",
    "1. Load & Dump the data\n",
    "    1. Load the data\n",
    "    1. Dump the data\n",
    "1. Preprocessing\n",
    "    1. Text data processing recap\n",
    "    1. Explorative data analysis\n",
    "1. Learning Baselines\n",
    "\n",
    "## 1. Load & Dump the data\n",
    "\n",
    "The same as previous tutorials, we use `pandas` as the basic tool to load & dump the data.\n",
    "The key ingredient of our operation is the `DataFrame` in pandas."
   ]
  },
  {
   "cell_type": "code",
   "execution_count": 16,
   "metadata": {
    "id": "ug0PS99E9AOq"
   },
   "outputs": [],
   "source": [
    "import pandas as pd"
   ]
  },
  {
   "cell_type": "markdown",
   "metadata": {
    "id": "q15KcEky9AOr"
   },
   "source": [
    "### A. Load the data\n",
    "\n",
    "Here is a function to load your data, remember put the dataset in the `data_2021_spring` folder.\n",
    "\n",
    "Each year we release different data, so old models are not guaranteed to solve the new data."
   ]
  },
  {
   "cell_type": "code",
   "execution_count": 17,
   "metadata": {
    "id": "jFEJ1aJv9AOs"
   },
   "outputs": [],
   "source": [
    "def load_data(split_name='train', columns=['text', 'stars']):\n",
    "    try:\n",
    "        print(f\"select [{', '.join(columns)}] columns from the {split_name} split\")\n",
    "        df = pd.read_csv(f'data_2021_spring/{split_name}.csv')\n",
    "        df = df.loc[:,columns]\n",
    "        print(\"succeed!\")\n",
    "        return df\n",
    "    except:\n",
    "        print(\"Failed, then try to \")\n",
    "        print(f\"select all columns from the {split_name} split\")\n",
    "        df = pd.read_csv(f'data_2021_spring/{split_name}.csv')\n",
    "        return df"
   ]
  },
  {
   "cell_type": "markdown",
   "metadata": {
    "id": "4i6RoQO49AOs"
   },
   "source": [
    "Then you can extract the data by specifying the desired split and columns"
   ]
  },
  {
   "cell_type": "code",
   "execution_count": 18,
   "metadata": {
    "colab": {
     "base_uri": "https://localhost:8080/"
    },
    "id": "YP9SWiuv9AOs",
    "outputId": "1cc106c9-fb83-42b5-fe37-5682cb67f737"
   },
   "outputs": [
    {
     "name": "stdout",
     "output_type": "stream",
     "text": [
      "select [text] columns from the train split\n",
      "succeed!\n"
     ]
    }
   ],
   "source": [
    "train_df = load_data('train', columns=['text'])"
   ]
  },
  {
   "cell_type": "code",
   "execution_count": 19,
   "metadata": {
    "colab": {
     "base_uri": "https://localhost:8080/",
     "height": 204
    },
    "id": "IKH2Jzn89AOt",
    "outputId": "7cea7aca-673d-4350-bb81-07a81d5af515"
   },
   "outputs": [
    {
     "data": {
      "text/html": [
       "<div>\n",
       "<style scoped>\n",
       "    .dataframe tbody tr th:only-of-type {\n",
       "        vertical-align: middle;\n",
       "    }\n",
       "\n",
       "    .dataframe tbody tr th {\n",
       "        vertical-align: top;\n",
       "    }\n",
       "\n",
       "    .dataframe thead th {\n",
       "        text-align: right;\n",
       "    }\n",
       "</style>\n",
       "<table border=\"1\" class=\"dataframe\">\n",
       "  <thead>\n",
       "    <tr style=\"text-align: right;\">\n",
       "      <th></th>\n",
       "      <th>text</th>\n",
       "    </tr>\n",
       "  </thead>\n",
       "  <tbody>\n",
       "    <tr>\n",
       "      <th>0</th>\n",
       "      <td>Nice to have a diner still around. Food was go...</td>\n",
       "    </tr>\n",
       "    <tr>\n",
       "      <th>1</th>\n",
       "      <td>Tried this a while back, got the fried chicken...</td>\n",
       "    </tr>\n",
       "    <tr>\n",
       "      <th>2</th>\n",
       "      <td>I expected more pork selections on menu. Food ...</td>\n",
       "    </tr>\n",
       "    <tr>\n",
       "      <th>3</th>\n",
       "      <td>YUMMY!!! This place is phenomenal. It is Price...</td>\n",
       "    </tr>\n",
       "    <tr>\n",
       "      <th>4</th>\n",
       "      <td>The Truffle Macaroni &amp; Cheese and Potatoes Au ...</td>\n",
       "    </tr>\n",
       "  </tbody>\n",
       "</table>\n",
       "</div>"
      ],
      "text/plain": [
       "                                                text\n",
       "0  Nice to have a diner still around. Food was go...\n",
       "1  Tried this a while back, got the fried chicken...\n",
       "2  I expected more pork selections on menu. Food ...\n",
       "3  YUMMY!!! This place is phenomenal. It is Price...\n",
       "4  The Truffle Macaroni & Cheese and Potatoes Au ..."
      ]
     },
     "execution_count": 19,
     "metadata": {},
     "output_type": "execute_result"
    }
   ],
   "source": [
    "train_df.head()"
   ]
  },
  {
   "cell_type": "code",
   "execution_count": 20,
   "metadata": {
    "colab": {
     "base_uri": "https://localhost:8080/"
    },
    "id": "VOmXTj9K9AOu",
    "outputId": "c5375eb6-cddb-4afc-8b60-72cb140d6ea4"
   },
   "outputs": [
    {
     "name": "stdout",
     "output_type": "stream",
     "text": [
      "select [text, stars] columns from the test split\n",
      "Failed, then try to \n",
      "select all columns from the test split\n"
     ]
    }
   ],
   "source": [
    "test_df = load_data('test')"
   ]
  },
  {
   "cell_type": "code",
   "execution_count": 21,
   "metadata": {
    "colab": {
     "base_uri": "https://localhost:8080/"
    },
    "id": "p11tWdcb9AOu",
    "outputId": "f9000307-f739-4035-ff3a-bfe4f0c8b00c"
   },
   "outputs": [
    {
     "data": {
      "text/plain": [
       "2000"
      ]
     },
     "execution_count": 21,
     "metadata": {},
     "output_type": "execute_result"
    }
   ],
   "source": [
    "len(test_df)"
   ]
  },
  {
   "cell_type": "markdown",
   "metadata": {
    "id": "NbjS-Eqi9AOu"
   },
   "source": [
    "### B. Dump the random answer\n",
    "\n",
    "In this project, your predictions on test data are supposed to be submitted by a csv file of two columns, i.e. (review_id and stars)\n",
    "\n",
    "Here we compose the random answer in a DataFrame and dump the answer into a csv file"
   ]
  },
  {
   "cell_type": "code",
   "execution_count": 22,
   "metadata": {
    "id": "GXpTm5789AOv"
   },
   "outputs": [],
   "source": [
    "import numpy as np"
   ]
  },
  {
   "cell_type": "code",
   "execution_count": 23,
   "metadata": {
    "id": "mgVA8Q2t9AOv"
   },
   "outputs": [],
   "source": [
    "random_ans = pd.DataFrame(data={\n",
    "    'review_id': test_df['review_id'],\n",
    "    'stars': np.random.randint(0, 6, size=len(test_df))\n",
    "})"
   ]
  },
  {
   "cell_type": "code",
   "execution_count": 24,
   "metadata": {
    "colab": {
     "base_uri": "https://localhost:8080/",
     "height": 204
    },
    "id": "QbK8s-B19AOv",
    "outputId": "ea4d9f52-acde-4105-b628-377695885f7a"
   },
   "outputs": [
    {
     "data": {
      "text/html": [
       "<div>\n",
       "<style scoped>\n",
       "    .dataframe tbody tr th:only-of-type {\n",
       "        vertical-align: middle;\n",
       "    }\n",
       "\n",
       "    .dataframe tbody tr th {\n",
       "        vertical-align: top;\n",
       "    }\n",
       "\n",
       "    .dataframe thead th {\n",
       "        text-align: right;\n",
       "    }\n",
       "</style>\n",
       "<table border=\"1\" class=\"dataframe\">\n",
       "  <thead>\n",
       "    <tr style=\"text-align: right;\">\n",
       "      <th></th>\n",
       "      <th>review_id</th>\n",
       "      <th>stars</th>\n",
       "    </tr>\n",
       "  </thead>\n",
       "  <tbody>\n",
       "    <tr>\n",
       "      <th>0</th>\n",
       "      <td>b8-ELBwhmDKcmcM8icT86g</td>\n",
       "      <td>1</td>\n",
       "    </tr>\n",
       "    <tr>\n",
       "      <th>1</th>\n",
       "      <td>rBpAJhIen_V-zLoXZIcROg</td>\n",
       "      <td>0</td>\n",
       "    </tr>\n",
       "    <tr>\n",
       "      <th>2</th>\n",
       "      <td>_pALaDG6se9OTkGGhyhnNA</td>\n",
       "      <td>5</td>\n",
       "    </tr>\n",
       "    <tr>\n",
       "      <th>3</th>\n",
       "      <td>ru8fpA1Uk0tTFtO5hLM49g</td>\n",
       "      <td>1</td>\n",
       "    </tr>\n",
       "    <tr>\n",
       "      <th>4</th>\n",
       "      <td>fRPgwuFoY6SriToXZyaOQA</td>\n",
       "      <td>0</td>\n",
       "    </tr>\n",
       "  </tbody>\n",
       "</table>\n",
       "</div>"
      ],
      "text/plain": [
       "                review_id  stars\n",
       "0  b8-ELBwhmDKcmcM8icT86g      1\n",
       "1  rBpAJhIen_V-zLoXZIcROg      0\n",
       "2  _pALaDG6se9OTkGGhyhnNA      5\n",
       "3  ru8fpA1Uk0tTFtO5hLM49g      1\n",
       "4  fRPgwuFoY6SriToXZyaOQA      0"
      ]
     },
     "execution_count": 24,
     "metadata": {},
     "output_type": "execute_result"
    }
   ],
   "source": [
    "random_ans.head()"
   ]
  },
  {
   "cell_type": "code",
   "execution_count": 25,
   "metadata": {
    "id": "EqRs8e1N9AOv"
   },
   "outputs": [],
   "source": [
    "group_number = -1\n",
    "random_ans.to_csv(f'{group_number}-random_ans.csv', index=False)"
   ]
  },
  {
   "cell_type": "markdown",
   "metadata": {
    "id": "-luJpdpr9AOv"
   },
   "source": [
    "## 2. Preprocessing\n",
    "\n",
    "Preprocessing and feature engineering is important in machine learning\n",
    "\n",
    "### A. Text data processing recap\n",
    "In our tutorials, Haoran have showed you how to extract textual features by the `nltk` package\n",
    "\n",
    "Remember to use the NLTK Downloader to obtain the resource:\n",
    "```\n",
    "  >>> import nltk\n",
    "  >>> nltk.download('stopwords')\n",
    "  >>> nltk.download('punkt')\n",
    "```"
   ]
  },
  {
   "cell_type": "code",
   "execution_count": 26,
   "metadata": {
    "id": "QhYLSBbh9AOw"
   },
   "outputs": [],
   "source": [
    "import nltk\n",
    "from nltk.stem import PorterStemmer\n",
    "from nltk.corpus import stopwords\n",
    "stopwords = set(stopwords.words('english'))\n",
    "ps = PorterStemmer()\n",
    "\n",
    "def lower(s):\n",
    "    \"\"\"\n",
    "    :param s: a string.\n",
    "    return a string with lower characters\n",
    "    Note that we allow the input to be nested string of a list.\n",
    "    e.g.\n",
    "    Input: 'Text mining is to identify useful information.'\n",
    "    Output: 'text mining is to identify useful information.'\n",
    "    \"\"\"\n",
    "    if isinstance(s, list):\n",
    "        return [lower(t) for t in s]\n",
    "    if isinstance(s, str):\n",
    "        return s.lower()\n",
    "    else:\n",
    "        raise NotImplementedError(\"unknown datatype\")\n",
    "\n",
    "\n",
    "def tokenize(text):\n",
    "    \"\"\"\n",
    "    :param text: a doc with multiple sentences, type: str\n",
    "    return a word list, type: list\n",
    "    e.g.\n",
    "    Input: 'Text mining is to identify useful information.'\n",
    "    Output: ['Text', 'mining', 'is', 'to', 'identify', 'useful', 'information', '.']\n",
    "    \"\"\"\n",
    "    return nltk.word_tokenize(text)\n",
    "\n",
    "\n",
    "def stem(tokens):\n",
    "    \"\"\"\n",
    "    :param tokens: a list of tokens, type: list\n",
    "    return a list of stemmed words, type: list\n",
    "    e.g.\n",
    "    Input: ['Text', 'mining', 'is', 'to', 'identify', 'useful', 'information', '.']\n",
    "    Output: ['text', 'mine', 'is', 'to', 'identifi', 'use', 'inform', '.']\n",
    "    \"\"\"\n",
    "    ### equivalent code\n",
    "    # results = list()\n",
    "    # for token in tokens:\n",
    "    #     results.append(ps.stem(token))\n",
    "    # return results\n",
    "\n",
    "    return [ps.stem(token) for token in tokens]\n",
    "\n",
    "def n_gram(tokens, n=1):\n",
    "    \"\"\"\n",
    "    :param tokens: a list of tokens, type: list\n",
    "    :param n: the corresponding n-gram, type: int\n",
    "    return a list of n-gram tokens, type: list\n",
    "    e.g.\n",
    "    Input: ['text', 'mine', 'is', 'to', 'identifi', 'use', 'inform', '.'], 2\n",
    "    Output: ['text mine', 'mine is', 'is to', 'to identifi', 'identifi use', 'use inform', 'inform .']\n",
    "    \"\"\"\n",
    "    if n == 1:\n",
    "        return tokens\n",
    "    else:\n",
    "        results = list()\n",
    "        for i in range(len(tokens)-n+1):\n",
    "            # tokens[i:i+n] will return a sublist from i th to i+n th (i+n th is not included)\n",
    "            results.append(\" \".join(tokens[i:i+n]))\n",
    "        return results\n",
    "\n",
    "def filter_stopwords(tokens):\n",
    "    \"\"\"\n",
    "    :param tokens: a list of tokens, type: list\n",
    "    return a list of filtered tokens, type: list\n",
    "    e.g.\n",
    "    Input: ['text', 'mine', 'is', 'to', 'identifi', 'use', 'inform', '.']\n",
    "    Output: ['text', 'mine', 'identifi', 'use', 'inform', '.']\n",
    "    \"\"\"\n",
    "    ### equivalent code\n",
    "    # results = list()\n",
    "    # for token in tokens:\n",
    "    #     if token not in stopwords and not token.isnumeric():\n",
    "    #         results.append(token)\n",
    "    # return results\n",
    "\n",
    "    return [token for token in tokens if token not in stopwords and not token.isnumeric()]\n",
    "\n",
    "import numpy as np\n",
    "\n",
    "def get_onehot_vector(feats, feats_dict):\n",
    "    \"\"\"\n",
    "    :param data: a list of features, type: list\n",
    "    :param feats_dict: a dict from features to indices, type: dict\n",
    "    return a feature vector,\n",
    "    \"\"\"\n",
    "    # initialize the vector as all zeros\n",
    "    vector = np.zeros(len(feats_dict), dtype=np.float)\n",
    "    for f in feats:\n",
    "        # get the feature index, return -1 if the feature is not existed\n",
    "        f_idx = feats_dict.get(f, -1)\n",
    "        if f_idx != -1:\n",
    "            # set the corresponding element as 1\n",
    "            vector[f_idx] = 1\n",
    "    return vector"
   ]
  },
  {
   "cell_type": "code",
   "execution_count": null,
   "metadata": {
    "id": "yXGfXEpjCSDV"
   },
   "outputs": [],
   "source": []
  },
  {
   "cell_type": "markdown",
   "metadata": {
    "id": "dekgQGHT9AOw"
   },
   "source": [
    "Note that you can use the `map` function to apply your preprocessing functions into the dataframe."
   ]
  },
  {
   "cell_type": "code",
   "execution_count": 27,
   "metadata": {
    "colab": {
     "base_uri": "https://localhost:8080/"
    },
    "id": "Auz1_Y2U9AOw",
    "outputId": "15990d14-18d1-400d-acd0-f7ef78d5e14e"
   },
   "outputs": [
    {
     "name": "stdout",
     "output_type": "stream",
     "text": [
      "0    [i, took, up, train, union, station, catch, ai...\n",
      "1    [we, worked, fitness, twist, part, best, frien...\n",
      "2    [it, 's, typical, ,, average, ,, run-of-the-mi...\n",
      "3    [we, went, outback, today, celebrate, daughter...\n",
      "4    [we, went, see, nashville, unplugged, country,...\n"
     ]
    }
   ],
   "source": [
    "test_df['tokens'] = test_df['text'].map(tokenize).map(filter_stopwords).map(lower)\n",
    "print(test_df['tokens'].head().to_string())"
   ]
  },
  {
   "cell_type": "markdown",
   "metadata": {
    "id": "Nuf78xEW9AOx"
   },
   "source": [
    "Besides `nltk`, I would like to introduce `SpaCy`, a newer text processing toolkit of industrial strength.\n",
    "\n",
    "You can explore it at https://spacy.io/\n",
    "\n",
    "Let's install it"
   ]
  },
  {
   "cell_type": "markdown",
   "metadata": {
    "id": "cX201ILd9AOx"
   },
   "source": [
    "```bash\n",
    "python -m pip install spacy\n",
    "python -m spacy download en_core_web_sm\n",
    "```"
   ]
  },
  {
   "cell_type": "code",
   "execution_count": 28,
   "metadata": {
    "id": "_Mf62BhX9AOx"
   },
   "outputs": [],
   "source": [
    "import spacy\n",
    "nlp = spacy.load('en_core_web_sm')"
   ]
  },
  {
   "cell_type": "markdown",
   "metadata": {
    "id": "O5TClnyt9AOx"
   },
   "source": [
    "SpaCy enables you use linguistic features of texts\n",
    "\n",
    "Example:"
   ]
  },
  {
   "cell_type": "code",
   "execution_count": 29,
   "metadata": {
    "colab": {
     "base_uri": "https://localhost:8080/"
    },
    "id": "cd029IwJ9AOx",
    "outputId": "ce02b52e-cc93-46a9-d236-2a75d90aafa1"
   },
   "outputs": [
    {
     "name": "stdout",
     "output_type": "stream",
     "text": [
      "raw       ,\t stem      ,\t PartOfSpeech,\t dependency,\t shape     ,\t is alpha  ,\t is stop   ,\t its childrens in the parsing tree,\t \n",
      "--------------------------------------------------------------------------------------------------------------------------------------------\n",
      "Apple     ,\t Apple     ,\t PROPN     ,\t nsubj     ,\t Xxxxx     ,\t True      ,\t False     ,\t []        ,\t \n",
      "is        ,\t be        ,\t AUX       ,\t aux       ,\t xx        ,\t True      ,\t True      ,\t []        ,\t \n",
      "looking   ,\t look      ,\t VERB      ,\t ROOT      ,\t xxxx      ,\t True      ,\t False     ,\t [Apple, is, at, startup],\t \n",
      "at        ,\t at        ,\t ADP       ,\t prep      ,\t xx        ,\t True      ,\t True      ,\t [buying]  ,\t \n",
      "buying    ,\t buy       ,\t VERB      ,\t pcomp     ,\t xxxx      ,\t True      ,\t False     ,\t [U.K.]    ,\t \n",
      "U.K.      ,\t U.K.      ,\t PROPN     ,\t dobj      ,\t X.X.      ,\t False     ,\t False     ,\t []        ,\t \n",
      "startup   ,\t startup   ,\t NOUN      ,\t advcl     ,\t xxxx      ,\t True      ,\t False     ,\t [for]     ,\t \n",
      "for       ,\t for       ,\t ADP       ,\t prep      ,\t xxx       ,\t True      ,\t True      ,\t [billion] ,\t \n",
      "$         ,\t $         ,\t SYM       ,\t quantmod  ,\t $         ,\t False     ,\t False     ,\t []        ,\t \n",
      "1         ,\t 1         ,\t NUM       ,\t compound  ,\t d         ,\t False     ,\t False     ,\t []        ,\t \n",
      "billion   ,\t billion   ,\t NUM       ,\t pobj      ,\t xxxx      ,\t True      ,\t False     ,\t [$, 1]    ,\t \n"
     ]
    }
   ],
   "source": [
    "doc = nlp(\"Apple is looking at buying U.K. startup for $1 billion\")\n",
    "\n",
    "fmt = \"{:10s},\\t \" * 8\n",
    "print(fmt.format('raw', 'stem', 'PartOfSpeech', 'dependency', 'shape', 'is alpha', 'is stop', 'its childrens in the parsing tree'))\n",
    "print('-'*140)\n",
    "for token in doc:\n",
    "    print(fmt.format(token.text, token.lemma_, token.pos_, token.dep_,\n",
    "            token.shape_, str(token.is_alpha), str(token.is_stop), str(list(token.children))))"
   ]
  },
  {
   "cell_type": "code",
   "execution_count": null,
   "metadata": {
    "id": "q3uMcKJ0DTBI"
   },
   "outputs": [],
   "source": []
  },
  {
   "cell_type": "markdown",
   "metadata": {
    "id": "x3vRHO5I9AOy"
   },
   "source": [
    "SpaCy also allows you use the embeddings for both sentence and words\n",
    "\n",
    "Example:"
   ]
  },
  {
   "cell_type": "code",
   "execution_count": 30,
   "metadata": {
    "colab": {
     "base_uri": "https://localhost:8080/"
    },
    "id": "YQ2SXIwe9AOy",
    "outputId": "5b42884b-b693-47b3-bdee-13f8af3e5928"
   },
   "outputs": [
    {
     "name": "stdout",
     "output_type": "stream",
     "text": [
      "Apple is looking at buying U.K. startup for $1 billion [ 0.4847193   0.34561655  0.23650904 -0.27294627  0.30828613] ...\n",
      "Apple [ 0.9396687   0.46727175 -0.3862503  -0.23296848  0.25683203] ...\n",
      "is [-0.21470308 -0.36800703  1.8618155  -0.43874717 -0.6448474 ] ...\n",
      "looking [ 1.5960355  -0.01218066 -0.1948367   0.7979922   0.36900565] ...\n",
      "at [-1.2617028  -0.8116296  -0.55736023  0.08604071 -0.43663728] ...\n",
      "buying [ 0.3020423  -0.9611639   1.2695026   0.10633498  2.8583994 ] ...\n",
      "U.K. [ 2.2959712   0.78135234 -1.0174923  -0.5566485   0.69199914] ...\n",
      "startup [0.6782811  0.03798376 0.07798427 0.1210558  0.5636424 ] ...\n",
      "for [-0.07904667 -0.21996386 -1.3529027  -0.24131706  0.43687835] ...\n",
      "$ [ 0.44878927  0.75564337  0.5757578  -1.1713823   0.7438692 ] ...\n",
      "1 [-0.3846085  2.7049747  2.7081459 -1.4393395 -0.5412608] ...\n",
      "billion [ 1.011186    1.4275012  -0.38276425 -0.03342953 -0.9067332 ] ...\n"
     ]
    }
   ],
   "source": [
    "print(doc, doc.vector[:5], '...')\n",
    "for t in doc:\n",
    "    print(t, t.vector[:5], '...')"
   ]
  },
  {
   "cell_type": "markdown",
   "metadata": {
    "id": "0B0mnB5F9AOy"
   },
   "source": [
    "For more usage of SpaCy, you can refer to the documentation of spacy https://spacy.io/usage"
   ]
  },
  {
   "cell_type": "markdown",
   "metadata": {
    "id": "zrePxBEL9AOy"
   },
   "source": [
    "### B. Explorative data analysis\n",
    "\n",
    "For our dataset, we have features more than text"
   ]
  },
  {
   "cell_type": "code",
   "execution_count": 31,
   "metadata": {
    "colab": {
     "base_uri": "https://localhost:8080/"
    },
    "id": "CF54MBSy9AOz",
    "outputId": "54c7dc7c-f736-4199-dcd3-00e2d82b4c73"
   },
   "outputs": [
    {
     "name": "stdout",
     "output_type": "stream",
     "text": [
      "select [f, u, l, l] columns from the train split\n",
      "Failed, then try to \n",
      "select all columns from the train split\n"
     ]
    }
   ],
   "source": [
    "train_df_full = load_data('train', columns='full')"
   ]
  },
  {
   "cell_type": "code",
   "execution_count": 32,
   "metadata": {
    "colab": {
     "base_uri": "https://localhost:8080/",
     "height": 204
    },
    "id": "27muOFSg9AOz",
    "outputId": "a47d02cc-c6c5-4205-a005-6af52db2e2ca"
   },
   "outputs": [
    {
     "data": {
      "text/html": [
       "<div>\n",
       "<style scoped>\n",
       "    .dataframe tbody tr th:only-of-type {\n",
       "        vertical-align: middle;\n",
       "    }\n",
       "\n",
       "    .dataframe tbody tr th {\n",
       "        vertical-align: top;\n",
       "    }\n",
       "\n",
       "    .dataframe thead th {\n",
       "        text-align: right;\n",
       "    }\n",
       "</style>\n",
       "<table border=\"1\" class=\"dataframe\">\n",
       "  <thead>\n",
       "    <tr style=\"text-align: right;\">\n",
       "      <th></th>\n",
       "      <th>business_id</th>\n",
       "      <th>cool</th>\n",
       "      <th>date</th>\n",
       "      <th>funny</th>\n",
       "      <th>review_id</th>\n",
       "      <th>stars</th>\n",
       "      <th>text</th>\n",
       "      <th>useful</th>\n",
       "      <th>user_id</th>\n",
       "    </tr>\n",
       "  </thead>\n",
       "  <tbody>\n",
       "    <tr>\n",
       "      <th>0</th>\n",
       "      <td>39rLHYJOy2774ZIUouuWLw</td>\n",
       "      <td>0</td>\n",
       "      <td>2017-06-28 21:44:02</td>\n",
       "      <td>0</td>\n",
       "      <td>ynzOFepQYSCDGdfWDWxiZw</td>\n",
       "      <td>4</td>\n",
       "      <td>Nice to have a diner still around. Food was go...</td>\n",
       "      <td>0</td>\n",
       "      <td>Sl6VgFOB-XXfFIAYp7TFkw</td>\n",
       "    </tr>\n",
       "    <tr>\n",
       "      <th>1</th>\n",
       "      <td>E-Kq1Yu1d6N3TL2qX0aqjA</td>\n",
       "      <td>0</td>\n",
       "      <td>2018-04-09 03:45:19</td>\n",
       "      <td>0</td>\n",
       "      <td>sQX9ncJBEdBf16AWsvO6Vg</td>\n",
       "      <td>2</td>\n",
       "      <td>Tried this a while back, got the fried chicken...</td>\n",
       "      <td>0</td>\n",
       "      <td>gcx01pMqWzkni2UC-zoZrA</td>\n",
       "    </tr>\n",
       "    <tr>\n",
       "      <th>2</th>\n",
       "      <td>nWW6fBfBljiRFa4sG7TyxA</td>\n",
       "      <td>0</td>\n",
       "      <td>2014-07-19 02:00:04</td>\n",
       "      <td>0</td>\n",
       "      <td>bVIf2kqbzvif3miNe3ARNw</td>\n",
       "      <td>4</td>\n",
       "      <td>I expected more pork selections on menu. Food ...</td>\n",
       "      <td>0</td>\n",
       "      <td>Mn9VzPbrCYU4EcP_C1oBOg</td>\n",
       "    </tr>\n",
       "    <tr>\n",
       "      <th>3</th>\n",
       "      <td>qmIHO-6T_KEfPC9jyGDamQ</td>\n",
       "      <td>0</td>\n",
       "      <td>2011-11-11 08:10:24</td>\n",
       "      <td>0</td>\n",
       "      <td>LNj1OFxy2ool3PZANGchPA</td>\n",
       "      <td>4</td>\n",
       "      <td>YUMMY!!! This place is phenomenal. It is Price...</td>\n",
       "      <td>0</td>\n",
       "      <td>SKV1heo00fdciCbCN9Z33A</td>\n",
       "    </tr>\n",
       "    <tr>\n",
       "      <th>4</th>\n",
       "      <td>pKk7jCFIm96qDdk0laVT2w</td>\n",
       "      <td>1</td>\n",
       "      <td>2010-01-16 20:04:00</td>\n",
       "      <td>1</td>\n",
       "      <td>bZXxa0hO6wQlHD-MkMf4iw</td>\n",
       "      <td>5</td>\n",
       "      <td>The Truffle Macaroni &amp; Cheese and Potatoes Au ...</td>\n",
       "      <td>1</td>\n",
       "      <td>p1r7rZYruZR92x1A649PTQ</td>\n",
       "    </tr>\n",
       "  </tbody>\n",
       "</table>\n",
       "</div>"
      ],
      "text/plain": [
       "              business_id  cool                 date  funny  \\\n",
       "0  39rLHYJOy2774ZIUouuWLw     0  2017-06-28 21:44:02      0   \n",
       "1  E-Kq1Yu1d6N3TL2qX0aqjA     0  2018-04-09 03:45:19      0   \n",
       "2  nWW6fBfBljiRFa4sG7TyxA     0  2014-07-19 02:00:04      0   \n",
       "3  qmIHO-6T_KEfPC9jyGDamQ     0  2011-11-11 08:10:24      0   \n",
       "4  pKk7jCFIm96qDdk0laVT2w     1  2010-01-16 20:04:00      1   \n",
       "\n",
       "                review_id  stars  \\\n",
       "0  ynzOFepQYSCDGdfWDWxiZw      4   \n",
       "1  sQX9ncJBEdBf16AWsvO6Vg      2   \n",
       "2  bVIf2kqbzvif3miNe3ARNw      4   \n",
       "3  LNj1OFxy2ool3PZANGchPA      4   \n",
       "4  bZXxa0hO6wQlHD-MkMf4iw      5   \n",
       "\n",
       "                                                text  useful  \\\n",
       "0  Nice to have a diner still around. Food was go...       0   \n",
       "1  Tried this a while back, got the fried chicken...       0   \n",
       "2  I expected more pork selections on menu. Food ...       0   \n",
       "3  YUMMY!!! This place is phenomenal. It is Price...       0   \n",
       "4  The Truffle Macaroni & Cheese and Potatoes Au ...       1   \n",
       "\n",
       "                  user_id  \n",
       "0  Sl6VgFOB-XXfFIAYp7TFkw  \n",
       "1  gcx01pMqWzkni2UC-zoZrA  \n",
       "2  Mn9VzPbrCYU4EcP_C1oBOg  \n",
       "3  SKV1heo00fdciCbCN9Z33A  \n",
       "4  p1r7rZYruZR92x1A649PTQ  "
      ]
     },
     "execution_count": 32,
     "metadata": {},
     "output_type": "execute_result"
    }
   ],
   "source": [
    "train_df_full.head()"
   ]
  },
  {
   "cell_type": "markdown",
   "metadata": {
    "id": "SgxCOol69AOz"
   },
   "source": [
    "You can explore the relationship between different features"
   ]
  },
  {
   "cell_type": "code",
   "execution_count": 33,
   "metadata": {
    "id": "S5eIO0i59AOz"
   },
   "outputs": [],
   "source": [
    "import matplotlib.pyplot as plt"
   ]
  },
  {
   "cell_type": "code",
   "execution_count": 34,
   "metadata": {
    "colab": {
     "base_uri": "https://localhost:8080/",
     "height": 282
    },
    "id": "0ejnqkMl9AOz",
    "outputId": "f54f389d-5fb0-4a5c-d2a8-aa954686e654"
   },
   "outputs": [
    {
     "data": {
      "text/plain": [
       "<matplotlib.collections.PathCollection at 0x158a54fd0>"
      ]
     },
     "execution_count": 34,
     "metadata": {},
     "output_type": "execute_result"
    },
    {
     "data": {
      "image/png": "[encoded data removed]",
      "text/plain": [
       "<Figure size 432x288 with 1 Axes>"
      ]
     },
     "metadata": {
      "needs_background": "light"
     },
     "output_type": "display_data"
    }
   ],
   "source": [
    "plt.scatter(train_df_full['cool'], train_df_full['funny'])"
   ]
  },
  {
   "cell_type": "code",
   "execution_count": 35,
   "metadata": {
    "colab": {
     "base_uri": "https://localhost:8080/",
     "height": 316
    },
    "id": "UE_I7piQ9AOz",
    "outputId": "ddde020c-1316-4f8e-b3ef-c293d2e6c5ca"
   },
   "outputs": [
    {
     "data": {
      "text/plain": [
       "(array([2534., 1354., 1888., 2110., 2114.]),\n",
       " array([1. , 1.8, 2.6, 3.4, 4.2, 5. ]),\n",
       " <BarContainer object of 5 artists>)"
      ]
     },
     "execution_count": 35,
     "metadata": {},
     "output_type": "execute_result"
    },
    {
     "data": {
      "image/png": "[encoded data removed]",
      "text/plain": [
       "<Figure size 432x288 with 1 Axes>"
      ]
     },
     "metadata": {
      "needs_background": "light"
     },
     "output_type": "display_data"
    }
   ],
   "source": [
    "plt.hist(train_df_full['stars'], bins=5)"
   ]
  },
  {
   "cell_type": "markdown",
   "metadata": {
    "id": "LT4NYbZG9AO0"
   },
   "source": [
    "Moreover, you may use the id feature to aggregate data samples\n",
    "\n",
    "For example"
   ]
  },
  {
   "cell_type": "code",
   "execution_count": 36,
   "metadata": {
    "colab": {
     "base_uri": "https://localhost:8080/",
     "height": 316
    },
    "id": "uk-n7Fmq9AO0",
    "outputId": "ea4f0914-94b3-470a-fd72-36ad5d0ad59c"
   },
   "outputs": [
    {
     "name": "stdout",
     "output_type": "stream",
     "text": [
      "                 business_id  funny  cool  stars\n",
      "7043  -0qht1roIqleKiQkBLDkbw      1     0      3\n",
      "7363  -0qht1roIqleKiQkBLDkbw      0     0      5\n"
     ]
    },
    {
     "data": {
      "image/png": "[encoded data removed]",
      "text/plain": [
       "<Figure size 432x288 with 1 Axes>"
      ]
     },
     "metadata": {
      "needs_background": "light"
     },
     "output_type": "display_data"
    }
   ],
   "source": [
    "for bid, sub_df in train_df_full.groupby('business_id'):\n",
    "    if len(sub_df) > 1:\n",
    "        print(sub_df[['business_id', 'funny', 'cool', 'stars']].head())\n",
    "        plt.hist(sub_df['stars'], bins=5)\n",
    "        break"
   ]
  },
  {
   "cell_type": "code",
   "execution_count": 37,
   "metadata": {
    "colab": {
     "base_uri": "https://localhost:8080/"
    },
    "id": "1vihj9FT9AO1",
    "outputId": "55f72f68-5d72-4fc0-8c38-47d5ac95e941"
   },
   "outputs": [
    {
     "name": "stdout",
     "output_type": "stream",
     "text": [
      "                     user_id  funny  cool  stars\n",
      "1173  -SjQXQd-IRfOdUdYYwWGOQ      0     1      4\n",
      "4503  -SjQXQd-IRfOdUdYYwWGOQ      0     0      1\n"
     ]
    }
   ],
   "source": [
    "for bid, sub_df in train_df_full.groupby('user_id'):\n",
    "    if len(sub_df) > 1:\n",
    "        print(sub_df[['user_id', 'funny', 'cool', 'stars']].head())\n",
    "        break"
   ]
  },
  {
   "cell_type": "markdown",
   "metadata": {
    "id": "R8AQAUH79AO1"
   },
   "source": [
    "## 3. Baselines\n",
    "\n",
    "Finally, we come up with two baselines for you to refer.\n",
    "We only use text data here and only consider first 5k training samples.\n",
    "\n",
    "For example, a baseline can be a logistic regression"
   ]
  },
  {
   "cell_type": "code",
   "execution_count": 38,
   "metadata": {
    "colab": {
     "base_uri": "https://localhost:8080/"
    },
    "id": "YaQHCMJV9AO1",
    "outputId": "8fa6d109-975c-482a-8f28-c6b2411bc41c"
   },
   "outputs": [
    {
     "name": "stdout",
     "output_type": "stream",
     "text": [
      "select [text, stars] columns from the train split\n",
      "succeed!\n",
      "select [text, stars] columns from the valid split\n",
      "succeed!\n"
     ]
    }
   ],
   "source": [
    "train_df = load_data('train')[:5000]\n",
    "valid_df = load_data('valid')"
   ]
  },
  {
   "cell_type": "markdown",
   "metadata": {
    "id": "bzNMVlj_9AO1"
   },
   "source": [
    "The split above is what we have done for you. You can use the data as you like."
   ]
  },
  {
   "cell_type": "code",
   "execution_count": 39,
   "metadata": {
    "id": "XpYN_3Uq9AO1"
   },
   "outputs": [],
   "source": [
    "from sklearn.pipeline import Pipeline\n",
    "from sklearn.feature_extraction.text import TfidfVectorizer\n",
    "from sklearn.metrics import confusion_matrix, classification_report, accuracy_score\n",
    "from sklearn.linear_model import LogisticRegression"
   ]
  },
  {
   "cell_type": "code",
   "execution_count": 40,
   "metadata": {
    "id": "krB_GACB9AO1"
   },
   "outputs": [],
   "source": [
    "x_train = train_df['text']\n",
    "y_train = train_df['stars']"
   ]
  },
  {
   "cell_type": "code",
   "execution_count": 41,
   "metadata": {
    "colab": {
     "base_uri": "https://localhost:8080/"
    },
    "id": "ub-ZIHou9AO2",
    "outputId": "f44cebab-fe4a-4788-a3a8-3c0a10879163"
   },
   "outputs": [
    {
     "name": "stdout",
     "output_type": "stream",
     "text": [
      "Pipeline(steps=[('tfidf',\n",
      "                 TfidfVectorizer(tokenizer=<function tokenize at 0x131957620>)),\n",
      "                ('lr', LogisticRegression())])\n"
     ]
    }
   ],
   "source": [
    "tfidf = TfidfVectorizer(tokenizer=tokenize)\n",
    "lr = LogisticRegression()\n",
    "steps = [('tfidf', tfidf),('lr', lr)]\n",
    "pipe = Pipeline(steps)\n",
    "print(pipe)"
   ]
  },
  {
   "cell_type": "code",
   "execution_count": 42,
   "metadata": {
    "colab": {
     "base_uri": "https://localhost:8080/"
    },
    "id": "ywXvoAn_9AO2",
    "outputId": "45ceafab-4282-4304-ff55-1515cb5900ac"
   },
   "outputs": [
    {
     "name": "stderr",
     "output_type": "stream",
     "text": [
      "/Library/Python/3.7/site-packages/sklearn/linear_model/_logistic.py:765: ConvergenceWarning: lbfgs failed to converge (status=1):\n",
      "STOP: TOTAL NO. of ITERATIONS REACHED LIMIT.\n",
      "\n",
      "Increase the number of iterations (max_iter) or scale the data as shown in:\n",
      "    https://scikit-learn.org/stable/modules/preprocessing.html\n",
      "Please also refer to the documentation for alternative solver options:\n",
      "    https://scikit-learn.org/stable/modules/linear_model.html#logistic-regression\n",
      "  extra_warning_msg=_LOGISTIC_SOLVER_CONVERGENCE_MSG)\n"
     ]
    },
    {
     "data": {
      "text/plain": [
       "Pipeline(steps=[('tfidf',\n",
       "                 TfidfVectorizer(tokenizer=<function tokenize at 0x131957620>)),\n",
       "                ('lr', LogisticRegression())])"
      ]
     },
     "execution_count": 42,
     "metadata": {},
     "output_type": "execute_result"
    }
   ],
   "source": [
    "pipe.fit(x_train, y_train)"
   ]
  },
  {
   "cell_type": "code",
   "execution_count": 43,
   "metadata": {
    "colab": {
     "base_uri": "https://localhost:8080/"
    },
    "id": "bNfdA8xi9AO4",
    "outputId": "cf160f7a-715e-4b05-df37-d9b63eb1463c"
   },
   "outputs": [
    {
     "name": "stdout",
     "output_type": "stream",
     "text": [
      "              precision    recall  f1-score   support\n",
      "\n",
      "           1       0.66      0.88      0.75       517\n",
      "           2       0.41      0.14      0.21       278\n",
      "           3       0.44      0.47      0.45       344\n",
      "           4       0.50      0.51      0.50       427\n",
      "           5       0.70      0.67      0.68       434\n",
      "\n",
      "    accuracy                           0.58      2000\n",
      "   macro avg       0.54      0.53      0.52      2000\n",
      "weighted avg       0.56      0.58      0.56      2000\n",
      "\n",
      "\n",
      "\n",
      "\n",
      "[[456  23  21  11   6]\n",
      " [119  38  96  20   5]\n",
      " [ 64  22 160  87  11]\n",
      " [ 22   6  78 217 104]\n",
      " [ 32   3  11  99 289]]\n",
      "accuracy 0.58\n"
     ]
    }
   ],
   "source": [
    "x_valid = valid_df['text']\n",
    "y_valid = valid_df['stars']\n",
    "y_pred = pipe.predict(x_valid)\n",
    "print(classification_report(y_valid, y_pred))\n",
    "print(\"\\n\\n\")\n",
    "print(confusion_matrix(y_valid, y_pred))\n",
    "print('accuracy', np.mean(y_valid == y_pred))"
   ]
  },
  {
   "cell_type": "markdown",
   "metadata": {
    "id": "XD_poAnW9AO4"
   },
   "source": [
    "Of course, you can use deep learning.\n",
    "Here is a pytorch based baseline using CNN"
   ]
  },
  {
   "cell_type": "markdown",
   "metadata": {
    "id": "_sdX-3RX9AO4"
   },
   "source": [
    "```bash\n",
    "pip install torch\n",
    "```"
   ]
  },
  {
   "cell_type": "code",
   "execution_count": 46,
   "metadata": {
    "id": "z8PKseV49AO4"
   },
   "outputs": [],
   "source": [
    "import torch\n",
    "from torch import nn\n",
    "from torch.utils.data import DataLoader, Dataset\n",
    "import tqdm"
   ]
  },
  {
   "cell_type": "code",
   "execution_count": 47,
   "metadata": {
    "id": "SMLeCgKO9AO4"
   },
   "outputs": [],
   "source": [
    "train_text = train_df['text'].map(tokenize).map(filter_stopwords).map(stem)\n",
    "valid_text = valid_df['text'].map(tokenize).map(filter_stopwords).map(stem)"
   ]
  },
  {
   "cell_type": "code",
   "execution_count": 48,
   "metadata": {
    "id": "yhh0J20m9AO4"
   },
   "outputs": [],
   "source": [
    "word2id = {}\n",
    "for tokens in train_text:\n",
    "    for t in tokens:\n",
    "        if not t in word2id:\n",
    "            word2id[t] = len(word2id)\n",
    "word2id['<pad>'] = len(word2id)"
   ]
  },
  {
   "cell_type": "code",
   "execution_count": 49,
   "metadata": {
    "id": "9G4kD_GE9AO5"
   },
   "outputs": [],
   "source": [
    "def texts_to_id_seq(texts, padding_length=500):\n",
    "    records = []\n",
    "    for tokens in texts:\n",
    "        record = []\n",
    "        for t in tokens:\n",
    "            record.append(word2id.get(t, len(word2id)))\n",
    "        if len(record) >= padding_length:\n",
    "            records.append(record[:padding_length])\n",
    "        else:\n",
    "            records.append(record + [word2id['<pad>']] * (padding_length - len(record)))\n",
    "    return records"
   ]
  },
  {
   "cell_type": "code",
   "execution_count": 50,
   "metadata": {
    "id": "4B0SDYA-9AO5"
   },
   "outputs": [],
   "source": [
    "train_seqs = texts_to_id_seq(train_text)"
   ]
  },
  {
   "cell_type": "code",
   "execution_count": 51,
   "metadata": {
    "id": "x7P3C_3Z9AO5"
   },
   "outputs": [],
   "source": [
    "valid_seqs = texts_to_id_seq(valid_text)"
   ]
  },
  {
   "cell_type": "code",
   "execution_count": 52,
   "metadata": {
    "id": "UYv0-Piy9AO5"
   },
   "outputs": [],
   "source": [
    "class MyDataset(Dataset):\n",
    "    \n",
    "    def __init__(self, seq, y):\n",
    "        assert len(seq) == len(y)\n",
    "        self.seq = seq\n",
    "        self.y = y-1\n",
    "    \n",
    "    def __getitem__(self, idx):\n",
    "        return np.asarray(self.seq[idx]), self.y[idx]\n",
    "\n",
    "    def __len__(self):\n",
    "        return len(self.seq)"
   ]
  },
  {
   "cell_type": "code",
   "execution_count": 53,
   "metadata": {
    "id": "vpeoevZH9AO5"
   },
   "outputs": [],
   "source": [
    "batch_size = 16\n",
    "\n",
    "train_loader = DataLoader(MyDataset(train_seqs, y_train), batch_size=batch_size, shuffle=True)\n",
    "valid_loader = DataLoader(MyDataset(valid_seqs, y_valid), batch_size=batch_size)"
   ]
  },
  {
   "cell_type": "code",
   "execution_count": 54,
   "metadata": {
    "id": "YSROZU2d9AO5"
   },
   "outputs": [],
   "source": [
    "class mlp(nn.Module):\n",
    "    def __init__(self):\n",
    "        super(mlp, self).__init__()\n",
    "        self.embedding = nn.Embedding(num_embeddings=len(word2id)+1, embedding_dim=64)\n",
    "        self.cnn = nn.Sequential(\n",
    "            nn.Conv1d(in_channels=64,\n",
    "                      out_channels=64,\n",
    "                      kernel_size=3,\n",
    "                      stride=1),\n",
    "            nn.MaxPool1d(kernel_size=3, stride=1),\n",
    "            nn.ReLU(),\n",
    "            nn.Conv1d(in_channels=64,\n",
    "                      out_channels=64,\n",
    "                      kernel_size=3,\n",
    "                      stride=1),\n",
    "            nn.MaxPool1d(kernel_size=3, stride=1),\n",
    "            nn.Dropout(0.5)\n",
    "        )\n",
    "        self.linear = nn.Linear(64, 5)\n",
    "    \n",
    "    def forward(self, x):\n",
    "        x = self.embedding(x)\n",
    "        x = torch.transpose(x, 1, 2)\n",
    "        x = self.cnn(x)\n",
    "        x = torch.max(x, dim=-1)[0]\n",
    "        x = self.linear(x)\n",
    "        return x"
   ]
  },
  {
   "cell_type": "code",
   "execution_count": 55,
   "metadata": {
    "id": "xO0MyAC19AO6"
   },
   "outputs": [],
   "source": [
    "model = mlp()\n",
    "optimizer = torch.optim.Adam(model.parameters(), lr=1e-3)\n",
    "criterion = torch.nn.CrossEntropyLoss()"
   ]
  },
  {
   "cell_type": "code",
   "execution_count": 56,
   "metadata": {
    "id": "_XwoH9xN9AO6",
    "scrolled": false
   },
   "outputs": [],
   "source": [
    "# for e in range(1, 11):    \n",
    "#     print('epoch', e)\n",
    "#     model.train()\n",
    "#     total_acc = 0\n",
    "#     total_loss = 0\n",
    "#     total_count = 0\n",
    "#     with tqdm.tqdm(train_loader) as t:\n",
    "#         for x, y in t:\n",
    "#             optimizer.zero_grad()\n",
    "#             logits = model(x)\n",
    "#             loss = criterion(logits, y)\n",
    "#             loss.backward()\n",
    "#             total_acc += (logits.argmax(1) == y).sum().item()\n",
    "#             total_count += y.size(0)\n",
    "#             total_loss += loss.item()\n",
    "#             optimizer.step()\n",
    "#             t.set_postfix({'loss': total_loss/total_count, 'acc': total_acc/total_count})\n",
    "\n",
    "#     model.eval()\n",
    "#     y_pred = []\n",
    "#     y_true = []\n",
    "#     with tqdm.tqdm(valid_loader) as t:\n",
    "#         for x, y in t:\n",
    "#             logits = model(x)\n",
    "#             total_acc += (logits.argmax(1) == y).sum().item()\n",
    "#             total_count += len(y)\n",
    "#             y_pred += logits.argmax(1).tolist()\n",
    "#             y_true += y.tolist()\n",
    "#     print(classification_report(y_true, y_pred))\n",
    "#     print(\"\\n\\n\")\n",
    "#     print(confusion_matrix(y_true, y_pred))"
   ]
  },
  {
   "cell_type": "markdown",
   "metadata": {
    "id": "HIkmkLkf9AO6"
   },
   "source": [
    "Deep learning are full of tricks. \n",
    "\n",
    "In the second example above, the implementation of CNN is not good enough to beat even TFIDF+Logistic regression.\n",
    "\n",
    "You can use all the techniques introduced in the lectures and tutorials to enhance your methods.\n",
    "\n",
    "Of course, you can use ideas have not been mentioned to make your model distinguished."
   ]
  },
  {
   "cell_type": "code",
   "execution_count": null,
   "metadata": {
    "id": "uZNOohZdWqJM"
   },
   "outputs": [],
   "source": []
  },
  {
   "cell_type": "code",
   "execution_count": null,
   "metadata": {
    "colab": {
     "base_uri": "https://localhost:8080/"
    },
    "id": "duPjGtlb9AO6",
    "outputId": "08c93b58-f67e-46ab-ff3f-c8a95835f67c"
   },
   "outputs": [
    {
     "name": "stdout",
     "output_type": "stream",
     "text": [
      "[[  0   0   0 ... 365  10 326]\n",
      " [  0   0   0 ...  59  13  92]\n",
      " [  0   0   0 ...   4 706 160]\n",
      " ...\n",
      " [  0   0   0 ...  26  73 414]\n",
      " [  0   0   0 ... 113  68  38]\n",
      " [  0   0   0 ... 130  83 405]]\n",
      "Model: \"sequential\"\n",
      "_________________________________________________________________\n",
      "Layer (type)                 Output Shape              Param #   \n",
      "=================================================================\n",
      "embedding (Embedding)        (None, 849, 256)          256000    \n",
      "_________________________________________________________________\n",
      "spatial_dropout1d (SpatialDr (None, 849, 256)          0         \n",
      "_________________________________________________________________\n",
      "gru (GRU)                    (None, 849, 256)          394752    \n",
      "_________________________________________________________________\n",
      "lstm (LSTM)                  (None, 196)               355152    \n",
      "_________________________________________________________________\n",
      "dense (Dense)                (None, 6)                 1182      \n",
      "=================================================================\n",
      "Total params: 1,007,086\n",
      "Trainable params: 1,007,086\n",
      "Non-trainable params: 0\n",
      "_________________________________________________________________\n",
      "None\n",
      "(3350, 849) (3350, 6)\n",
      "(1650, 849) (1650, 6)\n",
      "Epoch 1/20\n",
      " 13/105 [==>...........................] - ETA: 2:46 - loss: 1.6947 - accuracy: 0.2332"
     ]
    }
   ],
   "source": [
    "from keras.datasets import imdb\n",
    "\n",
    "#vocabulary_size = 5000\n",
    "#(X_train, y_train), (X_test, y_test) = imdb.load_data(num_words = vocabulary_size)\n",
    "\n",
    "# print(\"X_train : \",X_train)\n",
    "# print(\"y_train : \",y_train)\n",
    "# print(\"x_test : \",X_test)\n",
    "#print('Loaded dataset with {} training samples, {} test samples'.format(len(X_train), len(X_test)))\n",
    "\n",
    "# pre processing data\n",
    "from string import punctuation\n",
    "\n",
    "from collections import Counter\n",
    "\n",
    "\n",
    "\n",
    "#all_text = ''.join([c for c in train_df['text'] if c not in punctuation])\n",
    "#print(\"all_text : \",len(all_text))\n",
    "#print(all_text[:3])\n",
    "\n",
    "def encodeWords(df):\n",
    "  all_text2 = ' '.join([c for c in df])\n",
    "  # create a list of words\n",
    "  words = all_text2.split()\n",
    "  # Count all the words using Counter Method\n",
    "  count_words = Counter(words)\n",
    "\n",
    "  total_words = len(words)\n",
    "  sorted_words = count_words.most_common(total_words)\n",
    "  print(total_words,sorted_words)\n",
    "\n",
    "\n",
    "  vocab = sorted(count_words, key=count_words.get, reverse=True)\n",
    "  print(vocab)\n",
    "\n",
    "  vocab_to_int = {word: ii for ii, word in enumerate(vocab, 1)}\n",
    "\n",
    "  reviews_ints = [] \n",
    "  for review in df:     \n",
    "    reviews_ints.append([vocab_to_int[word] for word in review.split()])\n",
    "  return reviews_ints\n",
    "\n",
    "from keras.preprocessing.text import Tokenizer\n",
    "\n",
    "from keras.preprocessing.sequence import pad_sequences\n",
    "\n",
    "\n",
    "max_features = 1000\n",
    "tokenizer = Tokenizer(num_words=max_features, split=' ')\n",
    "tokenizer.fit_on_texts(train_df['text'].values)\n",
    "X_train = tokenizer.texts_to_sequences(train_df['text'].values)\n",
    "X_train = pad_sequences(X_train)\n",
    "print(X_train)\n",
    "\n",
    "# X_train = encodeWords(train_df[\"text\"])\n",
    "# y_train = train_df[\"stars\"] \n",
    "\n",
    "# X_test = encodeWords(test_df[\"text\"])\n",
    "# y_test = y_valid\n",
    "\n",
    "# review_lens = Counter([len(x) for x in X_train])\n",
    "# print(\"Zero-length reviews: {}\".format(review_lens[0]))\n",
    "# print(\"Maximum review length: {}\".format(max(review_lens)))\n",
    "# y_review_lens = Counter([len(x) for x in X_test])\n",
    "\n",
    "\n",
    "\n",
    "\n",
    "# def pad_features(reviews_ints, seq_length):\n",
    "#   ''' Return features of review_ints, where each review is padded with 0's\n",
    "#   or truncated to the input seq_length.\n",
    "#   '''\n",
    "#   # getting the correct rows x cols shape\n",
    "#   features = np.zeros((len(reviews_ints), seq_length), dtype=int)\n",
    "\n",
    "#   # for each review, I grab that review and\n",
    "#   for i, row in enumerate(reviews_ints):\n",
    "#   features[i, -len(row):] = np.array(row)[:seq_length]\n",
    "#   return features\n",
    "\n",
    "\n",
    "\n",
    "# print('---review---')\n",
    "# print(X_train[6])\n",
    "# print('---label---')\n",
    "# print(y_train[6])\n",
    "\n",
    "\n",
    "# word2id = imdb.get_word_index()\n",
    "# id2word = {i: word for word, i in word2id.items()}\n",
    "# print('---review with words---')\n",
    "# print([id2word.get(i, ' ') for i in X_train[6]])\n",
    "# print('---label---')\n",
    "# print(y_train[6])\n",
    "\n",
    "\n",
    "# RNN model\n",
    "from keras.preprocessing import sequence\n",
    "\n",
    "# pad sequence\n",
    "max_words = max_features\n",
    "#X_train = sequence.pad_sequences(X_train, maxlen=max_words)\n",
    "#X_test = sequence.pad_sequences(X_test, maxlen=max_words)\n",
    "\n",
    "# define RNN model\n",
    "\n",
    "from keras import Sequential\n",
    "from keras.layers import Embedding, LSTM, Dense, Dropout,SpatialDropout1D, GRU\n",
    "from keras.utils import to_categorical\n",
    "\n",
    "\n",
    "from sklearn.model_selection import train_test_split\n",
    "\n",
    "embedding_size=256\n",
    "model=Sequential()\n",
    "model.add(Embedding(max_features, embedding_size, input_length=X_train.shape[1]))\n",
    "model.add(SpatialDropout1D(0.4))\n",
    "model.add(GRU(256, return_sequences=True))\n",
    "#model.add(LSTM(196,dropout=0.2, recurrent_dropout=0.2))\n",
    "model.add(layers.SimpleRNN(128))\n",
    "model.add(Dense(64, activation='RELU'))\n",
    "model.add(Dense(6, activation='softmax'))\n",
    "print(model.summary())\n",
    "\n",
    "# compile\n",
    "model.compile(loss='categorical_crossentropy', \n",
    "             optimizer='adam', \n",
    "             metrics=['accuracy'])\n",
    "\n",
    "\n",
    "# train\n",
    "batch_size = 32\n",
    "num_epochs = 20\n",
    "\n",
    "X_train, X_test, Y_train, Y_test = train_test_split(X_train,to_categorical(train_df[\"stars\"].values), test_size = 0.33, random_state = 42)\n",
    "print(X_train.shape,Y_train.shape)\n",
    "print(X_test.shape,Y_test.shape)\n",
    "\n",
    "model.fit(X_train, Y_train, epochs = num_epochs, batch_size=batch_size)\n",
    "\n",
    "# X_valid, y_valid = X_train[:batch_size], y_train[:batch_size]\n",
    "# X_train2, y_train2 = X_train[batch_size:], y_train[batch_size:]\n",
    "# model.fit(X_train2, y_train2, validation_data=(X_valid, y_valid), batch_size=batch_size, epochs=num_epochs)\n",
    "\n",
    "# predict\n",
    "\n",
    "validation_size = 1500\n",
    "\n",
    "X_validate = X_test[-validation_size:]\n",
    "Y_validate = Y_test[-validation_size:]\n",
    "X_test = X_test[:-validation_size]\n",
    "Y_test = Y_test[:-validation_size]\n",
    "score,acc = model.evaluate(X_test, Y_test, verbose = 0, batch_size = batch_size)\n",
    "print(\"score: %.2f\" % (score))\n",
    "print(\"acc: %.2f\" % (acc))\n",
    "\n",
    "# scores = model.evaluate(X_test, y_test, verbose=0)\n",
    "# print('Test accuracy:', scores[1])\n",
    "\n"
   ]
  }
 ],
 "metadata": {
  "accelerator": "GPU",
  "colab": {
   "include_colab_link": true,
   "name": "demo.ipynb",
   "provenance": [],
   "toc_visible": true
  },
  "kernelspec": {
   "display_name": "Python 3",
   "language": "python",
   "name": "python3"
  },
  "language_info": {
   "codemirror_mode": {
    "name": "ipython",
    "version": 3
   },
   "file_extension": ".py",
   "mimetype": "text/x-python",
   "name": "python",
   "nbconvert_exporter": "python",
   "pygments_lexer": "ipython3",
   "version": "3.7.3"
  }
 },
 "nbformat": 4,
 "nbformat_minor": 1
}
