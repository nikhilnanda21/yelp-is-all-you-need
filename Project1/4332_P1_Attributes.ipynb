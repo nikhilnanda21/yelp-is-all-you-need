{
  "nbformat": 4,
  "nbformat_minor": 0,
  "metadata": {
    "colab": {
      "name": "4332_P1_Attributes.ipynb",
      "provenance": [],
      "collapsed_sections": [],
      "toc_visible": true
    },
    "kernelspec": {
      "name": "python3",
      "display_name": "Python 3"
    },
    "language_info": {
      "name": "python"
    },
    "accelerator": "GPU"
  },
  "cells": [
    {
      "cell_type": "markdown",
      "metadata": {
        "id": "HAckpZDZG-BR"
      },
      "source": [
        "# Download Data"
      ]
    },
    {
      "cell_type": "code",
      "metadata": {
        "id": "_gEmiUAEG8zx"
      },
      "source": [
        "!wget -q https://hkustconnect-my.sharepoint.com/:u:/g/personal/nnanda_connect_ust_hk/EfREjZqiZTlPqhqUPICBbPABdlgPumlaUVxPncm-_9aWIw?download=1 -O \"Project 1 - data.zip\"\n",
        "!unzip -q \"Project 1 - data.zip\""
      ],
      "execution_count": 1,
      "outputs": []
    },
    {
      "cell_type": "markdown",
      "metadata": {
        "id": "VyCUH6drFgou"
      },
      "source": [
        "# Import Libraries"
      ]
    },
    {
      "cell_type": "code",
      "metadata": {
        "colab": {
          "base_uri": "https://localhost:8080/"
        },
        "id": "L_q2Kr7_Fa-g",
        "outputId": "928538db-4223-4cb6-c0be-50edcf5c2ad4"
      },
      "source": [
        "!pip -q install keras-layer-normalization"
      ],
      "execution_count": 2,
      "outputs": [
        {
          "output_type": "stream",
          "text": [
            "  Building wheel for keras-layer-normalization (setup.py) ... \u001b[?25l\u001b[?25hdone\n"
          ],
          "name": "stdout"
        }
      ]
    },
    {
      "cell_type": "code",
      "metadata": {
        "id": "7_uTe2vvFJTL"
      },
      "source": [
        "import os\n",
        "import nltk\n",
        "import math\n",
        "import pandas as pd\n",
        "import numpy as np\n",
        "import keras\n",
        "import tensorflow as tf\n",
        "import matplotlib.pyplot as plt\n",
        "from collections import Counter\n",
        "from itertools import chain\n",
        "from sklearn.model_selection import StratifiedKFold\n",
        "from sklearn.metrics import accuracy_score, f1_score\n",
        "from keras.models import Sequential, Model\n",
        "from keras.layers import Dense, Activation, Dropout, BatchNormalization,\\\n",
        "    Activation, Input, Add, Concatenate, Embedding, Conv1D, MaxPool1D,\\\n",
        "    Flatten, LSTM, Bidirectional, MaxPooling1D, SimpleRNN, GRU, SpatialDropout1D\n",
        "from keras_layer_normalization import LayerNormalization\n",
        "from nltk.corpus import stopwords\n",
        "from nltk.stem import PorterStemmer\n",
        "from keras.wrappers.scikit_learn import KerasClassifier\n",
        "from sklearn.model_selection import GridSearchCV\n",
        "\n",
        "from sklearn.pipeline import Pipeline\n",
        "from sklearn.feature_extraction.text import TfidfVectorizer\n",
        "from sklearn.metrics import confusion_matrix, classification_report, accuracy_score\n",
        "from sklearn.linear_model import LogisticRegression\n",
        "from sklearn.model_selection import GridSearchCV"
      ],
      "execution_count": 3,
      "outputs": []
    },
    {
      "cell_type": "code",
      "metadata": {
        "colab": {
          "base_uri": "https://localhost:8080/"
        },
        "id": "21Z1gRo3H3Zh",
        "outputId": "324590c3-5dd6-4394-cd76-c0639e16a38c"
      },
      "source": [
        "nltk.download('stopwords')\n",
        "nltk.download('punkt')"
      ],
      "execution_count": 4,
      "outputs": [
        {
          "output_type": "stream",
          "text": [
            "[nltk_data] Downloading package stopwords to /root/nltk_data...\n",
            "[nltk_data]   Unzipping corpora/stopwords.zip.\n",
            "[nltk_data] Downloading package punkt to /root/nltk_data...\n",
            "[nltk_data]   Unzipping tokenizers/punkt.zip.\n"
          ],
          "name": "stdout"
        },
        {
          "output_type": "execute_result",
          "data": {
            "text/plain": [
              "True"
            ]
          },
          "metadata": {
            "tags": []
          },
          "execution_count": 4
        }
      ]
    },
    {
      "cell_type": "code",
      "metadata": {
        "id": "noMKFCoiHxq1"
      },
      "source": [
        "stopwords = set(stopwords.words(\"english\"))\n",
        "ps = PorterStemmer()"
      ],
      "execution_count": 5,
      "outputs": []
    },
    {
      "cell_type": "markdown",
      "metadata": {
        "id": "b-Y4M188FjI3"
      },
      "source": [
        "# Data Loader"
      ]
    },
    {
      "cell_type": "code",
      "metadata": {
        "id": "0LdLcI3EFWIK"
      },
      "source": [
        "def load_data(split_name='train', columns=['text', 'stars']):\n",
        "    try:\n",
        "        print(f\"select [{', '.join(columns)}] columns from the {split_name} split\")\n",
        "        df = pd.read_csv(f'data_2021_spring/{split_name}.csv')\n",
        "        df = df.loc[:,columns]\n",
        "        print(\"succeed!\")\n",
        "        return df\n",
        "    except:\n",
        "        print(\"Failed, then try to \")\n",
        "        print(f\"select all columns from the {split_name} split\")\n",
        "        df = pd.read_csv(f'data_2021_spring/{split_name}.csv')\n",
        "        return df"
      ],
      "execution_count": 6,
      "outputs": []
    },
    {
      "cell_type": "code",
      "metadata": {
        "colab": {
          "base_uri": "https://localhost:8080/"
        },
        "id": "YQj5souEFnD2",
        "outputId": "4bc17c5e-9180-4a78-851e-98da7b3759a0"
      },
      "source": [
        "train_df = load_data('train', columns=['full'])\n",
        "valid_df = load_data('valid', columns=['full'])\n",
        "test_df = load_data('test', columns=['full'])"
      ],
      "execution_count": 7,
      "outputs": [
        {
          "output_type": "stream",
          "text": [
            "select [full] columns from the train split\n",
            "Failed, then try to \n",
            "select all columns from the train split\n",
            "select [full] columns from the valid split\n",
            "Failed, then try to \n",
            "select all columns from the valid split\n",
            "select [full] columns from the test split\n",
            "Failed, then try to \n",
            "select all columns from the test split\n"
          ],
          "name": "stdout"
        }
      ]
    },
    {
      "cell_type": "code",
      "metadata": {
        "colab": {
          "base_uri": "https://localhost:8080/",
          "height": 204
        },
        "id": "z3B_iszSQ--o",
        "outputId": "fa602329-1e73-46f1-e64e-16f283cfcd7c"
      },
      "source": [
        "train_df.head()"
      ],
      "execution_count": 8,
      "outputs": [
        {
          "output_type": "execute_result",
          "data": {
            "text/html": [
              "<div>\n",
              "<style scoped>\n",
              "    .dataframe tbody tr th:only-of-type {\n",
              "        vertical-align: middle;\n",
              "    }\n",
              "\n",
              "    .dataframe tbody tr th {\n",
              "        vertical-align: top;\n",
              "    }\n",
              "\n",
              "    .dataframe thead th {\n",
              "        text-align: right;\n",
              "    }\n",
              "</style>\n",
              "<table border=\"1\" class=\"dataframe\">\n",
              "  <thead>\n",
              "    <tr style=\"text-align: right;\">\n",
              "      <th></th>\n",
              "      <th>business_id</th>\n",
              "      <th>cool</th>\n",
              "      <th>date</th>\n",
              "      <th>funny</th>\n",
              "      <th>review_id</th>\n",
              "      <th>stars</th>\n",
              "      <th>text</th>\n",
              "      <th>useful</th>\n",
              "      <th>user_id</th>\n",
              "    </tr>\n",
              "  </thead>\n",
              "  <tbody>\n",
              "    <tr>\n",
              "      <th>0</th>\n",
              "      <td>39rLHYJOy2774ZIUouuWLw</td>\n",
              "      <td>0</td>\n",
              "      <td>2017-06-28 21:44:02</td>\n",
              "      <td>0</td>\n",
              "      <td>ynzOFepQYSCDGdfWDWxiZw</td>\n",
              "      <td>4</td>\n",
              "      <td>Nice to have a diner still around. Food was go...</td>\n",
              "      <td>0</td>\n",
              "      <td>Sl6VgFOB-XXfFIAYp7TFkw</td>\n",
              "    </tr>\n",
              "    <tr>\n",
              "      <th>1</th>\n",
              "      <td>E-Kq1Yu1d6N3TL2qX0aqjA</td>\n",
              "      <td>0</td>\n",
              "      <td>2018-04-09 03:45:19</td>\n",
              "      <td>0</td>\n",
              "      <td>sQX9ncJBEdBf16AWsvO6Vg</td>\n",
              "      <td>2</td>\n",
              "      <td>Tried this a while back, got the fried chicken...</td>\n",
              "      <td>0</td>\n",
              "      <td>gcx01pMqWzkni2UC-zoZrA</td>\n",
              "    </tr>\n",
              "    <tr>\n",
              "      <th>2</th>\n",
              "      <td>nWW6fBfBljiRFa4sG7TyxA</td>\n",
              "      <td>0</td>\n",
              "      <td>2014-07-19 02:00:04</td>\n",
              "      <td>0</td>\n",
              "      <td>bVIf2kqbzvif3miNe3ARNw</td>\n",
              "      <td>4</td>\n",
              "      <td>I expected more pork selections on menu. Food ...</td>\n",
              "      <td>0</td>\n",
              "      <td>Mn9VzPbrCYU4EcP_C1oBOg</td>\n",
              "    </tr>\n",
              "    <tr>\n",
              "      <th>3</th>\n",
              "      <td>qmIHO-6T_KEfPC9jyGDamQ</td>\n",
              "      <td>0</td>\n",
              "      <td>2011-11-11 08:10:24</td>\n",
              "      <td>0</td>\n",
              "      <td>LNj1OFxy2ool3PZANGchPA</td>\n",
              "      <td>4</td>\n",
              "      <td>YUMMY!!! This place is phenomenal. It is Price...</td>\n",
              "      <td>0</td>\n",
              "      <td>SKV1heo00fdciCbCN9Z33A</td>\n",
              "    </tr>\n",
              "    <tr>\n",
              "      <th>4</th>\n",
              "      <td>pKk7jCFIm96qDdk0laVT2w</td>\n",
              "      <td>1</td>\n",
              "      <td>2010-01-16 20:04:00</td>\n",
              "      <td>1</td>\n",
              "      <td>bZXxa0hO6wQlHD-MkMf4iw</td>\n",
              "      <td>5</td>\n",
              "      <td>The Truffle Macaroni &amp; Cheese and Potatoes Au ...</td>\n",
              "      <td>1</td>\n",
              "      <td>p1r7rZYruZR92x1A649PTQ</td>\n",
              "    </tr>\n",
              "  </tbody>\n",
              "</table>\n",
              "</div>"
            ],
            "text/plain": [
              "              business_id  cool  ... useful                 user_id\n",
              "0  39rLHYJOy2774ZIUouuWLw     0  ...      0  Sl6VgFOB-XXfFIAYp7TFkw\n",
              "1  E-Kq1Yu1d6N3TL2qX0aqjA     0  ...      0  gcx01pMqWzkni2UC-zoZrA\n",
              "2  nWW6fBfBljiRFa4sG7TyxA     0  ...      0  Mn9VzPbrCYU4EcP_C1oBOg\n",
              "3  qmIHO-6T_KEfPC9jyGDamQ     0  ...      0  SKV1heo00fdciCbCN9Z33A\n",
              "4  pKk7jCFIm96qDdk0laVT2w     1  ...      1  p1r7rZYruZR92x1A649PTQ\n",
              "\n",
              "[5 rows x 9 columns]"
            ]
          },
          "metadata": {
            "tags": []
          },
          "execution_count": 8
        }
      ]
    },
    {
      "cell_type": "markdown",
      "metadata": {
        "id": "ioEuGGH_Q6dT"
      },
      "source": [
        "# Logistic Regression on just three attributes - cool, funny, useful"
      ]
    },
    {
      "cell_type": "markdown",
      "metadata": {
        "id": "rWHwXJGYR_F3"
      },
      "source": [
        "## Just funny"
      ]
    },
    {
      "cell_type": "code",
      "metadata": {
        "id": "KL5PtSQZRIs5"
      },
      "source": [
        "x_train = train_df['funny'].values\n",
        "y_train = train_df['stars'].values"
      ],
      "execution_count": 26,
      "outputs": []
    },
    {
      "cell_type": "code",
      "metadata": {
        "colab": {
          "base_uri": "https://localhost:8080/"
        },
        "id": "rLEZkENWSqaY",
        "outputId": "938c9cbf-7c1b-427c-a838-01cf58415e94"
      },
      "source": [
        "x_train.shape, y_train.shape"
      ],
      "execution_count": 27,
      "outputs": [
        {
          "output_type": "execute_result",
          "data": {
            "text/plain": [
              "((10000,), (10000,))"
            ]
          },
          "metadata": {
            "tags": []
          },
          "execution_count": 27
        }
      ]
    },
    {
      "cell_type": "code",
      "metadata": {
        "id": "P4NW5GXwSuX_"
      },
      "source": [
        "x_train = x_train.reshape(-1, 1)"
      ],
      "execution_count": 28,
      "outputs": []
    },
    {
      "cell_type": "code",
      "metadata": {
        "colab": {
          "base_uri": "https://localhost:8080/"
        },
        "id": "RPKb5DVkS3hZ",
        "outputId": "a9836ab8-2b17-4c50-ef22-8b11a15352d7"
      },
      "source": [
        "x_train.shape, y_train.shape"
      ],
      "execution_count": 29,
      "outputs": [
        {
          "output_type": "execute_result",
          "data": {
            "text/plain": [
              "((10000, 1), (10000,))"
            ]
          },
          "metadata": {
            "tags": []
          },
          "execution_count": 29
        }
      ]
    },
    {
      "cell_type": "code",
      "metadata": {
        "id": "Qi3pS0tfQ2Nq"
      },
      "source": [
        "lr = LogisticRegression(C=0.001)"
      ],
      "execution_count": 37,
      "outputs": []
    },
    {
      "cell_type": "code",
      "metadata": {
        "colab": {
          "base_uri": "https://localhost:8080/"
        },
        "id": "yl2psOScRIzL",
        "outputId": "d31336f5-bc59-470d-dead-6c05ab03cd53"
      },
      "source": [
        "lr.fit(x_train, y_train)"
      ],
      "execution_count": 38,
      "outputs": [
        {
          "output_type": "execute_result",
          "data": {
            "text/plain": [
              "LogisticRegression(C=0.001, class_weight=None, dual=False, fit_intercept=True,\n",
              "                   intercept_scaling=1, l1_ratio=None, max_iter=100,\n",
              "                   multi_class='auto', n_jobs=None, penalty='l2',\n",
              "                   random_state=None, solver='lbfgs', tol=0.0001, verbose=0,\n",
              "                   warm_start=False)"
            ]
          },
          "metadata": {
            "tags": []
          },
          "execution_count": 38
        }
      ]
    },
    {
      "cell_type": "code",
      "metadata": {
        "colab": {
          "base_uri": "https://localhost:8080/"
        },
        "id": "EE81fuuGSjeh",
        "outputId": "37de3f70-e87c-4d31-e627-e77ead00c821"
      },
      "source": [
        "x_valid = valid_df['funny'].values.reshape(-1, 1)\n",
        "y_valid = valid_df['stars'].values\n",
        "y_pred = lr.predict(x_valid)\n",
        "print(classification_report(y_valid, y_pred))\n",
        "print(\"\\n\\n\")\n",
        "print(confusion_matrix(y_valid, y_pred))\n",
        "print('accuracy', np.mean(y_valid == y_pred))"
      ],
      "execution_count": 39,
      "outputs": [
        {
          "output_type": "stream",
          "text": [
            "              precision    recall  f1-score   support\n",
            "\n",
            "           1       0.26      1.00      0.41       517\n",
            "           2       0.00      0.00      0.00       278\n",
            "           3       0.00      0.00      0.00       344\n",
            "           4       0.00      0.00      0.00       427\n",
            "           5       0.00      0.00      0.00       434\n",
            "\n",
            "    accuracy                           0.26      2000\n",
            "   macro avg       0.05      0.20      0.08      2000\n",
            "weighted avg       0.07      0.26      0.11      2000\n",
            "\n",
            "\n",
            "\n",
            "\n",
            "[[517   0   0   0   0]\n",
            " [278   0   0   0   0]\n",
            " [344   0   0   0   0]\n",
            " [427   0   0   0   0]\n",
            " [434   0   0   0   0]]\n",
            "accuracy 0.2585\n"
          ],
          "name": "stdout"
        },
        {
          "output_type": "stream",
          "text": [
            "/usr/local/lib/python3.7/dist-packages/sklearn/metrics/_classification.py:1272: UndefinedMetricWarning: Precision and F-score are ill-defined and being set to 0.0 in labels with no predicted samples. Use `zero_division` parameter to control this behavior.\n",
            "  _warn_prf(average, modifier, msg_start, len(result))\n"
          ],
          "name": "stderr"
        }
      ]
    },
    {
      "cell_type": "code",
      "metadata": {
        "id": "aS1eqMH-Tfjk"
      },
      "source": [
        "# Grid-search for c\n",
        "params = dict(C = np.logspace(-3, 1, 4),\n",
        "              penalty = ['l1', 'l2'])\n",
        "\n",
        "gscv = GridSearchCV(LogisticRegression(max_iter=1000,\n",
        "                                       random_state=647),\n",
        "                    params,\n",
        "                    scoring='f1_macro',\n",
        "                    cv=3,\n",
        "                    verbose=1,\n",
        "                    n_jobs=-1)"
      ],
      "execution_count": 34,
      "outputs": []
    },
    {
      "cell_type": "code",
      "metadata": {
        "colab": {
          "base_uri": "https://localhost:8080/"
        },
        "id": "w-nmE-PdT_Lc",
        "outputId": "08f5b6bb-4a91-44cc-b2d9-1978656493e0"
      },
      "source": [
        "gscv.fit(x_train, y_train)"
      ],
      "execution_count": 35,
      "outputs": [
        {
          "output_type": "stream",
          "text": [
            "Fitting 3 folds for each of 8 candidates, totalling 24 fits\n"
          ],
          "name": "stdout"
        },
        {
          "output_type": "stream",
          "text": [
            "[Parallel(n_jobs=-1)]: Using backend LokyBackend with 2 concurrent workers.\n",
            "[Parallel(n_jobs=-1)]: Done  24 out of  24 | elapsed:    1.2s finished\n"
          ],
          "name": "stderr"
        },
        {
          "output_type": "execute_result",
          "data": {
            "text/plain": [
              "GridSearchCV(cv=3, error_score=nan,\n",
              "             estimator=LogisticRegression(C=1.0, class_weight=None, dual=False,\n",
              "                                          fit_intercept=True,\n",
              "                                          intercept_scaling=1, l1_ratio=None,\n",
              "                                          max_iter=1000, multi_class='auto',\n",
              "                                          n_jobs=None, penalty='l2',\n",
              "                                          random_state=647, solver='lbfgs',\n",
              "                                          tol=0.0001, verbose=0,\n",
              "                                          warm_start=False),\n",
              "             iid='deprecated', n_jobs=-1,\n",
              "             param_grid={'C': array([1.00000000e-03, 2.15443469e-02, 4.64158883e-01, 1.00000000e+01]),\n",
              "                         'penalty': ['l1', 'l2']},\n",
              "             pre_dispatch='2*n_jobs', refit=True, return_train_score=False,\n",
              "             scoring='f1_macro', verbose=1)"
            ]
          },
          "metadata": {
            "tags": []
          },
          "execution_count": 35
        }
      ]
    },
    {
      "cell_type": "code",
      "metadata": {
        "colab": {
          "base_uri": "https://localhost:8080/"
        },
        "id": "9engS5NgUFZZ",
        "outputId": "12a139a9-e8d3-4c73-8441-5dd8a2ae2439"
      },
      "source": [
        "print(gscv.best_params_)"
      ],
      "execution_count": 36,
      "outputs": [
        {
          "output_type": "stream",
          "text": [
            "{'C': 0.001, 'penalty': 'l2'}\n"
          ],
          "name": "stdout"
        }
      ]
    },
    {
      "cell_type": "markdown",
      "metadata": {
        "id": "LdeuDq_fUU3e"
      },
      "source": [
        "## Just cool"
      ]
    },
    {
      "cell_type": "code",
      "metadata": {
        "id": "urQx_1CZUao7"
      },
      "source": [
        "x_train = train_df['cool'].values\n",
        "y_train = train_df['stars'].values"
      ],
      "execution_count": 9,
      "outputs": []
    },
    {
      "cell_type": "code",
      "metadata": {
        "colab": {
          "base_uri": "https://localhost:8080/"
        },
        "id": "vhZK3nq_UapF",
        "outputId": "4e101687-84e8-4d9d-9b58-4aee733407dc"
      },
      "source": [
        "x_train.shape, y_train.shape"
      ],
      "execution_count": 10,
      "outputs": [
        {
          "output_type": "execute_result",
          "data": {
            "text/plain": [
              "((10000,), (10000,))"
            ]
          },
          "metadata": {
            "tags": []
          },
          "execution_count": 10
        }
      ]
    },
    {
      "cell_type": "code",
      "metadata": {
        "id": "yIrPdZ6HUapG"
      },
      "source": [
        "x_train = x_train.reshape(-1, 1)"
      ],
      "execution_count": 11,
      "outputs": []
    },
    {
      "cell_type": "code",
      "metadata": {
        "colab": {
          "base_uri": "https://localhost:8080/"
        },
        "id": "XbCRK0SXUapG",
        "outputId": "2ab06488-606d-4463-8959-e22670bc8430"
      },
      "source": [
        "x_train.shape, y_train.shape"
      ],
      "execution_count": 12,
      "outputs": [
        {
          "output_type": "execute_result",
          "data": {
            "text/plain": [
              "((10000, 1), (10000,))"
            ]
          },
          "metadata": {
            "tags": []
          },
          "execution_count": 12
        }
      ]
    },
    {
      "cell_type": "code",
      "metadata": {
        "id": "gSsE5lDpUapG"
      },
      "source": [
        "lr = LogisticRegression(C=0.021544346900318832)"
      ],
      "execution_count": 21,
      "outputs": []
    },
    {
      "cell_type": "code",
      "metadata": {
        "colab": {
          "base_uri": "https://localhost:8080/"
        },
        "id": "At9qzbwyUapH",
        "outputId": "b508dd94-b037-4654-e3ef-79ee0d1c9920"
      },
      "source": [
        "lr.fit(x_train, y_train)"
      ],
      "execution_count": 22,
      "outputs": [
        {
          "output_type": "execute_result",
          "data": {
            "text/plain": [
              "LogisticRegression(C=0.021544346900318832, class_weight=None, dual=False,\n",
              "                   fit_intercept=True, intercept_scaling=1, l1_ratio=None,\n",
              "                   max_iter=100, multi_class='auto', n_jobs=None, penalty='l2',\n",
              "                   random_state=None, solver='lbfgs', tol=0.0001, verbose=0,\n",
              "                   warm_start=False)"
            ]
          },
          "metadata": {
            "tags": []
          },
          "execution_count": 22
        }
      ]
    },
    {
      "cell_type": "code",
      "metadata": {
        "colab": {
          "base_uri": "https://localhost:8080/"
        },
        "id": "59Ur5dhDUapH",
        "outputId": "5016551c-08e9-4947-9957-38eedf87fcf4"
      },
      "source": [
        "x_valid = valid_df['cool'].values.reshape(-1, 1)\n",
        "y_valid = valid_df['stars'].values\n",
        "y_pred = lr.predict(x_valid)\n",
        "print(classification_report(y_valid, y_pred))\n",
        "print(\"\\n\\n\")\n",
        "print(confusion_matrix(y_valid, y_pred))\n",
        "print('accuracy', np.mean(y_valid == y_pred))"
      ],
      "execution_count": 23,
      "outputs": [
        {
          "output_type": "stream",
          "text": [
            "              precision    recall  f1-score   support\n",
            "\n",
            "           1       0.29      0.87      0.44       517\n",
            "           2       0.00      0.00      0.00       278\n",
            "           3       0.00      0.00      0.00       344\n",
            "           4       0.29      0.31      0.30       427\n",
            "           5       0.00      0.00      0.00       434\n",
            "\n",
            "    accuracy                           0.29      2000\n",
            "   macro avg       0.12      0.24      0.15      2000\n",
            "weighted avg       0.14      0.29      0.18      2000\n",
            "\n",
            "\n",
            "\n",
            "\n",
            "[[451   0   0  66   0]\n",
            " [229   0   0  49   0]\n",
            " [247   0   0  97   0]\n",
            " [294   0   0 133   0]\n",
            " [326   0   0 108   0]]\n",
            "accuracy 0.292\n"
          ],
          "name": "stdout"
        },
        {
          "output_type": "stream",
          "text": [
            "/usr/local/lib/python3.7/dist-packages/sklearn/metrics/_classification.py:1272: UndefinedMetricWarning: Precision and F-score are ill-defined and being set to 0.0 in labels with no predicted samples. Use `zero_division` parameter to control this behavior.\n",
            "  _warn_prf(average, modifier, msg_start, len(result))\n"
          ],
          "name": "stderr"
        }
      ]
    },
    {
      "cell_type": "code",
      "metadata": {
        "id": "iBazKNBmUapH"
      },
      "source": [
        "# Grid-search for c\n",
        "params = dict(C = np.logspace(-3, 1, 4),\n",
        "              penalty = ['l1', 'l2'])\n",
        "\n",
        "gscv = GridSearchCV(LogisticRegression(max_iter=1000,\n",
        "                                       random_state=647),\n",
        "                    params,\n",
        "                    scoring='f1_macro',\n",
        "                    cv=3,\n",
        "                    verbose=1,\n",
        "                    n_jobs=-1)"
      ],
      "execution_count": 24,
      "outputs": []
    },
    {
      "cell_type": "code",
      "metadata": {
        "colab": {
          "base_uri": "https://localhost:8080/"
        },
        "id": "gj0Gv00gUapI",
        "outputId": "ca8cf0a2-f0d2-4d5c-db94-bc249e736a72"
      },
      "source": [
        "gscv.fit(x_train, y_train)"
      ],
      "execution_count": 19,
      "outputs": [
        {
          "output_type": "stream",
          "text": [
            "Fitting 3 folds for each of 8 candidates, totalling 24 fits\n"
          ],
          "name": "stdout"
        },
        {
          "output_type": "stream",
          "text": [
            "[Parallel(n_jobs=-1)]: Using backend LokyBackend with 2 concurrent workers.\n",
            "[Parallel(n_jobs=-1)]: Done  24 out of  24 | elapsed:    1.2s finished\n"
          ],
          "name": "stderr"
        },
        {
          "output_type": "execute_result",
          "data": {
            "text/plain": [
              "GridSearchCV(cv=3, error_score=nan,\n",
              "             estimator=LogisticRegression(C=1.0, class_weight=None, dual=False,\n",
              "                                          fit_intercept=True,\n",
              "                                          intercept_scaling=1, l1_ratio=None,\n",
              "                                          max_iter=1000, multi_class='auto',\n",
              "                                          n_jobs=None, penalty='l2',\n",
              "                                          random_state=647, solver='lbfgs',\n",
              "                                          tol=0.0001, verbose=0,\n",
              "                                          warm_start=False),\n",
              "             iid='deprecated', n_jobs=-1,\n",
              "             param_grid={'C': array([1.00000000e-03, 2.15443469e-02, 4.64158883e-01, 1.00000000e+01]),\n",
              "                         'penalty': ['l1', 'l2']},\n",
              "             pre_dispatch='2*n_jobs', refit=True, return_train_score=False,\n",
              "             scoring='f1_macro', verbose=1)"
            ]
          },
          "metadata": {
            "tags": []
          },
          "execution_count": 19
        }
      ]
    },
    {
      "cell_type": "code",
      "metadata": {
        "colab": {
          "base_uri": "https://localhost:8080/"
        },
        "id": "_AGe4z5HUapI",
        "outputId": "6383158f-d172-4114-b669-ad369ef55944"
      },
      "source": [
        "print(gscv.best_params_)"
      ],
      "execution_count": 20,
      "outputs": [
        {
          "output_type": "stream",
          "text": [
            "{'C': 0.021544346900318832, 'penalty': 'l2'}\n"
          ],
          "name": "stdout"
        }
      ]
    },
    {
      "cell_type": "markdown",
      "metadata": {
        "id": "8rWp0ydlVDic"
      },
      "source": [
        "## Just Useful"
      ]
    },
    {
      "cell_type": "code",
      "metadata": {
        "id": "CxoEVYVHWBYt"
      },
      "source": [
        "x_train = train_df['useful'].values\n",
        "y_train = train_df['stars'].values"
      ],
      "execution_count": 9,
      "outputs": []
    },
    {
      "cell_type": "code",
      "metadata": {
        "colab": {
          "base_uri": "https://localhost:8080/"
        },
        "id": "kzTWMBuxWBY3",
        "outputId": "c6574b9b-ca7c-4499-894e-50d623e17973"
      },
      "source": [
        "x_train.shape, y_train.shape"
      ],
      "execution_count": 10,
      "outputs": [
        {
          "output_type": "execute_result",
          "data": {
            "text/plain": [
              "((10000,), (10000,))"
            ]
          },
          "metadata": {
            "tags": []
          },
          "execution_count": 10
        }
      ]
    },
    {
      "cell_type": "code",
      "metadata": {
        "id": "b_PDYa23WBY4"
      },
      "source": [
        "x_train = x_train.reshape(-1, 1)"
      ],
      "execution_count": 11,
      "outputs": []
    },
    {
      "cell_type": "code",
      "metadata": {
        "colab": {
          "base_uri": "https://localhost:8080/"
        },
        "id": "FN4V5v5aWBY5",
        "outputId": "0a24786e-63b8-462c-b83e-e6ad536ea468"
      },
      "source": [
        "x_train.shape, y_train.shape"
      ],
      "execution_count": 12,
      "outputs": [
        {
          "output_type": "execute_result",
          "data": {
            "text/plain": [
              "((10000, 1), (10000,))"
            ]
          },
          "metadata": {
            "tags": []
          },
          "execution_count": 12
        }
      ]
    },
    {
      "cell_type": "code",
      "metadata": {
        "id": "eiMrL8wIWBY5"
      },
      "source": [
        "lr = LogisticRegression(C=0.001)"
      ],
      "execution_count": 19,
      "outputs": []
    },
    {
      "cell_type": "code",
      "metadata": {
        "colab": {
          "base_uri": "https://localhost:8080/"
        },
        "id": "bbQ7cCbnWBY5",
        "outputId": "23d54253-99e6-4a94-fc69-5b4b5d5a7357"
      },
      "source": [
        "lr.fit(x_train, y_train)"
      ],
      "execution_count": 20,
      "outputs": [
        {
          "output_type": "execute_result",
          "data": {
            "text/plain": [
              "LogisticRegression(C=0.001, class_weight=None, dual=False, fit_intercept=True,\n",
              "                   intercept_scaling=1, l1_ratio=None, max_iter=100,\n",
              "                   multi_class='auto', n_jobs=None, penalty='l2',\n",
              "                   random_state=None, solver='lbfgs', tol=0.0001, verbose=0,\n",
              "                   warm_start=False)"
            ]
          },
          "metadata": {
            "tags": []
          },
          "execution_count": 20
        }
      ]
    },
    {
      "cell_type": "code",
      "metadata": {
        "colab": {
          "base_uri": "https://localhost:8080/"
        },
        "id": "Gv6IEjtMWBY6",
        "outputId": "6d2ed157-95b6-462e-c75d-213088e491a8"
      },
      "source": [
        "x_valid = valid_df['useful'].values.reshape(-1, 1)\n",
        "y_valid = valid_df['stars'].values\n",
        "y_pred = lr.predict(x_valid)\n",
        "print(classification_report(y_valid, y_pred))\n",
        "print(\"\\n\\n\")\n",
        "print(confusion_matrix(y_valid, y_pred))\n",
        "print('accuracy', np.mean(y_valid == y_pred))"
      ],
      "execution_count": 21,
      "outputs": [
        {
          "output_type": "stream",
          "text": [
            "              precision    recall  f1-score   support\n",
            "\n",
            "           1       0.26      1.00      0.41       517\n",
            "           2       0.00      0.00      0.00       278\n",
            "           3       0.00      0.00      0.00       344\n",
            "           4       0.00      0.00      0.00       427\n",
            "           5       0.00      0.00      0.00       434\n",
            "\n",
            "    accuracy                           0.26      2000\n",
            "   macro avg       0.05      0.20      0.08      2000\n",
            "weighted avg       0.07      0.26      0.11      2000\n",
            "\n",
            "\n",
            "\n",
            "\n",
            "[[517   0   0   0   0]\n",
            " [278   0   0   0   0]\n",
            " [344   0   0   0   0]\n",
            " [427   0   0   0   0]\n",
            " [434   0   0   0   0]]\n",
            "accuracy 0.2585\n"
          ],
          "name": "stdout"
        },
        {
          "output_type": "stream",
          "text": [
            "/usr/local/lib/python3.7/dist-packages/sklearn/metrics/_classification.py:1272: UndefinedMetricWarning: Precision and F-score are ill-defined and being set to 0.0 in labels with no predicted samples. Use `zero_division` parameter to control this behavior.\n",
            "  _warn_prf(average, modifier, msg_start, len(result))\n"
          ],
          "name": "stderr"
        }
      ]
    },
    {
      "cell_type": "code",
      "metadata": {
        "id": "2z_HjoFlWBY6"
      },
      "source": [
        "# Grid-search for c\n",
        "params = dict(C = np.logspace(-3, 1, 4),\n",
        "              penalty = ['l1', 'l2'])\n",
        "\n",
        "gscv = GridSearchCV(LogisticRegression(max_iter=1000,\n",
        "                                       random_state=647),\n",
        "                    params,\n",
        "                    scoring='f1_macro',\n",
        "                    cv=3,\n",
        "                    verbose=1,\n",
        "                    n_jobs=-1)"
      ],
      "execution_count": 22,
      "outputs": []
    },
    {
      "cell_type": "code",
      "metadata": {
        "colab": {
          "base_uri": "https://localhost:8080/"
        },
        "id": "f3vdnn0nWBY6",
        "outputId": "7e857970-439e-4137-9825-90284dbe3134"
      },
      "source": [
        "gscv.fit(x_train, y_train)"
      ],
      "execution_count": 23,
      "outputs": [
        {
          "output_type": "stream",
          "text": [
            "Fitting 3 folds for each of 8 candidates, totalling 24 fits\n"
          ],
          "name": "stdout"
        },
        {
          "output_type": "stream",
          "text": [
            "[Parallel(n_jobs=-1)]: Using backend LokyBackend with 2 concurrent workers.\n",
            "[Parallel(n_jobs=-1)]: Done  24 out of  24 | elapsed:    0.6s finished\n"
          ],
          "name": "stderr"
        },
        {
          "output_type": "execute_result",
          "data": {
            "text/plain": [
              "GridSearchCV(cv=3, error_score=nan,\n",
              "             estimator=LogisticRegression(C=1.0, class_weight=None, dual=False,\n",
              "                                          fit_intercept=True,\n",
              "                                          intercept_scaling=1, l1_ratio=None,\n",
              "                                          max_iter=1000, multi_class='auto',\n",
              "                                          n_jobs=None, penalty='l2',\n",
              "                                          random_state=647, solver='lbfgs',\n",
              "                                          tol=0.0001, verbose=0,\n",
              "                                          warm_start=False),\n",
              "             iid='deprecated', n_jobs=-1,\n",
              "             param_grid={'C': array([1.00000000e-03, 2.15443469e-02, 4.64158883e-01, 1.00000000e+01]),\n",
              "                         'penalty': ['l1', 'l2']},\n",
              "             pre_dispatch='2*n_jobs', refit=True, return_train_score=False,\n",
              "             scoring='f1_macro', verbose=1)"
            ]
          },
          "metadata": {
            "tags": []
          },
          "execution_count": 23
        }
      ]
    },
    {
      "cell_type": "code",
      "metadata": {
        "colab": {
          "base_uri": "https://localhost:8080/"
        },
        "id": "3TNLz78cWBY7",
        "outputId": "332b132f-a734-45fc-dfc5-3c5f7c378a64"
      },
      "source": [
        "print(gscv.best_params_)"
      ],
      "execution_count": 24,
      "outputs": [
        {
          "output_type": "stream",
          "text": [
            "{'C': 0.001, 'penalty': 'l2'}\n"
          ],
          "name": "stdout"
        }
      ]
    },
    {
      "cell_type": "markdown",
      "metadata": {
        "id": "FDXVoilXZqz2"
      },
      "source": [
        "## All three combined"
      ]
    },
    {
      "cell_type": "code",
      "metadata": {
        "id": "xnaxqV_qZwu8"
      },
      "source": [
        "x_train = np.array([train_df['cool'].values, train_df['funny'].values, train_df['useful'].values])\n",
        "y_train = train_df['stars'].values"
      ],
      "execution_count": 16,
      "outputs": []
    },
    {
      "cell_type": "code",
      "metadata": {
        "colab": {
          "base_uri": "https://localhost:8080/"
        },
        "id": "YUn4M69KZwu9",
        "outputId": "3af3a2a1-83ec-4629-d3ba-4a37e1974f9b"
      },
      "source": [
        "x_train.shape, y_train.shape"
      ],
      "execution_count": 17,
      "outputs": [
        {
          "output_type": "execute_result",
          "data": {
            "text/plain": [
              "((3, 10000), (10000,))"
            ]
          },
          "metadata": {
            "tags": []
          },
          "execution_count": 17
        }
      ]
    },
    {
      "cell_type": "code",
      "metadata": {
        "id": "Z_1lt7DpZwu-"
      },
      "source": [
        "x_train = x_train.reshape(-1, 3)"
      ],
      "execution_count": 18,
      "outputs": []
    },
    {
      "cell_type": "code",
      "metadata": {
        "colab": {
          "base_uri": "https://localhost:8080/"
        },
        "id": "f-LtkaXPZwu_",
        "outputId": "a3ce1b1f-5776-488b-9576-ba8e043f0b12"
      },
      "source": [
        "x_train.shape, y_train.shape"
      ],
      "execution_count": 19,
      "outputs": [
        {
          "output_type": "execute_result",
          "data": {
            "text/plain": [
              "((10000, 3), (10000,))"
            ]
          },
          "metadata": {
            "tags": []
          },
          "execution_count": 19
        }
      ]
    },
    {
      "cell_type": "code",
      "metadata": {
        "id": "VVijm8EhZwu_"
      },
      "source": [
        "lr = LogisticRegression(C=0.46415888336127775)"
      ],
      "execution_count": 29,
      "outputs": []
    },
    {
      "cell_type": "code",
      "metadata": {
        "colab": {
          "base_uri": "https://localhost:8080/"
        },
        "id": "c2hDeVUoZwu_",
        "outputId": "655bf463-0672-44cd-dd6c-7f03359f1b3e"
      },
      "source": [
        "lr.fit(x_train, y_train)"
      ],
      "execution_count": 30,
      "outputs": [
        {
          "output_type": "execute_result",
          "data": {
            "text/plain": [
              "LogisticRegression(C=0.46415888336127775, class_weight=None, dual=False,\n",
              "                   fit_intercept=True, intercept_scaling=1, l1_ratio=None,\n",
              "                   max_iter=100, multi_class='auto', n_jobs=None, penalty='l2',\n",
              "                   random_state=None, solver='lbfgs', tol=0.0001, verbose=0,\n",
              "                   warm_start=False)"
            ]
          },
          "metadata": {
            "tags": []
          },
          "execution_count": 30
        }
      ]
    },
    {
      "cell_type": "code",
      "metadata": {
        "colab": {
          "base_uri": "https://localhost:8080/"
        },
        "id": "1IDMv3gsZwvA",
        "outputId": "1ddc9b1a-5c5d-465c-b52b-b10d82e2839a"
      },
      "source": [
        "x_valid = np.array([valid_df['cool'].values, valid_df['funny'].values, valid_df['useful'].values]).reshape(-1, 3)\n",
        "y_valid = valid_df['stars'].values\n",
        "y_pred = lr.predict(x_valid)\n",
        "print(classification_report(y_valid, y_pred))\n",
        "print(\"\\n\\n\")\n",
        "print(confusion_matrix(y_valid, y_pred))\n",
        "print('accuracy', np.mean(y_valid == y_pred))"
      ],
      "execution_count": 31,
      "outputs": [
        {
          "output_type": "stream",
          "text": [
            "              precision    recall  f1-score   support\n",
            "\n",
            "           1       0.26      1.00      0.41       517\n",
            "           2       0.00      0.00      0.00       278\n",
            "           3       0.25      0.00      0.01       344\n",
            "           4       0.50      0.00      0.00       427\n",
            "           5       0.25      0.00      0.00       434\n",
            "\n",
            "    accuracy                           0.26      2000\n",
            "   macro avg       0.25      0.20      0.09      2000\n",
            "weighted avg       0.27      0.26      0.11      2000\n",
            "\n",
            "\n",
            "\n",
            "\n",
            "[[515   0   1   1   0]\n",
            " [274   0   2   0   2]\n",
            " [342   0   1   0   1]\n",
            " [426   0   0   1   0]\n",
            " [433   0   0   0   1]]\n",
            "accuracy 0.259\n"
          ],
          "name": "stdout"
        },
        {
          "output_type": "stream",
          "text": [
            "/usr/local/lib/python3.7/dist-packages/sklearn/metrics/_classification.py:1272: UndefinedMetricWarning: Precision and F-score are ill-defined and being set to 0.0 in labels with no predicted samples. Use `zero_division` parameter to control this behavior.\n",
            "  _warn_prf(average, modifier, msg_start, len(result))\n"
          ],
          "name": "stderr"
        }
      ]
    },
    {
      "cell_type": "code",
      "metadata": {
        "id": "UZdJRg7DZwvA"
      },
      "source": [
        "# Grid-search for c\n",
        "params = dict(C = np.logspace(-3, 1, 4),\n",
        "              penalty = ['l1', 'l2'])\n",
        "\n",
        "gscv = GridSearchCV(LogisticRegression(max_iter=1000,\n",
        "                                       random_state=647),\n",
        "                    params,\n",
        "                    scoring='f1_macro',\n",
        "                    cv=3,\n",
        "                    verbose=1,\n",
        "                    n_jobs=-1)"
      ],
      "execution_count": 32,
      "outputs": []
    },
    {
      "cell_type": "code",
      "metadata": {
        "colab": {
          "base_uri": "https://localhost:8080/"
        },
        "id": "IJbyMkOSZwvA",
        "outputId": "dc1b7b53-4779-4eaf-c938-f8904c357298"
      },
      "source": [
        "gscv.fit(x_train, y_train)"
      ],
      "execution_count": 33,
      "outputs": [
        {
          "output_type": "stream",
          "text": [
            "Fitting 3 folds for each of 8 candidates, totalling 24 fits\n"
          ],
          "name": "stdout"
        },
        {
          "output_type": "stream",
          "text": [
            "[Parallel(n_jobs=-1)]: Using backend LokyBackend with 2 concurrent workers.\n",
            "[Parallel(n_jobs=-1)]: Done  24 out of  24 | elapsed:    0.7s finished\n"
          ],
          "name": "stderr"
        },
        {
          "output_type": "execute_result",
          "data": {
            "text/plain": [
              "GridSearchCV(cv=3, error_score=nan,\n",
              "             estimator=LogisticRegression(C=1.0, class_weight=None, dual=False,\n",
              "                                          fit_intercept=True,\n",
              "                                          intercept_scaling=1, l1_ratio=None,\n",
              "                                          max_iter=1000, multi_class='auto',\n",
              "                                          n_jobs=None, penalty='l2',\n",
              "                                          random_state=647, solver='lbfgs',\n",
              "                                          tol=0.0001, verbose=0,\n",
              "                                          warm_start=False),\n",
              "             iid='deprecated', n_jobs=-1,\n",
              "             param_grid={'C': array([1.00000000e-03, 2.15443469e-02, 4.64158883e-01, 1.00000000e+01]),\n",
              "                         'penalty': ['l1', 'l2']},\n",
              "             pre_dispatch='2*n_jobs', refit=True, return_train_score=False,\n",
              "             scoring='f1_macro', verbose=1)"
            ]
          },
          "metadata": {
            "tags": []
          },
          "execution_count": 33
        }
      ]
    },
    {
      "cell_type": "code",
      "metadata": {
        "colab": {
          "base_uri": "https://localhost:8080/"
        },
        "id": "K8v7csugZwvB",
        "outputId": "9ed4b138-d013-41e3-d944-5182953cfc65"
      },
      "source": [
        "print(gscv.best_params_)"
      ],
      "execution_count": 34,
      "outputs": [
        {
          "output_type": "stream",
          "text": [
            "{'C': 0.46415888336127775, 'penalty': 'l2'}\n"
          ],
          "name": "stdout"
        }
      ]
    },
    {
      "cell_type": "code",
      "metadata": {
        "id": "gODsrQeGUJSn"
      },
      "source": [
        ""
      ],
      "execution_count": null,
      "outputs": []
    }
  ]
}