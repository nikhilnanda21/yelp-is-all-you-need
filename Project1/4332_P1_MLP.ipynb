{
  "nbformat": 4,
  "nbformat_minor": 0,
  "metadata": {
    "colab": {
      "name": "4332-P1-MLP.ipynb",
      "provenance": [],
      "collapsed_sections": [],
      "toc_visible": true
    },
    "kernelspec": {
      "name": "python3",
      "display_name": "Python 3"
    },
    "language_info": {
      "name": "python"
    },
    "accelerator": "GPU"
  },
  "cells": [
    {
      "cell_type": "markdown",
      "metadata": {
        "id": "HAckpZDZG-BR"
      },
      "source": [
        "# Download Data"
      ]
    },
    {
      "cell_type": "code",
      "metadata": {
        "id": "_gEmiUAEG8zx",
        "colab": {
          "base_uri": "https://localhost:8080/"
        },
        "outputId": "0db4d2b7-cf6e-4238-e3db-a88209ea2d82"
      },
      "source": [
        "# !wget https://hkustconnect-my.sharepoint.com/:u:/g/personal/nnanda_connect_ust_hk/ERROCEL56mNPqSWWzbzLj3cBvQTtCS9yzoiUfVlhIx1CCA?download=1 -O \"data_2021_spring.zip\"\n",
        "!wget https://hkustconnect-my.sharepoint.com/:u:/g/personal/nnanda_connect_ust_hk/EfREjZqiZTlPqhqUPICBbPABdlgPumlaUVxPncm-_9aWIw?download=1 -O \"Project 1 - data.zip\"\n",
        "!unzip \"Project 1 - data.zip\"\n"
      ],
      "execution_count": 1,
      "outputs": [
        {
          "output_type": "stream",
          "text": [
            "--2021-03-27 06:35:03--  https://hkustconnect-my.sharepoint.com/:u:/g/personal/nnanda_connect_ust_hk/EfREjZqiZTlPqhqUPICBbPABdlgPumlaUVxPncm-_9aWIw?download=1\n",
            "Resolving hkustconnect-my.sharepoint.com (hkustconnect-my.sharepoint.com)... 13.107.136.9\n",
            "Connecting to hkustconnect-my.sharepoint.com (hkustconnect-my.sharepoint.com)|13.107.136.9|:443... connected.\n",
            "HTTP request sent, awaiting response... 302 Found\n",
            "Location: /personal/nnanda_connect_ust_hk/Documents/COMP4332%20Project%20Data/Project%201%20-%20data.zip?originalPath=aHR0cHM6Ly9oa3VzdGNvbm5lY3QtbXkuc2hhcmVwb2ludC5jb20vOnU6L2cvcGVyc29uYWwvbm5hbmRhX2Nvbm5lY3RfdXN0X2hrL0VmUkVqWnFpWlRsUHFocVVQSUNCYlBBQmRsZ1B1bWxhVVZ4UG5jbS1fOWFXSXc_cnRpbWU9SXhHM2RPcncyRWc [following]\n",
            "--2021-03-27 06:35:04--  https://hkustconnect-my.sharepoint.com/personal/nnanda_connect_ust_hk/Documents/COMP4332%20Project%20Data/Project%201%20-%20data.zip?originalPath=aHR0cHM6Ly9oa3VzdGNvbm5lY3QtbXkuc2hhcmVwb2ludC5jb20vOnU6L2cvcGVyc29uYWwvbm5hbmRhX2Nvbm5lY3RfdXN0X2hrL0VmUkVqWnFpWlRsUHFocVVQSUNCYlBBQmRsZ1B1bWxhVVZ4UG5jbS1fOWFXSXc_cnRpbWU9SXhHM2RPcncyRWc\n",
            "Reusing existing connection to hkustconnect-my.sharepoint.com:443.\n",
            "HTTP request sent, awaiting response... 200 OK\n",
            "Length: 5509947 (5.3M) [application/x-zip-compressed]\n",
            "Saving to: ‘Project 1 - data.zip’\n",
            "\n",
            "Project 1 - data.zi 100%[===================>]   5.25M  4.06MB/s    in 1.3s    \n",
            "\n",
            "2021-03-27 06:35:06 (4.06 MB/s) - ‘Project 1 - data.zip’ saved [5509947/5509947]\n",
            "\n",
            "Archive:  Project 1 - data.zip\n",
            "   creating: data_2021_spring/\n",
            "  inflating: data_2021_spring/valid.csv  \n",
            "  inflating: data_2021_spring/test.csv  \n",
            "  inflating: data_2021_spring/train.csv  \n",
            "   creating: data_2021_spring/.ipynb_checkpoints/\n",
            "  inflating: data_2021_spring/.ipynb_checkpoints/test-checkpoint.csv  \n"
          ],
          "name": "stdout"
        }
      ]
    },
    {
      "cell_type": "markdown",
      "metadata": {
        "id": "VyCUH6drFgou"
      },
      "source": [
        "# Import Libraries"
      ]
    },
    {
      "cell_type": "code",
      "metadata": {
        "colab": {
          "base_uri": "https://localhost:8080/"
        },
        "id": "L_q2Kr7_Fa-g",
        "outputId": "3df5fd94-3913-4aff-a901-a9f22fd4aeb3"
      },
      "source": [
        "!pip install keras-layer-normalization"
      ],
      "execution_count": 2,
      "outputs": [
        {
          "output_type": "stream",
          "text": [
            "Collecting keras-layer-normalization\n",
            "  Downloading https://files.pythonhosted.org/packages/a4/0e/d1078df0494bac9ce1a67954e5380b6e7569668f0f3b50a9531c62c1fc4a/keras-layer-normalization-0.14.0.tar.gz\n",
            "Requirement already satisfied: numpy in /usr/local/lib/python3.7/dist-packages (from keras-layer-normalization) (1.19.5)\n",
            "Requirement already satisfied: Keras in /usr/local/lib/python3.7/dist-packages (from keras-layer-normalization) (2.4.3)\n",
            "Requirement already satisfied: pyyaml in /usr/local/lib/python3.7/dist-packages (from Keras->keras-layer-normalization) (3.13)\n",
            "Requirement already satisfied: h5py in /usr/local/lib/python3.7/dist-packages (from Keras->keras-layer-normalization) (2.10.0)\n",
            "Requirement already satisfied: scipy>=0.14 in /usr/local/lib/python3.7/dist-packages (from Keras->keras-layer-normalization) (1.4.1)\n",
            "Requirement already satisfied: six in /usr/local/lib/python3.7/dist-packages (from h5py->Keras->keras-layer-normalization) (1.15.0)\n",
            "Building wheels for collected packages: keras-layer-normalization\n",
            "  Building wheel for keras-layer-normalization (setup.py) ... \u001b[?25l\u001b[?25hdone\n",
            "  Created wheel for keras-layer-normalization: filename=keras_layer_normalization-0.14.0-cp37-none-any.whl size=5269 sha256=e65290bffb8464aee68944590af2b00abd0f9e0c0f3a04f8aebdab9adf65640e\n",
            "  Stored in directory: /root/.cache/pip/wheels/54/80/22/a638a7d406fd155e507aa33d703e3fa2612b9eb7bb4f4fe667\n",
            "Successfully built keras-layer-normalization\n",
            "Installing collected packages: keras-layer-normalization\n",
            "Successfully installed keras-layer-normalization-0.14.0\n"
          ],
          "name": "stdout"
        }
      ]
    },
    {
      "cell_type": "code",
      "metadata": {
        "id": "7_uTe2vvFJTL"
      },
      "source": [
        "import os\n",
        "import nltk\n",
        "import math\n",
        "import scipy\n",
        "import pandas as pd\n",
        "import numpy as np\n",
        "import keras\n",
        "import tensorflow as tf\n",
        "import matplotlib.pyplot as plt\n",
        "from collections import Counter\n",
        "from itertools import chain\n",
        "from sklearn.model_selection import StratifiedKFold\n",
        "from sklearn.metrics import accuracy_score, f1_score\n",
        "from sklearn.utils import shuffle\n",
        "from keras.models import Sequential, Model\n",
        "from keras.layers import Dense, Activation, Dropout, BatchNormalization, Activation, Input, Add, Concatenate, Embedding, Conv1D, MaxPool1D, Flatten, LSTM, Bidirectional\n",
        "from keras_layer_normalization import LayerNormalization\n",
        "from keras.utils import Sequence\n",
        "from nltk.corpus import stopwords\n",
        "from nltk.stem import PorterStemmer"
      ],
      "execution_count": 1,
      "outputs": []
    },
    {
      "cell_type": "code",
      "metadata": {
        "colab": {
          "base_uri": "https://localhost:8080/"
        },
        "id": "21Z1gRo3H3Zh",
        "outputId": "3fa43cd5-c8f0-4006-8faa-377d01946d89"
      },
      "source": [
        "nltk.download('stopwords')\n",
        "nltk.download('punkt')"
      ],
      "execution_count": 2,
      "outputs": [
        {
          "output_type": "stream",
          "text": [
            "[nltk_data] Downloading package stopwords to /root/nltk_data...\n",
            "[nltk_data]   Package stopwords is already up-to-date!\n",
            "[nltk_data] Downloading package punkt to /root/nltk_data...\n",
            "[nltk_data]   Package punkt is already up-to-date!\n"
          ],
          "name": "stdout"
        },
        {
          "output_type": "execute_result",
          "data": {
            "text/plain": [
              "True"
            ]
          },
          "metadata": {
            "tags": []
          },
          "execution_count": 2
        }
      ]
    },
    {
      "cell_type": "code",
      "metadata": {
        "id": "noMKFCoiHxq1"
      },
      "source": [
        "stopwords = set(stopwords.words(\"english\"))\n",
        "ps = PorterStemmer()"
      ],
      "execution_count": 3,
      "outputs": []
    },
    {
      "cell_type": "markdown",
      "metadata": {
        "id": "b-Y4M188FjI3"
      },
      "source": [
        "# Data Loader"
      ]
    },
    {
      "cell_type": "code",
      "metadata": {
        "id": "0LdLcI3EFWIK"
      },
      "source": [
        "def load_data(split_name='train', columns=['text', 'stars']):\n",
        "    try:\n",
        "        print(f\"select [{', '.join(columns)}] columns from the {split_name} split\")\n",
        "        df = pd.read_csv(f'data_2021_spring/{split_name}.csv')\n",
        "        df = df.loc[:,columns]\n",
        "        print(\"succeed!\")\n",
        "        return df\n",
        "    except:\n",
        "        print(\"Failed, then try to \")\n",
        "        print(f\"select all columns from the {split_name} split\")\n",
        "        df = pd.read_csv(f'data_2021_spring/{split_name}.csv')\n",
        "        return df"
      ],
      "execution_count": 4,
      "outputs": []
    },
    {
      "cell_type": "code",
      "metadata": {
        "colab": {
          "base_uri": "https://localhost:8080/"
        },
        "id": "YQj5souEFnD2",
        "outputId": "7a27602d-887e-42f8-e17a-4aae1d77a9e5"
      },
      "source": [
        "train_df = load_data('train', columns=['full'])\n",
        "valid_df = load_data('valid', columns=['full'])\n",
        "test_df = load_data('test', columns=['full'])"
      ],
      "execution_count": 5,
      "outputs": [
        {
          "output_type": "stream",
          "text": [
            "select [full] columns from the train split\n",
            "Failed, then try to \n",
            "select all columns from the train split\n",
            "select [full] columns from the valid split\n",
            "Failed, then try to \n",
            "select all columns from the valid split\n",
            "select [full] columns from the test split\n",
            "Failed, then try to \n",
            "select all columns from the test split\n"
          ],
          "name": "stdout"
        }
      ]
    },
    {
      "cell_type": "code",
      "metadata": {
        "colab": {
          "base_uri": "https://localhost:8080/",
          "height": 289
        },
        "id": "39saDHXBiHAR",
        "outputId": "d4652c06-b517-4b12-ea94-23d646c8e299"
      },
      "source": [
        "train_df.head()"
      ],
      "execution_count": 6,
      "outputs": [
        {
          "output_type": "execute_result",
          "data": {
            "text/html": [
              "<div>\n",
              "<style scoped>\n",
              "    .dataframe tbody tr th:only-of-type {\n",
              "        vertical-align: middle;\n",
              "    }\n",
              "\n",
              "    .dataframe tbody tr th {\n",
              "        vertical-align: top;\n",
              "    }\n",
              "\n",
              "    .dataframe thead th {\n",
              "        text-align: right;\n",
              "    }\n",
              "</style>\n",
              "<table border=\"1\" class=\"dataframe\">\n",
              "  <thead>\n",
              "    <tr style=\"text-align: right;\">\n",
              "      <th></th>\n",
              "      <th>business_id</th>\n",
              "      <th>cool</th>\n",
              "      <th>date</th>\n",
              "      <th>funny</th>\n",
              "      <th>review_id</th>\n",
              "      <th>stars</th>\n",
              "      <th>text</th>\n",
              "      <th>useful</th>\n",
              "      <th>user_id</th>\n",
              "    </tr>\n",
              "  </thead>\n",
              "  <tbody>\n",
              "    <tr>\n",
              "      <th>0</th>\n",
              "      <td>39rLHYJOy2774ZIUouuWLw</td>\n",
              "      <td>0</td>\n",
              "      <td>2017-06-28 21:44:02</td>\n",
              "      <td>0</td>\n",
              "      <td>ynzOFepQYSCDGdfWDWxiZw</td>\n",
              "      <td>4</td>\n",
              "      <td>Nice to have a diner still around. Food was go...</td>\n",
              "      <td>0</td>\n",
              "      <td>Sl6VgFOB-XXfFIAYp7TFkw</td>\n",
              "    </tr>\n",
              "    <tr>\n",
              "      <th>1</th>\n",
              "      <td>E-Kq1Yu1d6N3TL2qX0aqjA</td>\n",
              "      <td>0</td>\n",
              "      <td>2018-04-09 03:45:19</td>\n",
              "      <td>0</td>\n",
              "      <td>sQX9ncJBEdBf16AWsvO6Vg</td>\n",
              "      <td>2</td>\n",
              "      <td>Tried this a while back, got the fried chicken...</td>\n",
              "      <td>0</td>\n",
              "      <td>gcx01pMqWzkni2UC-zoZrA</td>\n",
              "    </tr>\n",
              "    <tr>\n",
              "      <th>2</th>\n",
              "      <td>nWW6fBfBljiRFa4sG7TyxA</td>\n",
              "      <td>0</td>\n",
              "      <td>2014-07-19 02:00:04</td>\n",
              "      <td>0</td>\n",
              "      <td>bVIf2kqbzvif3miNe3ARNw</td>\n",
              "      <td>4</td>\n",
              "      <td>I expected more pork selections on menu. Food ...</td>\n",
              "      <td>0</td>\n",
              "      <td>Mn9VzPbrCYU4EcP_C1oBOg</td>\n",
              "    </tr>\n",
              "    <tr>\n",
              "      <th>3</th>\n",
              "      <td>qmIHO-6T_KEfPC9jyGDamQ</td>\n",
              "      <td>0</td>\n",
              "      <td>2011-11-11 08:10:24</td>\n",
              "      <td>0</td>\n",
              "      <td>LNj1OFxy2ool3PZANGchPA</td>\n",
              "      <td>4</td>\n",
              "      <td>YUMMY!!! This place is phenomenal. It is Price...</td>\n",
              "      <td>0</td>\n",
              "      <td>SKV1heo00fdciCbCN9Z33A</td>\n",
              "    </tr>\n",
              "    <tr>\n",
              "      <th>4</th>\n",
              "      <td>pKk7jCFIm96qDdk0laVT2w</td>\n",
              "      <td>1</td>\n",
              "      <td>2010-01-16 20:04:00</td>\n",
              "      <td>1</td>\n",
              "      <td>bZXxa0hO6wQlHD-MkMf4iw</td>\n",
              "      <td>5</td>\n",
              "      <td>The Truffle Macaroni &amp; Cheese and Potatoes Au ...</td>\n",
              "      <td>1</td>\n",
              "      <td>p1r7rZYruZR92x1A649PTQ</td>\n",
              "    </tr>\n",
              "  </tbody>\n",
              "</table>\n",
              "</div>"
            ],
            "text/plain": [
              "              business_id  cool  ... useful                 user_id\n",
              "0  39rLHYJOy2774ZIUouuWLw     0  ...      0  Sl6VgFOB-XXfFIAYp7TFkw\n",
              "1  E-Kq1Yu1d6N3TL2qX0aqjA     0  ...      0  gcx01pMqWzkni2UC-zoZrA\n",
              "2  nWW6fBfBljiRFa4sG7TyxA     0  ...      0  Mn9VzPbrCYU4EcP_C1oBOg\n",
              "3  qmIHO-6T_KEfPC9jyGDamQ     0  ...      0  SKV1heo00fdciCbCN9Z33A\n",
              "4  pKk7jCFIm96qDdk0laVT2w     1  ...      1  p1r7rZYruZR92x1A649PTQ\n",
              "\n",
              "[5 rows x 9 columns]"
            ]
          },
          "metadata": {
            "tags": []
          },
          "execution_count": 6
        }
      ]
    },
    {
      "cell_type": "code",
      "metadata": {
        "colab": {
          "base_uri": "https://localhost:8080/",
          "height": 297
        },
        "id": "Vf8fPyxJifgO",
        "outputId": "c2215601-8b11-4002-a0c0-fafe9b022804"
      },
      "source": [
        "valid_df.describe()"
      ],
      "execution_count": 7,
      "outputs": [
        {
          "output_type": "execute_result",
          "data": {
            "text/html": [
              "<div>\n",
              "<style scoped>\n",
              "    .dataframe tbody tr th:only-of-type {\n",
              "        vertical-align: middle;\n",
              "    }\n",
              "\n",
              "    .dataframe tbody tr th {\n",
              "        vertical-align: top;\n",
              "    }\n",
              "\n",
              "    .dataframe thead th {\n",
              "        text-align: right;\n",
              "    }\n",
              "</style>\n",
              "<table border=\"1\" class=\"dataframe\">\n",
              "  <thead>\n",
              "    <tr style=\"text-align: right;\">\n",
              "      <th></th>\n",
              "      <th>cool</th>\n",
              "      <th>funny</th>\n",
              "      <th>stars</th>\n",
              "      <th>useful</th>\n",
              "    </tr>\n",
              "  </thead>\n",
              "  <tbody>\n",
              "    <tr>\n",
              "      <th>count</th>\n",
              "      <td>2000.000000</td>\n",
              "      <td>2000.000000</td>\n",
              "      <td>2000.000000</td>\n",
              "      <td>2000.000000</td>\n",
              "    </tr>\n",
              "    <tr>\n",
              "      <th>mean</th>\n",
              "      <td>0.491000</td>\n",
              "      <td>0.544500</td>\n",
              "      <td>2.991500</td>\n",
              "      <td>1.404500</td>\n",
              "    </tr>\n",
              "    <tr>\n",
              "      <th>std</th>\n",
              "      <td>2.214581</td>\n",
              "      <td>2.484775</td>\n",
              "      <td>1.501851</td>\n",
              "      <td>3.356861</td>\n",
              "    </tr>\n",
              "    <tr>\n",
              "      <th>min</th>\n",
              "      <td>0.000000</td>\n",
              "      <td>0.000000</td>\n",
              "      <td>1.000000</td>\n",
              "      <td>0.000000</td>\n",
              "    </tr>\n",
              "    <tr>\n",
              "      <th>25%</th>\n",
              "      <td>0.000000</td>\n",
              "      <td>0.000000</td>\n",
              "      <td>1.000000</td>\n",
              "      <td>0.000000</td>\n",
              "    </tr>\n",
              "    <tr>\n",
              "      <th>50%</th>\n",
              "      <td>0.000000</td>\n",
              "      <td>0.000000</td>\n",
              "      <td>3.000000</td>\n",
              "      <td>0.000000</td>\n",
              "    </tr>\n",
              "    <tr>\n",
              "      <th>75%</th>\n",
              "      <td>0.000000</td>\n",
              "      <td>0.000000</td>\n",
              "      <td>4.000000</td>\n",
              "      <td>2.000000</td>\n",
              "    </tr>\n",
              "    <tr>\n",
              "      <th>max</th>\n",
              "      <td>79.000000</td>\n",
              "      <td>69.000000</td>\n",
              "      <td>5.000000</td>\n",
              "      <td>89.000000</td>\n",
              "    </tr>\n",
              "  </tbody>\n",
              "</table>\n",
              "</div>"
            ],
            "text/plain": [
              "              cool        funny        stars       useful\n",
              "count  2000.000000  2000.000000  2000.000000  2000.000000\n",
              "mean      0.491000     0.544500     2.991500     1.404500\n",
              "std       2.214581     2.484775     1.501851     3.356861\n",
              "min       0.000000     0.000000     1.000000     0.000000\n",
              "25%       0.000000     0.000000     1.000000     0.000000\n",
              "50%       0.000000     0.000000     3.000000     0.000000\n",
              "75%       0.000000     0.000000     4.000000     2.000000\n",
              "max      79.000000    69.000000     5.000000    89.000000"
            ]
          },
          "metadata": {
            "tags": []
          },
          "execution_count": 7
        }
      ]
    },
    {
      "cell_type": "markdown",
      "metadata": {
        "id": "DaNZWvW1GYfF"
      },
      "source": [
        "# Feature Extractor"
      ]
    },
    {
      "cell_type": "code",
      "metadata": {
        "id": "SeLBCZSqF6W8"
      },
      "source": [
        "def tokenize(text):\n",
        "    \"\"\"\n",
        "    :param text: a doc with multiple sentences, type: str\n",
        "    return a word list, type: list\n",
        "    e.g.\n",
        "    Input: 'Text mining is to identify useful information.'\n",
        "    Output: ['Text', 'mining', 'is', 'to', 'identify', 'useful', 'information', '.']\n",
        "    \"\"\"\n",
        "    return nltk.word_tokenize(text)\n",
        "\n",
        "def stem(tokens):\n",
        "    \"\"\"\n",
        "    :param tokens: a list of tokens, type: list\n",
        "    return a list of stemmed words, type: list\n",
        "    e.g.\n",
        "    Input: ['Text', 'mining', 'is', 'to', 'identify', 'useful', 'information', '.']\n",
        "    Output: ['text', 'mine', 'is', 'to', 'identifi', 'use', 'inform', '.']\n",
        "    \"\"\"\n",
        "    ### equivalent code\n",
        "    # results = list()\n",
        "    # for token in tokens:\n",
        "    #     results.append(ps.stem(token))\n",
        "    # return results\n",
        "\n",
        "    return [ps.stem(token) for token in tokens]\n",
        "\n",
        "def n_gram(tokens, n=1):\n",
        "    \"\"\"\n",
        "    :param tokens: a list of tokens, type: list\n",
        "    :param n: the corresponding n-gram, type: int\n",
        "    return a list of n-gram tokens, type: list\n",
        "    e.g.\n",
        "    Input: ['text', 'mine', 'is', 'to', 'identifi', 'use', 'inform', '.'], 2\n",
        "    Output: ['text mine', 'mine is', 'is to', 'to identifi', 'identifi use', 'use inform', 'inform .']\n",
        "    \"\"\"\n",
        "    if n == 1:\n",
        "        return tokens\n",
        "    else:\n",
        "        results = list()\n",
        "        for i in range(len(tokens)-n+1):\n",
        "            # tokens[i:i+n] will return a sublist from i th to i+n th (i+n th is not included)\n",
        "            results.append(\" \".join(tokens[i:i+n]))\n",
        "        return results\n",
        "    \n",
        "def filter_stopwords(tokens):\n",
        "    \"\"\"\n",
        "    :param tokens: a list of tokens, type: list\n",
        "    return a list of filtered tokens, type: list\n",
        "    e.g.\n",
        "    Input: ['text', 'mine', 'is', 'to', 'identifi', 'use', 'inform', '.']\n",
        "    Output: ['text', 'mine', 'identifi', 'use', 'inform', '.']\n",
        "    \"\"\"\n",
        "    ### equivalent code\n",
        "    # results = list()\n",
        "    # for token in tokens:\n",
        "    #     if token not in stopwords and not token.isnumeric():\n",
        "    #         results.append(token)\n",
        "    # return results\n",
        "\n",
        "    return [token for token in tokens if token not in stopwords and not token.isnumeric()]"
      ],
      "execution_count": 8,
      "outputs": []
    },
    {
      "cell_type": "code",
      "metadata": {
        "id": "QG33Ovp1GgCV"
      },
      "source": [
        "def get_feats_dict(feats, min_freq=-1, max_freq=-1, max_size=-1):\n",
        "    \"\"\"\n",
        "    :param data: a list of features, type: list(list)\n",
        "    :param min_freq: the lowest fequency that the fequency of a feature smaller than it will be filtered out, type: int\n",
        "    :param max_freq: the highest fequency that the fequency of a feature larger than it will be filtered out, type: int\n",
        "    :param max_size: the max size of feature dict, type: int\n",
        "    return a feature dict that maps features to indices, sorted by frequencies\n",
        "    # Counter document: https://docs.python.org/3.6/library/collections.html#collections.Counter\n",
        "    \"\"\"\n",
        "    # count all features\n",
        "    feat_cnt = Counter(feats) # [\"text\", \"text\", \"mine\"] --> {\"text\": 2, \"mine\": 1}\n",
        "    if max_size > 0 and min_freq == -1 and max_freq == -1:\n",
        "        valid_feats = [f for f, cnt in feat_cnt.most_common(max_size)]\n",
        "    else:\n",
        "        valid_feats = list()\n",
        "        for f, cnt in feat_cnt.most_common():\n",
        "            if (min_freq == -1 or cnt >= min_freq) and \\\n",
        "                (max_freq == -1 or cnt <= max_freq):\n",
        "                valid_feats.append(f)\n",
        "    if max_size > 0 and len(valid_feats) > max_size:\n",
        "        valid_feats = valid_feats[:max_size]        \n",
        "    print(\"Size of features:\", len(valid_feats))\n",
        "    \n",
        "    # build a mapping from features to indices\n",
        "    feats_dict = dict(zip(valid_feats, range(len(valid_feats))))\n",
        "    return feats_dict\n",
        "\n",
        "def get_onehot_vector(feats, feats_dict):\n",
        "    \"\"\"\n",
        "    :param feats: a list of features, type: list\n",
        "    :param feats_dict: a dict from features to indices, type: dict\n",
        "    return a feature vector,\n",
        "    \"\"\"\n",
        "    # initialize the vector as all zeros\n",
        "    vector = np.zeros(len(feats_dict), dtype=np.float)\n",
        "    for f in feats:\n",
        "        # get the feature index, return -1 if the feature is not existed\n",
        "        f_idx = feats_dict.get(f, -1)\n",
        "        if f_idx != -1:\n",
        "            # set the corresponding element as 1\n",
        "            vector[f_idx] = 1\n",
        "    return vector"
      ],
      "execution_count": 9,
      "outputs": []
    },
    {
      "cell_type": "markdown",
      "metadata": {
        "id": "6RPWF1NHFK0Z"
      },
      "source": [
        "Bigram/Trigram better than Unigram in terms of Valid Accuracy"
      ]
    },
    {
      "cell_type": "code",
      "metadata": {
        "colab": {
          "base_uri": "https://localhost:8080/"
        },
        "id": "JU3x4eZ3h4wt",
        "outputId": "7c5fa37d-cbe0-4277-d390-f79cd296a119"
      },
      "source": [
        "# load data\n",
        "train_texts, train_labels = train_df[\"text\"], train_df[\"stars\"]\n",
        "valid_texts, valid_labels = valid_df[\"text\"], valid_df[\"stars\"]\n",
        "\n",
        "# extract features\n",
        "train_tokens = [tokenize(text) for text in train_texts]\n",
        "valid_tokens = [tokenize(text) for text in valid_texts]\n",
        "\n",
        "train_stemmed = [stem(tokens) for tokens in train_tokens]\n",
        "valid_stemmed = [stem(tokens) for tokens in valid_tokens]\n",
        "\n",
        "train_stemmed = [filter_stopwords(tokens) for tokens in train_stemmed]\n",
        "valid_stemmed = [filter_stopwords(tokens) for tokens in valid_stemmed]\n",
        "\n",
        "train_2_gram = [n_gram(tokens, 2) for tokens in train_stemmed]\n",
        "train_3_gram = [n_gram(tokens, 3) for tokens in train_stemmed]\n",
        "valid_2_gram = [n_gram(tokens, 2) for tokens in valid_stemmed]\n",
        "valid_3_gram = [n_gram(tokens, 3) for tokens in valid_stemmed]\n",
        "\n",
        "# build the feature list\n",
        "train_feats = list()\n",
        "for i in range(len(train_labels)):\n",
        "    # train_feats.append(train_stemmed[i] + train_2_gram[i] + train_3_gram[i])\n",
        "    # train_feats.append(train_stemmed[i])\n",
        "    train_feats.append(train_stemmed[i] + train_2_gram[i])\n",
        "valid_feats = list()\n",
        "for i in range(len(valid_labels)):\n",
        "    # valid_feats.append(valid_stemmed[i] + valid_2_gram[i] + valid_3_gram[i])\n",
        "    # valid_feats.append(valid_stemmed[i])\n",
        "    valid_feats.append(valid_stemmed[i] + valid_2_gram[i])\n",
        "\n",
        "# build a mapping from features to indices\n",
        "feats_dict = get_feats_dict(\n",
        "    chain.from_iterable(train_feats),\n",
        "    min_freq=5)\n",
        "\n",
        "# build the feats_matrix\n",
        "# convert each example to a ont-hot vector, and then stack vectors as a matrix\n",
        "train_feats_matrix = np.vstack(\n",
        "    [get_onehot_vector(f, feats_dict) for f in train_feats])\n",
        "valid_feats_matrix = np.vstack(\n",
        "    [get_onehot_vector(f, feats_dict) for f in valid_feats])\n",
        "\n",
        "# convert labels to label_matrix\n",
        "num_classes = max(train_labels)\n",
        "# convert each label to a ont-hot vector, and then stack vectors as a matrix\n",
        "train_label_matrix = keras.utils.to_categorical(train_labels-1, num_classes=num_classes)\n",
        "valid_label_matrix = keras.utils.to_categorical(valid_labels-1, num_classes=num_classes)"
      ],
      "execution_count": 10,
      "outputs": [
        {
          "output_type": "stream",
          "text": [
            "Size of features: 29979\n"
          ],
          "name": "stdout"
        }
      ]
    },
    {
      "cell_type": "code",
      "metadata": {
        "id": "xA-Bf_wTakpv"
      },
      "source": [
        "del train_tokens, train_stemmed, train_2_gram, train_3_gram\n",
        "del valid_tokens, valid_stemmed, valid_2_gram, valid_3_gram"
      ],
      "execution_count": 11,
      "outputs": []
    },
    {
      "cell_type": "code",
      "metadata": {
        "colab": {
          "base_uri": "https://localhost:8080/"
        },
        "id": "vnLQcWyja3tu",
        "outputId": "4ad6b25f-efbb-4c97-f3fd-2c80b2215f97"
      },
      "source": [
        "print(train_feats_matrix.shape, valid_feats_matrix.shape)\n",
        "print(train_label_matrix.shape, valid_label_matrix.shape)"
      ],
      "execution_count": 12,
      "outputs": [
        {
          "output_type": "stream",
          "text": [
            "(10000, 29979) (2000, 29979)\n",
            "(10000, 5) (2000, 5)\n"
          ],
          "name": "stdout"
        }
      ]
    },
    {
      "cell_type": "code",
      "metadata": {
        "id": "5z-5aAuZbFzn"
      },
      "source": [
        "train_feats_sparse = scipy.sparse.csr_matrix(train_feats_matrix)\n",
        "valid_feats_sparse = scipy.sparse.csr_matrix(valid_feats_matrix)"
      ],
      "execution_count": 13,
      "outputs": []
    },
    {
      "cell_type": "code",
      "metadata": {
        "colab": {
          "base_uri": "https://localhost:8080/"
        },
        "id": "QRWpkhmRbt1K",
        "outputId": "16c2da72-396d-40f7-8c14-372ba3af7062"
      },
      "source": [
        "train_feats_sparse.shape, valid_feats_sparse.shape"
      ],
      "execution_count": 14,
      "outputs": [
        {
          "output_type": "execute_result",
          "data": {
            "text/plain": [
              "((10000, 29979), (2000, 29979))"
            ]
          },
          "metadata": {
            "tags": []
          },
          "execution_count": 14
        }
      ]
    },
    {
      "cell_type": "code",
      "metadata": {
        "colab": {
          "base_uri": "https://localhost:8080/"
        },
        "id": "4YXT4IbeqhKc",
        "outputId": "4c4d0725-7a77-49d3-e313-eb5bb445138a"
      },
      "source": [
        "train_feats_sparse.shape[0]"
      ],
      "execution_count": 15,
      "outputs": [
        {
          "output_type": "execute_result",
          "data": {
            "text/plain": [
              "10000"
            ]
          },
          "metadata": {
            "tags": []
          },
          "execution_count": 15
        }
      ]
    },
    {
      "cell_type": "markdown",
      "metadata": {
        "id": "NWvUBUT-7H9X"
      },
      "source": [
        "SLP"
      ]
    },
    {
      "cell_type": "code",
      "metadata": {
        "id": "MtXO7_ZvkOkt"
      },
      "source": [
        "def build_classifier(input_size, output_size,\n",
        "                     l2_reg=0.0,\n",
        "                     loss=\"categorical_crossentropy\",\n",
        "                     optimizer=\"SGD\",\n",
        "                     learning_rate=0.1,\n",
        "                     metric=\"accuracy\"):\n",
        "    \"\"\"\n",
        "    :param input_size: the dimension of the input, type: int\n",
        "    :param output_size: the dimension of the prediction, type: int\n",
        "    :param l2_reg: the weight for the L2 regularizer, type: str\n",
        "    :param loss: the training loss, type: str\n",
        "    :param optimizer: the optimizer, type: str\n",
        "    :param learning_rate: the learning rate for the optimizer, type: float\n",
        "    :param metric: the metric, type: str\n",
        "    return a 1-layer perceptron,\n",
        "    # losses document: https://keras.io/losses/\n",
        "    # optimizers document: https://keras.io/optimizers/\n",
        "    # metrics document: https://keras.io/metrics/\n",
        "    \"\"\"\n",
        "    model = Sequential()\n",
        "    \n",
        "    # the projection layer\n",
        "    model.add(Dense(output_size,\n",
        "                    activation=\"softmax\",\n",
        "                    input_dim=input_size,\n",
        "                    kernel_initializer=keras.initializers.he_normal(seed=0),\n",
        "                    bias_initializer=\"zeros\",\n",
        "                    kernel_regularizer=keras.regularizers.l2(l2_reg)))\n",
        "    \n",
        "    # set the loss, the optimizer, and the metric\n",
        "    if optimizer == \"SGD\":\n",
        "        optimizer = keras.optimizers.SGD(lr=learning_rate)\n",
        "    elif optimizer == \"RMSprop\":\n",
        "        optmizer = keras.optimizers.RMSprop(learning_rate=learning_rate)\n",
        "    elif optimizer == \"Adam\":\n",
        "        optmizer = keras.optimizers.Adam(learning_rate=learning_rate)\n",
        "    else:\n",
        "        raise NotImplementedError\n",
        "    model.compile(loss=loss, optimizer=optimizer, metrics=[metric])\n",
        "    \n",
        "    return model"
      ],
      "execution_count": 17,
      "outputs": []
    },
    {
      "cell_type": "code",
      "metadata": {
        "colab": {
          "base_uri": "https://localhost:8080/"
        },
        "id": "oMCX0djIkz_b",
        "outputId": "920471c9-5f7f-437b-a882-7f865bfd3453"
      },
      "source": [
        "os.makedirs(\"models\", exist_ok=True)\n",
        "model = build_classifier(input_size=len(feats_dict), output_size=num_classes,\n",
        "                         l2_reg=0.005)\n",
        "checkpointer = keras.callbacks.ModelCheckpoint(\n",
        "    filepath=os.path.join(\"models\", \"weights.hdf5\"),\n",
        "    monitor=\"val_accuracy\",\n",
        "    verbose=0,\n",
        "    save_best_only=True)\n",
        "\n",
        "reduce_lr = keras.callbacks.ReduceLROnPlateau(monitor='val_accuracy', factor=0.1, patience=3, verbose=0)\n",
        "\n",
        "earlystopping = keras.callbacks.EarlyStopping(\n",
        "    monitor='val_accuracy',\n",
        "    patience=5,\n",
        "    verbose=0)\n",
        "\n",
        "np.random.seed(0)\n",
        "tf.random.set_seed(0)\n",
        "slp_history = model.fit(train_feats_matrix, train_label_matrix,\n",
        "                    validation_split=0.1,\n",
        "                    epochs=100, batch_size=100, verbose=0,\n",
        "                    callbacks=[checkpointer, earlystopping, reduce_lr])\n",
        "model = keras.models.load_model(os.path.join(\"models\", \"weights.hdf5\"))\n",
        "\n",
        "train_score = model.evaluate(train_feats_sparse, train_label_matrix,\n",
        "                             batch_size=100)\n",
        "valid_score = model.evaluate(valid_feats_sparse, valid_label_matrix,\n",
        "                            batch_size=100)\n",
        "print(\"training loss:\", train_score[0], \"training accuracy\", train_score[1])\n",
        "print(\"valid loss:\", valid_score[0], \"valid accuracy\", valid_score[1])"
      ],
      "execution_count": 31,
      "outputs": [
        {
          "output_type": "stream",
          "text": [
            "100/100 [==============================] - 0s 2ms/step - loss: 1.0105 - accuracy: 0.7402\n",
            "20/20 [==============================] - 0s 2ms/step - loss: 1.2054 - accuracy: 0.5860\n",
            "training loss: 1.0104707479476929 training accuracy 0.7401999831199646\n",
            "valid loss: 1.2053523063659668 valid accuracy 0.5860000252723694\n"
          ],
          "name": "stdout"
        }
      ]
    },
    {
      "cell_type": "code",
      "metadata": {
        "id": "UqzjIascj8bw"
      },
      "source": [
        "def build_MLP(input_size, output_size, num_layers, hidden_size,\n",
        "              activation=\"relu\",\n",
        "              dropout_rate=0.0,\n",
        "              batch_norm=False,\n",
        "              layer_norm=False,\n",
        "              l2_reg=0.0,\n",
        "              loss=\"categorical_crossentropy\",\n",
        "              optimizer=\"SGD\",\n",
        "              learning_rate=0.1,\n",
        "              metric=\"accuracy\"):\n",
        "    \"\"\"\n",
        "    :param input_size: the dimension of the input, type: int\n",
        "    :param output_size: the dimension of the prediction, type: int\n",
        "    :param num_layers: the number of layers, type: int\n",
        "    :param hidden_size: the dimension of the hidden states, type: int\n",
        "    :param activation: the activation type, type: str\n",
        "    :param dropout_rate: the probability of dropout, type: float\n",
        "    :param batch_norm: whether to enable batch normalization, type: bool\n",
        "    :param layer_norm: whether to enable layer normalization, type: bool\n",
        "    :param l2_reg: the weight for the L2 regularizer, type: str\n",
        "    :param loss: the training loss, type: str\n",
        "    :param optimizer: the optimizer, type: str\n",
        "    :param learning_rate: the learning rate for the optimizer, type: float\n",
        "    :param metric: the metric, type: str\n",
        "    return a multi-layer perceptron,\n",
        "    # activation\n",
        "    # dropout document: https://keras.io/layers/core/#dropout\n",
        "    # batch normalization document: https://keras.io/layers/normalization/\n",
        "    # layer normalization: https://github.com/CyberZHG/keras-layer-normalization\n",
        "    # losses document: https://keras.io/losses/\n",
        "    # optimizers document: https://keras.io/optimizers/\n",
        "    # metrics document: https://keras.io/metrics/\n",
        "    \"\"\"\n",
        "    model = Sequential()\n",
        "    \n",
        "    if num_layers == 1:\n",
        "        model.add(Dense(output_size,\n",
        "                        activation=\"softmax\",\n",
        "                        input_dim=input_size,\n",
        "                        kernel_initializer=keras.initializers.he_normal(seed=0),   #normal distribution initializer\n",
        "                        bias_initializer=\"zeros\",\n",
        "                        kernel_regularizer=keras.regularizers.l2(l2_reg)))\n",
        "    else:\n",
        "        for i in range(num_layers-1):\n",
        "            if i == 0:\n",
        "                # fitst layer: input -> hidden\n",
        "                model.add(Dense(hidden_size,\n",
        "                                input_dim=input_size,\n",
        "                                kernel_initializer=keras.initializers.he_normal(seed=0),\n",
        "                                bias_initializer=\"zeros\",\n",
        "                                kernel_regularizer=keras.regularizers.l2(l2_reg)))\n",
        "            else:\n",
        "                # hidden layers: hidden -> hidden\n",
        "                model.add(Dense(hidden_size,\n",
        "                                input_dim=hidden_size,\n",
        "                                kernel_initializer=keras.initializers.he_normal(seed=0),\n",
        "                                bias_initializer=\"zeros\",\n",
        "                                kernel_regularizer=keras.regularizers.l2(l2_reg)))\n",
        "            # add layer_norm\n",
        "            if layer_norm:\n",
        "                model.add(LayerNormalization())\n",
        "            # add batch_norm\n",
        "            if batch_norm:\n",
        "                model.add(BatchNormalization())\n",
        "            # add activation\n",
        "            model.add(Activation(activation))\n",
        "            # add dropout here (set seed as 0 in order to reproduce)\n",
        "            if dropout_rate > 0.0:\n",
        "                model.add(Dropout(dropout_rate, seed=0))\n",
        "        # last layer: hidden -> class\n",
        "        model.add(Dense(output_size,\n",
        "                        activation=\"softmax\",\n",
        "                        input_dim=hidden_size,\n",
        "                        kernel_initializer=keras.initializers.he_normal(seed=0),\n",
        "                        bias_initializer=\"zeros\"))\n",
        "    \n",
        "    # set the loss, the optimizer, and the metric\n",
        "    if optimizer == \"SGD\":\n",
        "        optimizer = keras.optimizers.SGD(lr=learning_rate)\n",
        "    elif optimizer == \"RMSprop\":\n",
        "        optmizer = keras.optimizers.RMSprop(learning_rate=learning_rate)\n",
        "    elif optimizer == \"Adam\":\n",
        "        optmizer = keras.optimizers.Adam(learning_rate=learning_rate)\n",
        "    else:\n",
        "        raise NotImplementedError\n",
        "    model.compile(loss=loss, optimizer=optimizer, metrics=[metric])\n",
        "    \n",
        "    return model"
      ],
      "execution_count": 17,
      "outputs": []
    },
    {
      "cell_type": "code",
      "metadata": {
        "id": "lD9VKvPdorMX"
      },
      "source": [
        "model = build_MLP(input_size=len(feats_dict), output_size=num_classes,\n",
        "                  num_layers=2, hidden_size=200, activation=\"relu\",\n",
        "                  l2_reg=0.005)\n",
        "checkpointer = keras.callbacks.ModelCheckpoint(\n",
        "    filepath=os.path.join(\"models\", \"weights.hdf5\"),\n",
        "    monitor=\"val_accuracy\",\n",
        "    verbose=0,\n",
        "    save_best_only=True)\n",
        "\n",
        "reduce_lr = keras.callbacks.ReduceLROnPlateau(monitor='val_accuracy', factor=0.1, patience=3, verbose=0)\n",
        "\n",
        "earlystopping = keras.callbacks.EarlyStopping(\n",
        "    monitor='val_accuracy',\n",
        "    patience=5,\n",
        "    verbose=0)\n",
        "\n",
        "np.random.seed(0)\n",
        "tf.random.set_seed(0)\n",
        "mlp_history = model.fit(train_feats_matrix, train_label_matrix,\n",
        "                    validation_split=0.1,\n",
        "                    epochs=100, batch_size=100, verbose=0,\n",
        "                    callbacks=[checkpointer, earlystopping, reduce_lr])\n",
        "model = keras.models.load_model(os.path.join(\"models\", \"weights.hdf5\"))\n",
        "\n",
        "train_score = model.evaluate(train_feats_matrix, train_label_matrix,\n",
        "                             batch_size=100)\n",
        "valid_score = model.evaluate(valid_feats_matrix, valid_label_matrix,\n",
        "                            batch_size=100)\n",
        "print(\"training loss:\", train_score[0], \"training accuracy\", train_score[1])\n",
        "print(\"valid loss:\", valid_score[0], \"valid accuracy\", valid_score[1])"
      ],
      "execution_count": null,
      "outputs": []
    },
    {
      "cell_type": "code",
      "metadata": {
        "colab": {
          "base_uri": "https://localhost:8080/",
          "height": 388
        },
        "id": "-PRJlrcorMds",
        "outputId": "b992a538-5db4-4691-9600-1bb039852d60"
      },
      "source": [
        "plt.figure(figsize=(15,6))\n",
        "plt.subplot(1,2,1)\n",
        "plt.plot(slp_history.history[\"loss\"], label=\"SLP-training\", color=\"blue\", linestyle=\"dashed\")\n",
        "plt.plot(slp_history.history[\"val_loss\"], label=\"SLP-validation\", color=\"blue\")\n",
        "plt.plot(mlp_history.history[\"loss\"], label=\"MLP-training\", color=\"orange\", linestyle=\"dashed\")\n",
        "plt.plot(mlp_history.history[\"val_loss\"], label=\"MLP-validation\", color=\"orange\")\n",
        "plt.xlabel(\"Iteration\")\n",
        "plt.ylabel(\"Loss\")\n",
        "plt.legend()\n",
        "plt.subplot(1,2,2)\n",
        "plt.plot(slp_history.history[\"accuracy\"], label=\"SLP-training\", color=\"blue\", linestyle=\"dashed\")\n",
        "plt.plot(slp_history.history[\"val_accuracy\"], label=\"SLP-validation\", color=\"blue\")\n",
        "plt.plot(mlp_history.history[\"accuracy\"], label=\"MLP-training\", color=\"orange\", linestyle=\"dashed\")\n",
        "plt.plot(mlp_history.history[\"val_accuracy\"], label=\"MLP-validation\", color=\"orange\")\n",
        "plt.xlabel(\"Iteration\")\n",
        "plt.ylabel(\"Accuracy\")\n",
        "plt.legend()\n",
        "plt.show()"
      ],
      "execution_count": 34,
      "outputs": [
        {
          "output_type": "display_data",
          "data": {
            "image/png": "[encoded data removed]",
            "text/plain": [
              "<Figure size 1080x432 with 2 Axes>"
            ]
          },
          "metadata": {
            "tags": [],
            "needs_background": "light"
          }
        }
      ]
    },
    {
      "cell_type": "markdown",
      "metadata": {
        "id": "pfEVkdcutlaI"
      },
      "source": [
        "Adding dropout to avoid overfitting"
      ]
    },
    {
      "cell_type": "code",
      "metadata": {
        "colab": {
          "base_uri": "https://localhost:8080/"
        },
        "id": "eImiNMxgtCUv",
        "outputId": "c2e48ea9-5470-42ff-bab9-0164fec98aaa"
      },
      "source": [
        "model = build_MLP(input_size=len(feats_dict), output_size=num_classes,\n",
        "                  num_layers=3, hidden_size=200, activation=\"relu\",\n",
        "                  l2_reg=0.005, dropout_rate=0.5)\n",
        "checkpointer = keras.callbacks.ModelCheckpoint(\n",
        "    filepath=os.path.join(\"models\", \"weights.hdf5\"),\n",
        "    monitor=\"val_accuracy\",\n",
        "    verbose=0,\n",
        "    save_best_only=True)\n",
        "\n",
        "earlystopping = keras.callbacks.EarlyStopping(\n",
        "    monitor='val_accuracy',\n",
        "    patience=5,\n",
        "    verbose=1)\n",
        "\n",
        "np.random.seed(0)\n",
        "tf.random.set_seed(0)\n",
        "drop_history = model.fit(train_feats_matrix, train_label_matrix,\n",
        "                    validation_split=0.1,\n",
        "                    epochs=20, batch_size=100, verbose=0,\n",
        "                    callbacks=[checkpointer, earlystopping])\n",
        "model = keras.models.load_model(os.path.join(\"models\", \"weights.hdf5\"))\n",
        "\n",
        "train_score = model.evaluate(train_feats_matrix, train_label_matrix,\n",
        "                             batch_size=100)\n",
        "valid_score = model.evaluate(valid_feats_matrix, valid_label_matrix,\n",
        "                            batch_size=100)\n",
        "print(\"training loss:\", train_score[0], \"training accuracy\", train_score[1])\n",
        "print(\"valid loss:\", valid_score[0], \"valid accuracy\", valid_score[1])"
      ],
      "execution_count": 48,
      "outputs": [
        {
          "output_type": "stream",
          "text": [
            "Epoch 00008: early stopping\n",
            "100/100 [==============================] - 1s 7ms/step - loss: 3.1950 - accuracy: 0.7122\n",
            "20/20 [==============================] - 0s 8ms/step - loss: 3.3731 - accuracy: 0.5985\n",
            "training loss: 3.1950221061706543 training accuracy 0.7121999859809875\n",
            "valid loss: 3.373110055923462 valid accuracy 0.5985000133514404\n"
          ],
          "name": "stdout"
        }
      ]
    },
    {
      "cell_type": "code",
      "metadata": {
        "colab": {
          "base_uri": "https://localhost:8080/",
          "height": 388
        },
        "id": "KLH50iBXtxFp",
        "outputId": "f0a01340-8b58-4ac3-c07e-ff95c384cefe"
      },
      "source": [
        "plt.figure(figsize=(15,6))\n",
        "plt.subplot(1,2,1)\n",
        "plt.plot(mlp_history.history[\"loss\"], label=\"MLP-training\", color=\"blue\", linestyle=\"dashed\")\n",
        "plt.plot(mlp_history.history[\"val_loss\"], label=\"MLP-validation\", color=\"blue\")\n",
        "plt.plot(drop_history.history[\"loss\"], label=\"MLP-training (dropout)\", color=\"orange\", linestyle=\"dashed\")\n",
        "plt.plot(drop_history.history[\"val_loss\"], label=\"MLP-validation (dropout)\", color=\"orange\")\n",
        "plt.xlabel(\"Iteration\")\n",
        "plt.ylabel(\"Loss\")\n",
        "plt.legend()\n",
        "plt.subplot(1,2,2)\n",
        "plt.plot(mlp_history.history[\"accuracy\"], label=\"MLP-training\", color=\"blue\", linestyle=\"dashed\")\n",
        "plt.plot(mlp_history.history[\"val_accuracy\"], label=\"MLP-validation\", color=\"blue\")\n",
        "plt.plot(drop_history.history[\"accuracy\"], label=\"MLP-training (dropout)\", color=\"orange\", linestyle=\"dashed\")\n",
        "plt.plot(drop_history.history[\"val_accuracy\"], label=\"MLP-validation (dropout)\", color=\"orange\")\n",
        "plt.xlabel(\"Iteration\")\n",
        "plt.ylabel(\"Accuracy\")\n",
        "plt.legend()\n",
        "plt.show()"
      ],
      "execution_count": null,
      "outputs": [
        {
          "output_type": "display_data",
          "data": {
            "image/png": "[encoded data removed]",
            "text/plain": [
              "<Figure size 1080x432 with 2 Axes>"
            ]
          },
          "metadata": {
            "tags": [],
            "needs_background": "light"
          }
        }
      ]
    },
    {
      "cell_type": "markdown",
      "metadata": {
        "id": "ggfgTq6nuQgU"
      },
      "source": [
        "Layer Normalisation vs Batch Normalisation"
      ]
    },
    {
      "cell_type": "code",
      "metadata": {
        "colab": {
          "base_uri": "https://localhost:8080/"
        },
        "id": "qSFM7di3uCFe",
        "outputId": "64a0d076-96c3-4638-c867-95c5cc399d5a"
      },
      "source": [
        "histories = list()\n",
        "for batch_norm in [False, True]:\n",
        "    for layer_norm in [False, True]:\n",
        "        model = build_MLP(input_size=len(feats_dict), output_size=num_classes,\n",
        "                          num_layers=3, hidden_size=200, activation=\"relu\",\n",
        "                          batch_norm=batch_norm, layer_norm=layer_norm)\n",
        "        checkpointer = keras.callbacks.ModelCheckpoint(\n",
        "            filepath=os.path.join(\"models\", \"weights.hdf5\"),\n",
        "            monitor=\"val_accuracy\",\n",
        "            verbose=0,\n",
        "            save_best_only=True)\n",
        "        \n",
        "        earlystopping = keras.callbacks.EarlyStopping(\n",
        "            monitor='val_accuracy',\n",
        "            patience=5,\n",
        "            verbose=0)\n",
        "\n",
        "        np.random.seed(0)\n",
        "        tf.random.set_seed(0)\n",
        "        history = model.fit(train_feats_matrix, train_label_matrix,\n",
        "                            validation_split=0.1,\n",
        "                            epochs=20, batch_size=100, verbose=0,\n",
        "                            callbacks=[checkpointer, earlystopping])\n",
        "        model = keras.models.load_model(os.path.join(\"models\", \"weights.hdf5\"),\n",
        "                                        custom_objects={\"LayerNormalization\": LayerNormalization})\n",
        "\n",
        "        train_score = model.evaluate(train_feats_matrix, train_label_matrix,\n",
        "                                     batch_size=100)\n",
        "        valid_score = model.evaluate(valid_feats_matrix, valid_label_matrix,\n",
        "                            batch_size=100)\n",
        "        \n",
        "        histories.append((batch_norm, layer_norm, history))\n",
        "        print(\"batch normalization:\", batch_norm, \"layer normalization:\", layer_norm)        \n",
        "        print(\"training loss:\", train_score[0], \"training accuracy\", train_score[1])\n",
        "        print(\"valid loss:\", valid_score[0], \"valid accuracy\", valid_score[1])"
      ],
      "execution_count": null,
      "outputs": [
        {
          "output_type": "stream",
          "text": [
            "100/100 [==============================] - 0s 3ms/step - loss: 0.7867 - accuracy: 0.6981\n",
            "20/20 [==============================] - 0s 3ms/step - loss: 0.9732 - accuracy: 0.5935\n",
            "batch normalization: False layer normalization: False\n",
            "training loss: 0.7867135405540466 training accuracy 0.6980999708175659\n",
            "valid loss: 0.9732145071029663 valid accuracy 0.593500018119812\n",
            "100/100 [==============================] - 0s 3ms/step - loss: 0.1628 - accuracy: 0.9566\n",
            "20/20 [==============================] - 0s 3ms/step - loss: 1.4560 - accuracy: 0.5535\n",
            "batch normalization: False layer normalization: True\n",
            "training loss: 0.16280031204223633 training accuracy 0.95660001039505\n",
            "valid loss: 1.4560234546661377 valid accuracy 0.5534999966621399\n",
            "100/100 [==============================] - 0s 3ms/step - loss: 0.1605 - accuracy: 0.9560\n",
            "20/20 [==============================] - 0s 3ms/step - loss: 1.6446 - accuracy: 0.5375\n",
            "batch normalization: True layer normalization: False\n",
            "training loss: 0.16054598987102509 training accuracy 0.9559999704360962\n",
            "valid loss: 1.6445722579956055 valid accuracy 0.5375000238418579\n",
            "100/100 [==============================] - 0s 3ms/step - loss: 0.1546 - accuracy: 0.9559\n",
            "20/20 [==============================] - 0s 3ms/step - loss: 1.4357 - accuracy: 0.5565\n",
            "batch normalization: True layer normalization: True\n",
            "training loss: 0.15457606315612793 training accuracy 0.9559000134468079\n",
            "valid loss: 1.435690999031067 valid accuracy 0.5565000176429749\n"
          ],
          "name": "stdout"
        }
      ]
    },
    {
      "cell_type": "code",
      "metadata": {
        "colab": {
          "base_uri": "https://localhost:8080/",
          "height": 510
        },
        "id": "GWb0Zkufu1Bt",
        "outputId": "a0d40fa1-9967-449a-cf3d-d703b3792a99"
      },
      "source": [
        "colors = [\"orange\", \"gray\", \"red\", \"blue\"]\n",
        "plt.figure(figsize=(15,6))\n",
        "\n",
        "for i, (batch_norm, layer_norm, history) in enumerate(histories):\n",
        "    if batch_norm and layer_norm:\n",
        "        name = \" (bn & ln)\"\n",
        "    elif batch_norm and not layer_norm:\n",
        "        name = \" (bn)\"\n",
        "    elif not batch_norm and layer_norm:\n",
        "        name = \" (ln)\"\n",
        "    else:\n",
        "        name = \"\"\n",
        "    plt.subplot(1,2,1)\n",
        "    plt.plot(history.history[\"loss\"], label=\"MLP-training\" + name, color=colors[i], linestyle=\"dashed\")\n",
        "    plt.plot(history.history[\"val_loss\"], label=\"MLP-validation\" + name, color=colors[i])\n",
        "    plt.subplot(1,2,2)\n",
        "    plt.plot(history.history[\"accuracy\"], label=\"MLP-training\" + name, color=colors[i], linestyle=\"dashed\")\n",
        "    plt.plot(history.history[\"val_accuracy\"], label=\"MLP-validation\" + name, color=colors[i])\n",
        "plt.subplot(1,2,1)\n",
        "plt.xlabel(\"Iteration\")\n",
        "plt.ylabel(\"Loss\")\n",
        "plt.legend(fontsize=8)\n",
        "plt.subplot(1,2,2)\n",
        "plt.xlabel(\"Iteration\")\n",
        "plt.ylabel(\"Accuracy\")\n",
        "# plt.legend()\n",
        "plt.show()"
      ],
      "execution_count": null,
      "outputs": [
        {
          "output_type": "stream",
          "text": [
            "/usr/local/lib/python3.7/dist-packages/ipykernel_launcher.py:13: MatplotlibDeprecationWarning: Adding an axes using the same arguments as a previous axes currently reuses the earlier instance.  In a future version, a new instance will always be created and returned.  Meanwhile, this warning can be suppressed, and the future behavior ensured, by passing a unique label to each axes instance.\n",
            "  del sys.path[0]\n",
            "/usr/local/lib/python3.7/dist-packages/ipykernel_launcher.py:16: MatplotlibDeprecationWarning: Adding an axes using the same arguments as a previous axes currently reuses the earlier instance.  In a future version, a new instance will always be created and returned.  Meanwhile, this warning can be suppressed, and the future behavior ensured, by passing a unique label to each axes instance.\n",
            "  app.launch_new_instance()\n",
            "/usr/local/lib/python3.7/dist-packages/ipykernel_launcher.py:19: MatplotlibDeprecationWarning: Adding an axes using the same arguments as a previous axes currently reuses the earlier instance.  In a future version, a new instance will always be created and returned.  Meanwhile, this warning can be suppressed, and the future behavior ensured, by passing a unique label to each axes instance.\n",
            "/usr/local/lib/python3.7/dist-packages/ipykernel_launcher.py:23: MatplotlibDeprecationWarning: Adding an axes using the same arguments as a previous axes currently reuses the earlier instance.  In a future version, a new instance will always be created and returned.  Meanwhile, this warning can be suppressed, and the future behavior ensured, by passing a unique label to each axes instance.\n"
          ],
          "name": "stderr"
        },
        {
          "output_type": "display_data",
          "data": {
            "image/png": "[encoded data removed]",
            "text/plain": [
              "<Figure size 1080x432 with 2 Axes>"
            ]
          },
          "metadata": {
            "tags": [],
            "needs_background": "light"
          }
        }
      ]
    },
    {
      "cell_type": "markdown",
      "metadata": {
        "id": "MU24W6od_2f5"
      },
      "source": [
        "Residual Connection"
      ]
    },
    {
      "cell_type": "code",
      "metadata": {
        "id": "GqfT4VXj_zT-"
      },
      "source": [
        "def build_Res_Net(input_size, output_size, num_layers, hidden_size,\n",
        "              activation=\"relu\",\n",
        "              dropout_rate=0.0,\n",
        "              batch_norm=False,\n",
        "              layer_norm=False,\n",
        "              l2_reg=0.0,\n",
        "              loss=\"categorical_crossentropy\",\n",
        "              optimizer=\"SGD\",\n",
        "              learning_rate=0.1,\n",
        "              metric=\"accuracy\"):\n",
        "    \"\"\"\n",
        "    :param input_size: the dimension of the input, type: int\n",
        "    :param output_size: the dimension of the prediction, type: int\n",
        "    :param num_layers: the number of layers, type: int\n",
        "    :param hidden_size: the dimension of the hidden states, type: int\n",
        "    :param activation: the activation type, type: str\n",
        "    :param dropout_rate: the probability of dropout, type: float\n",
        "    :param batch_norm: whether to enable batch normalization, type: bool\n",
        "    :param layer_norm: whether to enable layer normalization, type: bool\n",
        "    :param l2_reg: the weight for the L2 regularizer, type: str\n",
        "    :param loss: the training loss, type: str\n",
        "    :param optimizer: the optimizer, type: str\n",
        "    :param learning_rate: the learning rate for the optimizer, type: float\n",
        "    :param metric: the metric, type: str\n",
        "    return a multi-layer network with residual connections,\n",
        "    # activation\n",
        "    # dropout document: https://keras.io/layers/core/#dropout\n",
        "    # batch normalization document: https://keras.io/layers/normalization/\n",
        "    # layer normalization: https://github.com/CyberZHG/keras-layer-normalization\n",
        "    # losses document: https://keras.io/losses/\n",
        "    # optimizers document: https://keras.io/optimizers/\n",
        "    # metrics document: https://keras.io/metrics/\n",
        "    \"\"\"\n",
        "    x = Input(shape=(input_size,))\n",
        "    \n",
        "    if num_layers == 1:\n",
        "        y = Dense(output_size,\n",
        "                  activation=\"softmax\",\n",
        "                  input_dim=input_size,\n",
        "                  kernel_initializer=keras.initializers.he_normal(seed=0),\n",
        "                  bias_initializer=\"zeros\",\n",
        "                  kernel_regularizer=keras.regularizers.l2(l2_reg))(x)\n",
        "    else:\n",
        "        h = x\n",
        "        for i in range(num_layers-1):\n",
        "            if i == 0:\n",
        "                # fitst layer: input -> hidden\n",
        "                new_h = Dense(hidden_size,\n",
        "                          input_dim=input_size,\n",
        "                          kernel_initializer=keras.initializers.he_normal(seed=0),\n",
        "                          bias_initializer=\"zeros\",\n",
        "                          kernel_regularizer=keras.regularizers.l2(l2_reg))(h)\n",
        "            else:\n",
        "                new_h = Dense(hidden_size,\n",
        "                          input_dim=hidden_size,\n",
        "                          kernel_initializer=keras.initializers.he_normal(seed=0),\n",
        "                          bias_initializer=\"zeros\",\n",
        "                          kernel_regularizer=keras.regularizers.l2(l2_reg))(h)\n",
        "            # add layer_norm\n",
        "            if layer_norm:\n",
        "                new_h = LayerNormalization()(new_h)\n",
        "            # add batch_norm\n",
        "            if batch_norm:\n",
        "                new_h = BatchNormalization()(new_h)\n",
        "            # residual connection\n",
        "            if i == 0:\n",
        "                h = new_h\n",
        "            else:\n",
        "                h = Add()([h, new_h])\n",
        "            # add activation\n",
        "            h = Activation(activation)(h)\n",
        "            # add dropout here (set seed as 0 in order to reproduce)\n",
        "            if dropout_rate > 0.0:\n",
        "                h = Dropout(dropout_rate, seed=0)(h)\n",
        "        # last layer: hidden -> class\n",
        "        y = Dense(output_size,\n",
        "                  activation=\"softmax\",\n",
        "                  input_dim=hidden_size,\n",
        "                  kernel_initializer=keras.initializers.he_normal(seed=0),\n",
        "                  bias_initializer=\"zeros\")(h)\n",
        "    \n",
        "    # set the loss, the optimizer, and the metric\n",
        "    if optimizer == \"SGD\":\n",
        "        optimizer = keras.optimizers.SGD(lr=learning_rate)\n",
        "    elif optimizer == \"RMSprop\":\n",
        "        optmizer = keras.optimizers.RMSprop(learning_rate=learning_rate)\n",
        "    elif optimizer == \"Adam\":\n",
        "        optmizer = keras.optimizers.Adam(learning_rate=learning_rate)\n",
        "    else:\n",
        "        raise NotImplementedError\n",
        "    model = Model(x, y)\n",
        "    model.compile(loss=loss, optimizer=optimizer, metrics=[metric])\n",
        "    \n",
        "    return model"
      ],
      "execution_count": null,
      "outputs": []
    },
    {
      "cell_type": "code",
      "metadata": {
        "colab": {
          "base_uri": "https://localhost:8080/"
        },
        "id": "GTD1-RFd_5iX",
        "outputId": "e04982d0-f6c3-4616-eac5-4109b4fe70f9"
      },
      "source": [
        "model = build_Res_Net(input_size=len(feats_dict), output_size=num_classes,\n",
        "                  num_layers=3, hidden_size=200, activation=\"relu\",\n",
        "                  l2_reg=0.005, dropout_rate=0.1)\n",
        "checkpointer = keras.callbacks.ModelCheckpoint(\n",
        "    filepath=os.path.join(\"models\", \"weights.hdf5\"),\n",
        "    monitor=\"val_accuracy\",\n",
        "    verbose=0,\n",
        "    save_best_only=True)\n",
        "\n",
        "earlystopping = keras.callbacks.EarlyStopping(\n",
        "    monitor='val_accuracy',\n",
        "    patience=5,\n",
        "    verbose=0)\n",
        "\n",
        "np.random.seed(0)\n",
        "# tf.random.set_seed(0)\n",
        "res_history = model.fit(train_feats_matrix, train_label_matrix,\n",
        "                        validation_split=0.1,\n",
        "                        epochs=20, batch_size=100, verbose=0,\n",
        "                        callbacks=[checkpointer, earlystopping])\n",
        "model = keras.models.load_model(os.path.join(\"models\", \"weights.hdf5\"))\n",
        "\n",
        "train_score = model.evaluate(train_feats_matrix, train_label_matrix,\n",
        "                             batch_size=100)\n",
        "valid_score = model.evaluate(valid_feats_matrix, valid_label_matrix,\n",
        "                            batch_size=100)\n",
        "print(\"training loss:\", train_score[0], \"training accuracy\", train_score[1])\n",
        "print(\"valid loss:\", valid_score[0], \"valid accuracy\", valid_score[1])"
      ],
      "execution_count": null,
      "outputs": [
        {
          "output_type": "stream",
          "text": [
            "100/100 [==============================] - 0s 3ms/step - loss: 3.7071 - accuracy: 0.6681\n",
            "20/20 [==============================] - 0s 3ms/step - loss: 3.8281 - accuracy: 0.5855\n",
            "training loss: 3.707082509994507 training accuracy 0.6680999994277954\n",
            "valid loss: 3.828061580657959 valid accuracy 0.5855000019073486\n"
          ],
          "name": "stdout"
        }
      ]
    },
    {
      "cell_type": "code",
      "metadata": {
        "colab": {
          "base_uri": "https://localhost:8080/",
          "height": 279
        },
        "id": "WDz0aVqiADkQ",
        "outputId": "acb9a3d3-d450-43ad-b853-5bc8154125a3"
      },
      "source": [
        "plt.figure(figsize=(10,4))\n",
        "plt.subplot(1,2,1)\n",
        "plt.plot(drop_history.history[\"loss\"], label=\"MLP-training\", color=\"blue\", linestyle=\"dashed\")\n",
        "plt.plot(drop_history.history[\"val_loss\"], label=\"MLP-validation\", color=\"blue\")\n",
        "plt.plot(res_history.history[\"loss\"], label=\"Res-training\", color=\"orange\", linestyle=\"dashed\")\n",
        "plt.plot(res_history.history[\"val_loss\"], label=\"Res-validation\", color=\"orange\")\n",
        "plt.xlabel(\"Iteration\")\n",
        "plt.ylabel(\"Loss\")\n",
        "plt.legend()\n",
        "plt.subplot(1,2,2)\n",
        "plt.plot(drop_history.history[\"accuracy\"], label=\"MLP-training\", color=\"blue\", linestyle=\"dashed\")\n",
        "plt.plot(drop_history.history[\"val_accuracy\"], label=\"MLP-validation\", color=\"blue\")\n",
        "plt.plot(res_history.history[\"accuracy\"], label=\"Res-training\", color=\"orange\", linestyle=\"dashed\")\n",
        "plt.plot(res_history.history[\"val_accuracy\"], label=\"Res-validation\", color=\"orange\")\n",
        "plt.xlabel(\"Iteration\")\n",
        "plt.ylabel(\"Accuracy\")\n",
        "plt.legend()\n",
        "plt.show()"
      ],
      "execution_count": null,
      "outputs": [
        {
          "output_type": "display_data",
          "data": {
            "image/png": "[encoded data removed]",
            "text/plain": [
              "<Figure size 720x288 with 2 Axes>"
            ]
          },
          "metadata": {
            "tags": [],
            "needs_background": "light"
          }
        }
      ]
    },
    {
      "cell_type": "markdown",
      "metadata": {
        "id": "7z1tsyIrALjk"
      },
      "source": [
        "Concatenation"
      ]
    },
    {
      "cell_type": "code",
      "metadata": {
        "id": "0aY9IRAaAEpz"
      },
      "source": [
        "def build_Cat_Net(input_size, output_size, num_layers, hidden_size,\n",
        "              activation=\"relu\",\n",
        "              dropout_rate=0.0,\n",
        "              batch_norm=False,\n",
        "              layer_norm=False,\n",
        "              l2_reg=0.0,\n",
        "              loss=\"categorical_crossentropy\",\n",
        "              optimizer=\"SGD\",\n",
        "              learning_rate=0.1,\n",
        "              metric=\"accuracy\"):\n",
        "    \"\"\"\n",
        "    :param input_size: the dimension of the input, type: int\n",
        "    :param output_size: the dimension of the prediction, type: int\n",
        "    :param num_layers: the number of layers, type: int\n",
        "    :param hidden_size: the dimension of the hidden states, type: int\n",
        "    :param activation: the activation type, type: str\n",
        "    :param dropout_rate: the probability of dropout, type: float\n",
        "    :param batch_norm: whether to enable batch normalization, type: bool\n",
        "    :param layer_norm: whether to enable layer normalization, type: bool\n",
        "    :param l2_reg: the weight for the L2 regularizer, type: str\n",
        "    :param loss: the training loss, type: str\n",
        "    :param optimizer: the optimizer, type: str\n",
        "    :param learning_rate: the learning rate for the optimizer, type: float\n",
        "    :param metric: the metric, type: str\n",
        "    return a multi-layer networks with concatenations,\n",
        "    # activation\n",
        "    # dropout document: https://keras.io/layers/core/#dropout\n",
        "    # batch normalization document: https://keras.io/layers/normalization/\n",
        "    # layer normalization: https://github.com/CyberZHG/keras-layer-normalization\n",
        "    # losses document: https://keras.io/losses/\n",
        "    # optimizers document: https://keras.io/optimizers/\n",
        "    # metrics document: https://keras.io/metrics/\n",
        "    \"\"\"\n",
        "    x = Input(shape=(input_size,))\n",
        "    \n",
        "    if num_layers == 1:\n",
        "        y = Dense(output_size,\n",
        "                  activation=\"softmax\",\n",
        "                  input_dim=input_size,\n",
        "                  kernel_initializer=keras.initializers.he_normal(seed=0),\n",
        "                  bias_initializer=\"zeros\",\n",
        "                  kernel_regularizer=keras.regularizers.l2(l2_reg))(x)\n",
        "    else:\n",
        "        h = x\n",
        "        for i in range(num_layers-1):\n",
        "            if i == 0:\n",
        "                # fitst layer: input -> hidden\n",
        "                new_h = Dense(hidden_size,\n",
        "                          input_dim=input_size,\n",
        "                          kernel_initializer=keras.initializers.he_normal(seed=0),\n",
        "                          bias_initializer=\"zeros\",\n",
        "                          kernel_regularizer=keras.regularizers.l2(l2_reg))(h)\n",
        "            else:\n",
        "                new_h = Dense(hidden_size,\n",
        "                          kernel_initializer=keras.initializers.he_normal(seed=0),\n",
        "                          bias_initializer=\"zeros\",\n",
        "                          kernel_regularizer=keras.regularizers.l2(l2_reg))(h)\n",
        "            # add layer_norm\n",
        "            if layer_norm:\n",
        "                new_h = LayerNormalization()(new_h)\n",
        "            # add batch_norm\n",
        "            if batch_norm:\n",
        "                new_h = BatchNormalization()(new_h)\n",
        "            # residual connection\n",
        "            if i == 0:\n",
        "                h = new_h\n",
        "            else:\n",
        "                h = Concatenate()([h, new_h])\n",
        "            # add activation\n",
        "            h = Activation(activation)(h)\n",
        "            # add dropout here (set seed as 0 in order to reproduce)\n",
        "            if dropout_rate > 0.0:\n",
        "                h = Dropout(dropout_rate, seed=0)(h)\n",
        "        # last layer: hidden -> class\n",
        "        y = Dense(output_size,\n",
        "                  activation=\"softmax\",\n",
        "                  kernel_initializer=keras.initializers.he_normal(seed=0),\n",
        "                  bias_initializer=\"zeros\")(h)\n",
        "    \n",
        "    # set the loss, the optimizer, and the metric\n",
        "    if optimizer == \"SGD\":\n",
        "        optimizer = keras.optimizers.SGD(lr=learning_rate)\n",
        "    elif optimizer == \"RMSprop\":\n",
        "        optmizer = keras.optimizers.RMSprop(learning_rate=learning_rate)\n",
        "    elif optimizer == \"Adam\":\n",
        "        optmizer = keras.optimizers.Adam(learning_rate=learning_rate)\n",
        "    else:\n",
        "        raise NotImplementedError\n",
        "    model = Model(x, y)\n",
        "    model.compile(loss=loss, optimizer=optimizer, metrics=[metric])\n",
        "    \n",
        "    return model"
      ],
      "execution_count": null,
      "outputs": []
    },
    {
      "cell_type": "code",
      "metadata": {
        "colab": {
          "base_uri": "https://localhost:8080/"
        },
        "id": "432X4B8NAQe3",
        "outputId": "36124755-9bba-40a1-f2d1-8b815ff4c833"
      },
      "source": [
        "model = build_Cat_Net(input_size=len(feats_dict), output_size=num_classes,\n",
        "                  num_layers=3, hidden_size=200, activation=\"relu\",\n",
        "                  l2_reg=0.005, dropout_rate=0.0)\n",
        "checkpointer = keras.callbacks.ModelCheckpoint(\n",
        "    filepath=os.path.join(\"models\", \"weights.hdf5\"),\n",
        "    monitor=\"val_accuracy\",\n",
        "    verbose=0,\n",
        "    save_best_only=True)\n",
        "\n",
        "earlystopping = keras.callbacks.EarlyStopping(\n",
        "    monitor='val_accuracy',\n",
        "    patience=5,\n",
        "    verbose=0)\n",
        "\n",
        "np.random.seed(0)\n",
        "# tf.random.set_seed(0)\n",
        "cat_history = model.fit(train_feats_matrix, train_label_matrix,\n",
        "                        validation_split=0.1,\n",
        "                        epochs=20, batch_size=100, verbose=0,\n",
        "                        callbacks=[checkpointer, earlystopping])\n",
        "model = keras.models.load_model(os.path.join(\"models\", \"weights.hdf5\"))\n",
        "\n",
        "train_score = model.evaluate(train_feats_matrix, train_label_matrix,\n",
        "                             batch_size=100)\n",
        "valid_score = model.evaluate(valid_feats_matrix, valid_label_matrix,\n",
        "                            batch_size=100)\n",
        "print(\"training loss:\", train_score[0], \"training accuracy\", train_score[1])\n",
        "print(\"valid loss:\", valid_score[0], \"valid accuracy\", valid_score[1])"
      ],
      "execution_count": null,
      "outputs": [
        {
          "output_type": "stream",
          "text": [
            "100/100 [==============================] - 0s 3ms/step - loss: 3.7529 - accuracy: 0.6390\n",
            "20/20 [==============================] - 0s 3ms/step - loss: 3.8455 - accuracy: 0.5815\n",
            "training loss: 3.752880573272705 training accuracy 0.6389999985694885\n",
            "valid loss: 3.8454501628875732 valid accuracy 0.5814999938011169\n"
          ],
          "name": "stdout"
        }
      ]
    },
    {
      "cell_type": "code",
      "metadata": {
        "colab": {
          "base_uri": "https://localhost:8080/",
          "height": 388
        },
        "id": "pP0tVZ10AUMA",
        "outputId": "f756ad84-a57f-461a-ed0c-bb69f789784d"
      },
      "source": [
        "plt.figure(figsize=(15,6))\n",
        "plt.subplot(1,2,1)\n",
        "plt.plot(drop_history.history[\"loss\"], label=\"MLP-training\", color=\"blue\", linestyle=\"dashed\")\n",
        "plt.plot(drop_history.history[\"val_loss\"], label=\"MLP-validation\", color=\"blue\")\n",
        "plt.plot(res_history.history[\"loss\"], label=\"Res-training\", color=\"orange\", linestyle=\"dashed\")\n",
        "plt.plot(res_history.history[\"val_loss\"], label=\"Res-validation\", color=\"orange\")\n",
        "plt.plot(cat_history.history[\"loss\"], label=\"Cat-training\", color=\"red\", linestyle=\"dashed\")\n",
        "plt.plot(cat_history.history[\"val_loss\"], label=\"Cat-validation\", color=\"red\")\n",
        "plt.xlabel(\"Iteration\")\n",
        "plt.ylabel(\"Loss\")\n",
        "plt.legend()\n",
        "plt.subplot(1,2,2)\n",
        "plt.plot(drop_history.history[\"accuracy\"], label=\"MLP-training\", color=\"blue\", linestyle=\"dashed\")\n",
        "plt.plot(drop_history.history[\"val_accuracy\"], label=\"MLP-validation\", color=\"blue\")\n",
        "plt.plot(res_history.history[\"accuracy\"], label=\"Res-training\", color=\"orange\", linestyle=\"dashed\")\n",
        "plt.plot(res_history.history[\"val_accuracy\"], label=\"Res-validation\", color=\"orange\")\n",
        "plt.plot(cat_history.history[\"accuracy\"], label=\"Cat-training\", color=\"red\", linestyle=\"dashed\")\n",
        "plt.plot(cat_history.history[\"val_accuracy\"], label=\"Cat-validation\", color=\"red\")\n",
        "plt.xlabel(\"Iteration\")\n",
        "plt.ylabel(\"Accuracy\")\n",
        "plt.legend()\n",
        "plt.show()"
      ],
      "execution_count": null,
      "outputs": [
        {
          "output_type": "display_data",
          "data": {
            "image/png": "[encoded data removed]",
            "text/plain": [
              "<Figure size 1080x432 with 2 Axes>"
            ]
          },
          "metadata": {
            "tags": [],
            "needs_background": "light"
          }
        }
      ]
    },
    {
      "cell_type": "markdown",
      "metadata": {
        "id": "kKqqWqLnIjWN"
      },
      "source": [
        "Try to get the data from a data loader"
      ]
    },
    {
      "cell_type": "markdown",
      "metadata": {
        "id": "InJ-UyL06_pr"
      },
      "source": [
        "Text Generator - To avoid shortage of RAM "
      ]
    },
    {
      "cell_type": "code",
      "metadata": {
        "id": "8fZkk6zKpa8u"
      },
      "source": [
        "BATCH_SIZE = 100\n",
        "TARGET_SIZE = (128, 128, 3)\n",
        "# AVERAGED_LATENT = sum_latent / total_images\n",
        "class TextSequence(Sequence):\n",
        "    def __init__(self, usage, x, y, shuf):\n",
        "        self.usage = usage\n",
        "        self.x = x\n",
        "        self.y = y\n",
        "        self.shuf = shuf\n",
        "\n",
        "    def __len__(self):\n",
        "        return len(self.x) // BATCH_SIZE\n",
        "\n",
        "    def __getitem__(self, idx):\n",
        "        index_sent = idx * BATCH_SIZE\n",
        "        length = min(BATCH_SIZE, (len(self.x) - index_sent))\n",
        "        batch_y = self.y[index_sent:index_sent+length]\n",
        "        batch_x = self.x[index_sent:index_sent+length]\n",
        "\n",
        "        return batch_x, batch_y\n",
        "\n",
        "    def on_epoch_end(self):\n",
        "        if self.shuf == True:\n",
        "            self.x, self.y = shuffle(self.x, self.y)"
      ],
      "execution_count": null,
      "outputs": []
    },
    {
      "cell_type": "code",
      "metadata": {
        "id": "v8sVlNbvpbDL"
      },
      "source": [
        "# shuffle_x, shuffle_y = shuffle(train_feats_matrix, train_label_matrix)\n",
        "train_sequence = TextSequence(\"Train\", train_feats_matrix[:9000], train_label_matrix[:9000], True)\n",
        "valid_sequence = TextSequence(\"Valid\", train_feats_matrix[9000:], train_label_matrix[9000:], True)"
      ],
      "execution_count": null,
      "outputs": []
    },
    {
      "cell_type": "code",
      "metadata": {
        "id": "TVB96BRWwhTt"
      },
      "source": [
        "x, y = train_sequence.__getitem__(0)"
      ],
      "execution_count": null,
      "outputs": []
    },
    {
      "cell_type": "code",
      "metadata": {
        "colab": {
          "base_uri": "https://localhost:8080/"
        },
        "id": "dYFHxxRNwhao",
        "outputId": "96b37e2e-9ef6-4584-ed60-cfe362c313f9"
      },
      "source": [
        "x.shape, y.shape"
      ],
      "execution_count": null,
      "outputs": [
        {
          "output_type": "execute_result",
          "data": {
            "text/plain": [
              "((100, 29979), (100, 5))"
            ]
          },
          "metadata": {
            "tags": []
          },
          "execution_count": 33
        }
      ]
    },
    {
      "cell_type": "code",
      "metadata": {
        "colab": {
          "base_uri": "https://localhost:8080/"
        },
        "id": "Q2gz5dkqxP7j",
        "outputId": "3da8c824-68ce-4459-915b-4ad0bab324a8"
      },
      "source": [
        "os.makedirs(\"models\", exist_ok=True)\n",
        "# model = build_classifier(input_size=len(feats_dict), output_size=num_classes,\n",
        "#                          l2_reg=0.005)\n",
        "\n",
        "model = build_MLP(input_size=len(feats_dict), output_size=num_classes,\n",
        "                  num_layers=2, hidden_size=200, activation=\"relu\",\n",
        "                  l2_reg=0.005, dropout_rate=0.6)\n",
        "\n",
        "checkpointer = keras.callbacks.ModelCheckpoint(\n",
        "    filepath=os.path.join(\"models\", \"weights_datagen.hdf5\"),\n",
        "    monitor=\"val_accuracy\",\n",
        "    verbose=0,\n",
        "    save_best_only=True)\n",
        "\n",
        "reduce_lr = keras.callbacks.ReduceLROnPlateau(monitor='val_accuracy', factor=0.1, patience=3, verbose=0)\n",
        "\n",
        "earlystopping = keras.callbacks.EarlyStopping(\n",
        "    monitor='val_accuracy',\n",
        "    patience=5,\n",
        "    verbose=0)\n",
        "\n",
        "np.random.seed(0)\n",
        "tf.random.set_seed(0)\n",
        "\n",
        "slp_history = model.fit_generator(generator=train_sequence,\n",
        "                    epochs=20, steps_per_epoch=9000//100, callbacks=[checkpointer, earlystopping, reduce_lr], validation_data=valid_sequence, validation_steps=1000//100)\n",
        "\n",
        "# slp_history = model.fit(train_feats_matrix, train_label_matrix,\n",
        "#                     validation_split=0.1,\n",
        "#                     epochs=100, batch_size=100, verbose=0,\n",
        "#                     callbacks=[checkpointer, earlystopping, reduce_lr])\n",
        "model = keras.models.load_model(os.path.join(\"models\", \"weights_datagen.hdf5\"))\n",
        "\n",
        "train_score = model.evaluate(train_feats_sparse, train_label_matrix,\n",
        "                             batch_size=100)\n",
        "valid_score = model.evaluate(valid_feats_sparse, valid_label_matrix,\n",
        "                            batch_size=100)\n",
        "print(\"training loss:\", train_score[0], \"training accuracy\", train_score[1])\n",
        "print(\"valid loss:\", valid_score[0], \"valid accuracy\", valid_score[1])"
      ],
      "execution_count": null,
      "outputs": [
        {
          "output_type": "stream",
          "text": [
            "/usr/local/lib/python3.7/dist-packages/tensorflow/python/keras/engine/training.py:1844: UserWarning: `Model.fit_generator` is deprecated and will be removed in a future version. Please use `Model.fit`, which supports generators.\n",
            "  warnings.warn('`Model.fit_generator` is deprecated and '\n"
          ],
          "name": "stderr"
        },
        {
          "output_type": "stream",
          "text": [
            "Epoch 1/20\n",
            "90/90 [==============================] - 1s 12ms/step - loss: 3.4075 - accuracy: 0.3767 - val_loss: 2.8724 - val_accuracy: 0.5370\n",
            "Epoch 2/20\n",
            "90/90 [==============================] - 1s 10ms/step - loss: 2.7318 - accuracy: 0.5759 - val_loss: 2.5028 - val_accuracy: 0.5780\n",
            "Epoch 3/20\n",
            "90/90 [==============================] - 1s 10ms/step - loss: 2.3534 - accuracy: 0.6277 - val_loss: 2.2479 - val_accuracy: 0.5900\n",
            "Epoch 4/20\n",
            "90/90 [==============================] - 1s 10ms/step - loss: 2.0389 - accuracy: 0.6803 - val_loss: 2.0631 - val_accuracy: 0.5760\n",
            "Epoch 5/20\n",
            "90/90 [==============================] - 1s 10ms/step - loss: 1.7883 - accuracy: 0.7253 - val_loss: 1.9250 - val_accuracy: 0.5680\n",
            "Epoch 6/20\n",
            "90/90 [==============================] - 1s 10ms/step - loss: 1.5912 - accuracy: 0.7553 - val_loss: 1.7917 - val_accuracy: 0.5850\n",
            "Epoch 7/20\n",
            "90/90 [==============================] - 1s 10ms/step - loss: 1.4306 - accuracy: 0.7951 - val_loss: 1.7772 - val_accuracy: 0.5770\n",
            "Epoch 8/20\n",
            "90/90 [==============================] - 1s 10ms/step - loss: 1.4101 - accuracy: 0.8008 - val_loss: 1.7646 - val_accuracy: 0.5790\n",
            "100/100 [==============================] - 0s 2ms/step - loss: 2.0549 - accuracy: 0.7189\n",
            "20/20 [==============================] - 0s 2ms/step - loss: 2.2247 - accuracy: 0.6035\n",
            "training loss: 2.054901123046875 training accuracy 0.7189000248908997\n",
            "valid loss: 2.224721670150757 valid accuracy 0.6035000085830688\n"
          ],
          "name": "stdout"
        }
      ]
    }
  ]
}